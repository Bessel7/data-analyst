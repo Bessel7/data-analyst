{
 "cells": [
  {
   "cell_type": "code",
   "execution_count": null,
   "metadata": {
    "id": "fIiBVo_zDrOf"
   },
   "outputs": [],
   "source": []
  },
  {
   "cell_type": "markdown",
   "metadata": {
    "id": "TsYlZyrKJsr0"
   },
   "source": [
    "# Les Variables et opérateurs"
   ]
  },
  {
   "cell_type": "markdown",
   "metadata": {
    "id": "MwOQGNSfJsr6"
   },
   "source": [
    "Une variable est comme une case de mémoire dans notre ordinateur, à laquelle on donne un nom et une valeur qui peut changer. Voici comment définir une variable avec sa valeur en Python"
   ]
  },
  {
   "cell_type": "code",
   "execution_count": null,
   "metadata": {
    "id": "mEOPJ5ULJsr7"
   },
   "outputs": [],
   "source": [
    "poids = 89"
   ]
  },
  {
   "cell_type": "markdown",
   "metadata": {
    "id": "JdJGa6zSJsr8"
   },
   "source": [
    "Ici, nous avons donné le nom `poids` à notre variable et elle contient la valeur 89. La valeur d'une variable peut changer."
   ]
  },
  {
   "cell_type": "code",
   "execution_count": null,
   "metadata": {
    "id": "Hf5g6moNJsr8"
   },
   "outputs": [],
   "source": [
    "poids = 82"
   ]
  },
  {
   "cell_type": "markdown",
   "metadata": {
    "id": "YRELxTBSJsr9"
   },
   "source": [
    "Désormais, notre variable `poids` contient la valeur 82. On peut l'afficher pour vérifier avec le fonction `print`"
   ]
  },
  {
   "cell_type": "code",
   "execution_count": null,
   "metadata": {
    "id": "rxppGTcSJsr9",
    "outputId": "67585524-d038-4f15-d402-e65ff60a999b"
   },
   "outputs": [],
   "source": [
    "print(poids)"
   ]
  },
  {
   "cell_type": "markdown",
   "metadata": {
    "id": "tHNl3weNJsr-"
   },
   "source": [
    "Pour donc affichier la valeur d'une variable, il faut écrire `print` suivi de parathèses avec à l'intérieur le nom de notre variable. Puisqu'on est dans un notebook, on peut aussi afficher la valeur d'une variable simplement en tapant le nom comme ceci : "
   ]
  },
  {
   "cell_type": "code",
   "execution_count": null,
   "metadata": {
    "id": "80kS2_d4Jsr-",
    "outputId": "a420e593-7ba8-4c5e-c72e-61ae5664e325"
   },
   "outputs": [],
   "source": [
    "poids"
   ]
  },
  {
   "cell_type": "markdown",
   "metadata": {
    "id": "BQ0vqoM2Jsr_"
   },
   "source": [
    "Que se passe-t-il quand je nomme ma variable `2poids` pour dire que c'est un second poids ? Essayons:"
   ]
  },
  {
   "cell_type": "code",
   "execution_count": null,
   "metadata": {
    "id": "B0vOkYyCJsr_",
    "outputId": "46b4fd25-e2fc-4f2b-c538-515042dc61fc"
   },
   "outputs": [],
   "source": [
    "2poids = 25"
   ]
  },
  {
   "cell_type": "markdown",
   "metadata": {
    "id": "W_Bjzg80JssA"
   },
   "source": [
    "ON obtient une erreur. Cela est dû au fait qu'en Python le nom d'une variable ne peut commencer par un chiffre. Par convention, il est recommandé d'utiliser les lettres miniscules et le tiret du 8 `_` pour nommer une variable. N'oublions pas que le nom ne peut contenir un espace. Une variable pour designer l'âge de Kevin pourrait donc s'appeler `lage_de_kevin`."
   ]
  },
  {
   "cell_type": "code",
   "execution_count": null,
   "metadata": {
    "id": "u0Hy22jWJssA"
   },
   "outputs": [],
   "source": [
    "lage_de_kevin = 20"
   ]
  },
  {
   "cell_type": "markdown",
   "metadata": {
    "id": "rHxLluEzJssA"
   },
   "source": [
    "On peut faire des opérations mathématiques sur les variables : "
   ]
  },
  {
   "cell_type": "markdown",
   "metadata": {
    "id": "wRrg08tUJssB"
   },
   "source": [
    "**addiction**"
   ]
  },
  {
   "cell_type": "code",
   "execution_count": null,
   "metadata": {
    "id": "9pvruivwJssB",
    "outputId": "09b77cc8-85c9-4df3-fa46-9c34a4e951c9"
   },
   "outputs": [],
   "source": [
    "15 + 30"
   ]
  },
  {
   "cell_type": "code",
   "execution_count": null,
   "metadata": {
    "id": "nLKz1oR4JssB",
    "outputId": "d6f8ef11-da09-4429-b16e-25da797a7c59"
   },
   "outputs": [],
   "source": [
    "nombre = 5\n",
    "print(nombre + 4)"
   ]
  },
  {
   "cell_type": "markdown",
   "metadata": {
    "id": "wKoZ09vDJssB"
   },
   "source": [
    "**soustraction**"
   ]
  },
  {
   "cell_type": "code",
   "execution_count": null,
   "metadata": {
    "id": "KQbV_Mh4JssC",
    "outputId": "7275f73a-fe29-4418-c1e5-2d319e8b3ed5"
   },
   "outputs": [],
   "source": [
    "96 - 12"
   ]
  },
  {
   "cell_type": "code",
   "execution_count": null,
   "metadata": {
    "id": "4JEU36_4JssC",
    "outputId": "3dec55d4-06aa-4677-cdb5-0fbb2ce7111e"
   },
   "outputs": [],
   "source": [
    "print(nombre - 2)"
   ]
  },
  {
   "cell_type": "markdown",
   "metadata": {
    "id": "S3v18HL6JssC"
   },
   "source": [
    "**Multiplication**"
   ]
  },
  {
   "cell_type": "code",
   "execution_count": null,
   "metadata": {
    "id": "LK86qZPjJssD",
    "outputId": "0b50cf8a-9136-4fb3-8952-14067864f9c1"
   },
   "outputs": [],
   "source": [
    "5 * 3"
   ]
  },
  {
   "cell_type": "code",
   "execution_count": null,
   "metadata": {
    "id": "zUz_BZNNJssD",
    "outputId": "580aec60-66b7-4e8e-cbde-c717c00f858e"
   },
   "outputs": [],
   "source": [
    "print(nombre * 2)"
   ]
  },
  {
   "cell_type": "markdown",
   "metadata": {
    "id": "afjB3mbPJssD"
   },
   "source": [
    "**Division**"
   ]
  },
  {
   "cell_type": "code",
   "execution_count": null,
   "metadata": {
    "id": "TjbhNu2GJssD",
    "outputId": "302b4b4d-7d14-4f85-c7f2-56a04e663d83"
   },
   "outputs": [],
   "source": [
    "27 / 9"
   ]
  },
  {
   "cell_type": "code",
   "execution_count": null,
   "metadata": {
    "id": "JTzwG3t-JssE",
    "outputId": "014abfac-5a5d-47ac-8fd3-523834d20a3f"
   },
   "outputs": [],
   "source": [
    "25 / 2"
   ]
  },
  {
   "cell_type": "markdown",
   "metadata": {
    "id": "c0T7mtJoJssE"
   },
   "source": [
    "On peut décider d'extraire uniquement le quotient de la division"
   ]
  },
  {
   "cell_type": "code",
   "execution_count": null,
   "metadata": {
    "id": "kqzH0XVlJssE",
    "outputId": "1314340d-a8fe-4bd0-a8b3-484f2b7264c0"
   },
   "outputs": [],
   "source": [
    "25 // 2"
   ]
  },
  {
   "cell_type": "markdown",
   "metadata": {
    "id": "XkCNb1B9JssF"
   },
   "source": [
    "**Exposant**"
   ]
  },
  {
   "cell_type": "code",
   "execution_count": null,
   "metadata": {
    "id": "K-krY4EdJssF",
    "outputId": "131877c8-fa94-44cc-855a-175fd792a688"
   },
   "outputs": [],
   "source": [
    "2 ** 5"
   ]
  },
  {
   "cell_type": "code",
   "execution_count": null,
   "metadata": {
    "id": "pi_SkejXJssF",
    "outputId": "f63aade5-9520-4691-f59f-aff69c744261"
   },
   "outputs": [],
   "source": [
    "15 ** 0"
   ]
  },
  {
   "cell_type": "markdown",
   "metadata": {
    "id": "6otBPhSfJssF"
   },
   "source": [
    "**Modulo (Reste de la division)**"
   ]
  },
  {
   "cell_type": "code",
   "execution_count": null,
   "metadata": {
    "id": "ZP8CXnAlJssG",
    "outputId": "3f5a2707-20f4-4e4f-fd1b-40f397234d16"
   },
   "outputs": [],
   "source": [
    "89 % 2"
   ]
  },
  {
   "cell_type": "markdown",
   "metadata": {
    "id": "4kIMVv0wJssG"
   },
   "source": [
    "On peut donc dire qu'un nombre est pair par exemple si ce nombre modulo 2 est 1 et non 0"
   ]
  },
  {
   "cell_type": "code",
   "execution_count": null,
   "metadata": {
    "id": "7439TaUeJssG"
   },
   "outputs": [],
   "source": [
    "est_pair = 27 % 2"
   ]
  },
  {
   "cell_type": "code",
   "execution_count": null,
   "metadata": {
    "id": "IUa_o8KVJssG",
    "outputId": "7a7e64f4-5af8-41d4-ce49-519a18038361"
   },
   "outputs": [],
   "source": [
    "est_pair"
   ]
  },
  {
   "cell_type": "markdown",
   "metadata": {
    "id": "KjMC5R-cJssH"
   },
   "source": [
    "On peut stocker le resultat de l'opération sur une variable avec le même nom"
   ]
  },
  {
   "cell_type": "code",
   "execution_count": null,
   "metadata": {
    "id": "FBL543CqJssH"
   },
   "outputs": [],
   "source": [
    "nombres_de_voitures = 5"
   ]
  },
  {
   "cell_type": "code",
   "execution_count": null,
   "metadata": {
    "id": "HaY6hFZzJssH"
   },
   "outputs": [],
   "source": [
    "nombres_de_voitures = nombres_de_voitures + 15"
   ]
  },
  {
   "cell_type": "code",
   "execution_count": null,
   "metadata": {
    "id": "dFx9dqUdJssH",
    "outputId": "72cc774d-b351-4a0a-b130-0f360f9025f9"
   },
   "outputs": [],
   "source": [
    "nombres_de_voitures"
   ]
  },
  {
   "cell_type": "markdown",
   "metadata": {
    "id": "YciAx_yCJssI"
   },
   "source": [
    "on peut réecrire l'opération de cette manière"
   ]
  },
  {
   "cell_type": "code",
   "execution_count": null,
   "metadata": {
    "id": "nY0v0Cs0JssI"
   },
   "outputs": [],
   "source": [
    "nombres_de_voitures += 15 "
   ]
  },
  {
   "cell_type": "code",
   "execution_count": null,
   "metadata": {
    "id": "dpHRL_EfJssI",
    "outputId": "bcec7835-cce0-4113-cd92-a3fc581dd6a0"
   },
   "outputs": [],
   "source": [
    "nombres_de_voitures"
   ]
  },
  {
   "cell_type": "code",
   "execution_count": null,
   "metadata": {
    "id": "0Mlsw3DIJssI"
   },
   "outputs": [],
   "source": [
    "nombres_de_voitures -= 3"
   ]
  },
  {
   "cell_type": "code",
   "execution_count": null,
   "metadata": {
    "id": "iVbFgLA9JssJ",
    "outputId": "8b6fad36-2277-4411-ce12-66b3536430af"
   },
   "outputs": [],
   "source": [
    "nombres_de_voitures"
   ]
  },
  {
   "cell_type": "code",
   "execution_count": null,
   "metadata": {
    "id": "4MCijTamJssJ"
   },
   "outputs": [],
   "source": [
    "nombres_de_voitures /= 2"
   ]
  },
  {
   "cell_type": "code",
   "execution_count": null,
   "metadata": {
    "id": "-njxXlRvJssJ",
    "outputId": "89473d52-123f-4eb8-dc84-1673b6b8ec95"
   },
   "outputs": [],
   "source": [
    "nombres_de_voitures"
   ]
  },
  {
   "cell_type": "code",
   "execution_count": null,
   "metadata": {
    "id": "Q_bUb5cIJssJ"
   },
   "outputs": [],
   "source": [
    "nombres_de_voitures *= 3"
   ]
  },
  {
   "cell_type": "code",
   "execution_count": null,
   "metadata": {
    "id": "NoJdGOc_JssK",
    "outputId": "f72d05d3-4329-4a38-d96c-a27527f2bbea"
   },
   "outputs": [],
   "source": [
    "nombres_de_voitures"
   ]
  },
  {
   "cell_type": "markdown",
   "metadata": {
    "id": "HaVBhmDwJssK"
   },
   "source": [
    "**Ordre de priorité des opération: P E M D A S**"
   ]
  },
  {
   "cell_type": "code",
   "execution_count": 1,
   "metadata": {
    "id": "AalHiYAlJssK"
   },
   "outputs": [
    {
     "data": {
      "text/plain": [
       "87"
      ]
     },
     "execution_count": 1,
     "metadata": {},
     "output_type": "execute_result"
    }
   ],
   "source": [
    "15 + 8 * 3 ** 2"
   ]
  },
  {
   "cell_type": "code",
   "execution_count": 2,
   "metadata": {
    "id": "K_QZyzI4JssK"
   },
   "outputs": [
    {
     "data": {
      "text/plain": [
       "207"
      ]
     },
     "execution_count": 2,
     "metadata": {},
     "output_type": "execute_result"
    }
   ],
   "source": [
    "(15 + 8) * 3 ** 2"
   ]
  },
  {
   "cell_type": "code",
   "execution_count": null,
   "metadata": {
    "id": "NTY-UfIDJssL"
   },
   "outputs": [],
   "source": []
  },
  {
   "cell_type": "markdown",
   "metadata": {
    "id": "bAkgM3AWJssL"
   },
   "source": [
    "# Les Types de données en Python"
   ]
  },
  {
   "cell_type": "markdown",
   "metadata": {
    "id": "qM6cMi-6JssL"
   },
   "source": [
    "Il existe plusieurs types de données en Python."
   ]
  },
  {
   "cell_type": "markdown",
   "metadata": {
    "id": "UySdINyHJssL"
   },
   "source": [
    "## Les nombres entiers"
   ]
  },
  {
   "cell_type": "code",
   "execution_count": null,
   "metadata": {
    "id": "MlhqqBm_JssM"
   },
   "outputs": [],
   "source": [
    "age = 15"
   ]
  },
  {
   "cell_type": "markdown",
   "metadata": {
    "id": "iZaX4g0SJssM"
   },
   "source": [
    "15 est un nombre entier. En anglais, on dit que 15 est un `integer` ou encore `int` pour faire court. On peut vérifier le type d'une variable en utilisant la fonction `type` comme ceci : "
   ]
  },
  {
   "cell_type": "code",
   "execution_count": null,
   "metadata": {
    "id": "RXnKgYKQJssM",
    "outputId": "ca8c9940-ec56-4b0e-c81e-bce603a7bbb7"
   },
   "outputs": [],
   "source": [
    "type(age)"
   ]
  },
  {
   "cell_type": "markdown",
   "metadata": {
    "id": "iJtgqmvtJssM"
   },
   "source": [
    "## Les nombres à virgules"
   ]
  },
  {
   "cell_type": "code",
   "execution_count": null,
   "metadata": {
    "id": "2kclaWgnJssM"
   },
   "outputs": [],
   "source": [
    "taille = 1.83"
   ]
  },
  {
   "cell_type": "markdown",
   "metadata": {
    "id": "WxzDb3RaJssN"
   },
   "source": [
    "1.83 est un nombre à virgule. Il faut noter ici que la virgule est représentée par un point. C'est la convention en anglais. `1,83` n'est donc pas un nombre à virgule si vous l'ecrivez comme ca. En anglais, on appelle un nombre à virgule, `float`"
   ]
  },
  {
   "cell_type": "code",
   "execution_count": null,
   "metadata": {
    "id": "Zez5KAsqJssN",
    "outputId": "c6b7b61d-ff50-4e21-8f6b-95305ef3de16"
   },
   "outputs": [],
   "source": [
    "type(taille)"
   ]
  },
  {
   "cell_type": "markdown",
   "metadata": {
    "id": "ef6n_0MYJssN"
   },
   "source": [
    "## Les chaînes de caractères"
   ]
  },
  {
   "cell_type": "markdown",
   "metadata": {
    "id": "Mwgaq7qWJssN"
   },
   "source": [
    "On a vu les nombres. Place aux chaines de caractères. Un mot est une chaine de caractères. Une lettre est une chaine de caractères avec un seul élément. Pour dire à Python qu'une variable est une chaine de caractère ou encore `string`, on la met en des guillemets comme ceci `\"blabla\"` ou `'blabla'`."
   ]
  },
  {
   "cell_type": "code",
   "execution_count": null,
   "metadata": {
    "id": "v4ZtQxd8JssO"
   },
   "outputs": [],
   "source": [
    "nom = \"Kevin\""
   ]
  },
  {
   "cell_type": "code",
   "execution_count": null,
   "metadata": {
    "id": "tAU8syLHJssO",
    "outputId": "1b980969-f80a-4dc7-d2f0-0701cc059246"
   },
   "outputs": [],
   "source": [
    "type(nom)"
   ]
  },
  {
   "cell_type": "markdown",
   "metadata": {
    "id": "DSxdb7fnJssO"
   },
   "source": [
    "Que se passe-t-il si je mets un nombre entre des guillemets. Essayons et vérifions le type."
   ]
  },
  {
   "cell_type": "code",
   "execution_count": null,
   "metadata": {
    "id": "UEVhblqJJssO"
   },
   "outputs": [],
   "source": [
    "nombre = \"15\""
   ]
  },
  {
   "cell_type": "code",
   "execution_count": null,
   "metadata": {
    "id": "jLo2k1mSJssP",
    "outputId": "575c9ee0-725c-4c08-f6ea-2804dcb683cc"
   },
   "outputs": [],
   "source": [
    "type(nombre)"
   ]
  },
  {
   "cell_type": "markdown",
   "metadata": {
    "id": "33gSgXyRJssP"
   },
   "source": [
    "nombre est apparemment un `str (string)`, ce qui veut dire que toute chose qu'on mettra entre des guillemets est une chaine de caractères"
   ]
  },
  {
   "cell_type": "markdown",
   "metadata": {
    "id": "b9fi6_cVJssP"
   },
   "source": [
    "## Changement de Type"
   ]
  },
  {
   "cell_type": "code",
   "execution_count": null,
   "metadata": {
    "id": "w2JiF7g4JssP"
   },
   "outputs": [],
   "source": [
    "numero = \"15\""
   ]
  },
  {
   "cell_type": "code",
   "execution_count": null,
   "metadata": {
    "id": "TwiJsIRVJssP",
    "outputId": "f3c00543-30b3-4e56-d048-28f01d80a946"
   },
   "outputs": [],
   "source": [
    "type(numero)"
   ]
  },
  {
   "cell_type": "code",
   "execution_count": null,
   "metadata": {
    "id": "4UDhltxtJssQ"
   },
   "outputs": [],
   "source": [
    "numero_int =  int(numero)"
   ]
  },
  {
   "cell_type": "code",
   "execution_count": null,
   "metadata": {
    "id": "r7V1HXp9JssQ",
    "outputId": "2853fa73-dd0e-41d2-ebd7-f519223a9ac7"
   },
   "outputs": [],
   "source": [
    "type(numero_int)"
   ]
  },
  {
   "cell_type": "code",
   "execution_count": null,
   "metadata": {
    "id": "9PhsdvEOJssQ"
   },
   "outputs": [],
   "source": [
    "numero = \"1589kil\""
   ]
  },
  {
   "cell_type": "code",
   "execution_count": null,
   "metadata": {
    "id": "fkJv_6HuJssQ",
    "outputId": "34804155-dc07-4bf8-cc51-230f49217be8"
   },
   "outputs": [],
   "source": [
    "int(numero)"
   ]
  },
  {
   "cell_type": "code",
   "execution_count": null,
   "metadata": {
    "id": "uUfN4KmPJssR"
   },
   "outputs": [],
   "source": [
    "age = 15"
   ]
  },
  {
   "cell_type": "code",
   "execution_count": null,
   "metadata": {
    "id": "TigCFxs8JssR",
    "outputId": "72c0ea48-cd41-4c2b-97be-31ff4b17f89d"
   },
   "outputs": [],
   "source": [
    "str(age)"
   ]
  },
  {
   "cell_type": "code",
   "execution_count": null,
   "metadata": {
    "id": "2pANcwI2JssR"
   },
   "outputs": [],
   "source": [
    "poids = \"18.69\""
   ]
  },
  {
   "cell_type": "code",
   "execution_count": null,
   "metadata": {
    "id": "Utn7Qm8UJssR",
    "outputId": "b9fb6d13-9d6f-4f05-b89a-752735a67729"
   },
   "outputs": [],
   "source": [
    "float(poids)"
   ]
  },
  {
   "cell_type": "code",
   "execution_count": null,
   "metadata": {
    "id": "2pxccs7TJssR"
   },
   "outputs": [],
   "source": [
    "poids = float(poids)"
   ]
  },
  {
   "cell_type": "code",
   "execution_count": null,
   "metadata": {
    "id": "0TPIDCJzJssS",
    "outputId": "1444547f-75d5-48e9-f8cd-bc69fb3a0f94"
   },
   "outputs": [],
   "source": [
    "poids"
   ]
  },
  {
   "cell_type": "code",
   "execution_count": null,
   "metadata": {
    "id": "MGSBKcAGJssS"
   },
   "outputs": [],
   "source": []
  },
  {
   "cell_type": "markdown",
   "metadata": {
    "id": "-1TC_73UJssS"
   },
   "source": [
    "## Les listes"
   ]
  },
  {
   "cell_type": "code",
   "execution_count": null,
   "metadata": {
    "id": "KNCsTDs7JssS"
   },
   "outputs": [],
   "source": [
    "notes = [18, 15, 13, 20]"
   ]
  },
  {
   "cell_type": "code",
   "execution_count": null,
   "metadata": {
    "id": "YjG5IGO_JssT"
   },
   "outputs": [],
   "source": [
    "blabla = [\"Kevin\", 15, 25.25, [5], \"1\"]"
   ]
  },
  {
   "cell_type": "code",
   "execution_count": null,
   "metadata": {
    "id": "7RgCvnFEJssT",
    "outputId": "d0d583d0-b41d-4806-f3b9-a050897d5c58"
   },
   "outputs": [],
   "source": [
    "notes[0]"
   ]
  },
  {
   "cell_type": "code",
   "execution_count": null,
   "metadata": {
    "id": "ay242PPuJssT",
    "outputId": "0f81a9c9-8bd0-41e5-fcbf-5401e67542f8"
   },
   "outputs": [],
   "source": [
    "notes[-2]"
   ]
  },
  {
   "cell_type": "code",
   "execution_count": null,
   "metadata": {
    "id": "3tCF0ODUJssT",
    "outputId": "df4a7465-70c6-436d-a376-93429750a9b4"
   },
   "outputs": [],
   "source": [
    "notes[2]"
   ]
  },
  {
   "cell_type": "code",
   "execution_count": null,
   "metadata": {
    "id": "9NSMJz6qJssU",
    "outputId": "b87cd5af-283e-40ab-f63c-3f993e8486e1"
   },
   "outputs": [],
   "source": [
    "blabla[3]"
   ]
  },
  {
   "cell_type": "code",
   "execution_count": null,
   "metadata": {
    "id": "6rvk9eJZJssU",
    "outputId": "421a8f52-66ca-42bf-fcb4-36374356113d"
   },
   "outputs": [],
   "source": [
    "type(blabla[3])"
   ]
  },
  {
   "cell_type": "code",
   "execution_count": null,
   "metadata": {
    "id": "0p53T_yFJssU",
    "outputId": "6b8f9821-8172-48e0-b1b1-89733c81d6f9"
   },
   "outputs": [],
   "source": [
    "type(blabla)"
   ]
  },
  {
   "cell_type": "code",
   "execution_count": null,
   "metadata": {
    "id": "JR-qMiLMJssU"
   },
   "outputs": [],
   "source": [
    "notes = [18, 15, 13, 20]"
   ]
  },
  {
   "cell_type": "code",
   "execution_count": null,
   "metadata": {
    "id": "hx2HpDHzJssU"
   },
   "outputs": [],
   "source": [
    "notes[-2] = 10"
   ]
  },
  {
   "cell_type": "code",
   "execution_count": null,
   "metadata": {
    "id": "zi0vaLWZJssV",
    "outputId": "bcb35019-908d-44bf-e5f6-85f2e3f97205"
   },
   "outputs": [],
   "source": [
    "notes"
   ]
  },
  {
   "cell_type": "code",
   "execution_count": null,
   "metadata": {
    "id": "4bo_JVdPJssV",
    "outputId": "b102a853-f935-4fda-c62c-a967bf938574"
   },
   "outputs": [],
   "source": [
    "notes[1:3]"
   ]
  },
  {
   "cell_type": "code",
   "execution_count": null,
   "metadata": {
    "id": "uJEBQd-1JssV"
   },
   "outputs": [],
   "source": [
    "notes[index_du_premier: index_du_dernier + 1]"
   ]
  },
  {
   "cell_type": "code",
   "execution_count": null,
   "metadata": {
    "id": "7JzOyURSJssV"
   },
   "outputs": [],
   "source": [
    "nombres = [ 14, 58, 45, -9, \"ballon\", \"kevin\", 12]"
   ]
  },
  {
   "cell_type": "code",
   "execution_count": null,
   "metadata": {
    "id": "IvQ_nrFEJssV",
    "outputId": "374644a3-213e-4f48-858c-a39bc2e03c15"
   },
   "outputs": [],
   "source": [
    "nombres[4:6]"
   ]
  },
  {
   "cell_type": "code",
   "execution_count": null,
   "metadata": {
    "id": "_EEFTl_FJssW",
    "outputId": "a6d7f188-39eb-4d3a-c2ae-26fdc8f6b6f5"
   },
   "outputs": [],
   "source": [
    "nombres[-3:-1]"
   ]
  },
  {
   "cell_type": "code",
   "execution_count": null,
   "metadata": {
    "id": "JP8sm2zvJssY"
   },
   "outputs": [],
   "source": [
    "nombres.append(20)"
   ]
  },
  {
   "cell_type": "code",
   "execution_count": null,
   "metadata": {
    "id": "cgrARiwjJssZ",
    "outputId": "94bfb8e7-1bbe-413e-e3c2-c1229dfd9bc9"
   },
   "outputs": [],
   "source": [
    "nombres"
   ]
  },
  {
   "cell_type": "code",
   "execution_count": null,
   "metadata": {
    "id": "t94jAN3uJssZ",
    "outputId": "16fc6247-e4e2-44b8-87c1-58179ec1ab1b"
   },
   "outputs": [],
   "source": [
    "nombres[4:6]"
   ]
  },
  {
   "cell_type": "code",
   "execution_count": null,
   "metadata": {
    "id": "BhqDD1vcJssZ",
    "outputId": "28d4761c-e26d-4628-c043-5a70f7739c14"
   },
   "outputs": [],
   "source": [
    "nombres[-4:-2]"
   ]
  },
  {
   "cell_type": "code",
   "execution_count": null,
   "metadata": {
    "id": "U0IRgs9qJssa"
   },
   "outputs": [],
   "source": [
    "nombres[3] = 9"
   ]
  },
  {
   "cell_type": "code",
   "execution_count": null,
   "metadata": {
    "id": "Bre5E9IsJssa",
    "outputId": "11721072-7ed4-495d-c91c-bb2940e4fa2f"
   },
   "outputs": [],
   "source": [
    "nombres"
   ]
  },
  {
   "cell_type": "code",
   "execution_count": null,
   "metadata": {
    "id": "tWNEWdUCJssa"
   },
   "outputs": [],
   "source": [
    "del nombres[4]"
   ]
  },
  {
   "cell_type": "code",
   "execution_count": null,
   "metadata": {
    "id": "kEdjOvFbJssa",
    "outputId": "41e63e02-3d7c-4483-ca7e-d85e7118924c"
   },
   "outputs": [],
   "source": [
    "nombres"
   ]
  },
  {
   "cell_type": "code",
   "execution_count": null,
   "metadata": {
    "id": "s513BawFJssb"
   },
   "outputs": [],
   "source": [
    "nombres.remove('kevin')"
   ]
  },
  {
   "cell_type": "code",
   "execution_count": null,
   "metadata": {
    "id": "xMT8VL2XJssb",
    "outputId": "53d61943-eed9-45b5-bd52-57cab7e61d77"
   },
   "outputs": [],
   "source": [
    "nombres"
   ]
  },
  {
   "cell_type": "code",
   "execution_count": null,
   "metadata": {
    "id": "PacBbBDOJssb",
    "outputId": "94a910f6-9975-49b3-9a3f-33457bd29349"
   },
   "outputs": [],
   "source": [
    "nombres"
   ]
  },
  {
   "cell_type": "code",
   "execution_count": null,
   "metadata": {
    "id": "GrlCmRDTJssb"
   },
   "outputs": [],
   "source": [
    "nombres.insert(4, 'radji')"
   ]
  },
  {
   "cell_type": "code",
   "execution_count": null,
   "metadata": {
    "id": "EicAzKIEJssc",
    "outputId": "8fb6a137-1e62-4b11-ac68-a8b94a22106a"
   },
   "outputs": [],
   "source": [
    "nombres"
   ]
  },
  {
   "cell_type": "code",
   "execution_count": null,
   "metadata": {
    "id": "IQTsRr0ZJssc",
    "outputId": "c40cda93-84e3-401f-94ac-c5e696b52818"
   },
   "outputs": [],
   "source": [
    "len(nombres)"
   ]
  },
  {
   "cell_type": "code",
   "execution_count": null,
   "metadata": {
    "id": "nq98UtfELgK1"
   },
   "outputs": [],
   "source": [
    "blabla = [4, \"ki\", 5, \"ko\", 9, \"koi\", 15, \"ku\"]"
   ]
  },
  {
   "cell_type": "code",
   "execution_count": null,
   "metadata": {
    "colab": {
     "base_uri": "https://localhost:8080/"
    },
    "id": "P7iB_4u3Lf1p",
    "outputId": "5cbe713a-9daa-4edc-fb37-031540bdfff4"
   },
   "outputs": [],
   "source": [
    "blabla[::2]"
   ]
  },
  {
   "cell_type": "code",
   "execution_count": null,
   "metadata": {
    "id": "oJajdMVPJssc"
   },
   "outputs": [],
   "source": [
    "blabla.clear()"
   ]
  },
  {
   "cell_type": "code",
   "execution_count": null,
   "metadata": {
    "colab": {
     "base_uri": "https://localhost:8080/"
    },
    "id": "VChjNZdXJssc",
    "outputId": "bec10a8e-af5f-4446-8142-8ac16c67cf8d"
   },
   "outputs": [],
   "source": [
    "blabla"
   ]
  },
  {
   "cell_type": "code",
   "execution_count": null,
   "metadata": {
    "id": "ho0Hw5OvN0xu"
   },
   "outputs": [],
   "source": [
    "liste_vide = []"
   ]
  },
  {
   "cell_type": "code",
   "execution_count": null,
   "metadata": {
    "id": "26sISGJZN4FJ"
   },
   "outputs": [],
   "source": [
    "liste_vide.append(25)"
   ]
  },
  {
   "cell_type": "code",
   "execution_count": null,
   "metadata": {
    "colab": {
     "base_uri": "https://localhost:8080/"
    },
    "id": "pLuvzLlVN1T2",
    "outputId": "834f45ce-4e3f-4467-9852-8c6d75d05c16"
   },
   "outputs": [],
   "source": [
    "liste_vide"
   ]
  },
  {
   "cell_type": "code",
   "execution_count": null,
   "metadata": {
    "id": "hzArikacOINp"
   },
   "outputs": [],
   "source": [
    "[2,5,8,9,7,1,5].sort()"
   ]
  },
  {
   "cell_type": "code",
   "execution_count": null,
   "metadata": {
    "id": "VBslIxdIO3Co"
   },
   "outputs": [],
   "source": [
    "nombres = [2,5,8,9,7,1,5]"
   ]
  },
  {
   "cell_type": "code",
   "execution_count": null,
   "metadata": {
    "id": "ywWdFRAjO2et"
   },
   "outputs": [],
   "source": [
    "nombres.sort()"
   ]
  },
  {
   "cell_type": "code",
   "execution_count": null,
   "metadata": {
    "colab": {
     "base_uri": "https://localhost:8080/"
    },
    "id": "T_Kv3_G5OIli",
    "outputId": "9b7ac9bf-7f17-4dd6-d3f6-0ebb2d397eb2"
   },
   "outputs": [],
   "source": [
    "nombres"
   ]
  },
  {
   "cell_type": "code",
   "execution_count": null,
   "metadata": {
    "colab": {
     "base_uri": "https://localhost:8080/"
    },
    "id": "1PLA1JZtPIIK",
    "outputId": "02c9f0ca-947d-4680-b229-d004cbef9698"
   },
   "outputs": [],
   "source": [
    "sorted(nombres)"
   ]
  },
  {
   "cell_type": "code",
   "execution_count": null,
   "metadata": {
    "colab": {
     "base_uri": "https://localhost:8080/"
    },
    "id": "XHFrgeMXPIjV",
    "outputId": "ad48eb66-13f0-4aab-ddaf-3553e91b3ac9"
   },
   "outputs": [],
   "source": [
    "nombres"
   ]
  },
  {
   "cell_type": "markdown",
   "metadata": {
    "id": "2WnEQu-UQhM_"
   },
   "source": [
    "Question : Peut-on ordonner une liste qui contient des nombres et des chaines de caractères ?"
   ]
  },
  {
   "cell_type": "code",
   "execution_count": null,
   "metadata": {
    "id": "tU7sKJdHPU-k"
   },
   "outputs": [],
   "source": []
  },
  {
   "cell_type": "code",
   "execution_count": null,
   "metadata": {
    "id": "rZ5Y1QU5PVXH"
   },
   "outputs": [],
   "source": [
    "nombres = [ 1 ,21, 5, 21, 6, 1,5]"
   ]
  },
  {
   "cell_type": "code",
   "execution_count": null,
   "metadata": {
    "colab": {
     "base_uri": "https://localhost:8080/"
    },
    "id": "Gu8eioUWPVuU",
    "outputId": "a232c88b-bae5-487a-ea0a-72f0a486398f"
   },
   "outputs": [],
   "source": [
    "set(nombres)"
   ]
  },
  {
   "cell_type": "code",
   "execution_count": null,
   "metadata": {
    "id": "R0h0WsaT1MYg"
   },
   "outputs": [],
   "source": []
  },
  {
   "cell_type": "code",
   "execution_count": null,
   "metadata": {
    "id": "MRwmSzSw1M2r"
   },
   "outputs": [],
   "source": [
    "nombres = list(range(2, 16))"
   ]
  },
  {
   "cell_type": "code",
   "execution_count": null,
   "metadata": {
    "colab": {
     "base_uri": "https://localhost:8080/"
    },
    "id": "cqcsASs91NMR",
    "outputId": "b86f28d2-90dc-4940-ac90-93bbe83033e8"
   },
   "outputs": [],
   "source": [
    "nombres"
   ]
  },
  {
   "cell_type": "code",
   "execution_count": null,
   "metadata": {
    "colab": {
     "base_uri": "https://localhost:8080/"
    },
    "id": "8z9HZ1wB1NfU",
    "outputId": "e93aa340-a424-4083-8740-22b10cf1c12f"
   },
   "outputs": [],
   "source": [
    "nombres[0:5]"
   ]
  },
  {
   "cell_type": "code",
   "execution_count": null,
   "metadata": {
    "colab": {
     "base_uri": "https://localhost:8080/"
    },
    "id": "3Jg0q2nY1yaz",
    "outputId": "e205f8a4-82d0-475d-c664-c8437fb30811"
   },
   "outputs": [],
   "source": [
    "nombres[:5:1]"
   ]
  },
  {
   "cell_type": "code",
   "execution_count": null,
   "metadata": {
    "colab": {
     "base_uri": "https://localhost:8080/"
    },
    "id": "d0zR5EHZ1yN5",
    "outputId": "ae73c439-78be-4e6d-c6f1-4c6c3ece59c4"
   },
   "outputs": [],
   "source": [
    "nombres[-4:-1]"
   ]
  },
  {
   "cell_type": "code",
   "execution_count": null,
   "metadata": {
    "colab": {
     "base_uri": "https://localhost:8080/"
    },
    "id": "95NLz2sG2fE8",
    "outputId": "f4f6f08f-82a2-4b3e-c97c-69d2a09a9fcc"
   },
   "outputs": [],
   "source": [
    "nombres[0:-4:2]"
   ]
  },
  {
   "cell_type": "code",
   "execution_count": null,
   "metadata": {
    "colab": {
     "base_uri": "https://localhost:8080/"
    },
    "id": "SOhiJT5R2e0c",
    "outputId": "57a79c18-102f-4c18-b6f7-2e1089c5e893"
   },
   "outputs": [],
   "source": [
    "nombres[-4:]"
   ]
  },
  {
   "cell_type": "code",
   "execution_count": null,
   "metadata": {
    "colab": {
     "base_uri": "https://localhost:8080/"
    },
    "id": "DfO1u7P61yBu",
    "outputId": "d9abb7fd-b0be-43af-b6e0-6a106b7cf4a4"
   },
   "outputs": [],
   "source": [
    "nombres[1::2]"
   ]
  },
  {
   "cell_type": "code",
   "execution_count": null,
   "metadata": {
    "id": "RFU9Mxma1xxl"
   },
   "outputs": [],
   "source": []
  },
  {
   "cell_type": "code",
   "execution_count": null,
   "metadata": {
    "id": "Buemrze34RuR"
   },
   "outputs": [],
   "source": [
    "blabla = ['kevin', 1, 5, 'radji', 6]"
   ]
  },
  {
   "cell_type": "code",
   "execution_count": null,
   "metadata": {
    "colab": {
     "base_uri": "https://localhost:8080/",
     "height": 163
    },
    "id": "lwESrnoQ4R6s",
    "outputId": "bf22a4fd-706b-40e2-c7df-f539f0bf725a"
   },
   "outputs": [],
   "source": [
    "sorted(blabla)"
   ]
  },
  {
   "cell_type": "code",
   "execution_count": null,
   "metadata": {
    "id": "fQqfzhlk6qt3"
   },
   "outputs": [],
   "source": [
    "for ind, elt in enumerate(blabla):\n",
    "  if type(elt) == int:\n",
    "    blabla[ind] = str(elt)\n"
   ]
  },
  {
   "cell_type": "code",
   "execution_count": null,
   "metadata": {
    "id": "m-5R7Yxz4iKc"
   },
   "outputs": [],
   "source": [
    "for i in blabla:\n",
    "  if type(i) == int:\n",
    "    ind = blabla.index(i)\n",
    "    blabla[ind] = str(i)"
   ]
  },
  {
   "cell_type": "code",
   "execution_count": null,
   "metadata": {
    "colab": {
     "base_uri": "https://localhost:8080/"
    },
    "id": "xAAciRTf4h1Q",
    "outputId": "21fe523d-7af6-4a34-e3ac-1e512c14d71d"
   },
   "outputs": [],
   "source": [
    "blabla"
   ]
  },
  {
   "cell_type": "code",
   "execution_count": null,
   "metadata": {
    "colab": {
     "base_uri": "https://localhost:8080/"
    },
    "id": "GQY5t_xi4hki",
    "outputId": "8999a990-49b5-4ecc-85db-657c7c585a95"
   },
   "outputs": [],
   "source": [
    "sorted(blabla)"
   ]
  },
  {
   "cell_type": "code",
   "execution_count": null,
   "metadata": {
    "id": "FK250wgM4hPc"
   },
   "outputs": [],
   "source": []
  },
  {
   "cell_type": "code",
   "execution_count": null,
   "metadata": {
    "id": "OCX55cQr4g40"
   },
   "outputs": [],
   "source": []
  },
  {
   "cell_type": "code",
   "execution_count": null,
   "metadata": {
    "id": "LLlrnmDq1N1Z"
   },
   "outputs": [],
   "source": []
  },
  {
   "cell_type": "markdown",
   "metadata": {
    "id": "Bs5Uf4NEJssc"
   },
   "source": [
    "## Les tuples"
   ]
  },
  {
   "cell_type": "code",
   "execution_count": null,
   "metadata": {
    "id": "9Jl6f0UNQpC_"
   },
   "outputs": [],
   "source": [
    "un_tuple = (2, 5 , 9)"
   ]
  },
  {
   "cell_type": "code",
   "execution_count": null,
   "metadata": {
    "colab": {
     "base_uri": "https://localhost:8080/"
    },
    "id": "a3pfGOx_QotQ",
    "outputId": "e7a283f5-ae67-46f6-e00b-331da63d1204"
   },
   "outputs": [],
   "source": [
    "type(un_tuple)"
   ]
  },
  {
   "cell_type": "code",
   "execution_count": null,
   "metadata": {
    "colab": {
     "base_uri": "https://localhost:8080/"
    },
    "id": "MM-xxwmqQ6c4",
    "outputId": "3f33164f-168e-4fd9-d65e-6437a8f525e4"
   },
   "outputs": [],
   "source": [
    "un_tuple[2]"
   ]
  },
  {
   "cell_type": "code",
   "execution_count": null,
   "metadata": {
    "colab": {
     "base_uri": "https://localhost:8080/",
     "height": 162
    },
    "id": "jUzXlbYLQ6Mi",
    "outputId": "1d4f2472-8bab-4169-fb67-644636b69614"
   },
   "outputs": [],
   "source": [
    "un_tuple(2)"
   ]
  },
  {
   "cell_type": "code",
   "execution_count": null,
   "metadata": {
    "colab": {
     "base_uri": "https://localhost:8080/"
    },
    "id": "nHPjUjuYQoTS",
    "outputId": "0cb03ae7-c173-42b3-c737-d851812e538a"
   },
   "outputs": [],
   "source": [
    "un_tuple[0:2]"
   ]
  },
  {
   "cell_type": "code",
   "execution_count": null,
   "metadata": {
    "colab": {
     "base_uri": "https://localhost:8080/",
     "height": 162
    },
    "id": "WzCoe8-SJssd",
    "outputId": "1b5558a5-469f-4b2c-c89f-74c56baf4b4c"
   },
   "outputs": [],
   "source": [
    "un_tuple[1] = 15000"
   ]
  },
  {
   "cell_type": "code",
   "execution_count": null,
   "metadata": {
    "colab": {
     "base_uri": "https://localhost:8080/",
     "height": 162
    },
    "id": "4cDAOgUGRfl4",
    "outputId": "36723bea-9b74-4ae3-e0f9-b20541e611cc"
   },
   "outputs": [],
   "source": [
    "un_tuple.append(15000)"
   ]
  },
  {
   "cell_type": "code",
   "execution_count": null,
   "metadata": {
    "colab": {
     "base_uri": "https://localhost:8080/",
     "height": 162
    },
    "id": "FFQNelO9RfSy",
    "outputId": "2f3f0f78-a90f-47a5-a0dd-d3e13b174740"
   },
   "outputs": [],
   "source": [
    "del un_tuple[1]"
   ]
  },
  {
   "cell_type": "code",
   "execution_count": null,
   "metadata": {
    "id": "FbCpFFlcJssd"
   },
   "outputs": [],
   "source": [
    "jours = ('lundi')"
   ]
  },
  {
   "cell_type": "code",
   "execution_count": null,
   "metadata": {
    "id": "d9GGmdz_Jssd"
   },
   "outputs": [],
   "source": []
  },
  {
   "cell_type": "markdown",
   "metadata": {
    "id": "l6MGJvGuJssd"
   },
   "source": [
    "## Les dictionnaires"
   ]
  },
  {
   "cell_type": "code",
   "execution_count": null,
   "metadata": {
    "id": "paH_4Z3SSHXi"
   },
   "outputs": [],
   "source": [
    "annuaire = {\"kevin\": \"06545885852\", \"radji\": \"06466548454\"}"
   ]
  },
  {
   "cell_type": "code",
   "execution_count": null,
   "metadata": {
    "colab": {
     "base_uri": "https://localhost:8080/"
    },
    "id": "8geQvkxRSGhB",
    "outputId": "9c044d9b-bc0b-43a1-d257-a49f103987e8"
   },
   "outputs": [],
   "source": [
    "type(annuaire)"
   ]
  },
  {
   "cell_type": "code",
   "execution_count": null,
   "metadata": {
    "colab": {
     "base_uri": "https://localhost:8080/",
     "height": 35
    },
    "id": "coNPmdkqJssd",
    "outputId": "75fc4fac-526d-4d6f-80e1-806d15ada93d"
   },
   "outputs": [],
   "source": [
    "annuaire[\"kevin\"]"
   ]
  },
  {
   "cell_type": "code",
   "execution_count": null,
   "metadata": {
    "id": "vptWtghUJssd"
   },
   "outputs": [],
   "source": [
    "annuaire = {\"kevin\": \"06545885852\", \"radji\": \"06466548454\", \"rock_ray\": [\"066545\", \"06454\"]}"
   ]
  },
  {
   "cell_type": "code",
   "execution_count": null,
   "metadata": {
    "colab": {
     "base_uri": "https://localhost:8080/"
    },
    "id": "Z_n9rfZjJsse",
    "outputId": "679892c8-b2de-46bf-8a25-aff8921c5dd9"
   },
   "outputs": [],
   "source": [
    "annuaire[\"rock_ray\"]"
   ]
  },
  {
   "cell_type": "code",
   "execution_count": null,
   "metadata": {
    "colab": {
     "base_uri": "https://localhost:8080/",
     "height": 35
    },
    "id": "KfHR9HDlTkNz",
    "outputId": "ae35ccfe-44c6-4783-de9d-14a5aa5a8bca"
   },
   "outputs": [],
   "source": [
    "annuaire[\"rock_ray\"][0]"
   ]
  },
  {
   "cell_type": "code",
   "execution_count": null,
   "metadata": {
    "id": "Z3Q77elfTpjq"
   },
   "outputs": [],
   "source": [
    "annuaire[\"rock_ray\"].append(\"06545451\")"
   ]
  },
  {
   "cell_type": "code",
   "execution_count": null,
   "metadata": {
    "colab": {
     "base_uri": "https://localhost:8080/"
    },
    "id": "aQA-NxoITp4V",
    "outputId": "c55a8b96-d8be-47d4-c086-e06551b8c05d"
   },
   "outputs": [],
   "source": [
    "annuaire"
   ]
  },
  {
   "cell_type": "markdown",
   "metadata": {
    "id": "M5g971cPT053"
   },
   "source": [
    "Question : Peut-on créer une liste de dictionnaire ? un dictionnaire de liste de dictionnaires?"
   ]
  },
  {
   "cell_type": "code",
   "execution_count": null,
   "metadata": {
    "id": "2hEErCpATqDv"
   },
   "outputs": [],
   "source": [
    "un_dict = {2: \"deux\", 5:\"cinq\", 3:\"trois\"}"
   ]
  },
  {
   "cell_type": "code",
   "execution_count": null,
   "metadata": {
    "colab": {
     "base_uri": "https://localhost:8080/"
    },
    "id": "YKA071a-WOOM",
    "outputId": "81d4f5b4-cb88-4d15-808c-752e807dc4b4"
   },
   "outputs": [],
   "source": [
    "len(un_dict)"
   ]
  },
  {
   "cell_type": "code",
   "execution_count": null,
   "metadata": {
    "colab": {
     "base_uri": "https://localhost:8080/",
     "height": 35
    },
    "id": "WJWpI4V6TqTI",
    "outputId": "c19b0427-2f06-45bb-89af-b6ce29159edc"
   },
   "outputs": [],
   "source": [
    "un_dict[2]"
   ]
  },
  {
   "cell_type": "code",
   "execution_count": null,
   "metadata": {
    "colab": {
     "base_uri": "https://localhost:8080/",
     "height": 162
    },
    "id": "PaZJTkC1UGlr",
    "outputId": "48774bbf-aceb-4c7e-fc2a-5116f7dafffb"
   },
   "outputs": [],
   "source": [
    "un_dict[1]"
   ]
  },
  {
   "cell_type": "code",
   "execution_count": null,
   "metadata": {
    "colab": {
     "base_uri": "https://localhost:8080/",
     "height": 35
    },
    "id": "Pkb0eTdeUGzt",
    "outputId": "190abea3-94e8-44ae-bd88-f943217e847c"
   },
   "outputs": [],
   "source": [
    "un_dict[5]"
   ]
  },
  {
   "cell_type": "code",
   "execution_count": null,
   "metadata": {
    "id": "oofdUY0FVJwC"
   },
   "outputs": [],
   "source": [
    " d1 = {'a': 1, 'b': 2, 'c': 3, 'd': 4, 'a1': 5, 'b1': 10, 'c1': 8, 'd1': 6}"
   ]
  },
  {
   "cell_type": "code",
   "execution_count": null,
   "metadata": {
    "colab": {
     "base_uri": "https://localhost:8080/"
    },
    "id": "X0H1EBUZVUSS",
    "outputId": "b8d5aecf-4855-4759-963f-c9907fa31d51"
   },
   "outputs": [],
   "source": [
    "d1.items()"
   ]
  },
  {
   "cell_type": "code",
   "execution_count": null,
   "metadata": {
    "colab": {
     "base_uri": "https://localhost:8080/"
    },
    "id": "INPcvJ_qVJip",
    "outputId": "72c84d0b-018c-435e-de60-45ce7afaf3e5"
   },
   "outputs": [],
   "source": [
    "sorted(d1.items(), key=lambda t: t[0])"
   ]
  },
  {
   "cell_type": "code",
   "execution_count": null,
   "metadata": {
    "colab": {
     "base_uri": "https://localhost:8080/"
    },
    "id": "Q4DiLypcVJTu",
    "outputId": "1c8f0345-fc74-47e3-a5d2-a3fdc19fb7bc"
   },
   "outputs": [],
   "source": [
    "sorted(d1.items(), key=lambda t: t[1])"
   ]
  },
  {
   "cell_type": "code",
   "execution_count": null,
   "metadata": {
    "id": "YLJvH8Cgnx3q"
   },
   "outputs": [],
   "source": [
    "# Peut-on modifier les clés d'un dictionnaire"
   ]
  },
  {
   "cell_type": "code",
   "execution_count": null,
   "metadata": {
    "id": "Io0ua87bnyMa"
   },
   "outputs": [],
   "source": [
    "d = {\"a\": 1, \"b\": 2}"
   ]
  },
  {
   "cell_type": "code",
   "execution_count": null,
   "metadata": {
    "id": "wb11lTdjnyaS"
   },
   "outputs": [],
   "source": [
    "d[\"ab\"] = d['a']\n",
    "del d['a']\n",
    "d['ba'] = d['b']\n",
    "del d['b']"
   ]
  },
  {
   "cell_type": "code",
   "execution_count": null,
   "metadata": {
    "colab": {
     "base_uri": "https://localhost:8080/"
    },
    "id": "wePaN_Kenymq",
    "outputId": "14c29ab2-ca7e-461d-b784-c1c03d59f976"
   },
   "outputs": [],
   "source": [
    "print(d)"
   ]
  },
  {
   "cell_type": "code",
   "execution_count": null,
   "metadata": {
    "id": "LRiVxDs5nyyK"
   },
   "outputs": [],
   "source": []
  },
  {
   "cell_type": "markdown",
   "metadata": {
    "id": "Ll3lqDsXV82O"
   },
   "source": [
    "## Chaine de caractères: Es-tu une collection comme liste ?"
   ]
  },
  {
   "cell_type": "code",
   "execution_count": null,
   "metadata": {
    "id": "fYwDtuSRVwXj"
   },
   "outputs": [],
   "source": [
    "nom = \"Kevin\""
   ]
  },
  {
   "cell_type": "code",
   "execution_count": null,
   "metadata": {
    "colab": {
     "base_uri": "https://localhost:8080/"
    },
    "id": "KIjuN1LPVwES",
    "outputId": "6ff06a6c-1cad-44be-aab0-a01f382f6221"
   },
   "outputs": [],
   "source": [
    "len(nom)"
   ]
  },
  {
   "cell_type": "code",
   "execution_count": null,
   "metadata": {
    "colab": {
     "base_uri": "https://localhost:8080/",
     "height": 35
    },
    "id": "mMwk8EnTVv2X",
    "outputId": "97602b16-3ec8-4b13-bed9-e5983f719388"
   },
   "outputs": [],
   "source": [
    "nom[0]"
   ]
  },
  {
   "cell_type": "code",
   "execution_count": null,
   "metadata": {
    "colab": {
     "base_uri": "https://localhost:8080/",
     "height": 35
    },
    "id": "b0cpJgsgVvn7",
    "outputId": "0c1f23d5-17ee-4258-e804-0072e4fb4aae"
   },
   "outputs": [],
   "source": [
    "nom[:4]"
   ]
  },
  {
   "cell_type": "code",
   "execution_count": null,
   "metadata": {
    "colab": {
     "base_uri": "https://localhost:8080/",
     "height": 162
    },
    "id": "Jebm1Qm1VvZp",
    "outputId": "6867f959-5c46-48bf-fe27-a26360a2cc32"
   },
   "outputs": [],
   "source": [
    "nom[0] = \"k\""
   ]
  },
  {
   "cell_type": "code",
   "execution_count": null,
   "metadata": {
    "id": "84MrWckVVvFq"
   },
   "outputs": [],
   "source": [
    "nom = 'radji'"
   ]
  },
  {
   "cell_type": "code",
   "execution_count": null,
   "metadata": {
    "colab": {
     "base_uri": "https://localhost:8080/",
     "height": 35
    },
    "id": "fh6kRHUvVu17",
    "outputId": "cd80ad11-0a0a-4614-c751-0a20f56493f2"
   },
   "outputs": [],
   "source": [
    "nom.capitalize()"
   ]
  },
  {
   "cell_type": "code",
   "execution_count": null,
   "metadata": {
    "id": "hm8fkcUQVul4"
   },
   "outputs": [],
   "source": [
    "blabla = \"dnsbgshfhusbdhgkhjbgjfr\""
   ]
  },
  {
   "cell_type": "code",
   "execution_count": null,
   "metadata": {
    "colab": {
     "base_uri": "https://localhost:8080/"
    },
    "id": "mXM7DUTmUHDa",
    "outputId": "e7fcb8e3-3a26-4946-cb96-470d195e95f3"
   },
   "outputs": [],
   "source": [
    "blabla.find(\"h\")"
   ]
  },
  {
   "cell_type": "code",
   "execution_count": null,
   "metadata": {
    "colab": {
     "base_uri": "https://localhost:8080/"
    },
    "id": "Y0Z3BgWJXKoh",
    "outputId": "967b1217-b4a4-4cba-9c36-e4d72cf605fe"
   },
   "outputs": [],
   "source": [
    "blabla.count(\"h\")"
   ]
  },
  {
   "cell_type": "code",
   "execution_count": null,
   "metadata": {
    "colab": {
     "base_uri": "https://localhost:8080/"
    },
    "id": "daSR2JEKXKcj",
    "outputId": "54e92931-3329-4c0e-9bd6-5a5318c869f4"
   },
   "outputs": [],
   "source": [
    "\" \".isspace()"
   ]
  },
  {
   "cell_type": "code",
   "execution_count": null,
   "metadata": {
    "id": "1GMK1oIXXKN4"
   },
   "outputs": [],
   "source": []
  },
  {
   "cell_type": "code",
   "execution_count": null,
   "metadata": {
    "id": "47eeYuLRUHRy"
   },
   "outputs": [],
   "source": []
  },
  {
   "cell_type": "markdown",
   "metadata": {
    "id": "Xzg4vGhxJsse"
   },
   "source": [
    "# Recevoir des données de l'utilisateur"
   ]
  },
  {
   "cell_type": "code",
   "execution_count": null,
   "metadata": {
    "colab": {
     "base_uri": "https://localhost:8080/"
    },
    "id": "qE3EC_ZwXhsE",
    "outputId": "1b7ea0a0-b3cd-4ee9-c9b9-2eb1a25e1ee4"
   },
   "outputs": [],
   "source": [
    "nom = input(\"Quel est ton nom : \")"
   ]
  },
  {
   "cell_type": "code",
   "execution_count": null,
   "metadata": {
    "colab": {
     "base_uri": "https://localhost:8080/",
     "height": 35
    },
    "id": "UEgxxTMtXhfR",
    "outputId": "e053fa7a-a520-49d4-fa45-ecaba9ce4cca"
   },
   "outputs": [],
   "source": [
    "nom"
   ]
  },
  {
   "cell_type": "code",
   "execution_count": null,
   "metadata": {
    "colab": {
     "base_uri": "https://localhost:8080/"
    },
    "id": "-gBY4lw9XtY3",
    "outputId": "f1d1b3e8-cd34-4313-c9d6-ef9a2eb278ae"
   },
   "outputs": [],
   "source": [
    "username = input(\"Quel est ton nom d'utilisateur: \")\n",
    "password = input(\"Quel est ton mot de passe: \")\n",
    "print(\"Bonjour \",username, \" Votre mot de passe n'est pas sécurisé pour le moment. Je peux le lire, c'est : \", password)"
   ]
  },
  {
   "cell_type": "code",
   "execution_count": null,
   "metadata": {
    "colab": {
     "base_uri": "https://localhost:8080/"
    },
    "id": "Znw6THBxXtIg",
    "outputId": "6cdc2084-24ff-4dfb-86c3-3e91489c0d7f"
   },
   "outputs": [],
   "source": [
    "print(\"hhb\", username, \"jhvhd\", 15+12, \"bjgj\")"
   ]
  },
  {
   "cell_type": "code",
   "execution_count": null,
   "metadata": {
    "colab": {
     "base_uri": "https://localhost:8080/"
    },
    "id": "sNuby1vwXhRx",
    "outputId": "696cf975-2563-4e92-e368-67c04bd83671"
   },
   "outputs": [],
   "source": [
    "username = input(\"Quel est ton nom d'utilisateur: \")\n",
    "password = input(\"Quel est ton mot de passe: \")\n",
    "message = f\"Bonjour {username}. Votre mot de passe n'est pas sécurisé pour le moment. Je peux le lire, c'est :  {password}\"\n",
    "print(message)"
   ]
  },
  {
   "cell_type": "code",
   "execution_count": null,
   "metadata": {
    "colab": {
     "base_uri": "https://localhost:8080/"
    },
    "id": "7MVY7xnPXhDV",
    "outputId": "40381dec-8e8a-4693-ff86-930a2c8cb2a7"
   },
   "outputs": [],
   "source": [
    "age = input(\"Quel est ton age: \")"
   ]
  },
  {
   "cell_type": "code",
   "execution_count": null,
   "metadata": {
    "id": "dSoth5YpZrd3"
   },
   "outputs": [],
   "source": [
    "?input"
   ]
  },
  {
   "cell_type": "code",
   "execution_count": null,
   "metadata": {
    "colab": {
     "base_uri": "https://localhost:8080/"
    },
    "id": "fVT-QrktXg0t",
    "outputId": "f1c18b8f-bf9a-4aa9-b42f-6b224ec3eddd"
   },
   "outputs": [],
   "source": [
    "type(age)"
   ]
  },
  {
   "cell_type": "code",
   "execution_count": null,
   "metadata": {
    "colab": {
     "base_uri": "https://localhost:8080/",
     "height": 35
    },
    "id": "GhBwgKkhXglD",
    "outputId": "d150e47b-102d-435f-810e-7a2076f75292"
   },
   "outputs": [],
   "source": [
    "age"
   ]
  },
  {
   "cell_type": "code",
   "execution_count": null,
   "metadata": {
    "id": "cSTNTHJ1ZmHJ"
   },
   "outputs": [],
   "source": [
    "age = int(age)"
   ]
  },
  {
   "cell_type": "code",
   "execution_count": null,
   "metadata": {
    "colab": {
     "base_uri": "https://localhost:8080/"
    },
    "id": "ic4-JiyPZl7B",
    "outputId": "bf757691-2761-44ff-94d7-ef88d2187c0e"
   },
   "outputs": [],
   "source": [
    "age"
   ]
  },
  {
   "cell_type": "code",
   "execution_count": null,
   "metadata": {
    "id": "DPJXpZzwZluE"
   },
   "outputs": [],
   "source": []
  },
  {
   "cell_type": "code",
   "execution_count": null,
   "metadata": {
    "colab": {
     "base_uri": "https://localhost:8080/",
     "height": 178
    },
    "id": "dUg3MmIgZlgN",
    "outputId": "f5610b17-628f-4488-dec7-7e60c7a07584"
   },
   "outputs": [],
   "source": [
    "age = int(input(\"Quel est ton age: \"))"
   ]
  },
  {
   "cell_type": "code",
   "execution_count": null,
   "metadata": {
    "colab": {
     "base_uri": "https://localhost:8080/"
    },
    "id": "GF2PxNKMJsse",
    "outputId": "f006939f-db62-4ecf-cce1-a6145cc9c15f"
   },
   "outputs": [],
   "source": [
    "age = int(input(\"Quel est ton age: \"))"
   ]
  },
  {
   "cell_type": "code",
   "execution_count": null,
   "metadata": {
    "colab": {
     "base_uri": "https://localhost:8080/"
    },
    "id": "23GXk-3zJsse",
    "outputId": "c79919de-4c3f-4f75-ecce-9b760b7b4fc4"
   },
   "outputs": [],
   "source": [
    "age"
   ]
  },
  {
   "cell_type": "code",
   "execution_count": null,
   "metadata": {
    "id": "FiIrNY57aPyr"
   },
   "outputs": [],
   "source": []
  },
  {
   "cell_type": "code",
   "execution_count": null,
   "metadata": {
    "id": "uYp5n2OSaPke"
   },
   "outputs": [],
   "source": [
    "username = input(\"Quel est ton nom d'utilisateur: \")\n",
    "password = input(\"Quel est ton mot de passe: \")\n",
    "second_password = \"\"\n",
    "print(\"Bonjour \",username, \" Votre mot de passe n'est pas sécurisé pour le moment. Je peux le lire, c'est : \", password)"
   ]
  },
  {
   "cell_type": "markdown",
   "metadata": {
    "id": "CdbAQKACJsse"
   },
   "source": [
    "# Mon programme prend des décisions"
   ]
  },
  {
   "cell_type": "markdown",
   "metadata": {
    "id": "UrWUep6IJssf"
   },
   "source": [
    "## Conditions"
   ]
  },
  {
   "cell_type": "code",
   "execution_count": null,
   "metadata": {
    "colab": {
     "base_uri": "https://localhost:8080/"
    },
    "id": "dDr_QuLwYd89",
    "outputId": "da0bf6d8-b4c5-4ed1-8ea6-1f7ac14e971e"
   },
   "outputs": [],
   "source": [
    "True, False"
   ]
  },
  {
   "cell_type": "code",
   "execution_count": null,
   "metadata": {
    "id": "eHwYIM5rYduX"
   },
   "outputs": [],
   "source": [
    "courses = [\"bananes\", \"raisin\"]\n",
    "courses_kevin = [\"bananes\"]"
   ]
  },
  {
   "cell_type": "code",
   "execution_count": null,
   "metadata": {
    "colab": {
     "base_uri": "https://localhost:8080/"
    },
    "id": "ckYeW1vcYded",
    "outputId": "fdc477bb-ee81-4b84-ab0e-3249a7f754fe"
   },
   "outputs": [],
   "source": [
    "courses == courses_kevin"
   ]
  },
  {
   "cell_type": "code",
   "execution_count": null,
   "metadata": {
    "colab": {
     "base_uri": "https://localhost:8080/"
    },
    "id": "95jwq5ljYdRX",
    "outputId": "8066ad35-321f-4f23-a35c-b00bfabc0165"
   },
   "outputs": [],
   "source": [
    "courses != courses_kevin"
   ]
  },
  {
   "cell_type": "code",
   "execution_count": null,
   "metadata": {
    "colab": {
     "base_uri": "https://localhost:8080/"
    },
    "id": "z4CyUEJ0YdCL",
    "outputId": "7b7e8de1-e2d1-4622-98dc-7bd45281fda5"
   },
   "outputs": [],
   "source": [
    "5 == 5"
   ]
  },
  {
   "cell_type": "code",
   "execution_count": null,
   "metadata": {
    "colab": {
     "base_uri": "https://localhost:8080/"
    },
    "id": "F91QbJgAZFb1",
    "outputId": "a4e4886c-ee2b-4f9b-9e4e-15aaf1009647"
   },
   "outputs": [],
   "source": [
    "\"Kevin\" == \"kevin\""
   ]
  },
  {
   "cell_type": "code",
   "execution_count": null,
   "metadata": {
    "colab": {
     "base_uri": "https://localhost:8080/"
    },
    "id": "XqLKL6fnZFVT",
    "outputId": "7dcf004b-e919-413c-d111-76865513fbac"
   },
   "outputs": [],
   "source": [
    " 3 < 5"
   ]
  },
  {
   "cell_type": "code",
   "execution_count": null,
   "metadata": {
    "colab": {
     "base_uri": "https://localhost:8080/"
    },
    "id": "nzc5_WDYZFMX",
    "outputId": "2cfd6bd5-6374-4027-d0ff-0a6d342907b0"
   },
   "outputs": [],
   "source": [
    "5 > 9"
   ]
  },
  {
   "cell_type": "code",
   "execution_count": null,
   "metadata": {
    "colab": {
     "base_uri": "https://localhost:8080/"
    },
    "id": "RS3WhTR1ZE_F",
    "outputId": "d2f70f09-2aa7-4f2c-f0bf-6e37c1c91edb"
   },
   "outputs": [],
   "source": [
    "3 <= 5"
   ]
  },
  {
   "cell_type": "code",
   "execution_count": null,
   "metadata": {
    "colab": {
     "base_uri": "https://localhost:8080/"
    },
    "id": "5I19MBJQYcw2",
    "outputId": "a2fb1948-f3a0-47b7-a1c2-d8641c514443"
   },
   "outputs": [],
   "source": [
    "5 >= 5"
   ]
  },
  {
   "cell_type": "code",
   "execution_count": null,
   "metadata": {
    "colab": {
     "base_uri": "https://localhost:8080/"
    },
    "id": "uzTg19uyZzbe",
    "outputId": "45b3e334-7fc4-49ca-b868-923273b13feb"
   },
   "outputs": [],
   "source": [
    " (3 > 5) and (2 < 3)"
   ]
  },
  {
   "cell_type": "code",
   "execution_count": null,
   "metadata": {
    "colab": {
     "base_uri": "https://localhost:8080/"
    },
    "id": "VDzooFzYZzOW",
    "outputId": "26aec795-3837-4ffc-a822-4c93916e7149"
   },
   "outputs": [],
   "source": [
    "(\"kevin\" == \"kevin\") and (5 > 2)"
   ]
  },
  {
   "cell_type": "code",
   "execution_count": null,
   "metadata": {
    "colab": {
     "base_uri": "https://localhost:8080/"
    },
    "id": "9mqDxd_7ZzAX",
    "outputId": "0df1bbaf-b91f-4ca3-d2a7-11a8fa0d0d10"
   },
   "outputs": [],
   "source": [
    "5 > 3 or 2 > 20"
   ]
  },
  {
   "cell_type": "markdown",
   "metadata": {
    "id": "rNFgqOt5Jssf"
   },
   "source": [
    "## Si ..."
   ]
  },
  {
   "cell_type": "code",
   "execution_count": null,
   "metadata": {
    "colab": {
     "base_uri": "https://localhost:8080/"
    },
    "id": "9geHnLegaoKT",
    "outputId": "70889dc4-11d1-455d-9492-0b7469593b1c"
   },
   "outputs": [],
   "source": [
    "note = int(input(\" Quel est ta note : \"))\n",
    "if note > 12:\n",
    "  print(\"Vous êtes admis\")\n",
    "elif note < 0:\n",
    "  print('Votre note ne peut pas être inférieur à 0')\n",
    "else:\n",
    "  print(\"Vous avez échoué\")"
   ]
  },
  {
   "cell_type": "code",
   "execution_count": null,
   "metadata": {
    "id": "xxREdLKran6H"
   },
   "outputs": [],
   "source": [
    "#else if = elif"
   ]
  },
  {
   "cell_type": "code",
   "execution_count": null,
   "metadata": {
    "id": "KxcUKoiPanpP"
   },
   "outputs": [],
   "source": [
    "l = [4]"
   ]
  },
  {
   "cell_type": "code",
   "execution_count": null,
   "metadata": {
    "colab": {
     "base_uri": "https://localhost:8080/"
    },
    "id": "Rgp0xswvb-9b",
    "outputId": "2433e09c-6478-47ce-8bfc-c5ac49f8e135"
   },
   "outputs": [],
   "source": [
    "bool(l)"
   ]
  },
  {
   "cell_type": "code",
   "execution_count": null,
   "metadata": {
    "id": "IuQ1QvAPanVS"
   },
   "outputs": [],
   "source": [
    "if True:\n",
    "  print(\"l n'est pas vide\")"
   ]
  },
  {
   "cell_type": "code",
   "execution_count": null,
   "metadata": {
    "colab": {
     "base_uri": "https://localhost:8080/",
     "height": 128
    },
    "id": "DtGCThCBJssf",
    "outputId": "4b5ae7cd-9135-483c-9440-72db24d4b25f"
   },
   "outputs": [],
   "source": [
    "if 5 > 2\n",
    "  print(\"hjbbhh\")"
   ]
  },
  {
   "cell_type": "code",
   "execution_count": null,
   "metadata": {
    "colab": {
     "base_uri": "https://localhost:8080/"
    },
    "id": "hO-OM8irJssf",
    "outputId": "b46ae6d7-482e-436e-ac3f-0bfd6f0dbd88"
   },
   "outputs": [],
   "source": [
    "if 5 > 2:\n",
    "  print(\"hjbbhh\")"
   ]
  },
  {
   "cell_type": "markdown",
   "metadata": {
    "id": "gyxByX0fJssg"
   },
   "source": [
    "## Répeter un comportement"
   ]
  },
  {
   "cell_type": "code",
   "execution_count": null,
   "metadata": {
    "id": "SkaHrcjGcfnk"
   },
   "outputs": [],
   "source": [
    "liste_prenoms = [\"radji\", 'rock', 'ray']"
   ]
  },
  {
   "cell_type": "code",
   "execution_count": null,
   "metadata": {
    "colab": {
     "base_uri": "https://localhost:8080/",
     "height": 35
    },
    "id": "xCr6gph_cfXU",
    "outputId": "043191c9-8b9b-4883-8ad6-1a05a7bbe7b9"
   },
   "outputs": [],
   "source": [
    "'radji'.capitalize()"
   ]
  },
  {
   "cell_type": "code",
   "execution_count": null,
   "metadata": {
    "id": "HPQpwm22cfF1"
   },
   "outputs": [],
   "source": [
    "liste_prenoms[0] = prenoms[0].capitalize()"
   ]
  },
  {
   "cell_type": "code",
   "execution_count": null,
   "metadata": {
    "id": "MFmvRDtnc4Jq"
   },
   "outputs": [],
   "source": [
    "pour chaque prenom dans la liste prenoms:\n",
    "    capitalise le prenom"
   ]
  },
  {
   "cell_type": "code",
   "execution_count": null,
   "metadata": {
    "colab": {
     "base_uri": "https://localhost:8080/"
    },
    "id": "260VNC6tdBFO",
    "outputId": "461234f6-f8c9-4058-9427-00746a911e56"
   },
   "outputs": [],
   "source": [
    "for prenom in liste_prenoms:\n",
    "  cap = prenom.capitalize()\n",
    "  print(cap)"
   ]
  },
  {
   "cell_type": "code",
   "execution_count": null,
   "metadata": {
    "colab": {
     "base_uri": "https://localhost:8080/"
    },
    "id": "_1RM5UYsc37N",
    "outputId": "0e74cf9a-fdab-40eb-e84a-4d07b4c67bdc"
   },
   "outputs": [],
   "source": [
    "prenom_cap = []\n",
    "for prenom in liste_prenoms:\n",
    "  cap = prenom.capitalize()\n",
    "  prenom_cap.append(cap)\n",
    "print(prenom_cap)"
   ]
  },
  {
   "cell_type": "code",
   "execution_count": null,
   "metadata": {
    "id": "GBS4_6k-c3aY"
   },
   "outputs": [],
   "source": [
    "nombres = [2, 4 ,6,8]"
   ]
  },
  {
   "cell_type": "code",
   "execution_count": null,
   "metadata": {
    "colab": {
     "base_uri": "https://localhost:8080/"
    },
    "id": "0bb3Oi2Qcew8",
    "outputId": "ad202907-8133-4a24-a41f-19fd7bb43078"
   },
   "outputs": [],
   "source": [
    "for n in nombres:\n",
    "  suivant = n + 1\n",
    "  print(suivant)"
   ]
  },
  {
   "cell_type": "code",
   "execution_count": null,
   "metadata": {
    "colab": {
     "base_uri": "https://localhost:8080/"
    },
    "id": "UK0ae8e4Jssg",
    "outputId": "ebeb12f1-7491-47ee-8819-db85259afd30"
   },
   "outputs": [],
   "source": [
    "nombres_plus_un = []\n",
    "for n in nombres:\n",
    "  suivant = n + 1\n",
    "  nombres_plus_un.append(suivant)\n",
    "  print(suivant)"
   ]
  },
  {
   "cell_type": "code",
   "execution_count": null,
   "metadata": {
    "colab": {
     "base_uri": "https://localhost:8080/"
    },
    "id": "ThEaBgjpexfT",
    "outputId": "a2dc0a3a-b0fd-4cde-c881-559101497d30"
   },
   "outputs": [],
   "source": [
    "print(nombres_plus_un)"
   ]
  },
  {
   "cell_type": "code",
   "execution_count": null,
   "metadata": {
    "colab": {
     "base_uri": "https://localhost:8080/"
    },
    "id": "qac00SjKe3Bs",
    "outputId": "594efc5d-61c8-460f-c2e9-74b383eea6e2"
   },
   "outputs": [],
   "source": [
    "salaires = [5, 4, 2, 8, 9, 1]\n",
    "richesse = 0\n",
    "for cheque in salaires:\n",
    "  richesse = richesse + cheque\n",
    "print(richesse)"
   ]
  },
  {
   "cell_type": "code",
   "execution_count": null,
   "metadata": {
    "colab": {
     "base_uri": "https://localhost:8080/"
    },
    "id": "-EJnGNG1fkuj",
    "outputId": "e1506ef7-1168-4d79-8eb7-0524e86836fd"
   },
   "outputs": [],
   "source": [
    "salaires = [5, 4, 2, 8, 9, 1]\n",
    "richesse = 0\n",
    "for cheque in salaires[0:2]:\n",
    "  richesse += cheque\n",
    "print(richesse)"
   ]
  },
  {
   "cell_type": "code",
   "execution_count": null,
   "metadata": {
    "colab": {
     "base_uri": "https://localhost:8080/"
    },
    "id": "2_nL4fr7fka-",
    "outputId": "ec3f7158-b063-46df-e512-fcde6a76abcc"
   },
   "outputs": [],
   "source": [
    "prenom = \"Ali\"\n",
    "for lettre in prenom:\n",
    "  print(lettre)"
   ]
  },
  {
   "cell_type": "code",
   "execution_count": null,
   "metadata": {
    "colab": {
     "base_uri": "https://localhost:8080/"
    },
    "id": "iXozmbABe2rk",
    "outputId": "2a64eef3-f620-46b1-9dfe-e95b00929979"
   },
   "outputs": [],
   "source": [
    "annuaire = {\"kevin\": \"06545885852\",\n",
    "            \"radji\": \"06466548454\"}\n",
    "for personne in annuaire:\n",
    "  print(personne)"
   ]
  },
  {
   "cell_type": "code",
   "execution_count": null,
   "metadata": {
    "colab": {
     "base_uri": "https://localhost:8080/"
    },
    "id": "5eSGno3Kh9yb",
    "outputId": "a367a8ff-6b21-4a49-be75-11f74ccb7ed2"
   },
   "outputs": [],
   "source": [
    "annuaire = {\"rock\": \"06545885852\",\n",
    "            \"radji\": \"06466548454\"}\n",
    "for element in annuaire:\n",
    "  print(element)"
   ]
  },
  {
   "cell_type": "code",
   "execution_count": null,
   "metadata": {
    "colab": {
     "base_uri": "https://localhost:8080/"
    },
    "id": "n8EhMobPe18H",
    "outputId": "360efbba-4b14-46a9-fe85-44ba7fd17ec7"
   },
   "outputs": [],
   "source": [
    "annuaire = {\"kevin\": \"06545885852\", \"radji\": \"06466548454\"}\n",
    "for numero in annuaire.values():\n",
    "  print(numero)"
   ]
  },
  {
   "cell_type": "code",
   "execution_count": null,
   "metadata": {
    "colab": {
     "base_uri": "https://localhost:8080/"
    },
    "id": "HQUfHkM2hTkK",
    "outputId": "39898f43-e6a3-4563-9c25-790be16ac4e6"
   },
   "outputs": [],
   "source": [
    "annuaire.items()"
   ]
  },
  {
   "cell_type": "code",
   "execution_count": null,
   "metadata": {
    "colab": {
     "base_uri": "https://localhost:8080/"
    },
    "id": "joXORTZLhTYW",
    "outputId": "c74b9077-a467-422a-de04-996e3ac870cd"
   },
   "outputs": [],
   "source": [
    "for nom, numero in annuaire.items():\n",
    "  print(f'{nom}, Voici votre numero: {numero}')"
   ]
  },
  {
   "cell_type": "code",
   "execution_count": null,
   "metadata": {
    "id": "WebskRT1hTNV"
   },
   "outputs": [],
   "source": []
  },
  {
   "cell_type": "code",
   "execution_count": null,
   "metadata": {
    "id": "_rPFqWn9hTAV"
   },
   "outputs": [],
   "source": []
  },
  {
   "cell_type": "code",
   "execution_count": null,
   "metadata": {
    "colab": {
     "base_uri": "https://localhost:8080/"
    },
    "id": "O_KAYpXZi68k",
    "outputId": "4f14c7f4-68f8-4600-d10c-39f714fe3042"
   },
   "outputs": [],
   "source": [
    "for nom, numero in annuaire.items(): # [('kevin', '06545885852'), ('radji', '06466548454')]\n",
    "  annuaire[nom] = \"55\" + numero\n",
    "  print(f'{nom}, Voici votre numero: {annuaire[nom]}')"
   ]
  },
  {
   "cell_type": "code",
   "execution_count": null,
   "metadata": {
    "colab": {
     "base_uri": "https://localhost:8080/"
    },
    "id": "SIbpSkHki6qj",
    "outputId": "53d5e375-1bf7-4990-bfc6-6f724990e72d"
   },
   "outputs": [],
   "source": [
    "annuaire"
   ]
  },
  {
   "cell_type": "code",
   "execution_count": null,
   "metadata": {
    "id": "4NlrguC8i6Pj"
   },
   "outputs": [],
   "source": []
  },
  {
   "cell_type": "code",
   "execution_count": null,
   "metadata": {
    "id": "_cVClOuMi59a"
   },
   "outputs": [],
   "source": []
  },
  {
   "cell_type": "code",
   "execution_count": null,
   "metadata": {
    "id": "qEIjcEZJJssg"
   },
   "outputs": [],
   "source": []
  },
  {
   "cell_type": "code",
   "execution_count": null,
   "metadata": {
    "id": "loaJhB9To_Fi"
   },
   "outputs": [],
   "source": [
    "students = ['kevin', 'moise', 'paul', 'radji', 'rock', 'ray']"
   ]
  },
  {
   "cell_type": "code",
   "execution_count": null,
   "metadata": {
    "id": "JADR3MfmpGjy"
   },
   "outputs": [],
   "source": [
    "# Verifie si paul est l'un des étudiants"
   ]
  },
  {
   "cell_type": "code",
   "execution_count": null,
   "metadata": {
    "colab": {
     "base_uri": "https://localhost:8080/"
    },
    "id": "pzAqcU9-pOAJ",
    "outputId": "791a727d-7078-4712-8074-c45ee2f5b091"
   },
   "outputs": [],
   "source": [
    "for nom in students:\n",
    "  if nom == 'paul':\n",
    "    print(\"trouvé\")\n",
    "    break\n",
    "  else:\n",
    "    print(\"recherche en cours\")\n",
    "  \n",
    "  "
   ]
  },
  {
   "cell_type": "code",
   "execution_count": null,
   "metadata": {
    "colab": {
     "base_uri": "https://localhost:8080/"
    },
    "id": "f0CBYHKWpNqZ",
    "outputId": "c8b3984c-ed94-4201-b16d-596cad9e462a"
   },
   "outputs": [],
   "source": [
    "\"paul\" in students"
   ]
  },
  {
   "cell_type": "code",
   "execution_count": null,
   "metadata": {
    "colab": {
     "base_uri": "https://localhost:8080/"
    },
    "id": "m8cnpHhGpNch",
    "outputId": "71ec3434-3214-4421-a995-73eb45686653"
   },
   "outputs": [],
   "source": [
    "\"pierre\" in students"
   ]
  },
  {
   "cell_type": "code",
   "execution_count": null,
   "metadata": {
    "colab": {
     "base_uri": "https://localhost:8080/"
    },
    "id": "6pGdoYeApNMJ",
    "outputId": "fee0ed6d-8fa5-4be6-f74a-337b82b30bc0"
   },
   "outputs": [],
   "source": [
    "for i, nom in enumerate(students):\n",
    "  print(i)\n",
    "  print(nom)\n",
    "  if nom == 'paul':\n",
    "    del students[i]\n",
    "    students.remove('paul')"
   ]
  },
  {
   "cell_type": "code",
   "execution_count": null,
   "metadata": {
    "id": "RsQaivD3q-c5"
   },
   "outputs": [],
   "source": []
  },
  {
   "cell_type": "code",
   "execution_count": null,
   "metadata": {
    "colab": {
     "base_uri": "https://localhost:8080/"
    },
    "id": "DDxZs_qSJssg",
    "outputId": "d178840f-d78a-42b7-e577-23e885b78105"
   },
   "outputs": [],
   "source": [
    "compteur = 0\n",
    "for nombre in range(5, 21):\n",
    "  print(nombre)\n",
    "  compteur += 2 # compteur = compteur + 2\n",
    "\n",
    "  if compteur == 6:\n",
    "    continue\n",
    "  print(\"parcours ........\")"
   ]
  },
  {
   "cell_type": "code",
   "execution_count": null,
   "metadata": {
    "id": "xdZoTJ2dJssg"
   },
   "outputs": [],
   "source": []
  },
  {
   "cell_type": "markdown",
   "metadata": {
    "id": "ZDQdM4YaJssg"
   },
   "source": [
    "## Tant que "
   ]
  },
  {
   "cell_type": "code",
   "execution_count": null,
   "metadata": {
    "colab": {
     "base_uri": "https://localhost:8080/"
    },
    "id": "24dKazLItCBI",
    "outputId": "985bdeb5-93e7-4015-d7ea-7b153d959678"
   },
   "outputs": [],
   "source": [
    "note = int(input(\"Donne ta note : \"))"
   ]
  },
  {
   "cell_type": "code",
   "execution_count": null,
   "metadata": {
    "colab": {
     "base_uri": "https://localhost:8080/"
    },
    "id": "TYZH8NR6tB1N",
    "outputId": "275dfac4-1dc4-4dfd-b107-dc52984b5e10"
   },
   "outputs": [],
   "source": [
    "note"
   ]
  },
  {
   "cell_type": "code",
   "execution_count": null,
   "metadata": {
    "id": "xcHZEysYtBn6"
   },
   "outputs": [],
   "source": [
    "note = -1\n",
    "*Tant que ta note n'est pas entre 0 et 20:\n",
    "   donne ta note"
   ]
  },
  {
   "cell_type": "code",
   "execution_count": null,
   "metadata": {
    "colab": {
     "base_uri": "https://localhost:8080/"
    },
    "id": "S19dQx5CtmHI",
    "outputId": "de108243-42ee-42c4-c169-fade9b392265"
   },
   "outputs": [],
   "source": [
    "note = -1\n",
    "while note < 0 or note > 20:\n",
    "  print(\"La note doit être entre 0 et 20\")\n",
    "  note = int(input(\"Donne ta note : \")) #23\n",
    "  "
   ]
  },
  {
   "cell_type": "code",
   "execution_count": null,
   "metadata": {
    "colab": {
     "base_uri": "https://localhost:8080/"
    },
    "id": "oxcC9Lnquc_K",
    "outputId": "11ebaaf1-80b1-422a-e5f0-c39c07679965"
   },
   "outputs": [],
   "source": [
    "nombre_de_cas = 520\n",
    "while nombre_de_cas > 50:\n",
    "  print(\"Vous êtes confiné\")\n",
    "  nombre_de_cas -= 80\n",
    "  print(nombre_de_cas)"
   ]
  },
  {
   "cell_type": "markdown",
   "metadata": {
    "id": "DVTPmC8pJssh"
   },
   "source": [
    "# Les fonctions et Modules en Python"
   ]
  },
  {
   "cell_type": "code",
   "execution_count": null,
   "metadata": {
    "colab": {
     "base_uri": "https://localhost:8080/"
    },
    "id": "iC4n65kIvKjM",
    "outputId": "95bda394-2bef-42b9-b90d-0c8429ab9bea"
   },
   "outputs": [],
   "source": [
    "type(nombre_de_cas)"
   ]
  },
  {
   "cell_type": "code",
   "execution_count": null,
   "metadata": {
    "colab": {
     "base_uri": "https://localhost:8080/"
    },
    "id": "ecga0oAMvKYH",
    "outputId": "50068be9-22bd-4a0e-e016-2da3c8037973"
   },
   "outputs": [],
   "source": [
    "print(\"FGHJFGTGYFHTGYJF\")"
   ]
  },
  {
   "cell_type": "code",
   "execution_count": null,
   "metadata": {
    "colab": {
     "base_uri": "https://localhost:8080/"
    },
    "id": "2GGj2wytvKNQ",
    "outputId": "6025ce6a-36db-4c2a-bfa8-022607d98918"
   },
   "outputs": [],
   "source": [
    "list(range(2, 9))"
   ]
  },
  {
   "cell_type": "code",
   "execution_count": null,
   "metadata": {
    "colab": {
     "base_uri": "https://localhost:8080/"
    },
    "id": "XjlFKfy282wN",
    "outputId": "3545c860-1792-4172-8033-3e1d57c77d84"
   },
   "outputs": [],
   "source": [
    "list(range(5))"
   ]
  },
  {
   "cell_type": "code",
   "execution_count": null,
   "metadata": {
    "colab": {
     "base_uri": "https://localhost:8080/"
    },
    "id": "txMDgucQ8zl1",
    "outputId": "1905e541-dd3a-48c5-d722-7703e099988e"
   },
   "outputs": [],
   "source": [
    "list(range(2, 9, 2))"
   ]
  },
  {
   "cell_type": "code",
   "execution_count": null,
   "metadata": {
    "id": "2K_ahbWCvKCq"
   },
   "outputs": [],
   "source": [
    "def est_pair(nombre):\n",
    "  if nombre % 2 == 0:\n",
    "    return True\n",
    "  else:\n",
    "    return False"
   ]
  },
  {
   "cell_type": "code",
   "execution_count": null,
   "metadata": {
    "colab": {
     "base_uri": "https://localhost:8080/"
    },
    "id": "O_2srKMsvJ3X",
    "outputId": "d8e7bd25-3044-4c1a-9b0b-d4019c47d1d8"
   },
   "outputs": [],
   "source": [
    "est_pair(5)"
   ]
  },
  {
   "cell_type": "code",
   "execution_count": null,
   "metadata": {
    "id": "RJRi9Sm-vJpI"
   },
   "outputs": [],
   "source": [
    "def salue(nom):\n",
    "  print(f\"Bonjour {nom}\")"
   ]
  },
  {
   "cell_type": "code",
   "execution_count": null,
   "metadata": {
    "colab": {
     "base_uri": "https://localhost:8080/"
    },
    "id": "ZCUHQmUaJssh",
    "outputId": "c14e2f8b-24cf-492e-a860-8a1733aed864"
   },
   "outputs": [],
   "source": [
    "salue(\"Rock\")"
   ]
  },
  {
   "cell_type": "code",
   "execution_count": null,
   "metadata": {
    "colab": {
     "base_uri": "https://localhost:8080/"
    },
    "id": "kksFHXJ5Jssh",
    "outputId": "86174e3b-9480-4ec4-cbd7-80a9548e7a26"
   },
   "outputs": [],
   "source": [
    "salue(\"Paul\")"
   ]
  },
  {
   "cell_type": "code",
   "execution_count": null,
   "metadata": {
    "colab": {
     "base_uri": "https://localhost:8080/",
     "height": 162
    },
    "id": "A9keK0slwYhE",
    "outputId": "58fd1469-ce0b-451e-8c20-a0569ec2f9c8"
   },
   "outputs": [],
   "source": [
    "salue()"
   ]
  },
  {
   "cell_type": "code",
   "execution_count": null,
   "metadata": {
    "id": "o3RHhQUWwfem"
   },
   "outputs": [],
   "source": [
    "def salue(nom=\"utilisateur\"):\n",
    "  print(f\"Bonjour {nom}\")"
   ]
  },
  {
   "cell_type": "code",
   "execution_count": null,
   "metadata": {
    "colab": {
     "base_uri": "https://localhost:8080/"
    },
    "id": "oPUWJuqVwYTe",
    "outputId": "9cf7ae77-ddfb-465c-af04-9c276054ff0f"
   },
   "outputs": [],
   "source": [
    "salue('Radji')"
   ]
  },
  {
   "cell_type": "code",
   "execution_count": null,
   "metadata": {
    "colab": {
     "base_uri": "https://localhost:8080/"
    },
    "id": "hmF1hzTiwYJ_",
    "outputId": "c86998b9-9100-4921-a5dd-140314ac7fdd"
   },
   "outputs": [],
   "source": [
    "salue()"
   ]
  },
  {
   "cell_type": "code",
   "execution_count": null,
   "metadata": {
    "id": "JJMX5_4VwX_i"
   },
   "outputs": [],
   "source": [
    "message = \"Ce message est en dehors d'une fonction\"\n",
    "\n",
    "def affiche_message():\n",
    "  print(message)"
   ]
  },
  {
   "cell_type": "code",
   "execution_count": null,
   "metadata": {
    "colab": {
     "base_uri": "https://localhost:8080/"
    },
    "id": "MPYrIFDowXxX",
    "outputId": "eddf6f02-a9fb-4690-9a91-589d85c3f62e"
   },
   "outputs": [],
   "source": [
    "affiche_message()"
   ]
  },
  {
   "cell_type": "code",
   "execution_count": null,
   "metadata": {
    "id": "CXZDbgR1wXdP"
   },
   "outputs": [],
   "source": [
    "message = \"Ce message est en dehors d'une fonction\"\n",
    "\n",
    "def affiche_message():\n",
    "  print(message)\n",
    "  new_msg = \"Ceci est dans la fonction\""
   ]
  },
  {
   "cell_type": "code",
   "execution_count": null,
   "metadata": {
    "colab": {
     "base_uri": "https://localhost:8080/"
    },
    "id": "vGYTxRoywWxA",
    "outputId": "c6eae09b-5a2c-4fa7-815f-d2a14355a350"
   },
   "outputs": [],
   "source": [
    "print(message)"
   ]
  },
  {
   "cell_type": "code",
   "execution_count": null,
   "metadata": {
    "colab": {
     "base_uri": "https://localhost:8080/",
     "height": 162
    },
    "id": "dgDYUr6fJssh",
    "outputId": "05151420-e67a-46dc-dc86-87aec5739f53"
   },
   "outputs": [],
   "source": [
    "print(new_msg)"
   ]
  },
  {
   "cell_type": "code",
   "execution_count": null,
   "metadata": {
    "colab": {
     "base_uri": "https://localhost:8080/"
    },
    "id": "HczrKCQZyG7_",
    "outputId": "a7282ca4-41f2-4a32-c6fe-af229b1b08ba"
   },
   "outputs": [],
   "source": [
    "salue(\"degila kevin\")"
   ]
  },
  {
   "cell_type": "code",
   "execution_count": null,
   "metadata": {
    "id": "wckCVdA9yHcD"
   },
   "outputs": [],
   "source": [
    "identité = [\"degila\", \"kevin\", \"jose\"]"
   ]
  },
  {
   "cell_type": "code",
   "execution_count": null,
   "metadata": {
    "id": "SdvgAYBOyHvP"
   },
   "outputs": [],
   "source": [
    "def salue(*noms):\n",
    "  print(f\"Bonjour {noms[0]}, et les autres {noms[1:]}\")"
   ]
  },
  {
   "cell_type": "code",
   "execution_count": null,
   "metadata": {
    "colab": {
     "base_uri": "https://localhost:8080/"
    },
    "id": "1uTjQhMmyIHv",
    "outputId": "093b56f5-fb41-4ec9-81ea-bd1c6e1b5e12"
   },
   "outputs": [],
   "source": [
    "salue(\"kevin\", \"rock\", \"radji\", \"moise\")"
   ]
  },
  {
   "cell_type": "code",
   "execution_count": null,
   "metadata": {
    "id": "fyhp3yyT0tdO"
   },
   "outputs": [],
   "source": [
    "def somme(a, b=0, c=0, d=0):\n",
    "  return a + b + c + d"
   ]
  },
  {
   "cell_type": "code",
   "execution_count": null,
   "metadata": {
    "colab": {
     "base_uri": "https://localhost:8080/"
    },
    "id": "66KTb0VA0tTT",
    "outputId": "da922434-c7f2-4fed-8a85-049ca0d03b8e"
   },
   "outputs": [],
   "source": [
    "somme( 12, 3)"
   ]
  },
  {
   "cell_type": "code",
   "execution_count": null,
   "metadata": {
    "colab": {
     "base_uri": "https://localhost:8080/"
    },
    "id": "3VdoRfOD0tHz",
    "outputId": "42780e78-224a-4d76-8391-3554c92f5c86"
   },
   "outputs": [],
   "source": [
    "somme( 12, 3, 2)"
   ]
  },
  {
   "cell_type": "code",
   "execution_count": null,
   "metadata": {
    "colab": {
     "base_uri": "https://localhost:8080/",
     "height": 162
    },
    "id": "tj1jeLDl0s7m",
    "outputId": "d662ee15-4bc8-4031-d71f-8f7c39eccb17"
   },
   "outputs": [],
   "source": [
    "somme( 12, 3, 2, 5, 6,8)"
   ]
  },
  {
   "cell_type": "code",
   "execution_count": null,
   "metadata": {
    "id": "TpUJOA_n0stN"
   },
   "outputs": [],
   "source": [
    "def somme(a, *nombres):\n",
    "  resultat = a\n",
    "  print(nombres)\n",
    "  print(type(nombres))\n",
    "  for n in nombres:\n",
    "\n",
    "    resultat += n\n",
    "  return resultat\n"
   ]
  },
  {
   "cell_type": "code",
   "execution_count": null,
   "metadata": {
    "id": "VF5gCetw2BkJ"
   },
   "outputs": [],
   "source": []
  },
  {
   "cell_type": "code",
   "execution_count": null,
   "metadata": {
    "colab": {
     "base_uri": "https://localhost:8080/"
    },
    "id": "iy1t6fj-0sY3",
    "outputId": "9856b228-5144-49c9-b6e6-c7ee50f1907d"
   },
   "outputs": [],
   "source": [
    "somme(15, 5, 6, 9, 10, 15,10,54,788,511,14155)"
   ]
  },
  {
   "cell_type": "code",
   "execution_count": null,
   "metadata": {
    "id": "XNdLPqzX3KZK"
   },
   "outputs": [],
   "source": [
    "salue_simple = lambda nom: print(\"bonjour\", nom)"
   ]
  },
  {
   "cell_type": "code",
   "execution_count": null,
   "metadata": {
    "colab": {
     "base_uri": "https://localhost:8080/"
    },
    "id": "f5JN2hqQ3KPY",
    "outputId": "cc8caf32-6bfc-42ba-d968-de94e93ff147"
   },
   "outputs": [],
   "source": [
    "salue_simple('Radji')"
   ]
  },
  {
   "cell_type": "code",
   "execution_count": null,
   "metadata": {
    "id": "2i7en_RY3KE9"
   },
   "outputs": [],
   "source": [
    "cadeau = lambda note: note + 5 "
   ]
  },
  {
   "cell_type": "code",
   "execution_count": null,
   "metadata": {
    "id": "G7k3mn_z4A-W"
   },
   "outputs": [],
   "source": [
    "def cadeau(note):\n",
    "  return note + 5"
   ]
  },
  {
   "cell_type": "code",
   "execution_count": null,
   "metadata": {
    "colab": {
     "base_uri": "https://localhost:8080/"
    },
    "id": "yuC_y5r93J5E",
    "outputId": "caa67e61-026a-466c-9616-6012b07e088b"
   },
   "outputs": [],
   "source": [
    "cadeau(10)"
   ]
  },
  {
   "cell_type": "code",
   "execution_count": null,
   "metadata": {
    "colab": {
     "base_uri": "https://localhost:8080/"
    },
    "id": "tylffkG43zKj",
    "outputId": "6372144d-da71-4818-b97c-861858faa46d"
   },
   "outputs": [],
   "source": [
    "notes = [0, 2, 5,3,6,9,4,5,11,2,3]\n",
    "for note in notes:\n",
    "  print(cadeau(note))"
   ]
  },
  {
   "cell_type": "code",
   "execution_count": null,
   "metadata": {
    "id": "UHIsAUB43y8W"
   },
   "outputs": [],
   "source": []
  },
  {
   "cell_type": "code",
   "execution_count": null,
   "metadata": {
    "id": "4Ei0Njf03Jp0"
   },
   "outputs": [],
   "source": []
  },
  {
   "cell_type": "code",
   "execution_count": null,
   "metadata": {
    "id": "PyR1BbTV0rmu"
   },
   "outputs": [],
   "source": []
  },
  {
   "cell_type": "code",
   "execution_count": null,
   "metadata": {
    "id": "L8-_SrTR2ScV"
   },
   "outputs": [],
   "source": [
    "import os"
   ]
  },
  {
   "cell_type": "code",
   "execution_count": null,
   "metadata": {
    "colab": {
     "base_uri": "https://localhost:8080/"
    },
    "id": "6Qv5XMfA2SNk",
    "outputId": "7e20cedf-4e9d-4e39-e111-d7e21c637a3b"
   },
   "outputs": [],
   "source": [
    "os.listdir(\"./sample_data\")"
   ]
  },
  {
   "cell_type": "code",
   "execution_count": null,
   "metadata": {
    "id": "bNLVBv4A4TEG"
   },
   "outputs": [],
   "source": [
    "csvs = []\n",
    "for file in os.listdir(\"./sample_data\"):\n",
    "  if file[-4:] == '.csv':\n",
    "    csvs.append(file)"
   ]
  },
  {
   "cell_type": "code",
   "execution_count": null,
   "metadata": {
    "colab": {
     "base_uri": "https://localhost:8080/"
    },
    "id": "sYvcjYBS4S1s",
    "outputId": "6f2f2c48-7a9b-43dc-8062-4faafda77b40"
   },
   "outputs": [],
   "source": [
    "csvs"
   ]
  },
  {
   "cell_type": "code",
   "execution_count": null,
   "metadata": {
    "colab": {
     "base_uri": "https://localhost:8080/"
    },
    "id": "2H2kmTfD5N8r",
    "outputId": "bcd14ab6-b1fa-49b6-9d4a-d6f6b7bd8948"
   },
   "outputs": [],
   "source": [
    "\"mnist_test.csv\".endswith('csv')"
   ]
  },
  {
   "cell_type": "code",
   "execution_count": null,
   "metadata": {
    "id": "DCh3naRz5Nu9"
   },
   "outputs": [],
   "source": [
    "csvs = []\n",
    "for file in os.listdir(\"./sample_data\"):\n",
    "  if file.endswith('csv'):\n",
    "    csvs.append(file)"
   ]
  },
  {
   "cell_type": "code",
   "execution_count": null,
   "metadata": {
    "colab": {
     "base_uri": "https://localhost:8080/"
    },
    "id": "rMHAspvU5aH1",
    "outputId": "ea3c6111-4fc3-4dec-d197-a0012b5559ef"
   },
   "outputs": [],
   "source": [
    "\"mnist_test.csv\".startswith(\"mni\")"
   ]
  },
  {
   "cell_type": "code",
   "execution_count": null,
   "metadata": {
    "colab": {
     "base_uri": "https://localhost:8080/"
    },
    "id": "rcjIKBjk5Z8z",
    "outputId": "367dc1fd-cb85-4559-f08f-af2e0b30b655"
   },
   "outputs": [],
   "source": [
    "len(csvs)"
   ]
  },
  {
   "cell_type": "code",
   "execution_count": null,
   "metadata": {
    "colab": {
     "base_uri": "https://localhost:8080/"
    },
    "id": "DvidfIBt2R6Z",
    "outputId": "4f8feb2a-0661-4539-a5fc-7b6a810618c9"
   },
   "outputs": [],
   "source": [
    "bool([])"
   ]
  },
  {
   "cell_type": "code",
   "execution_count": null,
   "metadata": {
    "id": "HuSc-j_FyIey"
   },
   "outputs": [],
   "source": []
  },
  {
   "cell_type": "markdown",
   "metadata": {
    "id": "Uv6ybvB1Jssh"
   },
   "source": [
    "# Manipuler les fichiers en Python"
   ]
  },
  {
   "cell_type": "code",
   "execution_count": null,
   "metadata": {
    "id": "lItdRsie7_1h"
   },
   "outputs": [],
   "source": [
    "fruit = \"mange\""
   ]
  },
  {
   "cell_type": "code",
   "execution_count": null,
   "metadata": {
    "colab": {
     "base_uri": "https://localhost:8080/",
     "height": 35
    },
    "id": "wGwg_wU67_qR",
    "outputId": "87e9ebe8-15d3-400f-9ee8-b52cc4fa156d"
   },
   "outputs": [],
   "source": [
    "fruit.replace('ge', 'gue')"
   ]
  },
  {
   "cell_type": "code",
   "execution_count": null,
   "metadata": {
    "colab": {
     "base_uri": "https://localhost:8080/",
     "height": 35
    },
    "id": "Uc2U7pXL7_fd",
    "outputId": "30dea2e0-2d90-44ef-e2d0-451719a30ac8"
   },
   "outputs": [],
   "source": [
    "fruit"
   ]
  },
  {
   "cell_type": "code",
   "execution_count": null,
   "metadata": {
    "colab": {
     "base_uri": "https://localhost:8080/",
     "height": 35
    },
    "id": "wFk5Mp9n7_TT",
    "outputId": "3b623072-f7c0-42b0-cd62-0f4a4da3b387"
   },
   "outputs": [],
   "source": [
    "fruit.replace('n', '')"
   ]
  },
  {
   "cell_type": "code",
   "execution_count": null,
   "metadata": {
    "colab": {
     "base_uri": "https://localhost:8080/"
    },
    "id": "khlGVYLq7_Gn",
    "outputId": "0c60b3f0-16e8-463b-999e-04756b491097"
   },
   "outputs": [],
   "source": [
    "nom = 'kevin\\n'\n",
    "print(nom)"
   ]
  },
  {
   "cell_type": "code",
   "execution_count": null,
   "metadata": {
    "id": "PLhW_8Ug7-7E"
   },
   "outputs": [],
   "source": [
    "nom = nom.replace('\\n', '')"
   ]
  },
  {
   "cell_type": "code",
   "execution_count": null,
   "metadata": {
    "colab": {
     "base_uri": "https://localhost:8080/",
     "height": 35
    },
    "id": "gLyA1P397-tI",
    "outputId": "7b7d8e50-57ba-4fa2-deb1-dd09d1e54d38"
   },
   "outputs": [],
   "source": [
    "nom"
   ]
  },
  {
   "cell_type": "code",
   "execution_count": null,
   "metadata": {
    "id": "scwfOVw4Dulf"
   },
   "outputs": [],
   "source": [
    "import os"
   ]
  },
  {
   "cell_type": "code",
   "execution_count": null,
   "metadata": {
    "colab": {
     "base_uri": "https://localhost:8080/"
    },
    "id": "ooivFLulEEUe",
    "outputId": "b45f71b4-935e-405e-fb4a-519c344b52f6"
   },
   "outputs": [],
   "source": [
    "os.listdir('.')"
   ]
  },
  {
   "cell_type": "code",
   "execution_count": null,
   "metadata": {
    "colab": {
     "base_uri": "https://localhost:8080/"
    },
    "id": "KFPAg3IiD-gQ",
    "outputId": "24eff6cd-2f0f-43f1-a319-62f53b13414c"
   },
   "outputs": [],
   "source": [
    "from google.colab import drive\n",
    "drive.mount('/gdrive')"
   ]
  },
  {
   "cell_type": "code",
   "execution_count": null,
   "metadata": {
    "colab": {
     "base_uri": "https://localhost:8080/"
    },
    "id": "2PcNp1vdDuWH",
    "outputId": "b8b6ddfa-7c63-4f48-b40e-2387994d1838"
   },
   "outputs": [],
   "source": [
    "os.listdir('.')"
   ]
  },
  {
   "cell_type": "code",
   "execution_count": null,
   "metadata": {
    "colab": {
     "base_uri": "https://localhost:8080/"
    },
    "id": "psCm37zoDuFC",
    "outputId": "4f4498b0-aac8-4dfe-855f-496bd69251ca"
   },
   "outputs": [],
   "source": [
    "os.listdir('/gdrive/MyDrive/Colab Notebooks')"
   ]
  },
  {
   "cell_type": "code",
   "execution_count": null,
   "metadata": {
    "colab": {
     "base_uri": "https://localhost:8080/"
    },
    "id": "ut-mfSdVDq2y",
    "outputId": "ae9c4454-e7ef-414f-cfc2-62a8898994a2"
   },
   "outputs": [],
   "source": [
    "with open('/gdrive/MyDrive/Colab Notebooks/identite.txt', 'r') as f:\n",
    "    lignes = f.readlines()\n",
    "\n",
    "\n",
    "for i, elt in enumerate(lignes):\n",
    "    lignes[i] = elt.replace('\\n', '')\n",
    "\n",
    "print(lignes)\n",
    "\n",
    "nom = lignes[0]\n",
    "prenom = lignes[1]\n",
    "age = lignes[-3]\n",
    "\n",
    "salutation = f'Bonjour {prenom} {nom}. Vous avez {age} ans.'\n",
    "print(salutation)\n",
    "\n",
    "nom_du_fichier = nom + '.txt'\n",
    "dossier = \"/gdrive/MyDrive/Colab Notebooks/\"\n",
    "\n",
    "with open(dossier + nom_du_fichier, 'w') as f:\n",
    "    f.write(salutation)"
   ]
  },
  {
   "cell_type": "code",
   "execution_count": null,
   "metadata": {
    "id": "wDAExVePJssi"
   },
   "outputs": [],
   "source": []
  },
  {
   "cell_type": "code",
   "execution_count": null,
   "metadata": {
    "id": "4tBa8vAmJssi"
   },
   "outputs": [],
   "source": []
  },
  {
   "cell_type": "markdown",
   "metadata": {
    "id": "SKzJMhiFJssi"
   },
   "source": [
    "# Ecrire Python avec Classe"
   ]
  },
  {
   "cell_type": "code",
   "execution_count": null,
   "metadata": {
    "id": "ulbMhWWBGCeF"
   },
   "outputs": [],
   "source": [
    "class Rectangle:\n",
    "\n",
    "  def __init__(self, long, larg):\n",
    "    self.longueur = long\n",
    "    self.largeur = larg\n",
    "\n",
    "  def perimetre(self):\n",
    "    return (self.longueur + self.largeur) * 2\n",
    "\n",
    "  def __repr__(self): # on modifie l'affichage d'un rectangle\n",
    "    return f'Ceci est un rectangle de longueur {self.longueur} et de largeur {self.largeur}'\n",
    "\n",
    "  def surface(self):\n",
    "    return self.longueur * self.largeur\n",
    "\n",
    "  def elargir(self, delta_long, delta_large):\n",
    "    self.longueur += delta_long\n",
    "    self.largeur += delta_large"
   ]
  },
  {
   "cell_type": "code",
   "execution_count": null,
   "metadata": {
    "id": "e8TUFUQgGBy_"
   },
   "outputs": [],
   "source": [
    "un_rectangle = Rectangle(10, 3)"
   ]
  },
  {
   "cell_type": "code",
   "execution_count": null,
   "metadata": {
    "colab": {
     "base_uri": "https://localhost:8080/"
    },
    "id": "b4dXp7L9FVqx",
    "outputId": "6267bf44-e4a4-4849-e6a9-e5cd2e5b27ed"
   },
   "outputs": [],
   "source": [
    "un_rectangle.perimetre()"
   ]
  },
  {
   "cell_type": "code",
   "execution_count": null,
   "metadata": {
    "colab": {
     "base_uri": "https://localhost:8080/"
    },
    "id": "LUL1Y0rBFUwI",
    "outputId": "8fee0d24-0fe4-45d1-a3be-8afce5428037"
   },
   "outputs": [],
   "source": [
    "print(un_rectangle)"
   ]
  },
  {
   "cell_type": "code",
   "execution_count": null,
   "metadata": {
    "colab": {
     "base_uri": "https://localhost:8080/"
    },
    "id": "S1t_QXDdFUX3",
    "outputId": "71422ed6-3d2f-46f3-d2d6-7390adb5c6aa"
   },
   "outputs": [],
   "source": [
    "print(un_rectangle)"
   ]
  },
  {
   "cell_type": "code",
   "execution_count": null,
   "metadata": {
    "colab": {
     "base_uri": "https://localhost:8080/"
    },
    "id": "IXijw7q_FT8Q",
    "outputId": "d1d03e92-bd07-4d1d-9016-d60aa804084a"
   },
   "outputs": [],
   "source": [
    "un_rectangle.longueur"
   ]
  },
  {
   "cell_type": "code",
   "execution_count": null,
   "metadata": {
    "colab": {
     "base_uri": "https://localhost:8080/"
    },
    "id": "gUoBXjFEJssi",
    "outputId": "12590c4f-23dc-4666-9b93-370032e323dc"
   },
   "outputs": [],
   "source": [
    "un_rectangle.largeur"
   ]
  },
  {
   "cell_type": "code",
   "execution_count": null,
   "metadata": {
    "colab": {
     "base_uri": "https://localhost:8080/"
    },
    "id": "LLWbHxYfJssi",
    "outputId": "bb320d2f-1afa-4992-b11f-3ddfc1e78d40"
   },
   "outputs": [],
   "source": [
    "un_rectangle.surface()"
   ]
  },
  {
   "cell_type": "code",
   "execution_count": null,
   "metadata": {
    "id": "s-e33mMqJmyY"
   },
   "outputs": [],
   "source": [
    "nom = \"kevin\""
   ]
  },
  {
   "cell_type": "code",
   "execution_count": null,
   "metadata": {
    "colab": {
     "base_uri": "https://localhost:8080/",
     "height": 35
    },
    "id": "L8txjLdEJmkp",
    "outputId": "73303ac9-de5e-4732-c092-8e37097735dd"
   },
   "outputs": [],
   "source": [
    "nom.capitalize()"
   ]
  },
  {
   "cell_type": "code",
   "execution_count": null,
   "metadata": {
    "id": "swB-e6-xKXEr"
   },
   "outputs": [],
   "source": [
    "r = Rectangle(9, 4)"
   ]
  },
  {
   "cell_type": "code",
   "execution_count": null,
   "metadata": {
    "colab": {
     "base_uri": "https://localhost:8080/"
    },
    "id": "oPZnMK2aKW0Y",
    "outputId": "f8b1c562-bdcd-433d-95ee-dbab1be81045"
   },
   "outputs": [],
   "source": [
    "print(r)"
   ]
  },
  {
   "cell_type": "code",
   "execution_count": null,
   "metadata": {
    "colab": {
     "base_uri": "https://localhost:8080/"
    },
    "id": "Xc9Wob7aKWjC",
    "outputId": "9fb22035-06c8-41e6-c1cb-c67e68c01d68"
   },
   "outputs": [],
   "source": [
    "r.perimetre()"
   ]
  },
  {
   "cell_type": "code",
   "execution_count": null,
   "metadata": {
    "id": "XP6d6iP6Kfzv"
   },
   "outputs": [],
   "source": [
    "r.elargir(1, 2)"
   ]
  },
  {
   "cell_type": "code",
   "execution_count": null,
   "metadata": {
    "colab": {
     "base_uri": "https://localhost:8080/"
    },
    "id": "bfTKDnZ9Km03",
    "outputId": "5580077f-50a1-4d2d-816d-6688417a6c70"
   },
   "outputs": [],
   "source": [
    "r.longueur"
   ]
  },
  {
   "cell_type": "code",
   "execution_count": null,
   "metadata": {
    "colab": {
     "base_uri": "https://localhost:8080/"
    },
    "id": "AWrbdVlKJmTP",
    "outputId": "a8d9d1e9-a789-4112-fab5-91b72cdc2f12"
   },
   "outputs": [],
   "source": [
    "r.largeur"
   ]
  },
  {
   "cell_type": "code",
   "execution_count": null,
   "metadata": {
    "id": "tz1CWNJqJssj"
   },
   "outputs": [],
   "source": []
  },
  {
   "cell_type": "markdown",
   "metadata": {
    "id": "cvq7kd2JJssj"
   },
   "source": [
    "# Exercices"
   ]
  },
  {
   "cell_type": "markdown",
   "metadata": {},
   "source": [
    "## Exo 1 : Devine le nombre"
   ]
  },
  {
   "cell_type": "markdown",
   "metadata": {},
   "source": [
    "Ecris une fonction nommée `devinette` qui ne prend aucun argument. Quand on l'exécute, elle choisit un nombre aléatoire en 0 et 100 (inclus)et demande à l'utilisateur de deviner ce nombre.A chaque fois que l'utilisateur entre un nombre, le programme affiche l'une de ces phrases : \n",
    "* Trop grand\n",
    "* Trop petit\n",
    "* Exact\n",
    "\n",
    "Si l'utilisateur a choisit correctement, le programme s'arrete. Sinon, le programme demande encore à l'utilisateur de rentrer un nouveau nombre jusqu'à ce qu'il trouve la bonne solution et s'arrête.\n",
    "\n",
    "> Aide : Cherche le module `random` de Python pour générer un nombre aléatoirement.\n"
   ]
  },
  {
   "cell_type": "markdown",
   "metadata": {},
   "source": [
    "## Exo 2: Devine le nombre: Niveau 2"
   ]
  },
  {
   "cell_type": "markdown",
   "metadata": {},
   "source": [
    "Reprend ton code pour le programme précédent. Modifie le pour donner seulement 3 chances à l'utilisateur pour deviner le nombre aléatoire choisit. Après 3 tentatives echouées, le programme s'arrête et affiche à l'utilisateur qu'il a épuisé ses chances."
   ]
  },
  {
   "cell_type": "markdown",
   "metadata": {},
   "source": [
    "## Exo 3 : La fonction sum"
   ]
  },
  {
   "cell_type": "markdown",
   "metadata": {},
   "source": [
    "En Python, la fonction sum te permet de faire la somme des nombres d'une liste. Par exemple:"
   ]
  },
  {
   "cell_type": "code",
   "execution_count": null,
   "metadata": {},
   "outputs": [],
   "source": [
    "nombres = [5,2,6,8,9,4]\n",
    "sum(nombres)"
   ]
  },
  {
   "cell_type": "markdown",
   "metadata": {},
   "source": [
    "Dans cet exercice, nous allons réecrire cette fonction mais nous la nommerons `somme`. La fonction somme prend en entrée une liste de nombres et renvoie la somme de ces nombres. Ici, vous n'avez pas le droit d'utiliser la fonction `sum` de Python. Le but de cet exercice est d'apprendre à implémenter une fonction qui existe déjà et gagner en confiance sur nos capacités à faire des choses que d'autres programmeurs plus expérimentés ont déjà fait."
   ]
  },
  {
   "cell_type": "markdown",
   "metadata": {},
   "source": [
    "## Exo 4 : Adresse email de nos employées"
   ]
  },
  {
   "cell_type": "markdown",
   "metadata": {},
   "source": [
    "Vous êtes chargé d'octroyer les emails des nouveaux employés de votre entreprise. Vous travaillez chez PythonBoss.\n",
    "L'adresse email de vos employés est sous le format `prenom_nom@pythonboss.com`. Vous souhaitez écrire un programme pour automatiser cela. La programme demande à un utilisateur son prenom, puis son nom et affiche son adresse email. Par exemple Kevin Degila aura comme adresse email : kevin_degila@pythonboss.com . Ici vous devrez remarquer que l'adresse email ne contient que des lettres miniscules: C'est la préférence du directeur de PythonBoss. Vous avez intérêt à le satisfaire."
   ]
  },
  {
   "cell_type": "markdown",
   "metadata": {},
   "source": [
    "## Exo 5 : Ordonner une chaine de caractères"
   ]
  },
  {
   "cell_type": "markdown",
   "metadata": {},
   "source": [
    "Dans cet exercice, vous allez écrire une fonction `ordonne_str` qui prend une chaîne de caractères (string) et retourne ce même string mais en l'ordonnant par ordre alphabétique.\n",
    "\n",
    "Par exemple:\n",
    "```python\n",
    "ordonne_str('python')\n",
    "> 'hnopty'\n",
    "```"
   ]
  },
  {
   "cell_type": "markdown",
   "metadata": {},
   "source": [
    "## Exo 6 : Le Francais sans Voyelle"
   ]
  },
  {
   "cell_type": "markdown",
   "metadata": {},
   "source": [
    "A quoi ressemblerait le Français sans voyelle ? Nous allons écrire une fonction qui prend une chaine de caractères et enlève les voyelles. \n",
    "> Pour rappel, les voyelles en français sont : a e i o u y\n",
    "\n",
    "Par exemple : \n",
    "```python\n",
    "sans_voyelle('python')\n",
    "> 'pthn'\n",
    "```"
   ]
  },
  {
   "cell_type": "markdown",
   "metadata": {},
   "source": [
    "## Exo 7 : Des phrases sans Voyelle autre que a"
   ]
  },
  {
   "cell_type": "markdown",
   "metadata": {},
   "source": [
    "Modifie la précedente fonction pour quelle prenne desormais en entrée une phrase, c'est à dire des mots séparés par des espaces. Il enlève toutes les voyelles sauf la lettre a.\n",
    "Par exemple : \n",
    "```python\n",
    "sans_voyelle('Il fait tres beau ce matin')\n",
    "> 'l fat trs ba c mtn'\n",
    "```\n"
   ]
  },
  {
   "cell_type": "markdown",
   "metadata": {},
   "source": [
    "## Exo 8 : Début et fin des séquences"
   ]
  },
  {
   "cell_type": "markdown",
   "metadata": {},
   "source": [
    "En Python, les listes, les tuples et les strings sont des séquences. En Python, on peut écrire une fonction qui prend différents types de variables. Dans cet exercice, nous allons écrire une fonction qui prend en Entrée, une liste, un tuple ou un string et retourne une variable du même type mais avec le premier et le dernier élément de la séquence.\n",
    "\n",
    "```python\n",
    "debut_fin('deopry')\n",
    "> 'dy'\n",
    "\n",
    "debut_fin([5,2,6,9,8])\n",
    "> [5, 8]\n",
    "\n",
    "debut_fin((2,6,8,9))\n",
    "> 2, 9\n",
    "\n",
    "```"
   ]
  },
  {
   "cell_type": "markdown",
   "metadata": {},
   "source": [
    "## Exo 9 : Dis moi ton index, je te dirai qui tu es"
   ]
  },
  {
   "cell_type": "markdown",
   "metadata": {
    "id": "eua1rALNToDA"
   },
   "source": [
    "Dans cet exercice, vous allez écrire une fonction qui prend entrée, une liste de nombre et retourne une liste contenant:\n",
    "* La somme des éléments d'index pairs\n",
    "* La somme des éléments d'index impairs\n",
    "\n",
    "```python\n",
    "somme_pair_impair([10,20,30,40,50,60])\n",
    "> [90, 120]\n",
    "```"
   ]
  },
  {
   "cell_type": "markdown",
   "metadata": {
    "id": "povxJ2j9nt66"
   },
   "source": [
    "## Exo 10 : Mot ayant le plus de lettre répétée"
   ]
  },
  {
   "cell_type": "markdown",
   "metadata": {},
   "source": [
    "Dans cet exercice, tu es appélé à écrire une fonction `mot_lettre_repetee` qui prend en entrée, une liste de mots. Pour chaque mot, trouve la lettre qui se répète le plus. La focntion retourne alors le mot ayant une lettre qui se répète le plus de fois (dans ce même mot, bien sûr).\n",
    "\n",
    "```python\n",
    "mot_lettre_repetee([\"On\", \"a\", \"effectuee\", \"plusieurs\", \"tests\", \"elementaire\", \"ce\", \"matin\"])\n",
    "> \"elementaire\"\n",
    "```\n",
    "En cas d'égalité, n'importe quelle option vraie est juste."
   ]
  },
  {
   "cell_type": "markdown",
   "metadata": {},
   "source": [
    "## Exo 11 : Distance entre plusieurs points "
   ]
  },
  {
   "cell_type": "markdown",
   "metadata": {},
   "source": [
    "Ecrivez une fonction qui prend une liste des nombres et qui retourne une liste qui contient la distance entre les différents nombres successifs.\n",
    "\n",
    "Exemple\n",
    "\n",
    "* input : [65, 54, 59]\n",
    "* output : [11, 5]\n"
   ]
  },
  {
   "cell_type": "markdown",
   "metadata": {},
   "source": [
    "## Exo 12: Lettres successifs et combien d'occurences"
   ]
  },
  {
   "cell_type": "markdown",
   "metadata": {},
   "source": [
    "Ecrivez une fonction qui prend en input une chaine de caractères contenant des lettres et retourne une liste de tuple qui contient successivement chaque lettre  et le nombre d'occurences successives.\n",
    "Exemple : \n",
    "\n",
    "* input : 'aaaccdaad\"\n",
    "* output : [(a,3), (c, 2), (d, 1), (a,2), (d, 1)]"
   ]
  },
  {
   "cell_type": "code",
   "execution_count": null,
   "metadata": {},
   "outputs": [],
   "source": []
  },
  {
   "cell_type": "markdown",
   "metadata": {},
   "source": [
    "## Exo 13: Notre restaurant est fermé à cause de la crise du covid, commandez en ligne"
   ]
  },
  {
   "cell_type": "markdown",
   "metadata": {},
   "source": [
    "Dans cet exercice, vous allez écrire le code pour l'application mobile de votre restaurant afin de permettre aux clients de commander en ligne.\n",
    "\n",
    "Vous allez d'abord définir un menu sous forme de dictionnaire. Les clés (chaines de caractères) sont les différents repas ou boissons que vous servez et les valeurs (integers ou float) sont leurs prix correspondants.\n",
    "Une fonction `restaurant` se chargera de demander à l'utilisateur sa commande:\n",
    "* Si la commande existe dans notre menu, le programme affiche son prix et le total actuel de ses commandes, puis lui demande d'entrée une nouvelle commande.\n",
    "* Si la commande n'existe pas dans notre menu, on le dit à l'utilisateur et lui demande de commander autre chose.\n",
    "* Si l'utilisateur appuie Entrée sans rien commander, on lui affiche le prix total de sa commande.\n",
    "\n",
    "Exemple : \n",
    "\n",
    "> Bienvenu dans notre Restaurant\n",
    "* Commande: Burger\n",
    "* Burger coûte 10, total est 10\n",
    "* Commande: cafe\n",
    "* cafe coûte 7, total est 17\n",
    "* Commande: Chicha\n",
    "* Désolé, Nous n'offrons pas de chicha aujourd'hui.\n",
    "* Commande: <entréee>\n",
    "* Votre total est 17"
   ]
  },
  {
   "cell_type": "markdown",
   "metadata": {},
   "source": [
    "## Exo 14: Trop d'escale, c'est fatiguant"
   ]
  },
  {
   "cell_type": "markdown",
   "metadata": {},
   "source": [
    "Vous êtes dans une agence de voyage pour acheter un billet d'avion. Vous donnez la destination à l'agent qui vous informe, qu'il faudra faire des escales. Il vous dit alors la ville de chaque escale et la duree de chaque escale. Vous décidez d'enregistrer tout cela dans un dictionnaire pour l'afficher plus tard et la somme des heures d'escales.\n",
    "\n",
    "Vous allez écrire un programme qui demande à l'agent la ville (clé) et le nombre d'heure d'escale (valeur). Le programme lui repose la même question jusqu'à ce qu'il dit que c'est fini en appuyant entrée sans rien écrire. A la fin de la saisie, vous affichez les villes et leur nombre d'heures correspondant et le nombre d'heures total d'escale.\n",
    "\n",
    "Exemple:\n",
    "\n",
    "> Python Airlines\n",
    "* Ville: Paris, nb d'heures : 2\n",
    "* Ville: Nairobi, nb d'heures : 1\n",
    "* Ville: Bamako, nb d'heures : 0.5\n",
    "* Ville: Abuja, nb d'heures : 2.5\n",
    "* Ville: <entréee>\n",
    "\n",
    "Liste des escales : \n",
    "\n",
    "Paris 2,\n",
    "\n",
    "Nairobi 1,\n",
    "\n",
    "Bamako 0.5\n",
    "\n",
    "Abuja 2.5\n",
    "\n",
    "* Votre total d'heures d'escales est 6 heures"
   ]
  },
  {
   "cell_type": "markdown",
   "metadata": {},
   "source": [
    "## Exo 15: Combien de mots il y a-t-il dans ton fichier ?"
   ]
  },
  {
   "cell_type": "markdown",
   "metadata": {},
   "source": [
    "Dans cet exercice, vous allez écrire une fonction `wordcount` qui prend en entrée le chemin d'un fichier et affiche les 4 lignes suivantes en sortie:\n",
    "\n",
    "* Le nombre de caractères (les espaces inclus) est ....\n",
    "* Le nombre de mots (séparé par des espaces: 25 est un mot) est .....\n",
    "* Le nombre de lignes est ....\n",
    "* Le nombre de mots distincts (\"Oui\" et \"oui\" sont 2 mots uniques) est .... (taille du vocabulaire du fichier)\n",
    "\n",
    "Un fichier texte nommée `count.txt` se trouve dans le dossier `datasets`. Vous pouvez l'utiliser pour tester votre code."
   ]
  },
  {
   "cell_type": "markdown",
   "metadata": {},
   "source": [
    "## Exo 16: Générateur de mots de passe"
   ]
  },
  {
   "cell_type": "markdown",
   "metadata": {},
   "source": [
    "Nous allons écrire une fonction `generateur_password` qui nous génère des mots de passe. Cette fonction est un peu particulière car elle retournera une autre fonction `password`. \n",
    "Certains sites n'acceptent que les mots de passe qu'avec des lettres, ou qu'avec des chiffres, ou acceptent des symboles comme @/$ ou simplement un mélange de tout ceci.\n",
    "\n",
    "La fonction `generateur_password` prend en entrée une chaine de caractères contenant les différents caractères possible et retourne la fonction `password` que je peux éxécuter plus tard en lui donnant le nombre de caractères que je veux dans mon mot de passe.\n",
    "\n",
    "Exemple:\n",
    "\n",
    "```python\n",
    "password = generateur_password('Aer5-/')\n",
    "mon_password = password(7)\n",
    "print(mon_password)\n",
    "> 'eA-Ae5/'\n",
    "```"
   ]
  },
  {
   "cell_type": "markdown",
   "metadata": {},
   "source": [
    "## Exo 17: Modules"
   ]
  },
  {
   "cell_type": "markdown",
   "metadata": {},
   "source": [
    "Dans cet exercice, vous allez crée un module python nommée `bootcamp.py` qui contient la logique selon laquelle, un étudiant a reussi cette formation.\n",
    "\n",
    "Ce bootcamp est fait de 4 cours : \n",
    "* Les bases de Python dont le coefficient est 3\n",
    "* Le calcul numérique avec Numpy : 4\n",
    "* Manipulation des données avec Pandas : 7\n",
    "* Visualisation des données avec Matplotlib et Seaborn : 5\n",
    "\n",
    "La moyenne d'un étudiant est la moyenne coefficiée de ses notes. Pour éviter que les étudiants ratent des jours de cours, une pénalité est mise en place pour chaque jour de cours raté. Un minus de 5% est fait sur la moyenne de chaque étudiant pour chaque abscence. Un bonus de 10% de la moyenne est accordé aux étudiants n'ayant raté aucune séance de cours\n",
    "\n",
    "Avant de commencer ce bootcamp, chaque étudiant a donné son niveau en Python sur une échelle de 1 à 5. \n",
    "Pour réussir la formation, vous devrez avoir une moyenne finale de :\n",
    "* 17/20 si votre niveau est 5\n",
    "* 15/20 si votre niveau est 4\n",
    "* 14/20 si votre niveau est 3\n",
    "* 13.5/20 si votre niveau est 2\n",
    "* 12/20 si votre niveau est 1\n",
    "\n",
    "Vous êtes chargé d'écrire la logique de réussite d'un étudiant afin de faciliter la tâche au formateur. Il aimerait entrer les informations de chaque étudiant et obtenir un Oui s'il est admis et Non s'il ne l'est pas. Voici l'exemple pour un étudiant:\n",
    "\n",
    "```python\n",
    "import bootcamp\n",
    "\n",
    "resultat = bootcamp.decision(python=15, numpy=12, pandas=14.6, matplotlib=18, abscence=3, niveau=3)\n",
    "\n",
    "\n",
    "```"
   ]
  },
  {
   "cell_type": "markdown",
   "metadata": {},
   "source": [
    "## Exo 18: OOP"
   ]
  },
  {
   "cell_type": "markdown",
   "metadata": {},
   "source": [
    "Créez une classe Vehicule avec les attributs suivants:\n",
    "* couleur \n",
    "* distance_parcourue (km)\n",
    "* vitesse (en km/h)\n",
    "* vitesse maximum (km/h)\n",
    "* vitesse actuelle (km/h)\n",
    "\n",
    "On peut donc créer un nouveau véhicule ce cette manière : \n",
    "```python\n",
    "v1 = Vehicule(couleur='bleu', vitesse_maximum='100')\n",
    "``` \n",
    "Ajoutez à la classe Vehicule les méthodes ou fonctionalités suivantes:\n",
    "* accelerer :  augmente la vitesse actuelle  sur une durée(minutes) sans dépasser la vitesse maximum\n",
    "* ralentir : diminue la vitesse sur une durée (minutes)\n",
    "* arreter : elle met à 0 la vitesse actuelle\n",
    "* la fonction `_repr_`  qui permet d'afficher le nombre de distance parcourue et l'état (arrêt, en cours) quand on fait `print(v1)` "
   ]
  },
  {
   "cell_type": "code",
   "execution_count": null,
   "metadata": {},
   "outputs": [],
   "source": [
    "v1 = Vehicule(couleur='bleu', vitesse_maximum='100')"
   ]
  },
  {
   "cell_type": "code",
   "execution_count": null,
   "metadata": {},
   "outputs": [],
   "source": [
    "v1.accelerate(v=20, duree=30) # ne prend qu'une vitesse supérieur à la vitesse actuelle\n",
    "v1.ralentir(v=10, duree=10) # ne prend qu'une vitesse inférieure à la vitesset actuelle\n",
    "v1.arreter()\n",
    "print(v1)\n",
    "print(v1.distance_parcourue) # le nombre de kilomètres parcourues"
   ]
  },
  {
   "cell_type": "markdown",
   "metadata": {},
   "source": [
    "Quand une voiture atteint 100 km parcourue, il faut l'amener dans un garage pour une vérification du moteur.\n",
    "Créez une classe Garage à laquelle on peut ajouter des véhicules. \n",
    "Le garage affiche un message d'erreur quand on essaie d'ajouter un véhicule qui n'est pas en arrêt ou dont la distance parcourue est inférieur à 100 km.\n",
    "Ajoutez une fonction à la classe garage qui permet de calculer la distance totale parcourue des véhicules ajoutés"
   ]
  },
  {
   "cell_type": "code",
   "execution_count": null,
   "metadata": {},
   "outputs": [],
   "source": [
    "mon_garage = Garage()\n",
    "mon_garage.add_vehicule(v1)\n",
    "mon_garage.add_vehicule(v2)\n",
    "print(mon_garage.n_vehicule) # affiche le nombre de vehicule ajoutés\n",
    "mon_garage.totale_distance # retourne Distance totale de tous les véhicules présents"
   ]
  },
  {
   "cell_type": "markdown",
   "metadata": {},
   "source": [
    "Un camion est un type spécial de véhicule qu'il faut obligatoirement ralentir avant de faire un arrêt. Créez une classe Camion qui hérite de la classe véhicule et modifier la fonction arret pour qu'elle retourne un message d'arrêt quand une tentative d'arrêt est faite sans avoir ralenti auparavant."
   ]
  },
  {
   "cell_type": "code",
   "execution_count": null,
   "metadata": {},
   "outputs": [],
   "source": [
    "camion = Camion(couleur='noir', vitesse_maximum=50)\n",
    "camion.accelerate(v=40, duree=30)\n",
    "camion.arreter() # erreur, vous devrez ralentir d'abord"
   ]
  }
 ],
 "metadata": {
  "colab": {
   "name": "01_Les Bases_de_Python.ipynb",
   "provenance": []
  },
  "kernelspec": {
   "display_name": "Python 3",
   "language": "python",
   "name": "python3"
  },
  "language_info": {
   "codemirror_mode": {
    "name": "ipython",
    "version": 3
   },
   "file_extension": ".py",
   "mimetype": "text/x-python",
   "name": "python",
   "nbconvert_exporter": "python",
   "pygments_lexer": "ipython3",
   "version": "3.8.5"
  },
  "toc": {
   "base_numbering": 1,
   "nav_menu": {},
   "number_sections": true,
   "sideBar": true,
   "skip_h1_title": false,
   "title_cell": "Table of Contents",
   "title_sidebar": "Contents",
   "toc_cell": false,
   "toc_position": {},
   "toc_section_display": true,
   "toc_window_display": false
  },
  "varInspector": {
   "cols": {
    "lenName": 16,
    "lenType": 16,
    "lenVar": 40
   },
   "kernels_config": {
    "python": {
     "delete_cmd_postfix": "",
     "delete_cmd_prefix": "del ",
     "library": "var_list.py",
     "varRefreshCmd": "print(var_dic_list())"
    },
    "r": {
     "delete_cmd_postfix": ") ",
     "delete_cmd_prefix": "rm(",
     "library": "var_list.r",
     "varRefreshCmd": "cat(var_dic_list()) "
    }
   },
   "types_to_exclude": [
    "module",
    "function",
    "builtin_function_or_method",
    "instance",
    "_Feature"
   ],
   "window_display": false
  }
 },
 "nbformat": 4,
 "nbformat_minor": 1
}
