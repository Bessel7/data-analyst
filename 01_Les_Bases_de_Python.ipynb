{
  "nbformat": 4,
  "nbformat_minor": 0,
  "metadata": {
    "colab": {
      "name": "01_Les Bases_de_Python.ipynb",
      "provenance": [],
      "toc_visible": true
    },
    "kernelspec": {
      "display_name": "Python 3",
      "language": "python",
      "name": "python3"
    },
    "language_info": {
      "codemirror_mode": {
        "name": "ipython",
        "version": 3
      },
      "file_extension": ".py",
      "mimetype": "text/x-python",
      "name": "python",
      "nbconvert_exporter": "python",
      "pygments_lexer": "ipython3",
      "version": "3.8.5"
    },
    "toc": {
      "base_numbering": 1,
      "nav_menu": {},
      "number_sections": true,
      "sideBar": true,
      "skip_h1_title": false,
      "title_cell": "Table of Contents",
      "title_sidebar": "Contents",
      "toc_cell": false,
      "toc_position": {},
      "toc_section_display": true,
      "toc_window_display": false
    },
    "varInspector": {
      "cols": {
        "lenName": 16,
        "lenType": 16,
        "lenVar": 40
      },
      "kernels_config": {
        "python": {
          "delete_cmd_postfix": "",
          "delete_cmd_prefix": "del ",
          "library": "var_list.py",
          "varRefreshCmd": "print(var_dic_list())"
        },
        "r": {
          "delete_cmd_postfix": ") ",
          "delete_cmd_prefix": "rm(",
          "library": "var_list.r",
          "varRefreshCmd": "cat(var_dic_list()) "
        }
      },
      "types_to_exclude": [
        "module",
        "function",
        "builtin_function_or_method",
        "instance",
        "_Feature"
      ],
      "window_display": false
    }
  },
  "cells": [
    {
      "cell_type": "markdown",
      "metadata": {
        "id": "TsYlZyrKJsr0"
      },
      "source": [
        "# Les Variables et opérateurs"
      ]
    },
    {
      "cell_type": "markdown",
      "metadata": {
        "id": "MwOQGNSfJsr6"
      },
      "source": [
        "Une variable est comme une case de mémoire dans notre ordinateur, à laquelle on donne un nom et une valeur qui peut changer. Voici comment définir une variable avec sa valeur en Python"
      ]
    },
    {
      "cell_type": "code",
      "metadata": {
        "id": "mEOPJ5ULJsr7"
      },
      "source": [
        "poids = 89"
      ],
      "execution_count": null,
      "outputs": []
    },
    {
      "cell_type": "markdown",
      "metadata": {
        "id": "JdJGa6zSJsr8"
      },
      "source": [
        "Ici, nous avons donné le nom `poids` à notre variable et elle contient la valeur 89. La valeur d'une variable peut changer."
      ]
    },
    {
      "cell_type": "code",
      "metadata": {
        "id": "Hf5g6moNJsr8"
      },
      "source": [
        "poids = 82"
      ],
      "execution_count": null,
      "outputs": []
    },
    {
      "cell_type": "markdown",
      "metadata": {
        "id": "YRELxTBSJsr9"
      },
      "source": [
        "Désormais, notre variable `poids` contient la valeur 82. On peut l'afficher pour vérifier avec le fonction `print`"
      ]
    },
    {
      "cell_type": "code",
      "metadata": {
        "id": "rxppGTcSJsr9",
        "outputId": "67585524-d038-4f15-d402-e65ff60a999b"
      },
      "source": [
        "print(poids)"
      ],
      "execution_count": null,
      "outputs": [
        {
          "output_type": "stream",
          "text": [
            "82\n"
          ],
          "name": "stdout"
        }
      ]
    },
    {
      "cell_type": "markdown",
      "metadata": {
        "id": "tHNl3weNJsr-"
      },
      "source": [
        "Pour donc affichier la valeur d'une variable, il faut écrire `print` suivi de parathèses avec à l'intérieur le nom de notre variable. Puisqu'on est dans un notebook, on peut aussi afficher la valeur d'une variable simplement en tapant le nom comme ceci : "
      ]
    },
    {
      "cell_type": "code",
      "metadata": {
        "id": "80kS2_d4Jsr-",
        "outputId": "a420e593-7ba8-4c5e-c72e-61ae5664e325"
      },
      "source": [
        "poids"
      ],
      "execution_count": null,
      "outputs": [
        {
          "output_type": "execute_result",
          "data": {
            "text/plain": [
              "82"
            ]
          },
          "metadata": {
            "tags": []
          },
          "execution_count": 5
        }
      ]
    },
    {
      "cell_type": "markdown",
      "metadata": {
        "id": "BQ0vqoM2Jsr_"
      },
      "source": [
        "Que se passe-t-il quand je nomme ma variable `2poids` pour dire que c'est un second poids ? Essayons:"
      ]
    },
    {
      "cell_type": "code",
      "metadata": {
        "id": "B0vOkYyCJsr_",
        "outputId": "46b4fd25-e2fc-4f2b-c538-515042dc61fc"
      },
      "source": [
        "2poids = 25"
      ],
      "execution_count": null,
      "outputs": [
        {
          "output_type": "error",
          "ename": "SyntaxError",
          "evalue": "invalid syntax (<ipython-input-6-d76a5a588aa9>, line 1)",
          "traceback": [
            "\u001b[0;36m  File \u001b[0;32m\"<ipython-input-6-d76a5a588aa9>\"\u001b[0;36m, line \u001b[0;32m1\u001b[0m\n\u001b[0;31m    2poids = 25\u001b[0m\n\u001b[0m     ^\u001b[0m\n\u001b[0;31mSyntaxError\u001b[0m\u001b[0;31m:\u001b[0m invalid syntax\n"
          ]
        }
      ]
    },
    {
      "cell_type": "markdown",
      "metadata": {
        "id": "W_Bjzg80JssA"
      },
      "source": [
        "ON obtient une erreur. Cela est dû au fait qu'en Python le nom d'une variable ne peut commencer par un chiffre. Par convention, il est recommandé d'utiliser les lettres miniscules et le tiret du 8 `_` pour nommer une variable. N'oublions pas que le nom ne peut contenir un espace. Une variable pour designer l'âge de Kevin pourrait donc s'appeler `lage_de_kevin`."
      ]
    },
    {
      "cell_type": "code",
      "metadata": {
        "id": "u0Hy22jWJssA"
      },
      "source": [
        "lage_de_kevin = 20"
      ],
      "execution_count": null,
      "outputs": []
    },
    {
      "cell_type": "markdown",
      "metadata": {
        "id": "rHxLluEzJssA"
      },
      "source": [
        "On peut faire des opérations mathématiques sur les variables : "
      ]
    },
    {
      "cell_type": "markdown",
      "metadata": {
        "id": "wRrg08tUJssB"
      },
      "source": [
        "**addiction**"
      ]
    },
    {
      "cell_type": "code",
      "metadata": {
        "id": "9pvruivwJssB",
        "outputId": "09b77cc8-85c9-4df3-fa46-9c34a4e951c9"
      },
      "source": [
        "15 + 30"
      ],
      "execution_count": null,
      "outputs": [
        {
          "output_type": "execute_result",
          "data": {
            "text/plain": [
              "45"
            ]
          },
          "metadata": {
            "tags": []
          },
          "execution_count": 1
        }
      ]
    },
    {
      "cell_type": "code",
      "metadata": {
        "id": "nLKz1oR4JssB",
        "outputId": "d6f8ef11-da09-4429-b16e-25da797a7c59"
      },
      "source": [
        "nombre = 5\n",
        "print(nombre + 4)"
      ],
      "execution_count": null,
      "outputs": [
        {
          "output_type": "stream",
          "text": [
            "9\n"
          ],
          "name": "stdout"
        }
      ]
    },
    {
      "cell_type": "markdown",
      "metadata": {
        "id": "wKoZ09vDJssB"
      },
      "source": [
        "**soustraction**"
      ]
    },
    {
      "cell_type": "code",
      "metadata": {
        "id": "KQbV_Mh4JssC",
        "outputId": "7275f73a-fe29-4418-c1e5-2d319e8b3ed5"
      },
      "source": [
        "96 - 12"
      ],
      "execution_count": null,
      "outputs": [
        {
          "output_type": "execute_result",
          "data": {
            "text/plain": [
              "84"
            ]
          },
          "metadata": {
            "tags": []
          },
          "execution_count": 3
        }
      ]
    },
    {
      "cell_type": "code",
      "metadata": {
        "id": "4JEU36_4JssC",
        "outputId": "3dec55d4-06aa-4677-cdb5-0fbb2ce7111e"
      },
      "source": [
        "print(nombre - 2)"
      ],
      "execution_count": null,
      "outputs": [
        {
          "output_type": "stream",
          "text": [
            "3\n"
          ],
          "name": "stdout"
        }
      ]
    },
    {
      "cell_type": "markdown",
      "metadata": {
        "id": "S3v18HL6JssC"
      },
      "source": [
        "**Multiplication**"
      ]
    },
    {
      "cell_type": "code",
      "metadata": {
        "id": "LK86qZPjJssD",
        "outputId": "0b50cf8a-9136-4fb3-8952-14067864f9c1"
      },
      "source": [
        "5 * 3"
      ],
      "execution_count": null,
      "outputs": [
        {
          "output_type": "execute_result",
          "data": {
            "text/plain": [
              "15"
            ]
          },
          "metadata": {
            "tags": []
          },
          "execution_count": 5
        }
      ]
    },
    {
      "cell_type": "code",
      "metadata": {
        "id": "zUz_BZNNJssD",
        "outputId": "580aec60-66b7-4e8e-cbde-c717c00f858e"
      },
      "source": [
        "print(nombre * 2)"
      ],
      "execution_count": null,
      "outputs": [
        {
          "output_type": "stream",
          "text": [
            "10\n"
          ],
          "name": "stdout"
        }
      ]
    },
    {
      "cell_type": "markdown",
      "metadata": {
        "id": "afjB3mbPJssD"
      },
      "source": [
        "**Division**"
      ]
    },
    {
      "cell_type": "code",
      "metadata": {
        "id": "TjbhNu2GJssD",
        "outputId": "302b4b4d-7d14-4f85-c7f2-56a04e663d83"
      },
      "source": [
        "27 / 9"
      ],
      "execution_count": null,
      "outputs": [
        {
          "output_type": "execute_result",
          "data": {
            "text/plain": [
              "3.0"
            ]
          },
          "metadata": {
            "tags": []
          },
          "execution_count": 7
        }
      ]
    },
    {
      "cell_type": "code",
      "metadata": {
        "id": "JTzwG3t-JssE",
        "outputId": "014abfac-5a5d-47ac-8fd3-523834d20a3f"
      },
      "source": [
        "25 / 2"
      ],
      "execution_count": null,
      "outputs": [
        {
          "output_type": "execute_result",
          "data": {
            "text/plain": [
              "12.5"
            ]
          },
          "metadata": {
            "tags": []
          },
          "execution_count": 8
        }
      ]
    },
    {
      "cell_type": "markdown",
      "metadata": {
        "id": "c0T7mtJoJssE"
      },
      "source": [
        "On peut décider d'extraire uniquement le quotient de la division"
      ]
    },
    {
      "cell_type": "code",
      "metadata": {
        "id": "kqzH0XVlJssE",
        "outputId": "1314340d-a8fe-4bd0-a8b3-484f2b7264c0"
      },
      "source": [
        "25 // 2"
      ],
      "execution_count": null,
      "outputs": [
        {
          "output_type": "execute_result",
          "data": {
            "text/plain": [
              "12"
            ]
          },
          "metadata": {
            "tags": []
          },
          "execution_count": 9
        }
      ]
    },
    {
      "cell_type": "markdown",
      "metadata": {
        "id": "XkCNb1B9JssF"
      },
      "source": [
        "**Exposant**"
      ]
    },
    {
      "cell_type": "code",
      "metadata": {
        "id": "K-krY4EdJssF",
        "outputId": "131877c8-fa94-44cc-855a-175fd792a688"
      },
      "source": [
        "2 ** 5"
      ],
      "execution_count": null,
      "outputs": [
        {
          "output_type": "execute_result",
          "data": {
            "text/plain": [
              "32"
            ]
          },
          "metadata": {
            "tags": []
          },
          "execution_count": 11
        }
      ]
    },
    {
      "cell_type": "code",
      "metadata": {
        "id": "pi_SkejXJssF",
        "outputId": "f63aade5-9520-4691-f59f-aff69c744261"
      },
      "source": [
        "15 ** 0"
      ],
      "execution_count": null,
      "outputs": [
        {
          "output_type": "execute_result",
          "data": {
            "text/plain": [
              "1"
            ]
          },
          "metadata": {
            "tags": []
          },
          "execution_count": 12
        }
      ]
    },
    {
      "cell_type": "markdown",
      "metadata": {
        "id": "6otBPhSfJssF"
      },
      "source": [
        "**Modulo (Reste de la division)**"
      ]
    },
    {
      "cell_type": "code",
      "metadata": {
        "id": "ZP8CXnAlJssG",
        "outputId": "3f5a2707-20f4-4e4f-fd1b-40f397234d16"
      },
      "source": [
        "89 % 2"
      ],
      "execution_count": null,
      "outputs": [
        {
          "output_type": "execute_result",
          "data": {
            "text/plain": [
              "1"
            ]
          },
          "metadata": {
            "tags": []
          },
          "execution_count": 13
        }
      ]
    },
    {
      "cell_type": "markdown",
      "metadata": {
        "id": "4kIMVv0wJssG"
      },
      "source": [
        "On peut donc dire qu'un nombre est pair par exemple si ce nombre modulo 2 est 1 et non 0"
      ]
    },
    {
      "cell_type": "code",
      "metadata": {
        "id": "7439TaUeJssG"
      },
      "source": [
        "est_pair = 27 % 2"
      ],
      "execution_count": null,
      "outputs": []
    },
    {
      "cell_type": "code",
      "metadata": {
        "id": "IUa_o8KVJssG",
        "outputId": "7a7e64f4-5af8-41d4-ce49-519a18038361"
      },
      "source": [
        "est_pair"
      ],
      "execution_count": null,
      "outputs": [
        {
          "output_type": "execute_result",
          "data": {
            "text/plain": [
              "1"
            ]
          },
          "metadata": {
            "tags": []
          },
          "execution_count": 15
        }
      ]
    },
    {
      "cell_type": "markdown",
      "metadata": {
        "id": "KjMC5R-cJssH"
      },
      "source": [
        "On peut stocker le resultat de l'opération sur une variable avec le même nom"
      ]
    },
    {
      "cell_type": "code",
      "metadata": {
        "id": "FBL543CqJssH"
      },
      "source": [
        "nombres_de_voitures = 5"
      ],
      "execution_count": null,
      "outputs": []
    },
    {
      "cell_type": "code",
      "metadata": {
        "id": "HaY6hFZzJssH"
      },
      "source": [
        "nombres_de_voitures = nombres_de_voitures + 15"
      ],
      "execution_count": null,
      "outputs": []
    },
    {
      "cell_type": "code",
      "metadata": {
        "id": "dFx9dqUdJssH",
        "outputId": "72cc774d-b351-4a0a-b130-0f360f9025f9"
      },
      "source": [
        "nombres_de_voitures"
      ],
      "execution_count": null,
      "outputs": [
        {
          "output_type": "execute_result",
          "data": {
            "text/plain": [
              "20"
            ]
          },
          "metadata": {
            "tags": []
          },
          "execution_count": 19
        }
      ]
    },
    {
      "cell_type": "markdown",
      "metadata": {
        "id": "YciAx_yCJssI"
      },
      "source": [
        "on peut réecrire l'opération de cette manière"
      ]
    },
    {
      "cell_type": "code",
      "metadata": {
        "id": "nY0v0Cs0JssI"
      },
      "source": [
        "nombres_de_voitures += 15 "
      ],
      "execution_count": null,
      "outputs": []
    },
    {
      "cell_type": "code",
      "metadata": {
        "id": "dpHRL_EfJssI",
        "outputId": "bcec7835-cce0-4113-cd92-a3fc581dd6a0"
      },
      "source": [
        "nombres_de_voitures"
      ],
      "execution_count": null,
      "outputs": [
        {
          "output_type": "execute_result",
          "data": {
            "text/plain": [
              "35"
            ]
          },
          "metadata": {
            "tags": []
          },
          "execution_count": 21
        }
      ]
    },
    {
      "cell_type": "code",
      "metadata": {
        "id": "0Mlsw3DIJssI"
      },
      "source": [
        "nombres_de_voitures -= 3"
      ],
      "execution_count": null,
      "outputs": []
    },
    {
      "cell_type": "code",
      "metadata": {
        "id": "iVbFgLA9JssJ",
        "outputId": "8b6fad36-2277-4411-ce12-66b3536430af"
      },
      "source": [
        "nombres_de_voitures"
      ],
      "execution_count": null,
      "outputs": [
        {
          "output_type": "execute_result",
          "data": {
            "text/plain": [
              "32"
            ]
          },
          "metadata": {
            "tags": []
          },
          "execution_count": 23
        }
      ]
    },
    {
      "cell_type": "code",
      "metadata": {
        "id": "4MCijTamJssJ"
      },
      "source": [
        "nombres_de_voitures /= 2"
      ],
      "execution_count": null,
      "outputs": []
    },
    {
      "cell_type": "code",
      "metadata": {
        "id": "-njxXlRvJssJ",
        "outputId": "89473d52-123f-4eb8-dc84-1673b6b8ec95"
      },
      "source": [
        "nombres_de_voitures"
      ],
      "execution_count": null,
      "outputs": [
        {
          "output_type": "execute_result",
          "data": {
            "text/plain": [
              "16.0"
            ]
          },
          "metadata": {
            "tags": []
          },
          "execution_count": 25
        }
      ]
    },
    {
      "cell_type": "code",
      "metadata": {
        "id": "Q_bUb5cIJssJ"
      },
      "source": [
        "nombres_de_voitures *= 3"
      ],
      "execution_count": null,
      "outputs": []
    },
    {
      "cell_type": "code",
      "metadata": {
        "id": "NoJdGOc_JssK",
        "outputId": "f72d05d3-4329-4a38-d96c-a27527f2bbea"
      },
      "source": [
        "nombres_de_voitures"
      ],
      "execution_count": null,
      "outputs": [
        {
          "output_type": "execute_result",
          "data": {
            "text/plain": [
              "48.0"
            ]
          },
          "metadata": {
            "tags": []
          },
          "execution_count": 27
        }
      ]
    },
    {
      "cell_type": "markdown",
      "metadata": {
        "id": "HaVBhmDwJssK"
      },
      "source": [
        "**P E M D A S**"
      ]
    },
    {
      "cell_type": "code",
      "metadata": {
        "id": "AalHiYAlJssK"
      },
      "source": [
        ""
      ],
      "execution_count": null,
      "outputs": []
    },
    {
      "cell_type": "code",
      "metadata": {
        "id": "K_QZyzI4JssK"
      },
      "source": [
        ""
      ],
      "execution_count": null,
      "outputs": []
    },
    {
      "cell_type": "code",
      "metadata": {
        "id": "NTY-UfIDJssL"
      },
      "source": [
        ""
      ],
      "execution_count": null,
      "outputs": []
    },
    {
      "cell_type": "code",
      "metadata": {
        "id": "2Jc8dnz6JssL"
      },
      "source": [
        ""
      ],
      "execution_count": null,
      "outputs": []
    },
    {
      "cell_type": "code",
      "metadata": {
        "id": "ljIGjUvrJssL"
      },
      "source": [
        ""
      ],
      "execution_count": null,
      "outputs": []
    },
    {
      "cell_type": "markdown",
      "metadata": {
        "id": "bAkgM3AWJssL"
      },
      "source": [
        "# Les Types de données en Python"
      ]
    },
    {
      "cell_type": "markdown",
      "metadata": {
        "id": "qM6cMi-6JssL"
      },
      "source": [
        "Il existe plusieurs types de données en Python."
      ]
    },
    {
      "cell_type": "markdown",
      "metadata": {
        "id": "UySdINyHJssL"
      },
      "source": [
        "## Les nombres entiers"
      ]
    },
    {
      "cell_type": "code",
      "metadata": {
        "id": "MlhqqBm_JssM"
      },
      "source": [
        "age = 15"
      ],
      "execution_count": null,
      "outputs": []
    },
    {
      "cell_type": "markdown",
      "metadata": {
        "id": "iZaX4g0SJssM"
      },
      "source": [
        "15 est un nombre entier. En anglais, on dit que 15 est un `integer` ou encore `int` pour faire court. On peut vérifier le type d'une variable en utilisant la fonction `type` comme ceci : "
      ]
    },
    {
      "cell_type": "code",
      "metadata": {
        "id": "RXnKgYKQJssM",
        "outputId": "ca8c9940-ec56-4b0e-c81e-bce603a7bbb7"
      },
      "source": [
        "type(age)"
      ],
      "execution_count": null,
      "outputs": [
        {
          "output_type": "execute_result",
          "data": {
            "text/plain": [
              "int"
            ]
          },
          "metadata": {
            "tags": []
          },
          "execution_count": 10
        }
      ]
    },
    {
      "cell_type": "markdown",
      "metadata": {
        "id": "iJtgqmvtJssM"
      },
      "source": [
        "## Les nombres à virgules"
      ]
    },
    {
      "cell_type": "code",
      "metadata": {
        "id": "2kclaWgnJssM"
      },
      "source": [
        "taille = 1.83"
      ],
      "execution_count": null,
      "outputs": []
    },
    {
      "cell_type": "markdown",
      "metadata": {
        "id": "WxzDb3RaJssN"
      },
      "source": [
        "1.83 est un nombre à virgule. Il faut noter ici que la virgule est représentée par un point. C'est la convention en anglais. `1,83` n'est donc pas un nombre à virgule si vous l'ecrivez comme ca. En anglais, on appelle un nombre à virgule, `float`"
      ]
    },
    {
      "cell_type": "code",
      "metadata": {
        "id": "Zez5KAsqJssN",
        "outputId": "c6b7b61d-ff50-4e21-8f6b-95305ef3de16"
      },
      "source": [
        "type(taille)"
      ],
      "execution_count": null,
      "outputs": [
        {
          "output_type": "execute_result",
          "data": {
            "text/plain": [
              "float"
            ]
          },
          "metadata": {
            "tags": []
          },
          "execution_count": 12
        }
      ]
    },
    {
      "cell_type": "markdown",
      "metadata": {
        "id": "ef6n_0MYJssN"
      },
      "source": [
        "## Les chaînes de caractères"
      ]
    },
    {
      "cell_type": "markdown",
      "metadata": {
        "id": "Mwgaq7qWJssN"
      },
      "source": [
        "On a vu les nombres. Place aux chaines de caractères. Un mot est une chaine de caractères. Une lettre est une chaine de caractères avec un seul élément. Pour dire à Python qu'une variable est une chaine de caractère ou encore `string`, on la met en des guillemets comme ceci `\"blabla\"` ou `'blabla'`."
      ]
    },
    {
      "cell_type": "code",
      "metadata": {
        "id": "v4ZtQxd8JssO"
      },
      "source": [
        "nom = \"Kevin\""
      ],
      "execution_count": null,
      "outputs": []
    },
    {
      "cell_type": "code",
      "metadata": {
        "id": "tAU8syLHJssO",
        "outputId": "1b980969-f80a-4dc7-d2f0-0701cc059246"
      },
      "source": [
        "type(nom)"
      ],
      "execution_count": null,
      "outputs": [
        {
          "output_type": "execute_result",
          "data": {
            "text/plain": [
              "str"
            ]
          },
          "metadata": {
            "tags": []
          },
          "execution_count": 14
        }
      ]
    },
    {
      "cell_type": "markdown",
      "metadata": {
        "id": "DSxdb7fnJssO"
      },
      "source": [
        "Que se passe-t-il si je mets un nombre entre des guillemets. Essayons et vérifions le type."
      ]
    },
    {
      "cell_type": "code",
      "metadata": {
        "id": "UEVhblqJJssO"
      },
      "source": [
        "nombre = \"15\""
      ],
      "execution_count": null,
      "outputs": []
    },
    {
      "cell_type": "code",
      "metadata": {
        "id": "jLo2k1mSJssP",
        "outputId": "575c9ee0-725c-4c08-f6ea-2804dcb683cc"
      },
      "source": [
        "type(nombre)"
      ],
      "execution_count": null,
      "outputs": [
        {
          "output_type": "execute_result",
          "data": {
            "text/plain": [
              "str"
            ]
          },
          "metadata": {
            "tags": []
          },
          "execution_count": 16
        }
      ]
    },
    {
      "cell_type": "markdown",
      "metadata": {
        "id": "33gSgXyRJssP"
      },
      "source": [
        "nombre est apparemment un `str (string)`, ce qui veut dire que toute chose qu'on mettra entre des guillemets est une chaine de caractères"
      ]
    },
    {
      "cell_type": "markdown",
      "metadata": {
        "id": "b9fi6_cVJssP"
      },
      "source": [
        "## Changement de Type"
      ]
    },
    {
      "cell_type": "code",
      "metadata": {
        "id": "w2JiF7g4JssP"
      },
      "source": [
        "numero = \"15\""
      ],
      "execution_count": null,
      "outputs": []
    },
    {
      "cell_type": "code",
      "metadata": {
        "id": "TwiJsIRVJssP",
        "outputId": "f3c00543-30b3-4e56-d048-28f01d80a946"
      },
      "source": [
        "type(numero)"
      ],
      "execution_count": null,
      "outputs": [
        {
          "output_type": "execute_result",
          "data": {
            "text/plain": [
              "str"
            ]
          },
          "metadata": {
            "tags": []
          },
          "execution_count": 18
        }
      ]
    },
    {
      "cell_type": "code",
      "metadata": {
        "id": "4UDhltxtJssQ"
      },
      "source": [
        "numero_int =  int(numero)"
      ],
      "execution_count": null,
      "outputs": []
    },
    {
      "cell_type": "code",
      "metadata": {
        "id": "r7V1HXp9JssQ",
        "outputId": "2853fa73-dd0e-41d2-ebd7-f519223a9ac7"
      },
      "source": [
        "type(numero_int)"
      ],
      "execution_count": null,
      "outputs": [
        {
          "output_type": "execute_result",
          "data": {
            "text/plain": [
              "int"
            ]
          },
          "metadata": {
            "tags": []
          },
          "execution_count": 20
        }
      ]
    },
    {
      "cell_type": "code",
      "metadata": {
        "id": "9PhsdvEOJssQ"
      },
      "source": [
        "numero = \"1589kil\""
      ],
      "execution_count": null,
      "outputs": []
    },
    {
      "cell_type": "code",
      "metadata": {
        "id": "fkJv_6HuJssQ",
        "outputId": "34804155-dc07-4bf8-cc51-230f49217be8"
      },
      "source": [
        "int(numero)"
      ],
      "execution_count": null,
      "outputs": [
        {
          "output_type": "error",
          "ename": "ValueError",
          "evalue": "invalid literal for int() with base 10: '1589kil'",
          "traceback": [
            "\u001b[0;31m---------------------------------------------------------------------------\u001b[0m",
            "\u001b[0;31mValueError\u001b[0m                                Traceback (most recent call last)",
            "\u001b[0;32m<ipython-input-22-e782938469f3>\u001b[0m in \u001b[0;36m<module>\u001b[0;34m\u001b[0m\n\u001b[0;32m----> 1\u001b[0;31m \u001b[0mint\u001b[0m\u001b[0;34m(\u001b[0m\u001b[0mnumero\u001b[0m\u001b[0;34m)\u001b[0m\u001b[0;34m\u001b[0m\u001b[0;34m\u001b[0m\u001b[0m\n\u001b[0m",
            "\u001b[0;31mValueError\u001b[0m: invalid literal for int() with base 10: '1589kil'"
          ]
        }
      ]
    },
    {
      "cell_type": "code",
      "metadata": {
        "id": "uUfN4KmPJssR"
      },
      "source": [
        "age = 15"
      ],
      "execution_count": null,
      "outputs": []
    },
    {
      "cell_type": "code",
      "metadata": {
        "id": "TigCFxs8JssR",
        "outputId": "72c0ea48-cd41-4c2b-97be-31ff4b17f89d"
      },
      "source": [
        "str(age)"
      ],
      "execution_count": null,
      "outputs": [
        {
          "output_type": "execute_result",
          "data": {
            "text/plain": [
              "'15'"
            ]
          },
          "metadata": {
            "tags": []
          },
          "execution_count": 24
        }
      ]
    },
    {
      "cell_type": "code",
      "metadata": {
        "id": "2pANcwI2JssR"
      },
      "source": [
        "poids = \"18.69\""
      ],
      "execution_count": null,
      "outputs": []
    },
    {
      "cell_type": "code",
      "metadata": {
        "id": "Utn7Qm8UJssR",
        "outputId": "b9fb6d13-9d6f-4f05-b89a-752735a67729"
      },
      "source": [
        "float(poids)"
      ],
      "execution_count": null,
      "outputs": [
        {
          "output_type": "execute_result",
          "data": {
            "text/plain": [
              "18.69"
            ]
          },
          "metadata": {
            "tags": []
          },
          "execution_count": 26
        }
      ]
    },
    {
      "cell_type": "code",
      "metadata": {
        "id": "2pxccs7TJssR"
      },
      "source": [
        "poids = float(poids)"
      ],
      "execution_count": null,
      "outputs": []
    },
    {
      "cell_type": "code",
      "metadata": {
        "id": "0TPIDCJzJssS",
        "outputId": "1444547f-75d5-48e9-f8cd-bc69fb3a0f94"
      },
      "source": [
        "poids"
      ],
      "execution_count": null,
      "outputs": [
        {
          "output_type": "execute_result",
          "data": {
            "text/plain": [
              "18.69"
            ]
          },
          "metadata": {
            "tags": []
          },
          "execution_count": 28
        }
      ]
    },
    {
      "cell_type": "code",
      "metadata": {
        "id": "MGSBKcAGJssS"
      },
      "source": [
        ""
      ],
      "execution_count": null,
      "outputs": []
    },
    {
      "cell_type": "markdown",
      "metadata": {
        "id": "-1TC_73UJssS"
      },
      "source": [
        "## Les listes"
      ]
    },
    {
      "cell_type": "code",
      "metadata": {
        "id": "KNCsTDs7JssS"
      },
      "source": [
        "notes = [18, 15, 13, 20]"
      ],
      "execution_count": null,
      "outputs": []
    },
    {
      "cell_type": "code",
      "metadata": {
        "id": "YjG5IGO_JssT"
      },
      "source": [
        "blabla = [\"Kevin\", 15, 25.25, [5], \"1\"]"
      ],
      "execution_count": null,
      "outputs": []
    },
    {
      "cell_type": "code",
      "metadata": {
        "id": "7RgCvnFEJssT",
        "outputId": "d0d583d0-b41d-4806-f3b9-a050897d5c58"
      },
      "source": [
        "notes[0]"
      ],
      "execution_count": null,
      "outputs": [
        {
          "output_type": "execute_result",
          "data": {
            "text/plain": [
              "18"
            ]
          },
          "metadata": {
            "tags": []
          },
          "execution_count": 30
        }
      ]
    },
    {
      "cell_type": "code",
      "metadata": {
        "id": "ay242PPuJssT",
        "outputId": "0f81a9c9-8bd0-41e5-fcbf-5401e67542f8"
      },
      "source": [
        "notes[-2]"
      ],
      "execution_count": null,
      "outputs": [
        {
          "output_type": "execute_result",
          "data": {
            "text/plain": [
              "13"
            ]
          },
          "metadata": {
            "tags": []
          },
          "execution_count": 31
        }
      ]
    },
    {
      "cell_type": "code",
      "metadata": {
        "id": "3tCF0ODUJssT",
        "outputId": "df4a7465-70c6-436d-a376-93429750a9b4"
      },
      "source": [
        "notes[2]"
      ],
      "execution_count": null,
      "outputs": [
        {
          "output_type": "execute_result",
          "data": {
            "text/plain": [
              "13"
            ]
          },
          "metadata": {
            "tags": []
          },
          "execution_count": 32
        }
      ]
    },
    {
      "cell_type": "code",
      "metadata": {
        "id": "9NSMJz6qJssU",
        "outputId": "b87cd5af-283e-40ab-f63c-3f993e8486e1"
      },
      "source": [
        "blabla[3]"
      ],
      "execution_count": null,
      "outputs": [
        {
          "output_type": "execute_result",
          "data": {
            "text/plain": [
              "[5]"
            ]
          },
          "metadata": {
            "tags": []
          },
          "execution_count": 33
        }
      ]
    },
    {
      "cell_type": "code",
      "metadata": {
        "id": "6rvk9eJZJssU",
        "outputId": "421a8f52-66ca-42bf-fcb4-36374356113d"
      },
      "source": [
        "type(blabla[3])"
      ],
      "execution_count": null,
      "outputs": [
        {
          "output_type": "execute_result",
          "data": {
            "text/plain": [
              "list"
            ]
          },
          "metadata": {
            "tags": []
          },
          "execution_count": 34
        }
      ]
    },
    {
      "cell_type": "code",
      "metadata": {
        "id": "0p53T_yFJssU",
        "outputId": "6b8f9821-8172-48e0-b1b1-89733c81d6f9"
      },
      "source": [
        "type(blabla)"
      ],
      "execution_count": null,
      "outputs": [
        {
          "output_type": "execute_result",
          "data": {
            "text/plain": [
              "list"
            ]
          },
          "metadata": {
            "tags": []
          },
          "execution_count": 35
        }
      ]
    },
    {
      "cell_type": "code",
      "metadata": {
        "id": "JR-qMiLMJssU"
      },
      "source": [
        "notes = [18, 15, 13, 20]"
      ],
      "execution_count": null,
      "outputs": []
    },
    {
      "cell_type": "code",
      "metadata": {
        "id": "hx2HpDHzJssU"
      },
      "source": [
        "notes[-2] = 10"
      ],
      "execution_count": null,
      "outputs": []
    },
    {
      "cell_type": "code",
      "metadata": {
        "id": "zi0vaLWZJssV",
        "outputId": "bcb35019-908d-44bf-e5f6-85f2e3f97205"
      },
      "source": [
        "notes"
      ],
      "execution_count": null,
      "outputs": [
        {
          "output_type": "execute_result",
          "data": {
            "text/plain": [
              "[18, 15, 10, 20]"
            ]
          },
          "metadata": {
            "tags": []
          },
          "execution_count": 38
        }
      ]
    },
    {
      "cell_type": "code",
      "metadata": {
        "id": "4bo_JVdPJssV",
        "outputId": "b102a853-f935-4fda-c62c-a967bf938574"
      },
      "source": [
        "notes[1:3]"
      ],
      "execution_count": null,
      "outputs": [
        {
          "output_type": "execute_result",
          "data": {
            "text/plain": [
              "[15, 10]"
            ]
          },
          "metadata": {
            "tags": []
          },
          "execution_count": 39
        }
      ]
    },
    {
      "cell_type": "code",
      "metadata": {
        "id": "uJEBQd-1JssV"
      },
      "source": [
        "notes[index_du_premier: index_du_dernier + 1]"
      ],
      "execution_count": null,
      "outputs": []
    },
    {
      "cell_type": "code",
      "metadata": {
        "id": "7JzOyURSJssV"
      },
      "source": [
        "nombres = [ 14, 58, 45, -9, \"ballon\", \"kevin\", 12]"
      ],
      "execution_count": null,
      "outputs": []
    },
    {
      "cell_type": "code",
      "metadata": {
        "id": "IvQ_nrFEJssV",
        "outputId": "374644a3-213e-4f48-858c-a39bc2e03c15"
      },
      "source": [
        "nombres[4:6]"
      ],
      "execution_count": null,
      "outputs": [
        {
          "output_type": "execute_result",
          "data": {
            "text/plain": [
              "['ballon', 'kevin']"
            ]
          },
          "metadata": {
            "tags": []
          },
          "execution_count": 41
        }
      ]
    },
    {
      "cell_type": "code",
      "metadata": {
        "id": "_EEFTl_FJssW",
        "outputId": "a6d7f188-39eb-4d3a-c2ae-26fdc8f6b6f5"
      },
      "source": [
        "nombres[-3:-1]"
      ],
      "execution_count": null,
      "outputs": [
        {
          "output_type": "execute_result",
          "data": {
            "text/plain": [
              "['ballon', 'kevin']"
            ]
          },
          "metadata": {
            "tags": []
          },
          "execution_count": 42
        }
      ]
    },
    {
      "cell_type": "code",
      "metadata": {
        "id": "JP8sm2zvJssY"
      },
      "source": [
        "nombres.append(20)"
      ],
      "execution_count": null,
      "outputs": []
    },
    {
      "cell_type": "code",
      "metadata": {
        "id": "cgrARiwjJssZ",
        "outputId": "94bfb8e7-1bbe-413e-e3c2-c1229dfd9bc9"
      },
      "source": [
        "nombres"
      ],
      "execution_count": null,
      "outputs": [
        {
          "output_type": "execute_result",
          "data": {
            "text/plain": [
              "[14, 58, 45, -9, 'ballon', 'kevin', 12, 20]"
            ]
          },
          "metadata": {
            "tags": []
          },
          "execution_count": 44
        }
      ]
    },
    {
      "cell_type": "code",
      "metadata": {
        "id": "t94jAN3uJssZ",
        "outputId": "16fc6247-e4e2-44b8-87c1-58179ec1ab1b"
      },
      "source": [
        "nombres[4:6]"
      ],
      "execution_count": null,
      "outputs": [
        {
          "output_type": "execute_result",
          "data": {
            "text/plain": [
              "['ballon', 'kevin']"
            ]
          },
          "metadata": {
            "tags": []
          },
          "execution_count": 45
        }
      ]
    },
    {
      "cell_type": "code",
      "metadata": {
        "id": "BhqDD1vcJssZ",
        "outputId": "28d4761c-e26d-4628-c043-5a70f7739c14"
      },
      "source": [
        "nombres[-4:-2]"
      ],
      "execution_count": null,
      "outputs": [
        {
          "output_type": "execute_result",
          "data": {
            "text/plain": [
              "['ballon', 'kevin']"
            ]
          },
          "metadata": {
            "tags": []
          },
          "execution_count": 46
        }
      ]
    },
    {
      "cell_type": "code",
      "metadata": {
        "id": "U0IRgs9qJssa"
      },
      "source": [
        "nombres[3] = 9"
      ],
      "execution_count": null,
      "outputs": []
    },
    {
      "cell_type": "code",
      "metadata": {
        "id": "Bre5E9IsJssa",
        "outputId": "11721072-7ed4-495d-c91c-bb2940e4fa2f"
      },
      "source": [
        "nombres"
      ],
      "execution_count": null,
      "outputs": [
        {
          "output_type": "execute_result",
          "data": {
            "text/plain": [
              "[14, 58, 45, 9, 'ballon', 'kevin', 12, 20]"
            ]
          },
          "metadata": {
            "tags": []
          },
          "execution_count": 48
        }
      ]
    },
    {
      "cell_type": "code",
      "metadata": {
        "id": "tWNEWdUCJssa"
      },
      "source": [
        "del nombres[4]"
      ],
      "execution_count": null,
      "outputs": []
    },
    {
      "cell_type": "code",
      "metadata": {
        "id": "kEdjOvFbJssa",
        "outputId": "41e63e02-3d7c-4483-ca7e-d85e7118924c"
      },
      "source": [
        "nombres"
      ],
      "execution_count": null,
      "outputs": [
        {
          "output_type": "execute_result",
          "data": {
            "text/plain": [
              "[14, 58, 45, 9, 'kevin', 12, 20]"
            ]
          },
          "metadata": {
            "tags": []
          },
          "execution_count": 50
        }
      ]
    },
    {
      "cell_type": "code",
      "metadata": {
        "id": "s513BawFJssb"
      },
      "source": [
        "nombres.remove('kevin')"
      ],
      "execution_count": null,
      "outputs": []
    },
    {
      "cell_type": "code",
      "metadata": {
        "id": "xMT8VL2XJssb",
        "outputId": "53d61943-eed9-45b5-bd52-57cab7e61d77"
      },
      "source": [
        "nombres"
      ],
      "execution_count": null,
      "outputs": [
        {
          "output_type": "execute_result",
          "data": {
            "text/plain": [
              "[14, 58, 45, 9, 12, 20]"
            ]
          },
          "metadata": {
            "tags": []
          },
          "execution_count": 52
        }
      ]
    },
    {
      "cell_type": "code",
      "metadata": {
        "id": "PacBbBDOJssb",
        "outputId": "94a910f6-9975-49b3-9a3f-33457bd29349"
      },
      "source": [
        "nombres"
      ],
      "execution_count": null,
      "outputs": [
        {
          "output_type": "execute_result",
          "data": {
            "text/plain": [
              "[14, 58, 45, 9, 12, 20]"
            ]
          },
          "metadata": {
            "tags": []
          },
          "execution_count": 53
        }
      ]
    },
    {
      "cell_type": "code",
      "metadata": {
        "id": "GrlCmRDTJssb"
      },
      "source": [
        "nombres.insert(4, 'radji')"
      ],
      "execution_count": null,
      "outputs": []
    },
    {
      "cell_type": "code",
      "metadata": {
        "id": "EicAzKIEJssc",
        "outputId": "8fb6a137-1e62-4b11-ac68-a8b94a22106a"
      },
      "source": [
        "nombres"
      ],
      "execution_count": null,
      "outputs": [
        {
          "output_type": "execute_result",
          "data": {
            "text/plain": [
              "[14, 58, 45, 9, 'radji', 12, 20]"
            ]
          },
          "metadata": {
            "tags": []
          },
          "execution_count": 55
        }
      ]
    },
    {
      "cell_type": "code",
      "metadata": {
        "id": "IQTsRr0ZJssc",
        "outputId": "c40cda93-84e3-401f-94ac-c5e696b52818"
      },
      "source": [
        "len(nombres)"
      ],
      "execution_count": null,
      "outputs": [
        {
          "output_type": "execute_result",
          "data": {
            "text/plain": [
              "7"
            ]
          },
          "metadata": {
            "tags": []
          },
          "execution_count": 56
        }
      ]
    },
    {
      "cell_type": "code",
      "metadata": {
        "id": "nq98UtfELgK1"
      },
      "source": [
        "blabla = [4, \"ki\", 5, \"ko\", 9, \"koi\", 15, \"ku\"]"
      ],
      "execution_count": null,
      "outputs": []
    },
    {
      "cell_type": "code",
      "metadata": {
        "colab": {
          "base_uri": "https://localhost:8080/"
        },
        "id": "P7iB_4u3Lf1p",
        "outputId": "5cbe713a-9daa-4edc-fb37-031540bdfff4"
      },
      "source": [
        "blabla[::2]"
      ],
      "execution_count": null,
      "outputs": [
        {
          "output_type": "execute_result",
          "data": {
            "text/plain": [
              "[4, 5, 9, 15]"
            ]
          },
          "metadata": {
            "tags": []
          },
          "execution_count": 10
        }
      ]
    },
    {
      "cell_type": "code",
      "metadata": {
        "id": "oJajdMVPJssc"
      },
      "source": [
        "blabla.clear()"
      ],
      "execution_count": null,
      "outputs": []
    },
    {
      "cell_type": "code",
      "metadata": {
        "colab": {
          "base_uri": "https://localhost:8080/"
        },
        "id": "VChjNZdXJssc",
        "outputId": "bec10a8e-af5f-4446-8142-8ac16c67cf8d"
      },
      "source": [
        "blabla"
      ],
      "execution_count": null,
      "outputs": [
        {
          "output_type": "execute_result",
          "data": {
            "text/plain": [
              "[]"
            ]
          },
          "metadata": {
            "tags": []
          },
          "execution_count": 12
        }
      ]
    },
    {
      "cell_type": "code",
      "metadata": {
        "id": "ho0Hw5OvN0xu"
      },
      "source": [
        "liste_vide = []"
      ],
      "execution_count": null,
      "outputs": []
    },
    {
      "cell_type": "code",
      "metadata": {
        "id": "26sISGJZN4FJ"
      },
      "source": [
        "liste_vide.append(25)"
      ],
      "execution_count": null,
      "outputs": []
    },
    {
      "cell_type": "code",
      "metadata": {
        "colab": {
          "base_uri": "https://localhost:8080/"
        },
        "id": "pLuvzLlVN1T2",
        "outputId": "834f45ce-4e3f-4467-9852-8c6d75d05c16"
      },
      "source": [
        "liste_vide"
      ],
      "execution_count": null,
      "outputs": [
        {
          "output_type": "execute_result",
          "data": {
            "text/plain": [
              "[25]"
            ]
          },
          "metadata": {
            "tags": []
          },
          "execution_count": 15
        }
      ]
    },
    {
      "cell_type": "code",
      "metadata": {
        "id": "hzArikacOINp"
      },
      "source": [
        "[2,5,8,9,7,1,5].sort()"
      ],
      "execution_count": null,
      "outputs": []
    },
    {
      "cell_type": "code",
      "metadata": {
        "id": "VBslIxdIO3Co"
      },
      "source": [
        "nombres = [2,5,8,9,7,1,5]"
      ],
      "execution_count": null,
      "outputs": []
    },
    {
      "cell_type": "code",
      "metadata": {
        "id": "ywWdFRAjO2et"
      },
      "source": [
        "nombres.sort()"
      ],
      "execution_count": null,
      "outputs": []
    },
    {
      "cell_type": "code",
      "metadata": {
        "colab": {
          "base_uri": "https://localhost:8080/"
        },
        "id": "T_Kv3_G5OIli",
        "outputId": "9b7ac9bf-7f17-4dd6-d3f6-0ebb2d397eb2"
      },
      "source": [
        "nombres"
      ],
      "execution_count": null,
      "outputs": [
        {
          "output_type": "execute_result",
          "data": {
            "text/plain": [
              "[1, 2, 5, 5, 7, 8, 9]"
            ]
          },
          "metadata": {
            "tags": []
          },
          "execution_count": 20
        }
      ]
    },
    {
      "cell_type": "code",
      "metadata": {
        "colab": {
          "base_uri": "https://localhost:8080/"
        },
        "id": "1PLA1JZtPIIK",
        "outputId": "02c9f0ca-947d-4680-b229-d004cbef9698"
      },
      "source": [
        "sorted(nombres)"
      ],
      "execution_count": null,
      "outputs": [
        {
          "output_type": "execute_result",
          "data": {
            "text/plain": [
              "[1, 2, 5, 5, 7, 8, 9]"
            ]
          },
          "metadata": {
            "tags": []
          },
          "execution_count": 22
        }
      ]
    },
    {
      "cell_type": "code",
      "metadata": {
        "colab": {
          "base_uri": "https://localhost:8080/"
        },
        "id": "XHFrgeMXPIjV",
        "outputId": "ad48eb66-13f0-4aab-ddaf-3553e91b3ac9"
      },
      "source": [
        "nombres"
      ],
      "execution_count": null,
      "outputs": [
        {
          "output_type": "execute_result",
          "data": {
            "text/plain": [
              "[2, 5, 8, 9, 7, 1, 5]"
            ]
          },
          "metadata": {
            "tags": []
          },
          "execution_count": 23
        }
      ]
    },
    {
      "cell_type": "markdown",
      "metadata": {
        "id": "2WnEQu-UQhM_"
      },
      "source": [
        "Peut-on ordonner une liste qui contient des nombres et des chaines de caractères ?"
      ]
    },
    {
      "cell_type": "code",
      "metadata": {
        "id": "tU7sKJdHPU-k"
      },
      "source": [
        ""
      ],
      "execution_count": null,
      "outputs": []
    },
    {
      "cell_type": "code",
      "metadata": {
        "id": "rZ5Y1QU5PVXH"
      },
      "source": [
        "nombres = [ 1 ,21, 5, 21, 6, 1,5]"
      ],
      "execution_count": null,
      "outputs": []
    },
    {
      "cell_type": "code",
      "metadata": {
        "id": "Gu8eioUWPVuU",
        "colab": {
          "base_uri": "https://localhost:8080/"
        },
        "outputId": "a232c88b-bae5-487a-ea0a-72f0a486398f"
      },
      "source": [
        "set(nombres)"
      ],
      "execution_count": null,
      "outputs": [
        {
          "output_type": "execute_result",
          "data": {
            "text/plain": [
              "{1, 5, 6, 21}"
            ]
          },
          "metadata": {
            "tags": []
          },
          "execution_count": 2
        }
      ]
    },
    {
      "cell_type": "markdown",
      "metadata": {
        "id": "Bs5Uf4NEJssc"
      },
      "source": [
        "## Les tuples"
      ]
    },
    {
      "cell_type": "code",
      "metadata": {
        "id": "9Jl6f0UNQpC_"
      },
      "source": [
        "un_tuple = (2, 5 , 9)"
      ],
      "execution_count": null,
      "outputs": []
    },
    {
      "cell_type": "code",
      "metadata": {
        "colab": {
          "base_uri": "https://localhost:8080/"
        },
        "id": "a3pfGOx_QotQ",
        "outputId": "e7a283f5-ae67-46f6-e00b-331da63d1204"
      },
      "source": [
        "type(un_tuple)"
      ],
      "execution_count": null,
      "outputs": [
        {
          "output_type": "execute_result",
          "data": {
            "text/plain": [
              "tuple"
            ]
          },
          "metadata": {
            "tags": []
          },
          "execution_count": 25
        }
      ]
    },
    {
      "cell_type": "code",
      "metadata": {
        "colab": {
          "base_uri": "https://localhost:8080/"
        },
        "id": "MM-xxwmqQ6c4",
        "outputId": "3f33164f-168e-4fd9-d65e-6437a8f525e4"
      },
      "source": [
        "un_tuple[2]"
      ],
      "execution_count": null,
      "outputs": [
        {
          "output_type": "execute_result",
          "data": {
            "text/plain": [
              "9"
            ]
          },
          "metadata": {
            "tags": []
          },
          "execution_count": 26
        }
      ]
    },
    {
      "cell_type": "code",
      "metadata": {
        "colab": {
          "base_uri": "https://localhost:8080/",
          "height": 162
        },
        "id": "jUzXlbYLQ6Mi",
        "outputId": "1d4f2472-8bab-4169-fb67-644636b69614"
      },
      "source": [
        "un_tuple(2)"
      ],
      "execution_count": null,
      "outputs": [
        {
          "output_type": "error",
          "ename": "TypeError",
          "evalue": "ignored",
          "traceback": [
            "\u001b[0;31m---------------------------------------------------------------------------\u001b[0m",
            "\u001b[0;31mTypeError\u001b[0m                                 Traceback (most recent call last)",
            "\u001b[0;32m<ipython-input-27-b89e85d2b07a>\u001b[0m in \u001b[0;36m<module>\u001b[0;34m()\u001b[0m\n\u001b[0;32m----> 1\u001b[0;31m \u001b[0mun_tuple\u001b[0m\u001b[0;34m(\u001b[0m\u001b[0;36m2\u001b[0m\u001b[0;34m)\u001b[0m\u001b[0;34m\u001b[0m\u001b[0;34m\u001b[0m\u001b[0m\n\u001b[0m",
            "\u001b[0;31mTypeError\u001b[0m: 'tuple' object is not callable"
          ]
        }
      ]
    },
    {
      "cell_type": "code",
      "metadata": {
        "colab": {
          "base_uri": "https://localhost:8080/"
        },
        "id": "nHPjUjuYQoTS",
        "outputId": "0cb03ae7-c173-42b3-c737-d851812e538a"
      },
      "source": [
        "un_tuple[0:2]"
      ],
      "execution_count": null,
      "outputs": [
        {
          "output_type": "execute_result",
          "data": {
            "text/plain": [
              "(2, 5)"
            ]
          },
          "metadata": {
            "tags": []
          },
          "execution_count": 28
        }
      ]
    },
    {
      "cell_type": "code",
      "metadata": {
        "colab": {
          "base_uri": "https://localhost:8080/",
          "height": 162
        },
        "id": "WzCoe8-SJssd",
        "outputId": "1b5558a5-469f-4b2c-c89f-74c56baf4b4c"
      },
      "source": [
        "un_tuple[1] = 15000"
      ],
      "execution_count": null,
      "outputs": [
        {
          "output_type": "error",
          "ename": "TypeError",
          "evalue": "ignored",
          "traceback": [
            "\u001b[0;31m---------------------------------------------------------------------------\u001b[0m",
            "\u001b[0;31mTypeError\u001b[0m                                 Traceback (most recent call last)",
            "\u001b[0;32m<ipython-input-29-50f5cb4db3c3>\u001b[0m in \u001b[0;36m<module>\u001b[0;34m()\u001b[0m\n\u001b[0;32m----> 1\u001b[0;31m \u001b[0mun_tuple\u001b[0m\u001b[0;34m[\u001b[0m\u001b[0;36m1\u001b[0m\u001b[0;34m]\u001b[0m \u001b[0;34m=\u001b[0m \u001b[0;36m15000\u001b[0m\u001b[0;34m\u001b[0m\u001b[0;34m\u001b[0m\u001b[0m\n\u001b[0m",
            "\u001b[0;31mTypeError\u001b[0m: 'tuple' object does not support item assignment"
          ]
        }
      ]
    },
    {
      "cell_type": "code",
      "metadata": {
        "colab": {
          "base_uri": "https://localhost:8080/",
          "height": 162
        },
        "id": "4cDAOgUGRfl4",
        "outputId": "36723bea-9b74-4ae3-e0f9-b20541e611cc"
      },
      "source": [
        "un_tuple.append(15000)"
      ],
      "execution_count": null,
      "outputs": [
        {
          "output_type": "error",
          "ename": "AttributeError",
          "evalue": "ignored",
          "traceback": [
            "\u001b[0;31m---------------------------------------------------------------------------\u001b[0m",
            "\u001b[0;31mAttributeError\u001b[0m                            Traceback (most recent call last)",
            "\u001b[0;32m<ipython-input-30-10f9f390e3fd>\u001b[0m in \u001b[0;36m<module>\u001b[0;34m()\u001b[0m\n\u001b[0;32m----> 1\u001b[0;31m \u001b[0mun_tuple\u001b[0m\u001b[0;34m.\u001b[0m\u001b[0mappend\u001b[0m\u001b[0;34m(\u001b[0m\u001b[0;36m15000\u001b[0m\u001b[0;34m)\u001b[0m\u001b[0;34m\u001b[0m\u001b[0;34m\u001b[0m\u001b[0m\n\u001b[0m",
            "\u001b[0;31mAttributeError\u001b[0m: 'tuple' object has no attribute 'append'"
          ]
        }
      ]
    },
    {
      "cell_type": "code",
      "metadata": {
        "colab": {
          "base_uri": "https://localhost:8080/",
          "height": 162
        },
        "id": "FFQNelO9RfSy",
        "outputId": "2f3f0f78-a90f-47a5-a0dd-d3e13b174740"
      },
      "source": [
        "del un_tuple[1]"
      ],
      "execution_count": null,
      "outputs": [
        {
          "output_type": "error",
          "ename": "TypeError",
          "evalue": "ignored",
          "traceback": [
            "\u001b[0;31m---------------------------------------------------------------------------\u001b[0m",
            "\u001b[0;31mTypeError\u001b[0m                                 Traceback (most recent call last)",
            "\u001b[0;32m<ipython-input-32-a4858ed01ac1>\u001b[0m in \u001b[0;36m<module>\u001b[0;34m()\u001b[0m\n\u001b[0;32m----> 1\u001b[0;31m \u001b[0;32mdel\u001b[0m \u001b[0mun_tuple\u001b[0m\u001b[0;34m[\u001b[0m\u001b[0;36m1\u001b[0m\u001b[0;34m]\u001b[0m\u001b[0;34m\u001b[0m\u001b[0;34m\u001b[0m\u001b[0m\n\u001b[0m",
            "\u001b[0;31mTypeError\u001b[0m: 'tuple' object doesn't support item deletion"
          ]
        }
      ]
    },
    {
      "cell_type": "code",
      "metadata": {
        "id": "FbCpFFlcJssd"
      },
      "source": [
        "jours = ('lundi')"
      ],
      "execution_count": null,
      "outputs": []
    },
    {
      "cell_type": "code",
      "metadata": {
        "id": "d9GGmdz_Jssd"
      },
      "source": [
        ""
      ],
      "execution_count": null,
      "outputs": []
    },
    {
      "cell_type": "markdown",
      "metadata": {
        "id": "l6MGJvGuJssd"
      },
      "source": [
        "## Les dictionnaires"
      ]
    },
    {
      "cell_type": "code",
      "metadata": {
        "id": "paH_4Z3SSHXi"
      },
      "source": [
        "annuaire = {\"kevin\": \"06545885852\", \"radji\": \"06466548454\"}"
      ],
      "execution_count": null,
      "outputs": []
    },
    {
      "cell_type": "code",
      "metadata": {
        "colab": {
          "base_uri": "https://localhost:8080/"
        },
        "id": "8geQvkxRSGhB",
        "outputId": "9c044d9b-bc0b-43a1-d257-a49f103987e8"
      },
      "source": [
        "type(annuaire)"
      ],
      "execution_count": null,
      "outputs": [
        {
          "output_type": "execute_result",
          "data": {
            "text/plain": [
              "dict"
            ]
          },
          "metadata": {
            "tags": []
          },
          "execution_count": 37
        }
      ]
    },
    {
      "cell_type": "code",
      "metadata": {
        "colab": {
          "base_uri": "https://localhost:8080/",
          "height": 35
        },
        "id": "coNPmdkqJssd",
        "outputId": "75fc4fac-526d-4d6f-80e1-806d15ada93d"
      },
      "source": [
        "annuaire[\"kevin\"]"
      ],
      "execution_count": null,
      "outputs": [
        {
          "output_type": "execute_result",
          "data": {
            "application/vnd.google.colaboratory.intrinsic+json": {
              "type": "string"
            },
            "text/plain": [
              "'06545885852'"
            ]
          },
          "metadata": {
            "tags": []
          },
          "execution_count": 38
        }
      ]
    },
    {
      "cell_type": "code",
      "metadata": {
        "id": "vptWtghUJssd"
      },
      "source": [
        "annuaire = {\"kevin\": \"06545885852\", \"radji\": \"06466548454\", \"rock_ray\": [\"066545\", \"06454\"]}"
      ],
      "execution_count": null,
      "outputs": []
    },
    {
      "cell_type": "code",
      "metadata": {
        "colab": {
          "base_uri": "https://localhost:8080/"
        },
        "id": "Z_n9rfZjJsse",
        "outputId": "679892c8-b2de-46bf-8a25-aff8921c5dd9"
      },
      "source": [
        "annuaire[\"rock_ray\"]"
      ],
      "execution_count": null,
      "outputs": [
        {
          "output_type": "execute_result",
          "data": {
            "text/plain": [
              "['066545', '06454']"
            ]
          },
          "metadata": {
            "tags": []
          },
          "execution_count": 40
        }
      ]
    },
    {
      "cell_type": "code",
      "metadata": {
        "colab": {
          "base_uri": "https://localhost:8080/",
          "height": 35
        },
        "id": "KfHR9HDlTkNz",
        "outputId": "ae35ccfe-44c6-4783-de9d-14a5aa5a8bca"
      },
      "source": [
        "annuaire[\"rock_ray\"][0]"
      ],
      "execution_count": null,
      "outputs": [
        {
          "output_type": "execute_result",
          "data": {
            "application/vnd.google.colaboratory.intrinsic+json": {
              "type": "string"
            },
            "text/plain": [
              "'066545'"
            ]
          },
          "metadata": {
            "tags": []
          },
          "execution_count": 41
        }
      ]
    },
    {
      "cell_type": "code",
      "metadata": {
        "id": "Z3Q77elfTpjq"
      },
      "source": [
        "annuaire[\"rock_ray\"].append(\"06545451\")"
      ],
      "execution_count": null,
      "outputs": []
    },
    {
      "cell_type": "code",
      "metadata": {
        "colab": {
          "base_uri": "https://localhost:8080/"
        },
        "id": "aQA-NxoITp4V",
        "outputId": "c55a8b96-d8be-47d4-c086-e06551b8c05d"
      },
      "source": [
        "annuaire"
      ],
      "execution_count": null,
      "outputs": [
        {
          "output_type": "execute_result",
          "data": {
            "text/plain": [
              "{'kevin': '06545885852',\n",
              " 'radji': '06466548454',\n",
              " 'rock_ray': ['066545', '06454', '06545451']}"
            ]
          },
          "metadata": {
            "tags": []
          },
          "execution_count": 43
        }
      ]
    },
    {
      "cell_type": "markdown",
      "metadata": {
        "id": "M5g971cPT053"
      },
      "source": [
        "Peut-on créer une liste de dictionnaire ? un dictionnaire de liste de dictionnaires?"
      ]
    },
    {
      "cell_type": "code",
      "metadata": {
        "id": "2hEErCpATqDv"
      },
      "source": [
        "un_dict = {2: \"deux\", 5:\"cinq\", 3:\"trois\"}"
      ],
      "execution_count": null,
      "outputs": []
    },
    {
      "cell_type": "code",
      "metadata": {
        "colab": {
          "base_uri": "https://localhost:8080/"
        },
        "id": "YKA071a-WOOM",
        "outputId": "81d4f5b4-cb88-4d15-808c-752e807dc4b4"
      },
      "source": [
        "len(un_dict)"
      ],
      "execution_count": null,
      "outputs": [
        {
          "output_type": "execute_result",
          "data": {
            "text/plain": [
              "3"
            ]
          },
          "metadata": {
            "tags": []
          },
          "execution_count": 55
        }
      ]
    },
    {
      "cell_type": "code",
      "metadata": {
        "colab": {
          "base_uri": "https://localhost:8080/",
          "height": 35
        },
        "id": "WJWpI4V6TqTI",
        "outputId": "c19b0427-2f06-45bb-89af-b6ce29159edc"
      },
      "source": [
        "un_dict[2]"
      ],
      "execution_count": null,
      "outputs": [
        {
          "output_type": "execute_result",
          "data": {
            "application/vnd.google.colaboratory.intrinsic+json": {
              "type": "string"
            },
            "text/plain": [
              "'deux'"
            ]
          },
          "metadata": {
            "tags": []
          },
          "execution_count": 45
        }
      ]
    },
    {
      "cell_type": "code",
      "metadata": {
        "colab": {
          "base_uri": "https://localhost:8080/",
          "height": 162
        },
        "id": "PaZJTkC1UGlr",
        "outputId": "48774bbf-aceb-4c7e-fc2a-5116f7dafffb"
      },
      "source": [
        "un_dict[1]"
      ],
      "execution_count": null,
      "outputs": [
        {
          "output_type": "error",
          "ename": "KeyError",
          "evalue": "ignored",
          "traceback": [
            "\u001b[0;31m---------------------------------------------------------------------------\u001b[0m",
            "\u001b[0;31mKeyError\u001b[0m                                  Traceback (most recent call last)",
            "\u001b[0;32m<ipython-input-47-d3ff6f2df384>\u001b[0m in \u001b[0;36m<module>\u001b[0;34m()\u001b[0m\n\u001b[0;32m----> 1\u001b[0;31m \u001b[0mun_dict\u001b[0m\u001b[0;34m[\u001b[0m\u001b[0;36m1\u001b[0m\u001b[0;34m]\u001b[0m\u001b[0;34m\u001b[0m\u001b[0;34m\u001b[0m\u001b[0m\n\u001b[0m",
            "\u001b[0;31mKeyError\u001b[0m: 1"
          ]
        }
      ]
    },
    {
      "cell_type": "code",
      "metadata": {
        "colab": {
          "base_uri": "https://localhost:8080/",
          "height": 35
        },
        "id": "Pkb0eTdeUGzt",
        "outputId": "190abea3-94e8-44ae-bd88-f943217e847c"
      },
      "source": [
        "un_dict[5]"
      ],
      "execution_count": null,
      "outputs": [
        {
          "output_type": "execute_result",
          "data": {
            "application/vnd.google.colaboratory.intrinsic+json": {
              "type": "string"
            },
            "text/plain": [
              "'cinq'"
            ]
          },
          "metadata": {
            "tags": []
          },
          "execution_count": 48
        }
      ]
    },
    {
      "cell_type": "code",
      "metadata": {
        "id": "oofdUY0FVJwC"
      },
      "source": [
        " d1 = {'a': 1, 'b': 2, 'c': 3, 'd': 4, 'a1': 5, 'b1': 10, 'c1': 8, 'd1': 6}"
      ],
      "execution_count": null,
      "outputs": []
    },
    {
      "cell_type": "code",
      "metadata": {
        "colab": {
          "base_uri": "https://localhost:8080/"
        },
        "id": "X0H1EBUZVUSS",
        "outputId": "b8d5aecf-4855-4759-963f-c9907fa31d51"
      },
      "source": [
        "d1.items()"
      ],
      "execution_count": null,
      "outputs": [
        {
          "output_type": "execute_result",
          "data": {
            "text/plain": [
              "dict_items([('a', 1), ('b', 2), ('c', 3), ('d', 4), ('a1', 5), ('b1', 10), ('c1', 8), ('d1', 6)])"
            ]
          },
          "metadata": {
            "tags": []
          },
          "execution_count": 50
        }
      ]
    },
    {
      "cell_type": "code",
      "metadata": {
        "colab": {
          "base_uri": "https://localhost:8080/"
        },
        "id": "INPcvJ_qVJip",
        "outputId": "72c84d0b-018c-435e-de60-45ce7afaf3e5"
      },
      "source": [
        "sorted(d1.items(), key=lambda t: t[0])"
      ],
      "execution_count": null,
      "outputs": [
        {
          "output_type": "execute_result",
          "data": {
            "text/plain": [
              "[('a', 1),\n",
              " ('a1', 5),\n",
              " ('b', 2),\n",
              " ('b1', 10),\n",
              " ('c', 3),\n",
              " ('c1', 8),\n",
              " ('d', 4),\n",
              " ('d1', 6)]"
            ]
          },
          "metadata": {
            "tags": []
          },
          "execution_count": 51
        }
      ]
    },
    {
      "cell_type": "code",
      "metadata": {
        "colab": {
          "base_uri": "https://localhost:8080/"
        },
        "id": "Q4DiLypcVJTu",
        "outputId": "1c8f0345-fc74-47e3-a5d2-a3fdc19fb7bc"
      },
      "source": [
        "sorted(d1.items(), key=lambda t: t[1])"
      ],
      "execution_count": null,
      "outputs": [
        {
          "output_type": "execute_result",
          "data": {
            "text/plain": [
              "[('a', 1),\n",
              " ('b', 2),\n",
              " ('c', 3),\n",
              " ('d', 4),\n",
              " ('a1', 5),\n",
              " ('d1', 6),\n",
              " ('c1', 8),\n",
              " ('b1', 10)]"
            ]
          },
          "metadata": {
            "tags": []
          },
          "execution_count": 52
        }
      ]
    },
    {
      "cell_type": "code",
      "metadata": {
        "id": "YLJvH8Cgnx3q"
      },
      "source": [
        "# Peut-on modifier les clés d'un dictionnaire"
      ],
      "execution_count": 1,
      "outputs": []
    },
    {
      "cell_type": "code",
      "metadata": {
        "id": "Io0ua87bnyMa"
      },
      "source": [
        "d = {\"a\": 1, \"b\": 2}"
      ],
      "execution_count": 2,
      "outputs": []
    },
    {
      "cell_type": "code",
      "metadata": {
        "id": "wb11lTdjnyaS"
      },
      "source": [
        "d[\"ab\"] = d['a']\n",
        "del d['a']\n",
        "d['ba'] = d['b']\n",
        "del d['b']"
      ],
      "execution_count": 3,
      "outputs": []
    },
    {
      "cell_type": "code",
      "metadata": {
        "id": "wePaN_Kenymq",
        "outputId": "14c29ab2-ca7e-461d-b784-c1c03d59f976",
        "colab": {
          "base_uri": "https://localhost:8080/"
        }
      },
      "source": [
        "print(d)"
      ],
      "execution_count": 4,
      "outputs": [
        {
          "output_type": "stream",
          "text": [
            "{'ab': 1, 'ba': 2}\n"
          ],
          "name": "stdout"
        }
      ]
    },
    {
      "cell_type": "code",
      "metadata": {
        "id": "LRiVxDs5nyyK"
      },
      "source": [
        ""
      ],
      "execution_count": null,
      "outputs": []
    },
    {
      "cell_type": "markdown",
      "metadata": {
        "id": "Ll3lqDsXV82O"
      },
      "source": [
        "## Chaine de caractères: Es-tu une collection comme liste ?"
      ]
    },
    {
      "cell_type": "code",
      "metadata": {
        "id": "fYwDtuSRVwXj"
      },
      "source": [
        "nom = \"Kevin\""
      ],
      "execution_count": null,
      "outputs": []
    },
    {
      "cell_type": "code",
      "metadata": {
        "colab": {
          "base_uri": "https://localhost:8080/"
        },
        "id": "KIjuN1LPVwES",
        "outputId": "6ff06a6c-1cad-44be-aab0-a01f382f6221"
      },
      "source": [
        "len(nom)"
      ],
      "execution_count": null,
      "outputs": [
        {
          "output_type": "execute_result",
          "data": {
            "text/plain": [
              "5"
            ]
          },
          "metadata": {
            "tags": []
          },
          "execution_count": 56
        }
      ]
    },
    {
      "cell_type": "code",
      "metadata": {
        "colab": {
          "base_uri": "https://localhost:8080/",
          "height": 35
        },
        "id": "mMwk8EnTVv2X",
        "outputId": "97602b16-3ec8-4b13-bed9-e5983f719388"
      },
      "source": [
        "nom[0]"
      ],
      "execution_count": null,
      "outputs": [
        {
          "output_type": "execute_result",
          "data": {
            "application/vnd.google.colaboratory.intrinsic+json": {
              "type": "string"
            },
            "text/plain": [
              "'K'"
            ]
          },
          "metadata": {
            "tags": []
          },
          "execution_count": 57
        }
      ]
    },
    {
      "cell_type": "code",
      "metadata": {
        "colab": {
          "base_uri": "https://localhost:8080/",
          "height": 35
        },
        "id": "b0cpJgsgVvn7",
        "outputId": "0c1f23d5-17ee-4258-e804-0072e4fb4aae"
      },
      "source": [
        "nom[:4]"
      ],
      "execution_count": null,
      "outputs": [
        {
          "output_type": "execute_result",
          "data": {
            "application/vnd.google.colaboratory.intrinsic+json": {
              "type": "string"
            },
            "text/plain": [
              "'Kevi'"
            ]
          },
          "metadata": {
            "tags": []
          },
          "execution_count": 58
        }
      ]
    },
    {
      "cell_type": "code",
      "metadata": {
        "colab": {
          "base_uri": "https://localhost:8080/",
          "height": 162
        },
        "id": "Jebm1Qm1VvZp",
        "outputId": "6867f959-5c46-48bf-fe27-a26360a2cc32"
      },
      "source": [
        "nom[0] = \"k\""
      ],
      "execution_count": null,
      "outputs": [
        {
          "output_type": "error",
          "ename": "TypeError",
          "evalue": "ignored",
          "traceback": [
            "\u001b[0;31m---------------------------------------------------------------------------\u001b[0m",
            "\u001b[0;31mTypeError\u001b[0m                                 Traceback (most recent call last)",
            "\u001b[0;32m<ipython-input-59-65a3eae51b6a>\u001b[0m in \u001b[0;36m<module>\u001b[0;34m()\u001b[0m\n\u001b[0;32m----> 1\u001b[0;31m \u001b[0mnom\u001b[0m\u001b[0;34m[\u001b[0m\u001b[0;36m0\u001b[0m\u001b[0;34m]\u001b[0m \u001b[0;34m=\u001b[0m \u001b[0;34m\"k\"\u001b[0m\u001b[0;34m\u001b[0m\u001b[0;34m\u001b[0m\u001b[0m\n\u001b[0m",
            "\u001b[0;31mTypeError\u001b[0m: 'str' object does not support item assignment"
          ]
        }
      ]
    },
    {
      "cell_type": "code",
      "metadata": {
        "id": "84MrWckVVvFq"
      },
      "source": [
        "nom = 'radji'"
      ],
      "execution_count": null,
      "outputs": []
    },
    {
      "cell_type": "code",
      "metadata": {
        "colab": {
          "base_uri": "https://localhost:8080/",
          "height": 35
        },
        "id": "fh6kRHUvVu17",
        "outputId": "cd80ad11-0a0a-4614-c751-0a20f56493f2"
      },
      "source": [
        "nom.capitalize()"
      ],
      "execution_count": null,
      "outputs": [
        {
          "output_type": "execute_result",
          "data": {
            "application/vnd.google.colaboratory.intrinsic+json": {
              "type": "string"
            },
            "text/plain": [
              "'Radji'"
            ]
          },
          "metadata": {
            "tags": []
          },
          "execution_count": 61
        }
      ]
    },
    {
      "cell_type": "code",
      "metadata": {
        "id": "hm8fkcUQVul4"
      },
      "source": [
        "blabla = \"dnsbgshfhusbdhgkhjbgjfr\""
      ],
      "execution_count": null,
      "outputs": []
    },
    {
      "cell_type": "code",
      "metadata": {
        "colab": {
          "base_uri": "https://localhost:8080/"
        },
        "id": "mXM7DUTmUHDa",
        "outputId": "e7fcb8e3-3a26-4946-cb96-470d195e95f3"
      },
      "source": [
        "blabla.find(\"h\")"
      ],
      "execution_count": null,
      "outputs": [
        {
          "output_type": "execute_result",
          "data": {
            "text/plain": [
              "6"
            ]
          },
          "metadata": {
            "tags": []
          },
          "execution_count": 63
        }
      ]
    },
    {
      "cell_type": "code",
      "metadata": {
        "colab": {
          "base_uri": "https://localhost:8080/"
        },
        "id": "Y0Z3BgWJXKoh",
        "outputId": "967b1217-b4a4-4cba-9c36-e4d72cf605fe"
      },
      "source": [
        "blabla.count(\"h\")"
      ],
      "execution_count": null,
      "outputs": [
        {
          "output_type": "execute_result",
          "data": {
            "text/plain": [
              "4"
            ]
          },
          "metadata": {
            "tags": []
          },
          "execution_count": 64
        }
      ]
    },
    {
      "cell_type": "code",
      "metadata": {
        "colab": {
          "base_uri": "https://localhost:8080/"
        },
        "id": "daSR2JEKXKcj",
        "outputId": "54e92931-3329-4c0e-9bd6-5a5318c869f4"
      },
      "source": [
        "\" \".isspace()"
      ],
      "execution_count": null,
      "outputs": [
        {
          "output_type": "execute_result",
          "data": {
            "text/plain": [
              "True"
            ]
          },
          "metadata": {
            "tags": []
          },
          "execution_count": 65
        }
      ]
    },
    {
      "cell_type": "code",
      "metadata": {
        "id": "1GMK1oIXXKN4"
      },
      "source": [
        ""
      ],
      "execution_count": null,
      "outputs": []
    },
    {
      "cell_type": "code",
      "metadata": {
        "id": "47eeYuLRUHRy"
      },
      "source": [
        ""
      ],
      "execution_count": null,
      "outputs": []
    },
    {
      "cell_type": "markdown",
      "metadata": {
        "id": "Xzg4vGhxJsse"
      },
      "source": [
        "# Recevoir des données de l'utilisateur"
      ]
    },
    {
      "cell_type": "code",
      "metadata": {
        "colab": {
          "base_uri": "https://localhost:8080/"
        },
        "id": "qE3EC_ZwXhsE",
        "outputId": "1b7ea0a0-b3cd-4ee9-c9b9-2eb1a25e1ee4"
      },
      "source": [
        "nom = input(\"Quel est ton nom : \")"
      ],
      "execution_count": null,
      "outputs": [
        {
          "output_type": "stream",
          "text": [
            "Quel est ton nom : Rock\n"
          ],
          "name": "stdout"
        }
      ]
    },
    {
      "cell_type": "code",
      "metadata": {
        "colab": {
          "base_uri": "https://localhost:8080/",
          "height": 35
        },
        "id": "UEgxxTMtXhfR",
        "outputId": "e053fa7a-a520-49d4-fa45-ecaba9ce4cca"
      },
      "source": [
        "nom"
      ],
      "execution_count": null,
      "outputs": [
        {
          "output_type": "execute_result",
          "data": {
            "application/vnd.google.colaboratory.intrinsic+json": {
              "type": "string"
            },
            "text/plain": [
              "'Rock'"
            ]
          },
          "metadata": {
            "tags": []
          },
          "execution_count": 67
        }
      ]
    },
    {
      "cell_type": "code",
      "metadata": {
        "colab": {
          "base_uri": "https://localhost:8080/"
        },
        "id": "-gBY4lw9XtY3",
        "outputId": "f1d1b3e8-cd34-4313-c9d6-ef9a2eb278ae"
      },
      "source": [
        "username = input(\"Quel est ton nom d'utilisateur: \")\n",
        "password = input(\"Quel est ton mot de passe: \")\n",
        "print(\"Bonjour \",username, \" Votre mot de passe n'est pas sécurisé pour le moment. Je peux le lire, c'est : \", password)"
      ],
      "execution_count": null,
      "outputs": [
        {
          "output_type": "stream",
          "text": [
            "Quel est ton nom d'utilisateur: Kevin\n",
            "Quel est ton mot de passe: 1234\n",
            "Bonjour  Kevin  Votre mot de passe n'est pas sécurisé pour le moment. Je peux le lire, c'est :  1234\n"
          ],
          "name": "stdout"
        }
      ]
    },
    {
      "cell_type": "code",
      "metadata": {
        "colab": {
          "base_uri": "https://localhost:8080/"
        },
        "id": "Znw6THBxXtIg",
        "outputId": "6cdc2084-24ff-4dfb-86c3-3e91489c0d7f"
      },
      "source": [
        "print(\"hhb\", username, \"jhvhd\", 15+12, \"bjgj\")"
      ],
      "execution_count": null,
      "outputs": [
        {
          "output_type": "stream",
          "text": [
            "hhb Kevin jhvhd 27 bjgj\n"
          ],
          "name": "stdout"
        }
      ]
    },
    {
      "cell_type": "code",
      "metadata": {
        "colab": {
          "base_uri": "https://localhost:8080/"
        },
        "id": "sNuby1vwXhRx",
        "outputId": "696cf975-2563-4e92-e368-67c04bd83671"
      },
      "source": [
        "username = input(\"Quel est ton nom d'utilisateur: \")\n",
        "password = input(\"Quel est ton mot de passe: \")\n",
        "message = f\"Bonjour {username}. Votre mot de passe n'est pas sécurisé pour le moment. Je peux le lire, c'est :  {password}\"\n",
        "print(message)"
      ],
      "execution_count": null,
      "outputs": [
        {
          "output_type": "stream",
          "text": [
            "Quel est ton nom d'utilisateur: Raymond\n",
            "Quel est ton mot de passe: abcd\n",
            "Bonjour Raymond. Votre mot de passe n'est pas sécurisé pour le moment. Je peux le lire, c'est :  abcd\n"
          ],
          "name": "stdout"
        }
      ]
    },
    {
      "cell_type": "code",
      "metadata": {
        "colab": {
          "base_uri": "https://localhost:8080/"
        },
        "id": "7MVY7xnPXhDV",
        "outputId": "40381dec-8e8a-4693-ff86-930a2c8cb2a7"
      },
      "source": [
        "age = input(\"Quel est ton age: \")"
      ],
      "execution_count": null,
      "outputs": [
        {
          "output_type": "stream",
          "text": [
            "Quel est ton age: 15\n"
          ],
          "name": "stdout"
        }
      ]
    },
    {
      "cell_type": "code",
      "metadata": {
        "id": "dSoth5YpZrd3"
      },
      "source": [
        "?input"
      ],
      "execution_count": null,
      "outputs": []
    },
    {
      "cell_type": "code",
      "metadata": {
        "colab": {
          "base_uri": "https://localhost:8080/"
        },
        "id": "fVT-QrktXg0t",
        "outputId": "f1c18b8f-bf9a-4aa9-b42f-6b224ec3eddd"
      },
      "source": [
        "type(age)"
      ],
      "execution_count": null,
      "outputs": [
        {
          "output_type": "execute_result",
          "data": {
            "text/plain": [
              "str"
            ]
          },
          "metadata": {
            "tags": []
          },
          "execution_count": 74
        }
      ]
    },
    {
      "cell_type": "code",
      "metadata": {
        "colab": {
          "base_uri": "https://localhost:8080/",
          "height": 35
        },
        "id": "GhBwgKkhXglD",
        "outputId": "d150e47b-102d-435f-810e-7a2076f75292"
      },
      "source": [
        "age"
      ],
      "execution_count": null,
      "outputs": [
        {
          "output_type": "execute_result",
          "data": {
            "application/vnd.google.colaboratory.intrinsic+json": {
              "type": "string"
            },
            "text/plain": [
              "'15'"
            ]
          },
          "metadata": {
            "tags": []
          },
          "execution_count": 75
        }
      ]
    },
    {
      "cell_type": "code",
      "metadata": {
        "id": "cSTNTHJ1ZmHJ"
      },
      "source": [
        "age = int(age)"
      ],
      "execution_count": null,
      "outputs": []
    },
    {
      "cell_type": "code",
      "metadata": {
        "colab": {
          "base_uri": "https://localhost:8080/"
        },
        "id": "ic4-JiyPZl7B",
        "outputId": "bf757691-2761-44ff-94d7-ef88d2187c0e"
      },
      "source": [
        "age"
      ],
      "execution_count": null,
      "outputs": [
        {
          "output_type": "execute_result",
          "data": {
            "text/plain": [
              "15"
            ]
          },
          "metadata": {
            "tags": []
          },
          "execution_count": 78
        }
      ]
    },
    {
      "cell_type": "code",
      "metadata": {
        "id": "DPJXpZzwZluE"
      },
      "source": [
        ""
      ],
      "execution_count": null,
      "outputs": []
    },
    {
      "cell_type": "code",
      "metadata": {
        "colab": {
          "base_uri": "https://localhost:8080/",
          "height": 178
        },
        "id": "dUg3MmIgZlgN",
        "outputId": "f5610b17-628f-4488-dec7-7e60c7a07584"
      },
      "source": [
        "age = int(input(\"Quel est ton age: \"))"
      ],
      "execution_count": null,
      "outputs": [
        {
          "output_type": "stream",
          "text": [
            "Quel est ton age: jejekf\n"
          ],
          "name": "stdout"
        },
        {
          "output_type": "error",
          "ename": "ValueError",
          "evalue": "ignored",
          "traceback": [
            "\u001b[0;31m---------------------------------------------------------------------------\u001b[0m",
            "\u001b[0;31mValueError\u001b[0m                                Traceback (most recent call last)",
            "\u001b[0;32m<ipython-input-79-ba2b70548535>\u001b[0m in \u001b[0;36m<module>\u001b[0;34m()\u001b[0m\n\u001b[0;32m----> 1\u001b[0;31m \u001b[0mage\u001b[0m \u001b[0;34m=\u001b[0m \u001b[0mint\u001b[0m\u001b[0;34m(\u001b[0m\u001b[0minput\u001b[0m\u001b[0;34m(\u001b[0m\u001b[0;34m\"Quel est ton age: \"\u001b[0m\u001b[0;34m)\u001b[0m\u001b[0;34m)\u001b[0m\u001b[0;34m\u001b[0m\u001b[0;34m\u001b[0m\u001b[0m\n\u001b[0m",
            "\u001b[0;31mValueError\u001b[0m: invalid literal for int() with base 10: 'jejekf'"
          ]
        }
      ]
    },
    {
      "cell_type": "code",
      "metadata": {
        "colab": {
          "base_uri": "https://localhost:8080/"
        },
        "id": "GF2PxNKMJsse",
        "outputId": "f006939f-db62-4ecf-cce1-a6145cc9c15f"
      },
      "source": [
        "age = int(input(\"Quel est ton age: \"))"
      ],
      "execution_count": null,
      "outputs": [
        {
          "output_type": "stream",
          "text": [
            "Quel est ton age: 12\n"
          ],
          "name": "stdout"
        }
      ]
    },
    {
      "cell_type": "code",
      "metadata": {
        "colab": {
          "base_uri": "https://localhost:8080/"
        },
        "id": "23GXk-3zJsse",
        "outputId": "c79919de-4c3f-4f75-ecce-9b760b7b4fc4"
      },
      "source": [
        "age"
      ],
      "execution_count": null,
      "outputs": [
        {
          "output_type": "execute_result",
          "data": {
            "text/plain": [
              "12"
            ]
          },
          "metadata": {
            "tags": []
          },
          "execution_count": 81
        }
      ]
    },
    {
      "cell_type": "code",
      "metadata": {
        "id": "FiIrNY57aPyr"
      },
      "source": [
        ""
      ],
      "execution_count": null,
      "outputs": []
    },
    {
      "cell_type": "code",
      "metadata": {
        "id": "uYp5n2OSaPke"
      },
      "source": [
        "username = input(\"Quel est ton nom d'utilisateur: \")\n",
        "password = input(\"Quel est ton mot de passe: \")\n",
        "second_password = \"\"\n",
        "print(\"Bonjour \",username, \" Votre mot de passe n'est pas sécurisé pour le moment. Je peux le lire, c'est : \", password)"
      ],
      "execution_count": null,
      "outputs": []
    },
    {
      "cell_type": "code",
      "metadata": {
        "id": "S3hLoSHZa3SC"
      },
      "source": [
        ""
      ],
      "execution_count": null,
      "outputs": []
    },
    {
      "cell_type": "code",
      "metadata": {
        "id": "vf3Id-Y_a3CD"
      },
      "source": [
        ""
      ],
      "execution_count": null,
      "outputs": []
    },
    {
      "cell_type": "code",
      "metadata": {
        "id": "mmY-a6YXa2vC"
      },
      "source": [
        ""
      ],
      "execution_count": null,
      "outputs": []
    },
    {
      "cell_type": "code",
      "metadata": {
        "id": "k6JWyTBKab5M"
      },
      "source": [
        ""
      ],
      "execution_count": null,
      "outputs": []
    },
    {
      "cell_type": "code",
      "metadata": {
        "id": "ZoRQUMsWabmv"
      },
      "source": [
        ""
      ],
      "execution_count": null,
      "outputs": []
    },
    {
      "cell_type": "code",
      "metadata": {
        "id": "xZYzrcN1Jsse"
      },
      "source": [
        ""
      ],
      "execution_count": null,
      "outputs": []
    },
    {
      "cell_type": "markdown",
      "metadata": {
        "id": "CdbAQKACJsse"
      },
      "source": [
        "# Mon programme prend des décisions"
      ]
    },
    {
      "cell_type": "markdown",
      "metadata": {
        "id": "UrWUep6IJssf"
      },
      "source": [
        "## Conditions"
      ]
    },
    {
      "cell_type": "code",
      "metadata": {
        "colab": {
          "base_uri": "https://localhost:8080/"
        },
        "id": "dDr_QuLwYd89",
        "outputId": "da0bf6d8-b4c5-4ed1-8ea6-1f7ac14e971e"
      },
      "source": [
        "True, False"
      ],
      "execution_count": null,
      "outputs": [
        {
          "output_type": "execute_result",
          "data": {
            "text/plain": [
              "(True, False)"
            ]
          },
          "metadata": {
            "tags": []
          },
          "execution_count": 4
        }
      ]
    },
    {
      "cell_type": "code",
      "metadata": {
        "id": "eHwYIM5rYduX"
      },
      "source": [
        "courses = [\"bananes\", \"raisin\"]\n",
        "courses_kevin = [\"bananes\"]"
      ],
      "execution_count": null,
      "outputs": []
    },
    {
      "cell_type": "code",
      "metadata": {
        "colab": {
          "base_uri": "https://localhost:8080/"
        },
        "id": "ckYeW1vcYded",
        "outputId": "fdc477bb-ee81-4b84-ab0e-3249a7f754fe"
      },
      "source": [
        "courses == courses_kevin"
      ],
      "execution_count": null,
      "outputs": [
        {
          "output_type": "execute_result",
          "data": {
            "text/plain": [
              "False"
            ]
          },
          "metadata": {
            "tags": []
          },
          "execution_count": 6
        }
      ]
    },
    {
      "cell_type": "code",
      "metadata": {
        "colab": {
          "base_uri": "https://localhost:8080/"
        },
        "id": "95jwq5ljYdRX",
        "outputId": "8066ad35-321f-4f23-a35c-b00bfabc0165"
      },
      "source": [
        "courses != courses_kevin"
      ],
      "execution_count": null,
      "outputs": [
        {
          "output_type": "execute_result",
          "data": {
            "text/plain": [
              "True"
            ]
          },
          "metadata": {
            "tags": []
          },
          "execution_count": 7
        }
      ]
    },
    {
      "cell_type": "code",
      "metadata": {
        "colab": {
          "base_uri": "https://localhost:8080/"
        },
        "id": "z4CyUEJ0YdCL",
        "outputId": "7b7e8de1-e2d1-4622-98dc-7bd45281fda5"
      },
      "source": [
        "5 == 5"
      ],
      "execution_count": null,
      "outputs": [
        {
          "output_type": "execute_result",
          "data": {
            "text/plain": [
              "True"
            ]
          },
          "metadata": {
            "tags": []
          },
          "execution_count": 8
        }
      ]
    },
    {
      "cell_type": "code",
      "metadata": {
        "colab": {
          "base_uri": "https://localhost:8080/"
        },
        "id": "F91QbJgAZFb1",
        "outputId": "a4e4886c-ee2b-4f9b-9e4e-15aaf1009647"
      },
      "source": [
        "\"Kevin\" == \"kevin\""
      ],
      "execution_count": null,
      "outputs": [
        {
          "output_type": "execute_result",
          "data": {
            "text/plain": [
              "False"
            ]
          },
          "metadata": {
            "tags": []
          },
          "execution_count": 10
        }
      ]
    },
    {
      "cell_type": "code",
      "metadata": {
        "colab": {
          "base_uri": "https://localhost:8080/"
        },
        "id": "XqLKL6fnZFVT",
        "outputId": "7dcf004b-e919-413c-d111-76865513fbac"
      },
      "source": [
        " 3 < 5"
      ],
      "execution_count": null,
      "outputs": [
        {
          "output_type": "execute_result",
          "data": {
            "text/plain": [
              "True"
            ]
          },
          "metadata": {
            "tags": []
          },
          "execution_count": 11
        }
      ]
    },
    {
      "cell_type": "code",
      "metadata": {
        "colab": {
          "base_uri": "https://localhost:8080/"
        },
        "id": "nzc5_WDYZFMX",
        "outputId": "2cfd6bd5-6374-4027-d0ff-0a6d342907b0"
      },
      "source": [
        "5 > 9"
      ],
      "execution_count": null,
      "outputs": [
        {
          "output_type": "execute_result",
          "data": {
            "text/plain": [
              "False"
            ]
          },
          "metadata": {
            "tags": []
          },
          "execution_count": 12
        }
      ]
    },
    {
      "cell_type": "code",
      "metadata": {
        "colab": {
          "base_uri": "https://localhost:8080/"
        },
        "id": "RS3WhTR1ZE_F",
        "outputId": "d2f70f09-2aa7-4f2c-f0bf-6e37c1c91edb"
      },
      "source": [
        "3 <= 5"
      ],
      "execution_count": null,
      "outputs": [
        {
          "output_type": "execute_result",
          "data": {
            "text/plain": [
              "True"
            ]
          },
          "metadata": {
            "tags": []
          },
          "execution_count": 13
        }
      ]
    },
    {
      "cell_type": "code",
      "metadata": {
        "colab": {
          "base_uri": "https://localhost:8080/"
        },
        "id": "5I19MBJQYcw2",
        "outputId": "a2fb1948-f3a0-47b7-a1c2-d8641c514443"
      },
      "source": [
        "5 >= 5"
      ],
      "execution_count": null,
      "outputs": [
        {
          "output_type": "execute_result",
          "data": {
            "text/plain": [
              "True"
            ]
          },
          "metadata": {
            "tags": []
          },
          "execution_count": 14
        }
      ]
    },
    {
      "cell_type": "code",
      "metadata": {
        "colab": {
          "base_uri": "https://localhost:8080/"
        },
        "id": "uzTg19uyZzbe",
        "outputId": "45b3e334-7fc4-49ca-b868-923273b13feb"
      },
      "source": [
        " (3 > 5) and (2 < 3)"
      ],
      "execution_count": null,
      "outputs": [
        {
          "output_type": "execute_result",
          "data": {
            "text/plain": [
              "False"
            ]
          },
          "metadata": {
            "tags": []
          },
          "execution_count": 15
        }
      ]
    },
    {
      "cell_type": "code",
      "metadata": {
        "colab": {
          "base_uri": "https://localhost:8080/"
        },
        "id": "VDzooFzYZzOW",
        "outputId": "26aec795-3837-4ffc-a822-4c93916e7149"
      },
      "source": [
        "(\"kevin\" == \"kevin\") and (5 > 2)"
      ],
      "execution_count": null,
      "outputs": [
        {
          "output_type": "execute_result",
          "data": {
            "text/plain": [
              "True"
            ]
          },
          "metadata": {
            "tags": []
          },
          "execution_count": 16
        }
      ]
    },
    {
      "cell_type": "code",
      "metadata": {
        "colab": {
          "base_uri": "https://localhost:8080/"
        },
        "id": "9mqDxd_7ZzAX",
        "outputId": "0df1bbaf-b91f-4ca3-d2a7-11a8fa0d0d10"
      },
      "source": [
        "5 > 3 or 2 > 20"
      ],
      "execution_count": null,
      "outputs": [
        {
          "output_type": "execute_result",
          "data": {
            "text/plain": [
              "True"
            ]
          },
          "metadata": {
            "tags": []
          },
          "execution_count": 17
        }
      ]
    },
    {
      "cell_type": "code",
      "metadata": {
        "id": "j7v5pQa6Zywt"
      },
      "source": [
        ""
      ],
      "execution_count": null,
      "outputs": []
    },
    {
      "cell_type": "code",
      "metadata": {
        "id": "qGCIQ3AHZyfn"
      },
      "source": [
        ""
      ],
      "execution_count": null,
      "outputs": []
    },
    {
      "cell_type": "code",
      "metadata": {
        "id": "WTqBaRuMZyUO"
      },
      "source": [
        ""
      ],
      "execution_count": null,
      "outputs": []
    },
    {
      "cell_type": "code",
      "metadata": {
        "id": "iEMgLs4jZyIG"
      },
      "source": [
        ""
      ],
      "execution_count": null,
      "outputs": []
    },
    {
      "cell_type": "code",
      "metadata": {
        "id": "WmmfCRNMZx7j"
      },
      "source": [
        ""
      ],
      "execution_count": null,
      "outputs": []
    },
    {
      "cell_type": "code",
      "metadata": {
        "id": "QEIcyB9DYcef"
      },
      "source": [
        ""
      ],
      "execution_count": null,
      "outputs": []
    },
    {
      "cell_type": "code",
      "metadata": {
        "id": "nuKBnJy0Jssf"
      },
      "source": [
        ""
      ],
      "execution_count": null,
      "outputs": []
    },
    {
      "cell_type": "markdown",
      "metadata": {
        "id": "rNFgqOt5Jssf"
      },
      "source": [
        "## Si ..."
      ]
    },
    {
      "cell_type": "code",
      "metadata": {
        "colab": {
          "base_uri": "https://localhost:8080/"
        },
        "id": "9geHnLegaoKT",
        "outputId": "70889dc4-11d1-455d-9492-0b7469593b1c"
      },
      "source": [
        "note = int(input(\" Quel est ta note : \"))\n",
        "if note > 12:\n",
        "  print(\"Vous êtes admis\")\n",
        "elif note < 0:\n",
        "  print('Votre note ne peut pas être inférieur à 0')\n",
        "else:\n",
        "  print(\"Vous avez échoué\")"
      ],
      "execution_count": null,
      "outputs": [
        {
          "output_type": "stream",
          "text": [
            " Quel est ta note : -15\n",
            "Votre note ne peut pas être inférieur à 0\n"
          ],
          "name": "stdout"
        }
      ]
    },
    {
      "cell_type": "code",
      "metadata": {
        "id": "xxREdLKran6H"
      },
      "source": [
        "#else if = elif"
      ],
      "execution_count": null,
      "outputs": []
    },
    {
      "cell_type": "code",
      "metadata": {
        "id": "KxcUKoiPanpP"
      },
      "source": [
        "l = [4]"
      ],
      "execution_count": null,
      "outputs": []
    },
    {
      "cell_type": "code",
      "metadata": {
        "colab": {
          "base_uri": "https://localhost:8080/"
        },
        "id": "Rgp0xswvb-9b",
        "outputId": "2433e09c-6478-47ce-8bfc-c5ac49f8e135"
      },
      "source": [
        "bool(l)"
      ],
      "execution_count": null,
      "outputs": [
        {
          "output_type": "execute_result",
          "data": {
            "text/plain": [
              "True"
            ]
          },
          "metadata": {
            "tags": []
          },
          "execution_count": 25
        }
      ]
    },
    {
      "cell_type": "code",
      "metadata": {
        "id": "IuQ1QvAPanVS"
      },
      "source": [
        "if True:\n",
        "  print(\"l n'est pas vide\")"
      ],
      "execution_count": null,
      "outputs": []
    },
    {
      "cell_type": "code",
      "metadata": {
        "id": "DtGCThCBJssf",
        "colab": {
          "base_uri": "https://localhost:8080/",
          "height": 128
        },
        "outputId": "4b5ae7cd-9135-483c-9440-72db24d4b25f"
      },
      "source": [
        "if 5 > 2\n",
        "  print(\"hjbbhh\")"
      ],
      "execution_count": null,
      "outputs": [
        {
          "output_type": "error",
          "ename": "SyntaxError",
          "evalue": "ignored",
          "traceback": [
            "\u001b[0;36m  File \u001b[0;32m\"<ipython-input-26-01eec6326465>\"\u001b[0;36m, line \u001b[0;32m1\u001b[0m\n\u001b[0;31m    if 5 > 2\u001b[0m\n\u001b[0m            ^\u001b[0m\n\u001b[0;31mSyntaxError\u001b[0m\u001b[0;31m:\u001b[0m invalid syntax\n"
          ]
        }
      ]
    },
    {
      "cell_type": "code",
      "metadata": {
        "id": "hO-OM8irJssf",
        "colab": {
          "base_uri": "https://localhost:8080/"
        },
        "outputId": "b46ae6d7-482e-436e-ac3f-0bfd6f0dbd88"
      },
      "source": [
        "if 5 > 2:\n",
        "  print(\"hjbbhh\")"
      ],
      "execution_count": null,
      "outputs": [
        {
          "output_type": "stream",
          "text": [
            "hjbbhh\n"
          ],
          "name": "stdout"
        }
      ]
    },
    {
      "cell_type": "markdown",
      "metadata": {
        "id": "gyxByX0fJssg"
      },
      "source": [
        "## Répeter un comportement"
      ]
    },
    {
      "cell_type": "code",
      "metadata": {
        "id": "SkaHrcjGcfnk"
      },
      "source": [
        "liste_prenoms = [\"radji\", 'rock', 'ray']"
      ],
      "execution_count": null,
      "outputs": []
    },
    {
      "cell_type": "code",
      "metadata": {
        "colab": {
          "base_uri": "https://localhost:8080/",
          "height": 35
        },
        "id": "xCr6gph_cfXU",
        "outputId": "043191c9-8b9b-4883-8ad6-1a05a7bbe7b9"
      },
      "source": [
        "'radji'.capitalize()"
      ],
      "execution_count": null,
      "outputs": [
        {
          "output_type": "execute_result",
          "data": {
            "application/vnd.google.colaboratory.intrinsic+json": {
              "type": "string"
            },
            "text/plain": [
              "'Radji'"
            ]
          },
          "metadata": {
            "tags": []
          },
          "execution_count": 29
        }
      ]
    },
    {
      "cell_type": "code",
      "metadata": {
        "id": "HPQpwm22cfF1"
      },
      "source": [
        "liste_prenoms[0] = prenoms[0].capitalize()"
      ],
      "execution_count": null,
      "outputs": []
    },
    {
      "cell_type": "code",
      "metadata": {
        "id": "MFmvRDtnc4Jq"
      },
      "source": [
        "pour chaque prenom dans la liste prenoms:\n",
        "    capitalise le prenom"
      ],
      "execution_count": null,
      "outputs": []
    },
    {
      "cell_type": "code",
      "metadata": {
        "colab": {
          "base_uri": "https://localhost:8080/"
        },
        "id": "260VNC6tdBFO",
        "outputId": "461234f6-f8c9-4058-9427-00746a911e56"
      },
      "source": [
        "for prenom in liste_prenoms:\n",
        "  cap = prenom.capitalize()\n",
        "  print(cap)"
      ],
      "execution_count": null,
      "outputs": [
        {
          "output_type": "stream",
          "text": [
            "Radji\n",
            "Rock\n",
            "Ray\n"
          ],
          "name": "stdout"
        }
      ]
    },
    {
      "cell_type": "code",
      "metadata": {
        "colab": {
          "base_uri": "https://localhost:8080/"
        },
        "id": "_1RM5UYsc37N",
        "outputId": "0e74cf9a-fdab-40eb-e84a-4d07b4c67bdc"
      },
      "source": [
        "prenom_cap = []\n",
        "for prenom in liste_prenoms:\n",
        "  cap = prenom.capitalize()\n",
        "  prenom_cap.append(cap)\n",
        "print(prenom_cap)"
      ],
      "execution_count": null,
      "outputs": [
        {
          "output_type": "stream",
          "text": [
            "['Radji', 'Rock', 'Ray']\n"
          ],
          "name": "stdout"
        }
      ]
    },
    {
      "cell_type": "code",
      "metadata": {
        "id": "GBS4_6k-c3aY"
      },
      "source": [
        "nombres = [2, 4 ,6,8]"
      ],
      "execution_count": null,
      "outputs": []
    },
    {
      "cell_type": "code",
      "metadata": {
        "colab": {
          "base_uri": "https://localhost:8080/"
        },
        "id": "0bb3Oi2Qcew8",
        "outputId": "ad202907-8133-4a24-a41f-19fd7bb43078"
      },
      "source": [
        "for n in nombres:\n",
        "  suivant = n + 1\n",
        "  print(suivant)"
      ],
      "execution_count": null,
      "outputs": [
        {
          "output_type": "stream",
          "text": [
            "3\n",
            "5\n",
            "7\n",
            "9\n"
          ],
          "name": "stdout"
        }
      ]
    },
    {
      "cell_type": "code",
      "metadata": {
        "id": "UK0ae8e4Jssg",
        "colab": {
          "base_uri": "https://localhost:8080/"
        },
        "outputId": "ebeb12f1-7491-47ee-8819-db85259afd30"
      },
      "source": [
        "nombres_plus_un = []\n",
        "for n in nombres:\n",
        "  suivant = n + 1\n",
        "  nombres_plus_un.append(suivant)\n",
        "  print(suivant)"
      ],
      "execution_count": null,
      "outputs": [
        {
          "output_type": "stream",
          "text": [
            "3\n",
            "5\n",
            "7\n",
            "9\n"
          ],
          "name": "stdout"
        }
      ]
    },
    {
      "cell_type": "code",
      "metadata": {
        "colab": {
          "base_uri": "https://localhost:8080/"
        },
        "id": "ThEaBgjpexfT",
        "outputId": "a2dc0a3a-b0fd-4cde-c881-559101497d30"
      },
      "source": [
        "print(nombres_plus_un)"
      ],
      "execution_count": null,
      "outputs": [
        {
          "output_type": "stream",
          "text": [
            "[3, 5, 7, 9]\n"
          ],
          "name": "stdout"
        }
      ]
    },
    {
      "cell_type": "code",
      "metadata": {
        "colab": {
          "base_uri": "https://localhost:8080/"
        },
        "id": "qac00SjKe3Bs",
        "outputId": "594efc5d-61c8-460f-c2e9-74b383eea6e2"
      },
      "source": [
        "salaires = [5, 4, 2, 8, 9, 1]\n",
        "richesse = 0\n",
        "for cheque in salaires:\n",
        "  richesse = richesse + cheque\n",
        "print(richesse)"
      ],
      "execution_count": null,
      "outputs": [
        {
          "output_type": "stream",
          "text": [
            "29\n"
          ],
          "name": "stdout"
        }
      ]
    },
    {
      "cell_type": "code",
      "metadata": {
        "colab": {
          "base_uri": "https://localhost:8080/"
        },
        "id": "-EJnGNG1fkuj",
        "outputId": "e1506ef7-1168-4d79-8eb7-0524e86836fd"
      },
      "source": [
        "salaires = [5, 4, 2, 8, 9, 1]\n",
        "richesse = 0\n",
        "for cheque in salaires[0:2]:\n",
        "  richesse += cheque\n",
        "print(richesse)"
      ],
      "execution_count": null,
      "outputs": [
        {
          "output_type": "stream",
          "text": [
            "9\n"
          ],
          "name": "stdout"
        }
      ]
    },
    {
      "cell_type": "code",
      "metadata": {
        "colab": {
          "base_uri": "https://localhost:8080/"
        },
        "id": "2_nL4fr7fka-",
        "outputId": "ec3f7158-b063-46df-e512-fcde6a76abcc"
      },
      "source": [
        "prenom = \"Ali\"\n",
        "for lettre in prenom:\n",
        "  print(lettre)"
      ],
      "execution_count": null,
      "outputs": [
        {
          "output_type": "stream",
          "text": [
            "A\n",
            "l\n",
            "i\n"
          ],
          "name": "stdout"
        }
      ]
    },
    {
      "cell_type": "code",
      "metadata": {
        "colab": {
          "base_uri": "https://localhost:8080/"
        },
        "id": "iXozmbABe2rk",
        "outputId": "2a64eef3-f620-46b1-9dfe-e95b00929979"
      },
      "source": [
        "annuaire = {\"kevin\": \"06545885852\",\n",
        "            \"radji\": \"06466548454\"}\n",
        "for personne in annuaire:\n",
        "  print(personne)"
      ],
      "execution_count": null,
      "outputs": [
        {
          "output_type": "stream",
          "text": [
            "kevin\n",
            "radji\n"
          ],
          "name": "stdout"
        }
      ]
    },
    {
      "cell_type": "code",
      "metadata": {
        "colab": {
          "base_uri": "https://localhost:8080/"
        },
        "id": "5eSGno3Kh9yb",
        "outputId": "a367a8ff-6b21-4a49-be75-11f74ccb7ed2"
      },
      "source": [
        "annuaire = {\"rock\": \"06545885852\",\n",
        "            \"radji\": \"06466548454\"}\n",
        "for element in annuaire:\n",
        "  print(element)"
      ],
      "execution_count": null,
      "outputs": [
        {
          "output_type": "stream",
          "text": [
            "rock\n",
            "radji\n"
          ],
          "name": "stdout"
        }
      ]
    },
    {
      "cell_type": "code",
      "metadata": {
        "colab": {
          "base_uri": "https://localhost:8080/"
        },
        "id": "n8EhMobPe18H",
        "outputId": "360efbba-4b14-46a9-fe85-44ba7fd17ec7"
      },
      "source": [
        "annuaire = {\"kevin\": \"06545885852\", \"radji\": \"06466548454\"}\n",
        "for numero in annuaire.values():\n",
        "  print(numero)"
      ],
      "execution_count": null,
      "outputs": [
        {
          "output_type": "stream",
          "text": [
            "06545885852\n",
            "06466548454\n"
          ],
          "name": "stdout"
        }
      ]
    },
    {
      "cell_type": "code",
      "metadata": {
        "colab": {
          "base_uri": "https://localhost:8080/"
        },
        "id": "HQUfHkM2hTkK",
        "outputId": "39898f43-e6a3-4563-9c25-790be16ac4e6"
      },
      "source": [
        "annuaire.items()"
      ],
      "execution_count": null,
      "outputs": [
        {
          "output_type": "execute_result",
          "data": {
            "text/plain": [
              "dict_items([('kevin', '06545885852'), ('radji', '06466548454')])"
            ]
          },
          "metadata": {
            "tags": []
          },
          "execution_count": 45
        }
      ]
    },
    {
      "cell_type": "code",
      "metadata": {
        "colab": {
          "base_uri": "https://localhost:8080/"
        },
        "id": "joXORTZLhTYW",
        "outputId": "c74b9077-a467-422a-de04-996e3ac870cd"
      },
      "source": [
        "for nom, numero in annuaire.items():\n",
        "  print(f'{nom}, Voici votre numero: {numero}')"
      ],
      "execution_count": null,
      "outputs": [
        {
          "output_type": "stream",
          "text": [
            "kevin, Voici votre numero: 06545885852\n",
            "radji, Voici votre numero: 06466548454\n"
          ],
          "name": "stdout"
        }
      ]
    },
    {
      "cell_type": "code",
      "metadata": {
        "id": "WebskRT1hTNV"
      },
      "source": [
        ""
      ],
      "execution_count": null,
      "outputs": []
    },
    {
      "cell_type": "code",
      "metadata": {
        "id": "_rPFqWn9hTAV"
      },
      "source": [
        ""
      ],
      "execution_count": null,
      "outputs": []
    },
    {
      "cell_type": "code",
      "metadata": {
        "id": "0r1BEHH1hSyG"
      },
      "source": [
        "a = {1: \"deux\", 2:\"deux\"}"
      ],
      "execution_count": null,
      "outputs": []
    },
    {
      "cell_type": "code",
      "metadata": {
        "id": "iLqKmAMrhShN"
      },
      "source": [
        "a[1] = \"un\""
      ],
      "execution_count": null,
      "outputs": []
    },
    {
      "cell_type": "code",
      "metadata": {
        "colab": {
          "base_uri": "https://localhost:8080/"
        },
        "id": "IX-pVVzShSLO",
        "outputId": "f6869bfb-0915-40a8-ff50-a284379e1c40"
      },
      "source": [
        "a"
      ],
      "execution_count": null,
      "outputs": [
        {
          "output_type": "execute_result",
          "data": {
            "text/plain": [
              "{1: 'un', 2: 'deux'}"
            ]
          },
          "metadata": {
            "tags": []
          },
          "execution_count": 55
        }
      ]
    },
    {
      "cell_type": "code",
      "metadata": {
        "colab": {
          "base_uri": "https://localhost:8080/"
        },
        "id": "4emLNNNWjDaM",
        "outputId": "d3b33b93-7443-489f-fb38-56eefd84d049"
      },
      "source": [
        "2+3"
      ],
      "execution_count": null,
      "outputs": [
        {
          "output_type": "execute_result",
          "data": {
            "text/plain": [
              "5"
            ]
          },
          "metadata": {
            "tags": []
          },
          "execution_count": 56
        }
      ]
    },
    {
      "cell_type": "code",
      "metadata": {
        "colab": {
          "base_uri": "https://localhost:8080/",
          "height": 35
        },
        "id": "GUg28kkVjGtG",
        "outputId": "1ee45d9f-83d7-46b7-8fc4-a8ed45a1350f"
      },
      "source": [
        "\"bon\" + \"jour\""
      ],
      "execution_count": null,
      "outputs": [
        {
          "output_type": "execute_result",
          "data": {
            "application/vnd.google.colaboratory.intrinsic+json": {
              "type": "string"
            },
            "text/plain": [
              "'bonjour'"
            ]
          },
          "metadata": {
            "tags": []
          },
          "execution_count": 57
        }
      ]
    },
    {
      "cell_type": "code",
      "metadata": {
        "colab": {
          "base_uri": "https://localhost:8080/"
        },
        "id": "O_KAYpXZi68k",
        "outputId": "4f14c7f4-68f8-4600-d10c-39f714fe3042"
      },
      "source": [
        "for nom, numero in annuaire.items(): # [('kevin', '06545885852'), ('radji', '06466548454')]\n",
        "  annuaire[nom] = \"55\" + numero\n",
        "  print(f'{nom}, Voici votre numero: {annuaire[nom]}')"
      ],
      "execution_count": null,
      "outputs": [
        {
          "output_type": "stream",
          "text": [
            "kevin, Voici votre numero: 555506545885852\n",
            "radji, Voici votre numero: 555506466548454\n"
          ],
          "name": "stdout"
        }
      ]
    },
    {
      "cell_type": "code",
      "metadata": {
        "colab": {
          "base_uri": "https://localhost:8080/"
        },
        "id": "SIbpSkHki6qj",
        "outputId": "53d5e375-1bf7-4990-bfc6-6f724990e72d"
      },
      "source": [
        "annuaire"
      ],
      "execution_count": null,
      "outputs": [
        {
          "output_type": "execute_result",
          "data": {
            "text/plain": [
              "{'kevin': '5506545885852', 'radji': '5506466548454'}"
            ]
          },
          "metadata": {
            "tags": []
          },
          "execution_count": 59
        }
      ]
    },
    {
      "cell_type": "code",
      "metadata": {
        "id": "4NlrguC8i6Pj"
      },
      "source": [
        ""
      ],
      "execution_count": null,
      "outputs": []
    },
    {
      "cell_type": "code",
      "metadata": {
        "id": "_cVClOuMi59a"
      },
      "source": [
        ""
      ],
      "execution_count": null,
      "outputs": []
    },
    {
      "cell_type": "code",
      "metadata": {
        "id": "qEIjcEZJJssg"
      },
      "source": [
        ""
      ],
      "execution_count": null,
      "outputs": []
    },
    {
      "cell_type": "markdown",
      "metadata": {
        "id": "ZDQdM4YaJssg"
      },
      "source": [
        "## Tant que "
      ]
    },
    {
      "cell_type": "code",
      "metadata": {
        "id": "loaJhB9To_Fi"
      },
      "source": [
        "students = ['kevin', 'moise', 'paul', 'radji', 'rock', 'ray']"
      ],
      "execution_count": 5,
      "outputs": []
    },
    {
      "cell_type": "code",
      "metadata": {
        "id": "JADR3MfmpGjy"
      },
      "source": [
        "# Verifie si paul est l'un des étudiants"
      ],
      "execution_count": 6,
      "outputs": []
    },
    {
      "cell_type": "code",
      "metadata": {
        "id": "pzAqcU9-pOAJ",
        "outputId": "791a727d-7078-4712-8074-c45ee2f5b091",
        "colab": {
          "base_uri": "https://localhost:8080/"
        }
      },
      "source": [
        "for nom in students:\n",
        "  if nom == 'paul':\n",
        "    print(\"trouvé\")\n",
        "    break\n",
        "  else:\n",
        "    print(\"recherche en cours\")\n",
        "  \n",
        "  "
      ],
      "execution_count": 7,
      "outputs": [
        {
          "output_type": "stream",
          "text": [
            "recherche en cours\n",
            "recherche en cours\n",
            "trouvé\n"
          ],
          "name": "stdout"
        }
      ]
    },
    {
      "cell_type": "code",
      "metadata": {
        "id": "f0CBYHKWpNqZ",
        "outputId": "c8b3984c-ed94-4201-b16d-596cad9e462a",
        "colab": {
          "base_uri": "https://localhost:8080/"
        }
      },
      "source": [
        "\"paul\" in students"
      ],
      "execution_count": 8,
      "outputs": [
        {
          "output_type": "execute_result",
          "data": {
            "text/plain": [
              "True"
            ]
          },
          "metadata": {
            "tags": []
          },
          "execution_count": 8
        }
      ]
    },
    {
      "cell_type": "code",
      "metadata": {
        "id": "m8cnpHhGpNch",
        "outputId": "71ec3434-3214-4421-a995-73eb45686653",
        "colab": {
          "base_uri": "https://localhost:8080/"
        }
      },
      "source": [
        "\"pierre\" in students"
      ],
      "execution_count": 9,
      "outputs": [
        {
          "output_type": "execute_result",
          "data": {
            "text/plain": [
              "False"
            ]
          },
          "metadata": {
            "tags": []
          },
          "execution_count": 9
        }
      ]
    },
    {
      "cell_type": "code",
      "metadata": {
        "id": "6pGdoYeApNMJ",
        "outputId": "fee0ed6d-8fa5-4be6-f74a-337b82b30bc0",
        "colab": {
          "base_uri": "https://localhost:8080/"
        }
      },
      "source": [
        "for i, nom in enumerate(students):\n",
        "  print(i)\n",
        "  print(nom)\n",
        "  if nom == 'paul':\n",
        "    del students[i]\n",
        "    students.remove('paul')"
      ],
      "execution_count": 10,
      "outputs": [
        {
          "output_type": "stream",
          "text": [
            "0\n",
            "kevin\n",
            "1\n",
            "moise\n",
            "2\n",
            "paul\n",
            "3\n",
            "radji\n",
            "4\n",
            "rock\n",
            "5\n",
            "ray\n"
          ],
          "name": "stdout"
        }
      ]
    },
    {
      "cell_type": "code",
      "metadata": {
        "id": "RsQaivD3q-c5"
      },
      "source": [
        ""
      ],
      "execution_count": null,
      "outputs": []
    },
    {
      "cell_type": "code",
      "metadata": {
        "id": "DDxZs_qSJssg",
        "outputId": "d178840f-d78a-42b7-e577-23e885b78105",
        "colab": {
          "base_uri": "https://localhost:8080/"
        }
      },
      "source": [
        "compteur = 0\n",
        "for nombre in range(5, 21):\n",
        "  print(nombre)\n",
        "  compteur += 2 # compteur = compteur + 2\n",
        "\n",
        "  if compteur == 6:\n",
        "    continue\n",
        "  print(\"parcours ........\")"
      ],
      "execution_count": 14,
      "outputs": [
        {
          "output_type": "stream",
          "text": [
            "5\n",
            "parcours ........\n",
            "6\n",
            "parcours ........\n",
            "7\n",
            "8\n",
            "parcours ........\n",
            "9\n",
            "parcours ........\n",
            "10\n",
            "parcours ........\n",
            "11\n",
            "parcours ........\n",
            "12\n",
            "parcours ........\n",
            "13\n",
            "parcours ........\n",
            "14\n",
            "parcours ........\n",
            "15\n",
            "parcours ........\n",
            "16\n",
            "parcours ........\n",
            "17\n",
            "parcours ........\n",
            "18\n",
            "parcours ........\n",
            "19\n",
            "parcours ........\n",
            "20\n",
            "parcours ........\n"
          ],
          "name": "stdout"
        }
      ]
    },
    {
      "cell_type": "code",
      "metadata": {
        "id": "xdZoTJ2dJssg"
      },
      "source": [
        ""
      ],
      "execution_count": null,
      "outputs": []
    },
    {
      "cell_type": "code",
      "metadata": {
        "id": "24dKazLItCBI",
        "outputId": "985bdeb5-93e7-4015-d7ea-7b153d959678",
        "colab": {
          "base_uri": "https://localhost:8080/"
        }
      },
      "source": [
        "note = int(input(\"Donne ta note : \"))"
      ],
      "execution_count": 17,
      "outputs": [
        {
          "output_type": "stream",
          "text": [
            "Donne ta note : 58\n"
          ],
          "name": "stdout"
        }
      ]
    },
    {
      "cell_type": "code",
      "metadata": {
        "id": "TYZH8NR6tB1N",
        "outputId": "275dfac4-1dc4-4dfd-b107-dc52984b5e10",
        "colab": {
          "base_uri": "https://localhost:8080/"
        }
      },
      "source": [
        "note"
      ],
      "execution_count": 18,
      "outputs": [
        {
          "output_type": "execute_result",
          "data": {
            "text/plain": [
              "58"
            ]
          },
          "metadata": {
            "tags": []
          },
          "execution_count": 18
        }
      ]
    },
    {
      "cell_type": "code",
      "metadata": {
        "id": "xcHZEysYtBn6"
      },
      "source": [
        "note = -1\n",
        "*Tant que ta note n'est pas entre 0 et 20:\n",
        "   donne ta note"
      ],
      "execution_count": null,
      "outputs": []
    },
    {
      "cell_type": "code",
      "metadata": {
        "id": "S19dQx5CtmHI",
        "outputId": "de108243-42ee-42c4-c169-fade9b392265",
        "colab": {
          "base_uri": "https://localhost:8080/"
        }
      },
      "source": [
        "note = -1\n",
        "while note < 0 or note > 20:\n",
        "  print(\"La note doit être entre 0 et 20\")\n",
        "  note = int(input(\"Donne ta note : \")) #23\n",
        "  "
      ],
      "execution_count": 20,
      "outputs": [
        {
          "output_type": "stream",
          "text": [
            "La note doit être entre 0 et 20\n",
            "Donne ta note : 52\n",
            "La note doit être entre 0 et 20\n",
            "Donne ta note : -8\n",
            "La note doit être entre 0 et 20\n",
            "Donne ta note : 20\n"
          ],
          "name": "stdout"
        }
      ]
    },
    {
      "cell_type": "code",
      "metadata": {
        "id": "oxcC9Lnquc_K",
        "outputId": "11ebaaf1-80b1-422a-e5f0-c39c07679965",
        "colab": {
          "base_uri": "https://localhost:8080/"
        }
      },
      "source": [
        "nombre_de_cas = 520\n",
        "while nombre_de_cas > 50:\n",
        "  print(\"Vous êtes confiné\")\n",
        "  nombre_de_cas -= 80\n",
        "  print(nombre_de_cas)"
      ],
      "execution_count": 22,
      "outputs": [
        {
          "output_type": "stream",
          "text": [
            "Vous êtes confiné\n",
            "440\n",
            "Vous êtes confiné\n",
            "360\n",
            "Vous êtes confiné\n",
            "280\n",
            "Vous êtes confiné\n",
            "200\n",
            "Vous êtes confiné\n",
            "120\n",
            "Vous êtes confiné\n",
            "40\n"
          ],
          "name": "stdout"
        }
      ]
    },
    {
      "cell_type": "code",
      "metadata": {
        "id": "swv2Km6oucsB"
      },
      "source": [
        ""
      ],
      "execution_count": null,
      "outputs": []
    },
    {
      "cell_type": "code",
      "metadata": {
        "id": "4q3qfv40tl74"
      },
      "source": [
        ""
      ],
      "execution_count": null,
      "outputs": []
    },
    {
      "cell_type": "code",
      "metadata": {
        "id": "gI7y0jeFtBXm"
      },
      "source": [
        ""
      ],
      "execution_count": null,
      "outputs": []
    },
    {
      "cell_type": "code",
      "metadata": {
        "id": "7VxEFiT2Jssh"
      },
      "source": [
        ""
      ],
      "execution_count": null,
      "outputs": []
    },
    {
      "cell_type": "markdown",
      "metadata": {
        "id": "DVTPmC8pJssh"
      },
      "source": [
        "# Les fonctions et Modules en Python"
      ]
    },
    {
      "cell_type": "code",
      "metadata": {
        "id": "iC4n65kIvKjM",
        "outputId": "95bda394-2bef-42b9-b90d-0c8429ab9bea",
        "colab": {
          "base_uri": "https://localhost:8080/"
        }
      },
      "source": [
        "type(nombre_de_cas)"
      ],
      "execution_count": 23,
      "outputs": [
        {
          "output_type": "execute_result",
          "data": {
            "text/plain": [
              "int"
            ]
          },
          "metadata": {
            "tags": []
          },
          "execution_count": 23
        }
      ]
    },
    {
      "cell_type": "code",
      "metadata": {
        "id": "ecga0oAMvKYH",
        "outputId": "50068be9-22bd-4a0e-e016-2da3c8037973",
        "colab": {
          "base_uri": "https://localhost:8080/"
        }
      },
      "source": [
        "print(\"FGHJFGTGYFHTGYJF\")"
      ],
      "execution_count": 24,
      "outputs": [
        {
          "output_type": "stream",
          "text": [
            "FGHJFGTGYFHTGYJF\n"
          ],
          "name": "stdout"
        }
      ]
    },
    {
      "cell_type": "code",
      "metadata": {
        "id": "2GGj2wytvKNQ",
        "outputId": "6025ce6a-36db-4c2a-bfa8-022607d98918",
        "colab": {
          "base_uri": "https://localhost:8080/"
        }
      },
      "source": [
        "list(range(2, 9))"
      ],
      "execution_count": 26,
      "outputs": [
        {
          "output_type": "execute_result",
          "data": {
            "text/plain": [
              "[2, 3, 4, 5, 6, 7, 8]"
            ]
          },
          "metadata": {
            "tags": []
          },
          "execution_count": 26
        }
      ]
    },
    {
      "cell_type": "code",
      "metadata": {
        "id": "XjlFKfy282wN",
        "outputId": "3545c860-1792-4172-8033-3e1d57c77d84",
        "colab": {
          "base_uri": "https://localhost:8080/"
        }
      },
      "source": [
        "list(range(5))"
      ],
      "execution_count": 90,
      "outputs": [
        {
          "output_type": "execute_result",
          "data": {
            "text/plain": [
              "[0, 1, 2, 3, 4]"
            ]
          },
          "metadata": {
            "tags": []
          },
          "execution_count": 90
        }
      ]
    },
    {
      "cell_type": "code",
      "metadata": {
        "id": "txMDgucQ8zl1",
        "outputId": "1905e541-dd3a-48c5-d722-7703e099988e",
        "colab": {
          "base_uri": "https://localhost:8080/"
        }
      },
      "source": [
        "list(range(2, 9, 2))"
      ],
      "execution_count": 89,
      "outputs": [
        {
          "output_type": "execute_result",
          "data": {
            "text/plain": [
              "[2, 4, 6, 8]"
            ]
          },
          "metadata": {
            "tags": []
          },
          "execution_count": 89
        }
      ]
    },
    {
      "cell_type": "code",
      "metadata": {
        "id": "2K_ahbWCvKCq"
      },
      "source": [
        "def est_pair(nombre):\n",
        "  if nombre % 2 == 0:\n",
        "    return True\n",
        "  else:\n",
        "    return False"
      ],
      "execution_count": 27,
      "outputs": []
    },
    {
      "cell_type": "code",
      "metadata": {
        "id": "O_2srKMsvJ3X",
        "outputId": "d8e7bd25-3044-4c1a-9b0b-d4019c47d1d8",
        "colab": {
          "base_uri": "https://localhost:8080/"
        }
      },
      "source": [
        "est_pair(5)"
      ],
      "execution_count": 28,
      "outputs": [
        {
          "output_type": "execute_result",
          "data": {
            "text/plain": [
              "False"
            ]
          },
          "metadata": {
            "tags": []
          },
          "execution_count": 28
        }
      ]
    },
    {
      "cell_type": "code",
      "metadata": {
        "id": "RJRi9Sm-vJpI"
      },
      "source": [
        "def salue(nom):\n",
        "  print(f\"Bonjour {nom}\")"
      ],
      "execution_count": 29,
      "outputs": []
    },
    {
      "cell_type": "code",
      "metadata": {
        "id": "ZCUHQmUaJssh",
        "outputId": "c14e2f8b-24cf-492e-a860-8a1733aed864",
        "colab": {
          "base_uri": "https://localhost:8080/"
        }
      },
      "source": [
        "salue(\"Rock\")"
      ],
      "execution_count": 30,
      "outputs": [
        {
          "output_type": "stream",
          "text": [
            "Bonjour Rock\n"
          ],
          "name": "stdout"
        }
      ]
    },
    {
      "cell_type": "code",
      "metadata": {
        "id": "kksFHXJ5Jssh",
        "outputId": "86174e3b-9480-4ec4-cbd7-80a9548e7a26",
        "colab": {
          "base_uri": "https://localhost:8080/"
        }
      },
      "source": [
        "salue(\"Paul\")"
      ],
      "execution_count": 31,
      "outputs": [
        {
          "output_type": "stream",
          "text": [
            "Bonjour Paul\n"
          ],
          "name": "stdout"
        }
      ]
    },
    {
      "cell_type": "code",
      "metadata": {
        "id": "A9keK0slwYhE",
        "outputId": "58fd1469-ce0b-451e-8c20-a0569ec2f9c8",
        "colab": {
          "base_uri": "https://localhost:8080/",
          "height": 162
        }
      },
      "source": [
        "salue()"
      ],
      "execution_count": 32,
      "outputs": [
        {
          "output_type": "error",
          "ename": "TypeError",
          "evalue": "ignored",
          "traceback": [
            "\u001b[0;31m---------------------------------------------------------------------------\u001b[0m",
            "\u001b[0;31mTypeError\u001b[0m                                 Traceback (most recent call last)",
            "\u001b[0;32m<ipython-input-32-59c9db071a6d>\u001b[0m in \u001b[0;36m<module>\u001b[0;34m()\u001b[0m\n\u001b[0;32m----> 1\u001b[0;31m \u001b[0msalue\u001b[0m\u001b[0;34m(\u001b[0m\u001b[0;34m)\u001b[0m\u001b[0;34m\u001b[0m\u001b[0;34m\u001b[0m\u001b[0m\n\u001b[0m",
            "\u001b[0;31mTypeError\u001b[0m: salue() missing 1 required positional argument: 'nom'"
          ]
        }
      ]
    },
    {
      "cell_type": "code",
      "metadata": {
        "id": "o3RHhQUWwfem"
      },
      "source": [
        "def salue(nom=\"utilisateur\"):\n",
        "  print(f\"Bonjour {nom}\")"
      ],
      "execution_count": 33,
      "outputs": []
    },
    {
      "cell_type": "code",
      "metadata": {
        "id": "oPUWJuqVwYTe",
        "outputId": "9cf7ae77-ddfb-465c-af04-9c276054ff0f",
        "colab": {
          "base_uri": "https://localhost:8080/"
        }
      },
      "source": [
        "salue('Radji')"
      ],
      "execution_count": 34,
      "outputs": [
        {
          "output_type": "stream",
          "text": [
            "Bonjour Radji\n"
          ],
          "name": "stdout"
        }
      ]
    },
    {
      "cell_type": "code",
      "metadata": {
        "id": "hmF1hzTiwYJ_",
        "outputId": "c86998b9-9100-4921-a5dd-140314ac7fdd",
        "colab": {
          "base_uri": "https://localhost:8080/"
        }
      },
      "source": [
        "salue()"
      ],
      "execution_count": 35,
      "outputs": [
        {
          "output_type": "stream",
          "text": [
            "Bonjour utilisateur\n"
          ],
          "name": "stdout"
        }
      ]
    },
    {
      "cell_type": "code",
      "metadata": {
        "id": "JJMX5_4VwX_i"
      },
      "source": [
        "message = \"Ce message est en dehors d'une fonction\"\n",
        "\n",
        "def affiche_message():\n",
        "  print(message)"
      ],
      "execution_count": 36,
      "outputs": []
    },
    {
      "cell_type": "code",
      "metadata": {
        "id": "MPYrIFDowXxX",
        "outputId": "eddf6f02-a9fb-4690-9a91-589d85c3f62e",
        "colab": {
          "base_uri": "https://localhost:8080/"
        }
      },
      "source": [
        "affiche_message()"
      ],
      "execution_count": 37,
      "outputs": [
        {
          "output_type": "stream",
          "text": [
            "Ce message est en dehors d'une fonction\n"
          ],
          "name": "stdout"
        }
      ]
    },
    {
      "cell_type": "code",
      "metadata": {
        "id": "CXZDbgR1wXdP"
      },
      "source": [
        "message = \"Ce message est en dehors d'une fonction\"\n",
        "\n",
        "def affiche_message():\n",
        "  print(message)\n",
        "  new_msg = \"Ceci est dans la fonction\""
      ],
      "execution_count": 38,
      "outputs": []
    },
    {
      "cell_type": "code",
      "metadata": {
        "id": "vGYTxRoywWxA",
        "outputId": "c6eae09b-5a2c-4fa7-815f-d2a14355a350",
        "colab": {
          "base_uri": "https://localhost:8080/"
        }
      },
      "source": [
        "print(message)"
      ],
      "execution_count": 39,
      "outputs": [
        {
          "output_type": "stream",
          "text": [
            "Ce message est en dehors d'une fonction\n"
          ],
          "name": "stdout"
        }
      ]
    },
    {
      "cell_type": "code",
      "metadata": {
        "id": "dgDYUr6fJssh",
        "outputId": "05151420-e67a-46dc-dc86-87aec5739f53",
        "colab": {
          "base_uri": "https://localhost:8080/",
          "height": 162
        }
      },
      "source": [
        "print(new_msg)"
      ],
      "execution_count": 40,
      "outputs": [
        {
          "output_type": "error",
          "ename": "NameError",
          "evalue": "ignored",
          "traceback": [
            "\u001b[0;31m---------------------------------------------------------------------------\u001b[0m",
            "\u001b[0;31mNameError\u001b[0m                                 Traceback (most recent call last)",
            "\u001b[0;32m<ipython-input-40-281e7e86ba11>\u001b[0m in \u001b[0;36m<module>\u001b[0;34m()\u001b[0m\n\u001b[0;32m----> 1\u001b[0;31m \u001b[0mprint\u001b[0m\u001b[0;34m(\u001b[0m\u001b[0mnew_msg\u001b[0m\u001b[0;34m)\u001b[0m\u001b[0;34m\u001b[0m\u001b[0;34m\u001b[0m\u001b[0m\n\u001b[0m",
            "\u001b[0;31mNameError\u001b[0m: name 'new_msg' is not defined"
          ]
        }
      ]
    },
    {
      "cell_type": "code",
      "metadata": {
        "id": "HczrKCQZyG7_",
        "outputId": "a7282ca4-41f2-4a32-c6fe-af229b1b08ba",
        "colab": {
          "base_uri": "https://localhost:8080/"
        }
      },
      "source": [
        "salue(\"degila kevin\")"
      ],
      "execution_count": 45,
      "outputs": [
        {
          "output_type": "stream",
          "text": [
            "Bonjour degila kevin\n"
          ],
          "name": "stdout"
        }
      ]
    },
    {
      "cell_type": "code",
      "metadata": {
        "id": "wckCVdA9yHcD"
      },
      "source": [
        "identité = [\"degila\", \"kevin\", \"jose\"]"
      ],
      "execution_count": 44,
      "outputs": []
    },
    {
      "cell_type": "code",
      "metadata": {
        "id": "SdvgAYBOyHvP"
      },
      "source": [
        "def salue(*noms):\n",
        "  print(f\"Bonjour {noms[0]}, et les autres {noms[1:]}\")"
      ],
      "execution_count": 51,
      "outputs": []
    },
    {
      "cell_type": "code",
      "metadata": {
        "id": "1uTjQhMmyIHv",
        "outputId": "093b56f5-fb41-4ec9-81ea-bd1c6e1b5e12",
        "colab": {
          "base_uri": "https://localhost:8080/"
        }
      },
      "source": [
        "salue(\"kevin\", \"rock\", \"radji\", \"moise\")"
      ],
      "execution_count": 53,
      "outputs": [
        {
          "output_type": "stream",
          "text": [
            "Bonjour kevin, et les autres ('rock', 'radji', 'moise')\n"
          ],
          "name": "stdout"
        }
      ]
    },
    {
      "cell_type": "code",
      "metadata": {
        "id": "fyhp3yyT0tdO"
      },
      "source": [
        "def somme(a, b=0, c=0, d=0):\n",
        "  return a + b + c + d"
      ],
      "execution_count": 56,
      "outputs": []
    },
    {
      "cell_type": "code",
      "metadata": {
        "id": "66KTb0VA0tTT",
        "outputId": "da922434-c7f2-4fed-8a85-049ca0d03b8e",
        "colab": {
          "base_uri": "https://localhost:8080/"
        }
      },
      "source": [
        "somme( 12, 3)"
      ],
      "execution_count": 57,
      "outputs": [
        {
          "output_type": "execute_result",
          "data": {
            "text/plain": [
              "15"
            ]
          },
          "metadata": {
            "tags": []
          },
          "execution_count": 57
        }
      ]
    },
    {
      "cell_type": "code",
      "metadata": {
        "id": "3VdoRfOD0tHz",
        "outputId": "42780e78-224a-4d76-8391-3554c92f5c86",
        "colab": {
          "base_uri": "https://localhost:8080/"
        }
      },
      "source": [
        "somme( 12, 3, 2)"
      ],
      "execution_count": 58,
      "outputs": [
        {
          "output_type": "execute_result",
          "data": {
            "text/plain": [
              "17"
            ]
          },
          "metadata": {
            "tags": []
          },
          "execution_count": 58
        }
      ]
    },
    {
      "cell_type": "code",
      "metadata": {
        "id": "tj1jeLDl0s7m",
        "outputId": "d662ee15-4bc8-4031-d71f-8f7c39eccb17",
        "colab": {
          "base_uri": "https://localhost:8080/",
          "height": 162
        }
      },
      "source": [
        "somme( 12, 3, 2, 5, 6,8)"
      ],
      "execution_count": 59,
      "outputs": [
        {
          "output_type": "error",
          "ename": "TypeError",
          "evalue": "ignored",
          "traceback": [
            "\u001b[0;31m---------------------------------------------------------------------------\u001b[0m",
            "\u001b[0;31mTypeError\u001b[0m                                 Traceback (most recent call last)",
            "\u001b[0;32m<ipython-input-59-d9bb0467204f>\u001b[0m in \u001b[0;36m<module>\u001b[0;34m()\u001b[0m\n\u001b[0;32m----> 1\u001b[0;31m \u001b[0msomme\u001b[0m\u001b[0;34m(\u001b[0m \u001b[0;36m12\u001b[0m\u001b[0;34m,\u001b[0m \u001b[0;36m3\u001b[0m\u001b[0;34m,\u001b[0m \u001b[0;36m2\u001b[0m\u001b[0;34m,\u001b[0m \u001b[0;36m5\u001b[0m\u001b[0;34m,\u001b[0m \u001b[0;36m6\u001b[0m\u001b[0;34m,\u001b[0m\u001b[0;36m8\u001b[0m\u001b[0;34m)\u001b[0m\u001b[0;34m\u001b[0m\u001b[0;34m\u001b[0m\u001b[0m\n\u001b[0m",
            "\u001b[0;31mTypeError\u001b[0m: somme() takes from 1 to 4 positional arguments but 6 were given"
          ]
        }
      ]
    },
    {
      "cell_type": "code",
      "metadata": {
        "id": "TpUJOA_n0stN"
      },
      "source": [
        "def somme(a, *nombres):\n",
        "  resultat = a\n",
        "  print(nombres)\n",
        "  print(type(nombres))\n",
        "  for n in nombres:\n",
        "\n",
        "    resultat += n\n",
        "  return resultat\n"
      ],
      "execution_count": 67,
      "outputs": []
    },
    {
      "cell_type": "code",
      "metadata": {
        "id": "VF5gCetw2BkJ"
      },
      "source": [
        ""
      ],
      "execution_count": 67,
      "outputs": []
    },
    {
      "cell_type": "code",
      "metadata": {
        "id": "iy1t6fj-0sY3",
        "outputId": "9856b228-5144-49c9-b6e6-c7ee50f1907d",
        "colab": {
          "base_uri": "https://localhost:8080/"
        }
      },
      "source": [
        "somme(15, 5, 6, 9, 10, 15,10,54,788,511,14155)"
      ],
      "execution_count": 68,
      "outputs": [
        {
          "output_type": "stream",
          "text": [
            "(5, 6, 9, 10, 15, 10, 54, 788, 511, 14155)\n",
            "<class 'tuple'>\n"
          ],
          "name": "stdout"
        },
        {
          "output_type": "execute_result",
          "data": {
            "text/plain": [
              "15578"
            ]
          },
          "metadata": {
            "tags": []
          },
          "execution_count": 68
        }
      ]
    },
    {
      "cell_type": "code",
      "metadata": {
        "id": "XNdLPqzX3KZK"
      },
      "source": [
        "salue_simple = lambda nom: print(\"bonjour\", nom)"
      ],
      "execution_count": 76,
      "outputs": []
    },
    {
      "cell_type": "code",
      "metadata": {
        "id": "f5JN2hqQ3KPY",
        "outputId": "cc8caf32-6bfc-42ba-d968-de94e93ff147",
        "colab": {
          "base_uri": "https://localhost:8080/"
        }
      },
      "source": [
        "salue_simple('Radji')"
      ],
      "execution_count": 77,
      "outputs": [
        {
          "output_type": "stream",
          "text": [
            "bonjour Radji\n"
          ],
          "name": "stdout"
        }
      ]
    },
    {
      "cell_type": "code",
      "metadata": {
        "id": "2i7en_RY3KE9"
      },
      "source": [
        "cadeau = lambda note: note + 5 "
      ],
      "execution_count": 78,
      "outputs": []
    },
    {
      "cell_type": "code",
      "metadata": {
        "id": "G7k3mn_z4A-W"
      },
      "source": [
        "def cadeau(note):\n",
        "  return note + 5"
      ],
      "execution_count": null,
      "outputs": []
    },
    {
      "cell_type": "code",
      "metadata": {
        "id": "yuC_y5r93J5E",
        "outputId": "caa67e61-026a-466c-9616-6012b07e088b",
        "colab": {
          "base_uri": "https://localhost:8080/"
        }
      },
      "source": [
        "cadeau(10)"
      ],
      "execution_count": 79,
      "outputs": [
        {
          "output_type": "execute_result",
          "data": {
            "text/plain": [
              "15"
            ]
          },
          "metadata": {
            "tags": []
          },
          "execution_count": 79
        }
      ]
    },
    {
      "cell_type": "code",
      "metadata": {
        "id": "tylffkG43zKj",
        "outputId": "6372144d-da71-4818-b97c-861858faa46d",
        "colab": {
          "base_uri": "https://localhost:8080/"
        }
      },
      "source": [
        "notes = [0, 2, 5,3,6,9,4,5,11,2,3]\n",
        "for note in notes:\n",
        "  print(cadeau(note))"
      ],
      "execution_count": 80,
      "outputs": [
        {
          "output_type": "stream",
          "text": [
            "5\n",
            "7\n",
            "10\n",
            "8\n",
            "11\n",
            "14\n",
            "9\n",
            "10\n",
            "16\n",
            "7\n",
            "8\n"
          ],
          "name": "stdout"
        }
      ]
    },
    {
      "cell_type": "code",
      "metadata": {
        "id": "UHIsAUB43y8W"
      },
      "source": [
        ""
      ],
      "execution_count": null,
      "outputs": []
    },
    {
      "cell_type": "code",
      "metadata": {
        "id": "4Ei0Njf03Jp0"
      },
      "source": [
        ""
      ],
      "execution_count": null,
      "outputs": []
    },
    {
      "cell_type": "code",
      "metadata": {
        "id": "PyR1BbTV0rmu"
      },
      "source": [
        ""
      ],
      "execution_count": 60,
      "outputs": []
    },
    {
      "cell_type": "code",
      "metadata": {
        "id": "L8-_SrTR2ScV"
      },
      "source": [
        "import os"
      ],
      "execution_count": 69,
      "outputs": []
    },
    {
      "cell_type": "code",
      "metadata": {
        "id": "6Qv5XMfA2SNk",
        "outputId": "7e20cedf-4e9d-4e39-e111-d7e21c637a3b",
        "colab": {
          "base_uri": "https://localhost:8080/"
        }
      },
      "source": [
        "os.listdir(\"./sample_data\")"
      ],
      "execution_count": 72,
      "outputs": [
        {
          "output_type": "execute_result",
          "data": {
            "text/plain": [
              "['README.md',\n",
              " 'anscombe.json',\n",
              " 'california_housing_train.csv',\n",
              " 'mnist_train_small.csv',\n",
              " 'california_housing_test.csv',\n",
              " 'mnist_test.csv']"
            ]
          },
          "metadata": {
            "tags": []
          },
          "execution_count": 72
        }
      ]
    },
    {
      "cell_type": "code",
      "metadata": {
        "id": "bNLVBv4A4TEG"
      },
      "source": [
        "csvs = []\n",
        "for file in os.listdir(\"./sample_data\"):\n",
        "  if file[-4:] == '.csv':\n",
        "    csvs.append(file)"
      ],
      "execution_count": 82,
      "outputs": []
    },
    {
      "cell_type": "code",
      "metadata": {
        "id": "sYvcjYBS4S1s",
        "outputId": "6f2f2c48-7a9b-43dc-8062-4faafda77b40",
        "colab": {
          "base_uri": "https://localhost:8080/"
        }
      },
      "source": [
        "csvs"
      ],
      "execution_count": 83,
      "outputs": [
        {
          "output_type": "execute_result",
          "data": {
            "text/plain": [
              "['california_housing_train.csv',\n",
              " 'mnist_train_small.csv',\n",
              " 'california_housing_test.csv',\n",
              " 'mnist_test.csv']"
            ]
          },
          "metadata": {
            "tags": []
          },
          "execution_count": 83
        }
      ]
    },
    {
      "cell_type": "code",
      "metadata": {
        "id": "2H2kmTfD5N8r",
        "outputId": "bcd14ab6-b1fa-49b6-9d4a-d6f6b7bd8948",
        "colab": {
          "base_uri": "https://localhost:8080/"
        }
      },
      "source": [
        "\"mnist_test.csv\".endswith('csv')"
      ],
      "execution_count": 84,
      "outputs": [
        {
          "output_type": "execute_result",
          "data": {
            "text/plain": [
              "True"
            ]
          },
          "metadata": {
            "tags": []
          },
          "execution_count": 84
        }
      ]
    },
    {
      "cell_type": "code",
      "metadata": {
        "id": "DCh3naRz5Nu9"
      },
      "source": [
        "csvs = []\n",
        "for file in os.listdir(\"./sample_data\"):\n",
        "  if file.endswith('csv'):\n",
        "    csvs.append(file)"
      ],
      "execution_count": 85,
      "outputs": []
    },
    {
      "cell_type": "code",
      "metadata": {
        "id": "rMHAspvU5aH1",
        "outputId": "ea3c6111-4fc3-4dec-d197-a0012b5559ef",
        "colab": {
          "base_uri": "https://localhost:8080/"
        }
      },
      "source": [
        "\"mnist_test.csv\".startswith(\"mni\")"
      ],
      "execution_count": 86,
      "outputs": [
        {
          "output_type": "execute_result",
          "data": {
            "text/plain": [
              "True"
            ]
          },
          "metadata": {
            "tags": []
          },
          "execution_count": 86
        }
      ]
    },
    {
      "cell_type": "code",
      "metadata": {
        "id": "rcjIKBjk5Z8z",
        "outputId": "367dc1fd-cb85-4559-f08f-af2e0b30b655",
        "colab": {
          "base_uri": "https://localhost:8080/"
        }
      },
      "source": [
        "len(csvs)"
      ],
      "execution_count": 87,
      "outputs": [
        {
          "output_type": "execute_result",
          "data": {
            "text/plain": [
              "4"
            ]
          },
          "metadata": {
            "tags": []
          },
          "execution_count": 87
        }
      ]
    },
    {
      "cell_type": "code",
      "metadata": {
        "id": "DvidfIBt2R6Z",
        "outputId": "4f8feb2a-0661-4539-a5fc-7b6a810618c9",
        "colab": {
          "base_uri": "https://localhost:8080/"
        }
      },
      "source": [
        "bool([])"
      ],
      "execution_count": 88,
      "outputs": [
        {
          "output_type": "execute_result",
          "data": {
            "text/plain": [
              "False"
            ]
          },
          "metadata": {
            "tags": []
          },
          "execution_count": 88
        }
      ]
    },
    {
      "cell_type": "code",
      "metadata": {
        "id": "HuSc-j_FyIey"
      },
      "source": [
        ""
      ],
      "execution_count": 60,
      "outputs": []
    },
    {
      "cell_type": "markdown",
      "metadata": {
        "id": "Uv6ybvB1Jssh"
      },
      "source": [
        "# Manipuler les fichiers en Python"
      ]
    },
    {
      "cell_type": "code",
      "metadata": {
        "id": "wDAExVePJssi"
      },
      "source": [
        ""
      ],
      "execution_count": null,
      "outputs": []
    },
    {
      "cell_type": "code",
      "metadata": {
        "id": "4tBa8vAmJssi"
      },
      "source": [
        ""
      ],
      "execution_count": null,
      "outputs": []
    },
    {
      "cell_type": "markdown",
      "metadata": {
        "id": "SKzJMhiFJssi"
      },
      "source": [
        "# Ecrire Python avec Classe"
      ]
    },
    {
      "cell_type": "code",
      "metadata": {
        "id": "gUoBXjFEJssi"
      },
      "source": [
        ""
      ],
      "execution_count": null,
      "outputs": []
    },
    {
      "cell_type": "code",
      "metadata": {
        "id": "LLWbHxYfJssi"
      },
      "source": [
        ""
      ],
      "execution_count": null,
      "outputs": []
    },
    {
      "cell_type": "code",
      "metadata": {
        "id": "tz1CWNJqJssj"
      },
      "source": [
        ""
      ],
      "execution_count": null,
      "outputs": []
    },
    {
      "cell_type": "markdown",
      "metadata": {
        "id": "cvq7kd2JJssj"
      },
      "source": [
        "# Exercices"
      ]
    },
    {
      "cell_type": "code",
      "metadata": {
        "id": "Ps2q_qZIJssj"
      },
      "source": [
        ""
      ],
      "execution_count": null,
      "outputs": []
    },
    {
      "cell_type": "code",
      "metadata": {
        "id": "eua1rALNToDA"
      },
      "source": [
        ""
      ],
      "execution_count": null,
      "outputs": []
    },
    {
      "cell_type": "code",
      "metadata": {
        "id": "povxJ2j9nt66"
      },
      "source": [
        ""
      ],
      "execution_count": null,
      "outputs": []
    }
  ]
}