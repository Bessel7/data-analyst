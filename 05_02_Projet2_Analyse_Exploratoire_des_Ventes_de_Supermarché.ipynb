{
 "cells": [
  {
   "cell_type": "code",
   "execution_count": null,
   "metadata": {
    "id": "z4-KnSnSsrHn"
   },
   "outputs": [],
   "source": []
  },
  {
   "cell_type": "markdown",
   "metadata": {
    "id": "XYwle72reSRn"
   },
   "source": [
    "# Analyse Exploratoire des Ventes de Walmart "
   ]
  },
  {
   "cell_type": "markdown",
   "metadata": {
    "id": "gPYX81VDeY4i"
   },
   "source": [
    "Vous avez dans le fichier zip ci-joint un dossier contenant des données de ventes d'une entreprise sur l'année 2019. Vous avez un fichier csv par mois.\n",
    "Chaque fichier contient les colonnes suivantes:\n",
    "* OrderID: l'id de la commande\n",
    "* Product: La désignation du produit\n",
    "* Quantity Ordered: la quantité vendue\n",
    "* Price each: le prix unitaire\n",
    "* order date\n",
    "* Purchase adress: l'adresse de la boutique de vente\n",
    "\n",
    "Vous êtes appelé à analyser ces données pour répondre aux questions suivantes:\n",
    "\n",
    "* Quel est le meilleur mois de vente ? et Quel est le chiffre d'affaires de ce mois ?\n",
    "* Dans quelle ville a-t-on le plus vendu de produits ?\n",
    "* A quelle heure devons-nous passer de la publicité pour augmenter nos ventes ?\n",
    "* Quels sont les produits qui sont souvent achetés ensemble ?\n",
    "* Quel produit a-t-on le plus vendu et pourquoi ?\n",
    "\n",
    "Accompagnez vos solutions de visualisations parlantes afin d'aider le business à améliorer ses chiffres de l'année suivante.\n",
    "\n"
   ]
  },
  {
   "cell_type": "markdown",
   "metadata": {
    "id": "GGdbaOQtekFB"
   },
   "source": [
    "## Importer les données"
   ]
  },
  {
   "cell_type": "markdown",
   "metadata": {
    "id": "Tw5oA5KZewgK"
   },
   "source": [
    "Essayons de Monter notre google drive"
   ]
  },
  {
   "cell_type": "code",
   "execution_count": 8,
   "metadata": {
    "id": "blYxjRZrfydE"
   },
   "outputs": [],
   "source": [
    "import pandas as pd\n",
    "import matplotlib.pyplot as plt\n",
    "import seaborn as sns\n",
    "import numpy as np"
   ]
  },
  {
   "cell_type": "code",
   "execution_count": 1,
   "metadata": {
    "colab": {
     "base_uri": "https://localhost:8080/"
    },
    "id": "FN9QIm0We3ia",
    "outputId": "af3efa87-2ffa-48d6-d975-503cd7f831db"
   },
   "outputs": [
    {
     "name": "stdout",
     "output_type": "stream",
     "text": [
      "Mounted at /gdrive\n"
     ]
    }
   ],
   "source": [
    "from google.colab import drive\n",
    "drive.mount('/gdrive')"
   ]
  },
  {
   "cell_type": "code",
   "execution_count": 5,
   "metadata": {
    "id": "fXmY3Mdzev82"
   },
   "outputs": [],
   "source": [
    "data = \"/gdrive/My Drive/DataKev/data/Sales_Data/\""
   ]
  },
  {
   "cell_type": "code",
   "execution_count": 3,
   "metadata": {
    "id": "GKkTBajRfF2q"
   },
   "outputs": [],
   "source": [
    "import os"
   ]
  },
  {
   "cell_type": "code",
   "execution_count": 6,
   "metadata": {
    "colab": {
     "base_uri": "https://localhost:8080/"
    },
    "id": "dJXULfJofHQy",
    "outputId": "1c1ebcbf-68b8-4594-f69a-89f8f3da12cb"
   },
   "outputs": [
    {
     "data": {
      "text/plain": [
       "['Analyse_Exploratoire.ipynb',\n",
       " 'Sales_July_2019.csv',\n",
       " 'Sales_March_2019.csv',\n",
       " 'Sales_April_2019.csv',\n",
       " 'Sales_December_2019.csv',\n",
       " 'Sales_November_2019.csv',\n",
       " 'Sales_January_2019.csv',\n",
       " 'Sales_May_2019.csv',\n",
       " 'Sales_September_2019.csv',\n",
       " 'Sales_August_2019.csv',\n",
       " 'Sales_October_2019.csv',\n",
       " 'Sales_February_2019.csv',\n",
       " 'Sales_June_2019.csv']"
      ]
     },
     "execution_count": 6,
     "metadata": {
      "tags": []
     },
     "output_type": "execute_result"
    }
   ],
   "source": [
    "os.listdir(data)"
   ]
  },
  {
   "cell_type": "markdown",
   "metadata": {
    "id": "yX-Yugqrfqcq"
   },
   "source": [
    "Jetons un coup d'oeil à la data d'un mois, celui de Janvier"
   ]
  },
  {
   "cell_type": "code",
   "execution_count": 10,
   "metadata": {
    "id": "fLkn7VToe3ia"
   },
   "outputs": [],
   "source": [
    "janvier_sales = pd.read_csv(data + \"Sales_January_2019.csv\")"
   ]
  },
  {
   "cell_type": "code",
   "execution_count": 11,
   "metadata": {
    "colab": {
     "base_uri": "https://localhost:8080/",
     "height": 306
    },
    "id": "96S2v2FFdd19",
    "outputId": "99f9a7fa-3307-4863-e04c-390cfef68a8a"
   },
   "outputs": [
    {
     "data": {
      "text/html": [
       "<div>\n",
       "<style scoped>\n",
       "    .dataframe tbody tr th:only-of-type {\n",
       "        vertical-align: middle;\n",
       "    }\n",
       "\n",
       "    .dataframe tbody tr th {\n",
       "        vertical-align: top;\n",
       "    }\n",
       "\n",
       "    .dataframe thead th {\n",
       "        text-align: right;\n",
       "    }\n",
       "</style>\n",
       "<table border=\"1\" class=\"dataframe\">\n",
       "  <thead>\n",
       "    <tr style=\"text-align: right;\">\n",
       "      <th></th>\n",
       "      <th>Order ID</th>\n",
       "      <th>Product</th>\n",
       "      <th>Quantity Ordered</th>\n",
       "      <th>Price Each</th>\n",
       "      <th>Order Date</th>\n",
       "      <th>Purchase Address</th>\n",
       "    </tr>\n",
       "  </thead>\n",
       "  <tbody>\n",
       "    <tr>\n",
       "      <th>0</th>\n",
       "      <td>141234</td>\n",
       "      <td>iPhone</td>\n",
       "      <td>1</td>\n",
       "      <td>700</td>\n",
       "      <td>01/22/19 21:25</td>\n",
       "      <td>944 Walnut St, Boston, MA 02215</td>\n",
       "    </tr>\n",
       "    <tr>\n",
       "      <th>1</th>\n",
       "      <td>141235</td>\n",
       "      <td>Lightning Charging Cable</td>\n",
       "      <td>1</td>\n",
       "      <td>14.95</td>\n",
       "      <td>01/28/19 14:15</td>\n",
       "      <td>185 Maple St, Portland, OR 97035</td>\n",
       "    </tr>\n",
       "    <tr>\n",
       "      <th>2</th>\n",
       "      <td>141236</td>\n",
       "      <td>Wired Headphones</td>\n",
       "      <td>2</td>\n",
       "      <td>11.99</td>\n",
       "      <td>01/17/19 13:33</td>\n",
       "      <td>538 Adams St, San Francisco, CA 94016</td>\n",
       "    </tr>\n",
       "    <tr>\n",
       "      <th>3</th>\n",
       "      <td>141237</td>\n",
       "      <td>27in FHD Monitor</td>\n",
       "      <td>1</td>\n",
       "      <td>149.99</td>\n",
       "      <td>01/05/19 20:33</td>\n",
       "      <td>738 10th St, Los Angeles, CA 90001</td>\n",
       "    </tr>\n",
       "    <tr>\n",
       "      <th>4</th>\n",
       "      <td>141238</td>\n",
       "      <td>Wired Headphones</td>\n",
       "      <td>1</td>\n",
       "      <td>11.99</td>\n",
       "      <td>01/25/19 11:59</td>\n",
       "      <td>387 10th St, Austin, TX 73301</td>\n",
       "    </tr>\n",
       "  </tbody>\n",
       "</table>\n",
       "</div>"
      ],
      "text/plain": [
       "  Order ID  ...                       Purchase Address\n",
       "0   141234  ...        944 Walnut St, Boston, MA 02215\n",
       "1   141235  ...       185 Maple St, Portland, OR 97035\n",
       "2   141236  ...  538 Adams St, San Francisco, CA 94016\n",
       "3   141237  ...     738 10th St, Los Angeles, CA 90001\n",
       "4   141238  ...          387 10th St, Austin, TX 73301\n",
       "\n",
       "[5 rows x 6 columns]"
      ]
     },
     "execution_count": 11,
     "metadata": {
      "tags": []
     },
     "output_type": "execute_result"
    }
   ],
   "source": [
    "janvier_sales.head()"
   ]
  },
  {
   "cell_type": "code",
   "execution_count": 12,
   "metadata": {
    "colab": {
     "base_uri": "https://localhost:8080/",
     "height": 171
    },
    "id": "Hz6YGdVEgHPE",
    "outputId": "d9a1d4d2-d25d-4456-fddd-00187ff351a0"
   },
   "outputs": [
    {
     "data": {
      "text/html": [
       "<div>\n",
       "<style scoped>\n",
       "    .dataframe tbody tr th:only-of-type {\n",
       "        vertical-align: middle;\n",
       "    }\n",
       "\n",
       "    .dataframe tbody tr th {\n",
       "        vertical-align: top;\n",
       "    }\n",
       "\n",
       "    .dataframe thead th {\n",
       "        text-align: right;\n",
       "    }\n",
       "</style>\n",
       "<table border=\"1\" class=\"dataframe\">\n",
       "  <thead>\n",
       "    <tr style=\"text-align: right;\">\n",
       "      <th></th>\n",
       "      <th>Order ID</th>\n",
       "      <th>Product</th>\n",
       "      <th>Quantity Ordered</th>\n",
       "      <th>Price Each</th>\n",
       "      <th>Order Date</th>\n",
       "      <th>Purchase Address</th>\n",
       "    </tr>\n",
       "  </thead>\n",
       "  <tbody>\n",
       "    <tr>\n",
       "      <th>count</th>\n",
       "      <td>9697</td>\n",
       "      <td>9697</td>\n",
       "      <td>9697</td>\n",
       "      <td>9697</td>\n",
       "      <td>9697</td>\n",
       "      <td>9697</td>\n",
       "    </tr>\n",
       "    <tr>\n",
       "      <th>unique</th>\n",
       "      <td>9269</td>\n",
       "      <td>20</td>\n",
       "      <td>8</td>\n",
       "      <td>19</td>\n",
       "      <td>8077</td>\n",
       "      <td>9161</td>\n",
       "    </tr>\n",
       "    <tr>\n",
       "      <th>top</th>\n",
       "      <td>Order ID</td>\n",
       "      <td>USB-C Charging Cable</td>\n",
       "      <td>1</td>\n",
       "      <td>11.95</td>\n",
       "      <td>Order Date</td>\n",
       "      <td>Purchase Address</td>\n",
       "    </tr>\n",
       "    <tr>\n",
       "      <th>freq</th>\n",
       "      <td>16</td>\n",
       "      <td>1171</td>\n",
       "      <td>8795</td>\n",
       "      <td>1171</td>\n",
       "      <td>16</td>\n",
       "      <td>16</td>\n",
       "    </tr>\n",
       "  </tbody>\n",
       "</table>\n",
       "</div>"
      ],
      "text/plain": [
       "        Order ID               Product  ...  Order Date  Purchase Address\n",
       "count       9697                  9697  ...        9697              9697\n",
       "unique      9269                    20  ...        8077              9161\n",
       "top     Order ID  USB-C Charging Cable  ...  Order Date  Purchase Address\n",
       "freq          16                  1171  ...          16                16\n",
       "\n",
       "[4 rows x 6 columns]"
      ]
     },
     "execution_count": 12,
     "metadata": {
      "tags": []
     },
     "output_type": "execute_result"
    }
   ],
   "source": [
    "janvier_sales.describe()"
   ]
  },
  {
   "cell_type": "code",
   "execution_count": 14,
   "metadata": {
    "colab": {
     "base_uri": "https://localhost:8080/"
    },
    "id": "jvzKWuGxiYra",
    "outputId": "c34f49f1-5b4e-402c-c215-72eddeb7a7f0"
   },
   "outputs": [
    {
     "data": {
      "text/plain": [
       "Index(['Order ID', 'Product', 'Quantity Ordered', 'Price Each', 'Order Date',\n",
       "       'Purchase Address'],\n",
       "      dtype='object')"
      ]
     },
     "execution_count": 14,
     "metadata": {
      "tags": []
     },
     "output_type": "execute_result"
    }
   ],
   "source": [
    "janvier_sales.columns"
   ]
  },
  {
   "cell_type": "code",
   "execution_count": 13,
   "metadata": {
    "colab": {
     "base_uri": "https://localhost:8080/"
    },
    "id": "oSbrxou7gHWg",
    "outputId": "d9f78409-23f4-4439-9d49-de472ea44700"
   },
   "outputs": [
    {
     "name": "stdout",
     "output_type": "stream",
     "text": [
      "<class 'pandas.core.frame.DataFrame'>\n",
      "RangeIndex: 9723 entries, 0 to 9722\n",
      "Data columns (total 6 columns):\n",
      " #   Column            Non-Null Count  Dtype \n",
      "---  ------            --------------  ----- \n",
      " 0   Order ID          9697 non-null   object\n",
      " 1   Product           9697 non-null   object\n",
      " 2   Quantity Ordered  9697 non-null   object\n",
      " 3   Price Each        9697 non-null   object\n",
      " 4   Order Date        9697 non-null   object\n",
      " 5   Purchase Address  9697 non-null   object\n",
      "dtypes: object(6)\n",
      "memory usage: 455.9+ KB\n"
     ]
    }
   ],
   "source": [
    "janvier_sales.info()"
   ]
  },
  {
   "cell_type": "markdown",
   "metadata": {
    "id": "wbll9Yosjxyg"
   },
   "source": [
    "## Merger la data"
   ]
  },
  {
   "cell_type": "code",
   "execution_count": 15,
   "metadata": {
    "colab": {
     "base_uri": "https://localhost:8080/"
    },
    "id": "6kr0FdYzkPBA",
    "outputId": "3bd2edbe-33eb-4010-9f61-04f350667219"
   },
   "outputs": [
    {
     "data": {
      "text/plain": [
       "['Sales_July_2019.csv',\n",
       " 'Sales_March_2019.csv',\n",
       " 'Sales_April_2019.csv',\n",
       " 'Sales_December_2019.csv',\n",
       " 'Sales_November_2019.csv',\n",
       " 'Sales_January_2019.csv',\n",
       " 'Sales_May_2019.csv',\n",
       " 'Sales_September_2019.csv',\n",
       " 'Sales_August_2019.csv',\n",
       " 'Sales_October_2019.csv',\n",
       " 'Sales_February_2019.csv',\n",
       " 'Sales_June_2019.csv']"
      ]
     },
     "execution_count": 15,
     "metadata": {
      "tags": []
     },
     "output_type": "execute_result"
    }
   ],
   "source": [
    "files = [fichier for fichier in os.listdir(data) if fichier.endswith('.csv')]\n",
    "files"
   ]
  },
  {
   "cell_type": "code",
   "execution_count": 16,
   "metadata": {
    "id": "PVKxuTA8h6q0"
   },
   "outputs": [],
   "source": [
    "df = pd.DataFrame()\n",
    "\n",
    "for file in files:\n",
    "  data_interm = pd.read_csv(data + file)\n",
    "  df = pd.concat([df, data_interm])\n"
   ]
  },
  {
   "cell_type": "code",
   "execution_count": 17,
   "metadata": {
    "colab": {
     "base_uri": "https://localhost:8080/"
    },
    "id": "nA6L0juelANH",
    "outputId": "11120b3c-e49f-4560-8cdb-384131694515"
   },
   "outputs": [
    {
     "data": {
      "text/plain": [
       "(186850, 6)"
      ]
     },
     "execution_count": 17,
     "metadata": {
      "tags": []
     },
     "output_type": "execute_result"
    }
   ],
   "source": [
    "df.shape"
   ]
  },
  {
   "cell_type": "code",
   "execution_count": 18,
   "metadata": {
    "colab": {
     "base_uri": "https://localhost:8080/",
     "height": 171
    },
    "id": "XaFtzwx0lDHn",
    "outputId": "6e44d80b-be36-4565-d325-aa718042a0ab"
   },
   "outputs": [
    {
     "data": {
      "text/html": [
       "<div>\n",
       "<style scoped>\n",
       "    .dataframe tbody tr th:only-of-type {\n",
       "        vertical-align: middle;\n",
       "    }\n",
       "\n",
       "    .dataframe tbody tr th {\n",
       "        vertical-align: top;\n",
       "    }\n",
       "\n",
       "    .dataframe thead th {\n",
       "        text-align: right;\n",
       "    }\n",
       "</style>\n",
       "<table border=\"1\" class=\"dataframe\">\n",
       "  <thead>\n",
       "    <tr style=\"text-align: right;\">\n",
       "      <th></th>\n",
       "      <th>Order ID</th>\n",
       "      <th>Product</th>\n",
       "      <th>Quantity Ordered</th>\n",
       "      <th>Price Each</th>\n",
       "      <th>Order Date</th>\n",
       "      <th>Purchase Address</th>\n",
       "    </tr>\n",
       "  </thead>\n",
       "  <tbody>\n",
       "    <tr>\n",
       "      <th>count</th>\n",
       "      <td>186305</td>\n",
       "      <td>186305</td>\n",
       "      <td>186305</td>\n",
       "      <td>186305</td>\n",
       "      <td>186305</td>\n",
       "      <td>186305</td>\n",
       "    </tr>\n",
       "    <tr>\n",
       "      <th>unique</th>\n",
       "      <td>178438</td>\n",
       "      <td>20</td>\n",
       "      <td>10</td>\n",
       "      <td>24</td>\n",
       "      <td>142396</td>\n",
       "      <td>140788</td>\n",
       "    </tr>\n",
       "    <tr>\n",
       "      <th>top</th>\n",
       "      <td>Order ID</td>\n",
       "      <td>USB-C Charging Cable</td>\n",
       "      <td>1</td>\n",
       "      <td>11.95</td>\n",
       "      <td>Order Date</td>\n",
       "      <td>Purchase Address</td>\n",
       "    </tr>\n",
       "    <tr>\n",
       "      <th>freq</th>\n",
       "      <td>355</td>\n",
       "      <td>21903</td>\n",
       "      <td>168552</td>\n",
       "      <td>21903</td>\n",
       "      <td>355</td>\n",
       "      <td>355</td>\n",
       "    </tr>\n",
       "  </tbody>\n",
       "</table>\n",
       "</div>"
      ],
      "text/plain": [
       "        Order ID               Product  ...  Order Date  Purchase Address\n",
       "count     186305                186305  ...      186305            186305\n",
       "unique    178438                    20  ...      142396            140788\n",
       "top     Order ID  USB-C Charging Cable  ...  Order Date  Purchase Address\n",
       "freq         355                 21903  ...         355               355\n",
       "\n",
       "[4 rows x 6 columns]"
      ]
     },
     "execution_count": 18,
     "metadata": {
      "tags": []
     },
     "output_type": "execute_result"
    }
   ],
   "source": [
    "df.describe()"
   ]
  },
  {
   "cell_type": "code",
   "execution_count": 19,
   "metadata": {
    "colab": {
     "base_uri": "https://localhost:8080/"
    },
    "id": "ABNjpFp3lG5U",
    "outputId": "cd80845c-dc17-4edb-a8a3-cdf33dc265e8"
   },
   "outputs": [
    {
     "name": "stdout",
     "output_type": "stream",
     "text": [
      "<class 'pandas.core.frame.DataFrame'>\n",
      "Int64Index: 186850 entries, 0 to 13621\n",
      "Data columns (total 6 columns):\n",
      " #   Column            Non-Null Count   Dtype \n",
      "---  ------            --------------   ----- \n",
      " 0   Order ID          186305 non-null  object\n",
      " 1   Product           186305 non-null  object\n",
      " 2   Quantity Ordered  186305 non-null  object\n",
      " 3   Price Each        186305 non-null  object\n",
      " 4   Order Date        186305 non-null  object\n",
      " 5   Purchase Address  186305 non-null  object\n",
      "dtypes: object(6)\n",
      "memory usage: 10.0+ MB\n"
     ]
    }
   ],
   "source": [
    "df.info()"
   ]
  },
  {
   "cell_type": "markdown",
   "metadata": {
    "id": "OvpB00aOlWk0"
   },
   "source": [
    "## Nettoyage de la data"
   ]
  },
  {
   "cell_type": "code",
   "execution_count": 20,
   "metadata": {
    "colab": {
     "base_uri": "https://localhost:8080/"
    },
    "id": "HCNpplZklL9V",
    "outputId": "07b81d67-6a2e-49f7-af4f-61efcb0628d4"
   },
   "outputs": [
    {
     "data": {
      "text/plain": [
       "Order ID            545\n",
       "Product             545\n",
       "Quantity Ordered    545\n",
       "Price Each          545\n",
       "Order Date          545\n",
       "Purchase Address    545\n",
       "dtype: int64"
      ]
     },
     "execution_count": 20,
     "metadata": {
      "tags": []
     },
     "output_type": "execute_result"
    }
   ],
   "source": [
    "df.isnull().sum(axis=0)"
   ]
  },
  {
   "cell_type": "markdown",
   "metadata": {
    "id": "nTAaBOZxlwSW"
   },
   "source": [
    "Affichon un df avec toutes les lignes qui ont au moins une valeur manquante"
   ]
  },
  {
   "cell_type": "code",
   "execution_count": 22,
   "metadata": {
    "colab": {
     "base_uri": "https://localhost:8080/",
     "height": 415
    },
    "id": "k_giM40ulj9r",
    "outputId": "6abf7428-67a6-4638-f238-ca4c93b6a791"
   },
   "outputs": [
    {
     "data": {
      "text/html": [
       "<div>\n",
       "<style scoped>\n",
       "    .dataframe tbody tr th:only-of-type {\n",
       "        vertical-align: middle;\n",
       "    }\n",
       "\n",
       "    .dataframe tbody tr th {\n",
       "        vertical-align: top;\n",
       "    }\n",
       "\n",
       "    .dataframe thead th {\n",
       "        text-align: right;\n",
       "    }\n",
       "</style>\n",
       "<table border=\"1\" class=\"dataframe\">\n",
       "  <thead>\n",
       "    <tr style=\"text-align: right;\">\n",
       "      <th></th>\n",
       "      <th>Order ID</th>\n",
       "      <th>Product</th>\n",
       "      <th>Quantity Ordered</th>\n",
       "      <th>Price Each</th>\n",
       "      <th>Order Date</th>\n",
       "      <th>Purchase Address</th>\n",
       "    </tr>\n",
       "  </thead>\n",
       "  <tbody>\n",
       "    <tr>\n",
       "      <th>199</th>\n",
       "      <td>NaN</td>\n",
       "      <td>NaN</td>\n",
       "      <td>NaN</td>\n",
       "      <td>NaN</td>\n",
       "      <td>NaN</td>\n",
       "      <td>NaN</td>\n",
       "    </tr>\n",
       "    <tr>\n",
       "      <th>315</th>\n",
       "      <td>NaN</td>\n",
       "      <td>NaN</td>\n",
       "      <td>NaN</td>\n",
       "      <td>NaN</td>\n",
       "      <td>NaN</td>\n",
       "      <td>NaN</td>\n",
       "    </tr>\n",
       "    <tr>\n",
       "      <th>599</th>\n",
       "      <td>NaN</td>\n",
       "      <td>NaN</td>\n",
       "      <td>NaN</td>\n",
       "      <td>NaN</td>\n",
       "      <td>NaN</td>\n",
       "      <td>NaN</td>\n",
       "    </tr>\n",
       "    <tr>\n",
       "      <th>675</th>\n",
       "      <td>NaN</td>\n",
       "      <td>NaN</td>\n",
       "      <td>NaN</td>\n",
       "      <td>NaN</td>\n",
       "      <td>NaN</td>\n",
       "      <td>NaN</td>\n",
       "    </tr>\n",
       "    <tr>\n",
       "      <th>1027</th>\n",
       "      <td>NaN</td>\n",
       "      <td>NaN</td>\n",
       "      <td>NaN</td>\n",
       "      <td>NaN</td>\n",
       "      <td>NaN</td>\n",
       "      <td>NaN</td>\n",
       "    </tr>\n",
       "    <tr>\n",
       "      <th>...</th>\n",
       "      <td>...</td>\n",
       "      <td>...</td>\n",
       "      <td>...</td>\n",
       "      <td>...</td>\n",
       "      <td>...</td>\n",
       "      <td>...</td>\n",
       "    </tr>\n",
       "    <tr>\n",
       "      <th>12567</th>\n",
       "      <td>NaN</td>\n",
       "      <td>NaN</td>\n",
       "      <td>NaN</td>\n",
       "      <td>NaN</td>\n",
       "      <td>NaN</td>\n",
       "      <td>NaN</td>\n",
       "    </tr>\n",
       "    <tr>\n",
       "      <th>12640</th>\n",
       "      <td>NaN</td>\n",
       "      <td>NaN</td>\n",
       "      <td>NaN</td>\n",
       "      <td>NaN</td>\n",
       "      <td>NaN</td>\n",
       "      <td>NaN</td>\n",
       "    </tr>\n",
       "    <tr>\n",
       "      <th>12659</th>\n",
       "      <td>NaN</td>\n",
       "      <td>NaN</td>\n",
       "      <td>NaN</td>\n",
       "      <td>NaN</td>\n",
       "      <td>NaN</td>\n",
       "      <td>NaN</td>\n",
       "    </tr>\n",
       "    <tr>\n",
       "      <th>12732</th>\n",
       "      <td>NaN</td>\n",
       "      <td>NaN</td>\n",
       "      <td>NaN</td>\n",
       "      <td>NaN</td>\n",
       "      <td>NaN</td>\n",
       "      <td>NaN</td>\n",
       "    </tr>\n",
       "    <tr>\n",
       "      <th>13352</th>\n",
       "      <td>NaN</td>\n",
       "      <td>NaN</td>\n",
       "      <td>NaN</td>\n",
       "      <td>NaN</td>\n",
       "      <td>NaN</td>\n",
       "      <td>NaN</td>\n",
       "    </tr>\n",
       "  </tbody>\n",
       "</table>\n",
       "<p>545 rows × 6 columns</p>\n",
       "</div>"
      ],
      "text/plain": [
       "      Order ID Product Quantity Ordered Price Each Order Date Purchase Address\n",
       "199        NaN     NaN              NaN        NaN        NaN              NaN\n",
       "315        NaN     NaN              NaN        NaN        NaN              NaN\n",
       "599        NaN     NaN              NaN        NaN        NaN              NaN\n",
       "675        NaN     NaN              NaN        NaN        NaN              NaN\n",
       "1027       NaN     NaN              NaN        NaN        NaN              NaN\n",
       "...        ...     ...              ...        ...        ...              ...\n",
       "12567      NaN     NaN              NaN        NaN        NaN              NaN\n",
       "12640      NaN     NaN              NaN        NaN        NaN              NaN\n",
       "12659      NaN     NaN              NaN        NaN        NaN              NaN\n",
       "12732      NaN     NaN              NaN        NaN        NaN              NaN\n",
       "13352      NaN     NaN              NaN        NaN        NaN              NaN\n",
       "\n",
       "[545 rows x 6 columns]"
      ]
     },
     "execution_count": 22,
     "metadata": {
      "tags": []
     },
     "output_type": "execute_result"
    }
   ],
   "source": [
    "val_manquantes = df[df.isnull().any(axis=1)]\n",
    "val_manquantes"
   ]
  },
  {
   "cell_type": "markdown",
   "metadata": {
    "id": "kLCZ_3Yyme83"
   },
   "source": [
    "Est-ce que toutes les lignes n'ont que des valeurs manquantes"
   ]
  },
  {
   "cell_type": "code",
   "execution_count": 24,
   "metadata": {
    "colab": {
     "base_uri": "https://localhost:8080/"
    },
    "id": "kVObj-g4mTSX",
    "outputId": "0a0f261f-1791-45d1-8f30-6ee3fc2112f6"
   },
   "outputs": [
    {
     "data": {
      "text/plain": [
       "Order ID            True\n",
       "Product             True\n",
       "Quantity Ordered    True\n",
       "Price Each          True\n",
       "Order Date          True\n",
       "Purchase Address    True\n",
       "dtype: bool"
      ]
     },
     "execution_count": 24,
     "metadata": {
      "tags": []
     },
     "output_type": "execute_result"
    }
   ],
   "source": [
    "val_manquantes.isnull().all()"
   ]
  },
  {
   "cell_type": "markdown",
   "metadata": {
    "id": "uwXzqNsgnJci"
   },
   "source": [
    "Supprimer toutes les lignes avec des valeurs manquantes: "
   ]
  },
  {
   "cell_type": "code",
   "execution_count": 25,
   "metadata": {
    "colab": {
     "base_uri": "https://localhost:8080/"
    },
    "id": "zCgsylZVn04N",
    "outputId": "426c9641-2a01-4f5f-db71-20aab7addb13"
   },
   "outputs": [
    {
     "data": {
      "text/plain": [
       "(186850, 6)"
      ]
     },
     "execution_count": 25,
     "metadata": {
      "tags": []
     },
     "output_type": "execute_result"
    }
   ],
   "source": [
    "df.shape"
   ]
  },
  {
   "cell_type": "code",
   "execution_count": 26,
   "metadata": {
    "id": "HMklY3wvmrs7"
   },
   "outputs": [],
   "source": [
    "df.dropna(inplace=True)"
   ]
  },
  {
   "cell_type": "code",
   "execution_count": 27,
   "metadata": {
    "colab": {
     "base_uri": "https://localhost:8080/"
    },
    "id": "FqLd2EdHn22X",
    "outputId": "2de04adf-d480-45ac-c690-bdc6aa95141a"
   },
   "outputs": [
    {
     "data": {
      "text/plain": [
       "(186305, 6)"
      ]
     },
     "execution_count": 27,
     "metadata": {
      "tags": []
     },
     "output_type": "execute_result"
    }
   ],
   "source": [
    "df.shape"
   ]
  },
  {
   "cell_type": "code",
   "execution_count": 28,
   "metadata": {
    "colab": {
     "base_uri": "https://localhost:8080/"
    },
    "id": "KvW88iuFn4EJ",
    "outputId": "49f645b9-52df-43c3-a447-a197a2f1f658"
   },
   "outputs": [
    {
     "data": {
      "text/plain": [
       "Order ID            False\n",
       "Product             False\n",
       "Quantity Ordered    False\n",
       "Price Each          False\n",
       "Order Date          False\n",
       "Purchase Address    False\n",
       "dtype: bool"
      ]
     },
     "execution_count": 28,
     "metadata": {
      "tags": []
     },
     "output_type": "execute_result"
    }
   ],
   "source": [
    "df.isnull().any()"
   ]
  },
  {
   "cell_type": "code",
   "execution_count": 29,
   "metadata": {
    "colab": {
     "base_uri": "https://localhost:8080/",
     "height": 171
    },
    "id": "J_7aimkjoByd",
    "outputId": "59b455a9-4768-4039-8650-8e2feb4d8d93"
   },
   "outputs": [
    {
     "data": {
      "text/html": [
       "<div>\n",
       "<style scoped>\n",
       "    .dataframe tbody tr th:only-of-type {\n",
       "        vertical-align: middle;\n",
       "    }\n",
       "\n",
       "    .dataframe tbody tr th {\n",
       "        vertical-align: top;\n",
       "    }\n",
       "\n",
       "    .dataframe thead th {\n",
       "        text-align: right;\n",
       "    }\n",
       "</style>\n",
       "<table border=\"1\" class=\"dataframe\">\n",
       "  <thead>\n",
       "    <tr style=\"text-align: right;\">\n",
       "      <th></th>\n",
       "      <th>Order ID</th>\n",
       "      <th>Product</th>\n",
       "      <th>Quantity Ordered</th>\n",
       "      <th>Price Each</th>\n",
       "      <th>Order Date</th>\n",
       "      <th>Purchase Address</th>\n",
       "    </tr>\n",
       "  </thead>\n",
       "  <tbody>\n",
       "    <tr>\n",
       "      <th>count</th>\n",
       "      <td>186305</td>\n",
       "      <td>186305</td>\n",
       "      <td>186305</td>\n",
       "      <td>186305</td>\n",
       "      <td>186305</td>\n",
       "      <td>186305</td>\n",
       "    </tr>\n",
       "    <tr>\n",
       "      <th>unique</th>\n",
       "      <td>178438</td>\n",
       "      <td>20</td>\n",
       "      <td>10</td>\n",
       "      <td>24</td>\n",
       "      <td>142396</td>\n",
       "      <td>140788</td>\n",
       "    </tr>\n",
       "    <tr>\n",
       "      <th>top</th>\n",
       "      <td>Order ID</td>\n",
       "      <td>USB-C Charging Cable</td>\n",
       "      <td>1</td>\n",
       "      <td>11.95</td>\n",
       "      <td>Order Date</td>\n",
       "      <td>Purchase Address</td>\n",
       "    </tr>\n",
       "    <tr>\n",
       "      <th>freq</th>\n",
       "      <td>355</td>\n",
       "      <td>21903</td>\n",
       "      <td>168552</td>\n",
       "      <td>21903</td>\n",
       "      <td>355</td>\n",
       "      <td>355</td>\n",
       "    </tr>\n",
       "  </tbody>\n",
       "</table>\n",
       "</div>"
      ],
      "text/plain": [
       "        Order ID               Product  ...  Order Date  Purchase Address\n",
       "count     186305                186305  ...      186305            186305\n",
       "unique    178438                    20  ...      142396            140788\n",
       "top     Order ID  USB-C Charging Cable  ...  Order Date  Purchase Address\n",
       "freq         355                 21903  ...         355               355\n",
       "\n",
       "[4 rows x 6 columns]"
      ]
     },
     "execution_count": 29,
     "metadata": {
      "tags": []
     },
     "output_type": "execute_result"
    }
   ],
   "source": [
    "df.describe()"
   ]
  },
  {
   "cell_type": "markdown",
   "metadata": {
    "id": "fNl-DtczoNbF"
   },
   "source": [
    "Débarassons-nous des lignes avec des valeurs abérantes"
   ]
  },
  {
   "cell_type": "code",
   "execution_count": 30,
   "metadata": {
    "colab": {
     "base_uri": "https://localhost:8080/",
     "height": 415
    },
    "id": "Z10JkeUcoFtQ",
    "outputId": "2241ccfe-6491-46d1-966b-01fd48e84a03"
   },
   "outputs": [
    {
     "data": {
      "text/html": [
       "<div>\n",
       "<style scoped>\n",
       "    .dataframe tbody tr th:only-of-type {\n",
       "        vertical-align: middle;\n",
       "    }\n",
       "\n",
       "    .dataframe tbody tr th {\n",
       "        vertical-align: top;\n",
       "    }\n",
       "\n",
       "    .dataframe thead th {\n",
       "        text-align: right;\n",
       "    }\n",
       "</style>\n",
       "<table border=\"1\" class=\"dataframe\">\n",
       "  <thead>\n",
       "    <tr style=\"text-align: right;\">\n",
       "      <th></th>\n",
       "      <th>Order ID</th>\n",
       "      <th>Product</th>\n",
       "      <th>Quantity Ordered</th>\n",
       "      <th>Price Each</th>\n",
       "      <th>Order Date</th>\n",
       "      <th>Purchase Address</th>\n",
       "    </tr>\n",
       "  </thead>\n",
       "  <tbody>\n",
       "    <tr>\n",
       "      <th>775</th>\n",
       "      <td>Order ID</td>\n",
       "      <td>Product</td>\n",
       "      <td>Quantity Ordered</td>\n",
       "      <td>Price Each</td>\n",
       "      <td>Order Date</td>\n",
       "      <td>Purchase Address</td>\n",
       "    </tr>\n",
       "    <tr>\n",
       "      <th>1391</th>\n",
       "      <td>Order ID</td>\n",
       "      <td>Product</td>\n",
       "      <td>Quantity Ordered</td>\n",
       "      <td>Price Each</td>\n",
       "      <td>Order Date</td>\n",
       "      <td>Purchase Address</td>\n",
       "    </tr>\n",
       "    <tr>\n",
       "      <th>1438</th>\n",
       "      <td>Order ID</td>\n",
       "      <td>Product</td>\n",
       "      <td>Quantity Ordered</td>\n",
       "      <td>Price Each</td>\n",
       "      <td>Order Date</td>\n",
       "      <td>Purchase Address</td>\n",
       "    </tr>\n",
       "    <tr>\n",
       "      <th>1624</th>\n",
       "      <td>Order ID</td>\n",
       "      <td>Product</td>\n",
       "      <td>Quantity Ordered</td>\n",
       "      <td>Price Each</td>\n",
       "      <td>Order Date</td>\n",
       "      <td>Purchase Address</td>\n",
       "    </tr>\n",
       "    <tr>\n",
       "      <th>1720</th>\n",
       "      <td>Order ID</td>\n",
       "      <td>Product</td>\n",
       "      <td>Quantity Ordered</td>\n",
       "      <td>Price Each</td>\n",
       "      <td>Order Date</td>\n",
       "      <td>Purchase Address</td>\n",
       "    </tr>\n",
       "    <tr>\n",
       "      <th>...</th>\n",
       "      <td>...</td>\n",
       "      <td>...</td>\n",
       "      <td>...</td>\n",
       "      <td>...</td>\n",
       "      <td>...</td>\n",
       "      <td>...</td>\n",
       "    </tr>\n",
       "    <tr>\n",
       "      <th>10443</th>\n",
       "      <td>Order ID</td>\n",
       "      <td>Product</td>\n",
       "      <td>Quantity Ordered</td>\n",
       "      <td>Price Each</td>\n",
       "      <td>Order Date</td>\n",
       "      <td>Purchase Address</td>\n",
       "    </tr>\n",
       "    <tr>\n",
       "      <th>10784</th>\n",
       "      <td>Order ID</td>\n",
       "      <td>Product</td>\n",
       "      <td>Quantity Ordered</td>\n",
       "      <td>Price Each</td>\n",
       "      <td>Order Date</td>\n",
       "      <td>Purchase Address</td>\n",
       "    </tr>\n",
       "    <tr>\n",
       "      <th>10813</th>\n",
       "      <td>Order ID</td>\n",
       "      <td>Product</td>\n",
       "      <td>Quantity Ordered</td>\n",
       "      <td>Price Each</td>\n",
       "      <td>Order Date</td>\n",
       "      <td>Purchase Address</td>\n",
       "    </tr>\n",
       "    <tr>\n",
       "      <th>11047</th>\n",
       "      <td>Order ID</td>\n",
       "      <td>Product</td>\n",
       "      <td>Quantity Ordered</td>\n",
       "      <td>Price Each</td>\n",
       "      <td>Order Date</td>\n",
       "      <td>Purchase Address</td>\n",
       "    </tr>\n",
       "    <tr>\n",
       "      <th>13304</th>\n",
       "      <td>Order ID</td>\n",
       "      <td>Product</td>\n",
       "      <td>Quantity Ordered</td>\n",
       "      <td>Price Each</td>\n",
       "      <td>Order Date</td>\n",
       "      <td>Purchase Address</td>\n",
       "    </tr>\n",
       "  </tbody>\n",
       "</table>\n",
       "<p>355 rows × 6 columns</p>\n",
       "</div>"
      ],
      "text/plain": [
       "       Order ID  Product  ...  Order Date  Purchase Address\n",
       "775    Order ID  Product  ...  Order Date  Purchase Address\n",
       "1391   Order ID  Product  ...  Order Date  Purchase Address\n",
       "1438   Order ID  Product  ...  Order Date  Purchase Address\n",
       "1624   Order ID  Product  ...  Order Date  Purchase Address\n",
       "1720   Order ID  Product  ...  Order Date  Purchase Address\n",
       "...         ...      ...  ...         ...               ...\n",
       "10443  Order ID  Product  ...  Order Date  Purchase Address\n",
       "10784  Order ID  Product  ...  Order Date  Purchase Address\n",
       "10813  Order ID  Product  ...  Order Date  Purchase Address\n",
       "11047  Order ID  Product  ...  Order Date  Purchase Address\n",
       "13304  Order ID  Product  ...  Order Date  Purchase Address\n",
       "\n",
       "[355 rows x 6 columns]"
      ]
     },
     "execution_count": 30,
     "metadata": {
      "tags": []
     },
     "output_type": "execute_result"
    }
   ],
   "source": [
    "df[df['Order Date'] == \"Order Date\"]"
   ]
  },
  {
   "cell_type": "code",
   "execution_count": 31,
   "metadata": {
    "colab": {
     "base_uri": "https://localhost:8080/"
    },
    "id": "h5lUogYvoqaX",
    "outputId": "cebbd13b-8776-409c-dd2a-b1f732c15ab0"
   },
   "outputs": [
    {
     "data": {
      "text/plain": [
       "True"
      ]
     },
     "execution_count": 31,
     "metadata": {
      "tags": []
     },
     "output_type": "execute_result"
    }
   ],
   "source": [
    "\"1548\".isdigit()"
   ]
  },
  {
   "cell_type": "code",
   "execution_count": 34,
   "metadata": {
    "colab": {
     "base_uri": "https://localhost:8080/",
     "height": 415
    },
    "id": "xufeA7Iko31W",
    "outputId": "c37449a4-bdc2-49f6-936d-3ef016c54f95"
   },
   "outputs": [
    {
     "data": {
      "text/html": [
       "<div>\n",
       "<style scoped>\n",
       "    .dataframe tbody tr th:only-of-type {\n",
       "        vertical-align: middle;\n",
       "    }\n",
       "\n",
       "    .dataframe tbody tr th {\n",
       "        vertical-align: top;\n",
       "    }\n",
       "\n",
       "    .dataframe thead th {\n",
       "        text-align: right;\n",
       "    }\n",
       "</style>\n",
       "<table border=\"1\" class=\"dataframe\">\n",
       "  <thead>\n",
       "    <tr style=\"text-align: right;\">\n",
       "      <th></th>\n",
       "      <th>Order ID</th>\n",
       "      <th>Product</th>\n",
       "      <th>Quantity Ordered</th>\n",
       "      <th>Price Each</th>\n",
       "      <th>Order Date</th>\n",
       "      <th>Purchase Address</th>\n",
       "    </tr>\n",
       "  </thead>\n",
       "  <tbody>\n",
       "    <tr>\n",
       "      <th>775</th>\n",
       "      <td>Order ID</td>\n",
       "      <td>Product</td>\n",
       "      <td>Quantity Ordered</td>\n",
       "      <td>Price Each</td>\n",
       "      <td>Order Date</td>\n",
       "      <td>Purchase Address</td>\n",
       "    </tr>\n",
       "    <tr>\n",
       "      <th>1391</th>\n",
       "      <td>Order ID</td>\n",
       "      <td>Product</td>\n",
       "      <td>Quantity Ordered</td>\n",
       "      <td>Price Each</td>\n",
       "      <td>Order Date</td>\n",
       "      <td>Purchase Address</td>\n",
       "    </tr>\n",
       "    <tr>\n",
       "      <th>1438</th>\n",
       "      <td>Order ID</td>\n",
       "      <td>Product</td>\n",
       "      <td>Quantity Ordered</td>\n",
       "      <td>Price Each</td>\n",
       "      <td>Order Date</td>\n",
       "      <td>Purchase Address</td>\n",
       "    </tr>\n",
       "    <tr>\n",
       "      <th>1624</th>\n",
       "      <td>Order ID</td>\n",
       "      <td>Product</td>\n",
       "      <td>Quantity Ordered</td>\n",
       "      <td>Price Each</td>\n",
       "      <td>Order Date</td>\n",
       "      <td>Purchase Address</td>\n",
       "    </tr>\n",
       "    <tr>\n",
       "      <th>1720</th>\n",
       "      <td>Order ID</td>\n",
       "      <td>Product</td>\n",
       "      <td>Quantity Ordered</td>\n",
       "      <td>Price Each</td>\n",
       "      <td>Order Date</td>\n",
       "      <td>Purchase Address</td>\n",
       "    </tr>\n",
       "    <tr>\n",
       "      <th>...</th>\n",
       "      <td>...</td>\n",
       "      <td>...</td>\n",
       "      <td>...</td>\n",
       "      <td>...</td>\n",
       "      <td>...</td>\n",
       "      <td>...</td>\n",
       "    </tr>\n",
       "    <tr>\n",
       "      <th>10443</th>\n",
       "      <td>Order ID</td>\n",
       "      <td>Product</td>\n",
       "      <td>Quantity Ordered</td>\n",
       "      <td>Price Each</td>\n",
       "      <td>Order Date</td>\n",
       "      <td>Purchase Address</td>\n",
       "    </tr>\n",
       "    <tr>\n",
       "      <th>10784</th>\n",
       "      <td>Order ID</td>\n",
       "      <td>Product</td>\n",
       "      <td>Quantity Ordered</td>\n",
       "      <td>Price Each</td>\n",
       "      <td>Order Date</td>\n",
       "      <td>Purchase Address</td>\n",
       "    </tr>\n",
       "    <tr>\n",
       "      <th>10813</th>\n",
       "      <td>Order ID</td>\n",
       "      <td>Product</td>\n",
       "      <td>Quantity Ordered</td>\n",
       "      <td>Price Each</td>\n",
       "      <td>Order Date</td>\n",
       "      <td>Purchase Address</td>\n",
       "    </tr>\n",
       "    <tr>\n",
       "      <th>11047</th>\n",
       "      <td>Order ID</td>\n",
       "      <td>Product</td>\n",
       "      <td>Quantity Ordered</td>\n",
       "      <td>Price Each</td>\n",
       "      <td>Order Date</td>\n",
       "      <td>Purchase Address</td>\n",
       "    </tr>\n",
       "    <tr>\n",
       "      <th>13304</th>\n",
       "      <td>Order ID</td>\n",
       "      <td>Product</td>\n",
       "      <td>Quantity Ordered</td>\n",
       "      <td>Price Each</td>\n",
       "      <td>Order Date</td>\n",
       "      <td>Purchase Address</td>\n",
       "    </tr>\n",
       "  </tbody>\n",
       "</table>\n",
       "<p>355 rows × 6 columns</p>\n",
       "</div>"
      ],
      "text/plain": [
       "       Order ID  Product  ...  Order Date  Purchase Address\n",
       "775    Order ID  Product  ...  Order Date  Purchase Address\n",
       "1391   Order ID  Product  ...  Order Date  Purchase Address\n",
       "1438   Order ID  Product  ...  Order Date  Purchase Address\n",
       "1624   Order ID  Product  ...  Order Date  Purchase Address\n",
       "1720   Order ID  Product  ...  Order Date  Purchase Address\n",
       "...         ...      ...  ...         ...               ...\n",
       "10443  Order ID  Product  ...  Order Date  Purchase Address\n",
       "10784  Order ID  Product  ...  Order Date  Purchase Address\n",
       "10813  Order ID  Product  ...  Order Date  Purchase Address\n",
       "11047  Order ID  Product  ...  Order Date  Purchase Address\n",
       "13304  Order ID  Product  ...  Order Date  Purchase Address\n",
       "\n",
       "[355 rows x 6 columns]"
      ]
     },
     "execution_count": 34,
     "metadata": {
      "tags": []
     },
     "output_type": "execute_result"
    }
   ],
   "source": [
    "df.loc[~df['Order ID'].str.isdigit(), : ]"
   ]
  },
  {
   "cell_type": "code",
   "execution_count": 35,
   "metadata": {
    "colab": {
     "base_uri": "https://localhost:8080/",
     "height": 606
    },
    "id": "BQe2n3mdpJX8",
    "outputId": "4e6b27d3-43b4-48c9-d373-087d8e430084"
   },
   "outputs": [
    {
     "data": {
      "text/html": [
       "<div>\n",
       "<style scoped>\n",
       "    .dataframe tbody tr th:only-of-type {\n",
       "        vertical-align: middle;\n",
       "    }\n",
       "\n",
       "    .dataframe tbody tr th {\n",
       "        vertical-align: top;\n",
       "    }\n",
       "\n",
       "    .dataframe thead th {\n",
       "        text-align: right;\n",
       "    }\n",
       "</style>\n",
       "<table border=\"1\" class=\"dataframe\">\n",
       "  <thead>\n",
       "    <tr style=\"text-align: right;\">\n",
       "      <th></th>\n",
       "      <th>Order ID</th>\n",
       "      <th>Product</th>\n",
       "      <th>Quantity Ordered</th>\n",
       "      <th>Price Each</th>\n",
       "      <th>Order Date</th>\n",
       "      <th>Purchase Address</th>\n",
       "    </tr>\n",
       "  </thead>\n",
       "  <tbody>\n",
       "    <tr>\n",
       "      <th>2</th>\n",
       "      <td>222912</td>\n",
       "      <td>AA Batteries (4-pack)</td>\n",
       "      <td>1</td>\n",
       "      <td>3.84</td>\n",
       "      <td>07/29/19 12:41</td>\n",
       "      <td>861 Hill St, Atlanta, GA 30301</td>\n",
       "    </tr>\n",
       "    <tr>\n",
       "      <th>3</th>\n",
       "      <td>222913</td>\n",
       "      <td>AA Batteries (4-pack)</td>\n",
       "      <td>1</td>\n",
       "      <td>3.84</td>\n",
       "      <td>07/28/19 10:15</td>\n",
       "      <td>190 Ridge St, Atlanta, GA 30301</td>\n",
       "    </tr>\n",
       "    <tr>\n",
       "      <th>4</th>\n",
       "      <td>222914</td>\n",
       "      <td>AAA Batteries (4-pack)</td>\n",
       "      <td>5</td>\n",
       "      <td>2.99</td>\n",
       "      <td>07/31/19 02:13</td>\n",
       "      <td>824 Forest St, Seattle, WA 98101</td>\n",
       "    </tr>\n",
       "    <tr>\n",
       "      <th>5</th>\n",
       "      <td>222915</td>\n",
       "      <td>Bose SoundSport Headphones</td>\n",
       "      <td>1</td>\n",
       "      <td>99.99</td>\n",
       "      <td>07/03/19 18:30</td>\n",
       "      <td>899 Elm St, San Francisco, CA 94016</td>\n",
       "    </tr>\n",
       "    <tr>\n",
       "      <th>6</th>\n",
       "      <td>222916</td>\n",
       "      <td>Google Phone</td>\n",
       "      <td>1</td>\n",
       "      <td>600</td>\n",
       "      <td>07/21/19 22:39</td>\n",
       "      <td>745 Chestnut St, New York City, NY 10001</td>\n",
       "    </tr>\n",
       "    <tr>\n",
       "      <th>...</th>\n",
       "      <td>...</td>\n",
       "      <td>...</td>\n",
       "      <td>...</td>\n",
       "      <td>...</td>\n",
       "      <td>...</td>\n",
       "      <td>...</td>\n",
       "    </tr>\n",
       "    <tr>\n",
       "      <th>13617</th>\n",
       "      <td>222905</td>\n",
       "      <td>AAA Batteries (4-pack)</td>\n",
       "      <td>1</td>\n",
       "      <td>2.99</td>\n",
       "      <td>06/07/19 19:02</td>\n",
       "      <td>795 Pine St, Boston, MA 02215</td>\n",
       "    </tr>\n",
       "    <tr>\n",
       "      <th>13618</th>\n",
       "      <td>222906</td>\n",
       "      <td>27in FHD Monitor</td>\n",
       "      <td>1</td>\n",
       "      <td>149.99</td>\n",
       "      <td>06/01/19 19:29</td>\n",
       "      <td>495 North St, New York City, NY 10001</td>\n",
       "    </tr>\n",
       "    <tr>\n",
       "      <th>13619</th>\n",
       "      <td>222907</td>\n",
       "      <td>USB-C Charging Cable</td>\n",
       "      <td>1</td>\n",
       "      <td>11.95</td>\n",
       "      <td>06/22/19 18:57</td>\n",
       "      <td>319 Ridge St, San Francisco, CA 94016</td>\n",
       "    </tr>\n",
       "    <tr>\n",
       "      <th>13620</th>\n",
       "      <td>222908</td>\n",
       "      <td>USB-C Charging Cable</td>\n",
       "      <td>1</td>\n",
       "      <td>11.95</td>\n",
       "      <td>06/26/19 18:35</td>\n",
       "      <td>916 Main St, San Francisco, CA 94016</td>\n",
       "    </tr>\n",
       "    <tr>\n",
       "      <th>13621</th>\n",
       "      <td>222909</td>\n",
       "      <td>AAA Batteries (4-pack)</td>\n",
       "      <td>1</td>\n",
       "      <td>2.99</td>\n",
       "      <td>06/25/19 14:33</td>\n",
       "      <td>209 11th St, Atlanta, GA 30301</td>\n",
       "    </tr>\n",
       "  </tbody>\n",
       "</table>\n",
       "<p>186282 rows × 6 columns</p>\n",
       "</div>"
      ],
      "text/plain": [
       "      Order ID  ...                          Purchase Address\n",
       "2       222912  ...            861 Hill St, Atlanta, GA 30301\n",
       "3       222913  ...           190 Ridge St, Atlanta, GA 30301\n",
       "4       222914  ...          824 Forest St, Seattle, WA 98101\n",
       "5       222915  ...       899 Elm St, San Francisco, CA 94016\n",
       "6       222916  ...  745 Chestnut St, New York City, NY 10001\n",
       "...        ...  ...                                       ...\n",
       "13617   222905  ...             795 Pine St, Boston, MA 02215\n",
       "13618   222906  ...     495 North St, New York City, NY 10001\n",
       "13619   222907  ...     319 Ridge St, San Francisco, CA 94016\n",
       "13620   222908  ...      916 Main St, San Francisco, CA 94016\n",
       "13621   222909  ...            209 11th St, Atlanta, GA 30301\n",
       "\n",
       "[186282 rows x 6 columns]"
      ]
     },
     "execution_count": 35,
     "metadata": {
      "tags": []
     },
     "output_type": "execute_result"
    }
   ],
   "source": [
    "df.drop(df['Order Date'] == \"Order Date\")"
   ]
  },
  {
   "cell_type": "code",
   "execution_count": 43,
   "metadata": {
    "id": "BPgb1-0Ip3lD"
   },
   "outputs": [],
   "source": [
    "df_clean = df.drop(df.loc[df['Order Date'] == \"Order Date\", :].index)"
   ]
  },
  {
   "cell_type": "code",
   "execution_count": 44,
   "metadata": {
    "colab": {
     "base_uri": "https://localhost:8080/",
     "height": 49
    },
    "id": "8bka_lRUrDge",
    "outputId": "9c9659c2-7590-41d5-c4f6-b953585418b6"
   },
   "outputs": [
    {
     "data": {
      "text/html": [
       "<div>\n",
       "<style scoped>\n",
       "    .dataframe tbody tr th:only-of-type {\n",
       "        vertical-align: middle;\n",
       "    }\n",
       "\n",
       "    .dataframe tbody tr th {\n",
       "        vertical-align: top;\n",
       "    }\n",
       "\n",
       "    .dataframe thead th {\n",
       "        text-align: right;\n",
       "    }\n",
       "</style>\n",
       "<table border=\"1\" class=\"dataframe\">\n",
       "  <thead>\n",
       "    <tr style=\"text-align: right;\">\n",
       "      <th></th>\n",
       "      <th>Order ID</th>\n",
       "      <th>Product</th>\n",
       "      <th>Quantity Ordered</th>\n",
       "      <th>Price Each</th>\n",
       "      <th>Order Date</th>\n",
       "      <th>Purchase Address</th>\n",
       "    </tr>\n",
       "  </thead>\n",
       "  <tbody>\n",
       "  </tbody>\n",
       "</table>\n",
       "</div>"
      ],
      "text/plain": [
       "Empty DataFrame\n",
       "Columns: [Order ID, Product, Quantity Ordered, Price Each, Order Date, Purchase Address]\n",
       "Index: []"
      ]
     },
     "execution_count": 44,
     "metadata": {
      "tags": []
     },
     "output_type": "execute_result"
    }
   ],
   "source": [
    "df_clean.loc[~df_clean['Order ID'].str.isdigit(), : ]"
   ]
  },
  {
   "cell_type": "markdown",
   "metadata": {
    "id": "2RnhyvXNqFtl"
   },
   "source": [
    "Changement des Types"
   ]
  },
  {
   "cell_type": "code",
   "execution_count": 45,
   "metadata": {
    "colab": {
     "base_uri": "https://localhost:8080/",
     "height": 306
    },
    "id": "r5y2c1otp_0G",
    "outputId": "fd9ce2a7-45ff-4db9-cc0d-eb53900b5a4f"
   },
   "outputs": [
    {
     "data": {
      "text/html": [
       "<div>\n",
       "<style scoped>\n",
       "    .dataframe tbody tr th:only-of-type {\n",
       "        vertical-align: middle;\n",
       "    }\n",
       "\n",
       "    .dataframe tbody tr th {\n",
       "        vertical-align: top;\n",
       "    }\n",
       "\n",
       "    .dataframe thead th {\n",
       "        text-align: right;\n",
       "    }\n",
       "</style>\n",
       "<table border=\"1\" class=\"dataframe\">\n",
       "  <thead>\n",
       "    <tr style=\"text-align: right;\">\n",
       "      <th></th>\n",
       "      <th>Order ID</th>\n",
       "      <th>Product</th>\n",
       "      <th>Quantity Ordered</th>\n",
       "      <th>Price Each</th>\n",
       "      <th>Order Date</th>\n",
       "      <th>Purchase Address</th>\n",
       "    </tr>\n",
       "  </thead>\n",
       "  <tbody>\n",
       "    <tr>\n",
       "      <th>0</th>\n",
       "      <td>222910</td>\n",
       "      <td>Apple Airpods Headphones</td>\n",
       "      <td>1</td>\n",
       "      <td>150</td>\n",
       "      <td>07/26/19 16:51</td>\n",
       "      <td>389 South St, Atlanta, GA 30301</td>\n",
       "    </tr>\n",
       "    <tr>\n",
       "      <th>1</th>\n",
       "      <td>222911</td>\n",
       "      <td>Flatscreen TV</td>\n",
       "      <td>1</td>\n",
       "      <td>300</td>\n",
       "      <td>07/05/19 08:55</td>\n",
       "      <td>590 4th St, Seattle, WA 98101</td>\n",
       "    </tr>\n",
       "    <tr>\n",
       "      <th>2</th>\n",
       "      <td>222912</td>\n",
       "      <td>AA Batteries (4-pack)</td>\n",
       "      <td>1</td>\n",
       "      <td>3.84</td>\n",
       "      <td>07/29/19 12:41</td>\n",
       "      <td>861 Hill St, Atlanta, GA 30301</td>\n",
       "    </tr>\n",
       "    <tr>\n",
       "      <th>3</th>\n",
       "      <td>222913</td>\n",
       "      <td>AA Batteries (4-pack)</td>\n",
       "      <td>1</td>\n",
       "      <td>3.84</td>\n",
       "      <td>07/28/19 10:15</td>\n",
       "      <td>190 Ridge St, Atlanta, GA 30301</td>\n",
       "    </tr>\n",
       "    <tr>\n",
       "      <th>4</th>\n",
       "      <td>222914</td>\n",
       "      <td>AAA Batteries (4-pack)</td>\n",
       "      <td>5</td>\n",
       "      <td>2.99</td>\n",
       "      <td>07/31/19 02:13</td>\n",
       "      <td>824 Forest St, Seattle, WA 98101</td>\n",
       "    </tr>\n",
       "  </tbody>\n",
       "</table>\n",
       "</div>"
      ],
      "text/plain": [
       "  Order ID  ...                  Purchase Address\n",
       "0   222910  ...   389 South St, Atlanta, GA 30301\n",
       "1   222911  ...     590 4th St, Seattle, WA 98101\n",
       "2   222912  ...    861 Hill St, Atlanta, GA 30301\n",
       "3   222913  ...   190 Ridge St, Atlanta, GA 30301\n",
       "4   222914  ...  824 Forest St, Seattle, WA 98101\n",
       "\n",
       "[5 rows x 6 columns]"
      ]
     },
     "execution_count": 45,
     "metadata": {
      "tags": []
     },
     "output_type": "execute_result"
    }
   ],
   "source": [
    "df_clean.head()"
   ]
  },
  {
   "cell_type": "code",
   "execution_count": 46,
   "metadata": {
    "colab": {
     "base_uri": "https://localhost:8080/"
    },
    "id": "5ZOQtW39qKtb",
    "outputId": "9c42716b-21bd-46a8-c83c-aec6b2a3b39d"
   },
   "outputs": [
    {
     "name": "stderr",
     "output_type": "stream",
     "text": [
      "/usr/local/lib/python3.7/dist-packages/ipykernel_launcher.py:1: SettingWithCopyWarning: \n",
      "A value is trying to be set on a copy of a slice from a DataFrame.\n",
      "Try using .loc[row_indexer,col_indexer] = value instead\n",
      "\n",
      "See the caveats in the documentation: https://pandas.pydata.org/pandas-docs/stable/user_guide/indexing.html#returning-a-view-versus-a-copy\n",
      "  \"\"\"Entry point for launching an IPython kernel.\n"
     ]
    }
   ],
   "source": [
    "df_clean['Quantity Ordered'] = pd.to_numeric(df_clean['Quantity Ordered'])\n",
    "# df_clean['Quantity Ordered'] = df_clean['Quantity Ordered'].astype('int')"
   ]
  },
  {
   "cell_type": "code",
   "execution_count": 48,
   "metadata": {
    "colab": {
     "base_uri": "https://localhost:8080/"
    },
    "id": "zjqb7KUPq-uX",
    "outputId": "4c914476-d175-4b7b-eec1-db3dad50c74a"
   },
   "outputs": [
    {
     "name": "stderr",
     "output_type": "stream",
     "text": [
      "/usr/local/lib/python3.7/dist-packages/ipykernel_launcher.py:1: SettingWithCopyWarning: \n",
      "A value is trying to be set on a copy of a slice from a DataFrame.\n",
      "Try using .loc[row_indexer,col_indexer] = value instead\n",
      "\n",
      "See the caveats in the documentation: https://pandas.pydata.org/pandas-docs/stable/user_guide/indexing.html#returning-a-view-versus-a-copy\n",
      "  \"\"\"Entry point for launching an IPython kernel.\n"
     ]
    }
   ],
   "source": [
    "df_clean['Price Each'] = pd.to_numeric(df_clean['Price Each'])"
   ]
  },
  {
   "cell_type": "code",
   "execution_count": 49,
   "metadata": {
    "colab": {
     "base_uri": "https://localhost:8080/"
    },
    "id": "go-5k6lwr5pe",
    "outputId": "be663e19-7265-4dcd-e49f-50de00e95af3"
   },
   "outputs": [
    {
     "name": "stdout",
     "output_type": "stream",
     "text": [
      "<class 'pandas.core.frame.DataFrame'>\n",
      "Int64Index: 182735 entries, 0 to 13621\n",
      "Data columns (total 6 columns):\n",
      " #   Column            Non-Null Count   Dtype  \n",
      "---  ------            --------------   -----  \n",
      " 0   Order ID          182735 non-null  object \n",
      " 1   Product           182735 non-null  object \n",
      " 2   Quantity Ordered  182735 non-null  int64  \n",
      " 3   Price Each        182735 non-null  float64\n",
      " 4   Order Date        182735 non-null  object \n",
      " 5   Purchase Address  182735 non-null  object \n",
      "dtypes: float64(1), int64(1), object(4)\n",
      "memory usage: 9.8+ MB\n"
     ]
    }
   ],
   "source": [
    "df_clean.info()"
   ]
  },
  {
   "cell_type": "code",
   "execution_count": 50,
   "metadata": {
    "colab": {
     "base_uri": "https://localhost:8080/"
    },
    "id": "j5DmptSxr-IO",
    "outputId": "a10e068a-b5ee-49fa-9754-aea89ca05aba"
   },
   "outputs": [
    {
     "name": "stderr",
     "output_type": "stream",
     "text": [
      "/usr/local/lib/python3.7/dist-packages/ipykernel_launcher.py:1: SettingWithCopyWarning: \n",
      "A value is trying to be set on a copy of a slice from a DataFrame.\n",
      "Try using .loc[row_indexer,col_indexer] = value instead\n",
      "\n",
      "See the caveats in the documentation: https://pandas.pydata.org/pandas-docs/stable/user_guide/indexing.html#returning-a-view-versus-a-copy\n",
      "  \"\"\"Entry point for launching an IPython kernel.\n"
     ]
    }
   ],
   "source": [
    "df_clean['Order Date'] = pd.to_datetime(df_clean['Order Date'])"
   ]
  },
  {
   "cell_type": "code",
   "execution_count": 51,
   "metadata": {
    "colab": {
     "base_uri": "https://localhost:8080/"
    },
    "id": "zbwJvYk5sJSO",
    "outputId": "479db95a-8790-41fb-c2a7-f399ecfb8355"
   },
   "outputs": [
    {
     "name": "stdout",
     "output_type": "stream",
     "text": [
      "<class 'pandas.core.frame.DataFrame'>\n",
      "Int64Index: 182735 entries, 0 to 13621\n",
      "Data columns (total 6 columns):\n",
      " #   Column            Non-Null Count   Dtype         \n",
      "---  ------            --------------   -----         \n",
      " 0   Order ID          182735 non-null  object        \n",
      " 1   Product           182735 non-null  object        \n",
      " 2   Quantity Ordered  182735 non-null  int64         \n",
      " 3   Price Each        182735 non-null  float64       \n",
      " 4   Order Date        182735 non-null  datetime64[ns]\n",
      " 5   Purchase Address  182735 non-null  object        \n",
      "dtypes: datetime64[ns](1), float64(1), int64(1), object(3)\n",
      "memory usage: 9.8+ MB\n"
     ]
    }
   ],
   "source": [
    "df_clean.info()"
   ]
  },
  {
   "cell_type": "code",
   "execution_count": 52,
   "metadata": {
    "colab": {
     "base_uri": "https://localhost:8080/"
    },
    "id": "OhkKSeQGskID",
    "outputId": "eee10efa-3c89-4558-dc5f-39cc43fbc111"
   },
   "outputs": [
    {
     "data": {
      "text/plain": [
       "0        07/26/19 16:51\n",
       "1        07/05/19 08:55\n",
       "2        07/29/19 12:41\n",
       "3        07/28/19 10:15\n",
       "4        07/31/19 02:13\n",
       "              ...      \n",
       "13617    06/07/19 19:02\n",
       "13618    06/01/19 19:29\n",
       "13619    06/22/19 18:57\n",
       "13620    06/26/19 18:35\n",
       "13621    06/25/19 14:33\n",
       "Name: Order Date, Length: 186305, dtype: object"
      ]
     },
     "execution_count": 52,
     "metadata": {
      "tags": []
     },
     "output_type": "execute_result"
    }
   ],
   "source": [
    "df['Order Date']"
   ]
  },
  {
   "cell_type": "code",
   "execution_count": 53,
   "metadata": {
    "colab": {
     "base_uri": "https://localhost:8080/"
    },
    "id": "KcDUXX-Msvcw",
    "outputId": "3cef5abe-74cc-42e4-e60f-179a79e4b735"
   },
   "outputs": [
    {
     "data": {
      "text/plain": [
       "0       2019-07-26 16:51:00\n",
       "1       2019-07-05 08:55:00\n",
       "2       2019-07-29 12:41:00\n",
       "3       2019-07-28 10:15:00\n",
       "4       2019-07-31 02:13:00\n",
       "                ...        \n",
       "13617   2019-06-07 19:02:00\n",
       "13618   2019-06-01 19:29:00\n",
       "13619   2019-06-22 18:57:00\n",
       "13620   2019-06-26 18:35:00\n",
       "13621   2019-06-25 14:33:00\n",
       "Name: Order Date, Length: 182735, dtype: datetime64[ns]"
      ]
     },
     "execution_count": 53,
     "metadata": {
      "tags": []
     },
     "output_type": "execute_result"
    }
   ],
   "source": [
    "df_clean['Order Date']"
   ]
  },
  {
   "cell_type": "markdown",
   "metadata": {
    "id": "GilkeYhpsdIM"
   },
   "source": [
    "## Analyse Exploratoire proprement dite"
   ]
  },
  {
   "cell_type": "markdown",
   "metadata": {
    "id": "TjhtLeBvs9ib"
   },
   "source": [
    "## Quel est le meilleur mois de vente ? et Quel est le chiffre d'affaires de ce mois ?"
   ]
  },
  {
   "cell_type": "code",
   "execution_count": 54,
   "metadata": {
    "colab": {
     "base_uri": "https://localhost:8080/",
     "height": 306
    },
    "id": "MaM7ag8esTPU",
    "outputId": "51f6343e-34b1-44cc-bf69-94ea55e9b65e"
   },
   "outputs": [
    {
     "data": {
      "text/html": [
       "<div>\n",
       "<style scoped>\n",
       "    .dataframe tbody tr th:only-of-type {\n",
       "        vertical-align: middle;\n",
       "    }\n",
       "\n",
       "    .dataframe tbody tr th {\n",
       "        vertical-align: top;\n",
       "    }\n",
       "\n",
       "    .dataframe thead th {\n",
       "        text-align: right;\n",
       "    }\n",
       "</style>\n",
       "<table border=\"1\" class=\"dataframe\">\n",
       "  <thead>\n",
       "    <tr style=\"text-align: right;\">\n",
       "      <th></th>\n",
       "      <th>Order ID</th>\n",
       "      <th>Product</th>\n",
       "      <th>Quantity Ordered</th>\n",
       "      <th>Price Each</th>\n",
       "      <th>Order Date</th>\n",
       "      <th>Purchase Address</th>\n",
       "    </tr>\n",
       "  </thead>\n",
       "  <tbody>\n",
       "    <tr>\n",
       "      <th>0</th>\n",
       "      <td>222910</td>\n",
       "      <td>Apple Airpods Headphones</td>\n",
       "      <td>1</td>\n",
       "      <td>150.00</td>\n",
       "      <td>2019-07-26 16:51:00</td>\n",
       "      <td>389 South St, Atlanta, GA 30301</td>\n",
       "    </tr>\n",
       "    <tr>\n",
       "      <th>1</th>\n",
       "      <td>222911</td>\n",
       "      <td>Flatscreen TV</td>\n",
       "      <td>1</td>\n",
       "      <td>300.00</td>\n",
       "      <td>2019-07-05 08:55:00</td>\n",
       "      <td>590 4th St, Seattle, WA 98101</td>\n",
       "    </tr>\n",
       "    <tr>\n",
       "      <th>2</th>\n",
       "      <td>222912</td>\n",
       "      <td>AA Batteries (4-pack)</td>\n",
       "      <td>1</td>\n",
       "      <td>3.84</td>\n",
       "      <td>2019-07-29 12:41:00</td>\n",
       "      <td>861 Hill St, Atlanta, GA 30301</td>\n",
       "    </tr>\n",
       "    <tr>\n",
       "      <th>3</th>\n",
       "      <td>222913</td>\n",
       "      <td>AA Batteries (4-pack)</td>\n",
       "      <td>1</td>\n",
       "      <td>3.84</td>\n",
       "      <td>2019-07-28 10:15:00</td>\n",
       "      <td>190 Ridge St, Atlanta, GA 30301</td>\n",
       "    </tr>\n",
       "    <tr>\n",
       "      <th>4</th>\n",
       "      <td>222914</td>\n",
       "      <td>AAA Batteries (4-pack)</td>\n",
       "      <td>5</td>\n",
       "      <td>2.99</td>\n",
       "      <td>2019-07-31 02:13:00</td>\n",
       "      <td>824 Forest St, Seattle, WA 98101</td>\n",
       "    </tr>\n",
       "  </tbody>\n",
       "</table>\n",
       "</div>"
      ],
      "text/plain": [
       "  Order ID  ...                  Purchase Address\n",
       "0   222910  ...   389 South St, Atlanta, GA 30301\n",
       "1   222911  ...     590 4th St, Seattle, WA 98101\n",
       "2   222912  ...    861 Hill St, Atlanta, GA 30301\n",
       "3   222913  ...   190 Ridge St, Atlanta, GA 30301\n",
       "4   222914  ...  824 Forest St, Seattle, WA 98101\n",
       "\n",
       "[5 rows x 6 columns]"
      ]
     },
     "execution_count": 54,
     "metadata": {
      "tags": []
     },
     "output_type": "execute_result"
    }
   ],
   "source": [
    "df_clean.head()"
   ]
  },
  {
   "cell_type": "code",
   "execution_count": 55,
   "metadata": {
    "colab": {
     "base_uri": "https://localhost:8080/"
    },
    "id": "dgo-F4ZmtcDj",
    "outputId": "147cad9a-d099-40a5-d20c-d266efc2a687"
   },
   "outputs": [
    {
     "data": {
      "text/plain": [
       "Int64Index([    0,     1,     2,     3,     4,     5,     6,     7,     8,\n",
       "                9,\n",
       "            ...\n",
       "            13612, 13613, 13614, 13615, 13616, 13617, 13618, 13619, 13620,\n",
       "            13621],\n",
       "           dtype='int64', length=182735)"
      ]
     },
     "execution_count": 55,
     "metadata": {
      "tags": []
     },
     "output_type": "execute_result"
    }
   ],
   "source": [
    "df_clean.index"
   ]
  },
  {
   "cell_type": "code",
   "execution_count": 56,
   "metadata": {
    "id": "g_lAeWm1tgn0"
   },
   "outputs": [],
   "source": [
    "df_clean  = df_clean.set_index('Order Date')"
   ]
  },
  {
   "cell_type": "code",
   "execution_count": 58,
   "metadata": {
    "colab": {
     "base_uri": "https://localhost:8080/",
     "height": 337
    },
    "id": "597mOhnKtniD",
    "outputId": "dfba60cd-9ba2-4da0-e4f0-360a763e1d26"
   },
   "outputs": [
    {
     "data": {
      "text/html": [
       "<div>\n",
       "<style scoped>\n",
       "    .dataframe tbody tr th:only-of-type {\n",
       "        vertical-align: middle;\n",
       "    }\n",
       "\n",
       "    .dataframe tbody tr th {\n",
       "        vertical-align: top;\n",
       "    }\n",
       "\n",
       "    .dataframe thead th {\n",
       "        text-align: right;\n",
       "    }\n",
       "</style>\n",
       "<table border=\"1\" class=\"dataframe\">\n",
       "  <thead>\n",
       "    <tr style=\"text-align: right;\">\n",
       "      <th></th>\n",
       "      <th>Order ID</th>\n",
       "      <th>Product</th>\n",
       "      <th>Quantity Ordered</th>\n",
       "      <th>Price Each</th>\n",
       "      <th>Purchase Address</th>\n",
       "    </tr>\n",
       "    <tr>\n",
       "      <th>Order Date</th>\n",
       "      <th></th>\n",
       "      <th></th>\n",
       "      <th></th>\n",
       "      <th></th>\n",
       "      <th></th>\n",
       "    </tr>\n",
       "  </thead>\n",
       "  <tbody>\n",
       "    <tr>\n",
       "      <th>2019-07-26 16:51:00</th>\n",
       "      <td>222910</td>\n",
       "      <td>Apple Airpods Headphones</td>\n",
       "      <td>1</td>\n",
       "      <td>150.00</td>\n",
       "      <td>389 South St, Atlanta, GA 30301</td>\n",
       "    </tr>\n",
       "    <tr>\n",
       "      <th>2019-07-05 08:55:00</th>\n",
       "      <td>222911</td>\n",
       "      <td>Flatscreen TV</td>\n",
       "      <td>1</td>\n",
       "      <td>300.00</td>\n",
       "      <td>590 4th St, Seattle, WA 98101</td>\n",
       "    </tr>\n",
       "    <tr>\n",
       "      <th>2019-07-29 12:41:00</th>\n",
       "      <td>222912</td>\n",
       "      <td>AA Batteries (4-pack)</td>\n",
       "      <td>1</td>\n",
       "      <td>3.84</td>\n",
       "      <td>861 Hill St, Atlanta, GA 30301</td>\n",
       "    </tr>\n",
       "    <tr>\n",
       "      <th>2019-07-28 10:15:00</th>\n",
       "      <td>222913</td>\n",
       "      <td>AA Batteries (4-pack)</td>\n",
       "      <td>1</td>\n",
       "      <td>3.84</td>\n",
       "      <td>190 Ridge St, Atlanta, GA 30301</td>\n",
       "    </tr>\n",
       "    <tr>\n",
       "      <th>2019-07-31 02:13:00</th>\n",
       "      <td>222914</td>\n",
       "      <td>AAA Batteries (4-pack)</td>\n",
       "      <td>5</td>\n",
       "      <td>2.99</td>\n",
       "      <td>824 Forest St, Seattle, WA 98101</td>\n",
       "    </tr>\n",
       "  </tbody>\n",
       "</table>\n",
       "</div>"
      ],
      "text/plain": [
       "                    Order ID  ...                  Purchase Address\n",
       "Order Date                    ...                                  \n",
       "2019-07-26 16:51:00   222910  ...   389 South St, Atlanta, GA 30301\n",
       "2019-07-05 08:55:00   222911  ...     590 4th St, Seattle, WA 98101\n",
       "2019-07-29 12:41:00   222912  ...    861 Hill St, Atlanta, GA 30301\n",
       "2019-07-28 10:15:00   222913  ...   190 Ridge St, Atlanta, GA 30301\n",
       "2019-07-31 02:13:00   222914  ...  824 Forest St, Seattle, WA 98101\n",
       "\n",
       "[5 rows x 5 columns]"
      ]
     },
     "execution_count": 58,
     "metadata": {
      "tags": []
     },
     "output_type": "execute_result"
    }
   ],
   "source": [
    "df_clean.head()"
   ]
  },
  {
   "cell_type": "code",
   "execution_count": 60,
   "metadata": {
    "id": "gNP_oRjit2Yi"
   },
   "outputs": [],
   "source": [
    "df_clean.sort_index(inplace=True)"
   ]
  },
  {
   "cell_type": "code",
   "execution_count": 61,
   "metadata": {
    "colab": {
     "base_uri": "https://localhost:8080/",
     "height": 337
    },
    "id": "byvuiiWuuA6u",
    "outputId": "e8ac58cc-b860-4c97-9936-555b7edaf8dd"
   },
   "outputs": [
    {
     "data": {
      "text/html": [
       "<div>\n",
       "<style scoped>\n",
       "    .dataframe tbody tr th:only-of-type {\n",
       "        vertical-align: middle;\n",
       "    }\n",
       "\n",
       "    .dataframe tbody tr th {\n",
       "        vertical-align: top;\n",
       "    }\n",
       "\n",
       "    .dataframe thead th {\n",
       "        text-align: right;\n",
       "    }\n",
       "</style>\n",
       "<table border=\"1\" class=\"dataframe\">\n",
       "  <thead>\n",
       "    <tr style=\"text-align: right;\">\n",
       "      <th></th>\n",
       "      <th>Order ID</th>\n",
       "      <th>Product</th>\n",
       "      <th>Quantity Ordered</th>\n",
       "      <th>Price Each</th>\n",
       "      <th>Purchase Address</th>\n",
       "    </tr>\n",
       "    <tr>\n",
       "      <th>Order Date</th>\n",
       "      <th></th>\n",
       "      <th></th>\n",
       "      <th></th>\n",
       "      <th></th>\n",
       "      <th></th>\n",
       "    </tr>\n",
       "  </thead>\n",
       "  <tbody>\n",
       "    <tr>\n",
       "      <th>2019-01-01 03:07:00</th>\n",
       "      <td>147268</td>\n",
       "      <td>Wired Headphones</td>\n",
       "      <td>1</td>\n",
       "      <td>11.99</td>\n",
       "      <td>9 Lake St, New York City, NY 10001</td>\n",
       "    </tr>\n",
       "    <tr>\n",
       "      <th>2019-01-01 03:40:00</th>\n",
       "      <td>148041</td>\n",
       "      <td>USB-C Charging Cable</td>\n",
       "      <td>1</td>\n",
       "      <td>11.95</td>\n",
       "      <td>760 Church St, San Francisco, CA 94016</td>\n",
       "    </tr>\n",
       "    <tr>\n",
       "      <th>2019-01-01 04:56:00</th>\n",
       "      <td>149343</td>\n",
       "      <td>Apple Airpods Headphones</td>\n",
       "      <td>1</td>\n",
       "      <td>150.00</td>\n",
       "      <td>735 5th St, New York City, NY 10001</td>\n",
       "    </tr>\n",
       "    <tr>\n",
       "      <th>2019-01-01 05:53:00</th>\n",
       "      <td>149964</td>\n",
       "      <td>AAA Batteries (4-pack)</td>\n",
       "      <td>1</td>\n",
       "      <td>2.99</td>\n",
       "      <td>75 Jackson St, Dallas, TX 75001</td>\n",
       "    </tr>\n",
       "    <tr>\n",
       "      <th>2019-01-01 06:03:00</th>\n",
       "      <td>149350</td>\n",
       "      <td>USB-C Charging Cable</td>\n",
       "      <td>2</td>\n",
       "      <td>11.95</td>\n",
       "      <td>943 2nd St, Atlanta, GA 30301</td>\n",
       "    </tr>\n",
       "  </tbody>\n",
       "</table>\n",
       "</div>"
      ],
      "text/plain": [
       "                    Order ID  ...                        Purchase Address\n",
       "Order Date                    ...                                        \n",
       "2019-01-01 03:07:00   147268  ...      9 Lake St, New York City, NY 10001\n",
       "2019-01-01 03:40:00   148041  ...  760 Church St, San Francisco, CA 94016\n",
       "2019-01-01 04:56:00   149343  ...     735 5th St, New York City, NY 10001\n",
       "2019-01-01 05:53:00   149964  ...         75 Jackson St, Dallas, TX 75001\n",
       "2019-01-01 06:03:00   149350  ...           943 2nd St, Atlanta, GA 30301\n",
       "\n",
       "[5 rows x 5 columns]"
      ]
     },
     "execution_count": 61,
     "metadata": {
      "tags": []
     },
     "output_type": "execute_result"
    }
   ],
   "source": [
    "df_clean.head()"
   ]
  },
  {
   "cell_type": "code",
   "execution_count": 66,
   "metadata": {
    "id": "-9qQ1TxyuOKc"
   },
   "outputs": [],
   "source": [
    "df_clean['Month'] = df_clean.index.month_name()"
   ]
  },
  {
   "cell_type": "code",
   "execution_count": 67,
   "metadata": {
    "colab": {
     "base_uri": "https://localhost:8080/",
     "height": 337
    },
    "id": "f5gtIM9DuZfT",
    "outputId": "5f128f57-e906-4bce-b3a8-e702f19ab883"
   },
   "outputs": [
    {
     "data": {
      "text/html": [
       "<div>\n",
       "<style scoped>\n",
       "    .dataframe tbody tr th:only-of-type {\n",
       "        vertical-align: middle;\n",
       "    }\n",
       "\n",
       "    .dataframe tbody tr th {\n",
       "        vertical-align: top;\n",
       "    }\n",
       "\n",
       "    .dataframe thead th {\n",
       "        text-align: right;\n",
       "    }\n",
       "</style>\n",
       "<table border=\"1\" class=\"dataframe\">\n",
       "  <thead>\n",
       "    <tr style=\"text-align: right;\">\n",
       "      <th></th>\n",
       "      <th>Order ID</th>\n",
       "      <th>Product</th>\n",
       "      <th>Quantity Ordered</th>\n",
       "      <th>Price Each</th>\n",
       "      <th>Purchase Address</th>\n",
       "      <th>Month</th>\n",
       "    </tr>\n",
       "    <tr>\n",
       "      <th>Order Date</th>\n",
       "      <th></th>\n",
       "      <th></th>\n",
       "      <th></th>\n",
       "      <th></th>\n",
       "      <th></th>\n",
       "      <th></th>\n",
       "    </tr>\n",
       "  </thead>\n",
       "  <tbody>\n",
       "    <tr>\n",
       "      <th>2019-01-01 03:07:00</th>\n",
       "      <td>147268</td>\n",
       "      <td>Wired Headphones</td>\n",
       "      <td>1</td>\n",
       "      <td>11.99</td>\n",
       "      <td>9 Lake St, New York City, NY 10001</td>\n",
       "      <td>January</td>\n",
       "    </tr>\n",
       "    <tr>\n",
       "      <th>2019-01-01 03:40:00</th>\n",
       "      <td>148041</td>\n",
       "      <td>USB-C Charging Cable</td>\n",
       "      <td>1</td>\n",
       "      <td>11.95</td>\n",
       "      <td>760 Church St, San Francisco, CA 94016</td>\n",
       "      <td>January</td>\n",
       "    </tr>\n",
       "    <tr>\n",
       "      <th>2019-01-01 04:56:00</th>\n",
       "      <td>149343</td>\n",
       "      <td>Apple Airpods Headphones</td>\n",
       "      <td>1</td>\n",
       "      <td>150.00</td>\n",
       "      <td>735 5th St, New York City, NY 10001</td>\n",
       "      <td>January</td>\n",
       "    </tr>\n",
       "    <tr>\n",
       "      <th>2019-01-01 05:53:00</th>\n",
       "      <td>149964</td>\n",
       "      <td>AAA Batteries (4-pack)</td>\n",
       "      <td>1</td>\n",
       "      <td>2.99</td>\n",
       "      <td>75 Jackson St, Dallas, TX 75001</td>\n",
       "      <td>January</td>\n",
       "    </tr>\n",
       "    <tr>\n",
       "      <th>2019-01-01 06:03:00</th>\n",
       "      <td>149350</td>\n",
       "      <td>USB-C Charging Cable</td>\n",
       "      <td>2</td>\n",
       "      <td>11.95</td>\n",
       "      <td>943 2nd St, Atlanta, GA 30301</td>\n",
       "      <td>January</td>\n",
       "    </tr>\n",
       "  </tbody>\n",
       "</table>\n",
       "</div>"
      ],
      "text/plain": [
       "                    Order ID  ...    Month\n",
       "Order Date                    ...         \n",
       "2019-01-01 03:07:00   147268  ...  January\n",
       "2019-01-01 03:40:00   148041  ...  January\n",
       "2019-01-01 04:56:00   149343  ...  January\n",
       "2019-01-01 05:53:00   149964  ...  January\n",
       "2019-01-01 06:03:00   149350  ...  January\n",
       "\n",
       "[5 rows x 6 columns]"
      ]
     },
     "execution_count": 67,
     "metadata": {
      "tags": []
     },
     "output_type": "execute_result"
    }
   ],
   "source": [
    "df_clean.head()"
   ]
  },
  {
   "cell_type": "code",
   "execution_count": 74,
   "metadata": {
    "id": "ZZZ45FWPwl6C"
   },
   "outputs": [],
   "source": [
    "df_clean['chiffre_daffaire'] = df_clean['Quantity Ordered'] * df_clean['Price Each']"
   ]
  },
  {
   "cell_type": "code",
   "execution_count": 76,
   "metadata": {
    "colab": {
     "base_uri": "https://localhost:8080/",
     "height": 354
    },
    "id": "yntUqZGDw12s",
    "outputId": "285b2795-4c1e-4759-a3fe-9b4333a8ad1b"
   },
   "outputs": [
    {
     "data": {
      "text/html": [
       "<div>\n",
       "<style scoped>\n",
       "    .dataframe tbody tr th:only-of-type {\n",
       "        vertical-align: middle;\n",
       "    }\n",
       "\n",
       "    .dataframe tbody tr th {\n",
       "        vertical-align: top;\n",
       "    }\n",
       "\n",
       "    .dataframe thead th {\n",
       "        text-align: right;\n",
       "    }\n",
       "</style>\n",
       "<table border=\"1\" class=\"dataframe\">\n",
       "  <thead>\n",
       "    <tr style=\"text-align: right;\">\n",
       "      <th></th>\n",
       "      <th>Order ID</th>\n",
       "      <th>Product</th>\n",
       "      <th>Quantity Ordered</th>\n",
       "      <th>Price Each</th>\n",
       "      <th>Purchase Address</th>\n",
       "      <th>Month</th>\n",
       "      <th>chiffre_daffaire</th>\n",
       "    </tr>\n",
       "    <tr>\n",
       "      <th>Order Date</th>\n",
       "      <th></th>\n",
       "      <th></th>\n",
       "      <th></th>\n",
       "      <th></th>\n",
       "      <th></th>\n",
       "      <th></th>\n",
       "      <th></th>\n",
       "    </tr>\n",
       "  </thead>\n",
       "  <tbody>\n",
       "    <tr>\n",
       "      <th>2019-04-02 17:03:00</th>\n",
       "      <td>187250</td>\n",
       "      <td>AA Batteries (4-pack)</td>\n",
       "      <td>2</td>\n",
       "      <td>3.84</td>\n",
       "      <td>687 Dogwood St, Los Angeles, CA 90001</td>\n",
       "      <td>April</td>\n",
       "      <td>7.68</td>\n",
       "    </tr>\n",
       "    <tr>\n",
       "      <th>2019-10-17 10:29:00</th>\n",
       "      <td>269389</td>\n",
       "      <td>Wired Headphones</td>\n",
       "      <td>1</td>\n",
       "      <td>11.99</td>\n",
       "      <td>293 Johnson St, Los Angeles, CA 90001</td>\n",
       "      <td>October</td>\n",
       "      <td>11.99</td>\n",
       "    </tr>\n",
       "    <tr>\n",
       "      <th>2019-04-10 12:24:00</th>\n",
       "      <td>181917</td>\n",
       "      <td>Google Phone</td>\n",
       "      <td>1</td>\n",
       "      <td>600.00</td>\n",
       "      <td>899 Main St, Portland, OR 97035</td>\n",
       "      <td>April</td>\n",
       "      <td>600.00</td>\n",
       "    </tr>\n",
       "    <tr>\n",
       "      <th>2019-11-02 10:04:00</th>\n",
       "      <td>295423</td>\n",
       "      <td>Lightning Charging Cable</td>\n",
       "      <td>1</td>\n",
       "      <td>14.95</td>\n",
       "      <td>146 11th St, San Francisco, CA 94016</td>\n",
       "      <td>November</td>\n",
       "      <td>14.95</td>\n",
       "    </tr>\n",
       "    <tr>\n",
       "      <th>2019-09-10 15:54:00</th>\n",
       "      <td>255232</td>\n",
       "      <td>Bose SoundSport Headphones</td>\n",
       "      <td>1</td>\n",
       "      <td>99.99</td>\n",
       "      <td>841 4th St, Boston, MA 02215</td>\n",
       "      <td>September</td>\n",
       "      <td>99.99</td>\n",
       "    </tr>\n",
       "  </tbody>\n",
       "</table>\n",
       "</div>"
      ],
      "text/plain": [
       "                    Order ID  ... chiffre_daffaire\n",
       "Order Date                    ...                 \n",
       "2019-04-02 17:03:00   187250  ...             7.68\n",
       "2019-10-17 10:29:00   269389  ...            11.99\n",
       "2019-04-10 12:24:00   181917  ...           600.00\n",
       "2019-11-02 10:04:00   295423  ...            14.95\n",
       "2019-09-10 15:54:00   255232  ...            99.99\n",
       "\n",
       "[5 rows x 7 columns]"
      ]
     },
     "execution_count": 76,
     "metadata": {
      "tags": []
     },
     "output_type": "execute_result"
    }
   ],
   "source": [
    "df_clean.sample(5)"
   ]
  },
  {
   "cell_type": "code",
   "execution_count": 77,
   "metadata": {
    "colab": {
     "base_uri": "https://localhost:8080/"
    },
    "id": "s1jfUE5-vy37",
    "outputId": "25166a89-9bad-4fce-86e4-4957310bc3f1"
   },
   "outputs": [
    {
     "data": {
      "text/plain": [
       "Month\n",
       "December     4.557905e+06\n",
       "October      3.679254e+06\n",
       "April        3.336376e+06\n",
       "November     3.149785e+06\n",
       "May          3.101881e+06\n",
       "March        2.755969e+06\n",
       "July         2.587445e+06\n",
       "June         2.524465e+06\n",
       "August       2.191698e+06\n",
       "February     2.158127e+06\n",
       "September    2.050361e+06\n",
       "January      1.786511e+06\n",
       "Name: chiffre_daffaire, dtype: float64"
      ]
     },
     "execution_count": 77,
     "metadata": {
      "tags": []
     },
     "output_type": "execute_result"
    }
   ],
   "source": [
    "df_clean.groupby('Month')[\"chiffre_daffaire\"].sum().sort_values(ascending=False)"
   ]
  },
  {
   "cell_type": "code",
   "execution_count": 79,
   "metadata": {
    "colab": {
     "base_uri": "https://localhost:8080/"
    },
    "id": "YkBCfY-5stZP",
    "outputId": "c1dc27f0-dfc4-4e06-825c-948084bca87f"
   },
   "outputs": [
    {
     "data": {
      "text/plain": [
       "4557905.420001525"
      ]
     },
     "execution_count": 79,
     "metadata": {
      "tags": []
     },
     "output_type": "execute_result"
    }
   ],
   "source": [
    "df_clean.groupby('Month').sum()[\"chiffre_daffaire\"].sort_values(ascending=False).December"
   ]
  },
  {
   "cell_type": "markdown",
   "metadata": {
    "id": "iLAoa3s1xKF3"
   },
   "source": [
    "Décembre est le mois avec le plus de ventes et le CA est de 4557905.420001525"
   ]
  },
  {
   "cell_type": "markdown",
   "metadata": {
    "id": "WrMLrbSRxWti"
   },
   "source": [
    "## Dans quelle ville a-t-on le plus vendu de produits ?"
   ]
  },
  {
   "cell_type": "code",
   "execution_count": 80,
   "metadata": {
    "colab": {
     "base_uri": "https://localhost:8080/"
    },
    "id": "QdOwNQtasuXD",
    "outputId": "3798a34b-db62-4858-caad-1c88e0f25d9b"
   },
   "outputs": [
    {
     "data": {
      "text/plain": [
       "array(['9 Lake St, New York City, NY 10001',\n",
       "       '760 Church St, San Francisco, CA 94016',\n",
       "       '735 5th St, New York City, NY 10001', ...,\n",
       "       '731 7th St, New York City, NY 10001',\n",
       "       '754 Hickory St, New York City, NY 10001',\n",
       "       '657 Spruce St, New York City, NY 10001'], dtype=object)"
      ]
     },
     "execution_count": 80,
     "metadata": {
      "tags": []
     },
     "output_type": "execute_result"
    }
   ],
   "source": [
    "df_clean['Purchase Address'].unique()"
   ]
  },
  {
   "cell_type": "code",
   "execution_count": 91,
   "metadata": {
    "id": "CN73Q-zjyjix"
   },
   "outputs": [],
   "source": [
    "def get_ville(addresse):\n",
    "  return addresse.split(',')[1].strip()"
   ]
  },
  {
   "cell_type": "code",
   "execution_count": 90,
   "metadata": {
    "colab": {
     "base_uri": "https://localhost:8080/",
     "height": 35
    },
    "id": "uiXl1Q6BzB0S",
    "outputId": "2a9fd8de-c649-4eff-c48e-99e9b08e3d1e"
   },
   "outputs": [
    {
     "data": {
      "application/vnd.google.colaboratory.intrinsic+json": {
       "type": "string"
      },
      "text/plain": [
       "'python'"
      ]
     },
     "execution_count": 90,
     "metadata": {
      "tags": []
     },
     "output_type": "execute_result"
    }
   ],
   "source": [
    "\"        python        \".strip()"
   ]
  },
  {
   "cell_type": "code",
   "execution_count": 92,
   "metadata": {
    "colab": {
     "base_uri": "https://localhost:8080/",
     "height": 35
    },
    "id": "9bX_0hjyyuHB",
    "outputId": "cdc00165-d9fe-49ac-b250-b3f218bddd1a"
   },
   "outputs": [
    {
     "data": {
      "application/vnd.google.colaboratory.intrinsic+json": {
       "type": "string"
      },
      "text/plain": [
       "'San Francisco'"
      ]
     },
     "execution_count": 92,
     "metadata": {
      "tags": []
     },
     "output_type": "execute_result"
    }
   ],
   "source": [
    "get_ville(\"760 Church St, San Francisco, CA 94016\")"
   ]
  },
  {
   "cell_type": "code",
   "execution_count": 93,
   "metadata": {
    "id": "l8mIGHUCxrTB"
   },
   "outputs": [],
   "source": [
    "df_clean['ville'] = df_clean['Purchase Address'].apply(get_ville)"
   ]
  },
  {
   "cell_type": "code",
   "execution_count": 94,
   "metadata": {
    "colab": {
     "base_uri": "https://localhost:8080/",
     "height": 406
    },
    "id": "I9KOLVviyY9n",
    "outputId": "7f8c4b2e-94fd-4ccb-b72d-42812ebf79d2"
   },
   "outputs": [
    {
     "data": {
      "text/html": [
       "<div>\n",
       "<style scoped>\n",
       "    .dataframe tbody tr th:only-of-type {\n",
       "        vertical-align: middle;\n",
       "    }\n",
       "\n",
       "    .dataframe tbody tr th {\n",
       "        vertical-align: top;\n",
       "    }\n",
       "\n",
       "    .dataframe thead th {\n",
       "        text-align: right;\n",
       "    }\n",
       "</style>\n",
       "<table border=\"1\" class=\"dataframe\">\n",
       "  <thead>\n",
       "    <tr style=\"text-align: right;\">\n",
       "      <th></th>\n",
       "      <th>Order ID</th>\n",
       "      <th>Product</th>\n",
       "      <th>Quantity Ordered</th>\n",
       "      <th>Price Each</th>\n",
       "      <th>Purchase Address</th>\n",
       "      <th>Month</th>\n",
       "      <th>chiffre_daffaire</th>\n",
       "      <th>ville</th>\n",
       "    </tr>\n",
       "    <tr>\n",
       "      <th>Order Date</th>\n",
       "      <th></th>\n",
       "      <th></th>\n",
       "      <th></th>\n",
       "      <th></th>\n",
       "      <th></th>\n",
       "      <th></th>\n",
       "      <th></th>\n",
       "      <th></th>\n",
       "    </tr>\n",
       "  </thead>\n",
       "  <tbody>\n",
       "    <tr>\n",
       "      <th>2019-04-18 20:26:00</th>\n",
       "      <td>187385</td>\n",
       "      <td>Lightning Charging Cable</td>\n",
       "      <td>1</td>\n",
       "      <td>14.95</td>\n",
       "      <td>369 11th St, Seattle, WA 98101</td>\n",
       "      <td>April</td>\n",
       "      <td>14.95</td>\n",
       "      <td>Seattle</td>\n",
       "    </tr>\n",
       "    <tr>\n",
       "      <th>2019-12-17 22:42:00</th>\n",
       "      <td>296401</td>\n",
       "      <td>Wired Headphones</td>\n",
       "      <td>1</td>\n",
       "      <td>11.99</td>\n",
       "      <td>853 Elm St, Seattle, WA 98101</td>\n",
       "      <td>December</td>\n",
       "      <td>11.99</td>\n",
       "      <td>Seattle</td>\n",
       "    </tr>\n",
       "    <tr>\n",
       "      <th>2019-10-08 07:54:00</th>\n",
       "      <td>259904</td>\n",
       "      <td>AAA Batteries (4-pack)</td>\n",
       "      <td>2</td>\n",
       "      <td>2.99</td>\n",
       "      <td>482 Jefferson St, Dallas, TX 75001</td>\n",
       "      <td>October</td>\n",
       "      <td>5.98</td>\n",
       "      <td>Dallas</td>\n",
       "    </tr>\n",
       "    <tr>\n",
       "      <th>2019-08-03 18:08:00</th>\n",
       "      <td>239520</td>\n",
       "      <td>Wired Headphones</td>\n",
       "      <td>1</td>\n",
       "      <td>11.99</td>\n",
       "      <td>642 South St, Boston, MA 02215</td>\n",
       "      <td>August</td>\n",
       "      <td>11.99</td>\n",
       "      <td>Boston</td>\n",
       "    </tr>\n",
       "    <tr>\n",
       "      <th>2019-02-18 14:55:00</th>\n",
       "      <td>161155</td>\n",
       "      <td>AAA Batteries (4-pack)</td>\n",
       "      <td>1</td>\n",
       "      <td>2.99</td>\n",
       "      <td>452 Cedar St, Austin, TX 73301</td>\n",
       "      <td>February</td>\n",
       "      <td>2.99</td>\n",
       "      <td>Austin</td>\n",
       "    </tr>\n",
       "  </tbody>\n",
       "</table>\n",
       "</div>"
      ],
      "text/plain": [
       "                    Order ID  ...    ville\n",
       "Order Date                    ...         \n",
       "2019-04-18 20:26:00   187385  ...  Seattle\n",
       "2019-12-17 22:42:00   296401  ...  Seattle\n",
       "2019-10-08 07:54:00   259904  ...   Dallas\n",
       "2019-08-03 18:08:00   239520  ...   Boston\n",
       "2019-02-18 14:55:00   161155  ...   Austin\n",
       "\n",
       "[5 rows x 8 columns]"
      ]
     },
     "execution_count": 94,
     "metadata": {
      "tags": []
     },
     "output_type": "execute_result"
    }
   ],
   "source": [
    "df_clean.sample(5)"
   ]
  },
  {
   "cell_type": "code",
   "execution_count": 95,
   "metadata": {
    "colab": {
     "base_uri": "https://localhost:8080/"
    },
    "id": "05Cct63gzb68",
    "outputId": "94f4c19c-b4f7-495b-ef37-380560109912"
   },
   "outputs": [
    {
     "data": {
      "text/plain": [
       "array(['New York City', 'San Francisco', 'Dallas', 'Atlanta', 'Boston',\n",
       "       'Seattle', 'Los Angeles', 'Portland', 'Austin'], dtype=object)"
      ]
     },
     "execution_count": 95,
     "metadata": {
      "tags": []
     },
     "output_type": "execute_result"
    }
   ],
   "source": [
    "df_clean['ville'].unique()"
   ]
  },
  {
   "cell_type": "code",
   "execution_count": 98,
   "metadata": {
    "colab": {
     "base_uri": "https://localhost:8080/"
    },
    "id": "lbsRQaUczjBx",
    "outputId": "6f798d7b-4e8c-4e3b-e850-215f425fd517"
   },
   "outputs": [
    {
     "data": {
      "text/plain": [
       "ville\n",
       "San Francisco    8.124121e+06\n",
       "Los Angeles      5.354040e+06\n",
       "New York City    4.581659e+06\n",
       "Boston           3.604081e+06\n",
       "Atlanta          2.741642e+06\n",
       "Dallas           2.717794e+06\n",
       "Seattle          2.693049e+06\n",
       "Portland         2.276649e+06\n",
       "Austin           1.786746e+06\n",
       "Name: chiffre_daffaire, dtype: float64"
      ]
     },
     "execution_count": 98,
     "metadata": {
      "tags": []
     },
     "output_type": "execute_result"
    }
   ],
   "source": [
    "df_clean.groupby('ville').sum()[\"chiffre_daffaire\"].sort_values(ascending=False)"
   ]
  },
  {
   "cell_type": "markdown",
   "metadata": {
    "id": "LNiDb5xz0dJR"
   },
   "source": [
    "On a fait un meilleur chiffre d'affaire à San Francisco"
   ]
  },
  {
   "cell_type": "code",
   "execution_count": 99,
   "metadata": {
    "id": "IPyBjQW40SZS"
   },
   "outputs": [],
   "source": [
    "ca_by_ville = df_clean.groupby('ville').sum()[\"chiffre_daffaire\"].sort_values(ascending=False)"
   ]
  },
  {
   "cell_type": "code",
   "execution_count": 104,
   "metadata": {
    "colab": {
     "base_uri": "https://localhost:8080/",
     "height": 463
    },
    "id": "7rVZ-ThA0wbD",
    "outputId": "ec581ca1-43ef-4435-b46b-d9363d21d0e4"
   },
   "outputs": [
    {
     "data": {
      "image/png": "[encoded data removed]",
      "text/plain": [
       "<Figure size 576x432 with 1 Axes>"
      ]
     },
     "metadata": {
      "needs_background": "light",
      "tags": []
     },
     "output_type": "display_data"
    }
   ],
   "source": [
    "ca_by_ville.plot(kind='bar', figsize=(8, 6))\n",
    "plt.ylabel('Chiffre daffaire en Millions de dollars')\n",
    "plt.title('Chiffre daffaire par Ville')\n",
    "plt.show()"
   ]
  },
  {
   "cell_type": "markdown",
   "metadata": {
    "id": "L3ZQhuR61dJ9"
   },
   "source": [
    "## A quelle heure devons-nous passer de la publicité pour augmenter nos ventes ?"
   ]
  },
  {
   "cell_type": "markdown",
   "metadata": {
    "id": "hU-uHCRv182C"
   },
   "source": [
    "A quelle heure on vend le plus ?"
   ]
  },
  {
   "cell_type": "code",
   "execution_count": 107,
   "metadata": {
    "id": "zLlE6Z-m06RZ"
   },
   "outputs": [],
   "source": [
    "df_clean['heure'] = df_clean.index.hour\n",
    "df_clean['time'] = df_clean.index.time"
   ]
  },
  {
   "cell_type": "code",
   "execution_count": 108,
   "metadata": {
    "colab": {
     "base_uri": "https://localhost:8080/",
     "height": 547
    },
    "id": "x5F6Buln2HV-",
    "outputId": "7b563da8-c2e8-4954-9f8b-2fdd345a7b3b"
   },
   "outputs": [
    {
     "data": {
      "text/html": [
       "<div>\n",
       "<style scoped>\n",
       "    .dataframe tbody tr th:only-of-type {\n",
       "        vertical-align: middle;\n",
       "    }\n",
       "\n",
       "    .dataframe tbody tr th {\n",
       "        vertical-align: top;\n",
       "    }\n",
       "\n",
       "    .dataframe thead th {\n",
       "        text-align: right;\n",
       "    }\n",
       "</style>\n",
       "<table border=\"1\" class=\"dataframe\">\n",
       "  <thead>\n",
       "    <tr style=\"text-align: right;\">\n",
       "      <th></th>\n",
       "      <th>Order ID</th>\n",
       "      <th>Product</th>\n",
       "      <th>Quantity Ordered</th>\n",
       "      <th>Price Each</th>\n",
       "      <th>Purchase Address</th>\n",
       "      <th>Month</th>\n",
       "      <th>chiffre_daffaire</th>\n",
       "      <th>ville</th>\n",
       "      <th>heure</th>\n",
       "      <th>time</th>\n",
       "    </tr>\n",
       "    <tr>\n",
       "      <th>Order Date</th>\n",
       "      <th></th>\n",
       "      <th></th>\n",
       "      <th></th>\n",
       "      <th></th>\n",
       "      <th></th>\n",
       "      <th></th>\n",
       "      <th></th>\n",
       "      <th></th>\n",
       "      <th></th>\n",
       "      <th></th>\n",
       "    </tr>\n",
       "  </thead>\n",
       "  <tbody>\n",
       "    <tr>\n",
       "      <th>2019-01-01 03:07:00</th>\n",
       "      <td>147268</td>\n",
       "      <td>Wired Headphones</td>\n",
       "      <td>1</td>\n",
       "      <td>11.99</td>\n",
       "      <td>9 Lake St, New York City, NY 10001</td>\n",
       "      <td>January</td>\n",
       "      <td>11.99</td>\n",
       "      <td>New York City</td>\n",
       "      <td>3</td>\n",
       "      <td>03:07:00</td>\n",
       "    </tr>\n",
       "    <tr>\n",
       "      <th>2019-01-01 03:40:00</th>\n",
       "      <td>148041</td>\n",
       "      <td>USB-C Charging Cable</td>\n",
       "      <td>1</td>\n",
       "      <td>11.95</td>\n",
       "      <td>760 Church St, San Francisco, CA 94016</td>\n",
       "      <td>January</td>\n",
       "      <td>11.95</td>\n",
       "      <td>San Francisco</td>\n",
       "      <td>3</td>\n",
       "      <td>03:40:00</td>\n",
       "    </tr>\n",
       "    <tr>\n",
       "      <th>2019-01-01 04:56:00</th>\n",
       "      <td>149343</td>\n",
       "      <td>Apple Airpods Headphones</td>\n",
       "      <td>1</td>\n",
       "      <td>150.00</td>\n",
       "      <td>735 5th St, New York City, NY 10001</td>\n",
       "      <td>January</td>\n",
       "      <td>150.00</td>\n",
       "      <td>New York City</td>\n",
       "      <td>4</td>\n",
       "      <td>04:56:00</td>\n",
       "    </tr>\n",
       "    <tr>\n",
       "      <th>2019-01-01 05:53:00</th>\n",
       "      <td>149964</td>\n",
       "      <td>AAA Batteries (4-pack)</td>\n",
       "      <td>1</td>\n",
       "      <td>2.99</td>\n",
       "      <td>75 Jackson St, Dallas, TX 75001</td>\n",
       "      <td>January</td>\n",
       "      <td>2.99</td>\n",
       "      <td>Dallas</td>\n",
       "      <td>5</td>\n",
       "      <td>05:53:00</td>\n",
       "    </tr>\n",
       "    <tr>\n",
       "      <th>2019-01-01 06:03:00</th>\n",
       "      <td>149350</td>\n",
       "      <td>USB-C Charging Cable</td>\n",
       "      <td>2</td>\n",
       "      <td>11.95</td>\n",
       "      <td>943 2nd St, Atlanta, GA 30301</td>\n",
       "      <td>January</td>\n",
       "      <td>23.90</td>\n",
       "      <td>Atlanta</td>\n",
       "      <td>6</td>\n",
       "      <td>06:03:00</td>\n",
       "    </tr>\n",
       "  </tbody>\n",
       "</table>\n",
       "</div>"
      ],
      "text/plain": [
       "                    Order ID                   Product  ...  heure      time\n",
       "Order Date                                              ...                 \n",
       "2019-01-01 03:07:00   147268          Wired Headphones  ...      3  03:07:00\n",
       "2019-01-01 03:40:00   148041      USB-C Charging Cable  ...      3  03:40:00\n",
       "2019-01-01 04:56:00   149343  Apple Airpods Headphones  ...      4  04:56:00\n",
       "2019-01-01 05:53:00   149964    AAA Batteries (4-pack)  ...      5  05:53:00\n",
       "2019-01-01 06:03:00   149350      USB-C Charging Cable  ...      6  06:03:00\n",
       "\n",
       "[5 rows x 10 columns]"
      ]
     },
     "execution_count": 108,
     "metadata": {
      "tags": []
     },
     "output_type": "execute_result"
    }
   ],
   "source": [
    "df_clean.head()"
   ]
  },
  {
   "cell_type": "code",
   "execution_count": 111,
   "metadata": {
    "colab": {
     "base_uri": "https://localhost:8080/"
    },
    "id": "VO4bv1E12Jnx",
    "outputId": "7b85429e-6380-4106-9cc8-910c242dcd66"
   },
   "outputs": [
    {
     "data": {
      "text/plain": [
       "Order Date\n",
       "2019-09-16 23:59:00    23:59:00\n",
       "2019-10-19 23:59:00    23:59:00\n",
       "2019-04-06 23:59:00    23:59:00\n",
       "2019-05-23 23:59:00    23:59:00\n",
       "2019-04-13 23:59:00    23:59:00\n",
       "                         ...   \n",
       "2019-07-19 00:00:00    00:00:00\n",
       "2019-07-21 00:00:00    00:00:00\n",
       "2019-04-02 00:00:00    00:00:00\n",
       "2019-09-11 00:00:00    00:00:00\n",
       "2019-03-09 00:00:00    00:00:00\n",
       "Name: time, Length: 182735, dtype: object"
      ]
     },
     "execution_count": 111,
     "metadata": {
      "tags": []
     },
     "output_type": "execute_result"
    }
   ],
   "source": [
    "df_clean.time.sort_values(ascending=False)"
   ]
  },
  {
   "cell_type": "code",
   "execution_count": 112,
   "metadata": {
    "colab": {
     "base_uri": "https://localhost:8080/"
    },
    "id": "fPncQ-gc2kNx",
    "outputId": "fefeafa5-6415-4ef7-ed0a-12445878d0be"
   },
   "outputs": [
    {
     "data": {
      "text/plain": [
       "heure\n",
       "19    2370005.59\n",
       "12    2269676.91\n",
       "11    2267169.73\n",
       "20    2242856.37\n",
       "18    2176209.65\n",
       "13    2118394.83\n",
       "17    2086082.23\n",
       "14    2045085.42\n",
       "21    2013288.02\n",
       "10    1907179.29\n",
       "15    1900151.56\n",
       "16    1864530.92\n",
       "9     1612498.90\n",
       "22    1578173.21\n",
       "8     1181363.76\n",
       "23    1161803.96\n",
       "7      734595.75\n",
       "0      698694.76\n",
       "1      447663.86\n",
       "6      441523.14\n",
       "2      234191.08\n",
       "5      224313.72\n",
       "4      161350.57\n",
       "3      142976.54\n",
       "Name: chiffre_daffaire, dtype: float64"
      ]
     },
     "execution_count": 112,
     "metadata": {
      "tags": []
     },
     "output_type": "execute_result"
    }
   ],
   "source": [
    "df_clean.groupby('heure')['chiffre_daffaire'].sum().sort_values(ascending=False)"
   ]
  },
  {
   "cell_type": "code",
   "execution_count": 121,
   "metadata": {
    "id": "BJK4a4q55hI6"
   },
   "outputs": [],
   "source": [
    "ca_par_heure = pd.DataFrame(df_clean.groupby('heure')['chiffre_daffaire'].sum())"
   ]
  },
  {
   "cell_type": "code",
   "execution_count": 122,
   "metadata": {
    "colab": {
     "base_uri": "https://localhost:8080/",
     "height": 815
    },
    "id": "Avxm6OHH7P4G",
    "outputId": "ee21f7d3-fd7e-4012-9418-f787fd938eff"
   },
   "outputs": [
    {
     "data": {
      "text/html": [
       "<div>\n",
       "<style scoped>\n",
       "    .dataframe tbody tr th:only-of-type {\n",
       "        vertical-align: middle;\n",
       "    }\n",
       "\n",
       "    .dataframe tbody tr th {\n",
       "        vertical-align: top;\n",
       "    }\n",
       "\n",
       "    .dataframe thead th {\n",
       "        text-align: right;\n",
       "    }\n",
       "</style>\n",
       "<table border=\"1\" class=\"dataframe\">\n",
       "  <thead>\n",
       "    <tr style=\"text-align: right;\">\n",
       "      <th></th>\n",
       "      <th>chiffre_daffaire</th>\n",
       "    </tr>\n",
       "    <tr>\n",
       "      <th>heure</th>\n",
       "      <th></th>\n",
       "    </tr>\n",
       "  </thead>\n",
       "  <tbody>\n",
       "    <tr>\n",
       "      <th>0</th>\n",
       "      <td>698694.76</td>\n",
       "    </tr>\n",
       "    <tr>\n",
       "      <th>1</th>\n",
       "      <td>447663.86</td>\n",
       "    </tr>\n",
       "    <tr>\n",
       "      <th>2</th>\n",
       "      <td>234191.08</td>\n",
       "    </tr>\n",
       "    <tr>\n",
       "      <th>3</th>\n",
       "      <td>142976.54</td>\n",
       "    </tr>\n",
       "    <tr>\n",
       "      <th>4</th>\n",
       "      <td>161350.57</td>\n",
       "    </tr>\n",
       "    <tr>\n",
       "      <th>5</th>\n",
       "      <td>224313.72</td>\n",
       "    </tr>\n",
       "    <tr>\n",
       "      <th>6</th>\n",
       "      <td>441523.14</td>\n",
       "    </tr>\n",
       "    <tr>\n",
       "      <th>7</th>\n",
       "      <td>734595.75</td>\n",
       "    </tr>\n",
       "    <tr>\n",
       "      <th>8</th>\n",
       "      <td>1181363.76</td>\n",
       "    </tr>\n",
       "    <tr>\n",
       "      <th>9</th>\n",
       "      <td>1612498.90</td>\n",
       "    </tr>\n",
       "    <tr>\n",
       "      <th>10</th>\n",
       "      <td>1907179.29</td>\n",
       "    </tr>\n",
       "    <tr>\n",
       "      <th>11</th>\n",
       "      <td>2267169.73</td>\n",
       "    </tr>\n",
       "    <tr>\n",
       "      <th>12</th>\n",
       "      <td>2269676.91</td>\n",
       "    </tr>\n",
       "    <tr>\n",
       "      <th>13</th>\n",
       "      <td>2118394.83</td>\n",
       "    </tr>\n",
       "    <tr>\n",
       "      <th>14</th>\n",
       "      <td>2045085.42</td>\n",
       "    </tr>\n",
       "    <tr>\n",
       "      <th>15</th>\n",
       "      <td>1900151.56</td>\n",
       "    </tr>\n",
       "    <tr>\n",
       "      <th>16</th>\n",
       "      <td>1864530.92</td>\n",
       "    </tr>\n",
       "    <tr>\n",
       "      <th>17</th>\n",
       "      <td>2086082.23</td>\n",
       "    </tr>\n",
       "    <tr>\n",
       "      <th>18</th>\n",
       "      <td>2176209.65</td>\n",
       "    </tr>\n",
       "    <tr>\n",
       "      <th>19</th>\n",
       "      <td>2370005.59</td>\n",
       "    </tr>\n",
       "    <tr>\n",
       "      <th>20</th>\n",
       "      <td>2242856.37</td>\n",
       "    </tr>\n",
       "    <tr>\n",
       "      <th>21</th>\n",
       "      <td>2013288.02</td>\n",
       "    </tr>\n",
       "    <tr>\n",
       "      <th>22</th>\n",
       "      <td>1578173.21</td>\n",
       "    </tr>\n",
       "    <tr>\n",
       "      <th>23</th>\n",
       "      <td>1161803.96</td>\n",
       "    </tr>\n",
       "  </tbody>\n",
       "</table>\n",
       "</div>"
      ],
      "text/plain": [
       "       chiffre_daffaire\n",
       "heure                  \n",
       "0             698694.76\n",
       "1             447663.86\n",
       "2             234191.08\n",
       "3             142976.54\n",
       "4             161350.57\n",
       "5             224313.72\n",
       "6             441523.14\n",
       "7             734595.75\n",
       "8            1181363.76\n",
       "9            1612498.90\n",
       "10           1907179.29\n",
       "11           2267169.73\n",
       "12           2269676.91\n",
       "13           2118394.83\n",
       "14           2045085.42\n",
       "15           1900151.56\n",
       "16           1864530.92\n",
       "17           2086082.23\n",
       "18           2176209.65\n",
       "19           2370005.59\n",
       "20           2242856.37\n",
       "21           2013288.02\n",
       "22           1578173.21\n",
       "23           1161803.96"
      ]
     },
     "execution_count": 122,
     "metadata": {
      "tags": []
     },
     "output_type": "execute_result"
    }
   ],
   "source": [
    "ca_par_heure"
   ]
  },
  {
   "cell_type": "code",
   "execution_count": 127,
   "metadata": {
    "colab": {
     "base_uri": "https://localhost:8080/",
     "height": 290
    },
    "id": "88uUq6X96lO_",
    "outputId": "24a7a02e-7047-47e8-9699-d17c9145344a"
   },
   "outputs": [
    {
     "data": {
      "image/png": "[encoded data removed]",
      "text/plain": [
       "<Figure size 432x288 with 1 Axes>"
      ]
     },
     "metadata": {
      "needs_background": "light",
      "tags": []
     },
     "output_type": "display_data"
    }
   ],
   "source": [
    "sns.lineplot(data=ca_par_heure['chiffre_daffaire'])\n",
    "plt.xticks(ticks=range(0, 24))\n",
    "plt.show()"
   ]
  },
  {
   "cell_type": "markdown",
   "metadata": {
    "id": "9wbU7Rzz70rN"
   },
   "source": [
    "On devrait afficher la publicité entre 10 et 11 et entre 18 et 19."
   ]
  },
  {
   "cell_type": "markdown",
   "metadata": {
    "id": "DVF8OXTk8zdH"
   },
   "source": [
    "## Quels sont les produits qui sont souvent achetés ensemble ?"
   ]
  },
  {
   "cell_type": "code",
   "execution_count": 128,
   "metadata": {
    "colab": {
     "base_uri": "https://localhost:8080/",
     "height": 547
    },
    "id": "BI4kMGb46Vl-",
    "outputId": "918f1bfe-7c9d-4d11-ec43-c3c25d23d5c8"
   },
   "outputs": [
    {
     "data": {
      "text/html": [
       "<div>\n",
       "<style scoped>\n",
       "    .dataframe tbody tr th:only-of-type {\n",
       "        vertical-align: middle;\n",
       "    }\n",
       "\n",
       "    .dataframe tbody tr th {\n",
       "        vertical-align: top;\n",
       "    }\n",
       "\n",
       "    .dataframe thead th {\n",
       "        text-align: right;\n",
       "    }\n",
       "</style>\n",
       "<table border=\"1\" class=\"dataframe\">\n",
       "  <thead>\n",
       "    <tr style=\"text-align: right;\">\n",
       "      <th></th>\n",
       "      <th>Order ID</th>\n",
       "      <th>Product</th>\n",
       "      <th>Quantity Ordered</th>\n",
       "      <th>Price Each</th>\n",
       "      <th>Purchase Address</th>\n",
       "      <th>Month</th>\n",
       "      <th>chiffre_daffaire</th>\n",
       "      <th>ville</th>\n",
       "      <th>heure</th>\n",
       "      <th>time</th>\n",
       "    </tr>\n",
       "    <tr>\n",
       "      <th>Order Date</th>\n",
       "      <th></th>\n",
       "      <th></th>\n",
       "      <th></th>\n",
       "      <th></th>\n",
       "      <th></th>\n",
       "      <th></th>\n",
       "      <th></th>\n",
       "      <th></th>\n",
       "      <th></th>\n",
       "      <th></th>\n",
       "    </tr>\n",
       "  </thead>\n",
       "  <tbody>\n",
       "    <tr>\n",
       "      <th>2019-01-01 03:07:00</th>\n",
       "      <td>147268</td>\n",
       "      <td>Wired Headphones</td>\n",
       "      <td>1</td>\n",
       "      <td>11.99</td>\n",
       "      <td>9 Lake St, New York City, NY 10001</td>\n",
       "      <td>January</td>\n",
       "      <td>11.99</td>\n",
       "      <td>New York City</td>\n",
       "      <td>3</td>\n",
       "      <td>03:07:00</td>\n",
       "    </tr>\n",
       "    <tr>\n",
       "      <th>2019-01-01 03:40:00</th>\n",
       "      <td>148041</td>\n",
       "      <td>USB-C Charging Cable</td>\n",
       "      <td>1</td>\n",
       "      <td>11.95</td>\n",
       "      <td>760 Church St, San Francisco, CA 94016</td>\n",
       "      <td>January</td>\n",
       "      <td>11.95</td>\n",
       "      <td>San Francisco</td>\n",
       "      <td>3</td>\n",
       "      <td>03:40:00</td>\n",
       "    </tr>\n",
       "    <tr>\n",
       "      <th>2019-01-01 04:56:00</th>\n",
       "      <td>149343</td>\n",
       "      <td>Apple Airpods Headphones</td>\n",
       "      <td>1</td>\n",
       "      <td>150.00</td>\n",
       "      <td>735 5th St, New York City, NY 10001</td>\n",
       "      <td>January</td>\n",
       "      <td>150.00</td>\n",
       "      <td>New York City</td>\n",
       "      <td>4</td>\n",
       "      <td>04:56:00</td>\n",
       "    </tr>\n",
       "    <tr>\n",
       "      <th>2019-01-01 05:53:00</th>\n",
       "      <td>149964</td>\n",
       "      <td>AAA Batteries (4-pack)</td>\n",
       "      <td>1</td>\n",
       "      <td>2.99</td>\n",
       "      <td>75 Jackson St, Dallas, TX 75001</td>\n",
       "      <td>January</td>\n",
       "      <td>2.99</td>\n",
       "      <td>Dallas</td>\n",
       "      <td>5</td>\n",
       "      <td>05:53:00</td>\n",
       "    </tr>\n",
       "    <tr>\n",
       "      <th>2019-01-01 06:03:00</th>\n",
       "      <td>149350</td>\n",
       "      <td>USB-C Charging Cable</td>\n",
       "      <td>2</td>\n",
       "      <td>11.95</td>\n",
       "      <td>943 2nd St, Atlanta, GA 30301</td>\n",
       "      <td>January</td>\n",
       "      <td>23.90</td>\n",
       "      <td>Atlanta</td>\n",
       "      <td>6</td>\n",
       "      <td>06:03:00</td>\n",
       "    </tr>\n",
       "  </tbody>\n",
       "</table>\n",
       "</div>"
      ],
      "text/plain": [
       "                    Order ID                   Product  ...  heure      time\n",
       "Order Date                                              ...                 \n",
       "2019-01-01 03:07:00   147268          Wired Headphones  ...      3  03:07:00\n",
       "2019-01-01 03:40:00   148041      USB-C Charging Cable  ...      3  03:40:00\n",
       "2019-01-01 04:56:00   149343  Apple Airpods Headphones  ...      4  04:56:00\n",
       "2019-01-01 05:53:00   149964    AAA Batteries (4-pack)  ...      5  05:53:00\n",
       "2019-01-01 06:03:00   149350      USB-C Charging Cable  ...      6  06:03:00\n",
       "\n",
       "[5 rows x 10 columns]"
      ]
     },
     "execution_count": 128,
     "metadata": {
      "tags": []
     },
     "output_type": "execute_result"
    }
   ],
   "source": [
    "df_clean.head()"
   ]
  },
  {
   "cell_type": "code",
   "execution_count": 131,
   "metadata": {
    "id": "oRVCxJw79ZLs"
   },
   "outputs": [],
   "source": [
    "def concat_produit_par_order_id(p):\n",
    "  return \";\".join(p)"
   ]
  },
  {
   "cell_type": "code",
   "execution_count": 136,
   "metadata": {
    "colab": {
     "base_uri": "https://localhost:8080/"
    },
    "id": "IHog9m3BACXc",
    "outputId": "e5bdcb1d-feb6-4ec4-b757-16af065b57bb"
   },
   "outputs": [
    {
     "data": {
      "text/plain": [
       "175449"
      ]
     },
     "execution_count": 136,
     "metadata": {
      "tags": []
     },
     "output_type": "execute_result"
    }
   ],
   "source": [
    "produit_ensemble = df_clean.drop_duplicates(['Order ID'])\n",
    "len(produit_ensemble)"
   ]
  },
  {
   "cell_type": "code",
   "execution_count": 133,
   "metadata": {
    "id": "hJeGz08L9AqN"
   },
   "outputs": [],
   "source": [
    "df_clean['sales_together'] = df_clean.groupby('Order ID')['Product'].apply(concat_produit_par_order_id)"
   ]
  },
  {
   "cell_type": "code",
   "execution_count": 137,
   "metadata": {
    "colab": {
     "base_uri": "https://localhost:8080/"
    },
    "id": "uX7W9a_hAUTT",
    "outputId": "476e1700-c0d8-4f64-927b-081fcb0e21d4"
   },
   "outputs": [
    {
     "data": {
      "text/plain": [
       "182735"
      ]
     },
     "execution_count": 137,
     "metadata": {
      "tags": []
     },
     "output_type": "execute_result"
    }
   ],
   "source": [
    "len(df_clean['sales_together'])"
   ]
  },
  {
   "cell_type": "code",
   "execution_count": 138,
   "metadata": {
    "colab": {
     "base_uri": "https://localhost:8080/"
    },
    "id": "dplMM-bwAYor",
    "outputId": "7a10b32f-81af-44c6-abf3-732b7e20edd3"
   },
   "outputs": [
    {
     "name": "stderr",
     "output_type": "stream",
     "text": [
      "/usr/local/lib/python3.7/dist-packages/ipykernel_launcher.py:1: SettingWithCopyWarning: \n",
      "A value is trying to be set on a copy of a slice from a DataFrame.\n",
      "Try using .loc[row_indexer,col_indexer] = value instead\n",
      "\n",
      "See the caveats in the documentation: https://pandas.pydata.org/pandas-docs/stable/user_guide/indexing.html#returning-a-view-versus-a-copy\n",
      "  \"\"\"Entry point for launching an IPython kernel.\n"
     ]
    }
   ],
   "source": [
    "produit_ensemble['groupby'] = df_clean.groupby('Order ID')['Product'].apply(concat_produit_par_order_id)"
   ]
  },
  {
   "cell_type": "code",
   "execution_count": 139,
   "metadata": {
    "colab": {
     "base_uri": "https://localhost:8080/",
     "height": 547
    },
    "id": "VhUjLoBI_09D",
    "outputId": "614c2385-91ce-446f-e344-22a33b83c866"
   },
   "outputs": [
    {
     "data": {
      "text/html": [
       "<div>\n",
       "<style scoped>\n",
       "    .dataframe tbody tr th:only-of-type {\n",
       "        vertical-align: middle;\n",
       "    }\n",
       "\n",
       "    .dataframe tbody tr th {\n",
       "        vertical-align: top;\n",
       "    }\n",
       "\n",
       "    .dataframe thead th {\n",
       "        text-align: right;\n",
       "    }\n",
       "</style>\n",
       "<table border=\"1\" class=\"dataframe\">\n",
       "  <thead>\n",
       "    <tr style=\"text-align: right;\">\n",
       "      <th></th>\n",
       "      <th>Order ID</th>\n",
       "      <th>Product</th>\n",
       "      <th>Quantity Ordered</th>\n",
       "      <th>Price Each</th>\n",
       "      <th>Purchase Address</th>\n",
       "      <th>Month</th>\n",
       "      <th>chiffre_daffaire</th>\n",
       "      <th>ville</th>\n",
       "      <th>heure</th>\n",
       "      <th>time</th>\n",
       "      <th>sales_together</th>\n",
       "      <th>groupby</th>\n",
       "    </tr>\n",
       "    <tr>\n",
       "      <th>Order Date</th>\n",
       "      <th></th>\n",
       "      <th></th>\n",
       "      <th></th>\n",
       "      <th></th>\n",
       "      <th></th>\n",
       "      <th></th>\n",
       "      <th></th>\n",
       "      <th></th>\n",
       "      <th></th>\n",
       "      <th></th>\n",
       "      <th></th>\n",
       "      <th></th>\n",
       "    </tr>\n",
       "  </thead>\n",
       "  <tbody>\n",
       "    <tr>\n",
       "      <th>2019-01-01 03:07:00</th>\n",
       "      <td>147268</td>\n",
       "      <td>Wired Headphones</td>\n",
       "      <td>1</td>\n",
       "      <td>11.99</td>\n",
       "      <td>9 Lake St, New York City, NY 10001</td>\n",
       "      <td>January</td>\n",
       "      <td>11.99</td>\n",
       "      <td>New York City</td>\n",
       "      <td>3</td>\n",
       "      <td>03:07:00</td>\n",
       "      <td>NaN</td>\n",
       "      <td>NaN</td>\n",
       "    </tr>\n",
       "    <tr>\n",
       "      <th>2019-01-01 03:40:00</th>\n",
       "      <td>148041</td>\n",
       "      <td>USB-C Charging Cable</td>\n",
       "      <td>1</td>\n",
       "      <td>11.95</td>\n",
       "      <td>760 Church St, San Francisco, CA 94016</td>\n",
       "      <td>January</td>\n",
       "      <td>11.95</td>\n",
       "      <td>San Francisco</td>\n",
       "      <td>3</td>\n",
       "      <td>03:40:00</td>\n",
       "      <td>NaN</td>\n",
       "      <td>NaN</td>\n",
       "    </tr>\n",
       "    <tr>\n",
       "      <th>2019-01-01 04:56:00</th>\n",
       "      <td>149343</td>\n",
       "      <td>Apple Airpods Headphones</td>\n",
       "      <td>1</td>\n",
       "      <td>150.00</td>\n",
       "      <td>735 5th St, New York City, NY 10001</td>\n",
       "      <td>January</td>\n",
       "      <td>150.00</td>\n",
       "      <td>New York City</td>\n",
       "      <td>4</td>\n",
       "      <td>04:56:00</td>\n",
       "      <td>NaN</td>\n",
       "      <td>NaN</td>\n",
       "    </tr>\n",
       "    <tr>\n",
       "      <th>2019-01-01 05:53:00</th>\n",
       "      <td>149964</td>\n",
       "      <td>AAA Batteries (4-pack)</td>\n",
       "      <td>1</td>\n",
       "      <td>2.99</td>\n",
       "      <td>75 Jackson St, Dallas, TX 75001</td>\n",
       "      <td>January</td>\n",
       "      <td>2.99</td>\n",
       "      <td>Dallas</td>\n",
       "      <td>5</td>\n",
       "      <td>05:53:00</td>\n",
       "      <td>NaN</td>\n",
       "      <td>NaN</td>\n",
       "    </tr>\n",
       "    <tr>\n",
       "      <th>2019-01-01 06:03:00</th>\n",
       "      <td>149350</td>\n",
       "      <td>USB-C Charging Cable</td>\n",
       "      <td>2</td>\n",
       "      <td>11.95</td>\n",
       "      <td>943 2nd St, Atlanta, GA 30301</td>\n",
       "      <td>January</td>\n",
       "      <td>23.90</td>\n",
       "      <td>Atlanta</td>\n",
       "      <td>6</td>\n",
       "      <td>06:03:00</td>\n",
       "      <td>NaN</td>\n",
       "      <td>NaN</td>\n",
       "    </tr>\n",
       "  </tbody>\n",
       "</table>\n",
       "</div>"
      ],
      "text/plain": [
       "                    Order ID                   Product  ...  sales_together  groupby\n",
       "Order Date                                              ...                         \n",
       "2019-01-01 03:07:00   147268          Wired Headphones  ...             NaN      NaN\n",
       "2019-01-01 03:40:00   148041      USB-C Charging Cable  ...             NaN      NaN\n",
       "2019-01-01 04:56:00   149343  Apple Airpods Headphones  ...             NaN      NaN\n",
       "2019-01-01 05:53:00   149964    AAA Batteries (4-pack)  ...             NaN      NaN\n",
       "2019-01-01 06:03:00   149350      USB-C Charging Cable  ...             NaN      NaN\n",
       "\n",
       "[5 rows x 12 columns]"
      ]
     },
     "execution_count": 139,
     "metadata": {
      "tags": []
     },
     "output_type": "execute_result"
    }
   ],
   "source": [
    "produit_ensemble.head()"
   ]
  },
  {
   "cell_type": "code",
   "execution_count": null,
   "metadata": {
    "id": "EKnRmVRO_0ir"
   },
   "outputs": [],
   "source": []
  },
  {
   "cell_type": "code",
   "execution_count": 132,
   "metadata": {
    "colab": {
     "base_uri": "https://localhost:8080/"
    },
    "id": "azxHGrNE-wg2",
    "outputId": "0e1bb857-0daa-41e7-f394-d504aa628a23"
   },
   "outputs": [
    {
     "data": {
      "text/plain": [
       "Order ID\n",
       "141234                        iPhone\n",
       "141235      Lightning Charging Cable\n",
       "141236              Wired Headphones\n",
       "141237              27in FHD Monitor\n",
       "141238              Wired Headphones\n",
       "                     ...            \n",
       "319666      Lightning Charging Cable\n",
       "319667         AA Batteries (4-pack)\n",
       "319668               Vareebadd Phone\n",
       "319669              Wired Headphones\n",
       "319670    Bose SoundSport Headphones\n",
       "Name: Product, Length: 175449, dtype: object"
      ]
     },
     "execution_count": 132,
     "metadata": {
      "tags": []
     },
     "output_type": "execute_result"
    }
   ],
   "source": [
    "df_clean.groupby('Order ID')['Product'].apply(concat_produit_par_order_id)"
   ]
  },
  {
   "cell_type": "code",
   "execution_count": 130,
   "metadata": {
    "colab": {
     "base_uri": "https://localhost:8080/"
    },
    "id": "huVobkd795yR",
    "outputId": "b0072916-0019-4643-df72-000a437c1b27"
   },
   "outputs": [
    {
     "data": {
      "text/plain": [
       "{'141234': [2019-01-22 21:25:00], '141235': [2019-01-28 14:15:00], '141236': [2019-01-17 13:33:00], '141237': [2019-01-05 20:33:00], '141238': [2019-01-25 11:59:00], '141239': [2019-01-29 20:22:00], '141240': [2019-01-26 12:16:00], '141241': [2019-01-05 12:04:00], '141242': [2019-01-01 10:30:00], '141243': [2019-01-22 21:20:00], '141244': [2019-01-07 11:29:00], '141245': [2019-01-31 10:12:00], '141246': [2019-01-09 18:57:00], '141247': [2019-01-25 19:19:00], '141248': [2019-01-03 21:54:00], '141249': [2019-01-05 17:20:00], '141250': [2019-01-10 11:20:00], '141251': [2019-01-24 08:13:00], '141252': [2019-01-30 09:28:00], '141253': [2019-01-17 00:09:00], '141254': [2019-01-08 11:51:00], '141255': [2019-01-09 20:55:00], '141256': [2019-01-29 10:40:00], '141257': [2019-01-12 18:51:00], '141258': [2019-01-19 21:47:00], '141259': [2019-01-20 17:26:00], '141260': [2019-01-01 22:00:00], '141261': [2019-01-09 18:14:00], '141262': [2019-01-16 12:35:00], '141263': [2019-01-11 23:33:00], '141264': [2019-01-03 09:46:00], '141265': [2019-01-01 16:52:00], '141266': [2019-01-02 22:21:00], '141267': [2019-01-09 08:28:00], '141268': [2019-01-14 10:13:00], '141269': [2019-01-03 20:05:00], '141270': [2019-01-27 23:10:00], '141271': [2019-01-30 10:51:00], '141272': [2019-01-12 13:09:00], '141273': [2019-01-29 12:04:00], '141274': [2019-01-17 11:30:00], '141275': [2019-01-07 16:06:00, 2019-01-07 16:06:00], '141276': [2019-01-21 22:23:00], '141277': [2019-01-13 19:07:00], '141278': [2019-01-26 12:14:00], '141279': [2019-01-03 19:10:00], '141280': [2019-01-20 16:10:00], '141281': [2019-01-05 16:51:00], '141282': [2019-01-11 18:10:00], '141283': [2019-01-02 16:16:00], '141284': [2019-01-29 18:30:00], '141285': [2019-01-14 14:13:00], '141286': [2019-01-02 20:33:00], '141287': [2019-01-31 08:38:00], '141288': [2019-01-19 08:17:00], '141289': [2019-01-28 11:17:00], '141290': [2019-01-02 08:25:00, 2019-01-02 08:25:00], '141291': [2019-01-26 18:11:00], '141292': [2019-01-21 08:46:00], '141293': [2019-01-18 12:21:00], '141294': [2019-01-25 08:12:00], '141295': [2019-01-06 20:06:00], '141296': [2019-01-20 00:21:00], '141297': [2019-01-04 11:09:00], '141298': [2019-01-21 13:24:00], '141299': [2019-01-31 23:23:00], '141300': [2019-01-23 10:21:00], '141301': [2019-01-27 11:58:00], '141302': [2019-01-18 20:12:00], '141303': [2019-01-19 09:23:00], '141304': [2019-01-28 13:10:00], '141305': [2019-01-27 16:51:00], '141306': [2019-01-19 10:25:00], '141307': [2019-01-11 11:18:00], '141308': [2019-01-12 12:00:00], '141309': [2019-01-20 07:02:00], '141310': [2019-01-07 13:32:00], '141311': [2019-01-28 12:45:00], '141312': [2019-01-08 23:20:00], '141313': [2019-01-09 15:03:00], '141314': [2019-01-13 23:51:00], '141315': [2019-01-10 01:32:00], '141316': [2019-01-01 07:26:00], '141317': [2019-01-21 11:18:00], '141318': [2019-01-09 15:21:00], '141319': [2019-01-01 10:43:00], '141320': [2019-01-24 13:37:00], '141321': [2019-01-10 09:07:00], '141322': [2019-01-12 21:56:00], '141323': [2019-01-17 21:54:00], '141324': [2019-01-04 23:36:00], '141325': [2019-01-23 15:17:00], '141326': [2019-01-05 13:49:00], '141327': [2019-01-31 01:38:00], '141328': [2019-01-06 23:18:00], '141329': [2019-01-01 16:01:00], '141330': [2019-01-21 13:04:00], '141331': [2019-01-09 18:32:00], '141332': [2019-01-19 18:52:00], '141333': [2019-01-01 13:58:00], ...}"
      ]
     },
     "execution_count": 130,
     "metadata": {
      "tags": []
     },
     "output_type": "execute_result"
    }
   ],
   "source": [
    "df_clean.groupby('Order ID')['Product'].groups"
   ]
  },
  {
   "cell_type": "code",
   "execution_count": null,
   "metadata": {
    "id": "7qyB3o2L_gLM"
   },
   "outputs": [],
   "source": [
    "[a b c] a,b b,c a,c"
   ]
  },
  {
   "cell_type": "code",
   "execution_count": null,
   "metadata": {
    "id": "yAHuWvtA96Wd"
   },
   "outputs": [],
   "source": [
    "(usb, iphone)"
   ]
  },
  {
   "cell_type": "code",
   "execution_count": 140,
   "metadata": {
    "id": "5Ebe33VsAnmE"
   },
   "outputs": [],
   "source": [
    "df_clean['sales_product_together'] = df_clean.groupby('Order ID')['Product'].transform(lambda x: '; '.join(set(x)))"
   ]
  },
  {
   "cell_type": "code",
   "execution_count": 146,
   "metadata": {
    "colab": {
     "base_uri": "https://localhost:8080/",
     "height": 1000
    },
    "id": "zQ5WNH3YAxVs",
    "outputId": "73b1739f-f869-4f62-a5c8-a2e25cb05ca6"
   },
   "outputs": [
    {
     "data": {
      "text/html": [
       "<div>\n",
       "<style scoped>\n",
       "    .dataframe tbody tr th:only-of-type {\n",
       "        vertical-align: middle;\n",
       "    }\n",
       "\n",
       "    .dataframe tbody tr th {\n",
       "        vertical-align: top;\n",
       "    }\n",
       "\n",
       "    .dataframe thead th {\n",
       "        text-align: right;\n",
       "    }\n",
       "</style>\n",
       "<table border=\"1\" class=\"dataframe\">\n",
       "  <thead>\n",
       "    <tr style=\"text-align: right;\">\n",
       "      <th></th>\n",
       "      <th>Order ID</th>\n",
       "      <th>Product</th>\n",
       "      <th>Quantity Ordered</th>\n",
       "      <th>Price Each</th>\n",
       "      <th>Purchase Address</th>\n",
       "      <th>Month</th>\n",
       "      <th>chiffre_daffaire</th>\n",
       "      <th>ville</th>\n",
       "      <th>heure</th>\n",
       "      <th>time</th>\n",
       "      <th>sales_together</th>\n",
       "      <th>sales_product_together</th>\n",
       "    </tr>\n",
       "    <tr>\n",
       "      <th>Order Date</th>\n",
       "      <th></th>\n",
       "      <th></th>\n",
       "      <th></th>\n",
       "      <th></th>\n",
       "      <th></th>\n",
       "      <th></th>\n",
       "      <th></th>\n",
       "      <th></th>\n",
       "      <th></th>\n",
       "      <th></th>\n",
       "      <th></th>\n",
       "      <th></th>\n",
       "    </tr>\n",
       "  </thead>\n",
       "  <tbody>\n",
       "    <tr>\n",
       "      <th>2019-01-01 03:07:00</th>\n",
       "      <td>147268</td>\n",
       "      <td>Wired Headphones</td>\n",
       "      <td>1</td>\n",
       "      <td>11.99</td>\n",
       "      <td>9 Lake St, New York City, NY 10001</td>\n",
       "      <td>January</td>\n",
       "      <td>11.99</td>\n",
       "      <td>New York City</td>\n",
       "      <td>3</td>\n",
       "      <td>03:07:00</td>\n",
       "      <td>NaN</td>\n",
       "      <td>Wired Headphones</td>\n",
       "    </tr>\n",
       "    <tr>\n",
       "      <th>2019-01-01 03:40:00</th>\n",
       "      <td>148041</td>\n",
       "      <td>USB-C Charging Cable</td>\n",
       "      <td>1</td>\n",
       "      <td>11.95</td>\n",
       "      <td>760 Church St, San Francisco, CA 94016</td>\n",
       "      <td>January</td>\n",
       "      <td>11.95</td>\n",
       "      <td>San Francisco</td>\n",
       "      <td>3</td>\n",
       "      <td>03:40:00</td>\n",
       "      <td>NaN</td>\n",
       "      <td>USB-C Charging Cable</td>\n",
       "    </tr>\n",
       "    <tr>\n",
       "      <th>2019-01-01 04:56:00</th>\n",
       "      <td>149343</td>\n",
       "      <td>Apple Airpods Headphones</td>\n",
       "      <td>1</td>\n",
       "      <td>150.00</td>\n",
       "      <td>735 5th St, New York City, NY 10001</td>\n",
       "      <td>January</td>\n",
       "      <td>150.00</td>\n",
       "      <td>New York City</td>\n",
       "      <td>4</td>\n",
       "      <td>04:56:00</td>\n",
       "      <td>NaN</td>\n",
       "      <td>Apple Airpods Headphones</td>\n",
       "    </tr>\n",
       "    <tr>\n",
       "      <th>2019-01-01 05:53:00</th>\n",
       "      <td>149964</td>\n",
       "      <td>AAA Batteries (4-pack)</td>\n",
       "      <td>1</td>\n",
       "      <td>2.99</td>\n",
       "      <td>75 Jackson St, Dallas, TX 75001</td>\n",
       "      <td>January</td>\n",
       "      <td>2.99</td>\n",
       "      <td>Dallas</td>\n",
       "      <td>5</td>\n",
       "      <td>05:53:00</td>\n",
       "      <td>NaN</td>\n",
       "      <td>AAA Batteries (4-pack)</td>\n",
       "    </tr>\n",
       "    <tr>\n",
       "      <th>2019-01-01 06:03:00</th>\n",
       "      <td>149350</td>\n",
       "      <td>USB-C Charging Cable</td>\n",
       "      <td>2</td>\n",
       "      <td>11.95</td>\n",
       "      <td>943 2nd St, Atlanta, GA 30301</td>\n",
       "      <td>January</td>\n",
       "      <td>23.90</td>\n",
       "      <td>Atlanta</td>\n",
       "      <td>6</td>\n",
       "      <td>06:03:00</td>\n",
       "      <td>NaN</td>\n",
       "      <td>USB-C Charging Cable</td>\n",
       "    </tr>\n",
       "    <tr>\n",
       "      <th>...</th>\n",
       "      <td>...</td>\n",
       "      <td>...</td>\n",
       "      <td>...</td>\n",
       "      <td>...</td>\n",
       "      <td>...</td>\n",
       "      <td>...</td>\n",
       "      <td>...</td>\n",
       "      <td>...</td>\n",
       "      <td>...</td>\n",
       "      <td>...</td>\n",
       "      <td>...</td>\n",
       "      <td>...</td>\n",
       "    </tr>\n",
       "    <tr>\n",
       "      <th>2020-01-01 04:13:00</th>\n",
       "      <td>304165</td>\n",
       "      <td>AAA Batteries (4-pack)</td>\n",
       "      <td>1</td>\n",
       "      <td>2.99</td>\n",
       "      <td>825 Adams St, Portland, OR 97035</td>\n",
       "      <td>January</td>\n",
       "      <td>2.99</td>\n",
       "      <td>Portland</td>\n",
       "      <td>4</td>\n",
       "      <td>04:13:00</td>\n",
       "      <td>NaN</td>\n",
       "      <td>AAA Batteries (4-pack)</td>\n",
       "    </tr>\n",
       "    <tr>\n",
       "      <th>2020-01-01 04:21:00</th>\n",
       "      <td>299125</td>\n",
       "      <td>USB-C Charging Cable</td>\n",
       "      <td>1</td>\n",
       "      <td>11.95</td>\n",
       "      <td>754 Hickory St, New York City, NY 10001</td>\n",
       "      <td>January</td>\n",
       "      <td>11.95</td>\n",
       "      <td>New York City</td>\n",
       "      <td>4</td>\n",
       "      <td>04:21:00</td>\n",
       "      <td>NaN</td>\n",
       "      <td>USB-C Charging Cable</td>\n",
       "    </tr>\n",
       "    <tr>\n",
       "      <th>2020-01-01 04:54:00</th>\n",
       "      <td>305840</td>\n",
       "      <td>Bose SoundSport Headphones</td>\n",
       "      <td>1</td>\n",
       "      <td>99.99</td>\n",
       "      <td>784 River St, San Francisco, CA 94016</td>\n",
       "      <td>January</td>\n",
       "      <td>99.99</td>\n",
       "      <td>San Francisco</td>\n",
       "      <td>4</td>\n",
       "      <td>04:54:00</td>\n",
       "      <td>NaN</td>\n",
       "      <td>Bose SoundSport Headphones</td>\n",
       "    </tr>\n",
       "    <tr>\n",
       "      <th>2020-01-01 05:13:00</th>\n",
       "      <td>300519</td>\n",
       "      <td>Bose SoundSport Headphones</td>\n",
       "      <td>1</td>\n",
       "      <td>99.99</td>\n",
       "      <td>657 Spruce St, New York City, NY 10001</td>\n",
       "      <td>January</td>\n",
       "      <td>99.99</td>\n",
       "      <td>New York City</td>\n",
       "      <td>5</td>\n",
       "      <td>05:13:00</td>\n",
       "      <td>NaN</td>\n",
       "      <td>Lightning Charging Cable; Bose SoundSport Head...</td>\n",
       "    </tr>\n",
       "    <tr>\n",
       "      <th>2020-01-01 05:13:00</th>\n",
       "      <td>300519</td>\n",
       "      <td>Lightning Charging Cable</td>\n",
       "      <td>1</td>\n",
       "      <td>14.95</td>\n",
       "      <td>657 Spruce St, New York City, NY 10001</td>\n",
       "      <td>January</td>\n",
       "      <td>14.95</td>\n",
       "      <td>New York City</td>\n",
       "      <td>5</td>\n",
       "      <td>05:13:00</td>\n",
       "      <td>NaN</td>\n",
       "      <td>Lightning Charging Cable; Bose SoundSport Head...</td>\n",
       "    </tr>\n",
       "  </tbody>\n",
       "</table>\n",
       "<p>182735 rows × 12 columns</p>\n",
       "</div>"
      ],
      "text/plain": [
       "                    Order ID  ...                             sales_product_together\n",
       "Order Date                    ...                                                   \n",
       "2019-01-01 03:07:00   147268  ...                                   Wired Headphones\n",
       "2019-01-01 03:40:00   148041  ...                               USB-C Charging Cable\n",
       "2019-01-01 04:56:00   149343  ...                           Apple Airpods Headphones\n",
       "2019-01-01 05:53:00   149964  ...                             AAA Batteries (4-pack)\n",
       "2019-01-01 06:03:00   149350  ...                               USB-C Charging Cable\n",
       "...                      ...  ...                                                ...\n",
       "2020-01-01 04:13:00   304165  ...                             AAA Batteries (4-pack)\n",
       "2020-01-01 04:21:00   299125  ...                               USB-C Charging Cable\n",
       "2020-01-01 04:54:00   305840  ...                         Bose SoundSport Headphones\n",
       "2020-01-01 05:13:00   300519  ...  Lightning Charging Cable; Bose SoundSport Head...\n",
       "2020-01-01 05:13:00   300519  ...  Lightning Charging Cable; Bose SoundSport Head...\n",
       "\n",
       "[182735 rows x 12 columns]"
      ]
     },
     "execution_count": 146,
     "metadata": {
      "tags": []
     },
     "output_type": "execute_result"
    }
   ],
   "source": [
    "df_clean"
   ]
  },
  {
   "cell_type": "code",
   "execution_count": 150,
   "metadata": {
    "colab": {
     "base_uri": "https://localhost:8080/",
     "height": 415
    },
    "id": "1vE50d_nByrO",
    "outputId": "b6f8e5f7-0830-4edb-dd30-3894f9ea5ea8"
   },
   "outputs": [
    {
     "data": {
      "text/html": [
       "<div>\n",
       "<style scoped>\n",
       "    .dataframe tbody tr th:only-of-type {\n",
       "        vertical-align: middle;\n",
       "    }\n",
       "\n",
       "    .dataframe tbody tr th {\n",
       "        vertical-align: top;\n",
       "    }\n",
       "\n",
       "    .dataframe thead th {\n",
       "        text-align: right;\n",
       "    }\n",
       "</style>\n",
       "<table border=\"1\" class=\"dataframe\">\n",
       "  <thead>\n",
       "    <tr style=\"text-align: right;\">\n",
       "      <th></th>\n",
       "      <th>sales_product_together</th>\n",
       "    </tr>\n",
       "  </thead>\n",
       "  <tbody>\n",
       "    <tr>\n",
       "      <th>Lightning Charging Cable</th>\n",
       "      <td>19632</td>\n",
       "    </tr>\n",
       "    <tr>\n",
       "      <th>AAA Batteries (4-pack)</th>\n",
       "      <td>19597</td>\n",
       "    </tr>\n",
       "    <tr>\n",
       "      <th>USB-C Charging Cable</th>\n",
       "      <td>19563</td>\n",
       "    </tr>\n",
       "    <tr>\n",
       "      <th>AA Batteries (4-pack)</th>\n",
       "      <td>19537</td>\n",
       "    </tr>\n",
       "    <tr>\n",
       "      <th>Wired Headphones</th>\n",
       "      <td>16979</td>\n",
       "    </tr>\n",
       "    <tr>\n",
       "      <th>...</th>\n",
       "      <td>...</td>\n",
       "    </tr>\n",
       "    <tr>\n",
       "      <th>Google Phone; LG Dryer</th>\n",
       "      <td>2</td>\n",
       "    </tr>\n",
       "    <tr>\n",
       "      <th>USB-C Charging Cable; LG Dryer</th>\n",
       "      <td>2</td>\n",
       "    </tr>\n",
       "    <tr>\n",
       "      <th>Flatscreen TV; LG Dryer</th>\n",
       "      <td>2</td>\n",
       "    </tr>\n",
       "    <tr>\n",
       "      <th>LG Washing Machine; 27in FHD Monitor</th>\n",
       "      <td>2</td>\n",
       "    </tr>\n",
       "    <tr>\n",
       "      <th>Wired Headphones; LG Dryer</th>\n",
       "      <td>2</td>\n",
       "    </tr>\n",
       "  </tbody>\n",
       "</table>\n",
       "<p>241 rows × 1 columns</p>\n",
       "</div>"
      ],
      "text/plain": [
       "                                      sales_product_together\n",
       "Lightning Charging Cable                               19632\n",
       "AAA Batteries (4-pack)                                 19597\n",
       "USB-C Charging Cable                                   19563\n",
       "AA Batteries (4-pack)                                  19537\n",
       "Wired Headphones                                       16979\n",
       "...                                                      ...\n",
       "Google Phone; LG Dryer                                     2\n",
       "USB-C Charging Cable; LG Dryer                             2\n",
       "Flatscreen TV; LG Dryer                                    2\n",
       "LG Washing Machine; 27in FHD Monitor                       2\n",
       "Wired Headphones; LG Dryer                                 2\n",
       "\n",
       "[241 rows x 1 columns]"
      ]
     },
     "execution_count": 150,
     "metadata": {
      "tags": []
     },
     "output_type": "execute_result"
    }
   ],
   "source": [
    "pduit = pd.DataFrame(df_clean['sales_product_together'].value_counts())\n",
    "pduit"
   ]
  },
  {
   "cell_type": "code",
   "execution_count": 160,
   "metadata": {
    "colab": {
     "base_uri": "https://localhost:8080/"
    },
    "id": "Pz0njjRRCYa-",
    "outputId": "ba516c9b-d8bc-4d0d-d604-8614cf05fddc"
   },
   "outputs": [
    {
     "data": {
      "text/plain": [
       "['Lightning Charging Cable',\n",
       " 'AAA Batteries (4-pack)',\n",
       " 'USB-C Charging Cable',\n",
       " 'AA Batteries (4-pack)',\n",
       " 'Wired Headphones',\n",
       " 'Apple Airpods Headphones',\n",
       " 'Bose SoundSport Headphones',\n",
       " '27in FHD Monitor',\n",
       " '27in 4K Gaming Monitor',\n",
       " '34in Ultrawide Monitor',\n",
       " 'iPhone',\n",
       " 'Flatscreen TV',\n",
       " 'Macbook Pro Laptop',\n",
       " 'ThinkPad Laptop',\n",
       " '20in Monitor',\n",
       " 'Google Phone',\n",
       " 'Lightning Charging Cable; iPhone',\n",
       " 'Vareebadd Phone',\n",
       " 'Google Phone; USB-C Charging Cable',\n",
       " 'USB-C Charging Cable; Google Phone',\n",
       " 'Wired Headphones; iPhone',\n",
       " 'LG Washing Machine',\n",
       " 'LG Dryer',\n",
       " 'USB-C Charging Cable; Vareebadd Phone',\n",
       " 'Google Phone; Wired Headphones',\n",
       " 'iPhone; Apple Airpods Headphones',\n",
       " 'Google Phone; Bose SoundSport Headphones',\n",
       " 'Lightning Charging Cable; AA Batteries (4-pack)',\n",
       " 'USB-C Charging Cable; AAA Batteries (4-pack)',\n",
       " 'Wired Headphones; AAA Batteries (4-pack)',\n",
       " 'USB-C Charging Cable; Wired Headphones',\n",
       " 'Lightning Charging Cable; Wired Headphones; iPhone',\n",
       " 'Lightning Charging Cable; AAA Batteries (4-pack)',\n",
       " 'Wired Headphones; AA Batteries (4-pack)',\n",
       " 'AAA Batteries (4-pack); Apple Airpods Headphones',\n",
       " 'USB-C Charging Cable; AA Batteries (4-pack)',\n",
       " 'Wired Headphones; Apple Airpods Headphones',\n",
       " 'Lightning Charging Cable; Wired Headphones',\n",
       " 'AA Batteries (4-pack); Apple Airpods Headphones',\n",
       " 'Lightning Charging Cable; Apple Airpods Headphones',\n",
       " 'Lightning Charging Cable; Bose SoundSport Headphones',\n",
       " 'Wired Headphones; Vareebadd Phone',\n",
       " 'USB-C Charging Cable; Apple Airpods Headphones',\n",
       " 'Google Phone; Wired Headphones; USB-C Charging Cable',\n",
       " 'Lightning Charging Cable; iPhone; Apple Airpods Headphones',\n",
       " 'Vareebadd Phone; Bose SoundSport Headphones',\n",
       " 'USB-C Charging Cable; Wired Headphones; Google Phone',\n",
       " 'AAA Batteries (4-pack); Bose SoundSport Headphones',\n",
       " 'USB-C Charging Cable; Bose SoundSport Headphones',\n",
       " 'AA Batteries (4-pack); Bose SoundSport Headphones',\n",
       " 'USB-C Charging Cable; Lightning Charging Cable',\n",
       " 'AA Batteries (4-pack); AAA Batteries (4-pack)',\n",
       " 'Apple Airpods Headphones; Bose SoundSport Headphones',\n",
       " 'Vareebadd Phone; Wired Headphones',\n",
       " 'Lightning Charging Cable; USB-C Charging Cable',\n",
       " 'Wired Headphones; Bose SoundSport Headphones',\n",
       " 'USB-C Charging Cable; 27in FHD Monitor',\n",
       " 'AAA Batteries (4-pack); 27in FHD Monitor',\n",
       " 'AAA Batteries (4-pack); AA Batteries (4-pack)',\n",
       " 'Lightning Charging Cable; 27in FHD Monitor',\n",
       " 'Wired Headphones; iPhone; Apple Airpods Headphones',\n",
       " 'AA Batteries (4-pack); 34in Ultrawide Monitor',\n",
       " 'Google Phone; Wired Headphones; Bose SoundSport Headphones',\n",
       " 'Lightning Charging Cable; 34in Ultrawide Monitor',\n",
       " 'Lightning Charging Cable; 27in 4K Gaming Monitor',\n",
       " 'USB-C Charging Cable; Wired Headphones; Vareebadd Phone',\n",
       " 'AAA Batteries (4-pack); 27in 4K Gaming Monitor',\n",
       " 'AA Batteries (4-pack); iPhone',\n",
       " 'Wired Headphones; 34in Ultrawide Monitor',\n",
       " 'USB-C Charging Cable; Google Phone; Bose SoundSport Headphones',\n",
       " 'AAA Batteries (4-pack); ThinkPad Laptop',\n",
       " 'Wired Headphones; 27in 4K Gaming Monitor',\n",
       " 'AA Batteries (4-pack); 27in FHD Monitor',\n",
       " 'USB-C Charging Cable; 20in Monitor',\n",
       " 'AAA Batteries (4-pack); iPhone',\n",
       " 'AA Batteries (4-pack); 27in 4K Gaming Monitor',\n",
       " 'USB-C Charging Cable; 34in Ultrawide Monitor',\n",
       " '27in FHD Monitor; Bose SoundSport Headphones',\n",
       " 'AAA Batteries (4-pack); 34in Ultrawide Monitor',\n",
       " 'USB-C Charging Cable; iPhone',\n",
       " 'Lightning Charging Cable; 20in Monitor',\n",
       " 'USB-C Charging Cable; 27in 4K Gaming Monitor',\n",
       " 'Lightning Charging Cable; Macbook Pro Laptop',\n",
       " 'Apple Airpods Headphones; 27in 4K Gaming Monitor',\n",
       " 'Wired Headphones; 27in FHD Monitor',\n",
       " 'USB-C Charging Cable; ThinkPad Laptop',\n",
       " 'Google Phone; AA Batteries (4-pack)',\n",
       " 'USB-C Charging Cable; Vareebadd Phone; Bose SoundSport Headphones',\n",
       " 'Google Phone; AAA Batteries (4-pack)',\n",
       " 'Lightning Charging Cable; Flatscreen TV',\n",
       " 'Bose SoundSport Headphones; 27in 4K Gaming Monitor',\n",
       " 'Wired Headphones; 20in Monitor',\n",
       " 'USB-C Charging Cable; Macbook Pro Laptop',\n",
       " 'Wired Headphones; Macbook Pro Laptop',\n",
       " 'Lightning Charging Cable; ThinkPad Laptop',\n",
       " 'USB-C Charging Cable; Flatscreen TV',\n",
       " 'Google Phone; Apple Airpods Headphones',\n",
       " 'AA Batteries (4-pack); ThinkPad Laptop',\n",
       " 'AA Batteries (4-pack); Macbook Pro Laptop',\n",
       " 'AAA Batteries (4-pack); Macbook Pro Laptop',\n",
       " 'ThinkPad Laptop; Apple Airpods Headphones',\n",
       " 'Apple Airpods Headphones; Macbook Pro Laptop',\n",
       " 'AA Batteries (4-pack); 20in Monitor',\n",
       " '34in Ultrawide Monitor; Bose SoundSport Headphones',\n",
       " 'USB-C Charging Cable; Vareebadd Phone; Wired Headphones',\n",
       " '20in Monitor; Bose SoundSport Headphones',\n",
       " 'Google Phone; Lightning Charging Cable',\n",
       " 'Apple Airpods Headphones; 27in FHD Monitor',\n",
       " 'Wired Headphones; ThinkPad Laptop',\n",
       " '34in Ultrawide Monitor; Apple Airpods Headphones',\n",
       " 'Flatscreen TV; Apple Airpods Headphones',\n",
       " '34in Ultrawide Monitor; iPhone',\n",
       " 'Macbook Pro Laptop; 27in 4K Gaming Monitor',\n",
       " 'Google Phone; USB-C Charging Cable; Bose SoundSport Headphones',\n",
       " 'AAA Batteries (4-pack); Flatscreen TV',\n",
       " 'ThinkPad Laptop; Bose SoundSport Headphones',\n",
       " '20in Monitor; Apple Airpods Headphones',\n",
       " 'iPhone; Bose SoundSport Headphones',\n",
       " 'Vareebadd Phone; AA Batteries (4-pack)',\n",
       " 'AA Batteries (4-pack); Flatscreen TV',\n",
       " 'Flatscreen TV; Bose SoundSport Headphones',\n",
       " 'Wired Headphones; Flatscreen TV',\n",
       " 'AAA Batteries (4-pack); 20in Monitor',\n",
       " '27in FHD Monitor; Apple Airpods Headphones',\n",
       " '34in Ultrawide Monitor; 27in FHD Monitor',\n",
       " 'Lightning Charging Cable; Google Phone',\n",
       " 'Vareebadd Phone; Apple Airpods Headphones',\n",
       " 'Flatscreen TV; AA Batteries (4-pack)',\n",
       " 'Google Phone; Bose SoundSport Headphones; USB-C Charging Cable',\n",
       " 'Flatscreen TV; iPhone',\n",
       " 'Macbook Pro Laptop; Bose SoundSport Headphones',\n",
       " 'Flatscreen TV; AAA Batteries (4-pack)',\n",
       " '27in FHD Monitor; 27in 4K Gaming Monitor',\n",
       " 'iPhone; 27in 4K Gaming Monitor',\n",
       " 'Bose SoundSport Headphones; Macbook Pro Laptop',\n",
       " 'Flatscreen TV; 34in Ultrawide Monitor',\n",
       " '27in FHD Monitor; Macbook Pro Laptop',\n",
       " '34in Ultrawide Monitor; Macbook Pro Laptop',\n",
       " 'AA Batteries (4-pack); LG Dryer',\n",
       " 'Google Phone; iPhone',\n",
       " 'ThinkPad Laptop; 27in FHD Monitor',\n",
       " 'Vareebadd Phone; AAA Batteries (4-pack)',\n",
       " 'Lightning Charging Cable; Wired Headphones; iPhone; Apple Airpods Headphones',\n",
       " '20in Monitor; Macbook Pro Laptop',\n",
       " 'ThinkPad Laptop; iPhone',\n",
       " 'Lightning Charging Cable; LG Washing Machine',\n",
       " 'iPhone; Macbook Pro Laptop',\n",
       " 'Google Phone; Macbook Pro Laptop',\n",
       " 'Flatscreen TV; ThinkPad Laptop',\n",
       " 'Google Phone; 27in 4K Gaming Monitor',\n",
       " '34in Ultrawide Monitor; 27in 4K Gaming Monitor',\n",
       " 'Google Phone; ThinkPad Laptop',\n",
       " 'Google Phone; 27in FHD Monitor',\n",
       " 'Flatscreen TV; 27in 4K Gaming Monitor',\n",
       " 'Flatscreen TV; 27in FHD Monitor',\n",
       " 'ThinkPad Laptop; 27in 4K Gaming Monitor',\n",
       " 'AAA Batteries (4-pack); iPhone; Apple Airpods Headphones',\n",
       " 'Flatscreen TV; Macbook Pro Laptop',\n",
       " 'Vareebadd Phone; 34in Ultrawide Monitor',\n",
       " 'Google Phone; Vareebadd Phone',\n",
       " '20in Monitor; 27in FHD Monitor',\n",
       " 'Wired Headphones; LG Washing Machine',\n",
       " 'AAA Batteries (4-pack); LG Washing Machine',\n",
       " 'ThinkPad Laptop; Macbook Pro Laptop',\n",
       " '34in Ultrawide Monitor; ThinkPad Laptop',\n",
       " 'Google Phone; 20in Monitor',\n",
       " 'Vareebadd Phone; iPhone',\n",
       " 'Google Phone; Wired Headphones; USB-C Charging Cable; Bose SoundSport Headphones',\n",
       " 'Google Phone; Flatscreen TV',\n",
       " 'Google Phone; 34in Ultrawide Monitor',\n",
       " 'Google Phone; AA Batteries (4-pack); USB-C Charging Cable',\n",
       " 'Lightning Charging Cable; Vareebadd Phone',\n",
       " 'Lightning Charging Cable; AA Batteries (4-pack); iPhone',\n",
       " 'Apple Airpods Headphones; LG Dryer',\n",
       " 'Google Phone; AAA Batteries (4-pack); USB-C Charging Cable',\n",
       " 'Lightning Charging Cable; LG Dryer',\n",
       " 'Google Phone; Lightning Charging Cable; Apple Airpods Headphones; Wired Headphones; iPhone',\n",
       " 'USB-C Charging Cable; Wired Headphones; Bose SoundSport Headphones; Vareebadd Phone',\n",
       " 'USB-C Charging Cable; Wired Headphones; iPhone; Google Phone',\n",
       " 'ThinkPad Laptop; 20in Monitor',\n",
       " 'USB-C Charging Cable; Wired Headphones; 27in FHD Monitor; Google Phone',\n",
       " 'LG Dryer; 27in 4K Gaming Monitor',\n",
       " 'Vareebadd Phone; 27in FHD Monitor',\n",
       " 'Lightning Charging Cable; Wired Headphones; AA Batteries (4-pack); iPhone',\n",
       " '20in Monitor; 27in 4K Gaming Monitor',\n",
       " 'iPhone; 20in Monitor',\n",
       " 'LG Washing Machine; Macbook Pro Laptop',\n",
       " 'LG Washing Machine; Bose SoundSport Headphones',\n",
       " 'LG Washing Machine; 20in Monitor',\n",
       " '34in Ultrawide Monitor; 20in Monitor',\n",
       " 'Vareebadd Phone; ThinkPad Laptop',\n",
       " 'Google Phone; Wired Headphones; Apple Airpods Headphones; USB-C Charging Cable',\n",
       " 'Vareebadd Phone; Flatscreen TV',\n",
       " 'Google Phone; Wired Headphones; AA Batteries (4-pack); USB-C Charging Cable',\n",
       " 'USB-C Charging Cable; Vareebadd Phone; Bose SoundSport Headphones; Wired Headphones',\n",
       " 'AAA Batteries (4-pack); LG Dryer',\n",
       " '27in FHD Monitor; LG Dryer',\n",
       " 'LG Washing Machine; iPhone',\n",
       " 'Lightning Charging Cable; Wired Headphones; iPhone; USB-C Charging Cable',\n",
       " 'Google Phone; 34in Ultrawide Monitor; Bose SoundSport Headphones; USB-C Charging Cable',\n",
       " 'Flatscreen TV; 20in Monitor',\n",
       " 'Vareebadd Phone; 27in 4K Gaming Monitor',\n",
       " 'Lightning Charging Cable; Vareebadd Phone; iPhone',\n",
       " 'USB-C Charging Cable; Lightning Charging Cable; iPhone',\n",
       " 'Google Phone; Wired Headphones; AA Batteries (4-pack)',\n",
       " 'Google Phone; Lightning Charging Cable; Bose SoundSport Headphones',\n",
       " 'Vareebadd Phone; Apple Airpods Headphones; Wired Headphones',\n",
       " 'Google Phone; Wired Headphones; Macbook Pro Laptop',\n",
       " 'Wired Headphones; Bose SoundSport Headphones; Vareebadd Phone',\n",
       " 'USB-C Charging Cable; AAA Batteries (4-pack); Google Phone',\n",
       " 'Google Phone; 27in FHD Monitor; Bose SoundSport Headphones',\n",
       " 'Vareebadd Phone; Wired Headphones; 27in 4K Gaming Monitor',\n",
       " 'USB-C Charging Cable; Lightning Charging Cable; Google Phone',\n",
       " 'Google Phone; Apple Airpods Headphones; Bose SoundSport Headphones',\n",
       " 'Lightning Charging Cable; iPhone; USB-C Charging Cable',\n",
       " 'USB-C Charging Cable; 27in FHD Monitor; Google Phone',\n",
       " 'iPhone; Apple Airpods Headphones; Bose SoundSport Headphones',\n",
       " 'USB-C Charging Cable; Vareebadd Phone; Apple Airpods Headphones',\n",
       " 'Vareebadd Phone; Bose SoundSport Headphones; Wired Headphones',\n",
       " 'Lightning Charging Cable; iPhone; Google Phone',\n",
       " 'Vareebadd Phone; Flatscreen TV; Bose SoundSport Headphones',\n",
       " 'USB-C Charging Cable; Vareebadd Phone; Google Phone',\n",
       " 'Lightning Charging Cable; 34in Ultrawide Monitor; iPhone',\n",
       " 'Lightning Charging Cable; Flatscreen TV; iPhone',\n",
       " 'Lightning Charging Cable; iPhone; 27in 4K Gaming Monitor',\n",
       " 'Google Phone; Apple Airpods Headphones; USB-C Charging Cable',\n",
       " 'USB-C Charging Cable; Vareebadd Phone; iPhone',\n",
       " 'Vareebadd Phone; iPhone; Wired Headphones',\n",
       " 'ThinkPad Laptop; LG Dryer',\n",
       " 'Google Phone; LG Washing Machine',\n",
       " 'Vareebadd Phone; LG Dryer',\n",
       " 'LG Washing Machine; Apple Airpods Headphones',\n",
       " 'LG Washing Machine; 34in Ultrawide Monitor',\n",
       " 'iPhone; 27in FHD Monitor',\n",
       " 'LG Washing Machine; 27in 4K Gaming Monitor',\n",
       " 'AA Batteries (4-pack); LG Washing Machine',\n",
       " 'Google Phone; LG Dryer',\n",
       " 'USB-C Charging Cable; LG Dryer',\n",
       " 'Flatscreen TV; LG Dryer',\n",
       " 'LG Washing Machine; 27in FHD Monitor',\n",
       " 'Wired Headphones; LG Dryer']"
      ]
     },
     "execution_count": 160,
     "metadata": {
      "tags": []
     },
     "output_type": "execute_result"
    }
   ],
   "source": [
    "pduit.index.to_list()"
   ]
  },
  {
   "cell_type": "code",
   "execution_count": 152,
   "metadata": {
    "colab": {
     "base_uri": "https://localhost:8080/",
     "height": 606
    },
    "id": "egh1w1GAByeB",
    "outputId": "4b4a2c56-211d-4ce1-d3f7-8f8d1a071c43"
   },
   "outputs": [
    {
     "ename": "KeyError",
     "evalue": "ignored",
     "output_type": "error",
     "traceback": [
      "\u001b[0;31m---------------------------------------------------------------------------\u001b[0m",
      "\u001b[0;31mKeyError\u001b[0m                                  Traceback (most recent call last)",
      "\u001b[0;32m/usr/local/lib/python3.7/dist-packages/pandas/core/indexes/base.py\u001b[0m in \u001b[0;36mget_loc\u001b[0;34m(self, key, method, tolerance)\u001b[0m\n\u001b[1;32m   2897\u001b[0m             \u001b[0;32mtry\u001b[0m\u001b[0;34m:\u001b[0m\u001b[0;34m\u001b[0m\u001b[0;34m\u001b[0m\u001b[0m\n\u001b[0;32m-> 2898\u001b[0;31m                 \u001b[0;32mreturn\u001b[0m \u001b[0mself\u001b[0m\u001b[0;34m.\u001b[0m\u001b[0m_engine\u001b[0m\u001b[0;34m.\u001b[0m\u001b[0mget_loc\u001b[0m\u001b[0;34m(\u001b[0m\u001b[0mcasted_key\u001b[0m\u001b[0;34m)\u001b[0m\u001b[0;34m\u001b[0m\u001b[0;34m\u001b[0m\u001b[0m\n\u001b[0m\u001b[1;32m   2899\u001b[0m             \u001b[0;32mexcept\u001b[0m \u001b[0mKeyError\u001b[0m \u001b[0;32mas\u001b[0m \u001b[0merr\u001b[0m\u001b[0;34m:\u001b[0m\u001b[0;34m\u001b[0m\u001b[0;34m\u001b[0m\u001b[0m\n",
      "\u001b[0;32mpandas/_libs/index.pyx\u001b[0m in \u001b[0;36mpandas._libs.index.IndexEngine.get_loc\u001b[0;34m()\u001b[0m\n",
      "\u001b[0;32mpandas/_libs/index.pyx\u001b[0m in \u001b[0;36mpandas._libs.index.IndexEngine.get_loc\u001b[0;34m()\u001b[0m\n",
      "\u001b[0;32mpandas/_libs/hashtable_class_helper.pxi\u001b[0m in \u001b[0;36mpandas._libs.hashtable.PyObjectHashTable.get_item\u001b[0;34m()\u001b[0m\n",
      "\u001b[0;32mpandas/_libs/hashtable_class_helper.pxi\u001b[0m in \u001b[0;36mpandas._libs.hashtable.PyObjectHashTable.get_item\u001b[0;34m()\u001b[0m\n",
      "\u001b[0;31mKeyError\u001b[0m: False",
      "\nThe above exception was the direct cause of the following exception:\n",
      "\u001b[0;31mKeyError\u001b[0m                                  Traceback (most recent call last)",
      "\u001b[0;32m<ipython-input-152-f88587b21c39>\u001b[0m in \u001b[0;36m<module>\u001b[0;34m()\u001b[0m\n\u001b[0;32m----> 1\u001b[0;31m \u001b[0mpduit\u001b[0m\u001b[0;34m.\u001b[0m\u001b[0mloc\u001b[0m\u001b[0;34m[\u001b[0m\u001b[0;34m\";\"\u001b[0m \u001b[0;32min\u001b[0m \u001b[0mpduit\u001b[0m\u001b[0;34m.\u001b[0m\u001b[0mindex\u001b[0m\u001b[0;34m,\u001b[0m \u001b[0;34m:\u001b[0m\u001b[0;34m]\u001b[0m\u001b[0;34m\u001b[0m\u001b[0;34m\u001b[0m\u001b[0m\n\u001b[0m",
      "\u001b[0;32m/usr/local/lib/python3.7/dist-packages/pandas/core/indexing.py\u001b[0m in \u001b[0;36m__getitem__\u001b[0;34m(self, key)\u001b[0m\n\u001b[1;32m    871\u001b[0m                     \u001b[0;31m# AttributeError for IntervalTree get_value\u001b[0m\u001b[0;34m\u001b[0m\u001b[0;34m\u001b[0m\u001b[0;34m\u001b[0m\u001b[0m\n\u001b[1;32m    872\u001b[0m                     \u001b[0;32mpass\u001b[0m\u001b[0;34m\u001b[0m\u001b[0;34m\u001b[0m\u001b[0m\n\u001b[0;32m--> 873\u001b[0;31m             \u001b[0;32mreturn\u001b[0m \u001b[0mself\u001b[0m\u001b[0;34m.\u001b[0m\u001b[0m_getitem_tuple\u001b[0m\u001b[0;34m(\u001b[0m\u001b[0mkey\u001b[0m\u001b[0;34m)\u001b[0m\u001b[0;34m\u001b[0m\u001b[0;34m\u001b[0m\u001b[0m\n\u001b[0m\u001b[1;32m    874\u001b[0m         \u001b[0;32melse\u001b[0m\u001b[0;34m:\u001b[0m\u001b[0;34m\u001b[0m\u001b[0;34m\u001b[0m\u001b[0m\n\u001b[1;32m    875\u001b[0m             \u001b[0;31m# we by definition only have the 0th axis\u001b[0m\u001b[0;34m\u001b[0m\u001b[0;34m\u001b[0m\u001b[0;34m\u001b[0m\u001b[0m\n",
      "\u001b[0;32m/usr/local/lib/python3.7/dist-packages/pandas/core/indexing.py\u001b[0m in \u001b[0;36m_getitem_tuple\u001b[0;34m(self, tup)\u001b[0m\n\u001b[1;32m   1042\u001b[0m     \u001b[0;32mdef\u001b[0m \u001b[0m_getitem_tuple\u001b[0m\u001b[0;34m(\u001b[0m\u001b[0mself\u001b[0m\u001b[0;34m,\u001b[0m \u001b[0mtup\u001b[0m\u001b[0;34m:\u001b[0m \u001b[0mTuple\u001b[0m\u001b[0;34m)\u001b[0m\u001b[0;34m:\u001b[0m\u001b[0;34m\u001b[0m\u001b[0;34m\u001b[0m\u001b[0m\n\u001b[1;32m   1043\u001b[0m         \u001b[0;32mtry\u001b[0m\u001b[0;34m:\u001b[0m\u001b[0;34m\u001b[0m\u001b[0;34m\u001b[0m\u001b[0m\n\u001b[0;32m-> 1044\u001b[0;31m             \u001b[0;32mreturn\u001b[0m \u001b[0mself\u001b[0m\u001b[0;34m.\u001b[0m\u001b[0m_getitem_lowerdim\u001b[0m\u001b[0;34m(\u001b[0m\u001b[0mtup\u001b[0m\u001b[0;34m)\u001b[0m\u001b[0;34m\u001b[0m\u001b[0;34m\u001b[0m\u001b[0m\n\u001b[0m\u001b[1;32m   1045\u001b[0m         \u001b[0;32mexcept\u001b[0m \u001b[0mIndexingError\u001b[0m\u001b[0;34m:\u001b[0m\u001b[0;34m\u001b[0m\u001b[0;34m\u001b[0m\u001b[0m\n\u001b[1;32m   1046\u001b[0m             \u001b[0;32mpass\u001b[0m\u001b[0;34m\u001b[0m\u001b[0;34m\u001b[0m\u001b[0m\n",
      "\u001b[0;32m/usr/local/lib/python3.7/dist-packages/pandas/core/indexing.py\u001b[0m in \u001b[0;36m_getitem_lowerdim\u001b[0;34m(self, tup)\u001b[0m\n\u001b[1;32m    784\u001b[0m                 \u001b[0;31m# We don't need to check for tuples here because those are\u001b[0m\u001b[0;34m\u001b[0m\u001b[0;34m\u001b[0m\u001b[0;34m\u001b[0m\u001b[0m\n\u001b[1;32m    785\u001b[0m                 \u001b[0;31m#  caught by the _is_nested_tuple_indexer check above.\u001b[0m\u001b[0;34m\u001b[0m\u001b[0;34m\u001b[0m\u001b[0;34m\u001b[0m\u001b[0m\n\u001b[0;32m--> 786\u001b[0;31m                 \u001b[0msection\u001b[0m \u001b[0;34m=\u001b[0m \u001b[0mself\u001b[0m\u001b[0;34m.\u001b[0m\u001b[0m_getitem_axis\u001b[0m\u001b[0;34m(\u001b[0m\u001b[0mkey\u001b[0m\u001b[0;34m,\u001b[0m \u001b[0maxis\u001b[0m\u001b[0;34m=\u001b[0m\u001b[0mi\u001b[0m\u001b[0;34m)\u001b[0m\u001b[0;34m\u001b[0m\u001b[0;34m\u001b[0m\u001b[0m\n\u001b[0m\u001b[1;32m    787\u001b[0m \u001b[0;34m\u001b[0m\u001b[0m\n\u001b[1;32m    788\u001b[0m                 \u001b[0;31m# We should never have a scalar section here, because\u001b[0m\u001b[0;34m\u001b[0m\u001b[0;34m\u001b[0m\u001b[0;34m\u001b[0m\u001b[0m\n",
      "\u001b[0;32m/usr/local/lib/python3.7/dist-packages/pandas/core/indexing.py\u001b[0m in \u001b[0;36m_getitem_axis\u001b[0;34m(self, key, axis)\u001b[0m\n\u001b[1;32m   1108\u001b[0m         \u001b[0;31m# fall thru to straight lookup\u001b[0m\u001b[0;34m\u001b[0m\u001b[0;34m\u001b[0m\u001b[0;34m\u001b[0m\u001b[0m\n\u001b[1;32m   1109\u001b[0m         \u001b[0mself\u001b[0m\u001b[0;34m.\u001b[0m\u001b[0m_validate_key\u001b[0m\u001b[0;34m(\u001b[0m\u001b[0mkey\u001b[0m\u001b[0;34m,\u001b[0m \u001b[0maxis\u001b[0m\u001b[0;34m)\u001b[0m\u001b[0;34m\u001b[0m\u001b[0;34m\u001b[0m\u001b[0m\n\u001b[0;32m-> 1110\u001b[0;31m         \u001b[0;32mreturn\u001b[0m \u001b[0mself\u001b[0m\u001b[0;34m.\u001b[0m\u001b[0m_get_label\u001b[0m\u001b[0;34m(\u001b[0m\u001b[0mkey\u001b[0m\u001b[0;34m,\u001b[0m \u001b[0maxis\u001b[0m\u001b[0;34m=\u001b[0m\u001b[0maxis\u001b[0m\u001b[0;34m)\u001b[0m\u001b[0;34m\u001b[0m\u001b[0;34m\u001b[0m\u001b[0m\n\u001b[0m\u001b[1;32m   1111\u001b[0m \u001b[0;34m\u001b[0m\u001b[0m\n\u001b[1;32m   1112\u001b[0m     \u001b[0;32mdef\u001b[0m \u001b[0m_get_slice_axis\u001b[0m\u001b[0;34m(\u001b[0m\u001b[0mself\u001b[0m\u001b[0;34m,\u001b[0m \u001b[0mslice_obj\u001b[0m\u001b[0;34m:\u001b[0m \u001b[0mslice\u001b[0m\u001b[0;34m,\u001b[0m \u001b[0maxis\u001b[0m\u001b[0;34m:\u001b[0m \u001b[0mint\u001b[0m\u001b[0;34m)\u001b[0m\u001b[0;34m:\u001b[0m\u001b[0;34m\u001b[0m\u001b[0;34m\u001b[0m\u001b[0m\n",
      "\u001b[0;32m/usr/local/lib/python3.7/dist-packages/pandas/core/indexing.py\u001b[0m in \u001b[0;36m_get_label\u001b[0;34m(self, label, axis)\u001b[0m\n\u001b[1;32m   1057\u001b[0m     \u001b[0;32mdef\u001b[0m \u001b[0m_get_label\u001b[0m\u001b[0;34m(\u001b[0m\u001b[0mself\u001b[0m\u001b[0;34m,\u001b[0m \u001b[0mlabel\u001b[0m\u001b[0;34m,\u001b[0m \u001b[0maxis\u001b[0m\u001b[0;34m:\u001b[0m \u001b[0mint\u001b[0m\u001b[0;34m)\u001b[0m\u001b[0;34m:\u001b[0m\u001b[0;34m\u001b[0m\u001b[0;34m\u001b[0m\u001b[0m\n\u001b[1;32m   1058\u001b[0m         \u001b[0;31m# GH#5667 this will fail if the label is not present in the axis.\u001b[0m\u001b[0;34m\u001b[0m\u001b[0;34m\u001b[0m\u001b[0;34m\u001b[0m\u001b[0m\n\u001b[0;32m-> 1059\u001b[0;31m         \u001b[0;32mreturn\u001b[0m \u001b[0mself\u001b[0m\u001b[0;34m.\u001b[0m\u001b[0mobj\u001b[0m\u001b[0;34m.\u001b[0m\u001b[0mxs\u001b[0m\u001b[0;34m(\u001b[0m\u001b[0mlabel\u001b[0m\u001b[0;34m,\u001b[0m \u001b[0maxis\u001b[0m\u001b[0;34m=\u001b[0m\u001b[0maxis\u001b[0m\u001b[0;34m)\u001b[0m\u001b[0;34m\u001b[0m\u001b[0;34m\u001b[0m\u001b[0m\n\u001b[0m\u001b[1;32m   1060\u001b[0m \u001b[0;34m\u001b[0m\u001b[0m\n\u001b[1;32m   1061\u001b[0m     \u001b[0;32mdef\u001b[0m \u001b[0m_handle_lowerdim_multi_index_axis0\u001b[0m\u001b[0;34m(\u001b[0m\u001b[0mself\u001b[0m\u001b[0;34m,\u001b[0m \u001b[0mtup\u001b[0m\u001b[0;34m:\u001b[0m \u001b[0mTuple\u001b[0m\u001b[0;34m)\u001b[0m\u001b[0;34m:\u001b[0m\u001b[0;34m\u001b[0m\u001b[0;34m\u001b[0m\u001b[0m\n",
      "\u001b[0;32m/usr/local/lib/python3.7/dist-packages/pandas/core/generic.py\u001b[0m in \u001b[0;36mxs\u001b[0;34m(self, key, axis, level, drop_level)\u001b[0m\n\u001b[1;32m   3491\u001b[0m             \u001b[0mloc\u001b[0m\u001b[0;34m,\u001b[0m \u001b[0mnew_index\u001b[0m \u001b[0;34m=\u001b[0m \u001b[0mself\u001b[0m\u001b[0;34m.\u001b[0m\u001b[0mindex\u001b[0m\u001b[0;34m.\u001b[0m\u001b[0mget_loc_level\u001b[0m\u001b[0;34m(\u001b[0m\u001b[0mkey\u001b[0m\u001b[0;34m,\u001b[0m \u001b[0mdrop_level\u001b[0m\u001b[0;34m=\u001b[0m\u001b[0mdrop_level\u001b[0m\u001b[0;34m)\u001b[0m\u001b[0;34m\u001b[0m\u001b[0;34m\u001b[0m\u001b[0m\n\u001b[1;32m   3492\u001b[0m         \u001b[0;32melse\u001b[0m\u001b[0;34m:\u001b[0m\u001b[0;34m\u001b[0m\u001b[0;34m\u001b[0m\u001b[0m\n\u001b[0;32m-> 3493\u001b[0;31m             \u001b[0mloc\u001b[0m \u001b[0;34m=\u001b[0m \u001b[0mself\u001b[0m\u001b[0;34m.\u001b[0m\u001b[0mindex\u001b[0m\u001b[0;34m.\u001b[0m\u001b[0mget_loc\u001b[0m\u001b[0;34m(\u001b[0m\u001b[0mkey\u001b[0m\u001b[0;34m)\u001b[0m\u001b[0;34m\u001b[0m\u001b[0;34m\u001b[0m\u001b[0m\n\u001b[0m\u001b[1;32m   3494\u001b[0m \u001b[0;34m\u001b[0m\u001b[0m\n\u001b[1;32m   3495\u001b[0m             \u001b[0;32mif\u001b[0m \u001b[0misinstance\u001b[0m\u001b[0;34m(\u001b[0m\u001b[0mloc\u001b[0m\u001b[0;34m,\u001b[0m \u001b[0mnp\u001b[0m\u001b[0;34m.\u001b[0m\u001b[0mndarray\u001b[0m\u001b[0;34m)\u001b[0m\u001b[0;34m:\u001b[0m\u001b[0;34m\u001b[0m\u001b[0;34m\u001b[0m\u001b[0m\n",
      "\u001b[0;32m/usr/local/lib/python3.7/dist-packages/pandas/core/indexes/base.py\u001b[0m in \u001b[0;36mget_loc\u001b[0;34m(self, key, method, tolerance)\u001b[0m\n\u001b[1;32m   2898\u001b[0m                 \u001b[0;32mreturn\u001b[0m \u001b[0mself\u001b[0m\u001b[0;34m.\u001b[0m\u001b[0m_engine\u001b[0m\u001b[0;34m.\u001b[0m\u001b[0mget_loc\u001b[0m\u001b[0;34m(\u001b[0m\u001b[0mcasted_key\u001b[0m\u001b[0;34m)\u001b[0m\u001b[0;34m\u001b[0m\u001b[0;34m\u001b[0m\u001b[0m\n\u001b[1;32m   2899\u001b[0m             \u001b[0;32mexcept\u001b[0m \u001b[0mKeyError\u001b[0m \u001b[0;32mas\u001b[0m \u001b[0merr\u001b[0m\u001b[0;34m:\u001b[0m\u001b[0;34m\u001b[0m\u001b[0;34m\u001b[0m\u001b[0m\n\u001b[0;32m-> 2900\u001b[0;31m                 \u001b[0;32mraise\u001b[0m \u001b[0mKeyError\u001b[0m\u001b[0;34m(\u001b[0m\u001b[0mkey\u001b[0m\u001b[0;34m)\u001b[0m \u001b[0;32mfrom\u001b[0m \u001b[0merr\u001b[0m\u001b[0;34m\u001b[0m\u001b[0;34m\u001b[0m\u001b[0m\n\u001b[0m\u001b[1;32m   2901\u001b[0m \u001b[0;34m\u001b[0m\u001b[0m\n\u001b[1;32m   2902\u001b[0m         \u001b[0;32mif\u001b[0m \u001b[0mtolerance\u001b[0m \u001b[0;32mis\u001b[0m \u001b[0;32mnot\u001b[0m \u001b[0;32mNone\u001b[0m\u001b[0;34m:\u001b[0m\u001b[0;34m\u001b[0m\u001b[0;34m\u001b[0m\u001b[0m\n",
      "\u001b[0;31mKeyError\u001b[0m: False"
     ]
    }
   ],
   "source": [
    "pduit.loc[\";\" in pduit.index, :]"
   ]
  },
  {
   "cell_type": "code",
   "execution_count": null,
   "metadata": {
    "id": "n6LG68erA-Vt"
   },
   "outputs": [],
   "source": []
  },
  {
   "cell_type": "code",
   "execution_count": 143,
   "metadata": {
    "colab": {
     "base_uri": "https://localhost:8080/"
    },
    "id": "3Plpn-uEA-re",
    "outputId": "4cb260d9-e5ad-4c97-96f8-626470760d28"
   },
   "outputs": [
    {
     "data": {
      "text/plain": [
       "Product\n",
       "AAA Batteries (4-pack)        30487\n",
       "AA Batteries (4-pack)         27148\n",
       "USB-C Charging Cable          23555\n",
       "Lightning Charging Cable      22841\n",
       "Wired Headphones              20201\n",
       "Apple Airpods Headphones      15383\n",
       "Bose SoundSport Headphones    13236\n",
       "27in FHD Monitor               7429\n",
       "iPhone                         6732\n",
       "27in 4K Gaming Monitor         6134\n",
       "34in Ultrawide Monitor         6076\n",
       "Google Phone                   5440\n",
       "Flatscreen TV                  4724\n",
       "Macbook Pro Laptop             4645\n",
       "20in Monitor                   4058\n",
       "ThinkPad Laptop                4054\n",
       "Vareebadd Phone                2023\n",
       "LG Washing Machine              649\n",
       "LG Dryer                        640\n",
       "Name: Quantity Ordered, dtype: int64"
      ]
     },
     "execution_count": 143,
     "metadata": {
      "tags": []
     },
     "output_type": "execute_result"
    }
   ],
   "source": [
    "df_clean.groupby('Product').sum()['Quantity Ordered'].sort_values(ascending=False)"
   ]
  },
  {
   "cell_type": "code",
   "execution_count": 170,
   "metadata": {
    "id": "WvDfuVYJDGbz"
   },
   "outputs": [],
   "source": [
    "def filter_number(pdu):\n",
    "  return len(pdu.split(';')) > 1"
   ]
  },
  {
   "cell_type": "code",
   "execution_count": 171,
   "metadata": {
    "id": "vix0KTxmDl3T"
   },
   "outputs": [],
   "source": [
    "pduit['name'] =  pduit.index"
   ]
  },
  {
   "cell_type": "code",
   "execution_count": 172,
   "metadata": {
    "id": "E0g-2j7JDGJr"
   },
   "outputs": [],
   "source": [
    "pduit['n'] = pduit.name.apply(filter_number)"
   ]
  },
  {
   "cell_type": "code",
   "execution_count": 173,
   "metadata": {
    "colab": {
     "base_uri": "https://localhost:8080/",
     "height": 415
    },
    "id": "yyZdJttjDuXT",
    "outputId": "32d53957-63bc-4b31-8abb-7f3159718675"
   },
   "outputs": [
    {
     "data": {
      "text/html": [
       "<div>\n",
       "<style scoped>\n",
       "    .dataframe tbody tr th:only-of-type {\n",
       "        vertical-align: middle;\n",
       "    }\n",
       "\n",
       "    .dataframe tbody tr th {\n",
       "        vertical-align: top;\n",
       "    }\n",
       "\n",
       "    .dataframe thead th {\n",
       "        text-align: right;\n",
       "    }\n",
       "</style>\n",
       "<table border=\"1\" class=\"dataframe\">\n",
       "  <thead>\n",
       "    <tr style=\"text-align: right;\">\n",
       "      <th></th>\n",
       "      <th>sales_product_together</th>\n",
       "      <th>name</th>\n",
       "      <th>n</th>\n",
       "    </tr>\n",
       "  </thead>\n",
       "  <tbody>\n",
       "    <tr>\n",
       "      <th>Lightning Charging Cable</th>\n",
       "      <td>19632</td>\n",
       "      <td>Lightning Charging Cable</td>\n",
       "      <td>False</td>\n",
       "    </tr>\n",
       "    <tr>\n",
       "      <th>AAA Batteries (4-pack)</th>\n",
       "      <td>19597</td>\n",
       "      <td>AAA Batteries (4-pack)</td>\n",
       "      <td>False</td>\n",
       "    </tr>\n",
       "    <tr>\n",
       "      <th>USB-C Charging Cable</th>\n",
       "      <td>19563</td>\n",
       "      <td>USB-C Charging Cable</td>\n",
       "      <td>False</td>\n",
       "    </tr>\n",
       "    <tr>\n",
       "      <th>AA Batteries (4-pack)</th>\n",
       "      <td>19537</td>\n",
       "      <td>AA Batteries (4-pack)</td>\n",
       "      <td>False</td>\n",
       "    </tr>\n",
       "    <tr>\n",
       "      <th>Wired Headphones</th>\n",
       "      <td>16979</td>\n",
       "      <td>Wired Headphones</td>\n",
       "      <td>False</td>\n",
       "    </tr>\n",
       "    <tr>\n",
       "      <th>...</th>\n",
       "      <td>...</td>\n",
       "      <td>...</td>\n",
       "      <td>...</td>\n",
       "    </tr>\n",
       "    <tr>\n",
       "      <th>Google Phone; LG Dryer</th>\n",
       "      <td>2</td>\n",
       "      <td>Google Phone; LG Dryer</td>\n",
       "      <td>True</td>\n",
       "    </tr>\n",
       "    <tr>\n",
       "      <th>USB-C Charging Cable; LG Dryer</th>\n",
       "      <td>2</td>\n",
       "      <td>USB-C Charging Cable; LG Dryer</td>\n",
       "      <td>True</td>\n",
       "    </tr>\n",
       "    <tr>\n",
       "      <th>Flatscreen TV; LG Dryer</th>\n",
       "      <td>2</td>\n",
       "      <td>Flatscreen TV; LG Dryer</td>\n",
       "      <td>True</td>\n",
       "    </tr>\n",
       "    <tr>\n",
       "      <th>LG Washing Machine; 27in FHD Monitor</th>\n",
       "      <td>2</td>\n",
       "      <td>LG Washing Machine; 27in FHD Monitor</td>\n",
       "      <td>True</td>\n",
       "    </tr>\n",
       "    <tr>\n",
       "      <th>Wired Headphones; LG Dryer</th>\n",
       "      <td>2</td>\n",
       "      <td>Wired Headphones; LG Dryer</td>\n",
       "      <td>True</td>\n",
       "    </tr>\n",
       "  </tbody>\n",
       "</table>\n",
       "<p>241 rows × 3 columns</p>\n",
       "</div>"
      ],
      "text/plain": [
       "                                      sales_product_together  ...      n\n",
       "Lightning Charging Cable                               19632  ...  False\n",
       "AAA Batteries (4-pack)                                 19597  ...  False\n",
       "USB-C Charging Cable                                   19563  ...  False\n",
       "AA Batteries (4-pack)                                  19537  ...  False\n",
       "Wired Headphones                                       16979  ...  False\n",
       "...                                                      ...  ...    ...\n",
       "Google Phone; LG Dryer                                     2  ...   True\n",
       "USB-C Charging Cable; LG Dryer                             2  ...   True\n",
       "Flatscreen TV; LG Dryer                                    2  ...   True\n",
       "LG Washing Machine; 27in FHD Monitor                       2  ...   True\n",
       "Wired Headphones; LG Dryer                                 2  ...   True\n",
       "\n",
       "[241 rows x 3 columns]"
      ]
     },
     "execution_count": 173,
     "metadata": {
      "tags": []
     },
     "output_type": "execute_result"
    }
   ],
   "source": [
    "pduit"
   ]
  },
  {
   "cell_type": "code",
   "execution_count": 175,
   "metadata": {
    "colab": {
     "base_uri": "https://localhost:8080/",
     "height": 415
    },
    "id": "t7dAUdJkDuP_",
    "outputId": "8cd13cea-b520-4144-922e-232ae3700b69"
   },
   "outputs": [
    {
     "data": {
      "text/html": [
       "<div>\n",
       "<style scoped>\n",
       "    .dataframe tbody tr th:only-of-type {\n",
       "        vertical-align: middle;\n",
       "    }\n",
       "\n",
       "    .dataframe tbody tr th {\n",
       "        vertical-align: top;\n",
       "    }\n",
       "\n",
       "    .dataframe thead th {\n",
       "        text-align: right;\n",
       "    }\n",
       "</style>\n",
       "<table border=\"1\" class=\"dataframe\">\n",
       "  <thead>\n",
       "    <tr style=\"text-align: right;\">\n",
       "      <th></th>\n",
       "      <th>sales_product_together</th>\n",
       "      <th>name</th>\n",
       "      <th>n</th>\n",
       "    </tr>\n",
       "  </thead>\n",
       "  <tbody>\n",
       "    <tr>\n",
       "      <th>Lightning Charging Cable; iPhone</th>\n",
       "      <td>1747</td>\n",
       "      <td>Lightning Charging Cable; iPhone</td>\n",
       "      <td>True</td>\n",
       "    </tr>\n",
       "    <tr>\n",
       "      <th>Google Phone; USB-C Charging Cable</th>\n",
       "      <td>875</td>\n",
       "      <td>Google Phone; USB-C Charging Cable</td>\n",
       "      <td>True</td>\n",
       "    </tr>\n",
       "    <tr>\n",
       "      <th>USB-C Charging Cable; Google Phone</th>\n",
       "      <td>808</td>\n",
       "      <td>USB-C Charging Cable; Google Phone</td>\n",
       "      <td>True</td>\n",
       "    </tr>\n",
       "    <tr>\n",
       "      <th>Wired Headphones; iPhone</th>\n",
       "      <td>736</td>\n",
       "      <td>Wired Headphones; iPhone</td>\n",
       "      <td>True</td>\n",
       "    </tr>\n",
       "    <tr>\n",
       "      <th>USB-C Charging Cable; Vareebadd Phone</th>\n",
       "      <td>612</td>\n",
       "      <td>USB-C Charging Cable; Vareebadd Phone</td>\n",
       "      <td>True</td>\n",
       "    </tr>\n",
       "    <tr>\n",
       "      <th>...</th>\n",
       "      <td>...</td>\n",
       "      <td>...</td>\n",
       "      <td>...</td>\n",
       "    </tr>\n",
       "    <tr>\n",
       "      <th>Google Phone; LG Dryer</th>\n",
       "      <td>2</td>\n",
       "      <td>Google Phone; LG Dryer</td>\n",
       "      <td>True</td>\n",
       "    </tr>\n",
       "    <tr>\n",
       "      <th>USB-C Charging Cable; LG Dryer</th>\n",
       "      <td>2</td>\n",
       "      <td>USB-C Charging Cable; LG Dryer</td>\n",
       "      <td>True</td>\n",
       "    </tr>\n",
       "    <tr>\n",
       "      <th>Flatscreen TV; LG Dryer</th>\n",
       "      <td>2</td>\n",
       "      <td>Flatscreen TV; LG Dryer</td>\n",
       "      <td>True</td>\n",
       "    </tr>\n",
       "    <tr>\n",
       "      <th>LG Washing Machine; 27in FHD Monitor</th>\n",
       "      <td>2</td>\n",
       "      <td>LG Washing Machine; 27in FHD Monitor</td>\n",
       "      <td>True</td>\n",
       "    </tr>\n",
       "    <tr>\n",
       "      <th>Wired Headphones; LG Dryer</th>\n",
       "      <td>2</td>\n",
       "      <td>Wired Headphones; LG Dryer</td>\n",
       "      <td>True</td>\n",
       "    </tr>\n",
       "  </tbody>\n",
       "</table>\n",
       "<p>222 rows × 3 columns</p>\n",
       "</div>"
      ],
      "text/plain": [
       "                                       sales_product_together  ...     n\n",
       "Lightning Charging Cable; iPhone                         1747  ...  True\n",
       "Google Phone; USB-C Charging Cable                        875  ...  True\n",
       "USB-C Charging Cable; Google Phone                        808  ...  True\n",
       "Wired Headphones; iPhone                                  736  ...  True\n",
       "USB-C Charging Cable; Vareebadd Phone                     612  ...  True\n",
       "...                                                       ...  ...   ...\n",
       "Google Phone; LG Dryer                                      2  ...  True\n",
       "USB-C Charging Cable; LG Dryer                              2  ...  True\n",
       "Flatscreen TV; LG Dryer                                     2  ...  True\n",
       "LG Washing Machine; 27in FHD Monitor                        2  ...  True\n",
       "Wired Headphones; LG Dryer                                  2  ...  True\n",
       "\n",
       "[222 rows x 3 columns]"
      ]
     },
     "execution_count": 175,
     "metadata": {
      "tags": []
     },
     "output_type": "execute_result"
    }
   ],
   "source": [
    "pduit[pduitb.n]"
   ]
  },
  {
   "cell_type": "markdown",
   "metadata": {
    "id": "yu0hDeVaERI7"
   },
   "source": [
    "Lightning Charging Cable; iPhone"
   ]
  },
  {
   "cell_type": "code",
   "execution_count": null,
   "metadata": {
    "id": "aOKjAbMZDuJQ"
   },
   "outputs": [],
   "source": []
  },
  {
   "cell_type": "code",
   "execution_count": null,
   "metadata": {
    "id": "ezAvNDwCDuAD"
   },
   "outputs": [],
   "source": []
  },
  {
   "cell_type": "code",
   "execution_count": null,
   "metadata": {
    "id": "1Pa4tt9jDtWC"
   },
   "outputs": [],
   "source": [
    "aa"
   ]
  },
  {
   "cell_type": "code",
   "execution_count": 145,
   "metadata": {
    "colab": {
     "base_uri": "https://localhost:8080/"
    },
    "id": "TkWlrncZBQCE",
    "outputId": "91c3f867-c6d4-444f-ba92-613f0ec5bf1e"
   },
   "outputs": [
    {
     "data": {
      "text/plain": [
       "Product\n",
       "AAA Batteries (4-pack)          60676.07\n",
       "AA Batteries (4-pack)           77621.76\n",
       "Wired Headphones               222438.48\n",
       "USB-C Charging Cable           257199.85\n",
       "Lightning Charging Cable       318554.60\n",
       "LG Dryer                       384000.00\n",
       "LG Washing Machine             389400.00\n",
       "20in Monitor                   443479.68\n",
       "Vareebadd Phone                808000.00\n",
       "27in FHD Monitor              1107826.14\n",
       "Bose SoundSport Headphones    1310768.91\n",
       "Flatscreen TV                 1411500.00\n",
       "Apple Airpods Headphones      2290950.00\n",
       "34in Ultrawide Monitor        2301979.42\n",
       "27in 4K Gaming Monitor        2387518.78\n",
       "Google Phone                  3259800.00\n",
       "ThinkPad Laptop               4051959.48\n",
       "iPhone                        4707500.00\n",
       "Macbook Pro Laptop            7889700.00\n",
       "Name: Price Each, dtype: float64"
      ]
     },
     "execution_count": 145,
     "metadata": {
      "tags": []
     },
     "output_type": "execute_result"
    }
   ],
   "source": [
    "df_clean.groupby('Product').sum()['Price Each'].sort_values()"
   ]
  },
  {
   "cell_type": "code",
   "execution_count": null,
   "metadata": {
    "id": "MrQZhb8KBiPA"
   },
   "outputs": [],
   "source": []
  }
 ],
 "metadata": {
  "colab": {
   "name": "Analyse_Exploratoire.ipynb",
   "provenance": [],
   "toc_visible": true
  },
  "kernelspec": {
   "display_name": "Python 3",
   "language": "python",
   "name": "python3"
  },
  "language_info": {
   "codemirror_mode": {
    "name": "ipython",
    "version": 3
   },
   "file_extension": ".py",
   "mimetype": "text/x-python",
   "name": "python",
   "nbconvert_exporter": "python",
   "pygments_lexer": "ipython3",
   "version": "3.7.6"
  },
  "toc": {
   "base_numbering": 1,
   "nav_menu": {},
   "number_sections": true,
   "sideBar": true,
   "skip_h1_title": false,
   "title_cell": "Table of Contents",
   "title_sidebar": "Contents",
   "toc_cell": false,
   "toc_position": {},
   "toc_section_display": true,
   "toc_window_display": false
  },
  "varInspector": {
   "cols": {
    "lenName": 16,
    "lenType": 16,
    "lenVar": 40
   },
   "kernels_config": {
    "python": {
     "delete_cmd_postfix": "",
     "delete_cmd_prefix": "del ",
     "library": "var_list.py",
     "varRefreshCmd": "print(var_dic_list())"
    },
    "r": {
     "delete_cmd_postfix": ") ",
     "delete_cmd_prefix": "rm(",
     "library": "var_list.r",
     "varRefreshCmd": "cat(var_dic_list()) "
    }
   },
   "types_to_exclude": [
    "module",
    "function",
    "builtin_function_or_method",
    "instance",
    "_Feature"
   ],
   "window_display": false
  }
 },
 "nbformat": 4,
 "nbformat_minor": 1
}
