{
 "cells": [
  {
   "cell_type": "markdown",
   "metadata": {},
   "source": [
    "Dans ce notebook, nous verrons les bases de la Programmation orientée Objet ou POO. Nous apprendrons ici le strict nécéssaire  de façon pratique."
   ]
  },
  {
   "cell_type": "markdown",
   "metadata": {},
   "source": [
    "Supposon que nous souhaitons créer un jeu avec des personnages de type différent (voleur, police) qui pourront interagir entre elles, avoir et conduire des voitures, mourir et plein d'autres choses. Voleur et police ont probablement des attributs en commun, ils sont tous humains. Toutes les voitures one également des attributs en commun (4 roues par exemple) et des fonctions en commun (rouler par exemple). Avec la POO, nous souhaitons rendre notre code beaucoup plus simple en créant des objets qui ont des attributs et fonctions afin de pouvoir les réutiliser et adapter facilement quand le besoin se présente.\n",
    "\n",
    "Prenons un exemple plus simple:\n",
    "Créer 2 points A et B et calcule la distance entre ces 2 points.\n",
    "\n",
    "Chaque point a 2 coordonées, une x et une y. Tu feras donc ceci : \n"
   ]
  },
  {
   "cell_type": "code",
   "execution_count": null,
   "metadata": {},
   "outputs": [],
   "source": [
    "x_A = 2\n",
    "y_A = 5\n",
    "x_B = 2\n",
    "y_B = 1\n",
    "d = distance(x_A, y_A, x_B, y_B)"
   ]
  },
  {
   "cell_type": "markdown",
   "metadata": {},
   "source": [
    "Ta solution est pas mal, mais il t'a fallu créer 4 variables pour représenter 2 points. Et si chacun des points avait 15 attributs, il te faudra 30 variables et ta fonction distance risque de se compliquer. De plus quelqu'un qui lit ton code peut ne pas comprendre que ce sont des points que tu es entrain de representer."
   ]
  },
  {
   "cell_type": "markdown",
   "metadata": {},
   "source": [
    "Pensons plutôt à un point comme un objet qui a 2 attributs x et y. Le code en haut deviendrait:"
   ]
  },
  {
   "cell_type": "code",
   "execution_count": null,
   "metadata": {},
   "outputs": [],
   "source": [
    "A = Point(2, 5)\n",
    "B = Point(2, 1)\n",
    "d = distance (A, B) # ou d = A.distance(B)"
   ]
  },
  {
   "cell_type": "markdown",
   "metadata": {},
   "source": [
    "Maintenant qu'on a compris un peu de quoi il s'agit, parlons du concept de classe. Une classe en POO represente la moule qui permet de créer des objets. Dans le code ci-dessus, `Point` est une classe qu'on a utilisé pour créer les points A et B. Créons le code pour la classe Point:"
   ]
  },
  {
   "cell_type": "code",
   "execution_count": 1,
   "metadata": {},
   "outputs": [],
   "source": [
    "import math"
   ]
  },
  {
   "cell_type": "code",
   "execution_count": 2,
   "metadata": {},
   "outputs": [],
   "source": [
    "class Point:\n",
    "    def __init__(self, abscisse, ordonne):\n",
    "        self.x = abscisse\n",
    "        self.y = ordonne\n",
    "    \n",
    "    def distance(self, autre_point):\n",
    "        squarred_d = (autre_point.x - self.x)**2 + (autre_point.y - self.y)**2\n",
    "        d = math.sqrt(squarred_d)\n",
    "        return d"
   ]
  },
  {
   "cell_type": "code",
   "execution_count": 3,
   "metadata": {},
   "outputs": [],
   "source": [
    "a = Point(2, 3)\n",
    "b = Point(1, 5)"
   ]
  },
  {
   "cell_type": "code",
   "execution_count": 4,
   "metadata": {},
   "outputs": [
    {
     "data": {
      "text/plain": [
       "2.23606797749979"
      ]
     },
     "execution_count": 4,
     "metadata": {},
     "output_type": "execute_result"
    }
   ],
   "source": [
    "a.distance(b)"
   ]
  },
  {
   "cell_type": "markdown",
   "metadata": {},
   "source": [
    "La fonction `__init__` est appélé constructeur. C'est dans cette fonction que nous définissons les atributs de notre classe. Le mot clé `self` représente un objet ou une instance de notre classe. La fonction **__init__** attribue donc à x et y respectivement l'abcisse et l'ordonné reçue."
   ]
  },
  {
   "cell_type": "code",
   "execution_count": null,
   "metadata": {},
   "outputs": [],
   "source": []
  }
 ],
 "metadata": {
  "kernelspec": {
   "display_name": "Python 3",
   "language": "python",
   "name": "python3"
  },
  "language_info": {
   "codemirror_mode": {
    "name": "ipython",
    "version": 3
   },
   "file_extension": ".py",
   "mimetype": "text/x-python",
   "name": "python",
   "nbconvert_exporter": "python",
   "pygments_lexer": "ipython3",
   "version": "3.7.6"
  }
 },
 "nbformat": 4,
 "nbformat_minor": 4
}
