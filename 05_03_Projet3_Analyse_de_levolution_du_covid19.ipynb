{
 "cells": [
  {
   "cell_type": "markdown",
   "metadata": {},
   "source": [
    "Dans ce projet, nous allons analyser l'évolution du Covid 19 dans le monde\n",
    "Source des données: https://github.com/CSSEGISandData/COVID-19/tree/master/csse_covid_19_data/csse_covid_19_time_series\n",
    "\n",
    "Considérez les fichiers **time_series_covid19_confirmed_global.csv** , **time_series_covid19_deaths_global.csv** et **time_series_covid19_recovered_global.csv**"
   ]
  },
  {
   "cell_type": "markdown",
   "metadata": {},
   "source": [
    "Voici quelques questions qui peuvent guider votre analyse\n",
    "* Quels sont les pays avec les plus grand nombres de cas ?\n",
    "* Quels sont les pays avec un taux de mortalité élevé ?\n",
    "* Le confinement a-t-il eu un effet sur le nombre de cas ?\n",
    "* Comparer la situation par continent "
   ]
  },
  {
   "cell_type": "code",
   "execution_count": null,
   "metadata": {},
   "outputs": [],
   "source": []
  }
 ],
 "metadata": {
  "kernelspec": {
   "display_name": "Python 3",
   "language": "python",
   "name": "python3"
  },
  "language_info": {
   "codemirror_mode": {
    "name": "ipython",
    "version": 3
   },
   "file_extension": ".py",
   "mimetype": "text/x-python",
   "name": "python",
   "nbconvert_exporter": "python",
   "pygments_lexer": "ipython3",
   "version": "3.7.6"
  }
 },
 "nbformat": 4,
 "nbformat_minor": 4
}
