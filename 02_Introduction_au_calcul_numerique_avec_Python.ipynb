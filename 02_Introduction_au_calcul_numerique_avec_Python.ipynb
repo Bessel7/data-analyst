{
 "cells": [
  {
   "cell_type": "code",
   "execution_count": null,
   "metadata": {
    "id": "34H8dRQM0AAe"
   },
   "outputs": [],
   "source": []
  },
  {
   "cell_type": "code",
   "execution_count": 1,
   "metadata": {
    "id": "TcCEOf39ZQQW"
   },
   "outputs": [],
   "source": [
    "import numpy as np"
   ]
  },
  {
   "cell_type": "markdown",
   "metadata": {
    "id": "oiBpaofSZQQb"
   },
   "source": [
    "# Tableaux Numpy : Les bases"
   ]
  },
  {
   "cell_type": "markdown",
   "metadata": {
    "id": "2dgNhwykZQQc"
   },
   "source": [
    "## Comment créer un Tableau Numpy"
   ]
  },
  {
   "cell_type": "code",
   "execution_count": 2,
   "metadata": {
    "id": "pOaPQhDjm8Ij"
   },
   "outputs": [
    {
     "data": {
      "text/plain": [
       "[1, 5, 8]"
      ]
     },
     "execution_count": 2,
     "metadata": {},
     "output_type": "execute_result"
    }
   ],
   "source": [
    "[1, 5, 8]"
   ]
  },
  {
   "cell_type": "code",
   "execution_count": 3,
   "metadata": {
    "id": "pv7qxCUMdLwT"
   },
   "outputs": [
    {
     "ename": "SyntaxError",
     "evalue": "invalid syntax (<ipython-input-3-4797aa53ce0e>, line 2)",
     "output_type": "error",
     "traceback": [
      "\u001b[0;36m  File \u001b[0;32m\"<ipython-input-3-4797aa53ce0e>\"\u001b[0;36m, line \u001b[0;32m2\u001b[0m\n\u001b[0;31m    1 , 7, 9\u001b[0m\n\u001b[0m    ^\u001b[0m\n\u001b[0;31mSyntaxError\u001b[0m\u001b[0;31m:\u001b[0m invalid syntax\n"
     ]
    }
   ],
   "source": [
    "[  3 , 2, 5\n",
    "   1 , 7, 9\n",
    "   5 , 9, 6\n",
    " \n",
    "]"
   ]
  },
  {
   "cell_type": "code",
   "execution_count": 4,
   "metadata": {
    "colab": {
     "base_uri": "https://localhost:8080/"
    },
    "id": "1vZqVJwOehRY",
    "outputId": "1f60c9c3-402a-4555-a912-8fadc74ef63e"
   },
   "outputs": [
    {
     "data": {
      "text/plain": [
       "array([], dtype=float64)"
      ]
     },
     "execution_count": 4,
     "metadata": {},
     "output_type": "execute_result"
    }
   ],
   "source": [
    "np.array([])"
   ]
  },
  {
   "cell_type": "code",
   "execution_count": 5,
   "metadata": {
    "id": "ehm3FvcDiOHf"
   },
   "outputs": [],
   "source": [
    "data_un = np.array([[8,9,6]])"
   ]
  },
  {
   "cell_type": "code",
   "execution_count": 6,
   "metadata": {
    "id": "31W5te5KdLpB"
   },
   "outputs": [],
   "source": [
    "data_deux = np.array([\n",
    "          [3 , 2, 5],\n",
    "          [1 , 7, 9],\n",
    "          [5 , 9, 6]\n",
    "          ])"
   ]
  },
  {
   "cell_type": "code",
   "execution_count": 7,
   "metadata": {
    "colab": {
     "base_uri": "https://localhost:8080/"
    },
    "id": "wjpUqDM-dLjL",
    "outputId": "0c84791b-bfd6-41c3-ef17-c0336b3583ee"
   },
   "outputs": [
    {
     "data": {
      "text/plain": [
       "array([[3, 2, 5],\n",
       "       [1, 7, 9],\n",
       "       [5, 9, 6]])"
      ]
     },
     "execution_count": 7,
     "metadata": {},
     "output_type": "execute_result"
    }
   ],
   "source": [
    "data_deux"
   ]
  },
  {
   "cell_type": "code",
   "execution_count": 9,
   "metadata": {
    "id": "eDvqVBlgdLfP"
   },
   "outputs": [],
   "source": [
    "data = np.array([[1,4,5]])"
   ]
  },
  {
   "cell_type": "code",
   "execution_count": 10,
   "metadata": {
    "colab": {
     "base_uri": "https://localhost:8080/"
    },
    "id": "EKsALK3JdLbe",
    "outputId": "d94b90e1-2b51-452e-8793-bfc11cf76b3e"
   },
   "outputs": [
    {
     "data": {
      "text/plain": [
       "array([[1, 4, 5]])"
      ]
     },
     "execution_count": 10,
     "metadata": {},
     "output_type": "execute_result"
    }
   ],
   "source": [
    "data"
   ]
  },
  {
   "cell_type": "markdown",
   "metadata": {
    "id": "tjysvm09ZQQd"
   },
   "source": [
    "## Les attributs d'un tableau numpy"
   ]
  },
  {
   "cell_type": "code",
   "execution_count": 11,
   "metadata": {
    "colab": {
     "base_uri": "https://localhost:8080/"
    },
    "id": "Kn8cx0IQdLXx",
    "outputId": "1148db8b-fc2d-43de-89a4-3ee3a7af08d2"
   },
   "outputs": [
    {
     "data": {
      "text/plain": [
       "dtype('int64')"
      ]
     },
     "execution_count": 11,
     "metadata": {},
     "output_type": "execute_result"
    }
   ],
   "source": [
    "data.dtype"
   ]
  },
  {
   "cell_type": "code",
   "execution_count": 12,
   "metadata": {
    "colab": {
     "base_uri": "https://localhost:8080/"
    },
    "id": "bLml_5hodLUe",
    "outputId": "f5f9d23b-8058-40d1-8900-2f85efad6a9f"
   },
   "outputs": [
    {
     "data": {
      "text/plain": [
       "dtype('int64')"
      ]
     },
     "execution_count": 12,
     "metadata": {},
     "output_type": "execute_result"
    }
   ],
   "source": [
    "data_deux.dtype"
   ]
  },
  {
   "cell_type": "code",
   "execution_count": 13,
   "metadata": {
    "colab": {
     "base_uri": "https://localhost:8080/"
    },
    "id": "rdiOQfD7dLQm",
    "outputId": "12bbea0f-2f93-473e-8625-d1021f5c4858"
   },
   "outputs": [
    {
     "data": {
      "text/plain": [
       "array([['python', '1']], dtype='<U6')"
      ]
     },
     "execution_count": 13,
     "metadata": {},
     "output_type": "execute_result"
    }
   ],
   "source": [
    "np.array([['python', 1]])"
   ]
  },
  {
   "cell_type": "code",
   "execution_count": 14,
   "metadata": {
    "colab": {
     "base_uri": "https://localhost:8080/"
    },
    "id": "gz59n3jWdLM9",
    "outputId": "a41bf7fe-dad0-4f64-f41c-27610aba0441"
   },
   "outputs": [
    {
     "data": {
      "text/plain": [
       "array([[1. , 5.2]])"
      ]
     },
     "execution_count": 14,
     "metadata": {},
     "output_type": "execute_result"
    }
   ],
   "source": [
    "np.array([[1, 5.2]])"
   ]
  },
  {
   "cell_type": "code",
   "execution_count": 15,
   "metadata": {
    "colab": {
     "base_uri": "https://localhost:8080/"
    },
    "id": "HCbpjmUrdLFA",
    "outputId": "27a75487-ea79-440c-fde8-28def4374772"
   },
   "outputs": [
    {
     "data": {
      "text/plain": [
       "dtype('float64')"
      ]
     },
     "execution_count": 15,
     "metadata": {},
     "output_type": "execute_result"
    }
   ],
   "source": [
    "np.array([[1, 5.2]]).dtype"
   ]
  },
  {
   "cell_type": "code",
   "execution_count": 16,
   "metadata": {
    "colab": {
     "base_uri": "https://localhost:8080/"
    },
    "id": "p0P2XQn1iZNm",
    "outputId": "690cffce-367f-4236-8042-bcb114211f54"
   },
   "outputs": [
    {
     "data": {
      "text/plain": [
       "2"
      ]
     },
     "execution_count": 16,
     "metadata": {},
     "output_type": "execute_result"
    }
   ],
   "source": [
    "data_un.ndim"
   ]
  },
  {
   "cell_type": "code",
   "execution_count": 17,
   "metadata": {
    "id": "bpT79OjpjFYF"
   },
   "outputs": [
    {
     "data": {
      "text/plain": [
       "(1, 3)"
      ]
     },
     "execution_count": 17,
     "metadata": {},
     "output_type": "execute_result"
    }
   ],
   "source": [
    "data_un.shape"
   ]
  },
  {
   "cell_type": "code",
   "execution_count": 18,
   "metadata": {
    "colab": {
     "base_uri": "https://localhost:8080/"
    },
    "id": "rSQXxhkgioSY",
    "outputId": "e43f5edc-acde-4db5-cf48-c9442b7c2305"
   },
   "outputs": [
    {
     "data": {
      "text/plain": [
       "1"
      ]
     },
     "execution_count": 18,
     "metadata": {},
     "output_type": "execute_result"
    }
   ],
   "source": [
    "np.array([1, 5, 9]).ndim"
   ]
  },
  {
   "cell_type": "code",
   "execution_count": 19,
   "metadata": {
    "colab": {
     "base_uri": "https://localhost:8080/"
    },
    "id": "WJ7MOpqsivhC",
    "outputId": "3c5200a2-8abf-4ceb-f855-b4f6511a3d78"
   },
   "outputs": [
    {
     "data": {
      "text/plain": [
       "(3,)"
      ]
     },
     "execution_count": 19,
     "metadata": {},
     "output_type": "execute_result"
    }
   ],
   "source": [
    "np.array([1, 5, 9]).shape"
   ]
  },
  {
   "cell_type": "code",
   "execution_count": 20,
   "metadata": {
    "colab": {
     "base_uri": "https://localhost:8080/"
    },
    "id": "2wKtOiMVdK5L",
    "outputId": "708aa29b-10db-4514-ced0-b3d93f0a02e8"
   },
   "outputs": [
    {
     "data": {
      "text/plain": [
       "(3, 3)"
      ]
     },
     "execution_count": 20,
     "metadata": {},
     "output_type": "execute_result"
    }
   ],
   "source": [
    "data_deux.shape"
   ]
  },
  {
   "cell_type": "code",
   "execution_count": 21,
   "metadata": {
    "colab": {
     "base_uri": "https://localhost:8080/"
    },
    "id": "wzXmMZUGf_yZ",
    "outputId": "9fcd0b9d-b21e-4b19-96eb-e6755341b214"
   },
   "outputs": [
    {
     "data": {
      "text/plain": [
       "2"
      ]
     },
     "execution_count": 21,
     "metadata": {},
     "output_type": "execute_result"
    }
   ],
   "source": [
    "data_deux.ndim"
   ]
  },
  {
   "cell_type": "code",
   "execution_count": 22,
   "metadata": {
    "colab": {
     "base_uri": "https://localhost:8080/"
    },
    "id": "j2GVSv30gAyk",
    "outputId": "ef476376-a526-4797-8b76-05f64accc127"
   },
   "outputs": [
    {
     "data": {
      "text/plain": [
       "9"
      ]
     },
     "execution_count": 22,
     "metadata": {},
     "output_type": "execute_result"
    }
   ],
   "source": [
    "data_deux.size"
   ]
  },
  {
   "cell_type": "code",
   "execution_count": 23,
   "metadata": {
    "colab": {
     "base_uri": "https://localhost:8080/"
    },
    "id": "5ZMFtLXvgA9t",
    "outputId": "f748189a-2e9f-470d-d80d-b654fd2239f8"
   },
   "outputs": [
    {
     "data": {
      "text/plain": [
       "72"
      ]
     },
     "execution_count": 23,
     "metadata": {},
     "output_type": "execute_result"
    }
   ],
   "source": [
    "data_deux.nbytes"
   ]
  },
  {
   "cell_type": "code",
   "execution_count": null,
   "metadata": {
    "id": "1ORmPlAbg-BJ"
   },
   "outputs": [],
   "source": [
    "\n",
    "          [3 , 2, 5],\n",
    "          [1 , 7, 9],\n",
    "          [5 , 9, 6]\n",
    "          "
   ]
  },
  {
   "cell_type": "code",
   "execution_count": 24,
   "metadata": {
    "id": "ZD2vgUWVg9uO"
   },
   "outputs": [],
   "source": [
    "data_trois = np.array([\n",
    "                        [[3 , 2, 5],\n",
    "                        [1 , 7, 9],\n",
    "                        [5 , 9, 6]],\n",
    "                      \n",
    "                        [[1 , 8, 5],\n",
    "                        [1 , 5, 9],\n",
    "                        [5 , 9, 6]],\n",
    "                      \n",
    "                      [[3 , 2, 4],\n",
    "                      [1 , 7, 6],\n",
    "                      [5 , 9, 6]]\n",
    "\n",
    "          ])"
   ]
  },
  {
   "cell_type": "code",
   "execution_count": 25,
   "metadata": {
    "colab": {
     "base_uri": "https://localhost:8080/"
    },
    "id": "8VingDapg3t5",
    "outputId": "9480d0cb-f41e-4b8f-d3c5-a23169b5a090"
   },
   "outputs": [
    {
     "data": {
      "text/plain": [
       "3"
      ]
     },
     "execution_count": 25,
     "metadata": {},
     "output_type": "execute_result"
    }
   ],
   "source": [
    "data_trois.ndim"
   ]
  },
  {
   "cell_type": "code",
   "execution_count": 26,
   "metadata": {
    "id": "Rkw9b2MYg3fa"
   },
   "outputs": [
    {
     "data": {
      "text/plain": [
       "(3, 3, 3)"
      ]
     },
     "execution_count": 26,
     "metadata": {},
     "output_type": "execute_result"
    }
   ],
   "source": [
    "data_trois.shape"
   ]
  },
  {
   "cell_type": "code",
   "execution_count": 27,
   "metadata": {
    "id": "axnLcxiNgBnq"
   },
   "outputs": [],
   "source": [
    "# liste d'éléments = vecteur dim 1\n",
    "# liste de vecteurs =  matrices dim 2\n",
    "# liste de matrices = cube, tableau de dim 3"
   ]
  },
  {
   "cell_type": "code",
   "execution_count": 28,
   "metadata": {
    "colab": {
     "base_uri": "https://localhost:8080/"
    },
    "id": "5X_WE--Nl7na",
    "outputId": "a69ffee2-fbba-4a39-bb0f-b3dc39977bff"
   },
   "outputs": [
    {
     "data": {
      "text/plain": [
       "array([1, 5, 9])"
      ]
     },
     "execution_count": 28,
     "metadata": {},
     "output_type": "execute_result"
    }
   ],
   "source": [
    "np.array([1,5,9])"
   ]
  },
  {
   "cell_type": "code",
   "execution_count": 29,
   "metadata": {
    "colab": {
     "base_uri": "https://localhost:8080/"
    },
    "id": "NvITnbvgl8bX",
    "outputId": "7e4af9b5-f14c-4d32-cc2d-527aa3c884de"
   },
   "outputs": [
    {
     "data": {
      "text/plain": [
       "3"
      ]
     },
     "execution_count": 29,
     "metadata": {},
     "output_type": "execute_result"
    }
   ],
   "source": [
    "np.array([1,5,9]).size"
   ]
  },
  {
   "cell_type": "code",
   "execution_count": 30,
   "metadata": {
    "colab": {
     "base_uri": "https://localhost:8080/"
    },
    "id": "6owcPu0Ml8r6",
    "outputId": "e0888ed2-b35c-4085-e94a-d05bc0e7d6bb"
   },
   "outputs": [
    {
     "data": {
      "text/plain": [
       "1"
      ]
     },
     "execution_count": 30,
     "metadata": {},
     "output_type": "execute_result"
    }
   ],
   "source": [
    "np.array([1,5,9]).ndim"
   ]
  },
  {
   "cell_type": "code",
   "execution_count": 31,
   "metadata": {
    "colab": {
     "base_uri": "https://localhost:8080/"
    },
    "id": "Ntllgfbdl84m",
    "outputId": "75798fdf-aa7d-4293-ec48-2d8b4f87f73a"
   },
   "outputs": [
    {
     "data": {
      "text/plain": [
       "(3,)"
      ]
     },
     "execution_count": 31,
     "metadata": {},
     "output_type": "execute_result"
    }
   ],
   "source": [
    "np.array([1,5,9]).shape"
   ]
  },
  {
   "cell_type": "code",
   "execution_count": 32,
   "metadata": {
    "colab": {
     "base_uri": "https://localhost:8080/"
    },
    "id": "V53ZRns5l9Tp",
    "outputId": "67cd6a19-d4f8-4b8b-da66-e07ddea1c70a"
   },
   "outputs": [
    {
     "data": {
      "text/plain": [
       "array([[1, 5, 9],\n",
       "       [8, 9, 7]])"
      ]
     },
     "execution_count": 32,
     "metadata": {},
     "output_type": "execute_result"
    }
   ],
   "source": [
    "np.array([\n",
    "    [1, 5, 9],\n",
    "    [8, 9, 7]\n",
    "])"
   ]
  },
  {
   "cell_type": "code",
   "execution_count": 33,
   "metadata": {
    "colab": {
     "base_uri": "https://localhost:8080/"
    },
    "id": "NJhEyjqnl9ef",
    "outputId": "76a8edbc-dd58-4fba-8789-b64754d26ec6"
   },
   "outputs": [
    {
     "data": {
      "text/plain": [
       "2"
      ]
     },
     "execution_count": 33,
     "metadata": {},
     "output_type": "execute_result"
    }
   ],
   "source": [
    "np.array([\n",
    "    [1, 5, 9],\n",
    "    [8, 9, 7]\n",
    "]).ndim"
   ]
  },
  {
   "cell_type": "code",
   "execution_count": 34,
   "metadata": {
    "colab": {
     "base_uri": "https://localhost:8080/"
    },
    "id": "G8GhHtybl9oK",
    "outputId": "834958bb-c8da-4586-ee13-8a7293899367"
   },
   "outputs": [
    {
     "data": {
      "text/plain": [
       "6"
      ]
     },
     "execution_count": 34,
     "metadata": {},
     "output_type": "execute_result"
    }
   ],
   "source": [
    "np.array([\n",
    "    [1, 5, 9],\n",
    "    [8, 9, 7]\n",
    "]).size"
   ]
  },
  {
   "cell_type": "code",
   "execution_count": 35,
   "metadata": {
    "colab": {
     "base_uri": "https://localhost:8080/"
    },
    "id": "axG4253Zl9y_",
    "outputId": "723ab9fd-9b63-40e0-cf7d-66b0e94b78ca"
   },
   "outputs": [
    {
     "data": {
      "text/plain": [
       "(2, 3)"
      ]
     },
     "execution_count": 35,
     "metadata": {},
     "output_type": "execute_result"
    }
   ],
   "source": [
    "np.array([\n",
    "    [1, 5, 9],\n",
    "    [8, 9, 7]\n",
    "]).shape\n",
    "# (2 , 3)"
   ]
  },
  {
   "cell_type": "code",
   "execution_count": 36,
   "metadata": {
    "colab": {
     "base_uri": "https://localhost:8080/"
    },
    "id": "EWGeX5PogB1X",
    "outputId": "5c27ef8f-0b49-4607-d6c0-1ea6f4d63560"
   },
   "outputs": [
    {
     "data": {
      "text/plain": [
       "(1, 3)"
      ]
     },
     "execution_count": 36,
     "metadata": {},
     "output_type": "execute_result"
    }
   ],
   "source": [
    "np.array([\n",
    "    [1, 5, 9]\n",
    "]).shape\n",
    "# (1 , 3)"
   ]
  },
  {
   "cell_type": "code",
   "execution_count": 37,
   "metadata": {
    "colab": {
     "base_uri": "https://localhost:8080/"
    },
    "id": "rKc290K1nUC_",
    "outputId": "5c93b548-6ccb-4b91-bb0c-feb793f2e5ac"
   },
   "outputs": [
    {
     "data": {
      "text/plain": [
       "2"
      ]
     },
     "execution_count": 37,
     "metadata": {},
     "output_type": "execute_result"
    }
   ],
   "source": [
    "np.array([\n",
    "    [1, 5, 9]\n",
    "]).ndim"
   ]
  },
  {
   "cell_type": "code",
   "execution_count": 38,
   "metadata": {
    "id": "ByEQDf0PnUYr"
   },
   "outputs": [
    {
     "data": {
      "text/plain": [
       "array([[1, 5, 9],\n",
       "       [8, 9, 7]])"
      ]
     },
     "execution_count": 38,
     "metadata": {},
     "output_type": "execute_result"
    }
   ],
   "source": [
    "np.array([\n",
    "    [1, 5, 9],\n",
    "    [8, 9, 7]\n",
    "])"
   ]
  },
  {
   "cell_type": "code",
   "execution_count": 39,
   "metadata": {
    "id": "qLmdA3-CnUvp"
   },
   "outputs": [
    {
     "data": {
      "text/plain": [
       "array([[[ 1,  5,  9],\n",
       "        [ 8,  9,  7]],\n",
       "\n",
       "       [[ 2,  5,  9],\n",
       "        [ 8,  9,  7]],\n",
       "\n",
       "       [[13,  5,  9],\n",
       "        [ 8,  9,  7]]])"
      ]
     },
     "execution_count": 39,
     "metadata": {},
     "output_type": "execute_result"
    }
   ],
   "source": [
    "np.array([\n",
    "      [ [1, 5, 9],\n",
    "       [8, 9, 7]  ],  \n",
    "\n",
    "       [ [2, 5, 9],\n",
    "       [8, 9, 7]  ],\n",
    "\n",
    "       [ [13, 5, 9],\n",
    "       [8, 9, 7]  ]  \n",
    "])"
   ]
  },
  {
   "cell_type": "code",
   "execution_count": 40,
   "metadata": {
    "colab": {
     "base_uri": "https://localhost:8080/"
    },
    "id": "9V9FIZ8xoOLV",
    "outputId": "717e0382-363f-4c07-a1a3-f84471706289"
   },
   "outputs": [
    {
     "data": {
      "text/plain": [
       "3"
      ]
     },
     "execution_count": 40,
     "metadata": {},
     "output_type": "execute_result"
    }
   ],
   "source": [
    "np.array([\n",
    "      [ [1, 5, 9],\n",
    "       [8, 9, 7]  ],  \n",
    "\n",
    "       [ [2, 5, 9],\n",
    "       [8, 9, 7]  ],\n",
    "\n",
    "       [ [13, 5, 9],\n",
    "       [8, 9, 7]  ]  \n",
    "]).ndim"
   ]
  },
  {
   "cell_type": "code",
   "execution_count": 41,
   "metadata": {
    "colab": {
     "base_uri": "https://localhost:8080/"
    },
    "id": "kGaOn8vgoOBG",
    "outputId": "c69961c6-e8e6-41f1-b8a6-0fab877c22c1"
   },
   "outputs": [
    {
     "data": {
      "text/plain": [
       "18"
      ]
     },
     "execution_count": 41,
     "metadata": {},
     "output_type": "execute_result"
    }
   ],
   "source": [
    "np.array([\n",
    "      [ [1, 5, 9],\n",
    "       [8, 9, 7]  ],  \n",
    "\n",
    "       [ [2, 5, 9],\n",
    "       [8, 9, 7]  ],\n",
    "\n",
    "       [ [13, 5, 9],\n",
    "       [8, 9, 7]  ]  \n",
    "]).size"
   ]
  },
  {
   "cell_type": "code",
   "execution_count": 42,
   "metadata": {
    "colab": {
     "base_uri": "https://localhost:8080/"
    },
    "id": "NaKOETD9oN2L",
    "outputId": "d2a3967a-5a7d-40f0-a587-49a39c692dba"
   },
   "outputs": [
    {
     "data": {
      "text/plain": [
       "(3, 2, 3)"
      ]
     },
     "execution_count": 42,
     "metadata": {},
     "output_type": "execute_result"
    }
   ],
   "source": [
    "np.array([\n",
    "      [ [1, 5, 9],\n",
    "       [8, 9, 7]  ],  \n",
    "\n",
    "       [ [2, 5, 9],\n",
    "       [8, 9, 7]  ],\n",
    "\n",
    "       [ [13, 5, 9],\n",
    "       [8, 9, 7]  ]  \n",
    "]).shape\n",
    "# (3 , 2, 3)"
   ]
  },
  {
   "cell_type": "code",
   "execution_count": 43,
   "metadata": {
    "colab": {
     "base_uri": "https://localhost:8080/"
    },
    "id": "YQ-PFQr_oNn1",
    "outputId": "36e6c1b1-0b5d-4b7c-e818-0d27da8ef190"
   },
   "outputs": [
    {
     "data": {
      "text/plain": [
       "array([[[ 1,  5,  9],\n",
       "        [ 8,  9,  7]],\n",
       "\n",
       "       [[ 2,  5,  9],\n",
       "        [ 8,  9,  7]],\n",
       "\n",
       "       [[13,  5,  9],\n",
       "        [ 8,  9,  7]]])"
      ]
     },
     "execution_count": 43,
     "metadata": {},
     "output_type": "execute_result"
    }
   ],
   "source": [
    "r = np.array([\n",
    "      [ [1, 5, 9],\n",
    "       [8, 9, 7]  ],  \n",
    "\n",
    "       [ [2, 5, 9],\n",
    "       [8, 9, 7]  ],\n",
    "\n",
    "       [ [13, 5, 9],\n",
    "       [8, 9, 7]  ]  \n",
    "])\n",
    "r"
   ]
  },
  {
   "cell_type": "code",
   "execution_count": 44,
   "metadata": {
    "colab": {
     "base_uri": "https://localhost:8080/"
    },
    "id": "xkqK-rOHpEKg",
    "outputId": "4019bdab-1189-4661-ea3f-af9ec8ce2620"
   },
   "outputs": [
    {
     "data": {
      "text/plain": [
       "144"
      ]
     },
     "execution_count": 44,
     "metadata": {},
     "output_type": "execute_result"
    }
   ],
   "source": [
    "r.nbytes"
   ]
  },
  {
   "cell_type": "code",
   "execution_count": 45,
   "metadata": {
    "colab": {
     "base_uri": "https://localhost:8080/"
    },
    "id": "8u-AItaInVDR",
    "outputId": "f3ae3be2-5584-46da-e0c6-abae0939915a"
   },
   "outputs": [
    {
     "data": {
      "text/plain": [
       "0.144"
      ]
     },
     "execution_count": 45,
     "metadata": {},
     "output_type": "execute_result"
    }
   ],
   "source": [
    "144/1000 #ko ou kiloBytes"
   ]
  },
  {
   "cell_type": "code",
   "execution_count": null,
   "metadata": {
    "id": "-ti1eo1zqM_V"
   },
   "outputs": [],
   "source": []
  },
  {
   "cell_type": "markdown",
   "metadata": {
    "id": "jHnNEfzTZQQd"
   },
   "source": [
    "## Accéder à un élément d'un tableau"
   ]
  },
  {
   "cell_type": "code",
   "execution_count": null,
   "metadata": {
    "id": "IkSifHNSqW5I"
   },
   "outputs": [],
   "source": [
    "v = np.array([1,5,9])"
   ]
  },
  {
   "cell_type": "code",
   "execution_count": null,
   "metadata": {
    "colab": {
     "base_uri": "https://localhost:8080/"
    },
    "id": "BmveEhejqWll",
    "outputId": "e95d4f12-5292-4046-bc2c-712b1a621985"
   },
   "outputs": [
    {
     "data": {
      "text/plain": [
       "5"
      ]
     },
     "execution_count": 45,
     "metadata": {
      "tags": []
     },
     "output_type": "execute_result"
    }
   ],
   "source": [
    "v[1]"
   ]
  },
  {
   "cell_type": "code",
   "execution_count": null,
   "metadata": {
    "colab": {
     "base_uri": "https://localhost:8080/"
    },
    "id": "U5cunqXgqQw4",
    "outputId": "f1a44070-e899-4a14-aabb-bbb564e84fc0"
   },
   "outputs": [
    {
     "data": {
      "text/plain": [
       "array([5, 9])"
      ]
     },
     "execution_count": 46,
     "metadata": {
      "tags": []
     },
     "output_type": "execute_result"
    }
   ],
   "source": [
    "v[1:]"
   ]
  },
  {
   "cell_type": "code",
   "execution_count": null,
   "metadata": {
    "colab": {
     "base_uri": "https://localhost:8080/"
    },
    "id": "LsSgdbz6qQjE",
    "outputId": "33bf7940-0ea1-4b94-cc64-e7e74f32389b"
   },
   "outputs": [
    {
     "data": {
      "text/plain": [
       "9"
      ]
     },
     "execution_count": 47,
     "metadata": {
      "tags": []
     },
     "output_type": "execute_result"
    }
   ],
   "source": [
    "v[-1]"
   ]
  },
  {
   "cell_type": "code",
   "execution_count": null,
   "metadata": {
    "id": "PU_ozKxGqQX1"
   },
   "outputs": [],
   "source": [
    "matrice = np.array([\n",
    "    [1, 5, 9],\n",
    "    [8, 9, 7]\n",
    "])"
   ]
  },
  {
   "cell_type": "code",
   "execution_count": null,
   "metadata": {
    "colab": {
     "base_uri": "https://localhost:8080/"
    },
    "id": "W7G5GCuorK3A",
    "outputId": "c09a35cf-ae29-43ee-f652-eb39344db353"
   },
   "outputs": [
    {
     "data": {
      "text/plain": [
       "9"
      ]
     },
     "execution_count": 49,
     "metadata": {
      "tags": []
     },
     "output_type": "execute_result"
    }
   ],
   "source": [
    "matrice[1, 1]"
   ]
  },
  {
   "cell_type": "code",
   "execution_count": null,
   "metadata": {
    "colab": {
     "base_uri": "https://localhost:8080/"
    },
    "id": "8PXECmMxrLAs",
    "outputId": "3a5285a0-8af3-4639-8cf4-f34b446f40b8"
   },
   "outputs": [
    {
     "data": {
      "text/plain": [
       "9"
      ]
     },
     "execution_count": 50,
     "metadata": {
      "tags": []
     },
     "output_type": "execute_result"
    }
   ],
   "source": [
    "matrice[0,2]"
   ]
  },
  {
   "cell_type": "code",
   "execution_count": null,
   "metadata": {
    "colab": {
     "base_uri": "https://localhost:8080/"
    },
    "id": "txKRTzghrLIi",
    "outputId": "7a42c2e6-924d-421e-e2e7-a87dbcc1f3e9"
   },
   "outputs": [
    {
     "data": {
      "text/plain": [
       "8"
      ]
     },
     "execution_count": 51,
     "metadata": {
      "tags": []
     },
     "output_type": "execute_result"
    }
   ],
   "source": [
    "matrice[1, 0]"
   ]
  },
  {
   "cell_type": "code",
   "execution_count": null,
   "metadata": {
    "id": "O95yWmyYr_Ef"
   },
   "outputs": [],
   "source": [
    "v2 = np.array([\n",
    "    [1, 5, 9]\n",
    "])"
   ]
  },
  {
   "cell_type": "code",
   "execution_count": null,
   "metadata": {
    "colab": {
     "base_uri": "https://localhost:8080/"
    },
    "id": "sCQZzgk1r-7L",
    "outputId": "a8bfc225-731c-42b1-da91-f1a960dc0f09"
   },
   "outputs": [
    {
     "data": {
      "text/plain": [
       "5"
      ]
     },
     "execution_count": 53,
     "metadata": {
      "tags": []
     },
     "output_type": "execute_result"
    }
   ],
   "source": [
    "v2[0, 1]"
   ]
  },
  {
   "cell_type": "code",
   "execution_count": null,
   "metadata": {
    "id": "49mhNSfwr-xN"
   },
   "outputs": [],
   "source": [
    "cube = np.array([\n",
    "      [ [1, 5, 9],\n",
    "       [8, 9, 7]  ],  \n",
    "\n",
    "       [ [2, 5, 9],\n",
    "       [8, 9, 7]  ],\n",
    "\n",
    "       [ [13, 5, 9],\n",
    "       [8, 9, 7]  ]  \n",
    "])"
   ]
  },
  {
   "cell_type": "code",
   "execution_count": null,
   "metadata": {
    "colab": {
     "base_uri": "https://localhost:8080/"
    },
    "id": "qbxysalBr-i0",
    "outputId": "cea738d4-9e5a-4d6a-bf6b-25d73670dde5"
   },
   "outputs": [
    {
     "data": {
      "text/plain": [
       "array([[[ 1,  5,  9],\n",
       "        [ 8,  9,  7]],\n",
       "\n",
       "       [[ 2,  5,  9],\n",
       "        [ 8,  9,  7]],\n",
       "\n",
       "       [[13,  5,  9],\n",
       "        [ 8,  9,  7]]])"
      ]
     },
     "execution_count": 55,
     "metadata": {
      "tags": []
     },
     "output_type": "execute_result"
    }
   ],
   "source": [
    "cube"
   ]
  },
  {
   "cell_type": "code",
   "execution_count": null,
   "metadata": {
    "colab": {
     "base_uri": "https://localhost:8080/"
    },
    "id": "7L03YkCsrLPZ",
    "outputId": "6d66083c-b428-4a46-bb8b-c8bed69b5a81"
   },
   "outputs": [
    {
     "data": {
      "text/plain": [
       "13"
      ]
     },
     "execution_count": 56,
     "metadata": {
      "tags": []
     },
     "output_type": "execute_result"
    }
   ],
   "source": [
    "cube[2, 0, 0 ]"
   ]
  },
  {
   "cell_type": "code",
   "execution_count": null,
   "metadata": {
    "colab": {
     "base_uri": "https://localhost:8080/"
    },
    "id": "UjZqq5hfrLSg",
    "outputId": "d1d9b1e1-09b8-4aea-9962-11a33c6b3e78"
   },
   "outputs": [
    {
     "data": {
      "text/plain": [
       "13"
      ]
     },
     "execution_count": 57,
     "metadata": {
      "tags": []
     },
     "output_type": "execute_result"
    }
   ],
   "source": [
    "cube[-1, 0, 0]"
   ]
  },
  {
   "cell_type": "code",
   "execution_count": null,
   "metadata": {
    "colab": {
     "base_uri": "https://localhost:8080/"
    },
    "id": "oXM42McbszJK",
    "outputId": "87e75c9e-d9e1-4434-c8ae-1884fcc2ade6"
   },
   "outputs": [
    {
     "data": {
      "text/plain": [
       "array([[1, 5, 9],\n",
       "       [8, 9, 7]])"
      ]
     },
     "execution_count": 58,
     "metadata": {
      "tags": []
     },
     "output_type": "execute_result"
    }
   ],
   "source": [
    "matrice"
   ]
  },
  {
   "cell_type": "markdown",
   "metadata": {
    "id": "1jocM6VVZQQd"
   },
   "source": [
    "## Accéder à des sous-tableaux d'un tableau"
   ]
  },
  {
   "cell_type": "code",
   "execution_count": null,
   "metadata": {
    "colab": {
     "base_uri": "https://localhost:8080/"
    },
    "id": "M1yb6FKzsy-S",
    "outputId": "04e8e820-788b-4c3f-93bc-e6151ebf044b"
   },
   "outputs": [
    {
     "data": {
      "text/plain": [
       "array([5, 9])"
      ]
     },
     "execution_count": 59,
     "metadata": {
      "tags": []
     },
     "output_type": "execute_result"
    }
   ],
   "source": [
    "matrice[0, 1: ]"
   ]
  },
  {
   "cell_type": "code",
   "execution_count": null,
   "metadata": {
    "colab": {
     "base_uri": "https://localhost:8080/"
    },
    "id": "lQarmJxEthBU",
    "outputId": "1119f225-1071-4f7a-a2df-8969fd824710"
   },
   "outputs": [
    {
     "data": {
      "text/plain": [
       "array([9, 7])"
      ]
     },
     "execution_count": 60,
     "metadata": {
      "tags": []
     },
     "output_type": "execute_result"
    }
   ],
   "source": [
    "matrice[1, 1: ]"
   ]
  },
  {
   "cell_type": "code",
   "execution_count": null,
   "metadata": {
    "colab": {
     "base_uri": "https://localhost:8080/"
    },
    "id": "aGbbOHN5tlCC",
    "outputId": "ace1d6ce-0667-47d2-f0f6-d5b1f111a47b"
   },
   "outputs": [
    {
     "data": {
      "text/plain": [
       "array([[5, 9],\n",
       "       [9, 7]])"
      ]
     },
     "execution_count": 62,
     "metadata": {
      "tags": []
     },
     "output_type": "execute_result"
    }
   ],
   "source": [
    "matrice[0: , 1: ]"
   ]
  },
  {
   "cell_type": "code",
   "execution_count": null,
   "metadata": {
    "colab": {
     "base_uri": "https://localhost:8080/"
    },
    "id": "G3YKoY29tkyZ",
    "outputId": "d1d493a6-2bc5-43f0-cb47-22388ab4217e"
   },
   "outputs": [
    {
     "data": {
      "text/plain": [
       "array([[5, 9],\n",
       "       [9, 7]])"
      ]
     },
     "execution_count": 63,
     "metadata": {
      "tags": []
     },
     "output_type": "execute_result"
    }
   ],
   "source": [
    "matrice[: , 1: ]"
   ]
  },
  {
   "cell_type": "code",
   "execution_count": null,
   "metadata": {
    "id": "AFJ8Vo0Csyzz"
   },
   "outputs": [],
   "source": [
    "matrice = np.array([\n",
    "      0  1  2  3  4      \n",
    "   0 [1, 5, 9, 4, 6],\n",
    "   1 [8, 9, 7, 5, 0],\n",
    "   2 [3, 2, 0, 6, 2],\n",
    "   3 [8, 6, 7, 8, 9]\n",
    "])"
   ]
  },
  {
   "cell_type": "code",
   "execution_count": null,
   "metadata": {
    "colab": {
     "base_uri": "https://localhost:8080/"
    },
    "id": "LS2bSwsY0Di8",
    "outputId": "a4511fea-b35f-450f-dd46-d8a0dc21922a"
   },
   "outputs": [
    {
     "data": {
      "text/plain": [
       "6"
      ]
     },
     "execution_count": 80,
     "metadata": {
      "tags": []
     },
     "output_type": "execute_result"
    }
   ],
   "source": [
    "matrice[2, 3]"
   ]
  },
  {
   "cell_type": "code",
   "execution_count": null,
   "metadata": {
    "colab": {
     "base_uri": "https://localhost:8080/"
    },
    "id": "p31y2qsgxTyu",
    "outputId": "9fd28594-396f-4a22-ea6e-481c3e5e6a93"
   },
   "outputs": [
    {
     "data": {
      "text/plain": [
       "array([[7, 5, 0],\n",
       "       [0, 6, 2],\n",
       "       [7, 8, 9]])"
      ]
     },
     "execution_count": 71,
     "metadata": {
      "tags": []
     },
     "output_type": "execute_result"
    }
   ],
   "source": [
    "matrice[1:, 2:]"
   ]
  },
  {
   "cell_type": "code",
   "execution_count": null,
   "metadata": {
    "colab": {
     "base_uri": "https://localhost:8080/"
    },
    "id": "0haBAzsswLHk",
    "outputId": "68f0de53-efd0-4251-9cc8-a306199f25c0"
   },
   "outputs": [
    {
     "data": {
      "text/plain": [
       "array([[7, 5],\n",
       "       [0, 6]])"
      ]
     },
     "execution_count": 70,
     "metadata": {
      "tags": []
     },
     "output_type": "execute_result"
    }
   ],
   "source": [
    "matrice[1:3, 2:4]"
   ]
  },
  {
   "cell_type": "code",
   "execution_count": null,
   "metadata": {
    "colab": {
     "base_uri": "https://localhost:8080/"
    },
    "id": "FIwsSPx6uY2C",
    "outputId": "ffd0436c-f76a-4c24-f95a-78ebf03604c6"
   },
   "outputs": [
    {
     "data": {
      "text/plain": [
       "(4, 5)"
      ]
     },
     "execution_count": 68,
     "metadata": {
      "tags": []
     },
     "output_type": "execute_result"
    }
   ],
   "source": [
    "matrice.shape"
   ]
  },
  {
   "cell_type": "code",
   "execution_count": null,
   "metadata": {
    "colab": {
     "base_uri": "https://localhost:8080/"
    },
    "id": "kW6VoeNRsyoh",
    "outputId": "d669c86d-6da0-4e5d-e9b5-1f64cb5dd107"
   },
   "outputs": [
    {
     "data": {
      "text/plain": [
       "array([[9, 7],\n",
       "       [2, 0]])"
      ]
     },
     "execution_count": 69,
     "metadata": {
      "tags": []
     },
     "output_type": "execute_result"
    }
   ],
   "source": [
    "matrice[1:3 , 1:3]"
   ]
  },
  {
   "cell_type": "code",
   "execution_count": null,
   "metadata": {
    "colab": {
     "base_uri": "https://localhost:8080/"
    },
    "id": "y5uUSrUjqQLO",
    "outputId": "ca58d675-7906-400a-8b0e-1253a713bb10"
   },
   "outputs": [
    {
     "data": {
      "text/plain": [
       "array([[9, 7],\n",
       "       [2, 0]])"
      ]
     },
     "execution_count": 66,
     "metadata": {
      "tags": []
     },
     "output_type": "execute_result"
    }
   ],
   "source": [
    "np.array([[9,7],[2,0]])"
   ]
  },
  {
   "cell_type": "code",
   "execution_count": null,
   "metadata": {
    "id": "iL04JZk4xid9"
   },
   "outputs": [],
   "source": [
    "cube = np.array([\n",
    "      [ [1, 5, 9],\n",
    "        [8, 9, 7]  ],  \n",
    "\n",
    "       [ [6, 4, 9],\n",
    "         [8, 1, 7]  ],\n",
    "\n",
    "       [ [13, 0, 8],\n",
    "          [8, 9, 7]  ]  \n",
    "])"
   ]
  },
  {
   "cell_type": "code",
   "execution_count": null,
   "metadata": {
    "colab": {
     "base_uri": "https://localhost:8080/"
    },
    "id": "pQErfsx2ytFB",
    "outputId": "910ba0b9-71ff-4209-fc21-7fa4ad93eca7"
   },
   "outputs": [
    {
     "data": {
      "text/plain": [
       "array([[[8, 9]],\n",
       "\n",
       "       [[8, 1]]])"
      ]
     },
     "execution_count": 75,
     "metadata": {
      "tags": []
     },
     "output_type": "execute_result"
    }
   ],
   "source": [
    "cube[:2, 1:, :2]"
   ]
  },
  {
   "cell_type": "code",
   "execution_count": null,
   "metadata": {
    "colab": {
     "base_uri": "https://localhost:8080/"
    },
    "id": "o1yMqW3-xi5s",
    "outputId": "abc7bdbd-d2a8-47eb-a094-b583ccd9ff8e"
   },
   "outputs": [
    {
     "data": {
      "text/plain": [
       "array([[[5, 9],\n",
       "        [9, 7]],\n",
       "\n",
       "       [[4, 9],\n",
       "        [1, 7]],\n",
       "\n",
       "       [[0, 8],\n",
       "        [9, 7]]])"
      ]
     },
     "execution_count": 74,
     "metadata": {
      "tags": []
     },
     "output_type": "execute_result"
    }
   ],
   "source": [
    "cube[:, :, 1:]"
   ]
  },
  {
   "cell_type": "code",
   "execution_count": null,
   "metadata": {
    "colab": {
     "base_uri": "https://localhost:8080/"
    },
    "id": "Yi-_b4MqxjAg",
    "outputId": "432ab4fe-2580-4e9a-c17c-15174506e913"
   },
   "outputs": [
    {
     "data": {
      "text/plain": [
       "0"
      ]
     },
     "execution_count": 77,
     "metadata": {
      "tags": []
     },
     "output_type": "execute_result"
    }
   ],
   "source": [
    "np.array(5).ndim"
   ]
  },
  {
   "cell_type": "code",
   "execution_count": null,
   "metadata": {
    "colab": {
     "base_uri": "https://localhost:8080/"
    },
    "id": "slQjMe1VxjEs",
    "outputId": "eb59f0e1-e5c6-44d5-e044-ca924072a582"
   },
   "outputs": [
    {
     "data": {
      "text/plain": [
       "()"
      ]
     },
     "execution_count": 78,
     "metadata": {
      "tags": []
     },
     "output_type": "execute_result"
    }
   ],
   "source": [
    "np.array(5).shape"
   ]
  },
  {
   "cell_type": "code",
   "execution_count": null,
   "metadata": {
    "id": "-7_S_k3fxjJE"
   },
   "outputs": [],
   "source": []
  },
  {
   "cell_type": "code",
   "execution_count": null,
   "metadata": {
    "colab": {
     "base_uri": "https://localhost:8080/"
    },
    "id": "CkI8XI3axjMo",
    "outputId": "7fd09279-cdc1-4a74-bef9-136eebb82f42"
   },
   "outputs": [
    {
     "name": "stderr",
     "output_type": "stream",
     "text": [
      "/usr/local/lib/python3.6/dist-packages/ipykernel_launcher.py:6: VisibleDeprecationWarning: Creating an ndarray from ragged nested sequences (which is a list-or-tuple of lists-or-tuples-or ndarrays with different lengths or shapes) is deprecated. If you meant to do this, you must specify 'dtype=object' when creating the ndarray\n",
      "  \n"
     ]
    }
   ],
   "source": [
    "matrice = np.array([\n",
    "           \n",
    "   [1, 5, 9, 4, 6],\n",
    "   [8, 9, 7, 0],\n",
    "   [3, 2, 0, 6, 2],\n",
    "   [8, 6, 7, 8, 9]\n",
    "])"
   ]
  },
  {
   "cell_type": "code",
   "execution_count": null,
   "metadata": {
    "id": "ohh4BdpFxjRO"
   },
   "outputs": [],
   "source": [
    "matrice = np.array([\n",
    "        0  1  2  3  4      \n",
    "   Paul [1, 5, 9, 4, 6],\n",
    "   Kevin[8, 9, 7, 5, 0],\n",
    "   radji[3, 2, 0, 6, 2],\n",
    "   rock [8, 6, 7, 8, 9]\n",
    "])"
   ]
  },
  {
   "cell_type": "code",
   "execution_count": null,
   "metadata": {
    "id": "Y5oLsn4b0OFB"
   },
   "outputs": [],
   "source": [
    "??np.arange"
   ]
  },
  {
   "cell_type": "code",
   "execution_count": null,
   "metadata": {
    "id": "5D4nBg1LxjVc"
   },
   "outputs": [],
   "source": [
    "matrice = np.arange(9).reshape((3,3))"
   ]
  },
  {
   "cell_type": "code",
   "execution_count": null,
   "metadata": {
    "colab": {
     "base_uri": "https://localhost:8080/"
    },
    "id": "6bVih0Pd0afO",
    "outputId": "e5ffe4ec-d886-4160-d83f-878d2974bfc2"
   },
   "outputs": [
    {
     "data": {
      "text/plain": [
       "array([[0, 1, 2],\n",
       "       [3, 4, 5],\n",
       "       [6, 7, 8]])"
      ]
     },
     "execution_count": 7,
     "metadata": {
      "tags": []
     },
     "output_type": "execute_result"
    }
   ],
   "source": [
    "matrice"
   ]
  },
  {
   "cell_type": "code",
   "execution_count": null,
   "metadata": {
    "colab": {
     "base_uri": "https://localhost:8080/"
    },
    "id": "cPVnyMQ00uRa",
    "outputId": "1e034991-50ec-41a1-d511-480f2fd8ba8f"
   },
   "outputs": [
    {
     "data": {
      "text/plain": [
       "array([[1, 2],\n",
       "       [4, 5]])"
      ]
     },
     "execution_count": 9,
     "metadata": {
      "tags": []
     },
     "output_type": "execute_result"
    }
   ],
   "source": [
    "matrice[0:2, 1:]"
   ]
  },
  {
   "cell_type": "code",
   "execution_count": null,
   "metadata": {
    "colab": {
     "base_uri": "https://localhost:8080/"
    },
    "id": "qLsTiLav0aXa",
    "outputId": "a4317315-8429-40c0-9779-0e396378a40f"
   },
   "outputs": [
    {
     "data": {
      "text/plain": [
       "array([[3, 4],\n",
       "       [6, 7]])"
      ]
     },
     "execution_count": 8,
     "metadata": {
      "tags": []
     },
     "output_type": "execute_result"
    }
   ],
   "source": [
    "matrice[1: , :2]"
   ]
  },
  {
   "cell_type": "code",
   "execution_count": null,
   "metadata": {
    "id": "004egj7b0aPy"
   },
   "outputs": [],
   "source": []
  },
  {
   "cell_type": "code",
   "execution_count": null,
   "metadata": {
    "id": "7w7mtLCM0aGc"
   },
   "outputs": [],
   "source": []
  },
  {
   "cell_type": "code",
   "execution_count": null,
   "metadata": {
    "id": "fsPbKQMt0J58"
   },
   "outputs": [],
   "source": []
  },
  {
   "cell_type": "markdown",
   "metadata": {
    "id": "oOTfgCv0ZQQe"
   },
   "source": [
    "## Vue et non copie d'un tableau"
   ]
  },
  {
   "cell_type": "code",
   "execution_count": null,
   "metadata": {
    "colab": {
     "base_uri": "https://localhost:8080/"
    },
    "id": "iz2-Jl9M1fZc",
    "outputId": "015ae507-4fbf-4be9-be40-2a19a34f53c0"
   },
   "outputs": [
    {
     "data": {
      "text/plain": [
       "array([[0, 1, 2],\n",
       "       [3, 4, 5],\n",
       "       [6, 7, 8]])"
      ]
     },
     "execution_count": 10,
     "metadata": {
      "tags": []
     },
     "output_type": "execute_result"
    }
   ],
   "source": [
    "matrice = np.arange(9).reshape((3,3))\n",
    "matrice"
   ]
  },
  {
   "cell_type": "code",
   "execution_count": null,
   "metadata": {
    "id": "uX3WGk1a1ir_"
   },
   "outputs": [],
   "source": [
    "matrice[1, -1] = 9"
   ]
  },
  {
   "cell_type": "code",
   "execution_count": null,
   "metadata": {
    "colab": {
     "base_uri": "https://localhost:8080/"
    },
    "id": "Z_QgDYgE1ig8",
    "outputId": "2de0f7ce-31bc-4dba-83d4-d8734fd8e82b"
   },
   "outputs": [
    {
     "data": {
      "text/plain": [
       "array([[0, 1, 2],\n",
       "       [3, 4, 9],\n",
       "       [6, 7, 8]])"
      ]
     },
     "execution_count": 13,
     "metadata": {
      "tags": []
     },
     "output_type": "execute_result"
    }
   ],
   "source": [
    "matrice"
   ]
  },
  {
   "cell_type": "code",
   "execution_count": null,
   "metadata": {
    "id": "rzVJ1NBm1iUO"
   },
   "outputs": [],
   "source": [
    "data = matrice[:2, :2]"
   ]
  },
  {
   "cell_type": "code",
   "execution_count": null,
   "metadata": {
    "colab": {
     "base_uri": "https://localhost:8080/"
    },
    "id": "aMV0xxUg1iHf",
    "outputId": "47d94ac2-d48d-4fcd-ecba-486f3d6014b1"
   },
   "outputs": [
    {
     "data": {
      "text/plain": [
       "array([[0, 1],\n",
       "       [3, 4]])"
      ]
     },
     "execution_count": 15,
     "metadata": {
      "tags": []
     },
     "output_type": "execute_result"
    }
   ],
   "source": [
    "data"
   ]
  },
  {
   "cell_type": "code",
   "execution_count": null,
   "metadata": {
    "id": "szZ2bazX2jB7"
   },
   "outputs": [],
   "source": [
    "data[0, 0] = 15"
   ]
  },
  {
   "cell_type": "code",
   "execution_count": null,
   "metadata": {
    "colab": {
     "base_uri": "https://localhost:8080/"
    },
    "id": "WbKsnV2B2i15",
    "outputId": "9ad17663-5934-410d-e3d6-160bd743757c"
   },
   "outputs": [
    {
     "data": {
      "text/plain": [
       "array([[15,  1],\n",
       "       [ 3,  4]])"
      ]
     },
     "execution_count": 17,
     "metadata": {
      "tags": []
     },
     "output_type": "execute_result"
    }
   ],
   "source": [
    "data"
   ]
  },
  {
   "cell_type": "code",
   "execution_count": null,
   "metadata": {
    "colab": {
     "base_uri": "https://localhost:8080/"
    },
    "id": "gf-tnSPr2pyB",
    "outputId": "46e9d49a-9e6e-4261-b201-c2bf2945e5e2"
   },
   "outputs": [
    {
     "data": {
      "text/plain": [
       "array([[15,  1,  2],\n",
       "       [ 3,  4,  9],\n",
       "       [ 6,  7,  8]])"
      ]
     },
     "execution_count": 18,
     "metadata": {
      "tags": []
     },
     "output_type": "execute_result"
    }
   ],
   "source": [
    "matrice"
   ]
  },
  {
   "cell_type": "code",
   "execution_count": null,
   "metadata": {
    "id": "vgrgj43n2pnH"
   },
   "outputs": [],
   "source": []
  },
  {
   "cell_type": "code",
   "execution_count": null,
   "metadata": {
    "id": "fOOJvyxn2ioJ"
   },
   "outputs": [],
   "source": []
  },
  {
   "cell_type": "code",
   "execution_count": null,
   "metadata": {
    "id": "dE1daYat1h4i"
   },
   "outputs": [],
   "source": []
  },
  {
   "cell_type": "markdown",
   "metadata": {
    "id": "xeWqnye8ZQQe"
   },
   "source": [
    "## Comment copier alors un tableau ?"
   ]
  },
  {
   "cell_type": "code",
   "execution_count": null,
   "metadata": {
    "id": "FRXtUdXJ3CuS"
   },
   "outputs": [],
   "source": [
    "data = matrice[:2, :2].copy()"
   ]
  },
  {
   "cell_type": "code",
   "execution_count": null,
   "metadata": {
    "colab": {
     "base_uri": "https://localhost:8080/"
    },
    "id": "6XlStQ2s3CkO",
    "outputId": "713b6073-2d36-4e2b-994e-dcb16d7c9ed0"
   },
   "outputs": [
    {
     "data": {
      "text/plain": [
       "array([[15,  1],\n",
       "       [ 3,  4]])"
      ]
     },
     "execution_count": 20,
     "metadata": {
      "tags": []
     },
     "output_type": "execute_result"
    }
   ],
   "source": [
    "data"
   ]
  },
  {
   "cell_type": "code",
   "execution_count": null,
   "metadata": {
    "id": "VK9wKsXJ3H0x"
   },
   "outputs": [],
   "source": [
    "data[0, 0] = 30"
   ]
  },
  {
   "cell_type": "code",
   "execution_count": null,
   "metadata": {
    "colab": {
     "base_uri": "https://localhost:8080/"
    },
    "id": "yA_lWzd33Hq6",
    "outputId": "959f4c16-7fe1-4c09-a74b-f71311c14a92"
   },
   "outputs": [
    {
     "data": {
      "text/plain": [
       "array([[30,  1],\n",
       "       [ 3,  4]])"
      ]
     },
     "execution_count": 22,
     "metadata": {
      "tags": []
     },
     "output_type": "execute_result"
    }
   ],
   "source": [
    "data"
   ]
  },
  {
   "cell_type": "code",
   "execution_count": null,
   "metadata": {
    "colab": {
     "base_uri": "https://localhost:8080/"
    },
    "id": "B2KTuGow3CYp",
    "outputId": "60ebe870-8a46-44a0-e7f8-e46b13609350"
   },
   "outputs": [
    {
     "data": {
      "text/plain": [
       "array([[15,  1,  2],\n",
       "       [ 3,  4,  9],\n",
       "       [ 6,  7,  8]])"
      ]
     },
     "execution_count": 23,
     "metadata": {
      "tags": []
     },
     "output_type": "execute_result"
    }
   ],
   "source": [
    "matrice"
   ]
  },
  {
   "cell_type": "code",
   "execution_count": null,
   "metadata": {
    "id": "bx-BXY2C3CLa"
   },
   "outputs": [],
   "source": []
  },
  {
   "cell_type": "markdown",
   "metadata": {
    "id": "aIRn0XoSZQQf"
   },
   "source": [
    "## Modifier la taille d'un tableau"
   ]
  },
  {
   "cell_type": "code",
   "execution_count": null,
   "metadata": {
    "colab": {
     "base_uri": "https://localhost:8080/"
    },
    "id": "htzAAGcq3QRU",
    "outputId": "85d12539-348a-4af7-bd6e-3712028b2ed4"
   },
   "outputs": [
    {
     "data": {
      "text/plain": [
       "array([[ 3, 87,  9, 32, 13],\n",
       "       [98, 53, 65, 26, 11]])"
      ]
     },
     "execution_count": 26,
     "metadata": {
      "tags": []
     },
     "output_type": "execute_result"
    }
   ],
   "source": [
    "x = np.random.randint(100, size=(2, 5))\n",
    "x"
   ]
  },
  {
   "cell_type": "code",
   "execution_count": null,
   "metadata": {
    "colab": {
     "base_uri": "https://localhost:8080/"
    },
    "id": "C5MUrE1T3QK3",
    "outputId": "57148c7e-93e7-4587-a373-399744c57dc3"
   },
   "outputs": [
    {
     "data": {
      "text/plain": [
       "array([[ 3, 87],\n",
       "       [ 9, 32],\n",
       "       [13, 98],\n",
       "       [53, 65],\n",
       "       [26, 11]])"
      ]
     },
     "execution_count": 27,
     "metadata": {
      "tags": []
     },
     "output_type": "execute_result"
    }
   ],
   "source": [
    "x.reshape((5, 2))"
   ]
  },
  {
   "cell_type": "code",
   "execution_count": null,
   "metadata": {
    "colab": {
     "base_uri": "https://localhost:8080/"
    },
    "id": "bO-Ni5rX3_R0",
    "outputId": "4ff867f0-fe80-4e61-e356-96c4e8f5c209"
   },
   "outputs": [
    {
     "data": {
      "text/plain": [
       "(3,)"
      ]
     },
     "execution_count": 28,
     "metadata": {
      "tags": []
     },
     "output_type": "execute_result"
    }
   ],
   "source": [
    "u = np.array([1,5,6])\n",
    "u.shape"
   ]
  },
  {
   "cell_type": "code",
   "execution_count": null,
   "metadata": {
    "colab": {
     "base_uri": "https://localhost:8080/"
    },
    "id": "jDY2Clwi3_Fi",
    "outputId": "f054c221-97fd-44b8-ccab-05eff9e9bf26"
   },
   "outputs": [
    {
     "data": {
      "text/plain": [
       "array([[1, 5, 6]])"
      ]
     },
     "execution_count": 29,
     "metadata": {
      "tags": []
     },
     "output_type": "execute_result"
    }
   ],
   "source": [
    "u.reshape((1,3))"
   ]
  },
  {
   "cell_type": "code",
   "execution_count": null,
   "metadata": {
    "colab": {
     "base_uri": "https://localhost:8080/"
    },
    "id": "adymiXGk3-7M",
    "outputId": "4ef59d3f-18c3-479e-cd63-a3d5fa284a45"
   },
   "outputs": [
    {
     "data": {
      "text/plain": [
       "array([[1],\n",
       "       [5],\n",
       "       [6]])"
      ]
     },
     "execution_count": 30,
     "metadata": {
      "tags": []
     },
     "output_type": "execute_result"
    }
   ],
   "source": [
    "u.reshape((3, 1))"
   ]
  },
  {
   "cell_type": "code",
   "execution_count": null,
   "metadata": {
    "colab": {
     "base_uri": "https://localhost:8080/",
     "height": 164
    },
    "id": "KeqhKORp3QFZ",
    "outputId": "1791552a-d3dc-499a-fbe5-f201a3fd34ea"
   },
   "outputs": [
    {
     "ename": "ValueError",
     "evalue": "ignored",
     "output_type": "error",
     "traceback": [
      "\u001b[0;31m---------------------------------------------------------------------------\u001b[0m",
      "\u001b[0;31mValueError\u001b[0m                                Traceback (most recent call last)",
      "\u001b[0;32m<ipython-input-31-a4ffdda805be>\u001b[0m in \u001b[0;36m<module>\u001b[0;34m()\u001b[0m\n\u001b[0;32m----> 1\u001b[0;31m \u001b[0mu\u001b[0m\u001b[0;34m.\u001b[0m\u001b[0mreshape\u001b[0m\u001b[0;34m(\u001b[0m \u001b[0;34m(\u001b[0m\u001b[0;36m2\u001b[0m\u001b[0;34m,\u001b[0m \u001b[0;36m3\u001b[0m\u001b[0;34m)\u001b[0m \u001b[0;34m)\u001b[0m\u001b[0;34m\u001b[0m\u001b[0;34m\u001b[0m\u001b[0m\n\u001b[0m",
      "\u001b[0;31mValueError\u001b[0m: cannot reshape array of size 3 into shape (2,3)"
     ]
    }
   ],
   "source": [
    "u.reshape( (2, 3) )"
   ]
  },
  {
   "cell_type": "code",
   "execution_count": null,
   "metadata": {
    "id": "cACyqvm-3P69"
   },
   "outputs": [],
   "source": []
  },
  {
   "cell_type": "markdown",
   "metadata": {
    "id": "Xc_avV_HZQQf"
   },
   "source": [
    "## Concatener des Tableaux"
   ]
  },
  {
   "cell_type": "code",
   "execution_count": null,
   "metadata": {
    "colab": {
     "base_uri": "https://localhost:8080/"
    },
    "id": "p43Aeydc4VzJ",
    "outputId": "ab07bc7d-ff0b-4360-ed19-828f30e7a9c1"
   },
   "outputs": [
    {
     "data": {
      "text/plain": [
       "array([1, 5, 6])"
      ]
     },
     "execution_count": 32,
     "metadata": {
      "tags": []
     },
     "output_type": "execute_result"
    }
   ],
   "source": [
    "u"
   ]
  },
  {
   "cell_type": "code",
   "execution_count": null,
   "metadata": {
    "id": "sBpFC_I04jH7"
   },
   "outputs": [],
   "source": [
    "v = np.array([7, 8, 9])"
   ]
  },
  {
   "cell_type": "code",
   "execution_count": null,
   "metadata": {
    "colab": {
     "base_uri": "https://localhost:8080/"
    },
    "id": "yec9g_j54i67",
    "outputId": "b6637700-3e46-452c-e80a-e3c0f8fa4122"
   },
   "outputs": [
    {
     "data": {
      "text/plain": [
       "array([1, 5, 6, 7, 8, 9])"
      ]
     },
     "execution_count": 34,
     "metadata": {
      "tags": []
     },
     "output_type": "execute_result"
    }
   ],
   "source": [
    "np.concatenate([u, v])"
   ]
  },
  {
   "cell_type": "code",
   "execution_count": null,
   "metadata": {
    "colab": {
     "base_uri": "https://localhost:8080/",
     "height": 199
    },
    "id": "RghyFr5F4VmL",
    "outputId": "5327e4d2-f073-446a-8dcd-0499a5108168"
   },
   "outputs": [
    {
     "ename": "AxisError",
     "evalue": "ignored",
     "output_type": "error",
     "traceback": [
      "\u001b[0;31m---------------------------------------------------------------------------\u001b[0m",
      "\u001b[0;31mAxisError\u001b[0m                                 Traceback (most recent call last)",
      "\u001b[0;32m<ipython-input-36-a214d823108e>\u001b[0m in \u001b[0;36m<module>\u001b[0;34m()\u001b[0m\n\u001b[0;32m----> 1\u001b[0;31m \u001b[0mnp\u001b[0m\u001b[0;34m.\u001b[0m\u001b[0mconcatenate\u001b[0m\u001b[0;34m(\u001b[0m\u001b[0;34m[\u001b[0m\u001b[0mu\u001b[0m\u001b[0;34m,\u001b[0m \u001b[0mu\u001b[0m\u001b[0;34m]\u001b[0m\u001b[0;34m,\u001b[0m \u001b[0maxis\u001b[0m\u001b[0;34m=\u001b[0m\u001b[0;36m1\u001b[0m\u001b[0;34m)\u001b[0m\u001b[0;34m\u001b[0m\u001b[0;34m\u001b[0m\u001b[0m\n\u001b[0m",
      "\u001b[0;32m<__array_function__ internals>\u001b[0m in \u001b[0;36mconcatenate\u001b[0;34m(*args, **kwargs)\u001b[0m\n",
      "\u001b[0;31mAxisError\u001b[0m: axis 1 is out of bounds for array of dimension 1"
     ]
    }
   ],
   "source": [
    "np.concatenate([u, u], axis=1)"
   ]
  },
  {
   "cell_type": "code",
   "execution_count": null,
   "metadata": {
    "colab": {
     "base_uri": "https://localhost:8080/"
    },
    "id": "x4TaPb1R5MVD",
    "outputId": "70e7ec40-085e-4927-9ad5-e980d6c9ea45"
   },
   "outputs": [
    {
     "data": {
      "text/plain": [
       "array([[1, 5, 6],\n",
       "       [7, 8, 9]])"
      ]
     },
     "execution_count": 39,
     "metadata": {
      "tags": []
     },
     "output_type": "execute_result"
    }
   ],
   "source": [
    "tab = np.vstack([u, v])\n",
    "tab"
   ]
  },
  {
   "cell_type": "code",
   "execution_count": null,
   "metadata": {
    "colab": {
     "base_uri": "https://localhost:8080/"
    },
    "id": "VcAdRtL85MLK",
    "outputId": "bfa955df-3cf4-4eeb-8d71-d9d31f169b95"
   },
   "outputs": [
    {
     "data": {
      "text/plain": [
       "array([1, 5, 6, 7, 8, 9])"
      ]
     },
     "execution_count": 38,
     "metadata": {
      "tags": []
     },
     "output_type": "execute_result"
    }
   ],
   "source": [
    "np.hstack([u, v])"
   ]
  },
  {
   "cell_type": "code",
   "execution_count": null,
   "metadata": {
    "colab": {
     "base_uri": "https://localhost:8080/"
    },
    "id": "t0uQwLAl5cJa",
    "outputId": "eb3f4b57-fab5-4b2d-dcc0-f18c1579d4e7"
   },
   "outputs": [
    {
     "data": {
      "text/plain": [
       "array([[1, 5],\n",
       "       [6, 7],\n",
       "       [8, 9]])"
      ]
     },
     "execution_count": 40,
     "metadata": {
      "tags": []
     },
     "output_type": "execute_result"
    }
   ],
   "source": [
    "tab.reshape((3, 2))"
   ]
  },
  {
   "cell_type": "code",
   "execution_count": null,
   "metadata": {
    "colab": {
     "base_uri": "https://localhost:8080/"
    },
    "id": "Gph6fEeg5b9K",
    "outputId": "0bae2212-5474-46ff-c819-406a34a76410"
   },
   "outputs": [
    {
     "data": {
      "text/plain": [
       "array([[1, 5, 6],\n",
       "       [7, 8, 9],\n",
       "       [1, 5, 6],\n",
       "       [7, 8, 9]])"
      ]
     },
     "execution_count": 41,
     "metadata": {
      "tags": []
     },
     "output_type": "execute_result"
    }
   ],
   "source": [
    "np.vstack([tab, tab])"
   ]
  },
  {
   "cell_type": "code",
   "execution_count": null,
   "metadata": {
    "colab": {
     "base_uri": "https://localhost:8080/"
    },
    "id": "VUQaxj_p5L-h",
    "outputId": "6fe747c5-d68c-4ee1-ece1-b0e12fa80328"
   },
   "outputs": [
    {
     "data": {
      "text/plain": [
       "array([[1, 5, 6, 1, 5, 6],\n",
       "       [7, 8, 9, 7, 8, 9]])"
      ]
     },
     "execution_count": 42,
     "metadata": {
      "tags": []
     },
     "output_type": "execute_result"
    }
   ],
   "source": [
    "np.hstack([tab, tab])"
   ]
  },
  {
   "cell_type": "code",
   "execution_count": null,
   "metadata": {
    "id": "5r9vOWEl58aF"
   },
   "outputs": [],
   "source": []
  },
  {
   "cell_type": "code",
   "execution_count": null,
   "metadata": {
    "colab": {
     "base_uri": "https://localhost:8080/"
    },
    "id": "VOYF3v3458CL",
    "outputId": "88c54a7f-3a13-4f9f-cef3-c9006e0f8a79"
   },
   "outputs": [
    {
     "data": {
      "text/plain": [
       "(3,)"
      ]
     },
     "execution_count": 43,
     "metadata": {
      "tags": []
     },
     "output_type": "execute_result"
    }
   ],
   "source": [
    "paul = np.array([5, 9, 25])\n",
    "paul.shape"
   ]
  },
  {
   "cell_type": "code",
   "execution_count": null,
   "metadata": {
    "colab": {
     "base_uri": "https://localhost:8080/"
    },
    "id": "T9xAnZf_6IEB",
    "outputId": "26c0c831-5302-43fe-96c7-a046c2ff2f21"
   },
   "outputs": [
    {
     "data": {
      "text/plain": [
       "array([[ 5,  9, 25]])"
      ]
     },
     "execution_count": 45,
     "metadata": {
      "tags": []
     },
     "output_type": "execute_result"
    }
   ],
   "source": [
    "paul = paul.reshape((1,3))\n",
    "paul"
   ]
  },
  {
   "cell_type": "code",
   "execution_count": null,
   "metadata": {
    "colab": {
     "base_uri": "https://localhost:8080/"
    },
    "id": "u2fsmg1M6H4a",
    "outputId": "ba55eb80-2830-4349-ac88-8b9b4d1cc408"
   },
   "outputs": [
    {
     "data": {
      "text/plain": [
       "array([[ 5,  9, 25],\n",
       "       [ 5,  9, 25]])"
      ]
     },
     "execution_count": 46,
     "metadata": {
      "tags": []
     },
     "output_type": "execute_result"
    }
   ],
   "source": [
    "np.vstack([paul, paul])"
   ]
  },
  {
   "cell_type": "code",
   "execution_count": null,
   "metadata": {
    "colab": {
     "base_uri": "https://localhost:8080/"
    },
    "id": "TAtucWcL55PL",
    "outputId": "d6a1e537-9bae-4a08-c040-0c45a91f49a2"
   },
   "outputs": [
    {
     "data": {
      "text/plain": [
       "array([[ 5,  9, 25,  5,  9, 25]])"
      ]
     },
     "execution_count": 47,
     "metadata": {
      "tags": []
     },
     "output_type": "execute_result"
    }
   ],
   "source": [
    "np.hstack([paul, paul])"
   ]
  },
  {
   "cell_type": "code",
   "execution_count": null,
   "metadata": {
    "colab": {
     "base_uri": "https://localhost:8080/"
    },
    "id": "xwc6esNZ549D",
    "outputId": "13c5fa45-9031-4b91-b06b-a95d7dd32706"
   },
   "outputs": [
    {
     "data": {
      "text/plain": [
       "(1, 6)"
      ]
     },
     "execution_count": 48,
     "metadata": {
      "tags": []
     },
     "output_type": "execute_result"
    }
   ],
   "source": [
    "np.hstack([paul, paul]).shape"
   ]
  },
  {
   "cell_type": "code",
   "execution_count": null,
   "metadata": {
    "colab": {
     "base_uri": "https://localhost:8080/"
    },
    "id": "gFg0um6e6ivb",
    "outputId": "2c914247-ec48-47b6-976f-e1674c6ea7bc"
   },
   "outputs": [
    {
     "data": {
      "text/plain": [
       "array([[ 5,  9, 25]])"
      ]
     },
     "execution_count": 49,
     "metadata": {
      "tags": []
     },
     "output_type": "execute_result"
    }
   ],
   "source": [
    "paul"
   ]
  },
  {
   "cell_type": "code",
   "execution_count": null,
   "metadata": {
    "colab": {
     "base_uri": "https://localhost:8080/"
    },
    "id": "noQuCv636jMg",
    "outputId": "60bd70e5-cb46-4783-8917-3ec99411e4dd"
   },
   "outputs": [
    {
     "data": {
      "text/plain": [
       "(1, 3)"
      ]
     },
     "execution_count": 50,
     "metadata": {
      "tags": []
     },
     "output_type": "execute_result"
    }
   ],
   "source": [
    "paul.shape"
   ]
  },
  {
   "cell_type": "code",
   "execution_count": null,
   "metadata": {
    "colab": {
     "base_uri": "https://localhost:8080/"
    },
    "id": "7HYPir3a6jlK",
    "outputId": "6faa7dfe-8055-493b-97ea-7486eebeb32e"
   },
   "outputs": [
    {
     "data": {
      "text/plain": [
       "array([[ 4, 15, 15]])"
      ]
     },
     "execution_count": 52,
     "metadata": {
      "tags": []
     },
     "output_type": "execute_result"
    }
   ],
   "source": [
    "x = np.random.randint(16, size=(1, 3))\n",
    "x"
   ]
  },
  {
   "cell_type": "code",
   "execution_count": null,
   "metadata": {
    "colab": {
     "base_uri": "https://localhost:8080/"
    },
    "id": "HmNtF7Mc7pzy",
    "outputId": "a21b20b9-8e33-48e9-8936-fb6ab5e6955e"
   },
   "outputs": [
    {
     "data": {
      "text/plain": [
       "array([[ 5,  9, 25],\n",
       "       [ 4, 15, 15]])"
      ]
     },
     "execution_count": 55,
     "metadata": {
      "tags": []
     },
     "output_type": "execute_result"
    }
   ],
   "source": [
    "y = np.vstack([paul, x])\n",
    "y\n",
    "# (1, 3)\n",
    "# (1, 3)"
   ]
  },
  {
   "cell_type": "code",
   "execution_count": null,
   "metadata": {
    "id": "bsbo8w5u78Q-"
   },
   "outputs": [],
   "source": [
    "# (2, 3)\n",
    "# (1, 3)"
   ]
  },
  {
   "cell_type": "code",
   "execution_count": null,
   "metadata": {
    "colab": {
     "base_uri": "https://localhost:8080/"
    },
    "id": "fgpl5LNn8XfE",
    "outputId": "007ed69d-31e3-40bd-efbb-6df87e3d45fb"
   },
   "outputs": [
    {
     "data": {
      "text/plain": [
       "array([[ 5,  9, 25],\n",
       "       [ 4, 15, 15],\n",
       "       [ 4, 15, 15]])"
      ]
     },
     "execution_count": 57,
     "metadata": {
      "tags": []
     },
     "output_type": "execute_result"
    }
   ],
   "source": [
    "z = np.vstack([y, x])\n",
    "z"
   ]
  },
  {
   "cell_type": "code",
   "execution_count": null,
   "metadata": {
    "colab": {
     "base_uri": "https://localhost:8080/"
    },
    "id": "3zeD-U2j8mQE",
    "outputId": "0eb023f9-4e92-403f-cade-d5ba45adb572"
   },
   "outputs": [
    {
     "data": {
      "text/plain": [
       "array([[ 5,  9, 25,  5,  9, 25],\n",
       "       [ 4, 15, 15,  4, 15, 15],\n",
       "       [ 4, 15, 15,  4, 15, 15]])"
      ]
     },
     "execution_count": 58,
     "metadata": {
      "tags": []
     },
     "output_type": "execute_result"
    }
   ],
   "source": [
    "np.hstack([z, z])"
   ]
  },
  {
   "cell_type": "code",
   "execution_count": null,
   "metadata": {
    "id": "5TmUZbja6j9c"
   },
   "outputs": [],
   "source": [
    "z z # (3, 3) (3,3)"
   ]
  },
  {
   "cell_type": "code",
   "execution_count": null,
   "metadata": {
    "id": "K58EwSe26kTb"
   },
   "outputs": [],
   "source": []
  },
  {
   "cell_type": "code",
   "execution_count": null,
   "metadata": {
    "id": "KtGU05rA4VYj"
   },
   "outputs": [],
   "source": []
  },
  {
   "cell_type": "markdown",
   "metadata": {
    "id": "CboVPutwZQQg"
   },
   "source": [
    "# Calcul sur les tableaux avec Numpy "
   ]
  },
  {
   "cell_type": "markdown",
   "metadata": {
    "id": "6IPwr1n3ZQQg"
   },
   "source": [
    "## Tableau mieux que les listes ?"
   ]
  },
  {
   "cell_type": "code",
   "execution_count": null,
   "metadata": {
    "colab": {
     "base_uri": "https://localhost:8080/"
    },
    "id": "9ZCldybL8wX-",
    "outputId": "4cfa8ccb-54f4-4e76-8a09-2e88747de967"
   },
   "outputs": [
    {
     "data": {
      "text/plain": [
       "[2, 3, 4, 5, 6, 7, 8]"
      ]
     },
     "execution_count": 59,
     "metadata": {
      "tags": []
     },
     "output_type": "execute_result"
    }
   ],
   "source": [
    "nombres = list(range(2, 9))\n",
    "nombres"
   ]
  },
  {
   "cell_type": "code",
   "execution_count": null,
   "metadata": {
    "id": "bLZFpnb58wM1"
   },
   "outputs": [],
   "source": [
    "output = np.empty(len(nombres))"
   ]
  },
  {
   "cell_type": "code",
   "execution_count": null,
   "metadata": {
    "colab": {
     "base_uri": "https://localhost:8080/"
    },
    "id": "2EiPR67S8v_C",
    "outputId": "96578247-634b-473d-88de-d290d6f8005f"
   },
   "outputs": [
    {
     "data": {
      "text/plain": [
       "array([2.35071217e-316, 2.07955588e-312, 2.14321575e-312, 6.79038654e-313,\n",
       "       6.79038653e-313, 1.87422342e+261, 1.26366678e-306])"
      ]
     },
     "execution_count": 61,
     "metadata": {
      "tags": []
     },
     "output_type": "execute_result"
    }
   ],
   "source": [
    "output"
   ]
  },
  {
   "cell_type": "code",
   "execution_count": null,
   "metadata": {
    "colab": {
     "base_uri": "https://localhost:8080/"
    },
    "id": "n5uUO2B_9MMF",
    "outputId": "fb951907-eff7-47aa-fa0f-188898f99921"
   },
   "outputs": [
    {
     "data": {
      "text/plain": [
       "array([0.5       , 0.33333333, 0.25      , 0.2       , 0.16666667,\n",
       "       0.14285714, 0.125     ])"
      ]
     },
     "execution_count": 62,
     "metadata": {
      "tags": []
     },
     "output_type": "execute_result"
    }
   ],
   "source": [
    "for i, n in enumerate(nombres):\n",
    "  output[i] = 1 / n\n",
    "output"
   ]
  },
  {
   "cell_type": "code",
   "execution_count": null,
   "metadata": {
    "colab": {
     "base_uri": "https://localhost:8080/"
    },
    "id": "6sKjWFUv9ipb",
    "outputId": "2c31468f-29df-44d3-9eac-f61a23a1e522"
   },
   "outputs": [
    {
     "data": {
      "text/plain": [
       "array([2, 3, 4, 5, 6, 7, 8])"
      ]
     },
     "execution_count": 63,
     "metadata": {
      "tags": []
     },
     "output_type": "execute_result"
    }
   ],
   "source": [
    "nombres_tab = np.array(nombres)\n",
    "nombres_tab"
   ]
  },
  {
   "cell_type": "code",
   "execution_count": null,
   "metadata": {
    "colab": {
     "base_uri": "https://localhost:8080/"
    },
    "id": "R3s6Ae-E9iZR",
    "outputId": "470f2483-0d6c-4825-f400-8c8e4f923ab5"
   },
   "outputs": [
    {
     "data": {
      "text/plain": [
       "array([0.5       , 0.33333333, 0.25      , 0.2       , 0.16666667,\n",
       "       0.14285714, 0.125     ])"
      ]
     },
     "execution_count": 64,
     "metadata": {
      "tags": []
     },
     "output_type": "execute_result"
    }
   ],
   "source": [
    "1 / nombres_tab"
   ]
  },
  {
   "cell_type": "code",
   "execution_count": null,
   "metadata": {
    "id": "mvY-Jhug-KcI"
   },
   "outputs": [],
   "source": [
    "import time"
   ]
  },
  {
   "cell_type": "code",
   "execution_count": null,
   "metadata": {
    "colab": {
     "base_uri": "https://localhost:8080/"
    },
    "id": "1rJfFbX3-NGY",
    "outputId": "648126a7-b8b0-4f86-e982-15abd8ebdd82"
   },
   "outputs": [
    {
     "data": {
      "text/plain": [
       "1612994661.8269765"
      ]
     },
     "execution_count": 67,
     "metadata": {
      "tags": []
     },
     "output_type": "execute_result"
    }
   ],
   "source": [
    "time.time()"
   ]
  },
  {
   "cell_type": "code",
   "execution_count": null,
   "metadata": {
    "colab": {
     "base_uri": "https://localhost:8080/"
    },
    "id": "6LPopZZZ9iJs",
    "outputId": "54aade67-4eb9-4d5a-b778-4fa662e224bb"
   },
   "outputs": [
    {
     "name": "stdout",
     "output_type": "stream",
     "text": [
      "2.372166872024536\n"
     ]
    }
   ],
   "source": [
    "\n",
    "nombres = list(range(2, 10_000_000))\n",
    "output = np.empty(len(nombres))\n",
    "debut = time.time()\n",
    "for i, n in enumerate(nombres):\n",
    "  output[i] = 1 / n\n",
    "fin  = time.time()\n",
    "print(fin-debut)"
   ]
  },
  {
   "cell_type": "code",
   "execution_count": null,
   "metadata": {
    "id": "qJpt_EZX_JIF"
   },
   "outputs": [],
   "source": [
    "import numpy as np\n",
    "import time"
   ]
  },
  {
   "cell_type": "code",
   "execution_count": null,
   "metadata": {
    "colab": {
     "base_uri": "https://localhost:8080/"
    },
    "id": "Nf9GmP1G9L61",
    "outputId": "3cd81d78-dfcd-41b4-9382-728143414193"
   },
   "outputs": [
    {
     "name": "stdout",
     "output_type": "stream",
     "text": [
      "0.07444596290588379\n"
     ]
    }
   ],
   "source": [
    "debut = time.time()\n",
    "1 / np.arange(2, 10_000_000)\n",
    "fin  = time.time()\n",
    "print(fin-debut)"
   ]
  },
  {
   "cell_type": "code",
   "execution_count": null,
   "metadata": {
    "id": "Y1zTp0CD9LtU"
   },
   "outputs": [],
   "source": []
  },
  {
   "cell_type": "code",
   "execution_count": null,
   "metadata": {
    "id": "PGC0jRGo_jzG"
   },
   "outputs": [],
   "source": []
  },
  {
   "cell_type": "markdown",
   "metadata": {
    "id": "vj9wz2TyZQQg"
   },
   "source": [
    "## Vectorisation*"
   ]
  },
  {
   "cell_type": "code",
   "execution_count": null,
   "metadata": {
    "id": "wzSZsj42_kEv"
   },
   "outputs": [],
   "source": []
  },
  {
   "cell_type": "code",
   "execution_count": null,
   "metadata": {
    "colab": {
     "base_uri": "https://localhost:8080/"
    },
    "id": "amBMJ464_kSU",
    "outputId": "b70a5bfa-6757-45a7-eb86-3ed3eb06cedc"
   },
   "outputs": [
    {
     "data": {
      "text/plain": [
       "[25, 64, 81]"
      ]
     },
     "execution_count": 4,
     "metadata": {
      "tags": []
     },
     "output_type": "execute_result"
    }
   ],
   "source": [
    "l = [5, 8, 9]\n",
    "[n**2 for n in l]"
   ]
  },
  {
   "cell_type": "code",
   "execution_count": null,
   "metadata": {
    "colab": {
     "base_uri": "https://localhost:8080/"
    },
    "id": "seAxcpyE_w5l",
    "outputId": "c5f90b5a-2ebf-4b98-b5a2-1f3de696ca80"
   },
   "outputs": [
    {
     "data": {
      "text/plain": [
       "array([25, 64, 81])"
      ]
     },
     "execution_count": 5,
     "metadata": {
      "tags": []
     },
     "output_type": "execute_result"
    }
   ],
   "source": [
    "np.array(l) ** 2"
   ]
  },
  {
   "cell_type": "code",
   "execution_count": null,
   "metadata": {
    "id": "j-CB_Zok_wvs"
   },
   "outputs": [],
   "source": []
  },
  {
   "cell_type": "code",
   "execution_count": null,
   "metadata": {
    "id": "2HTf8_RL8vzf"
   },
   "outputs": [],
   "source": []
  },
  {
   "cell_type": "markdown",
   "metadata": {
    "id": "S6_oI6dVZQQh"
   },
   "source": [
    "# Aggregation"
   ]
  },
  {
   "cell_type": "code",
   "execution_count": null,
   "metadata": {
    "colab": {
     "base_uri": "https://localhost:8080/"
    },
    "id": "la-o_5J4_8NT",
    "outputId": "ddce1a73-2f53-4a95-f26c-6a1814920ed9"
   },
   "outputs": [
    {
     "data": {
      "text/plain": [
       "[5, 8, 9]"
      ]
     },
     "execution_count": 6,
     "metadata": {
      "tags": []
     },
     "output_type": "execute_result"
    }
   ],
   "source": [
    "l"
   ]
  },
  {
   "cell_type": "code",
   "execution_count": null,
   "metadata": {
    "colab": {
     "base_uri": "https://localhost:8080/"
    },
    "id": "Q5NJKZsK_8HH",
    "outputId": "a30f4a22-3493-4b30-dffb-604678f717a6"
   },
   "outputs": [
    {
     "data": {
      "text/plain": [
       "5"
      ]
     },
     "execution_count": 7,
     "metadata": {
      "tags": []
     },
     "output_type": "execute_result"
    }
   ],
   "source": [
    "min(l)"
   ]
  },
  {
   "cell_type": "code",
   "execution_count": null,
   "metadata": {
    "colab": {
     "base_uri": "https://localhost:8080/"
    },
    "id": "H-yzsFMq_-5G",
    "outputId": "71fc0bcd-5202-4fc0-e3ab-38ab9c4ff742"
   },
   "outputs": [
    {
     "data": {
      "text/plain": [
       "5"
      ]
     },
     "execution_count": 8,
     "metadata": {
      "tags": []
     },
     "output_type": "execute_result"
    }
   ],
   "source": [
    "np.min(l)"
   ]
  },
  {
   "cell_type": "code",
   "execution_count": null,
   "metadata": {
    "colab": {
     "base_uri": "https://localhost:8080/"
    },
    "id": "fpRQfn22_78-",
    "outputId": "528f6080-e784-4a56-825e-92978e7fadf0"
   },
   "outputs": [
    {
     "data": {
      "text/plain": [
       "5"
      ]
     },
     "execution_count": 10,
     "metadata": {
      "tags": []
     },
     "output_type": "execute_result"
    }
   ],
   "source": [
    "np.array(l).min()"
   ]
  },
  {
   "cell_type": "code",
   "execution_count": null,
   "metadata": {
    "id": "8sHbl53WAcSE"
   },
   "outputs": [],
   "source": [
    "np.random.seed(9)"
   ]
  },
  {
   "cell_type": "code",
   "execution_count": null,
   "metadata": {
    "colab": {
     "base_uri": "https://localhost:8080/"
    },
    "id": "a_UsmV6TAHaO",
    "outputId": "7123a72b-6cc6-4202-8c1d-303f42f30c50"
   },
   "outputs": [
    {
     "data": {
      "text/plain": [
       "array([[12,  5,  0],\n",
       "       [ 3, 11,  3],\n",
       "       [ 7,  9,  3],\n",
       "       [ 5,  2,  4],\n",
       "       [ 7,  6,  8]])"
      ]
     },
     "execution_count": 27,
     "metadata": {
      "tags": []
     },
     "output_type": "execute_result"
    }
   ],
   "source": [
    "np.random.seed(0)\n",
    "tab = np.random.randint(15, size=(5, 3))\n",
    "tab"
   ]
  },
  {
   "cell_type": "code",
   "execution_count": null,
   "metadata": {
    "colab": {
     "base_uri": "https://localhost:8080/"
    },
    "id": "s9G6eM4oBNyd",
    "outputId": "58a7bf26-1b90-48df-d091-448b7253f3ad"
   },
   "outputs": [
    {
     "data": {
      "text/plain": [
       "0"
      ]
     },
     "execution_count": 30,
     "metadata": {
      "tags": []
     },
     "output_type": "execute_result"
    }
   ],
   "source": [
    "np.min(tab)"
   ]
  },
  {
   "cell_type": "code",
   "execution_count": null,
   "metadata": {
    "colab": {
     "base_uri": "https://localhost:8080/"
    },
    "id": "2BdHI7Q8BAfv",
    "outputId": "d0b3bfa7-294f-44a6-a069-8026efffc3ab"
   },
   "outputs": [
    {
     "data": {
      "text/plain": [
       "0"
      ]
     },
     "execution_count": 29,
     "metadata": {
      "tags": []
     },
     "output_type": "execute_result"
    }
   ],
   "source": [
    "tab.min()"
   ]
  },
  {
   "cell_type": "code",
   "execution_count": null,
   "metadata": {
    "colab": {
     "base_uri": "https://localhost:8080/"
    },
    "id": "bTcBPmsEBARm",
    "outputId": "548c3607-e845-4e3a-cb38-b75c0962818a"
   },
   "outputs": [
    {
     "data": {
      "text/plain": [
       "array([3, 2, 0])"
      ]
     },
     "execution_count": 32,
     "metadata": {
      "tags": []
     },
     "output_type": "execute_result"
    }
   ],
   "source": [
    "np.min(tab, axis= 0)"
   ]
  },
  {
   "cell_type": "code",
   "execution_count": null,
   "metadata": {
    "colab": {
     "base_uri": "https://localhost:8080/"
    },
    "id": "cAQuVOe9BtJ9",
    "outputId": "f3c5860a-f625-47fd-bc0f-db0ab17d8c5b"
   },
   "outputs": [
    {
     "data": {
      "text/plain": [
       "array([5.66666667, 5.66666667, 6.33333333, 3.66666667, 7.        ])"
      ]
     },
     "execution_count": 34,
     "metadata": {
      "tags": []
     },
     "output_type": "execute_result"
    }
   ],
   "source": [
    "np.mean(tab, axis= 1)"
   ]
  },
  {
   "cell_type": "code",
   "execution_count": null,
   "metadata": {
    "id": "aaiemzqgBs8F"
   },
   "outputs": [],
   "source": []
  },
  {
   "cell_type": "code",
   "execution_count": null,
   "metadata": {
    "colab": {
     "base_uri": "https://localhost:8080/"
    },
    "id": "L6hrBDEkBsps",
    "outputId": "6986e484-c4b6-49c8-e125-e392e6bcc6a9"
   },
   "outputs": [
    {
     "data": {
      "text/plain": [
       "array([[12,  1,  6],\n",
       "       [ 7, 14, 17],\n",
       "       [ 5, 13,  8],\n",
       "       [ 9, 16,  5],\n",
       "       [15, 15,  0],\n",
       "       [18,  3, 17],\n",
       "       [14,  7,  0],\n",
       "       [ 1,  9,  0],\n",
       "       [10,  3, 11],\n",
       "       [18,  2,  0]])"
      ]
     },
     "execution_count": 36,
     "metadata": {
      "tags": []
     },
     "output_type": "execute_result"
    }
   ],
   "source": [
    "notes = np.random.randint(19, size=(10, 3))\n",
    "notes"
   ]
  },
  {
   "cell_type": "code",
   "execution_count": null,
   "metadata": {
    "colab": {
     "base_uri": "https://localhost:8080/"
    },
    "id": "4b2nmedpCKcm",
    "outputId": "4381ee52-719f-4f4e-bbbe-eebada69e7fd"
   },
   "outputs": [
    {
     "data": {
      "text/plain": [
       "array([10.9,  8.3,  6.4])"
      ]
     },
     "execution_count": 37,
     "metadata": {
      "tags": []
     },
     "output_type": "execute_result"
    }
   ],
   "source": [
    "notes.mean(axis=0)\n",
    "#np.mean(notes, axis=0)"
   ]
  },
  {
   "cell_type": "code",
   "execution_count": null,
   "metadata": {
    "colab": {
     "base_uri": "https://localhost:8080/"
    },
    "id": "wex20seIBsbt",
    "outputId": "6716266d-f9fa-4fb6-ccc3-1f8c49b83f24"
   },
   "outputs": [
    {
     "data": {
      "text/plain": [
       "array([ 6.33333333, 12.66666667,  8.66666667, 10.        , 10.        ,\n",
       "       12.66666667,  7.        ,  3.33333333,  8.        ,  6.66666667])"
      ]
     },
     "execution_count": 39,
     "metadata": {
      "tags": []
     },
     "output_type": "execute_result"
    }
   ],
   "source": [
    "moy_per_student = np.mean(notes, axis=1)\n",
    "moy_per_student"
   ]
  },
  {
   "cell_type": "code",
   "execution_count": null,
   "metadata": {
    "colab": {
     "base_uri": "https://localhost:8080/"
    },
    "id": "_NujrtSUCvcJ",
    "outputId": "1b6e583d-6427-47e6-f41f-f0912dda7424"
   },
   "outputs": [
    {
     "data": {
      "text/plain": [
       "array([False,  True, False,  True,  True,  True, False, False, False,\n",
       "       False])"
      ]
     },
     "execution_count": 40,
     "metadata": {
      "tags": []
     },
     "output_type": "execute_result"
    }
   ],
   "source": [
    "moy_per_student >= 10"
   ]
  },
  {
   "cell_type": "code",
   "execution_count": null,
   "metadata": {
    "colab": {
     "base_uri": "https://localhost:8080/"
    },
    "id": "lnTunHQkCvOm",
    "outputId": "4b1f0f82-bf9a-4451-d54c-58f77aca363b"
   },
   "outputs": [
    {
     "data": {
      "text/plain": [
       "0.5"
      ]
     },
     "execution_count": 41,
     "metadata": {
      "tags": []
     },
     "output_type": "execute_result"
    }
   ],
   "source": [
    "np.mean([0, 1, 1, 0])"
   ]
  },
  {
   "cell_type": "code",
   "execution_count": null,
   "metadata": {
    "colab": {
     "base_uri": "https://localhost:8080/"
    },
    "id": "xCabiQsJAG3o",
    "outputId": "0a91e0e5-b096-4d9f-b002-3df6ee8cf26c"
   },
   "outputs": [
    {
     "data": {
      "text/plain": [
       "2"
      ]
     },
     "execution_count": 42,
     "metadata": {
      "tags": []
     },
     "output_type": "execute_result"
    }
   ],
   "source": [
    "np.sum([0, 1, 1, 0])"
   ]
  },
  {
   "cell_type": "code",
   "execution_count": null,
   "metadata": {
    "colab": {
     "base_uri": "https://localhost:8080/"
    },
    "id": "znvo0KNhAGsE",
    "outputId": "5bdf7533-9378-497f-e611-65ad6c5837d8"
   },
   "outputs": [
    {
     "data": {
      "text/plain": [
       "2"
      ]
     },
     "execution_count": 43,
     "metadata": {
      "tags": []
     },
     "output_type": "execute_result"
    }
   ],
   "source": [
    "np.sum([False,  True, True, False])"
   ]
  },
  {
   "cell_type": "code",
   "execution_count": null,
   "metadata": {
    "colab": {
     "base_uri": "https://localhost:8080/"
    },
    "id": "ckzo1UH3DjPt",
    "outputId": "280c4e65-fb6e-4d17-8ac6-4cc399b8e718"
   },
   "outputs": [
    {
     "data": {
      "text/plain": [
       "4"
      ]
     },
     "execution_count": 44,
     "metadata": {
      "tags": []
     },
     "output_type": "execute_result"
    }
   ],
   "source": [
    "np.sum(moy_per_student >= 10)"
   ]
  },
  {
   "cell_type": "code",
   "execution_count": null,
   "metadata": {
    "id": "m2fTK0nrDjGz"
   },
   "outputs": [],
   "source": []
  },
  {
   "cell_type": "code",
   "execution_count": null,
   "metadata": {
    "id": "vtAbpH7v_7xn"
   },
   "outputs": [],
   "source": []
  },
  {
   "cell_type": "markdown",
   "metadata": {
    "id": "Ql6v2ygMZQQh"
   },
   "source": [
    "# Diffusion (broadcasting) avec Numpy"
   ]
  },
  {
   "cell_type": "code",
   "execution_count": null,
   "metadata": {
    "id": "tfQgERdqZQQh"
   },
   "outputs": [],
   "source": [
    "import numpy as np"
   ]
  },
  {
   "cell_type": "code",
   "execution_count": null,
   "metadata": {
    "colab": {
     "base_uri": "https://localhost:8080/"
    },
    "id": "RQ_XqA8iZQQi",
    "outputId": "e409996e-9557-4fb4-c206-7abef5705314"
   },
   "outputs": [
    {
     "data": {
      "text/plain": [
       "array([5, 6, 7])"
      ]
     },
     "execution_count": 2,
     "metadata": {
      "tags": []
     },
     "output_type": "execute_result"
    }
   ],
   "source": [
    "a = np.array([0, 1, 2])\n",
    "b = np.array([5, 5, 5])\n",
    "a + b"
   ]
  },
  {
   "cell_type": "code",
   "execution_count": null,
   "metadata": {
    "colab": {
     "base_uri": "https://localhost:8080/"
    },
    "id": "6rc9l2JQtrWT",
    "outputId": "cb7b858f-22b2-4c7a-b0d5-cb58fec84b2d"
   },
   "outputs": [
    {
     "data": {
      "text/plain": [
       "array([[ 0,  7,  0],\n",
       "       [10,  4,  8],\n",
       "       [18,  4, 10]])"
      ]
     },
     "execution_count": 3,
     "metadata": {
      "tags": []
     },
     "output_type": "execute_result"
    }
   ],
   "source": [
    "matrice = np.random.randint(20, size=(3, 3))\n",
    "matrice"
   ]
  },
  {
   "cell_type": "code",
   "execution_count": null,
   "metadata": {
    "id": "mdwVmI0-uD2f"
   },
   "outputs": [],
   "source": [
    "        [0, 1, 2]     "
   ]
  },
  {
   "cell_type": "code",
   "execution_count": null,
   "metadata": {
    "colab": {
     "base_uri": "https://localhost:8080/"
    },
    "id": "FlEduyQdt6Lk",
    "outputId": "5ea035df-d95b-4126-ee22-49b2e0ffa5ce"
   },
   "outputs": [
    {
     "data": {
      "text/plain": [
       "array([[ 0,  8,  2],\n",
       "       [10,  5, 10],\n",
       "       [18,  5, 12]])"
      ]
     },
     "execution_count": 4,
     "metadata": {
      "tags": []
     },
     "output_type": "execute_result"
    }
   ],
   "source": [
    "matrice + a \n",
    "# (3, 3)\n",
    "# (3)"
   ]
  },
  {
   "cell_type": "code",
   "execution_count": null,
   "metadata": {
    "colab": {
     "base_uri": "https://localhost:8080/"
    },
    "id": "VBbN_fH7uWGX",
    "outputId": "346d8d23-c484-4367-fada-c58142914221"
   },
   "outputs": [
    {
     "data": {
      "text/plain": [
       "array([[0, 1, 2],\n",
       "       [0, 1, 2],\n",
       "       [0, 1, 2]])"
      ]
     },
     "execution_count": 6,
     "metadata": {
      "tags": []
     },
     "output_type": "execute_result"
    }
   ],
   "source": [
    "np.vstack([a, a, a])"
   ]
  },
  {
   "cell_type": "code",
   "execution_count": null,
   "metadata": {
    "colab": {
     "base_uri": "https://localhost:8080/"
    },
    "id": "Ql85SO87uijj",
    "outputId": "0dd66ee6-b47d-4c19-b99c-cec938d81804"
   },
   "outputs": [
    {
     "data": {
      "text/plain": [
       "array([[ 0,  8,  2],\n",
       "       [10,  5, 10],\n",
       "       [18,  5, 12]])"
      ]
     },
     "execution_count": 7,
     "metadata": {
      "tags": []
     },
     "output_type": "execute_result"
    }
   ],
   "source": [
    "matrice + np.vstack([a, a, a])"
   ]
  },
  {
   "cell_type": "code",
   "execution_count": null,
   "metadata": {
    "colab": {
     "base_uri": "https://localhost:8080/"
    },
    "id": "jTsEaSPVumxL",
    "outputId": "77e8719d-14d0-41f2-efb1-a4bf93a8e413"
   },
   "outputs": [
    {
     "data": {
      "text/plain": [
       "array([0, 1, 2])"
      ]
     },
     "execution_count": 8,
     "metadata": {
      "tags": []
     },
     "output_type": "execute_result"
    }
   ],
   "source": [
    "a"
   ]
  },
  {
   "cell_type": "code",
   "execution_count": null,
   "metadata": {
    "colab": {
     "base_uri": "https://localhost:8080/"
    },
    "id": "jTBGJcPku0jq",
    "outputId": "fe910aac-9dac-4640-cdac-d698b218cb02"
   },
   "outputs": [
    {
     "data": {
      "text/plain": [
       "array([[0],\n",
       "       [1],\n",
       "       [2]])"
      ]
     },
     "execution_count": 9,
     "metadata": {
      "tags": []
     },
     "output_type": "execute_result"
    }
   ],
   "source": [
    "c = a.reshape((3,1))\n",
    "c"
   ]
  },
  {
   "cell_type": "code",
   "execution_count": null,
   "metadata": {
    "colab": {
     "base_uri": "https://localhost:8080/"
    },
    "id": "eX71Iv1Uu7Ph",
    "outputId": "4dd8ba15-fc37-49a4-f3f1-9262266f04e1"
   },
   "outputs": [
    {
     "data": {
      "text/plain": [
       "array([[0, 1, 2],\n",
       "       [1, 2, 3],\n",
       "       [2, 3, 4]])"
      ]
     },
     "execution_count": 11,
     "metadata": {
      "tags": []
     },
     "output_type": "execute_result"
    }
   ],
   "source": [
    "a + c\n",
    "# (3,) -->   (1, 3) --> (3, 3)\n",
    "# (3, 1) --> (3, 1) --> (3, 3)"
   ]
  },
  {
   "cell_type": "code",
   "execution_count": null,
   "metadata": {
    "colab": {
     "base_uri": "https://localhost:8080/"
    },
    "id": "TM4lZgbSvN8r",
    "outputId": "739cc3e7-c3ca-4e23-e7ff-d76154603fe5"
   },
   "outputs": [
    {
     "data": {
      "text/plain": [
       "array([[0],\n",
       "       [2],\n",
       "       [4]])"
      ]
     },
     "execution_count": 10,
     "metadata": {
      "tags": []
     },
     "output_type": "execute_result"
    }
   ],
   "source": [
    "a.reshape((3, 1)) + c"
   ]
  },
  {
   "cell_type": "code",
   "execution_count": null,
   "metadata": {
    "id": "8TB5EQQdvQ7L"
   },
   "outputs": [],
   "source": []
  },
  {
   "cell_type": "markdown",
   "metadata": {
    "id": "9fGpVGWwwQ_D"
   },
   "source": [
    "> Règle 1 : si 2 tableaux ont des ndim différents, le shape de celui avec le ndim inférieur est augmenté par des 1 à gauches pour avoir le même ndim que l'autre"
   ]
  },
  {
   "cell_type": "code",
   "execution_count": null,
   "metadata": {
    "colab": {
     "base_uri": "https://localhost:8080/"
    },
    "id": "WhIfm4fZwP-9",
    "outputId": "5e6b9be5-a657-497d-f631-f008aeca39a4"
   },
   "outputs": [
    {
     "data": {
      "text/plain": [
       "array([[1, 9, 0],\n",
       "       [1, 1, 3]])"
      ]
     },
     "execution_count": 12,
     "metadata": {
      "tags": []
     },
     "output_type": "execute_result"
    }
   ],
   "source": [
    "m = np.random.randint(10, size=(2, 3))\n",
    "m"
   ]
  },
  {
   "cell_type": "code",
   "execution_count": null,
   "metadata": {
    "colab": {
     "base_uri": "https://localhost:8080/"
    },
    "id": "ppHzbAMNwt7t",
    "outputId": "0bf03b46-a487-4d8d-b379-a29b75c6d7b9"
   },
   "outputs": [
    {
     "data": {
      "text/plain": [
       "array([0, 1, 2])"
      ]
     },
     "execution_count": 13,
     "metadata": {
      "tags": []
     },
     "output_type": "execute_result"
    }
   ],
   "source": [
    "a"
   ]
  },
  {
   "cell_type": "code",
   "execution_count": null,
   "metadata": {
    "id": "UfrttL4MwvR8"
   },
   "outputs": [],
   "source": [
    "m # (2, 3) --> (2, 3) \n",
    "a # (3)    ---> (1, 3)"
   ]
  },
  {
   "cell_type": "markdown",
   "metadata": {
    "id": "tmI0hukuxa-D"
   },
   "source": [
    "> Règle 2 : Si le shape de 2 tableaux n'est pas égale dans une dimension quelconque, celui qui a un 1 à cette dimension est étendu pour atteindre le nombre d'éléments que l'autre a à cette dimension"
   ]
  },
  {
   "cell_type": "code",
   "execution_count": null,
   "metadata": {
    "id": "Besrnbfcx2gh"
   },
   "outputs": [],
   "source": [
    "m # (2, 3) --> (2, 3)  ---> (2, 3)\n",
    "a # (3)    ---> (1, 3)  ---->(2, 3) #grace à vstack"
   ]
  },
  {
   "cell_type": "code",
   "execution_count": null,
   "metadata": {
    "colab": {
     "base_uri": "https://localhost:8080/"
    },
    "id": "4oFVSRrtynMn",
    "outputId": "5b5873f7-80f1-4ea9-cbbe-41924bc0ec1a"
   },
   "outputs": [
    {
     "data": {
      "text/plain": [
       "array([[0, 1, 2],\n",
       "       [0, 1, 2]])"
      ]
     },
     "execution_count": 17,
     "metadata": {
      "tags": []
     },
     "output_type": "execute_result"
    }
   ],
   "source": [
    "np.vstack([a, a])"
   ]
  },
  {
   "cell_type": "code",
   "execution_count": null,
   "metadata": {
    "colab": {
     "base_uri": "https://localhost:8080/"
    },
    "id": "sULmmcCAx2W9",
    "outputId": "1d7adc25-c963-456f-ee36-e3ef9e0249de"
   },
   "outputs": [
    {
     "data": {
      "text/plain": [
       "array([[1, 9, 0],\n",
       "       [1, 1, 3]])"
      ]
     },
     "execution_count": 14,
     "metadata": {
      "tags": []
     },
     "output_type": "execute_result"
    }
   ],
   "source": [
    "m"
   ]
  },
  {
   "cell_type": "code",
   "execution_count": null,
   "metadata": {
    "colab": {
     "base_uri": "https://localhost:8080/"
    },
    "id": "9DH82bSEx2Mu",
    "outputId": "b8aabf41-c3f6-4a3c-d103-39f6a3158d54"
   },
   "outputs": [
    {
     "data": {
      "text/plain": [
       "array([[ 1, 10,  2],\n",
       "       [ 1,  2,  5]])"
      ]
     },
     "execution_count": 15,
     "metadata": {
      "tags": []
     },
     "output_type": "execute_result"
    }
   ],
   "source": [
    "m + a"
   ]
  },
  {
   "cell_type": "code",
   "execution_count": null,
   "metadata": {
    "id": "rM2W-MVSxtVU"
   },
   "outputs": [],
   "source": [
    "# Exemple 2"
   ]
  },
  {
   "cell_type": "code",
   "execution_count": null,
   "metadata": {
    "colab": {
     "base_uri": "https://localhost:8080/"
    },
    "id": "56g3zh-_yJNX",
    "outputId": "3a8b2212-bd3a-4c0e-bb82-e436adb6b9df"
   },
   "outputs": [
    {
     "data": {
      "text/plain": [
       "array([[0],\n",
       "       [1],\n",
       "       [2]])"
      ]
     },
     "execution_count": 18,
     "metadata": {
      "tags": []
     },
     "output_type": "execute_result"
    }
   ],
   "source": [
    "m = np.arange(3).reshape((3, 1))\n",
    "m"
   ]
  },
  {
   "cell_type": "code",
   "execution_count": null,
   "metadata": {
    "colab": {
     "base_uri": "https://localhost:8080/"
    },
    "id": "xMF8iie0yJl9",
    "outputId": "af743018-33d3-42ce-efa2-1bde45c2850f"
   },
   "outputs": [
    {
     "data": {
      "text/plain": [
       "array([0, 1, 0])"
      ]
     },
     "execution_count": 20,
     "metadata": {
      "tags": []
     },
     "output_type": "execute_result"
    }
   ],
   "source": [
    "h = np.random.randint(3, size=(3,))\n",
    "h"
   ]
  },
  {
   "cell_type": "code",
   "execution_count": null,
   "metadata": {
    "id": "vEDiWM3kyJtb"
   },
   "outputs": [],
   "source": [
    "m.shape = (3, 1)\n",
    "h.shape = (3, )"
   ]
  },
  {
   "cell_type": "code",
   "execution_count": null,
   "metadata": {
    "id": "3PWf4RlWyJy9"
   },
   "outputs": [],
   "source": [
    "# Regle 1\n",
    "m.shape = (3, 1)\n",
    "h.shape = (1, 3)"
   ]
  },
  {
   "cell_type": "code",
   "execution_count": null,
   "metadata": {
    "colab": {
     "base_uri": "https://localhost:8080/"
    },
    "id": "v70cubVXzk0v",
    "outputId": "ef342b77-38e0-478b-aed2-f386a59380ce"
   },
   "outputs": [
    {
     "data": {
      "text/plain": [
       "array([[0, 1, 0]])"
      ]
     },
     "execution_count": 21,
     "metadata": {
      "tags": []
     },
     "output_type": "execute_result"
    }
   ],
   "source": [
    "h.reshape((1, 3))"
   ]
  },
  {
   "cell_type": "code",
   "execution_count": null,
   "metadata": {
    "colab": {
     "base_uri": "https://localhost:8080/"
    },
    "id": "kpvBHO9QznnN",
    "outputId": "fe933560-45f0-41b3-af81-14f501bba451"
   },
   "outputs": [
    {
     "data": {
      "text/plain": [
       "array([[0, 1, 0],\n",
       "       [0, 1, 0],\n",
       "       [0, 1, 0]])"
      ]
     },
     "execution_count": 24,
     "metadata": {
      "tags": []
     },
     "output_type": "execute_result"
    }
   ],
   "source": [
    "np.vstack([h.reshape((1, 3))]* 3)"
   ]
  },
  {
   "cell_type": "code",
   "execution_count": null,
   "metadata": {
    "id": "PNFpnf2-0bAU"
   },
   "outputs": [],
   "source": [
    "# Regle 2\n",
    "m.shape = (3, 1)\n",
    "h.shape = (3, 3)"
   ]
  },
  {
   "cell_type": "code",
   "execution_count": null,
   "metadata": {
    "colab": {
     "base_uri": "https://localhost:8080/"
    },
    "id": "La20Ycqq0a1Q",
    "outputId": "b0d11879-0ced-4989-deb3-82ff42ab6e4e"
   },
   "outputs": [
    {
     "data": {
      "text/plain": [
       "array([[0],\n",
       "       [1],\n",
       "       [2]])"
      ]
     },
     "execution_count": 25,
     "metadata": {
      "tags": []
     },
     "output_type": "execute_result"
    }
   ],
   "source": [
    "m"
   ]
  },
  {
   "cell_type": "code",
   "execution_count": null,
   "metadata": {
    "colab": {
     "base_uri": "https://localhost:8080/"
    },
    "id": "mnuBDTK80mPb",
    "outputId": "5f35aa6f-2cf9-4efb-f3f0-31ddea141a19"
   },
   "outputs": [
    {
     "data": {
      "text/plain": [
       "array([[0, 0, 0],\n",
       "       [1, 1, 1],\n",
       "       [2, 2, 2]])"
      ]
     },
     "execution_count": 26,
     "metadata": {
      "tags": []
     },
     "output_type": "execute_result"
    }
   ],
   "source": [
    "np.hstack([m, m, m])"
   ]
  },
  {
   "cell_type": "code",
   "execution_count": null,
   "metadata": {
    "id": "_Nl7FJ-f0anj"
   },
   "outputs": [],
   "source": [
    "# Regle 2\n",
    "m.shape = (3, 3)\n",
    "h.shape = (3, 3)"
   ]
  },
  {
   "cell_type": "code",
   "execution_count": null,
   "metadata": {
    "colab": {
     "base_uri": "https://localhost:8080/"
    },
    "id": "QMXUT6Tz0LHv",
    "outputId": "099eb8e7-769a-49ae-d448-e23727cca8fc"
   },
   "outputs": [
    {
     "data": {
      "text/plain": [
       "array([[0, 0, 0],\n",
       "       [1, 1, 1],\n",
       "       [2, 2, 2]])"
      ]
     },
     "execution_count": 27,
     "metadata": {
      "tags": []
     },
     "output_type": "execute_result"
    }
   ],
   "source": [
    "np.hstack([m, m, m])"
   ]
  },
  {
   "cell_type": "code",
   "execution_count": null,
   "metadata": {
    "colab": {
     "base_uri": "https://localhost:8080/"
    },
    "id": "HJd3LLjK0zay",
    "outputId": "2fd1e12d-2f82-456d-f570-af6a367ebabe"
   },
   "outputs": [
    {
     "data": {
      "text/plain": [
       "array([[0, 1, 0],\n",
       "       [0, 1, 0],\n",
       "       [0, 1, 0]])"
      ]
     },
     "execution_count": 28,
     "metadata": {
      "tags": []
     },
     "output_type": "execute_result"
    }
   ],
   "source": [
    "np.vstack([h.reshape((1, 3)),  h.reshape((1, 3)),  h.reshape((1, 3))])"
   ]
  },
  {
   "cell_type": "code",
   "execution_count": null,
   "metadata": {
    "colab": {
     "base_uri": "https://localhost:8080/"
    },
    "id": "W1NrgBE_02YM",
    "outputId": "aef7b228-25f4-4655-d8de-3866fb0afd60"
   },
   "outputs": [
    {
     "data": {
      "text/plain": [
       "array([[0, 1, 0],\n",
       "       [1, 2, 1],\n",
       "       [2, 3, 2]])"
      ]
     },
     "execution_count": 29,
     "metadata": {
      "tags": []
     },
     "output_type": "execute_result"
    }
   ],
   "source": [
    "m + h"
   ]
  },
  {
   "cell_type": "code",
   "execution_count": null,
   "metadata": {
    "id": "lyZBt4lC08Wd"
   },
   "outputs": [],
   "source": [
    "# Exemple 3"
   ]
  },
  {
   "cell_type": "code",
   "execution_count": null,
   "metadata": {
    "colab": {
     "base_uri": "https://localhost:8080/"
    },
    "id": "KsNrlAKq1bSB",
    "outputId": "8d1c5aed-192f-4005-fcb7-c0de946c8c16"
   },
   "outputs": [
    {
     "data": {
      "text/plain": [
       "array([[1., 1.],\n",
       "       [1., 1.],\n",
       "       [1., 1.]])"
      ]
     },
     "execution_count": 30,
     "metadata": {
      "tags": []
     },
     "output_type": "execute_result"
    }
   ],
   "source": [
    "m = np.ones((3, 2))\n",
    "m"
   ]
  },
  {
   "cell_type": "code",
   "execution_count": null,
   "metadata": {
    "colab": {
     "base_uri": "https://localhost:8080/"
    },
    "id": "5ywOZzuF1bcc",
    "outputId": "0053bbb2-aac2-4c42-f0df-2d5f1242d3e3"
   },
   "outputs": [
    {
     "data": {
      "text/plain": [
       "array([0, 1, 2])"
      ]
     },
     "execution_count": 31,
     "metadata": {
      "tags": []
     },
     "output_type": "execute_result"
    }
   ],
   "source": [
    "j = np.arange(3)\n",
    "j"
   ]
  },
  {
   "cell_type": "code",
   "execution_count": null,
   "metadata": {
    "id": "j6XX7_t_1bmY"
   },
   "outputs": [],
   "source": [
    "m.shape = (3, 2)\n",
    "j.shape = (3)"
   ]
  },
  {
   "cell_type": "code",
   "execution_count": null,
   "metadata": {
    "id": "A90PIf-j1xZa"
   },
   "outputs": [],
   "source": [
    "Règle 1\n",
    "m.shape = (3, 2)\n",
    "j.shape = (1, 3) # j.reshape((1, 3))"
   ]
  },
  {
   "cell_type": "code",
   "execution_count": null,
   "metadata": {
    "colab": {
     "base_uri": "https://localhost:8080/"
    },
    "id": "u9hFeECQ1xm3",
    "outputId": "26cb5bf0-63e5-464b-bc97-6dddde77c0db"
   },
   "outputs": [
    {
     "data": {
      "text/plain": [
       "array([[0, 1, 2],\n",
       "       [0, 1, 2],\n",
       "       [0, 1, 2]])"
      ]
     },
     "execution_count": 32,
     "metadata": {
      "tags": []
     },
     "output_type": "execute_result"
    }
   ],
   "source": [
    "np.vstack([j.reshape((1, 3)),  j.reshape((1, 3)),  j.reshape((1, 3))])"
   ]
  },
  {
   "cell_type": "code",
   "execution_count": null,
   "metadata": {
    "id": "1cV06rLn1x46"
   },
   "outputs": [],
   "source": [
    "Règle 2\n",
    "m.shape = (3, 2)\n",
    "j.shape = (3, 3)"
   ]
  },
  {
   "cell_type": "code",
   "execution_count": null,
   "metadata": {
    "colab": {
     "base_uri": "https://localhost:8080/",
     "height": 164
    },
    "id": "X4Ekjhmm1yFc",
    "outputId": "9cfee74f-922e-446e-d4e7-0c8f6fe38c65"
   },
   "outputs": [
    {
     "ename": "ValueError",
     "evalue": "ignored",
     "output_type": "error",
     "traceback": [
      "\u001b[0;31m---------------------------------------------------------------------------\u001b[0m",
      "\u001b[0;31mValueError\u001b[0m                                Traceback (most recent call last)",
      "\u001b[0;32m<ipython-input-33-59c7aac06f5e>\u001b[0m in \u001b[0;36m<module>\u001b[0;34m()\u001b[0m\n\u001b[0;32m----> 1\u001b[0;31m \u001b[0mm\u001b[0m \u001b[0;34m+\u001b[0m \u001b[0mj\u001b[0m\u001b[0;34m\u001b[0m\u001b[0;34m\u001b[0m\u001b[0m\n\u001b[0m",
      "\u001b[0;31mValueError\u001b[0m: operands could not be broadcast together with shapes (3,2) (3,) "
     ]
    }
   ],
   "source": [
    "m + j"
   ]
  },
  {
   "cell_type": "code",
   "execution_count": null,
   "metadata": {
    "colab": {
     "base_uri": "https://localhost:8080/"
    },
    "id": "-Rln7uU61yU6",
    "outputId": "909c6ca0-9f20-456b-d077-e5d61c7fa944"
   },
   "outputs": [
    {
     "data": {
      "text/plain": [
       "array([[1., 1.],\n",
       "       [1., 1.],\n",
       "       [1., 1.]])"
      ]
     },
     "execution_count": 34,
     "metadata": {
      "tags": []
     },
     "output_type": "execute_result"
    }
   ],
   "source": [
    "m"
   ]
  },
  {
   "cell_type": "code",
   "execution_count": null,
   "metadata": {
    "colab": {
     "base_uri": "https://localhost:8080/"
    },
    "id": "i_IbUwJ_2hLX",
    "outputId": "978327fa-92e8-45f8-d5ab-0bcaadd6ce22"
   },
   "outputs": [
    {
     "data": {
      "text/plain": [
       "array([0, 1, 2])"
      ]
     },
     "execution_count": 35,
     "metadata": {
      "tags": []
     },
     "output_type": "execute_result"
    }
   ],
   "source": [
    "j"
   ]
  },
  {
   "cell_type": "markdown",
   "metadata": {
    "id": "hlIFAzi42y1Z"
   },
   "source": [
    "> Règle 3 : Si après Règle 2 et 3, les shapes, ne sont pas les mêmes, alors calcul impossible"
   ]
  },
  {
   "cell_type": "code",
   "execution_count": null,
   "metadata": {
    "id": "3djnNFcR2iF8"
   },
   "outputs": [],
   "source": [
    "#utilité de brodcast "
   ]
  },
  {
   "cell_type": "code",
   "execution_count": null,
   "metadata": {
    "colab": {
     "base_uri": "https://localhost:8080/"
    },
    "id": "es3LUOzc3KCM",
    "outputId": "00acf43a-d733-45e9-9fd7-7addfca8aead"
   },
   "outputs": [
    {
     "data": {
      "text/plain": [
       "array([[173,  86, 245],\n",
       "       [245,  47,  23],\n",
       "       [ 22,  45,  31],\n",
       "       [ 17, 213, 149],\n",
       "       [168, 180, 117],\n",
       "       [215, 161,  60]])"
      ]
     },
     "execution_count": 40,
     "metadata": {
      "tags": []
     },
     "output_type": "execute_result"
    }
   ],
   "source": [
    "x = np.random.randint(255, size=(6, 3))\n",
    "x"
   ]
  },
  {
   "cell_type": "code",
   "execution_count": null,
   "metadata": {
    "colab": {
     "base_uri": "https://localhost:8080/"
    },
    "id": "I-a7CmBG3R2I",
    "outputId": "32bdb1ba-678b-4bea-ab05-0c993b88cdec"
   },
   "outputs": [
    {
     "data": {
      "text/plain": [
       "array([140.        , 122.        , 104.16666667])"
      ]
     },
     "execution_count": 42,
     "metadata": {
      "tags": []
     },
     "output_type": "execute_result"
    }
   ],
   "source": [
    "xmean = x.mean(axis=0)\n",
    "xmean"
   ]
  },
  {
   "cell_type": "code",
   "execution_count": null,
   "metadata": {
    "colab": {
     "base_uri": "https://localhost:8080/"
    },
    "id": "vb_b2ZYm40Wr",
    "outputId": "19716b75-8d11-45ea-ae0a-e3695479d87e"
   },
   "outputs": [
    {
     "data": {
      "text/plain": [
       "(6, 3)"
      ]
     },
     "execution_count": 43,
     "metadata": {
      "tags": []
     },
     "output_type": "execute_result"
    }
   ],
   "source": [
    "x.shape"
   ]
  },
  {
   "cell_type": "code",
   "execution_count": null,
   "metadata": {
    "colab": {
     "base_uri": "https://localhost:8080/"
    },
    "id": "AXSKUoDq42AT",
    "outputId": "99a867de-980a-4937-bb24-4bfdd3fb4d7a"
   },
   "outputs": [
    {
     "data": {
      "text/plain": [
       "(3,)"
      ]
     },
     "execution_count": 44,
     "metadata": {
      "tags": []
     },
     "output_type": "execute_result"
    }
   ],
   "source": [
    "xmean.shape"
   ]
  },
  {
   "cell_type": "code",
   "execution_count": null,
   "metadata": {
    "colab": {
     "base_uri": "https://localhost:8080/"
    },
    "id": "xP3zJNEV5DFZ",
    "outputId": "323603d5-f8bb-48d0-a382-a72ce2013d43"
   },
   "outputs": [
    {
     "data": {
      "text/plain": [
       "array([89.04680417, 65.84831053, 77.35290701])"
      ]
     },
     "execution_count": 46,
     "metadata": {
      "tags": []
     },
     "output_type": "execute_result"
    }
   ],
   "source": [
    "xstd = x.std(axis=0)\n",
    "xstd"
   ]
  },
  {
   "cell_type": "code",
   "execution_count": null,
   "metadata": {
    "colab": {
     "base_uri": "https://localhost:8080/"
    },
    "id": "mcfY9Cjf4noH",
    "outputId": "bb5ac43d-84d7-4831-9717-2efaa9e62bd6"
   },
   "outputs": [
    {
     "data": {
      "text/plain": [
       "array([[ 0.37059163, -0.54671107,  1.82065987],\n",
       "       [ 1.17915518, -1.13898139, -1.04930338],\n",
       "       [-1.32514582, -1.16935422, -0.94588128],\n",
       "       [-1.38129606,  1.38196408,  0.57959468],\n",
       "       [ 0.31444138,  0.88081227,  0.16590628],\n",
       "       [ 0.8422537 ,  0.59227032, -0.57097617]])"
      ]
     },
     "execution_count": 49,
     "metadata": {
      "tags": []
     },
     "output_type": "execute_result"
    }
   ],
   "source": [
    "x_centre_et_reduit = (x - xmean) / xstd\n",
    "x_centre_et_reduit"
   ]
  },
  {
   "cell_type": "code",
   "execution_count": null,
   "metadata": {
    "id": "ZOC43M8054E4"
   },
   "outputs": [],
   "source": []
  },
  {
   "cell_type": "code",
   "execution_count": null,
   "metadata": {
    "id": "e6sZz0WZ6by0"
   },
   "outputs": [],
   "source": []
  },
  {
   "cell_type": "code",
   "execution_count": null,
   "metadata": {
    "id": "4Lf-v0SC6b4c"
   },
   "outputs": [],
   "source": []
  },
  {
   "cell_type": "code",
   "execution_count": null,
   "metadata": {
    "colab": {
     "base_uri": "https://localhost:8080/"
    },
    "id": "15FvCVg96b9A",
    "outputId": "aa4a4411-3cd2-40d4-ab31-3087de97d538"
   },
   "outputs": [
    {
     "data": {
      "text/plain": [
       "array([[11,  2, 10],\n",
       "       [10,  2,  5],\n",
       "       [ 3,  3,  1],\n",
       "       [ 2,  9,  9],\n",
       "       [ 5,  7, 11]])"
      ]
     },
     "execution_count": 55,
     "metadata": {
      "tags": []
     },
     "output_type": "execute_result"
    }
   ],
   "source": [
    "x = np.random.randint(15, size=(5, 3))\n",
    "x"
   ]
  },
  {
   "cell_type": "markdown",
   "metadata": {
    "id": "hZ49pHk48BXW"
   },
   "source": [
    "Le nombre de notes supérieur 7"
   ]
  },
  {
   "cell_type": "code",
   "execution_count": null,
   "metadata": {
    "id": "CNR28YwA8Abz"
   },
   "outputs": [],
   "source": []
  },
  {
   "cell_type": "code",
   "execution_count": null,
   "metadata": {
    "colab": {
     "base_uri": "https://localhost:8080/"
    },
    "id": "_DAvDpRa6cBr",
    "outputId": "6c8dd692-82c1-4398-e746-eff4518dc4a4"
   },
   "outputs": [
    {
     "data": {
      "text/plain": [
       "array([[ True, False,  True],\n",
       "       [ True, False, False],\n",
       "       [False, False, False],\n",
       "       [False,  True,  True],\n",
       "       [False,  True,  True]])"
      ]
     },
     "execution_count": 56,
     "metadata": {
      "tags": []
     },
     "output_type": "execute_result"
    }
   ],
   "source": [
    "x > 5"
   ]
  },
  {
   "cell_type": "code",
   "execution_count": null,
   "metadata": {
    "colab": {
     "base_uri": "https://localhost:8080/"
    },
    "id": "bGU-M6e06cFo",
    "outputId": "7b60cc70-70c7-49e0-d02b-a0a242af511a"
   },
   "outputs": [
    {
     "data": {
      "text/plain": [
       "7"
      ]
     },
     "execution_count": 60,
     "metadata": {
      "tags": []
     },
     "output_type": "execute_result"
    }
   ],
   "source": [
    "np.sum(x>5)"
   ]
  },
  {
   "cell_type": "code",
   "execution_count": null,
   "metadata": {
    "colab": {
     "base_uri": "https://localhost:8080/"
    },
    "id": "mGuTcGTm6cKG",
    "outputId": "3c54c2ee-03e2-414c-b810-eabeb7ef5e08"
   },
   "outputs": [
    {
     "data": {
      "text/plain": [
       "7"
      ]
     },
     "execution_count": 58,
     "metadata": {
      "tags": []
     },
     "output_type": "execute_result"
    }
   ],
   "source": [
    "np.count_nonzero(x>5)"
   ]
  },
  {
   "cell_type": "markdown",
   "metadata": {
    "id": "zOWYu1au8HK9"
   },
   "source": [
    "Le nombre des notes supérieur à  8 pour chaque élève ?"
   ]
  },
  {
   "cell_type": "code",
   "execution_count": null,
   "metadata": {
    "colab": {
     "base_uri": "https://localhost:8080/"
    },
    "id": "NU9lvStO6cOD",
    "outputId": "84e8754e-3567-4d7f-f0f8-3157b335715e"
   },
   "outputs": [
    {
     "data": {
      "text/plain": [
       "array([[11,  2, 10],\n",
       "       [10,  2,  5],\n",
       "       [ 3,  3,  1],\n",
       "       [ 2,  9,  9],\n",
       "       [ 5,  7, 11]])"
      ]
     },
     "execution_count": 61,
     "metadata": {
      "tags": []
     },
     "output_type": "execute_result"
    }
   ],
   "source": [
    "x"
   ]
  },
  {
   "cell_type": "code",
   "execution_count": null,
   "metadata": {
    "colab": {
     "base_uri": "https://localhost:8080/"
    },
    "id": "L5e0x0_w8PzI",
    "outputId": "d9fa0bc7-4247-424b-cb34-aa2c5d06a996"
   },
   "outputs": [
    {
     "data": {
      "text/plain": [
       "array([2, 1, 0, 2, 1])"
      ]
     },
     "execution_count": 63,
     "metadata": {
      "tags": []
     },
     "output_type": "execute_result"
    }
   ],
   "source": [
    "y = np.sum(x > 8, axis=1)\n",
    "y"
   ]
  },
  {
   "cell_type": "markdown",
   "metadata": {
    "id": "eT5rfugx8Z4F"
   },
   "source": [
    "Le nombre d'élèves ayant au moins 2 notes supérieures à 8 ?\n",
    "\n"
   ]
  },
  {
   "cell_type": "code",
   "execution_count": null,
   "metadata": {
    "colab": {
     "base_uri": "https://localhost:8080/"
    },
    "id": "TuMDo5T28UY8",
    "outputId": "5269670b-122b-4c6c-d9b3-d0b02fa40393"
   },
   "outputs": [
    {
     "data": {
      "text/plain": [
       "array([ True, False, False,  True, False])"
      ]
     },
     "execution_count": 65,
     "metadata": {
      "tags": []
     },
     "output_type": "execute_result"
    }
   ],
   "source": [
    "y >= 2"
   ]
  },
  {
   "cell_type": "code",
   "execution_count": null,
   "metadata": {
    "colab": {
     "base_uri": "https://localhost:8080/"
    },
    "id": "03uPZ_Sc89T6",
    "outputId": "ce022bfd-8321-4f6e-e8b8-ea74f3a8fde5"
   },
   "outputs": [
    {
     "data": {
      "text/plain": [
       "2"
      ]
     },
     "execution_count": 66,
     "metadata": {
      "tags": []
     },
     "output_type": "execute_result"
    }
   ],
   "source": [
    "np.sum(y >= 2)"
   ]
  },
  {
   "cell_type": "markdown",
   "metadata": {
    "id": "WTtoSVFu9daU"
   },
   "source": [
    "Est-ce que tous les élèves ont une note supérieur à 3 ?"
   ]
  },
  {
   "cell_type": "code",
   "execution_count": null,
   "metadata": {
    "colab": {
     "base_uri": "https://localhost:8080/"
    },
    "id": "Ebk4WFv79mbC",
    "outputId": "decdb538-b800-473e-8c15-b41312b565a9"
   },
   "outputs": [
    {
     "data": {
      "text/plain": [
       "array([[ True, False,  True],\n",
       "       [ True, False,  True],\n",
       "       [False, False, False],\n",
       "       [False,  True,  True],\n",
       "       [ True,  True,  True]])"
      ]
     },
     "execution_count": 67,
     "metadata": {
      "tags": []
     },
     "output_type": "execute_result"
    }
   ],
   "source": [
    "x > 3"
   ]
  },
  {
   "cell_type": "code",
   "execution_count": null,
   "metadata": {
    "colab": {
     "base_uri": "https://localhost:8080/"
    },
    "id": "e2CDYZcQ9NJd",
    "outputId": "c86a5235-a339-4093-e114-629c42eb6712"
   },
   "outputs": [
    {
     "data": {
      "text/plain": [
       "False"
      ]
     },
     "execution_count": 68,
     "metadata": {
      "tags": []
     },
     "output_type": "execute_result"
    }
   ],
   "source": [
    "np.all( x > 3)"
   ]
  },
  {
   "cell_type": "code",
   "execution_count": null,
   "metadata": {
    "colab": {
     "base_uri": "https://localhost:8080/"
    },
    "id": "GHhxNF029qvj",
    "outputId": "956cc753-249a-4160-f979-50e733afd61d"
   },
   "outputs": [
    {
     "data": {
      "text/plain": [
       "True"
      ]
     },
     "execution_count": 69,
     "metadata": {
      "tags": []
     },
     "output_type": "execute_result"
    }
   ],
   "source": [
    "np.all( x > 0)"
   ]
  },
  {
   "cell_type": "markdown",
   "metadata": {
    "id": "WNZV98Jm9yGz"
   },
   "source": [
    "Est-ce qu'il y a un élève dont la note est supérieur à 12"
   ]
  },
  {
   "cell_type": "code",
   "execution_count": null,
   "metadata": {
    "colab": {
     "base_uri": "https://localhost:8080/"
    },
    "id": "LmH9fmmv9wQk",
    "outputId": "3ed1834b-4503-4a8d-8fa2-8020cdd4e675"
   },
   "outputs": [
    {
     "data": {
      "text/plain": [
       "array([[False, False, False],\n",
       "       [False, False, False],\n",
       "       [False, False, False],\n",
       "       [False, False, False],\n",
       "       [False, False, False]])"
      ]
     },
     "execution_count": 70,
     "metadata": {
      "tags": []
     },
     "output_type": "execute_result"
    }
   ],
   "source": [
    " x > 12"
   ]
  },
  {
   "cell_type": "code",
   "execution_count": null,
   "metadata": {
    "colab": {
     "base_uri": "https://localhost:8080/"
    },
    "id": "uxBJyWN-96hx",
    "outputId": "5bb51222-0ec9-4fdc-d333-cbd9f829e44b"
   },
   "outputs": [
    {
     "data": {
      "text/plain": [
       "False"
      ]
     },
     "execution_count": 71,
     "metadata": {
      "tags": []
     },
     "output_type": "execute_result"
    }
   ],
   "source": [
    "np.any(x > 12)"
   ]
  },
  {
   "cell_type": "code",
   "execution_count": null,
   "metadata": {
    "colab": {
     "base_uri": "https://localhost:8080/"
    },
    "id": "iuTWExQO-DRE",
    "outputId": "1c1c1da9-c428-46c1-e6e4-4e3c18ba9757"
   },
   "outputs": [
    {
     "data": {
      "text/plain": [
       "True"
      ]
     },
     "execution_count": 72,
     "metadata": {
      "tags": []
     },
     "output_type": "execute_result"
    }
   ],
   "source": [
    "np.any(x > 10)"
   ]
  },
  {
   "cell_type": "code",
   "execution_count": null,
   "metadata": {
    "colab": {
     "base_uri": "https://localhost:8080/"
    },
    "id": "MKoIjzjM-GsM",
    "outputId": "e8acf928-e788-4134-97ed-374078cd6562"
   },
   "outputs": [
    {
     "data": {
      "text/plain": [
       "array([[11,  2, 10],\n",
       "       [10,  2,  5],\n",
       "       [ 3,  3,  1],\n",
       "       [ 2,  9,  9],\n",
       "       [ 5,  7, 11]])"
      ]
     },
     "execution_count": 73,
     "metadata": {
      "tags": []
     },
     "output_type": "execute_result"
    }
   ],
   "source": [
    "x # Math, Physique, SVT"
   ]
  },
  {
   "cell_type": "markdown",
   "metadata": {
    "id": "-nqcX9RM-QLi"
   },
   "source": [
    "Quelle est la moyenne en Math et Physique de la classe si on considère uniquement les  3 élèves dont les notes apparaissent en premier ?"
   ]
  },
  {
   "cell_type": "code",
   "execution_count": null,
   "metadata": {
    "colab": {
     "base_uri": "https://localhost:8080/"
    },
    "id": "64n3tmk1_jfF",
    "outputId": "6471def1-c0cb-43d9-ff5a-b43c688d7517"
   },
   "outputs": [
    {
     "data": {
      "text/plain": [
       "array([8.        , 2.33333333])"
      ]
     },
     "execution_count": 74,
     "metadata": {
      "tags": []
     },
     "output_type": "execute_result"
    }
   ],
   "source": [
    "np.mean(x[0:3, 0:2 ], axis=0)"
   ]
  },
  {
   "cell_type": "code",
   "execution_count": null,
   "metadata": {
    "colab": {
     "base_uri": "https://localhost:8080/"
    },
    "id": "ZwlY6mRo-OzO",
    "outputId": "4eb81d52-decb-472d-e91e-5db412031d37"
   },
   "outputs": [
    {
     "data": {
      "text/plain": [
       "array([[11,  2, 10],\n",
       "       [10,  2,  5],\n",
       "       [ 3,  3,  1],\n",
       "       [ 2,  9,  9],\n",
       "       [ 5,  7, 11]])"
      ]
     },
     "execution_count": 75,
     "metadata": {
      "tags": []
     },
     "output_type": "execute_result"
    }
   ],
   "source": [
    "x # Math, Physique, SVT"
   ]
  },
  {
   "cell_type": "markdown",
   "metadata": {
    "id": "VRP_6pAj-mL7"
   },
   "source": [
    "Combien d'élèves ont au moins 2 notes supérieurs à la médiane des  moyennes (élèves) de la classe ?"
   ]
  },
  {
   "cell_type": "code",
   "execution_count": null,
   "metadata": {
    "colab": {
     "base_uri": "https://localhost:8080/"
    },
    "id": "gkNL1n_GBlRd",
    "outputId": "2a96e536-8135-4d8c-a2e5-4fb79ad902e4"
   },
   "outputs": [
    {
     "data": {
      "text/plain": [
       "array([7.66666667, 5.66666667, 2.33333333, 6.66666667, 7.66666667])"
      ]
     },
     "execution_count": 77,
     "metadata": {
      "tags": []
     },
     "output_type": "execute_result"
    }
   ],
   "source": [
    "y = np.mean(x, axis=1)\n",
    "y"
   ]
  },
  {
   "cell_type": "code",
   "execution_count": null,
   "metadata": {
    "colab": {
     "base_uri": "https://localhost:8080/"
    },
    "id": "tmtJctZJ-j4K",
    "outputId": "b1551346-ec3c-45c9-8df2-cc93e3cd4a24"
   },
   "outputs": [
    {
     "data": {
      "text/plain": [
       "6.666666666666667"
      ]
     },
     "execution_count": 78,
     "metadata": {
      "tags": []
     },
     "output_type": "execute_result"
    }
   ],
   "source": [
    "mediane = np.median(y)\n",
    "mediane"
   ]
  },
  {
   "cell_type": "code",
   "execution_count": null,
   "metadata": {
    "colab": {
     "base_uri": "https://localhost:8080/"
    },
    "id": "NSoDk5djC3J-",
    "outputId": "028ba677-e62f-4c15-c017-4cfe1fa97375"
   },
   "outputs": [
    {
     "data": {
      "text/plain": [
       "array([[ True, False,  True],\n",
       "       [ True, False, False],\n",
       "       [False, False, False],\n",
       "       [False,  True,  True],\n",
       "       [False,  True,  True]])"
      ]
     },
     "execution_count": 80,
     "metadata": {
      "tags": []
     },
     "output_type": "execute_result"
    }
   ],
   "source": [
    "x > mediane"
   ]
  },
  {
   "cell_type": "code",
   "execution_count": null,
   "metadata": {
    "colab": {
     "base_uri": "https://localhost:8080/"
    },
    "id": "w7VMgbCr-kFY",
    "outputId": "0c5a7863-584e-4057-b023-3abffc55b699"
   },
   "outputs": [
    {
     "data": {
      "text/plain": [
       "array([2, 1, 0, 2, 2])"
      ]
     },
     "execution_count": 82,
     "metadata": {
      "tags": []
     },
     "output_type": "execute_result"
    }
   ],
   "source": [
    "n = np.sum(x > mediane, axis = 1)\n",
    "n"
   ]
  },
  {
   "cell_type": "code",
   "execution_count": null,
   "metadata": {
    "colab": {
     "base_uri": "https://localhost:8080/"
    },
    "id": "Ok53Y4ULCdYT",
    "outputId": "e7f1f2da-5b8f-436c-9a47-f5a02735c6dd"
   },
   "outputs": [
    {
     "data": {
      "text/plain": [
       "3"
      ]
     },
     "execution_count": 83,
     "metadata": {
      "tags": []
     },
     "output_type": "execute_result"
    }
   ],
   "source": [
    "np.sum(n >= 2)"
   ]
  },
  {
   "cell_type": "markdown",
   "metadata": {
    "id": "DTHjflgyEKbL"
   },
   "source": [
    "* Creer un tableau aléatoire de shape (3, 5)\n",
    "* Modifier le shape à (5, 3)\n",
    "* Est-ce que c'est possible de modifier le shape à (4, 5)\n",
    "Creer un tableau qui contient les valeurs de 1 à 9 avec np.arange et donner lui un shape de (3, 3)\n",
    "* Faites la somme des 2 tableaux\n",
    "* Choisi un sous tableau aléatoire et extrait le\n"
   ]
  },
  {
   "cell_type": "code",
   "execution_count": 15,
   "metadata": {
    "id": "hlFsuNwuDyyW"
   },
   "outputs": [],
   "source": [
    "# Fancy Indexing"
   ]
  },
  {
   "cell_type": "code",
   "execution_count": 1,
   "metadata": {
    "id": "ecjOWFoc4hEJ"
   },
   "outputs": [],
   "source": [
    "import numpy as np"
   ]
  },
  {
   "cell_type": "code",
   "execution_count": 3,
   "metadata": {
    "colab": {
     "base_uri": "https://localhost:8080/"
    },
    "id": "1rUfA_o94hSe",
    "outputId": "525e6dde-d3e2-4f1e-a999-0940b37ee834"
   },
   "outputs": [
    {
     "data": {
      "text/plain": [
       "array([[45, 66, 61],\n",
       "       [13,  1, 57],\n",
       "       [76, 36, 24],\n",
       "       [27, 59, 66],\n",
       "       [34,  0, 59],\n",
       "       [70, 79, 77]])"
      ]
     },
     "execution_count": 3,
     "metadata": {
      "tags": []
     },
     "output_type": "execute_result"
    }
   ],
   "source": [
    "data = np.random.randint(100, size=(6, 3))\n",
    "data"
   ]
  },
  {
   "cell_type": "code",
   "execution_count": 4,
   "metadata": {
    "colab": {
     "base_uri": "https://localhost:8080/"
    },
    "id": "baMgRKmX4hVp",
    "outputId": "e32d30be-e6cf-4891-b679-a34433236740"
   },
   "outputs": [
    {
     "data": {
      "text/plain": [
       "array([35, 90, 64,  9, 64])"
      ]
     },
     "execution_count": 4,
     "metadata": {
      "tags": []
     },
     "output_type": "execute_result"
    }
   ],
   "source": [
    "x = np.random.randint(100, size=(5))\n",
    "x"
   ]
  },
  {
   "cell_type": "code",
   "execution_count": 6,
   "metadata": {
    "colab": {
     "base_uri": "https://localhost:8080/"
    },
    "id": "cBZOOXGc6L58",
    "outputId": "44799fd2-cb42-4087-fc25-f58639f8db14"
   },
   "outputs": [
    {
     "data": {
      "text/plain": [
       "(array([35, 90]), array([64,  9]))"
      ]
     },
     "execution_count": 6,
     "metadata": {
      "tags": []
     },
     "output_type": "execute_result"
    }
   ],
   "source": [
    "x[:2], x[2:4]"
   ]
  },
  {
   "cell_type": "code",
   "execution_count": 7,
   "metadata": {
    "colab": {
     "base_uri": "https://localhost:8080/"
    },
    "id": "G_8uybt56XJj",
    "outputId": "f3448d3d-717c-4c48-e0d1-25b4e4a6587a"
   },
   "outputs": [
    {
     "data": {
      "text/plain": [
       "array([90,  9])"
      ]
     },
     "execution_count": 7,
     "metadata": {
      "tags": []
     },
     "output_type": "execute_result"
    }
   ],
   "source": [
    "x[1:4:2]"
   ]
  },
  {
   "cell_type": "code",
   "execution_count": 9,
   "metadata": {
    "colab": {
     "base_uri": "https://localhost:8080/"
    },
    "id": "Xkg0rF396xI7",
    "outputId": "a6f334f9-ff55-4b7c-caf1-09b8a6069aa3"
   },
   "outputs": [
    {
     "data": {
      "text/plain": [
       "array([35, 90, 64])"
      ]
     },
     "execution_count": 9,
     "metadata": {
      "tags": []
     },
     "output_type": "execute_result"
    }
   ],
   "source": [
    "x[[0,1,-1] ]"
   ]
  },
  {
   "cell_type": "code",
   "execution_count": 10,
   "metadata": {
    "colab": {
     "base_uri": "https://localhost:8080/"
    },
    "id": "1zt6k8Us7BCh",
    "outputId": "15c81e74-f59e-4845-b083-56e120e4cdca"
   },
   "outputs": [
    {
     "data": {
      "text/plain": [
       "array([[45, 66, 61],\n",
       "       [13,  1, 57],\n",
       "       [76, 36, 24],\n",
       "       [27, 59, 66],\n",
       "       [34,  0, 59],\n",
       "       [70, 79, 77]])"
      ]
     },
     "execution_count": 10,
     "metadata": {
      "tags": []
     },
     "output_type": "execute_result"
    }
   ],
   "source": [
    "data"
   ]
  },
  {
   "cell_type": "code",
   "execution_count": null,
   "metadata": {
    "id": "Arzs6Xvs8Nvh"
   },
   "outputs": [],
   "source": [
    "data[:, [0, 2],  ]"
   ]
  },
  {
   "cell_type": "code",
   "execution_count": 13,
   "metadata": {
    "colab": {
     "base_uri": "https://localhost:8080/"
    },
    "id": "JeZf3Cib7Idr",
    "outputId": "fc7ff324-25e0-4028-d74a-5fd2ab4a774b"
   },
   "outputs": [
    {
     "data": {
      "text/plain": [
       "array([[61, 45],\n",
       "       [57, 13],\n",
       "       [24, 76],\n",
       "       [66, 27],\n",
       "       [59, 34],\n",
       "       [77, 70]])"
      ]
     },
     "execution_count": 13,
     "metadata": {
      "tags": []
     },
     "output_type": "execute_result"
    }
   ],
   "source": [
    "data[:, [2,0]]"
   ]
  },
  {
   "cell_type": "code",
   "execution_count": 14,
   "metadata": {
    "colab": {
     "base_uri": "https://localhost:8080/"
    },
    "id": "s7ZlYR7M7OzO",
    "outputId": "08847d2f-670d-43ac-d999-295e1e927f55"
   },
   "outputs": [
    {
     "data": {
      "text/plain": [
       "array([[76, 36, 24],\n",
       "       [13,  1, 57],\n",
       "       [34,  0, 59]])"
      ]
     },
     "execution_count": 14,
     "metadata": {
      "tags": []
     },
     "output_type": "execute_result"
    }
   ],
   "source": [
    "data[[2,1, 4] , :]"
   ]
  },
  {
   "cell_type": "code",
   "execution_count": null,
   "metadata": {
    "id": "ix7xjPdx9Xit"
   },
   "outputs": [],
   "source": []
  },
  {
   "cell_type": "code",
   "execution_count": 38,
   "metadata": {
    "id": "9WCtTCgT-Hjo"
   },
   "outputs": [],
   "source": [
    "date = \"ressasser\""
   ]
  },
  {
   "cell_type": "code",
   "execution_count": 39,
   "metadata": {
    "colab": {
     "base_uri": "https://localhost:8080/",
     "height": 35
    },
    "id": "7AI9KHWb-Ljh",
    "outputId": "085ab940-9ed5-4f16-fe54-ccbad21ae4bc"
   },
   "outputs": [
    {
     "data": {
      "application/vnd.google.colaboratory.intrinsic+json": {
       "type": "string"
      },
      "text/plain": [
       "'ressasser'"
      ]
     },
     "execution_count": 39,
     "metadata": {
      "tags": []
     },
     "output_type": "execute_result"
    }
   ],
   "source": [
    "date[ : : -1]\n"
   ]
  },
  {
   "cell_type": "code",
   "execution_count": 40,
   "metadata": {
    "colab": {
     "base_uri": "https://localhost:8080/"
    },
    "id": "p9PJ3PxT-fyN",
    "outputId": "82e8034c-f477-45ed-c37b-408627a90053"
   },
   "outputs": [
    {
     "data": {
      "text/plain": [
       "True"
      ]
     },
     "execution_count": 40,
     "metadata": {
      "tags": []
     },
     "output_type": "execute_result"
    }
   ],
   "source": [
    "date == date[::-1]"
   ]
  },
  {
   "cell_type": "code",
   "execution_count": null,
   "metadata": {
    "id": "pPvxebcV_w-W"
   },
   "outputs": [],
   "source": []
  }
 ],
 "metadata": {
  "colab": {
   "collapsed_sections": [
    "jHnNEfzTZQQd",
    "1jocM6VVZQQd",
    "oOTfgCv0ZQQe",
    "xeWqnye8ZQQe",
    "aIRn0XoSZQQf",
    "Xc_avV_HZQQf",
    "6IPwr1n3ZQQg",
    "vj9wz2TyZQQg"
   ],
   "name": "02_Introduction_au_calcul_numerique_avec_Python.ipynb",
   "provenance": [],
   "toc_visible": true
  },
  "kernelspec": {
   "display_name": "Python 3",
   "language": "python",
   "name": "python3"
  },
  "language_info": {
   "codemirror_mode": {
    "name": "ipython",
    "version": 3
   },
   "file_extension": ".py",
   "mimetype": "text/x-python",
   "name": "python",
   "nbconvert_exporter": "python",
   "pygments_lexer": "ipython3",
   "version": "3.7.6"
  },
  "toc": {
   "base_numbering": 1,
   "nav_menu": {},
   "number_sections": true,
   "sideBar": true,
   "skip_h1_title": false,
   "title_cell": "Table of Contents",
   "title_sidebar": "Contents",
   "toc_cell": false,
   "toc_position": {},
   "toc_section_display": true,
   "toc_window_display": true
  },
  "varInspector": {
   "cols": {
    "lenName": 16,
    "lenType": 16,
    "lenVar": 40
   },
   "kernels_config": {
    "python": {
     "delete_cmd_postfix": "",
     "delete_cmd_prefix": "del ",
     "library": "var_list.py",
     "varRefreshCmd": "print(var_dic_list())"
    },
    "r": {
     "delete_cmd_postfix": ") ",
     "delete_cmd_prefix": "rm(",
     "library": "var_list.r",
     "varRefreshCmd": "cat(var_dic_list()) "
    }
   },
   "types_to_exclude": [
    "module",
    "function",
    "builtin_function_or_method",
    "instance",
    "_Feature"
   ],
   "window_display": false
  }
 },
 "nbformat": 4,
 "nbformat_minor": 1
}
