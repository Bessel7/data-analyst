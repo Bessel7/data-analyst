{
  "nbformat": 4,
  "nbformat_minor": 0,
  "metadata": {
    "colab": {
      "name": "02_Introduction_au_calcul_numerique_avec_Python.ipynb",
      "provenance": [],
      "collapsed_sections": [
        "jHnNEfzTZQQd",
        "1jocM6VVZQQd",
        "oOTfgCv0ZQQe",
        "xeWqnye8ZQQe",
        "aIRn0XoSZQQf",
        "Xc_avV_HZQQf",
        "6IPwr1n3ZQQg",
        "vj9wz2TyZQQg"
      ],
      "toc_visible": true
    },
    "kernelspec": {
      "display_name": "Python 3",
      "language": "python",
      "name": "python3"
    },
    "language_info": {
      "codemirror_mode": {
        "name": "ipython",
        "version": 3
      },
      "file_extension": ".py",
      "mimetype": "text/x-python",
      "name": "python",
      "nbconvert_exporter": "python",
      "pygments_lexer": "ipython3",
      "version": "3.8.5"
    },
    "toc": {
      "base_numbering": 1,
      "nav_menu": {},
      "number_sections": true,
      "sideBar": true,
      "skip_h1_title": false,
      "title_cell": "Table of Contents",
      "title_sidebar": "Contents",
      "toc_cell": false,
      "toc_position": {},
      "toc_section_display": true,
      "toc_window_display": true
    },
    "varInspector": {
      "cols": {
        "lenName": 16,
        "lenType": 16,
        "lenVar": 40
      },
      "kernels_config": {
        "python": {
          "delete_cmd_postfix": "",
          "delete_cmd_prefix": "del ",
          "library": "var_list.py",
          "varRefreshCmd": "print(var_dic_list())"
        },
        "r": {
          "delete_cmd_postfix": ") ",
          "delete_cmd_prefix": "rm(",
          "library": "var_list.r",
          "varRefreshCmd": "cat(var_dic_list()) "
        }
      },
      "types_to_exclude": [
        "module",
        "function",
        "builtin_function_or_method",
        "instance",
        "_Feature"
      ],
      "window_display": false
    }
  },
  "cells": [
    {
      "cell_type": "code",
      "metadata": {
        "id": "34H8dRQM0AAe"
      },
      "source": [
        ""
      ],
      "execution_count": null,
      "outputs": []
    },
    {
      "cell_type": "code",
      "metadata": {
        "id": "TcCEOf39ZQQW"
      },
      "source": [
        "import numpy as np"
      ],
      "execution_count": null,
      "outputs": []
    },
    {
      "cell_type": "markdown",
      "metadata": {
        "id": "oiBpaofSZQQb"
      },
      "source": [
        "# Tableaux Numpy : Les bases"
      ]
    },
    {
      "cell_type": "markdown",
      "metadata": {
        "id": "2dgNhwykZQQc"
      },
      "source": [
        "## Comment créer un Tableau Numpy"
      ]
    },
    {
      "cell_type": "code",
      "metadata": {
        "id": "pOaPQhDjm8Ij"
      },
      "source": [
        "[1, 5, 8]"
      ],
      "execution_count": null,
      "outputs": []
    },
    {
      "cell_type": "code",
      "metadata": {
        "id": "pv7qxCUMdLwT"
      },
      "source": [
        "[  3 , 2, 5\n",
        "   1 , 7, 9\n",
        "   5 , 9, 6\n",
        " \n",
        "]"
      ],
      "execution_count": null,
      "outputs": []
    },
    {
      "cell_type": "code",
      "metadata": {
        "colab": {
          "base_uri": "https://localhost:8080/"
        },
        "id": "1vZqVJwOehRY",
        "outputId": "1f60c9c3-402a-4555-a912-8fadc74ef63e"
      },
      "source": [
        "np.array([])"
      ],
      "execution_count": null,
      "outputs": [
        {
          "output_type": "execute_result",
          "data": {
            "text/plain": [
              "array([], dtype=float64)"
            ]
          },
          "metadata": {
            "tags": []
          },
          "execution_count": 3
        }
      ]
    },
    {
      "cell_type": "code",
      "metadata": {
        "id": "ehm3FvcDiOHf"
      },
      "source": [
        "data_un = np.array([[8,9,6]])"
      ],
      "execution_count": null,
      "outputs": []
    },
    {
      "cell_type": "code",
      "metadata": {
        "id": "31W5te5KdLpB"
      },
      "source": [
        "data_deux = np.array([\n",
        "          [3 , 2, 5],\n",
        "          [1 , 7, 9],\n",
        "          [5 , 9, 6]\n",
        "          ])"
      ],
      "execution_count": null,
      "outputs": []
    },
    {
      "cell_type": "code",
      "metadata": {
        "colab": {
          "base_uri": "https://localhost:8080/"
        },
        "id": "wjpUqDM-dLjL",
        "outputId": "0c84791b-bfd6-41c3-ef17-c0336b3583ee"
      },
      "source": [
        "data_deux"
      ],
      "execution_count": null,
      "outputs": [
        {
          "output_type": "execute_result",
          "data": {
            "text/plain": [
              "array([[3, 2, 5],\n",
              "       [1, 7, 9],\n",
              "       [5, 9, 6]])"
            ]
          },
          "metadata": {
            "tags": []
          },
          "execution_count": 10
        }
      ]
    },
    {
      "cell_type": "code",
      "metadata": {
        "id": "eDvqVBlgdLfP"
      },
      "source": [
        "data = np.array([[1,4,5]])"
      ],
      "execution_count": null,
      "outputs": []
    },
    {
      "cell_type": "code",
      "metadata": {
        "colab": {
          "base_uri": "https://localhost:8080/"
        },
        "id": "EKsALK3JdLbe",
        "outputId": "d94b90e1-2b51-452e-8793-bfc11cf76b3e"
      },
      "source": [
        "data"
      ],
      "execution_count": null,
      "outputs": [
        {
          "output_type": "execute_result",
          "data": {
            "text/plain": [
              "array([[1, 4, 5]])"
            ]
          },
          "metadata": {
            "tags": []
          },
          "execution_count": 8
        }
      ]
    },
    {
      "cell_type": "markdown",
      "metadata": {
        "id": "tjysvm09ZQQd"
      },
      "source": [
        "## Les attributs d'un tableau numpy"
      ]
    },
    {
      "cell_type": "code",
      "metadata": {
        "colab": {
          "base_uri": "https://localhost:8080/"
        },
        "id": "Kn8cx0IQdLXx",
        "outputId": "1148db8b-fc2d-43de-89a4-3ee3a7af08d2"
      },
      "source": [
        "data.dtype"
      ],
      "execution_count": null,
      "outputs": [
        {
          "output_type": "execute_result",
          "data": {
            "text/plain": [
              "dtype('int64')"
            ]
          },
          "metadata": {
            "tags": []
          },
          "execution_count": 11
        }
      ]
    },
    {
      "cell_type": "code",
      "metadata": {
        "colab": {
          "base_uri": "https://localhost:8080/"
        },
        "id": "bLml_5hodLUe",
        "outputId": "f5f9d23b-8058-40d1-8900-2f85efad6a9f"
      },
      "source": [
        "data_deux.dtype"
      ],
      "execution_count": null,
      "outputs": [
        {
          "output_type": "execute_result",
          "data": {
            "text/plain": [
              "dtype('int64')"
            ]
          },
          "metadata": {
            "tags": []
          },
          "execution_count": 12
        }
      ]
    },
    {
      "cell_type": "code",
      "metadata": {
        "colab": {
          "base_uri": "https://localhost:8080/"
        },
        "id": "rdiOQfD7dLQm",
        "outputId": "12bbea0f-2f93-473e-8625-d1021f5c4858"
      },
      "source": [
        "np.array([['python', 1]])"
      ],
      "execution_count": null,
      "outputs": [
        {
          "output_type": "execute_result",
          "data": {
            "text/plain": [
              "array([['python', '1']], dtype='<U6')"
            ]
          },
          "metadata": {
            "tags": []
          },
          "execution_count": 13
        }
      ]
    },
    {
      "cell_type": "code",
      "metadata": {
        "colab": {
          "base_uri": "https://localhost:8080/"
        },
        "id": "gz59n3jWdLM9",
        "outputId": "a41bf7fe-dad0-4f64-f41c-27610aba0441"
      },
      "source": [
        "np.array([[1, 5.2]])"
      ],
      "execution_count": null,
      "outputs": [
        {
          "output_type": "execute_result",
          "data": {
            "text/plain": [
              "array([[1. , 5.2]])"
            ]
          },
          "metadata": {
            "tags": []
          },
          "execution_count": 14
        }
      ]
    },
    {
      "cell_type": "code",
      "metadata": {
        "colab": {
          "base_uri": "https://localhost:8080/"
        },
        "id": "HCbpjmUrdLFA",
        "outputId": "27a75487-ea79-440c-fde8-28def4374772"
      },
      "source": [
        "np.array([[1, 5.2]]).dtype"
      ],
      "execution_count": null,
      "outputs": [
        {
          "output_type": "execute_result",
          "data": {
            "text/plain": [
              "dtype('float64')"
            ]
          },
          "metadata": {
            "tags": []
          },
          "execution_count": 15
        }
      ]
    },
    {
      "cell_type": "code",
      "metadata": {
        "colab": {
          "base_uri": "https://localhost:8080/"
        },
        "id": "p0P2XQn1iZNm",
        "outputId": "690cffce-367f-4236-8042-bcb114211f54"
      },
      "source": [
        "data_un.ndim"
      ],
      "execution_count": null,
      "outputs": [
        {
          "output_type": "execute_result",
          "data": {
            "text/plain": [
              "2"
            ]
          },
          "metadata": {
            "tags": []
          },
          "execution_count": 24
        }
      ]
    },
    {
      "cell_type": "code",
      "metadata": {
        "id": "bpT79OjpjFYF"
      },
      "source": [
        "data_un.shape"
      ],
      "execution_count": null,
      "outputs": []
    },
    {
      "cell_type": "code",
      "metadata": {
        "colab": {
          "base_uri": "https://localhost:8080/"
        },
        "id": "rSQXxhkgioSY",
        "outputId": "e43f5edc-acde-4db5-cf48-c9442b7c2305"
      },
      "source": [
        "np.array([1, 5, 9]).ndim"
      ],
      "execution_count": null,
      "outputs": [
        {
          "output_type": "execute_result",
          "data": {
            "text/plain": [
              "1"
            ]
          },
          "metadata": {
            "tags": []
          },
          "execution_count": 25
        }
      ]
    },
    {
      "cell_type": "code",
      "metadata": {
        "colab": {
          "base_uri": "https://localhost:8080/"
        },
        "id": "WJ7MOpqsivhC",
        "outputId": "3c5200a2-8abf-4ceb-f855-b4f6511a3d78"
      },
      "source": [
        "np.array([1, 5, 9]).shape"
      ],
      "execution_count": null,
      "outputs": [
        {
          "output_type": "execute_result",
          "data": {
            "text/plain": [
              "(3,)"
            ]
          },
          "metadata": {
            "tags": []
          },
          "execution_count": 26
        }
      ]
    },
    {
      "cell_type": "code",
      "metadata": {
        "colab": {
          "base_uri": "https://localhost:8080/"
        },
        "id": "2wKtOiMVdK5L",
        "outputId": "708aa29b-10db-4514-ced0-b3d93f0a02e8"
      },
      "source": [
        "data_deux.shape"
      ],
      "execution_count": null,
      "outputs": [
        {
          "output_type": "execute_result",
          "data": {
            "text/plain": [
              "(3, 3)"
            ]
          },
          "metadata": {
            "tags": []
          },
          "execution_count": 16
        }
      ]
    },
    {
      "cell_type": "code",
      "metadata": {
        "colab": {
          "base_uri": "https://localhost:8080/"
        },
        "id": "wzXmMZUGf_yZ",
        "outputId": "9fcd0b9d-b21e-4b19-96eb-e6755341b214"
      },
      "source": [
        "data_deux.ndim"
      ],
      "execution_count": null,
      "outputs": [
        {
          "output_type": "execute_result",
          "data": {
            "text/plain": [
              "2"
            ]
          },
          "metadata": {
            "tags": []
          },
          "execution_count": 17
        }
      ]
    },
    {
      "cell_type": "code",
      "metadata": {
        "colab": {
          "base_uri": "https://localhost:8080/"
        },
        "id": "j2GVSv30gAyk",
        "outputId": "ef476376-a526-4797-8b76-05f64accc127"
      },
      "source": [
        "data_deux.size"
      ],
      "execution_count": null,
      "outputs": [
        {
          "output_type": "execute_result",
          "data": {
            "text/plain": [
              "9"
            ]
          },
          "metadata": {
            "tags": []
          },
          "execution_count": 18
        }
      ]
    },
    {
      "cell_type": "code",
      "metadata": {
        "colab": {
          "base_uri": "https://localhost:8080/"
        },
        "id": "5ZMFtLXvgA9t",
        "outputId": "f748189a-2e9f-470d-d80d-b654fd2239f8"
      },
      "source": [
        "data_deux.nbytes"
      ],
      "execution_count": null,
      "outputs": [
        {
          "output_type": "execute_result",
          "data": {
            "text/plain": [
              "72"
            ]
          },
          "metadata": {
            "tags": []
          },
          "execution_count": 20
        }
      ]
    },
    {
      "cell_type": "code",
      "metadata": {
        "id": "1ORmPlAbg-BJ"
      },
      "source": [
        "\n",
        "          [3 , 2, 5],\n",
        "          [1 , 7, 9],\n",
        "          [5 , 9, 6]\n",
        "          "
      ],
      "execution_count": null,
      "outputs": []
    },
    {
      "cell_type": "code",
      "metadata": {
        "id": "ZD2vgUWVg9uO"
      },
      "source": [
        "data_trois = np.array([\n",
        "                        [[3 , 2, 5],\n",
        "                        [1 , 7, 9],\n",
        "                        [5 , 9, 6]],\n",
        "                      \n",
        "                        [[1 , 8, 5],\n",
        "                        [1 , 5, 9],\n",
        "                        [5 , 9, 6]],\n",
        "                      \n",
        "                      [[3 , 2, 4],\n",
        "                      [1 , 7, 6],\n",
        "                      [5 , 9, 6]]\n",
        "\n",
        "          ])"
      ],
      "execution_count": null,
      "outputs": []
    },
    {
      "cell_type": "code",
      "metadata": {
        "colab": {
          "base_uri": "https://localhost:8080/"
        },
        "id": "8VingDapg3t5",
        "outputId": "9480d0cb-f41e-4b8f-d3c5-a23169b5a090"
      },
      "source": [
        "data_trois.ndim"
      ],
      "execution_count": null,
      "outputs": [
        {
          "output_type": "execute_result",
          "data": {
            "text/plain": [
              "3"
            ]
          },
          "metadata": {
            "tags": []
          },
          "execution_count": 22
        }
      ]
    },
    {
      "cell_type": "code",
      "metadata": {
        "id": "Rkw9b2MYg3fa"
      },
      "source": [
        "data_trois.shape"
      ],
      "execution_count": null,
      "outputs": []
    },
    {
      "cell_type": "code",
      "metadata": {
        "id": "axnLcxiNgBnq"
      },
      "source": [
        "# liste d'éléments = vecteur dim 1\n",
        "# liste de vecteurs =  matrices dim 2\n",
        "# liste de matrices = cube, tableau de dim 3"
      ],
      "execution_count": null,
      "outputs": []
    },
    {
      "cell_type": "code",
      "metadata": {
        "colab": {
          "base_uri": "https://localhost:8080/"
        },
        "id": "5X_WE--Nl7na",
        "outputId": "a69ffee2-fbba-4a39-bb0f-b3dc39977bff"
      },
      "source": [
        "np.array([1,5,9])"
      ],
      "execution_count": null,
      "outputs": [
        {
          "output_type": "execute_result",
          "data": {
            "text/plain": [
              "array([1, 5, 9])"
            ]
          },
          "metadata": {
            "tags": []
          },
          "execution_count": 27
        }
      ]
    },
    {
      "cell_type": "code",
      "metadata": {
        "colab": {
          "base_uri": "https://localhost:8080/"
        },
        "id": "NvITnbvgl8bX",
        "outputId": "7e4af9b5-f14c-4d32-cc2d-527aa3c884de"
      },
      "source": [
        "np.array([1,5,9]).size"
      ],
      "execution_count": null,
      "outputs": [
        {
          "output_type": "execute_result",
          "data": {
            "text/plain": [
              "3"
            ]
          },
          "metadata": {
            "tags": []
          },
          "execution_count": 28
        }
      ]
    },
    {
      "cell_type": "code",
      "metadata": {
        "colab": {
          "base_uri": "https://localhost:8080/"
        },
        "id": "6owcPu0Ml8r6",
        "outputId": "e0888ed2-b35c-4085-e94a-d05bc0e7d6bb"
      },
      "source": [
        "np.array([1,5,9]).ndim"
      ],
      "execution_count": null,
      "outputs": [
        {
          "output_type": "execute_result",
          "data": {
            "text/plain": [
              "1"
            ]
          },
          "metadata": {
            "tags": []
          },
          "execution_count": 29
        }
      ]
    },
    {
      "cell_type": "code",
      "metadata": {
        "colab": {
          "base_uri": "https://localhost:8080/"
        },
        "id": "Ntllgfbdl84m",
        "outputId": "75798fdf-aa7d-4293-ec48-2d8b4f87f73a"
      },
      "source": [
        "np.array([1,5,9]).shape"
      ],
      "execution_count": null,
      "outputs": [
        {
          "output_type": "execute_result",
          "data": {
            "text/plain": [
              "(3,)"
            ]
          },
          "metadata": {
            "tags": []
          },
          "execution_count": 30
        }
      ]
    },
    {
      "cell_type": "code",
      "metadata": {
        "colab": {
          "base_uri": "https://localhost:8080/"
        },
        "id": "V53ZRns5l9Tp",
        "outputId": "67cd6a19-d4f8-4b8b-da66-e07ddea1c70a"
      },
      "source": [
        "np.array([\n",
        "    [1, 5, 9],\n",
        "    [8, 9, 7]\n",
        "])"
      ],
      "execution_count": null,
      "outputs": [
        {
          "output_type": "execute_result",
          "data": {
            "text/plain": [
              "array([[1, 5, 9],\n",
              "       [8, 9, 7]])"
            ]
          },
          "metadata": {
            "tags": []
          },
          "execution_count": 31
        }
      ]
    },
    {
      "cell_type": "code",
      "metadata": {
        "colab": {
          "base_uri": "https://localhost:8080/"
        },
        "id": "NJhEyjqnl9ef",
        "outputId": "76a8edbc-dd58-4fba-8789-b64754d26ec6"
      },
      "source": [
        "np.array([\n",
        "    [1, 5, 9],\n",
        "    [8, 9, 7]\n",
        "]).ndim"
      ],
      "execution_count": null,
      "outputs": [
        {
          "output_type": "execute_result",
          "data": {
            "text/plain": [
              "2"
            ]
          },
          "metadata": {
            "tags": []
          },
          "execution_count": 32
        }
      ]
    },
    {
      "cell_type": "code",
      "metadata": {
        "colab": {
          "base_uri": "https://localhost:8080/"
        },
        "id": "G8GhHtybl9oK",
        "outputId": "834958bb-c8da-4586-ee13-8a7293899367"
      },
      "source": [
        "np.array([\n",
        "    [1, 5, 9],\n",
        "    [8, 9, 7]\n",
        "]).size"
      ],
      "execution_count": null,
      "outputs": [
        {
          "output_type": "execute_result",
          "data": {
            "text/plain": [
              "6"
            ]
          },
          "metadata": {
            "tags": []
          },
          "execution_count": 33
        }
      ]
    },
    {
      "cell_type": "code",
      "metadata": {
        "colab": {
          "base_uri": "https://localhost:8080/"
        },
        "id": "axG4253Zl9y_",
        "outputId": "723ab9fd-9b63-40e0-cf7d-66b0e94b78ca"
      },
      "source": [
        "np.array([\n",
        "    [1, 5, 9],\n",
        "    [8, 9, 7]\n",
        "]).shape\n",
        "# (2 , 3)"
      ],
      "execution_count": null,
      "outputs": [
        {
          "output_type": "execute_result",
          "data": {
            "text/plain": [
              "(2, 3)"
            ]
          },
          "metadata": {
            "tags": []
          },
          "execution_count": 34
        }
      ]
    },
    {
      "cell_type": "code",
      "metadata": {
        "colab": {
          "base_uri": "https://localhost:8080/"
        },
        "id": "EWGeX5PogB1X",
        "outputId": "5c27ef8f-0b49-4607-d6c0-1ea6f4d63560"
      },
      "source": [
        "np.array([\n",
        "    [1, 5, 9]\n",
        "]).shape\n",
        "# (1 , 3)"
      ],
      "execution_count": null,
      "outputs": [
        {
          "output_type": "execute_result",
          "data": {
            "text/plain": [
              "(1, 3)"
            ]
          },
          "metadata": {
            "tags": []
          },
          "execution_count": 35
        }
      ]
    },
    {
      "cell_type": "code",
      "metadata": {
        "colab": {
          "base_uri": "https://localhost:8080/"
        },
        "id": "rKc290K1nUC_",
        "outputId": "5c93b548-6ccb-4b91-bb0c-feb793f2e5ac"
      },
      "source": [
        "np.array([\n",
        "    [1, 5, 9]\n",
        "]).ndim"
      ],
      "execution_count": null,
      "outputs": [
        {
          "output_type": "execute_result",
          "data": {
            "text/plain": [
              "2"
            ]
          },
          "metadata": {
            "tags": []
          },
          "execution_count": 36
        }
      ]
    },
    {
      "cell_type": "code",
      "metadata": {
        "id": "ByEQDf0PnUYr"
      },
      "source": [
        "np.array([\n",
        "    [1, 5, 9],\n",
        "    [8, 9, 7]\n",
        "])"
      ],
      "execution_count": null,
      "outputs": []
    },
    {
      "cell_type": "code",
      "metadata": {
        "id": "qLmdA3-CnUvp"
      },
      "source": [
        "np.array([\n",
        "      [ [1, 5, 9],\n",
        "       [8, 9, 7]  ],  \n",
        "\n",
        "       [ [2, 5, 9],\n",
        "       [8, 9, 7]  ],\n",
        "\n",
        "       [ [13, 5, 9],\n",
        "       [8, 9, 7]  ]  \n",
        "])"
      ],
      "execution_count": null,
      "outputs": []
    },
    {
      "cell_type": "code",
      "metadata": {
        "colab": {
          "base_uri": "https://localhost:8080/"
        },
        "id": "9V9FIZ8xoOLV",
        "outputId": "717e0382-363f-4c07-a1a3-f84471706289"
      },
      "source": [
        "np.array([\n",
        "      [ [1, 5, 9],\n",
        "       [8, 9, 7]  ],  \n",
        "\n",
        "       [ [2, 5, 9],\n",
        "       [8, 9, 7]  ],\n",
        "\n",
        "       [ [13, 5, 9],\n",
        "       [8, 9, 7]  ]  \n",
        "]).ndim"
      ],
      "execution_count": null,
      "outputs": [
        {
          "output_type": "execute_result",
          "data": {
            "text/plain": [
              "3"
            ]
          },
          "metadata": {
            "tags": []
          },
          "execution_count": 37
        }
      ]
    },
    {
      "cell_type": "code",
      "metadata": {
        "colab": {
          "base_uri": "https://localhost:8080/"
        },
        "id": "kGaOn8vgoOBG",
        "outputId": "c69961c6-e8e6-41f1-b8a6-0fab877c22c1"
      },
      "source": [
        "np.array([\n",
        "      [ [1, 5, 9],\n",
        "       [8, 9, 7]  ],  \n",
        "\n",
        "       [ [2, 5, 9],\n",
        "       [8, 9, 7]  ],\n",
        "\n",
        "       [ [13, 5, 9],\n",
        "       [8, 9, 7]  ]  \n",
        "]).size"
      ],
      "execution_count": null,
      "outputs": [
        {
          "output_type": "execute_result",
          "data": {
            "text/plain": [
              "18"
            ]
          },
          "metadata": {
            "tags": []
          },
          "execution_count": 38
        }
      ]
    },
    {
      "cell_type": "code",
      "metadata": {
        "colab": {
          "base_uri": "https://localhost:8080/"
        },
        "id": "NaKOETD9oN2L",
        "outputId": "d2a3967a-5a7d-40f0-a587-49a39c692dba"
      },
      "source": [
        "np.array([\n",
        "      [ [1, 5, 9],\n",
        "       [8, 9, 7]  ],  \n",
        "\n",
        "       [ [2, 5, 9],\n",
        "       [8, 9, 7]  ],\n",
        "\n",
        "       [ [13, 5, 9],\n",
        "       [8, 9, 7]  ]  \n",
        "]).shape\n",
        "# (3 , 2, 3)"
      ],
      "execution_count": null,
      "outputs": [
        {
          "output_type": "execute_result",
          "data": {
            "text/plain": [
              "(3, 2, 3)"
            ]
          },
          "metadata": {
            "tags": []
          },
          "execution_count": 40
        }
      ]
    },
    {
      "cell_type": "code",
      "metadata": {
        "colab": {
          "base_uri": "https://localhost:8080/"
        },
        "id": "YQ-PFQr_oNn1",
        "outputId": "36e6c1b1-0b5d-4b7c-e818-0d27da8ef190"
      },
      "source": [
        "r = np.array([\n",
        "      [ [1, 5, 9],\n",
        "       [8, 9, 7]  ],  \n",
        "\n",
        "       [ [2, 5, 9],\n",
        "       [8, 9, 7]  ],\n",
        "\n",
        "       [ [13, 5, 9],\n",
        "       [8, 9, 7]  ]  \n",
        "])\n",
        "r"
      ],
      "execution_count": null,
      "outputs": [
        {
          "output_type": "execute_result",
          "data": {
            "text/plain": [
              "array([[[ 1,  5,  9],\n",
              "        [ 8,  9,  7]],\n",
              "\n",
              "       [[ 2,  5,  9],\n",
              "        [ 8,  9,  7]],\n",
              "\n",
              "       [[13,  5,  9],\n",
              "        [ 8,  9,  7]]])"
            ]
          },
          "metadata": {
            "tags": []
          },
          "execution_count": 41
        }
      ]
    },
    {
      "cell_type": "code",
      "metadata": {
        "colab": {
          "base_uri": "https://localhost:8080/"
        },
        "id": "xkqK-rOHpEKg",
        "outputId": "4019bdab-1189-4661-ea3f-af9ec8ce2620"
      },
      "source": [
        "r.nbytes"
      ],
      "execution_count": null,
      "outputs": [
        {
          "output_type": "execute_result",
          "data": {
            "text/plain": [
              "144"
            ]
          },
          "metadata": {
            "tags": []
          },
          "execution_count": 42
        }
      ]
    },
    {
      "cell_type": "code",
      "metadata": {
        "colab": {
          "base_uri": "https://localhost:8080/"
        },
        "id": "8u-AItaInVDR",
        "outputId": "f3ae3be2-5584-46da-e0c6-abae0939915a"
      },
      "source": [
        "144/1000 #ko ou kiloBytes"
      ],
      "execution_count": null,
      "outputs": [
        {
          "output_type": "execute_result",
          "data": {
            "text/plain": [
              "0.144"
            ]
          },
          "metadata": {
            "tags": []
          },
          "execution_count": 43
        }
      ]
    },
    {
      "cell_type": "code",
      "metadata": {
        "id": "-ti1eo1zqM_V"
      },
      "source": [
        ""
      ],
      "execution_count": null,
      "outputs": []
    },
    {
      "cell_type": "markdown",
      "metadata": {
        "id": "jHnNEfzTZQQd"
      },
      "source": [
        "## Accéder à un élément d'un tableau"
      ]
    },
    {
      "cell_type": "code",
      "metadata": {
        "id": "IkSifHNSqW5I"
      },
      "source": [
        "v = np.array([1,5,9])"
      ],
      "execution_count": null,
      "outputs": []
    },
    {
      "cell_type": "code",
      "metadata": {
        "colab": {
          "base_uri": "https://localhost:8080/"
        },
        "id": "BmveEhejqWll",
        "outputId": "e95d4f12-5292-4046-bc2c-712b1a621985"
      },
      "source": [
        "v[1]"
      ],
      "execution_count": null,
      "outputs": [
        {
          "output_type": "execute_result",
          "data": {
            "text/plain": [
              "5"
            ]
          },
          "metadata": {
            "tags": []
          },
          "execution_count": 45
        }
      ]
    },
    {
      "cell_type": "code",
      "metadata": {
        "colab": {
          "base_uri": "https://localhost:8080/"
        },
        "id": "U5cunqXgqQw4",
        "outputId": "f1a44070-e899-4a14-aabb-bbb564e84fc0"
      },
      "source": [
        "v[1:]"
      ],
      "execution_count": null,
      "outputs": [
        {
          "output_type": "execute_result",
          "data": {
            "text/plain": [
              "array([5, 9])"
            ]
          },
          "metadata": {
            "tags": []
          },
          "execution_count": 46
        }
      ]
    },
    {
      "cell_type": "code",
      "metadata": {
        "colab": {
          "base_uri": "https://localhost:8080/"
        },
        "id": "LsSgdbz6qQjE",
        "outputId": "33bf7940-0ea1-4b94-cc64-e7e74f32389b"
      },
      "source": [
        "v[-1]"
      ],
      "execution_count": null,
      "outputs": [
        {
          "output_type": "execute_result",
          "data": {
            "text/plain": [
              "9"
            ]
          },
          "metadata": {
            "tags": []
          },
          "execution_count": 47
        }
      ]
    },
    {
      "cell_type": "code",
      "metadata": {
        "id": "PU_ozKxGqQX1"
      },
      "source": [
        "matrice = np.array([\n",
        "    [1, 5, 9],\n",
        "    [8, 9, 7]\n",
        "])"
      ],
      "execution_count": null,
      "outputs": []
    },
    {
      "cell_type": "code",
      "metadata": {
        "colab": {
          "base_uri": "https://localhost:8080/"
        },
        "id": "W7G5GCuorK3A",
        "outputId": "c09a35cf-ae29-43ee-f652-eb39344db353"
      },
      "source": [
        "matrice[1, 1]"
      ],
      "execution_count": null,
      "outputs": [
        {
          "output_type": "execute_result",
          "data": {
            "text/plain": [
              "9"
            ]
          },
          "metadata": {
            "tags": []
          },
          "execution_count": 49
        }
      ]
    },
    {
      "cell_type": "code",
      "metadata": {
        "colab": {
          "base_uri": "https://localhost:8080/"
        },
        "id": "8PXECmMxrLAs",
        "outputId": "3a5285a0-8af3-4639-8cf4-f34b446f40b8"
      },
      "source": [
        "matrice[0,2]"
      ],
      "execution_count": null,
      "outputs": [
        {
          "output_type": "execute_result",
          "data": {
            "text/plain": [
              "9"
            ]
          },
          "metadata": {
            "tags": []
          },
          "execution_count": 50
        }
      ]
    },
    {
      "cell_type": "code",
      "metadata": {
        "colab": {
          "base_uri": "https://localhost:8080/"
        },
        "id": "txKRTzghrLIi",
        "outputId": "7a42c2e6-924d-421e-e2e7-a87dbcc1f3e9"
      },
      "source": [
        "matrice[1, 0]"
      ],
      "execution_count": null,
      "outputs": [
        {
          "output_type": "execute_result",
          "data": {
            "text/plain": [
              "8"
            ]
          },
          "metadata": {
            "tags": []
          },
          "execution_count": 51
        }
      ]
    },
    {
      "cell_type": "code",
      "metadata": {
        "id": "O95yWmyYr_Ef"
      },
      "source": [
        "v2 = np.array([\n",
        "    [1, 5, 9]\n",
        "])"
      ],
      "execution_count": null,
      "outputs": []
    },
    {
      "cell_type": "code",
      "metadata": {
        "colab": {
          "base_uri": "https://localhost:8080/"
        },
        "id": "sCQZzgk1r-7L",
        "outputId": "a8bfc225-731c-42b1-da91-f1a960dc0f09"
      },
      "source": [
        "v2[0, 1]"
      ],
      "execution_count": null,
      "outputs": [
        {
          "output_type": "execute_result",
          "data": {
            "text/plain": [
              "5"
            ]
          },
          "metadata": {
            "tags": []
          },
          "execution_count": 53
        }
      ]
    },
    {
      "cell_type": "code",
      "metadata": {
        "id": "49mhNSfwr-xN"
      },
      "source": [
        "cube = np.array([\n",
        "      [ [1, 5, 9],\n",
        "       [8, 9, 7]  ],  \n",
        "\n",
        "       [ [2, 5, 9],\n",
        "       [8, 9, 7]  ],\n",
        "\n",
        "       [ [13, 5, 9],\n",
        "       [8, 9, 7]  ]  \n",
        "])"
      ],
      "execution_count": null,
      "outputs": []
    },
    {
      "cell_type": "code",
      "metadata": {
        "colab": {
          "base_uri": "https://localhost:8080/"
        },
        "id": "qbxysalBr-i0",
        "outputId": "cea738d4-9e5a-4d6a-bf6b-25d73670dde5"
      },
      "source": [
        "cube"
      ],
      "execution_count": null,
      "outputs": [
        {
          "output_type": "execute_result",
          "data": {
            "text/plain": [
              "array([[[ 1,  5,  9],\n",
              "        [ 8,  9,  7]],\n",
              "\n",
              "       [[ 2,  5,  9],\n",
              "        [ 8,  9,  7]],\n",
              "\n",
              "       [[13,  5,  9],\n",
              "        [ 8,  9,  7]]])"
            ]
          },
          "metadata": {
            "tags": []
          },
          "execution_count": 55
        }
      ]
    },
    {
      "cell_type": "code",
      "metadata": {
        "colab": {
          "base_uri": "https://localhost:8080/"
        },
        "id": "7L03YkCsrLPZ",
        "outputId": "6d66083c-b428-4a46-bb8b-c8bed69b5a81"
      },
      "source": [
        "cube[2, 0, 0 ]"
      ],
      "execution_count": null,
      "outputs": [
        {
          "output_type": "execute_result",
          "data": {
            "text/plain": [
              "13"
            ]
          },
          "metadata": {
            "tags": []
          },
          "execution_count": 56
        }
      ]
    },
    {
      "cell_type": "code",
      "metadata": {
        "colab": {
          "base_uri": "https://localhost:8080/"
        },
        "id": "UjZqq5hfrLSg",
        "outputId": "d1d9b1e1-09b8-4aea-9962-11a33c6b3e78"
      },
      "source": [
        "cube[-1, 0, 0]"
      ],
      "execution_count": null,
      "outputs": [
        {
          "output_type": "execute_result",
          "data": {
            "text/plain": [
              "13"
            ]
          },
          "metadata": {
            "tags": []
          },
          "execution_count": 57
        }
      ]
    },
    {
      "cell_type": "code",
      "metadata": {
        "colab": {
          "base_uri": "https://localhost:8080/"
        },
        "id": "oXM42McbszJK",
        "outputId": "87e75c9e-d9e1-4434-c8ae-1884fcc2ade6"
      },
      "source": [
        "matrice"
      ],
      "execution_count": null,
      "outputs": [
        {
          "output_type": "execute_result",
          "data": {
            "text/plain": [
              "array([[1, 5, 9],\n",
              "       [8, 9, 7]])"
            ]
          },
          "metadata": {
            "tags": []
          },
          "execution_count": 58
        }
      ]
    },
    {
      "cell_type": "markdown",
      "metadata": {
        "id": "1jocM6VVZQQd"
      },
      "source": [
        "## Accéder à des sous-tableaux d'un tableau"
      ]
    },
    {
      "cell_type": "code",
      "metadata": {
        "colab": {
          "base_uri": "https://localhost:8080/"
        },
        "id": "M1yb6FKzsy-S",
        "outputId": "04e8e820-788b-4c3f-93bc-e6151ebf044b"
      },
      "source": [
        "matrice[0, 1: ]"
      ],
      "execution_count": null,
      "outputs": [
        {
          "output_type": "execute_result",
          "data": {
            "text/plain": [
              "array([5, 9])"
            ]
          },
          "metadata": {
            "tags": []
          },
          "execution_count": 59
        }
      ]
    },
    {
      "cell_type": "code",
      "metadata": {
        "colab": {
          "base_uri": "https://localhost:8080/"
        },
        "id": "lQarmJxEthBU",
        "outputId": "1119f225-1071-4f7a-a2df-8969fd824710"
      },
      "source": [
        "matrice[1, 1: ]"
      ],
      "execution_count": null,
      "outputs": [
        {
          "output_type": "execute_result",
          "data": {
            "text/plain": [
              "array([9, 7])"
            ]
          },
          "metadata": {
            "tags": []
          },
          "execution_count": 60
        }
      ]
    },
    {
      "cell_type": "code",
      "metadata": {
        "colab": {
          "base_uri": "https://localhost:8080/"
        },
        "id": "aGbbOHN5tlCC",
        "outputId": "ace1d6ce-0667-47d2-f0f6-d5b1f111a47b"
      },
      "source": [
        "matrice[0: , 1: ]"
      ],
      "execution_count": null,
      "outputs": [
        {
          "output_type": "execute_result",
          "data": {
            "text/plain": [
              "array([[5, 9],\n",
              "       [9, 7]])"
            ]
          },
          "metadata": {
            "tags": []
          },
          "execution_count": 62
        }
      ]
    },
    {
      "cell_type": "code",
      "metadata": {
        "colab": {
          "base_uri": "https://localhost:8080/"
        },
        "id": "G3YKoY29tkyZ",
        "outputId": "d1d493a6-2bc5-43f0-cb47-22388ab4217e"
      },
      "source": [
        "matrice[: , 1: ]"
      ],
      "execution_count": null,
      "outputs": [
        {
          "output_type": "execute_result",
          "data": {
            "text/plain": [
              "array([[5, 9],\n",
              "       [9, 7]])"
            ]
          },
          "metadata": {
            "tags": []
          },
          "execution_count": 63
        }
      ]
    },
    {
      "cell_type": "code",
      "metadata": {
        "id": "AFJ8Vo0Csyzz"
      },
      "source": [
        "matrice = np.array([\n",
        "      0  1  2  3  4      \n",
        "   0 [1, 5, 9, 4, 6],\n",
        "   1 [8, 9, 7, 5, 0],\n",
        "   2 [3, 2, 0, 6, 2],\n",
        "   3 [8, 6, 7, 8, 9]\n",
        "])"
      ],
      "execution_count": null,
      "outputs": []
    },
    {
      "cell_type": "code",
      "metadata": {
        "colab": {
          "base_uri": "https://localhost:8080/"
        },
        "id": "LS2bSwsY0Di8",
        "outputId": "a4511fea-b35f-450f-dd46-d8a0dc21922a"
      },
      "source": [
        "matrice[2, 3]"
      ],
      "execution_count": null,
      "outputs": [
        {
          "output_type": "execute_result",
          "data": {
            "text/plain": [
              "6"
            ]
          },
          "metadata": {
            "tags": []
          },
          "execution_count": 80
        }
      ]
    },
    {
      "cell_type": "code",
      "metadata": {
        "colab": {
          "base_uri": "https://localhost:8080/"
        },
        "id": "p31y2qsgxTyu",
        "outputId": "9fd28594-396f-4a22-ea6e-481c3e5e6a93"
      },
      "source": [
        "matrice[1:, 2:]"
      ],
      "execution_count": null,
      "outputs": [
        {
          "output_type": "execute_result",
          "data": {
            "text/plain": [
              "array([[7, 5, 0],\n",
              "       [0, 6, 2],\n",
              "       [7, 8, 9]])"
            ]
          },
          "metadata": {
            "tags": []
          },
          "execution_count": 71
        }
      ]
    },
    {
      "cell_type": "code",
      "metadata": {
        "colab": {
          "base_uri": "https://localhost:8080/"
        },
        "id": "0haBAzsswLHk",
        "outputId": "68f0de53-efd0-4251-9cc8-a306199f25c0"
      },
      "source": [
        "matrice[1:3, 2:4]"
      ],
      "execution_count": null,
      "outputs": [
        {
          "output_type": "execute_result",
          "data": {
            "text/plain": [
              "array([[7, 5],\n",
              "       [0, 6]])"
            ]
          },
          "metadata": {
            "tags": []
          },
          "execution_count": 70
        }
      ]
    },
    {
      "cell_type": "code",
      "metadata": {
        "colab": {
          "base_uri": "https://localhost:8080/"
        },
        "id": "FIwsSPx6uY2C",
        "outputId": "ffd0436c-f76a-4c24-f95a-78ebf03604c6"
      },
      "source": [
        "matrice.shape"
      ],
      "execution_count": null,
      "outputs": [
        {
          "output_type": "execute_result",
          "data": {
            "text/plain": [
              "(4, 5)"
            ]
          },
          "metadata": {
            "tags": []
          },
          "execution_count": 68
        }
      ]
    },
    {
      "cell_type": "code",
      "metadata": {
        "colab": {
          "base_uri": "https://localhost:8080/"
        },
        "id": "kW6VoeNRsyoh",
        "outputId": "d669c86d-6da0-4e5d-e9b5-1f64cb5dd107"
      },
      "source": [
        "matrice[1:3 , 1:3]"
      ],
      "execution_count": null,
      "outputs": [
        {
          "output_type": "execute_result",
          "data": {
            "text/plain": [
              "array([[9, 7],\n",
              "       [2, 0]])"
            ]
          },
          "metadata": {
            "tags": []
          },
          "execution_count": 69
        }
      ]
    },
    {
      "cell_type": "code",
      "metadata": {
        "colab": {
          "base_uri": "https://localhost:8080/"
        },
        "id": "y5uUSrUjqQLO",
        "outputId": "ca58d675-7906-400a-8b0e-1253a713bb10"
      },
      "source": [
        "np.array([[9,7],[2,0]])"
      ],
      "execution_count": null,
      "outputs": [
        {
          "output_type": "execute_result",
          "data": {
            "text/plain": [
              "array([[9, 7],\n",
              "       [2, 0]])"
            ]
          },
          "metadata": {
            "tags": []
          },
          "execution_count": 66
        }
      ]
    },
    {
      "cell_type": "code",
      "metadata": {
        "id": "iL04JZk4xid9"
      },
      "source": [
        "cube = np.array([\n",
        "      [ [1, 5, 9],\n",
        "        [8, 9, 7]  ],  \n",
        "\n",
        "       [ [6, 4, 9],\n",
        "         [8, 1, 7]  ],\n",
        "\n",
        "       [ [13, 0, 8],\n",
        "          [8, 9, 7]  ]  \n",
        "])"
      ],
      "execution_count": null,
      "outputs": []
    },
    {
      "cell_type": "code",
      "metadata": {
        "colab": {
          "base_uri": "https://localhost:8080/"
        },
        "id": "pQErfsx2ytFB",
        "outputId": "910ba0b9-71ff-4209-fc21-7fa4ad93eca7"
      },
      "source": [
        "cube[:2, 1:, :2]"
      ],
      "execution_count": null,
      "outputs": [
        {
          "output_type": "execute_result",
          "data": {
            "text/plain": [
              "array([[[8, 9]],\n",
              "\n",
              "       [[8, 1]]])"
            ]
          },
          "metadata": {
            "tags": []
          },
          "execution_count": 75
        }
      ]
    },
    {
      "cell_type": "code",
      "metadata": {
        "colab": {
          "base_uri": "https://localhost:8080/"
        },
        "id": "o1yMqW3-xi5s",
        "outputId": "abc7bdbd-d2a8-47eb-a094-b583ccd9ff8e"
      },
      "source": [
        "cube[:, :, 1:]"
      ],
      "execution_count": null,
      "outputs": [
        {
          "output_type": "execute_result",
          "data": {
            "text/plain": [
              "array([[[5, 9],\n",
              "        [9, 7]],\n",
              "\n",
              "       [[4, 9],\n",
              "        [1, 7]],\n",
              "\n",
              "       [[0, 8],\n",
              "        [9, 7]]])"
            ]
          },
          "metadata": {
            "tags": []
          },
          "execution_count": 74
        }
      ]
    },
    {
      "cell_type": "code",
      "metadata": {
        "colab": {
          "base_uri": "https://localhost:8080/"
        },
        "id": "Yi-_b4MqxjAg",
        "outputId": "432ab4fe-2580-4e9a-c17c-15174506e913"
      },
      "source": [
        "np.array(5).ndim"
      ],
      "execution_count": null,
      "outputs": [
        {
          "output_type": "execute_result",
          "data": {
            "text/plain": [
              "0"
            ]
          },
          "metadata": {
            "tags": []
          },
          "execution_count": 77
        }
      ]
    },
    {
      "cell_type": "code",
      "metadata": {
        "colab": {
          "base_uri": "https://localhost:8080/"
        },
        "id": "slQjMe1VxjEs",
        "outputId": "eb59f0e1-e5c6-44d5-e044-ca924072a582"
      },
      "source": [
        "np.array(5).shape"
      ],
      "execution_count": null,
      "outputs": [
        {
          "output_type": "execute_result",
          "data": {
            "text/plain": [
              "()"
            ]
          },
          "metadata": {
            "tags": []
          },
          "execution_count": 78
        }
      ]
    },
    {
      "cell_type": "code",
      "metadata": {
        "id": "-7_S_k3fxjJE"
      },
      "source": [
        ""
      ],
      "execution_count": null,
      "outputs": []
    },
    {
      "cell_type": "code",
      "metadata": {
        "colab": {
          "base_uri": "https://localhost:8080/"
        },
        "id": "CkI8XI3axjMo",
        "outputId": "7fd09279-cdc1-4a74-bef9-136eebb82f42"
      },
      "source": [
        "matrice = np.array([\n",
        "           \n",
        "   [1, 5, 9, 4, 6],\n",
        "   [8, 9, 7, 0],\n",
        "   [3, 2, 0, 6, 2],\n",
        "   [8, 6, 7, 8, 9]\n",
        "])"
      ],
      "execution_count": null,
      "outputs": [
        {
          "output_type": "stream",
          "text": [
            "/usr/local/lib/python3.6/dist-packages/ipykernel_launcher.py:6: VisibleDeprecationWarning: Creating an ndarray from ragged nested sequences (which is a list-or-tuple of lists-or-tuples-or ndarrays with different lengths or shapes) is deprecated. If you meant to do this, you must specify 'dtype=object' when creating the ndarray\n",
            "  \n"
          ],
          "name": "stderr"
        }
      ]
    },
    {
      "cell_type": "code",
      "metadata": {
        "id": "ohh4BdpFxjRO"
      },
      "source": [
        "matrice = np.array([\n",
        "        0  1  2  3  4      \n",
        "   Paul [1, 5, 9, 4, 6],\n",
        "   Kevin[8, 9, 7, 5, 0],\n",
        "   radji[3, 2, 0, 6, 2],\n",
        "   rock [8, 6, 7, 8, 9]\n",
        "])"
      ],
      "execution_count": null,
      "outputs": []
    },
    {
      "cell_type": "code",
      "metadata": {
        "id": "Y5oLsn4b0OFB"
      },
      "source": [
        "??np.arange"
      ],
      "execution_count": null,
      "outputs": []
    },
    {
      "cell_type": "code",
      "metadata": {
        "id": "5D4nBg1LxjVc"
      },
      "source": [
        "matrice = np.arange(9).reshape((3,3))"
      ],
      "execution_count": null,
      "outputs": []
    },
    {
      "cell_type": "code",
      "metadata": {
        "colab": {
          "base_uri": "https://localhost:8080/"
        },
        "id": "6bVih0Pd0afO",
        "outputId": "e5ffe4ec-d886-4160-d83f-878d2974bfc2"
      },
      "source": [
        "matrice"
      ],
      "execution_count": null,
      "outputs": [
        {
          "output_type": "execute_result",
          "data": {
            "text/plain": [
              "array([[0, 1, 2],\n",
              "       [3, 4, 5],\n",
              "       [6, 7, 8]])"
            ]
          },
          "metadata": {
            "tags": []
          },
          "execution_count": 7
        }
      ]
    },
    {
      "cell_type": "code",
      "metadata": {
        "colab": {
          "base_uri": "https://localhost:8080/"
        },
        "id": "cPVnyMQ00uRa",
        "outputId": "1e034991-50ec-41a1-d511-480f2fd8ba8f"
      },
      "source": [
        "matrice[0:2, 1:]"
      ],
      "execution_count": null,
      "outputs": [
        {
          "output_type": "execute_result",
          "data": {
            "text/plain": [
              "array([[1, 2],\n",
              "       [4, 5]])"
            ]
          },
          "metadata": {
            "tags": []
          },
          "execution_count": 9
        }
      ]
    },
    {
      "cell_type": "code",
      "metadata": {
        "colab": {
          "base_uri": "https://localhost:8080/"
        },
        "id": "qLsTiLav0aXa",
        "outputId": "a4317315-8429-40c0-9779-0e396378a40f"
      },
      "source": [
        "matrice[1: , :2]"
      ],
      "execution_count": null,
      "outputs": [
        {
          "output_type": "execute_result",
          "data": {
            "text/plain": [
              "array([[3, 4],\n",
              "       [6, 7]])"
            ]
          },
          "metadata": {
            "tags": []
          },
          "execution_count": 8
        }
      ]
    },
    {
      "cell_type": "code",
      "metadata": {
        "id": "004egj7b0aPy"
      },
      "source": [
        ""
      ],
      "execution_count": null,
      "outputs": []
    },
    {
      "cell_type": "code",
      "metadata": {
        "id": "7w7mtLCM0aGc"
      },
      "source": [
        ""
      ],
      "execution_count": null,
      "outputs": []
    },
    {
      "cell_type": "code",
      "metadata": {
        "id": "fsPbKQMt0J58"
      },
      "source": [
        ""
      ],
      "execution_count": null,
      "outputs": []
    },
    {
      "cell_type": "markdown",
      "metadata": {
        "id": "oOTfgCv0ZQQe"
      },
      "source": [
        "## Vue et non copie d'un tableau"
      ]
    },
    {
      "cell_type": "code",
      "metadata": {
        "colab": {
          "base_uri": "https://localhost:8080/"
        },
        "id": "iz2-Jl9M1fZc",
        "outputId": "015ae507-4fbf-4be9-be40-2a19a34f53c0"
      },
      "source": [
        "matrice = np.arange(9).reshape((3,3))\n",
        "matrice"
      ],
      "execution_count": null,
      "outputs": [
        {
          "output_type": "execute_result",
          "data": {
            "text/plain": [
              "array([[0, 1, 2],\n",
              "       [3, 4, 5],\n",
              "       [6, 7, 8]])"
            ]
          },
          "metadata": {
            "tags": []
          },
          "execution_count": 10
        }
      ]
    },
    {
      "cell_type": "code",
      "metadata": {
        "id": "uX3WGk1a1ir_"
      },
      "source": [
        "matrice[1, -1] = 9"
      ],
      "execution_count": null,
      "outputs": []
    },
    {
      "cell_type": "code",
      "metadata": {
        "colab": {
          "base_uri": "https://localhost:8080/"
        },
        "id": "Z_QgDYgE1ig8",
        "outputId": "2de0f7ce-31bc-4dba-83d4-d8734fd8e82b"
      },
      "source": [
        "matrice"
      ],
      "execution_count": null,
      "outputs": [
        {
          "output_type": "execute_result",
          "data": {
            "text/plain": [
              "array([[0, 1, 2],\n",
              "       [3, 4, 9],\n",
              "       [6, 7, 8]])"
            ]
          },
          "metadata": {
            "tags": []
          },
          "execution_count": 13
        }
      ]
    },
    {
      "cell_type": "code",
      "metadata": {
        "id": "rzVJ1NBm1iUO"
      },
      "source": [
        "data = matrice[:2, :2]"
      ],
      "execution_count": null,
      "outputs": []
    },
    {
      "cell_type": "code",
      "metadata": {
        "colab": {
          "base_uri": "https://localhost:8080/"
        },
        "id": "aMV0xxUg1iHf",
        "outputId": "47d94ac2-d48d-4fcd-ecba-486f3d6014b1"
      },
      "source": [
        "data"
      ],
      "execution_count": null,
      "outputs": [
        {
          "output_type": "execute_result",
          "data": {
            "text/plain": [
              "array([[0, 1],\n",
              "       [3, 4]])"
            ]
          },
          "metadata": {
            "tags": []
          },
          "execution_count": 15
        }
      ]
    },
    {
      "cell_type": "code",
      "metadata": {
        "id": "szZ2bazX2jB7"
      },
      "source": [
        "data[0, 0] = 15"
      ],
      "execution_count": null,
      "outputs": []
    },
    {
      "cell_type": "code",
      "metadata": {
        "colab": {
          "base_uri": "https://localhost:8080/"
        },
        "id": "WbKsnV2B2i15",
        "outputId": "9ad17663-5934-410d-e3d6-160bd743757c"
      },
      "source": [
        "data"
      ],
      "execution_count": null,
      "outputs": [
        {
          "output_type": "execute_result",
          "data": {
            "text/plain": [
              "array([[15,  1],\n",
              "       [ 3,  4]])"
            ]
          },
          "metadata": {
            "tags": []
          },
          "execution_count": 17
        }
      ]
    },
    {
      "cell_type": "code",
      "metadata": {
        "colab": {
          "base_uri": "https://localhost:8080/"
        },
        "id": "gf-tnSPr2pyB",
        "outputId": "46e9d49a-9e6e-4261-b201-c2bf2945e5e2"
      },
      "source": [
        "matrice"
      ],
      "execution_count": null,
      "outputs": [
        {
          "output_type": "execute_result",
          "data": {
            "text/plain": [
              "array([[15,  1,  2],\n",
              "       [ 3,  4,  9],\n",
              "       [ 6,  7,  8]])"
            ]
          },
          "metadata": {
            "tags": []
          },
          "execution_count": 18
        }
      ]
    },
    {
      "cell_type": "code",
      "metadata": {
        "id": "vgrgj43n2pnH"
      },
      "source": [
        ""
      ],
      "execution_count": null,
      "outputs": []
    },
    {
      "cell_type": "code",
      "metadata": {
        "id": "fOOJvyxn2ioJ"
      },
      "source": [
        ""
      ],
      "execution_count": null,
      "outputs": []
    },
    {
      "cell_type": "code",
      "metadata": {
        "id": "dE1daYat1h4i"
      },
      "source": [
        ""
      ],
      "execution_count": null,
      "outputs": []
    },
    {
      "cell_type": "markdown",
      "metadata": {
        "id": "xeWqnye8ZQQe"
      },
      "source": [
        "## Comment copier alors un tableau ?"
      ]
    },
    {
      "cell_type": "code",
      "metadata": {
        "id": "FRXtUdXJ3CuS"
      },
      "source": [
        "data = matrice[:2, :2].copy()"
      ],
      "execution_count": null,
      "outputs": []
    },
    {
      "cell_type": "code",
      "metadata": {
        "colab": {
          "base_uri": "https://localhost:8080/"
        },
        "id": "6XlStQ2s3CkO",
        "outputId": "713b6073-2d36-4e2b-994e-dcb16d7c9ed0"
      },
      "source": [
        "data"
      ],
      "execution_count": null,
      "outputs": [
        {
          "output_type": "execute_result",
          "data": {
            "text/plain": [
              "array([[15,  1],\n",
              "       [ 3,  4]])"
            ]
          },
          "metadata": {
            "tags": []
          },
          "execution_count": 20
        }
      ]
    },
    {
      "cell_type": "code",
      "metadata": {
        "id": "VK9wKsXJ3H0x"
      },
      "source": [
        "data[0, 0] = 30"
      ],
      "execution_count": null,
      "outputs": []
    },
    {
      "cell_type": "code",
      "metadata": {
        "colab": {
          "base_uri": "https://localhost:8080/"
        },
        "id": "yA_lWzd33Hq6",
        "outputId": "959f4c16-7fe1-4c09-a74b-f71311c14a92"
      },
      "source": [
        "data"
      ],
      "execution_count": null,
      "outputs": [
        {
          "output_type": "execute_result",
          "data": {
            "text/plain": [
              "array([[30,  1],\n",
              "       [ 3,  4]])"
            ]
          },
          "metadata": {
            "tags": []
          },
          "execution_count": 22
        }
      ]
    },
    {
      "cell_type": "code",
      "metadata": {
        "colab": {
          "base_uri": "https://localhost:8080/"
        },
        "id": "B2KTuGow3CYp",
        "outputId": "60ebe870-8a46-44a0-e7f8-e46b13609350"
      },
      "source": [
        "matrice"
      ],
      "execution_count": null,
      "outputs": [
        {
          "output_type": "execute_result",
          "data": {
            "text/plain": [
              "array([[15,  1,  2],\n",
              "       [ 3,  4,  9],\n",
              "       [ 6,  7,  8]])"
            ]
          },
          "metadata": {
            "tags": []
          },
          "execution_count": 23
        }
      ]
    },
    {
      "cell_type": "code",
      "metadata": {
        "id": "bx-BXY2C3CLa"
      },
      "source": [
        ""
      ],
      "execution_count": null,
      "outputs": []
    },
    {
      "cell_type": "markdown",
      "metadata": {
        "id": "aIRn0XoSZQQf"
      },
      "source": [
        "## Modifier la taille d'un tableau"
      ]
    },
    {
      "cell_type": "code",
      "metadata": {
        "colab": {
          "base_uri": "https://localhost:8080/"
        },
        "id": "htzAAGcq3QRU",
        "outputId": "85d12539-348a-4af7-bd6e-3712028b2ed4"
      },
      "source": [
        "x = np.random.randint(100, size=(2, 5))\n",
        "x"
      ],
      "execution_count": null,
      "outputs": [
        {
          "output_type": "execute_result",
          "data": {
            "text/plain": [
              "array([[ 3, 87,  9, 32, 13],\n",
              "       [98, 53, 65, 26, 11]])"
            ]
          },
          "metadata": {
            "tags": []
          },
          "execution_count": 26
        }
      ]
    },
    {
      "cell_type": "code",
      "metadata": {
        "colab": {
          "base_uri": "https://localhost:8080/"
        },
        "id": "C5MUrE1T3QK3",
        "outputId": "57148c7e-93e7-4587-a373-399744c57dc3"
      },
      "source": [
        "x.reshape((5, 2))"
      ],
      "execution_count": null,
      "outputs": [
        {
          "output_type": "execute_result",
          "data": {
            "text/plain": [
              "array([[ 3, 87],\n",
              "       [ 9, 32],\n",
              "       [13, 98],\n",
              "       [53, 65],\n",
              "       [26, 11]])"
            ]
          },
          "metadata": {
            "tags": []
          },
          "execution_count": 27
        }
      ]
    },
    {
      "cell_type": "code",
      "metadata": {
        "colab": {
          "base_uri": "https://localhost:8080/"
        },
        "id": "bO-Ni5rX3_R0",
        "outputId": "4ff867f0-fe80-4e61-e356-96c4e8f5c209"
      },
      "source": [
        "u = np.array([1,5,6])\n",
        "u.shape"
      ],
      "execution_count": null,
      "outputs": [
        {
          "output_type": "execute_result",
          "data": {
            "text/plain": [
              "(3,)"
            ]
          },
          "metadata": {
            "tags": []
          },
          "execution_count": 28
        }
      ]
    },
    {
      "cell_type": "code",
      "metadata": {
        "colab": {
          "base_uri": "https://localhost:8080/"
        },
        "id": "jDY2Clwi3_Fi",
        "outputId": "f054c221-97fd-44b8-ccab-05eff9e9bf26"
      },
      "source": [
        "u.reshape((1,3))"
      ],
      "execution_count": null,
      "outputs": [
        {
          "output_type": "execute_result",
          "data": {
            "text/plain": [
              "array([[1, 5, 6]])"
            ]
          },
          "metadata": {
            "tags": []
          },
          "execution_count": 29
        }
      ]
    },
    {
      "cell_type": "code",
      "metadata": {
        "colab": {
          "base_uri": "https://localhost:8080/"
        },
        "id": "adymiXGk3-7M",
        "outputId": "4ef59d3f-18c3-479e-cd63-a3d5fa284a45"
      },
      "source": [
        "u.reshape((3, 1))"
      ],
      "execution_count": null,
      "outputs": [
        {
          "output_type": "execute_result",
          "data": {
            "text/plain": [
              "array([[1],\n",
              "       [5],\n",
              "       [6]])"
            ]
          },
          "metadata": {
            "tags": []
          },
          "execution_count": 30
        }
      ]
    },
    {
      "cell_type": "code",
      "metadata": {
        "colab": {
          "base_uri": "https://localhost:8080/",
          "height": 164
        },
        "id": "KeqhKORp3QFZ",
        "outputId": "1791552a-d3dc-499a-fbe5-f201a3fd34ea"
      },
      "source": [
        "u.reshape( (2, 3) )"
      ],
      "execution_count": null,
      "outputs": [
        {
          "output_type": "error",
          "ename": "ValueError",
          "evalue": "ignored",
          "traceback": [
            "\u001b[0;31m---------------------------------------------------------------------------\u001b[0m",
            "\u001b[0;31mValueError\u001b[0m                                Traceback (most recent call last)",
            "\u001b[0;32m<ipython-input-31-a4ffdda805be>\u001b[0m in \u001b[0;36m<module>\u001b[0;34m()\u001b[0m\n\u001b[0;32m----> 1\u001b[0;31m \u001b[0mu\u001b[0m\u001b[0;34m.\u001b[0m\u001b[0mreshape\u001b[0m\u001b[0;34m(\u001b[0m \u001b[0;34m(\u001b[0m\u001b[0;36m2\u001b[0m\u001b[0;34m,\u001b[0m \u001b[0;36m3\u001b[0m\u001b[0;34m)\u001b[0m \u001b[0;34m)\u001b[0m\u001b[0;34m\u001b[0m\u001b[0;34m\u001b[0m\u001b[0m\n\u001b[0m",
            "\u001b[0;31mValueError\u001b[0m: cannot reshape array of size 3 into shape (2,3)"
          ]
        }
      ]
    },
    {
      "cell_type": "code",
      "metadata": {
        "id": "cACyqvm-3P69"
      },
      "source": [
        ""
      ],
      "execution_count": null,
      "outputs": []
    },
    {
      "cell_type": "markdown",
      "metadata": {
        "id": "Xc_avV_HZQQf"
      },
      "source": [
        "## Concatener des Tableaux"
      ]
    },
    {
      "cell_type": "code",
      "metadata": {
        "colab": {
          "base_uri": "https://localhost:8080/"
        },
        "id": "p43Aeydc4VzJ",
        "outputId": "ab07bc7d-ff0b-4360-ed19-828f30e7a9c1"
      },
      "source": [
        "u"
      ],
      "execution_count": null,
      "outputs": [
        {
          "output_type": "execute_result",
          "data": {
            "text/plain": [
              "array([1, 5, 6])"
            ]
          },
          "metadata": {
            "tags": []
          },
          "execution_count": 32
        }
      ]
    },
    {
      "cell_type": "code",
      "metadata": {
        "id": "sBpFC_I04jH7"
      },
      "source": [
        "v = np.array([7, 8, 9])"
      ],
      "execution_count": null,
      "outputs": []
    },
    {
      "cell_type": "code",
      "metadata": {
        "colab": {
          "base_uri": "https://localhost:8080/"
        },
        "id": "yec9g_j54i67",
        "outputId": "b6637700-3e46-452c-e80a-e3c0f8fa4122"
      },
      "source": [
        "np.concatenate([u, v])"
      ],
      "execution_count": null,
      "outputs": [
        {
          "output_type": "execute_result",
          "data": {
            "text/plain": [
              "array([1, 5, 6, 7, 8, 9])"
            ]
          },
          "metadata": {
            "tags": []
          },
          "execution_count": 34
        }
      ]
    },
    {
      "cell_type": "code",
      "metadata": {
        "colab": {
          "base_uri": "https://localhost:8080/",
          "height": 199
        },
        "id": "RghyFr5F4VmL",
        "outputId": "5327e4d2-f073-446a-8dcd-0499a5108168"
      },
      "source": [
        "np.concatenate([u, u], axis=1)"
      ],
      "execution_count": null,
      "outputs": [
        {
          "output_type": "error",
          "ename": "AxisError",
          "evalue": "ignored",
          "traceback": [
            "\u001b[0;31m---------------------------------------------------------------------------\u001b[0m",
            "\u001b[0;31mAxisError\u001b[0m                                 Traceback (most recent call last)",
            "\u001b[0;32m<ipython-input-36-a214d823108e>\u001b[0m in \u001b[0;36m<module>\u001b[0;34m()\u001b[0m\n\u001b[0;32m----> 1\u001b[0;31m \u001b[0mnp\u001b[0m\u001b[0;34m.\u001b[0m\u001b[0mconcatenate\u001b[0m\u001b[0;34m(\u001b[0m\u001b[0;34m[\u001b[0m\u001b[0mu\u001b[0m\u001b[0;34m,\u001b[0m \u001b[0mu\u001b[0m\u001b[0;34m]\u001b[0m\u001b[0;34m,\u001b[0m \u001b[0maxis\u001b[0m\u001b[0;34m=\u001b[0m\u001b[0;36m1\u001b[0m\u001b[0;34m)\u001b[0m\u001b[0;34m\u001b[0m\u001b[0;34m\u001b[0m\u001b[0m\n\u001b[0m",
            "\u001b[0;32m<__array_function__ internals>\u001b[0m in \u001b[0;36mconcatenate\u001b[0;34m(*args, **kwargs)\u001b[0m\n",
            "\u001b[0;31mAxisError\u001b[0m: axis 1 is out of bounds for array of dimension 1"
          ]
        }
      ]
    },
    {
      "cell_type": "code",
      "metadata": {
        "colab": {
          "base_uri": "https://localhost:8080/"
        },
        "id": "x4TaPb1R5MVD",
        "outputId": "70e7ec40-085e-4927-9ad5-e980d6c9ea45"
      },
      "source": [
        "tab = np.vstack([u, v])\n",
        "tab"
      ],
      "execution_count": null,
      "outputs": [
        {
          "output_type": "execute_result",
          "data": {
            "text/plain": [
              "array([[1, 5, 6],\n",
              "       [7, 8, 9]])"
            ]
          },
          "metadata": {
            "tags": []
          },
          "execution_count": 39
        }
      ]
    },
    {
      "cell_type": "code",
      "metadata": {
        "colab": {
          "base_uri": "https://localhost:8080/"
        },
        "id": "VcAdRtL85MLK",
        "outputId": "bfa955df-3cf4-4eeb-8d71-d9d31f169b95"
      },
      "source": [
        "np.hstack([u, v])"
      ],
      "execution_count": null,
      "outputs": [
        {
          "output_type": "execute_result",
          "data": {
            "text/plain": [
              "array([1, 5, 6, 7, 8, 9])"
            ]
          },
          "metadata": {
            "tags": []
          },
          "execution_count": 38
        }
      ]
    },
    {
      "cell_type": "code",
      "metadata": {
        "colab": {
          "base_uri": "https://localhost:8080/"
        },
        "id": "t0uQwLAl5cJa",
        "outputId": "eb3f4b57-fab5-4b2d-dcc0-f18c1579d4e7"
      },
      "source": [
        "tab.reshape((3, 2))"
      ],
      "execution_count": null,
      "outputs": [
        {
          "output_type": "execute_result",
          "data": {
            "text/plain": [
              "array([[1, 5],\n",
              "       [6, 7],\n",
              "       [8, 9]])"
            ]
          },
          "metadata": {
            "tags": []
          },
          "execution_count": 40
        }
      ]
    },
    {
      "cell_type": "code",
      "metadata": {
        "colab": {
          "base_uri": "https://localhost:8080/"
        },
        "id": "Gph6fEeg5b9K",
        "outputId": "0bae2212-5474-46ff-c819-406a34a76410"
      },
      "source": [
        "np.vstack([tab, tab])"
      ],
      "execution_count": null,
      "outputs": [
        {
          "output_type": "execute_result",
          "data": {
            "text/plain": [
              "array([[1, 5, 6],\n",
              "       [7, 8, 9],\n",
              "       [1, 5, 6],\n",
              "       [7, 8, 9]])"
            ]
          },
          "metadata": {
            "tags": []
          },
          "execution_count": 41
        }
      ]
    },
    {
      "cell_type": "code",
      "metadata": {
        "colab": {
          "base_uri": "https://localhost:8080/"
        },
        "id": "VUQaxj_p5L-h",
        "outputId": "6fe747c5-d68c-4ee1-ece1-b0e12fa80328"
      },
      "source": [
        "np.hstack([tab, tab])"
      ],
      "execution_count": null,
      "outputs": [
        {
          "output_type": "execute_result",
          "data": {
            "text/plain": [
              "array([[1, 5, 6, 1, 5, 6],\n",
              "       [7, 8, 9, 7, 8, 9]])"
            ]
          },
          "metadata": {
            "tags": []
          },
          "execution_count": 42
        }
      ]
    },
    {
      "cell_type": "code",
      "metadata": {
        "id": "5r9vOWEl58aF"
      },
      "source": [
        ""
      ],
      "execution_count": null,
      "outputs": []
    },
    {
      "cell_type": "code",
      "metadata": {
        "colab": {
          "base_uri": "https://localhost:8080/"
        },
        "id": "VOYF3v3458CL",
        "outputId": "88c54a7f-3a13-4f9f-cef3-c9006e0f8a79"
      },
      "source": [
        "paul = np.array([5, 9, 25])\n",
        "paul.shape"
      ],
      "execution_count": null,
      "outputs": [
        {
          "output_type": "execute_result",
          "data": {
            "text/plain": [
              "(3,)"
            ]
          },
          "metadata": {
            "tags": []
          },
          "execution_count": 43
        }
      ]
    },
    {
      "cell_type": "code",
      "metadata": {
        "colab": {
          "base_uri": "https://localhost:8080/"
        },
        "id": "T9xAnZf_6IEB",
        "outputId": "26c0c831-5302-43fe-96c7-a046c2ff2f21"
      },
      "source": [
        "paul = paul.reshape((1,3))\n",
        "paul"
      ],
      "execution_count": null,
      "outputs": [
        {
          "output_type": "execute_result",
          "data": {
            "text/plain": [
              "array([[ 5,  9, 25]])"
            ]
          },
          "metadata": {
            "tags": []
          },
          "execution_count": 45
        }
      ]
    },
    {
      "cell_type": "code",
      "metadata": {
        "colab": {
          "base_uri": "https://localhost:8080/"
        },
        "id": "u2fsmg1M6H4a",
        "outputId": "ba55eb80-2830-4349-ac88-8b9b4d1cc408"
      },
      "source": [
        "np.vstack([paul, paul])"
      ],
      "execution_count": null,
      "outputs": [
        {
          "output_type": "execute_result",
          "data": {
            "text/plain": [
              "array([[ 5,  9, 25],\n",
              "       [ 5,  9, 25]])"
            ]
          },
          "metadata": {
            "tags": []
          },
          "execution_count": 46
        }
      ]
    },
    {
      "cell_type": "code",
      "metadata": {
        "colab": {
          "base_uri": "https://localhost:8080/"
        },
        "id": "TAtucWcL55PL",
        "outputId": "d6a1e537-9bae-4a08-c040-0c45a91f49a2"
      },
      "source": [
        "np.hstack([paul, paul])"
      ],
      "execution_count": null,
      "outputs": [
        {
          "output_type": "execute_result",
          "data": {
            "text/plain": [
              "array([[ 5,  9, 25,  5,  9, 25]])"
            ]
          },
          "metadata": {
            "tags": []
          },
          "execution_count": 47
        }
      ]
    },
    {
      "cell_type": "code",
      "metadata": {
        "colab": {
          "base_uri": "https://localhost:8080/"
        },
        "id": "xwc6esNZ549D",
        "outputId": "13c5fa45-9031-4b91-b06b-a95d7dd32706"
      },
      "source": [
        "np.hstack([paul, paul]).shape"
      ],
      "execution_count": null,
      "outputs": [
        {
          "output_type": "execute_result",
          "data": {
            "text/plain": [
              "(1, 6)"
            ]
          },
          "metadata": {
            "tags": []
          },
          "execution_count": 48
        }
      ]
    },
    {
      "cell_type": "code",
      "metadata": {
        "colab": {
          "base_uri": "https://localhost:8080/"
        },
        "id": "gFg0um6e6ivb",
        "outputId": "2c914247-ec48-47b6-976f-e1674c6ea7bc"
      },
      "source": [
        "paul"
      ],
      "execution_count": null,
      "outputs": [
        {
          "output_type": "execute_result",
          "data": {
            "text/plain": [
              "array([[ 5,  9, 25]])"
            ]
          },
          "metadata": {
            "tags": []
          },
          "execution_count": 49
        }
      ]
    },
    {
      "cell_type": "code",
      "metadata": {
        "colab": {
          "base_uri": "https://localhost:8080/"
        },
        "id": "noQuCv636jMg",
        "outputId": "60bd70e5-cb46-4783-8917-3ec99411e4dd"
      },
      "source": [
        "paul.shape"
      ],
      "execution_count": null,
      "outputs": [
        {
          "output_type": "execute_result",
          "data": {
            "text/plain": [
              "(1, 3)"
            ]
          },
          "metadata": {
            "tags": []
          },
          "execution_count": 50
        }
      ]
    },
    {
      "cell_type": "code",
      "metadata": {
        "colab": {
          "base_uri": "https://localhost:8080/"
        },
        "id": "7HYPir3a6jlK",
        "outputId": "6faa7dfe-8055-493b-97ea-7486eebeb32e"
      },
      "source": [
        "x = np.random.randint(16, size=(1, 3))\n",
        "x"
      ],
      "execution_count": null,
      "outputs": [
        {
          "output_type": "execute_result",
          "data": {
            "text/plain": [
              "array([[ 4, 15, 15]])"
            ]
          },
          "metadata": {
            "tags": []
          },
          "execution_count": 52
        }
      ]
    },
    {
      "cell_type": "code",
      "metadata": {
        "colab": {
          "base_uri": "https://localhost:8080/"
        },
        "id": "HmNtF7Mc7pzy",
        "outputId": "a21b20b9-8e33-48e9-8936-fb6ab5e6955e"
      },
      "source": [
        "y = np.vstack([paul, x])\n",
        "y\n",
        "# (1, 3)\n",
        "# (1, 3)"
      ],
      "execution_count": null,
      "outputs": [
        {
          "output_type": "execute_result",
          "data": {
            "text/plain": [
              "array([[ 5,  9, 25],\n",
              "       [ 4, 15, 15]])"
            ]
          },
          "metadata": {
            "tags": []
          },
          "execution_count": 55
        }
      ]
    },
    {
      "cell_type": "code",
      "metadata": {
        "id": "bsbo8w5u78Q-"
      },
      "source": [
        "# (2, 3)\n",
        "# (1, 3)"
      ],
      "execution_count": null,
      "outputs": []
    },
    {
      "cell_type": "code",
      "metadata": {
        "colab": {
          "base_uri": "https://localhost:8080/"
        },
        "id": "fgpl5LNn8XfE",
        "outputId": "007ed69d-31e3-40bd-efbb-6df87e3d45fb"
      },
      "source": [
        "z = np.vstack([y, x])\n",
        "z"
      ],
      "execution_count": null,
      "outputs": [
        {
          "output_type": "execute_result",
          "data": {
            "text/plain": [
              "array([[ 5,  9, 25],\n",
              "       [ 4, 15, 15],\n",
              "       [ 4, 15, 15]])"
            ]
          },
          "metadata": {
            "tags": []
          },
          "execution_count": 57
        }
      ]
    },
    {
      "cell_type": "code",
      "metadata": {
        "colab": {
          "base_uri": "https://localhost:8080/"
        },
        "id": "3zeD-U2j8mQE",
        "outputId": "0eb023f9-4e92-403f-cade-d5ba45adb572"
      },
      "source": [
        "np.hstack([z, z])"
      ],
      "execution_count": null,
      "outputs": [
        {
          "output_type": "execute_result",
          "data": {
            "text/plain": [
              "array([[ 5,  9, 25,  5,  9, 25],\n",
              "       [ 4, 15, 15,  4, 15, 15],\n",
              "       [ 4, 15, 15,  4, 15, 15]])"
            ]
          },
          "metadata": {
            "tags": []
          },
          "execution_count": 58
        }
      ]
    },
    {
      "cell_type": "code",
      "metadata": {
        "id": "5TmUZbja6j9c"
      },
      "source": [
        "z z # (3, 3) (3,3)"
      ],
      "execution_count": null,
      "outputs": []
    },
    {
      "cell_type": "code",
      "metadata": {
        "id": "K58EwSe26kTb"
      },
      "source": [
        ""
      ],
      "execution_count": null,
      "outputs": []
    },
    {
      "cell_type": "code",
      "metadata": {
        "id": "KtGU05rA4VYj"
      },
      "source": [
        ""
      ],
      "execution_count": null,
      "outputs": []
    },
    {
      "cell_type": "markdown",
      "metadata": {
        "id": "CboVPutwZQQg"
      },
      "source": [
        "# Calcul sur les tableaux avec Numpy "
      ]
    },
    {
      "cell_type": "markdown",
      "metadata": {
        "id": "6IPwr1n3ZQQg"
      },
      "source": [
        "## Tableau mieux que les listes ?"
      ]
    },
    {
      "cell_type": "code",
      "metadata": {
        "colab": {
          "base_uri": "https://localhost:8080/"
        },
        "id": "9ZCldybL8wX-",
        "outputId": "4cfa8ccb-54f4-4e76-8a09-2e88747de967"
      },
      "source": [
        "nombres = list(range(2, 9))\n",
        "nombres"
      ],
      "execution_count": null,
      "outputs": [
        {
          "output_type": "execute_result",
          "data": {
            "text/plain": [
              "[2, 3, 4, 5, 6, 7, 8]"
            ]
          },
          "metadata": {
            "tags": []
          },
          "execution_count": 59
        }
      ]
    },
    {
      "cell_type": "code",
      "metadata": {
        "id": "bLZFpnb58wM1"
      },
      "source": [
        "output = np.empty(len(nombres))"
      ],
      "execution_count": null,
      "outputs": []
    },
    {
      "cell_type": "code",
      "metadata": {
        "colab": {
          "base_uri": "https://localhost:8080/"
        },
        "id": "2EiPR67S8v_C",
        "outputId": "96578247-634b-473d-88de-d290d6f8005f"
      },
      "source": [
        "output"
      ],
      "execution_count": null,
      "outputs": [
        {
          "output_type": "execute_result",
          "data": {
            "text/plain": [
              "array([2.35071217e-316, 2.07955588e-312, 2.14321575e-312, 6.79038654e-313,\n",
              "       6.79038653e-313, 1.87422342e+261, 1.26366678e-306])"
            ]
          },
          "metadata": {
            "tags": []
          },
          "execution_count": 61
        }
      ]
    },
    {
      "cell_type": "code",
      "metadata": {
        "colab": {
          "base_uri": "https://localhost:8080/"
        },
        "id": "n5uUO2B_9MMF",
        "outputId": "fb951907-eff7-47aa-fa0f-188898f99921"
      },
      "source": [
        "for i, n in enumerate(nombres):\n",
        "  output[i] = 1 / n\n",
        "output"
      ],
      "execution_count": null,
      "outputs": [
        {
          "output_type": "execute_result",
          "data": {
            "text/plain": [
              "array([0.5       , 0.33333333, 0.25      , 0.2       , 0.16666667,\n",
              "       0.14285714, 0.125     ])"
            ]
          },
          "metadata": {
            "tags": []
          },
          "execution_count": 62
        }
      ]
    },
    {
      "cell_type": "code",
      "metadata": {
        "colab": {
          "base_uri": "https://localhost:8080/"
        },
        "id": "6sKjWFUv9ipb",
        "outputId": "2c31468f-29df-44d3-9eac-f61a23a1e522"
      },
      "source": [
        "nombres_tab = np.array(nombres)\n",
        "nombres_tab"
      ],
      "execution_count": null,
      "outputs": [
        {
          "output_type": "execute_result",
          "data": {
            "text/plain": [
              "array([2, 3, 4, 5, 6, 7, 8])"
            ]
          },
          "metadata": {
            "tags": []
          },
          "execution_count": 63
        }
      ]
    },
    {
      "cell_type": "code",
      "metadata": {
        "colab": {
          "base_uri": "https://localhost:8080/"
        },
        "id": "R3s6Ae-E9iZR",
        "outputId": "470f2483-0d6c-4825-f400-8c8e4f923ab5"
      },
      "source": [
        "1 / nombres_tab"
      ],
      "execution_count": null,
      "outputs": [
        {
          "output_type": "execute_result",
          "data": {
            "text/plain": [
              "array([0.5       , 0.33333333, 0.25      , 0.2       , 0.16666667,\n",
              "       0.14285714, 0.125     ])"
            ]
          },
          "metadata": {
            "tags": []
          },
          "execution_count": 64
        }
      ]
    },
    {
      "cell_type": "code",
      "metadata": {
        "id": "mvY-Jhug-KcI"
      },
      "source": [
        "import time"
      ],
      "execution_count": null,
      "outputs": []
    },
    {
      "cell_type": "code",
      "metadata": {
        "colab": {
          "base_uri": "https://localhost:8080/"
        },
        "id": "1rJfFbX3-NGY",
        "outputId": "648126a7-b8b0-4f86-e982-15abd8ebdd82"
      },
      "source": [
        "time.time()"
      ],
      "execution_count": null,
      "outputs": [
        {
          "output_type": "execute_result",
          "data": {
            "text/plain": [
              "1612994661.8269765"
            ]
          },
          "metadata": {
            "tags": []
          },
          "execution_count": 67
        }
      ]
    },
    {
      "cell_type": "code",
      "metadata": {
        "colab": {
          "base_uri": "https://localhost:8080/"
        },
        "id": "6LPopZZZ9iJs",
        "outputId": "54aade67-4eb9-4d5a-b778-4fa662e224bb"
      },
      "source": [
        "\n",
        "nombres = list(range(2, 10_000_000))\n",
        "output = np.empty(len(nombres))\n",
        "debut = time.time()\n",
        "for i, n in enumerate(nombres):\n",
        "  output[i] = 1 / n\n",
        "fin  = time.time()\n",
        "print(fin-debut)"
      ],
      "execution_count": null,
      "outputs": [
        {
          "output_type": "stream",
          "text": [
            "2.372166872024536\n"
          ],
          "name": "stdout"
        }
      ]
    },
    {
      "cell_type": "code",
      "metadata": {
        "id": "qJpt_EZX_JIF"
      },
      "source": [
        "import numpy as np\n",
        "import time"
      ],
      "execution_count": null,
      "outputs": []
    },
    {
      "cell_type": "code",
      "metadata": {
        "colab": {
          "base_uri": "https://localhost:8080/"
        },
        "id": "Nf9GmP1G9L61",
        "outputId": "3cd81d78-dfcd-41b4-9382-728143414193"
      },
      "source": [
        "debut = time.time()\n",
        "1 / np.arange(2, 10_000_000)\n",
        "fin  = time.time()\n",
        "print(fin-debut)"
      ],
      "execution_count": null,
      "outputs": [
        {
          "output_type": "stream",
          "text": [
            "0.07444596290588379\n"
          ],
          "name": "stdout"
        }
      ]
    },
    {
      "cell_type": "code",
      "metadata": {
        "id": "Y1zTp0CD9LtU"
      },
      "source": [
        ""
      ],
      "execution_count": null,
      "outputs": []
    },
    {
      "cell_type": "code",
      "metadata": {
        "id": "PGC0jRGo_jzG"
      },
      "source": [
        ""
      ],
      "execution_count": null,
      "outputs": []
    },
    {
      "cell_type": "markdown",
      "metadata": {
        "id": "vj9wz2TyZQQg"
      },
      "source": [
        "## Vectorisation*"
      ]
    },
    {
      "cell_type": "code",
      "metadata": {
        "id": "wzSZsj42_kEv"
      },
      "source": [
        ""
      ],
      "execution_count": null,
      "outputs": []
    },
    {
      "cell_type": "code",
      "metadata": {
        "colab": {
          "base_uri": "https://localhost:8080/"
        },
        "id": "amBMJ464_kSU",
        "outputId": "b70a5bfa-6757-45a7-eb86-3ed3eb06cedc"
      },
      "source": [
        "l = [5, 8, 9]\n",
        "[n**2 for n in l]"
      ],
      "execution_count": null,
      "outputs": [
        {
          "output_type": "execute_result",
          "data": {
            "text/plain": [
              "[25, 64, 81]"
            ]
          },
          "metadata": {
            "tags": []
          },
          "execution_count": 4
        }
      ]
    },
    {
      "cell_type": "code",
      "metadata": {
        "colab": {
          "base_uri": "https://localhost:8080/"
        },
        "id": "seAxcpyE_w5l",
        "outputId": "c5f90b5a-2ebf-4b98-b5a2-1f3de696ca80"
      },
      "source": [
        "np.array(l) ** 2"
      ],
      "execution_count": null,
      "outputs": [
        {
          "output_type": "execute_result",
          "data": {
            "text/plain": [
              "array([25, 64, 81])"
            ]
          },
          "metadata": {
            "tags": []
          },
          "execution_count": 5
        }
      ]
    },
    {
      "cell_type": "code",
      "metadata": {
        "id": "j-CB_Zok_wvs"
      },
      "source": [
        ""
      ],
      "execution_count": null,
      "outputs": []
    },
    {
      "cell_type": "code",
      "metadata": {
        "id": "2HTf8_RL8vzf"
      },
      "source": [
        ""
      ],
      "execution_count": null,
      "outputs": []
    },
    {
      "cell_type": "markdown",
      "metadata": {
        "id": "S6_oI6dVZQQh"
      },
      "source": [
        "# Aggregation"
      ]
    },
    {
      "cell_type": "code",
      "metadata": {
        "colab": {
          "base_uri": "https://localhost:8080/"
        },
        "id": "la-o_5J4_8NT",
        "outputId": "ddce1a73-2f53-4a95-f26c-6a1814920ed9"
      },
      "source": [
        "l"
      ],
      "execution_count": null,
      "outputs": [
        {
          "output_type": "execute_result",
          "data": {
            "text/plain": [
              "[5, 8, 9]"
            ]
          },
          "metadata": {
            "tags": []
          },
          "execution_count": 6
        }
      ]
    },
    {
      "cell_type": "code",
      "metadata": {
        "colab": {
          "base_uri": "https://localhost:8080/"
        },
        "id": "Q5NJKZsK_8HH",
        "outputId": "a30f4a22-3493-4b30-dffb-604678f717a6"
      },
      "source": [
        "min(l)"
      ],
      "execution_count": null,
      "outputs": [
        {
          "output_type": "execute_result",
          "data": {
            "text/plain": [
              "5"
            ]
          },
          "metadata": {
            "tags": []
          },
          "execution_count": 7
        }
      ]
    },
    {
      "cell_type": "code",
      "metadata": {
        "colab": {
          "base_uri": "https://localhost:8080/"
        },
        "id": "H-yzsFMq_-5G",
        "outputId": "71fc0bcd-5202-4fc0-e3ab-38ab9c4ff742"
      },
      "source": [
        "np.min(l)"
      ],
      "execution_count": null,
      "outputs": [
        {
          "output_type": "execute_result",
          "data": {
            "text/plain": [
              "5"
            ]
          },
          "metadata": {
            "tags": []
          },
          "execution_count": 8
        }
      ]
    },
    {
      "cell_type": "code",
      "metadata": {
        "colab": {
          "base_uri": "https://localhost:8080/"
        },
        "id": "fpRQfn22_78-",
        "outputId": "528f6080-e784-4a56-825e-92978e7fadf0"
      },
      "source": [
        "np.array(l).min()"
      ],
      "execution_count": null,
      "outputs": [
        {
          "output_type": "execute_result",
          "data": {
            "text/plain": [
              "5"
            ]
          },
          "metadata": {
            "tags": []
          },
          "execution_count": 10
        }
      ]
    },
    {
      "cell_type": "code",
      "metadata": {
        "id": "8sHbl53WAcSE"
      },
      "source": [
        "np.random.seed(9)"
      ],
      "execution_count": null,
      "outputs": []
    },
    {
      "cell_type": "code",
      "metadata": {
        "colab": {
          "base_uri": "https://localhost:8080/"
        },
        "id": "a_UsmV6TAHaO",
        "outputId": "7123a72b-6cc6-4202-8c1d-303f42f30c50"
      },
      "source": [
        "np.random.seed(0)\n",
        "tab = np.random.randint(15, size=(5, 3))\n",
        "tab"
      ],
      "execution_count": null,
      "outputs": [
        {
          "output_type": "execute_result",
          "data": {
            "text/plain": [
              "array([[12,  5,  0],\n",
              "       [ 3, 11,  3],\n",
              "       [ 7,  9,  3],\n",
              "       [ 5,  2,  4],\n",
              "       [ 7,  6,  8]])"
            ]
          },
          "metadata": {
            "tags": []
          },
          "execution_count": 27
        }
      ]
    },
    {
      "cell_type": "code",
      "metadata": {
        "colab": {
          "base_uri": "https://localhost:8080/"
        },
        "id": "s9G6eM4oBNyd",
        "outputId": "58a7bf26-1b90-48df-d091-448b7253f3ad"
      },
      "source": [
        "np.min(tab)"
      ],
      "execution_count": null,
      "outputs": [
        {
          "output_type": "execute_result",
          "data": {
            "text/plain": [
              "0"
            ]
          },
          "metadata": {
            "tags": []
          },
          "execution_count": 30
        }
      ]
    },
    {
      "cell_type": "code",
      "metadata": {
        "colab": {
          "base_uri": "https://localhost:8080/"
        },
        "id": "2BdHI7Q8BAfv",
        "outputId": "d0b3bfa7-294f-44a6-a069-8026efffc3ab"
      },
      "source": [
        "tab.min()"
      ],
      "execution_count": null,
      "outputs": [
        {
          "output_type": "execute_result",
          "data": {
            "text/plain": [
              "0"
            ]
          },
          "metadata": {
            "tags": []
          },
          "execution_count": 29
        }
      ]
    },
    {
      "cell_type": "code",
      "metadata": {
        "colab": {
          "base_uri": "https://localhost:8080/"
        },
        "id": "bTcBPmsEBARm",
        "outputId": "548c3607-e845-4e3a-cb38-b75c0962818a"
      },
      "source": [
        "np.min(tab, axis= 0)"
      ],
      "execution_count": null,
      "outputs": [
        {
          "output_type": "execute_result",
          "data": {
            "text/plain": [
              "array([3, 2, 0])"
            ]
          },
          "metadata": {
            "tags": []
          },
          "execution_count": 32
        }
      ]
    },
    {
      "cell_type": "code",
      "metadata": {
        "colab": {
          "base_uri": "https://localhost:8080/"
        },
        "id": "cAQuVOe9BtJ9",
        "outputId": "f3c5860a-f625-47fd-bc0f-db0ab17d8c5b"
      },
      "source": [
        "np.mean(tab, axis= 1)"
      ],
      "execution_count": null,
      "outputs": [
        {
          "output_type": "execute_result",
          "data": {
            "text/plain": [
              "array([5.66666667, 5.66666667, 6.33333333, 3.66666667, 7.        ])"
            ]
          },
          "metadata": {
            "tags": []
          },
          "execution_count": 34
        }
      ]
    },
    {
      "cell_type": "code",
      "metadata": {
        "id": "aaiemzqgBs8F"
      },
      "source": [
        ""
      ],
      "execution_count": null,
      "outputs": []
    },
    {
      "cell_type": "code",
      "metadata": {
        "colab": {
          "base_uri": "https://localhost:8080/"
        },
        "id": "L6hrBDEkBsps",
        "outputId": "6986e484-c4b6-49c8-e125-e392e6bcc6a9"
      },
      "source": [
        "notes = np.random.randint(19, size=(10, 3))\n",
        "notes"
      ],
      "execution_count": null,
      "outputs": [
        {
          "output_type": "execute_result",
          "data": {
            "text/plain": [
              "array([[12,  1,  6],\n",
              "       [ 7, 14, 17],\n",
              "       [ 5, 13,  8],\n",
              "       [ 9, 16,  5],\n",
              "       [15, 15,  0],\n",
              "       [18,  3, 17],\n",
              "       [14,  7,  0],\n",
              "       [ 1,  9,  0],\n",
              "       [10,  3, 11],\n",
              "       [18,  2,  0]])"
            ]
          },
          "metadata": {
            "tags": []
          },
          "execution_count": 36
        }
      ]
    },
    {
      "cell_type": "code",
      "metadata": {
        "colab": {
          "base_uri": "https://localhost:8080/"
        },
        "id": "4b2nmedpCKcm",
        "outputId": "4381ee52-719f-4f4e-bbbe-eebada69e7fd"
      },
      "source": [
        "notes.mean(axis=0)\n",
        "#np.mean(notes, axis=0)"
      ],
      "execution_count": null,
      "outputs": [
        {
          "output_type": "execute_result",
          "data": {
            "text/plain": [
              "array([10.9,  8.3,  6.4])"
            ]
          },
          "metadata": {
            "tags": []
          },
          "execution_count": 37
        }
      ]
    },
    {
      "cell_type": "code",
      "metadata": {
        "colab": {
          "base_uri": "https://localhost:8080/"
        },
        "id": "wex20seIBsbt",
        "outputId": "6716266d-f9fa-4fb6-ccc3-1f8c49b83f24"
      },
      "source": [
        "moy_per_student = np.mean(notes, axis=1)\n",
        "moy_per_student"
      ],
      "execution_count": null,
      "outputs": [
        {
          "output_type": "execute_result",
          "data": {
            "text/plain": [
              "array([ 6.33333333, 12.66666667,  8.66666667, 10.        , 10.        ,\n",
              "       12.66666667,  7.        ,  3.33333333,  8.        ,  6.66666667])"
            ]
          },
          "metadata": {
            "tags": []
          },
          "execution_count": 39
        }
      ]
    },
    {
      "cell_type": "code",
      "metadata": {
        "colab": {
          "base_uri": "https://localhost:8080/"
        },
        "id": "_NujrtSUCvcJ",
        "outputId": "1b6e583d-6427-47e6-f41f-f0912dda7424"
      },
      "source": [
        "moy_per_student >= 10"
      ],
      "execution_count": null,
      "outputs": [
        {
          "output_type": "execute_result",
          "data": {
            "text/plain": [
              "array([False,  True, False,  True,  True,  True, False, False, False,\n",
              "       False])"
            ]
          },
          "metadata": {
            "tags": []
          },
          "execution_count": 40
        }
      ]
    },
    {
      "cell_type": "code",
      "metadata": {
        "colab": {
          "base_uri": "https://localhost:8080/"
        },
        "id": "lnTunHQkCvOm",
        "outputId": "4b1f0f82-bf9a-4451-d54c-58f77aca363b"
      },
      "source": [
        "np.mean([0, 1, 1, 0])"
      ],
      "execution_count": null,
      "outputs": [
        {
          "output_type": "execute_result",
          "data": {
            "text/plain": [
              "0.5"
            ]
          },
          "metadata": {
            "tags": []
          },
          "execution_count": 41
        }
      ]
    },
    {
      "cell_type": "code",
      "metadata": {
        "colab": {
          "base_uri": "https://localhost:8080/"
        },
        "id": "xCabiQsJAG3o",
        "outputId": "0a91e0e5-b096-4d9f-b002-3df6ee8cf26c"
      },
      "source": [
        "np.sum([0, 1, 1, 0])"
      ],
      "execution_count": null,
      "outputs": [
        {
          "output_type": "execute_result",
          "data": {
            "text/plain": [
              "2"
            ]
          },
          "metadata": {
            "tags": []
          },
          "execution_count": 42
        }
      ]
    },
    {
      "cell_type": "code",
      "metadata": {
        "colab": {
          "base_uri": "https://localhost:8080/"
        },
        "id": "znvo0KNhAGsE",
        "outputId": "5bdf7533-9378-497f-e611-65ad6c5837d8"
      },
      "source": [
        "np.sum([False,  True, True, False])"
      ],
      "execution_count": null,
      "outputs": [
        {
          "output_type": "execute_result",
          "data": {
            "text/plain": [
              "2"
            ]
          },
          "metadata": {
            "tags": []
          },
          "execution_count": 43
        }
      ]
    },
    {
      "cell_type": "code",
      "metadata": {
        "colab": {
          "base_uri": "https://localhost:8080/"
        },
        "id": "ckzo1UH3DjPt",
        "outputId": "280c4e65-fb6e-4d17-8ac6-4cc399b8e718"
      },
      "source": [
        "np.sum(moy_per_student >= 10)"
      ],
      "execution_count": null,
      "outputs": [
        {
          "output_type": "execute_result",
          "data": {
            "text/plain": [
              "4"
            ]
          },
          "metadata": {
            "tags": []
          },
          "execution_count": 44
        }
      ]
    },
    {
      "cell_type": "code",
      "metadata": {
        "id": "m2fTK0nrDjGz"
      },
      "source": [
        ""
      ],
      "execution_count": null,
      "outputs": []
    },
    {
      "cell_type": "code",
      "metadata": {
        "id": "vtAbpH7v_7xn"
      },
      "source": [
        ""
      ],
      "execution_count": null,
      "outputs": []
    },
    {
      "cell_type": "markdown",
      "metadata": {
        "id": "Ql6v2ygMZQQh"
      },
      "source": [
        "# Diffusion (broadcasting) avec Numpy"
      ]
    },
    {
      "cell_type": "code",
      "metadata": {
        "id": "tfQgERdqZQQh"
      },
      "source": [
        "import numpy as np"
      ],
      "execution_count": null,
      "outputs": []
    },
    {
      "cell_type": "code",
      "metadata": {
        "id": "RQ_XqA8iZQQi",
        "colab": {
          "base_uri": "https://localhost:8080/"
        },
        "outputId": "e409996e-9557-4fb4-c206-7abef5705314"
      },
      "source": [
        "a = np.array([0, 1, 2])\n",
        "b = np.array([5, 5, 5])\n",
        "a + b"
      ],
      "execution_count": null,
      "outputs": [
        {
          "output_type": "execute_result",
          "data": {
            "text/plain": [
              "array([5, 6, 7])"
            ]
          },
          "metadata": {
            "tags": []
          },
          "execution_count": 2
        }
      ]
    },
    {
      "cell_type": "code",
      "metadata": {
        "colab": {
          "base_uri": "https://localhost:8080/"
        },
        "id": "6rc9l2JQtrWT",
        "outputId": "cb7b858f-22b2-4c7a-b0d5-cb58fec84b2d"
      },
      "source": [
        "matrice = np.random.randint(20, size=(3, 3))\n",
        "matrice"
      ],
      "execution_count": null,
      "outputs": [
        {
          "output_type": "execute_result",
          "data": {
            "text/plain": [
              "array([[ 0,  7,  0],\n",
              "       [10,  4,  8],\n",
              "       [18,  4, 10]])"
            ]
          },
          "metadata": {
            "tags": []
          },
          "execution_count": 3
        }
      ]
    },
    {
      "cell_type": "code",
      "metadata": {
        "id": "mdwVmI0-uD2f"
      },
      "source": [
        "        [0, 1, 2]     "
      ],
      "execution_count": null,
      "outputs": []
    },
    {
      "cell_type": "code",
      "metadata": {
        "colab": {
          "base_uri": "https://localhost:8080/"
        },
        "id": "FlEduyQdt6Lk",
        "outputId": "5ea035df-d95b-4126-ee22-49b2e0ffa5ce"
      },
      "source": [
        "matrice + a \n",
        "# (3, 3)\n",
        "# (3)"
      ],
      "execution_count": null,
      "outputs": [
        {
          "output_type": "execute_result",
          "data": {
            "text/plain": [
              "array([[ 0,  8,  2],\n",
              "       [10,  5, 10],\n",
              "       [18,  5, 12]])"
            ]
          },
          "metadata": {
            "tags": []
          },
          "execution_count": 4
        }
      ]
    },
    {
      "cell_type": "code",
      "metadata": {
        "colab": {
          "base_uri": "https://localhost:8080/"
        },
        "id": "VBbN_fH7uWGX",
        "outputId": "346d8d23-c484-4367-fada-c58142914221"
      },
      "source": [
        "np.vstack([a, a, a])"
      ],
      "execution_count": null,
      "outputs": [
        {
          "output_type": "execute_result",
          "data": {
            "text/plain": [
              "array([[0, 1, 2],\n",
              "       [0, 1, 2],\n",
              "       [0, 1, 2]])"
            ]
          },
          "metadata": {
            "tags": []
          },
          "execution_count": 6
        }
      ]
    },
    {
      "cell_type": "code",
      "metadata": {
        "colab": {
          "base_uri": "https://localhost:8080/"
        },
        "id": "Ql85SO87uijj",
        "outputId": "0dd66ee6-b47d-4c19-b99c-cec938d81804"
      },
      "source": [
        "matrice + np.vstack([a, a, a])"
      ],
      "execution_count": null,
      "outputs": [
        {
          "output_type": "execute_result",
          "data": {
            "text/plain": [
              "array([[ 0,  8,  2],\n",
              "       [10,  5, 10],\n",
              "       [18,  5, 12]])"
            ]
          },
          "metadata": {
            "tags": []
          },
          "execution_count": 7
        }
      ]
    },
    {
      "cell_type": "code",
      "metadata": {
        "colab": {
          "base_uri": "https://localhost:8080/"
        },
        "id": "jTsEaSPVumxL",
        "outputId": "77e8719d-14d0-41f2-efb1-a4bf93a8e413"
      },
      "source": [
        "a"
      ],
      "execution_count": null,
      "outputs": [
        {
          "output_type": "execute_result",
          "data": {
            "text/plain": [
              "array([0, 1, 2])"
            ]
          },
          "metadata": {
            "tags": []
          },
          "execution_count": 8
        }
      ]
    },
    {
      "cell_type": "code",
      "metadata": {
        "colab": {
          "base_uri": "https://localhost:8080/"
        },
        "id": "jTBGJcPku0jq",
        "outputId": "fe910aac-9dac-4640-cdac-d698b218cb02"
      },
      "source": [
        "c = a.reshape((3,1))\n",
        "c"
      ],
      "execution_count": null,
      "outputs": [
        {
          "output_type": "execute_result",
          "data": {
            "text/plain": [
              "array([[0],\n",
              "       [1],\n",
              "       [2]])"
            ]
          },
          "metadata": {
            "tags": []
          },
          "execution_count": 9
        }
      ]
    },
    {
      "cell_type": "code",
      "metadata": {
        "colab": {
          "base_uri": "https://localhost:8080/"
        },
        "id": "eX71Iv1Uu7Ph",
        "outputId": "4dd8ba15-fc37-49a4-f3f1-9262266f04e1"
      },
      "source": [
        "a + c\n",
        "# (3,) -->   (1, 3) --> (3, 3)\n",
        "# (3, 1) --> (3, 1) --> (3, 3)"
      ],
      "execution_count": null,
      "outputs": [
        {
          "output_type": "execute_result",
          "data": {
            "text/plain": [
              "array([[0, 1, 2],\n",
              "       [1, 2, 3],\n",
              "       [2, 3, 4]])"
            ]
          },
          "metadata": {
            "tags": []
          },
          "execution_count": 11
        }
      ]
    },
    {
      "cell_type": "code",
      "metadata": {
        "colab": {
          "base_uri": "https://localhost:8080/"
        },
        "id": "TM4lZgbSvN8r",
        "outputId": "739cc3e7-c3ca-4e23-e7ff-d76154603fe5"
      },
      "source": [
        "a.reshape((3, 1)) + c"
      ],
      "execution_count": null,
      "outputs": [
        {
          "output_type": "execute_result",
          "data": {
            "text/plain": [
              "array([[0],\n",
              "       [2],\n",
              "       [4]])"
            ]
          },
          "metadata": {
            "tags": []
          },
          "execution_count": 10
        }
      ]
    },
    {
      "cell_type": "code",
      "metadata": {
        "id": "8TB5EQQdvQ7L"
      },
      "source": [
        ""
      ],
      "execution_count": null,
      "outputs": []
    },
    {
      "cell_type": "markdown",
      "metadata": {
        "id": "9fGpVGWwwQ_D"
      },
      "source": [
        "> Règle 1 : si 2 tableaux ont des ndim différents, le shape de celui avec le ndim inférieur est augmenté par des 1 à gauches pour avoir le même ndim que l'autre"
      ]
    },
    {
      "cell_type": "code",
      "metadata": {
        "colab": {
          "base_uri": "https://localhost:8080/"
        },
        "id": "WhIfm4fZwP-9",
        "outputId": "5e6b9be5-a657-497d-f631-f008aeca39a4"
      },
      "source": [
        "m = np.random.randint(10, size=(2, 3))\n",
        "m"
      ],
      "execution_count": null,
      "outputs": [
        {
          "output_type": "execute_result",
          "data": {
            "text/plain": [
              "array([[1, 9, 0],\n",
              "       [1, 1, 3]])"
            ]
          },
          "metadata": {
            "tags": []
          },
          "execution_count": 12
        }
      ]
    },
    {
      "cell_type": "code",
      "metadata": {
        "colab": {
          "base_uri": "https://localhost:8080/"
        },
        "id": "ppHzbAMNwt7t",
        "outputId": "0bf03b46-a487-4d8d-b379-a29b75c6d7b9"
      },
      "source": [
        "a"
      ],
      "execution_count": null,
      "outputs": [
        {
          "output_type": "execute_result",
          "data": {
            "text/plain": [
              "array([0, 1, 2])"
            ]
          },
          "metadata": {
            "tags": []
          },
          "execution_count": 13
        }
      ]
    },
    {
      "cell_type": "code",
      "metadata": {
        "id": "UfrttL4MwvR8"
      },
      "source": [
        "m # (2, 3) --> (2, 3) \n",
        "a # (3)    ---> (1, 3)"
      ],
      "execution_count": null,
      "outputs": []
    },
    {
      "cell_type": "markdown",
      "metadata": {
        "id": "tmI0hukuxa-D"
      },
      "source": [
        "> Règle 2 : Si le shape de 2 tableaux n'est pas égale dans une dimension quelconque, celui qui a un 1 à cette dimension est étendu pour atteindre le nombre d'éléments que l'autre a à cette dimension"
      ]
    },
    {
      "cell_type": "code",
      "metadata": {
        "id": "Besrnbfcx2gh"
      },
      "source": [
        "m # (2, 3) --> (2, 3)  ---> (2, 3)\n",
        "a # (3)    ---> (1, 3)  ---->(2, 3) #grace à vstack"
      ],
      "execution_count": null,
      "outputs": []
    },
    {
      "cell_type": "code",
      "metadata": {
        "colab": {
          "base_uri": "https://localhost:8080/"
        },
        "id": "4oFVSRrtynMn",
        "outputId": "5b5873f7-80f1-4ea9-cbbe-41924bc0ec1a"
      },
      "source": [
        "np.vstack([a, a])"
      ],
      "execution_count": null,
      "outputs": [
        {
          "output_type": "execute_result",
          "data": {
            "text/plain": [
              "array([[0, 1, 2],\n",
              "       [0, 1, 2]])"
            ]
          },
          "metadata": {
            "tags": []
          },
          "execution_count": 17
        }
      ]
    },
    {
      "cell_type": "code",
      "metadata": {
        "colab": {
          "base_uri": "https://localhost:8080/"
        },
        "id": "sULmmcCAx2W9",
        "outputId": "1d7adc25-c963-456f-ee36-e3ef9e0249de"
      },
      "source": [
        "m"
      ],
      "execution_count": null,
      "outputs": [
        {
          "output_type": "execute_result",
          "data": {
            "text/plain": [
              "array([[1, 9, 0],\n",
              "       [1, 1, 3]])"
            ]
          },
          "metadata": {
            "tags": []
          },
          "execution_count": 14
        }
      ]
    },
    {
      "cell_type": "code",
      "metadata": {
        "colab": {
          "base_uri": "https://localhost:8080/"
        },
        "id": "9DH82bSEx2Mu",
        "outputId": "b8aabf41-c3f6-4a3c-d103-39f6a3158d54"
      },
      "source": [
        "m + a"
      ],
      "execution_count": null,
      "outputs": [
        {
          "output_type": "execute_result",
          "data": {
            "text/plain": [
              "array([[ 1, 10,  2],\n",
              "       [ 1,  2,  5]])"
            ]
          },
          "metadata": {
            "tags": []
          },
          "execution_count": 15
        }
      ]
    },
    {
      "cell_type": "code",
      "metadata": {
        "id": "rM2W-MVSxtVU"
      },
      "source": [
        "# Exemple 2"
      ],
      "execution_count": null,
      "outputs": []
    },
    {
      "cell_type": "code",
      "metadata": {
        "colab": {
          "base_uri": "https://localhost:8080/"
        },
        "id": "56g3zh-_yJNX",
        "outputId": "3a8b2212-bd3a-4c0e-bb82-e436adb6b9df"
      },
      "source": [
        "m = np.arange(3).reshape((3, 1))\n",
        "m"
      ],
      "execution_count": null,
      "outputs": [
        {
          "output_type": "execute_result",
          "data": {
            "text/plain": [
              "array([[0],\n",
              "       [1],\n",
              "       [2]])"
            ]
          },
          "metadata": {
            "tags": []
          },
          "execution_count": 18
        }
      ]
    },
    {
      "cell_type": "code",
      "metadata": {
        "colab": {
          "base_uri": "https://localhost:8080/"
        },
        "id": "xMF8iie0yJl9",
        "outputId": "af743018-33d3-42ce-efa2-1bde45c2850f"
      },
      "source": [
        "h = np.random.randint(3, size=(3,))\n",
        "h"
      ],
      "execution_count": null,
      "outputs": [
        {
          "output_type": "execute_result",
          "data": {
            "text/plain": [
              "array([0, 1, 0])"
            ]
          },
          "metadata": {
            "tags": []
          },
          "execution_count": 20
        }
      ]
    },
    {
      "cell_type": "code",
      "metadata": {
        "id": "vEDiWM3kyJtb"
      },
      "source": [
        "m.shape = (3, 1)\n",
        "h.shape = (3, )"
      ],
      "execution_count": null,
      "outputs": []
    },
    {
      "cell_type": "code",
      "metadata": {
        "id": "3PWf4RlWyJy9"
      },
      "source": [
        "# Regle 1\n",
        "m.shape = (3, 1)\n",
        "h.shape = (1, 3)"
      ],
      "execution_count": null,
      "outputs": []
    },
    {
      "cell_type": "code",
      "metadata": {
        "colab": {
          "base_uri": "https://localhost:8080/"
        },
        "id": "v70cubVXzk0v",
        "outputId": "ef342b77-38e0-478b-aed2-f386a59380ce"
      },
      "source": [
        "h.reshape((1, 3))"
      ],
      "execution_count": null,
      "outputs": [
        {
          "output_type": "execute_result",
          "data": {
            "text/plain": [
              "array([[0, 1, 0]])"
            ]
          },
          "metadata": {
            "tags": []
          },
          "execution_count": 21
        }
      ]
    },
    {
      "cell_type": "code",
      "metadata": {
        "colab": {
          "base_uri": "https://localhost:8080/"
        },
        "id": "kpvBHO9QznnN",
        "outputId": "fe933560-45f0-41b3-af81-14f501bba451"
      },
      "source": [
        "np.vstack([h.reshape((1, 3))]* 3)"
      ],
      "execution_count": null,
      "outputs": [
        {
          "output_type": "execute_result",
          "data": {
            "text/plain": [
              "array([[0, 1, 0],\n",
              "       [0, 1, 0],\n",
              "       [0, 1, 0]])"
            ]
          },
          "metadata": {
            "tags": []
          },
          "execution_count": 24
        }
      ]
    },
    {
      "cell_type": "code",
      "metadata": {
        "id": "PNFpnf2-0bAU"
      },
      "source": [
        "# Regle 2\n",
        "m.shape = (3, 1)\n",
        "h.shape = (3, 3)"
      ],
      "execution_count": null,
      "outputs": []
    },
    {
      "cell_type": "code",
      "metadata": {
        "colab": {
          "base_uri": "https://localhost:8080/"
        },
        "id": "La20Ycqq0a1Q",
        "outputId": "b0d11879-0ced-4989-deb3-82ff42ab6e4e"
      },
      "source": [
        "m"
      ],
      "execution_count": null,
      "outputs": [
        {
          "output_type": "execute_result",
          "data": {
            "text/plain": [
              "array([[0],\n",
              "       [1],\n",
              "       [2]])"
            ]
          },
          "metadata": {
            "tags": []
          },
          "execution_count": 25
        }
      ]
    },
    {
      "cell_type": "code",
      "metadata": {
        "colab": {
          "base_uri": "https://localhost:8080/"
        },
        "id": "mnuBDTK80mPb",
        "outputId": "5f35aa6f-2cf9-4efb-f3f0-31ddea141a19"
      },
      "source": [
        "np.hstack([m, m, m])"
      ],
      "execution_count": null,
      "outputs": [
        {
          "output_type": "execute_result",
          "data": {
            "text/plain": [
              "array([[0, 0, 0],\n",
              "       [1, 1, 1],\n",
              "       [2, 2, 2]])"
            ]
          },
          "metadata": {
            "tags": []
          },
          "execution_count": 26
        }
      ]
    },
    {
      "cell_type": "code",
      "metadata": {
        "id": "_Nl7FJ-f0anj"
      },
      "source": [
        "# Regle 2\n",
        "m.shape = (3, 3)\n",
        "h.shape = (3, 3)"
      ],
      "execution_count": null,
      "outputs": []
    },
    {
      "cell_type": "code",
      "metadata": {
        "colab": {
          "base_uri": "https://localhost:8080/"
        },
        "id": "QMXUT6Tz0LHv",
        "outputId": "099eb8e7-769a-49ae-d448-e23727cca8fc"
      },
      "source": [
        "np.hstack([m, m, m])"
      ],
      "execution_count": null,
      "outputs": [
        {
          "output_type": "execute_result",
          "data": {
            "text/plain": [
              "array([[0, 0, 0],\n",
              "       [1, 1, 1],\n",
              "       [2, 2, 2]])"
            ]
          },
          "metadata": {
            "tags": []
          },
          "execution_count": 27
        }
      ]
    },
    {
      "cell_type": "code",
      "metadata": {
        "colab": {
          "base_uri": "https://localhost:8080/"
        },
        "id": "HJd3LLjK0zay",
        "outputId": "2fd1e12d-2f82-456d-f570-af6a367ebabe"
      },
      "source": [
        "np.vstack([h.reshape((1, 3)),  h.reshape((1, 3)),  h.reshape((1, 3))])"
      ],
      "execution_count": null,
      "outputs": [
        {
          "output_type": "execute_result",
          "data": {
            "text/plain": [
              "array([[0, 1, 0],\n",
              "       [0, 1, 0],\n",
              "       [0, 1, 0]])"
            ]
          },
          "metadata": {
            "tags": []
          },
          "execution_count": 28
        }
      ]
    },
    {
      "cell_type": "code",
      "metadata": {
        "colab": {
          "base_uri": "https://localhost:8080/"
        },
        "id": "W1NrgBE_02YM",
        "outputId": "aef7b228-25f4-4655-d8de-3866fb0afd60"
      },
      "source": [
        "m + h"
      ],
      "execution_count": null,
      "outputs": [
        {
          "output_type": "execute_result",
          "data": {
            "text/plain": [
              "array([[0, 1, 0],\n",
              "       [1, 2, 1],\n",
              "       [2, 3, 2]])"
            ]
          },
          "metadata": {
            "tags": []
          },
          "execution_count": 29
        }
      ]
    },
    {
      "cell_type": "code",
      "metadata": {
        "id": "lyZBt4lC08Wd"
      },
      "source": [
        "# Exemple 3"
      ],
      "execution_count": null,
      "outputs": []
    },
    {
      "cell_type": "code",
      "metadata": {
        "colab": {
          "base_uri": "https://localhost:8080/"
        },
        "id": "KsNrlAKq1bSB",
        "outputId": "8d1c5aed-192f-4005-fcb7-c0de946c8c16"
      },
      "source": [
        "m = np.ones((3, 2))\n",
        "m"
      ],
      "execution_count": null,
      "outputs": [
        {
          "output_type": "execute_result",
          "data": {
            "text/plain": [
              "array([[1., 1.],\n",
              "       [1., 1.],\n",
              "       [1., 1.]])"
            ]
          },
          "metadata": {
            "tags": []
          },
          "execution_count": 30
        }
      ]
    },
    {
      "cell_type": "code",
      "metadata": {
        "colab": {
          "base_uri": "https://localhost:8080/"
        },
        "id": "5ywOZzuF1bcc",
        "outputId": "0053bbb2-aac2-4c42-f0df-2d5f1242d3e3"
      },
      "source": [
        "j = np.arange(3)\n",
        "j"
      ],
      "execution_count": null,
      "outputs": [
        {
          "output_type": "execute_result",
          "data": {
            "text/plain": [
              "array([0, 1, 2])"
            ]
          },
          "metadata": {
            "tags": []
          },
          "execution_count": 31
        }
      ]
    },
    {
      "cell_type": "code",
      "metadata": {
        "id": "j6XX7_t_1bmY"
      },
      "source": [
        "m.shape = (3, 2)\n",
        "j.shape = (3)"
      ],
      "execution_count": null,
      "outputs": []
    },
    {
      "cell_type": "code",
      "metadata": {
        "id": "A90PIf-j1xZa"
      },
      "source": [
        "Règle 1\n",
        "m.shape = (3, 2)\n",
        "j.shape = (1, 3) # j.reshape((1, 3))"
      ],
      "execution_count": null,
      "outputs": []
    },
    {
      "cell_type": "code",
      "metadata": {
        "colab": {
          "base_uri": "https://localhost:8080/"
        },
        "id": "u9hFeECQ1xm3",
        "outputId": "26cb5bf0-63e5-464b-bc97-6dddde77c0db"
      },
      "source": [
        "np.vstack([j.reshape((1, 3)),  j.reshape((1, 3)),  j.reshape((1, 3))])"
      ],
      "execution_count": null,
      "outputs": [
        {
          "output_type": "execute_result",
          "data": {
            "text/plain": [
              "array([[0, 1, 2],\n",
              "       [0, 1, 2],\n",
              "       [0, 1, 2]])"
            ]
          },
          "metadata": {
            "tags": []
          },
          "execution_count": 32
        }
      ]
    },
    {
      "cell_type": "code",
      "metadata": {
        "id": "1cV06rLn1x46"
      },
      "source": [
        "Règle 2\n",
        "m.shape = (3, 2)\n",
        "j.shape = (3, 3)"
      ],
      "execution_count": null,
      "outputs": []
    },
    {
      "cell_type": "code",
      "metadata": {
        "colab": {
          "base_uri": "https://localhost:8080/",
          "height": 164
        },
        "id": "X4Ekjhmm1yFc",
        "outputId": "9cfee74f-922e-446e-d4e7-0c8f6fe38c65"
      },
      "source": [
        "m + j"
      ],
      "execution_count": null,
      "outputs": [
        {
          "output_type": "error",
          "ename": "ValueError",
          "evalue": "ignored",
          "traceback": [
            "\u001b[0;31m---------------------------------------------------------------------------\u001b[0m",
            "\u001b[0;31mValueError\u001b[0m                                Traceback (most recent call last)",
            "\u001b[0;32m<ipython-input-33-59c7aac06f5e>\u001b[0m in \u001b[0;36m<module>\u001b[0;34m()\u001b[0m\n\u001b[0;32m----> 1\u001b[0;31m \u001b[0mm\u001b[0m \u001b[0;34m+\u001b[0m \u001b[0mj\u001b[0m\u001b[0;34m\u001b[0m\u001b[0;34m\u001b[0m\u001b[0m\n\u001b[0m",
            "\u001b[0;31mValueError\u001b[0m: operands could not be broadcast together with shapes (3,2) (3,) "
          ]
        }
      ]
    },
    {
      "cell_type": "code",
      "metadata": {
        "colab": {
          "base_uri": "https://localhost:8080/"
        },
        "id": "-Rln7uU61yU6",
        "outputId": "909c6ca0-9f20-456b-d077-e5d61c7fa944"
      },
      "source": [
        "m"
      ],
      "execution_count": null,
      "outputs": [
        {
          "output_type": "execute_result",
          "data": {
            "text/plain": [
              "array([[1., 1.],\n",
              "       [1., 1.],\n",
              "       [1., 1.]])"
            ]
          },
          "metadata": {
            "tags": []
          },
          "execution_count": 34
        }
      ]
    },
    {
      "cell_type": "code",
      "metadata": {
        "colab": {
          "base_uri": "https://localhost:8080/"
        },
        "id": "i_IbUwJ_2hLX",
        "outputId": "978327fa-92e8-45f8-d5ab-0bcaadd6ce22"
      },
      "source": [
        "j"
      ],
      "execution_count": null,
      "outputs": [
        {
          "output_type": "execute_result",
          "data": {
            "text/plain": [
              "array([0, 1, 2])"
            ]
          },
          "metadata": {
            "tags": []
          },
          "execution_count": 35
        }
      ]
    },
    {
      "cell_type": "markdown",
      "metadata": {
        "id": "hlIFAzi42y1Z"
      },
      "source": [
        "> Règle 3 : Si après Règle 2 et 3, les shapes, ne sont pas les mêmes, alors calcul impossible"
      ]
    },
    {
      "cell_type": "code",
      "metadata": {
        "id": "3djnNFcR2iF8"
      },
      "source": [
        "#utilité de brodcast "
      ],
      "execution_count": null,
      "outputs": []
    },
    {
      "cell_type": "code",
      "metadata": {
        "colab": {
          "base_uri": "https://localhost:8080/"
        },
        "id": "es3LUOzc3KCM",
        "outputId": "00acf43a-d733-45e9-9fd7-7addfca8aead"
      },
      "source": [
        "x = np.random.randint(255, size=(6, 3))\n",
        "x"
      ],
      "execution_count": null,
      "outputs": [
        {
          "output_type": "execute_result",
          "data": {
            "text/plain": [
              "array([[173,  86, 245],\n",
              "       [245,  47,  23],\n",
              "       [ 22,  45,  31],\n",
              "       [ 17, 213, 149],\n",
              "       [168, 180, 117],\n",
              "       [215, 161,  60]])"
            ]
          },
          "metadata": {
            "tags": []
          },
          "execution_count": 40
        }
      ]
    },
    {
      "cell_type": "code",
      "metadata": {
        "colab": {
          "base_uri": "https://localhost:8080/"
        },
        "id": "I-a7CmBG3R2I",
        "outputId": "32bdb1ba-678b-4bea-ab05-0c993b88cdec"
      },
      "source": [
        "xmean = x.mean(axis=0)\n",
        "xmean"
      ],
      "execution_count": null,
      "outputs": [
        {
          "output_type": "execute_result",
          "data": {
            "text/plain": [
              "array([140.        , 122.        , 104.16666667])"
            ]
          },
          "metadata": {
            "tags": []
          },
          "execution_count": 42
        }
      ]
    },
    {
      "cell_type": "code",
      "metadata": {
        "colab": {
          "base_uri": "https://localhost:8080/"
        },
        "id": "vb_b2ZYm40Wr",
        "outputId": "19716b75-8d11-45ea-ae0a-e3695479d87e"
      },
      "source": [
        "x.shape"
      ],
      "execution_count": null,
      "outputs": [
        {
          "output_type": "execute_result",
          "data": {
            "text/plain": [
              "(6, 3)"
            ]
          },
          "metadata": {
            "tags": []
          },
          "execution_count": 43
        }
      ]
    },
    {
      "cell_type": "code",
      "metadata": {
        "colab": {
          "base_uri": "https://localhost:8080/"
        },
        "id": "AXSKUoDq42AT",
        "outputId": "99a867de-980a-4937-bb24-4bfdd3fb4d7a"
      },
      "source": [
        "xmean.shape"
      ],
      "execution_count": null,
      "outputs": [
        {
          "output_type": "execute_result",
          "data": {
            "text/plain": [
              "(3,)"
            ]
          },
          "metadata": {
            "tags": []
          },
          "execution_count": 44
        }
      ]
    },
    {
      "cell_type": "code",
      "metadata": {
        "colab": {
          "base_uri": "https://localhost:8080/"
        },
        "id": "xP3zJNEV5DFZ",
        "outputId": "323603d5-f8bb-48d0-a382-a72ce2013d43"
      },
      "source": [
        "xstd = x.std(axis=0)\n",
        "xstd"
      ],
      "execution_count": null,
      "outputs": [
        {
          "output_type": "execute_result",
          "data": {
            "text/plain": [
              "array([89.04680417, 65.84831053, 77.35290701])"
            ]
          },
          "metadata": {
            "tags": []
          },
          "execution_count": 46
        }
      ]
    },
    {
      "cell_type": "code",
      "metadata": {
        "colab": {
          "base_uri": "https://localhost:8080/"
        },
        "id": "mcfY9Cjf4noH",
        "outputId": "bb5ac43d-84d7-4831-9717-2efaa9e62bd6"
      },
      "source": [
        "x_centre_et_reduit = (x - xmean) / xstd\n",
        "x_centre_et_reduit"
      ],
      "execution_count": null,
      "outputs": [
        {
          "output_type": "execute_result",
          "data": {
            "text/plain": [
              "array([[ 0.37059163, -0.54671107,  1.82065987],\n",
              "       [ 1.17915518, -1.13898139, -1.04930338],\n",
              "       [-1.32514582, -1.16935422, -0.94588128],\n",
              "       [-1.38129606,  1.38196408,  0.57959468],\n",
              "       [ 0.31444138,  0.88081227,  0.16590628],\n",
              "       [ 0.8422537 ,  0.59227032, -0.57097617]])"
            ]
          },
          "metadata": {
            "tags": []
          },
          "execution_count": 49
        }
      ]
    },
    {
      "cell_type": "code",
      "metadata": {
        "id": "ZOC43M8054E4"
      },
      "source": [
        ""
      ],
      "execution_count": null,
      "outputs": []
    },
    {
      "cell_type": "code",
      "metadata": {
        "id": "e6sZz0WZ6by0"
      },
      "source": [
        ""
      ],
      "execution_count": null,
      "outputs": []
    },
    {
      "cell_type": "code",
      "metadata": {
        "id": "4Lf-v0SC6b4c"
      },
      "source": [
        ""
      ],
      "execution_count": null,
      "outputs": []
    },
    {
      "cell_type": "code",
      "metadata": {
        "colab": {
          "base_uri": "https://localhost:8080/"
        },
        "id": "15FvCVg96b9A",
        "outputId": "aa4a4411-3cd2-40d4-ab31-3087de97d538"
      },
      "source": [
        "x = np.random.randint(15, size=(5, 3))\n",
        "x"
      ],
      "execution_count": null,
      "outputs": [
        {
          "output_type": "execute_result",
          "data": {
            "text/plain": [
              "array([[11,  2, 10],\n",
              "       [10,  2,  5],\n",
              "       [ 3,  3,  1],\n",
              "       [ 2,  9,  9],\n",
              "       [ 5,  7, 11]])"
            ]
          },
          "metadata": {
            "tags": []
          },
          "execution_count": 55
        }
      ]
    },
    {
      "cell_type": "markdown",
      "metadata": {
        "id": "hZ49pHk48BXW"
      },
      "source": [
        "Le nombre de notes supérieur 7"
      ]
    },
    {
      "cell_type": "code",
      "metadata": {
        "id": "CNR28YwA8Abz"
      },
      "source": [
        ""
      ],
      "execution_count": null,
      "outputs": []
    },
    {
      "cell_type": "code",
      "metadata": {
        "colab": {
          "base_uri": "https://localhost:8080/"
        },
        "id": "_DAvDpRa6cBr",
        "outputId": "6c8dd692-82c1-4398-e746-eff4518dc4a4"
      },
      "source": [
        "x > 5"
      ],
      "execution_count": null,
      "outputs": [
        {
          "output_type": "execute_result",
          "data": {
            "text/plain": [
              "array([[ True, False,  True],\n",
              "       [ True, False, False],\n",
              "       [False, False, False],\n",
              "       [False,  True,  True],\n",
              "       [False,  True,  True]])"
            ]
          },
          "metadata": {
            "tags": []
          },
          "execution_count": 56
        }
      ]
    },
    {
      "cell_type": "code",
      "metadata": {
        "colab": {
          "base_uri": "https://localhost:8080/"
        },
        "id": "bGU-M6e06cFo",
        "outputId": "7b60cc70-70c7-49e0-d02b-a0a242af511a"
      },
      "source": [
        "np.sum(x>5)"
      ],
      "execution_count": null,
      "outputs": [
        {
          "output_type": "execute_result",
          "data": {
            "text/plain": [
              "7"
            ]
          },
          "metadata": {
            "tags": []
          },
          "execution_count": 60
        }
      ]
    },
    {
      "cell_type": "code",
      "metadata": {
        "colab": {
          "base_uri": "https://localhost:8080/"
        },
        "id": "mGuTcGTm6cKG",
        "outputId": "3c54c2ee-03e2-414c-b810-eabeb7ef5e08"
      },
      "source": [
        "np.count_nonzero(x>5)"
      ],
      "execution_count": null,
      "outputs": [
        {
          "output_type": "execute_result",
          "data": {
            "text/plain": [
              "7"
            ]
          },
          "metadata": {
            "tags": []
          },
          "execution_count": 58
        }
      ]
    },
    {
      "cell_type": "markdown",
      "metadata": {
        "id": "zOWYu1au8HK9"
      },
      "source": [
        "Le nombre des notes supérieur à  8 pour chaque élève ?"
      ]
    },
    {
      "cell_type": "code",
      "metadata": {
        "colab": {
          "base_uri": "https://localhost:8080/"
        },
        "id": "NU9lvStO6cOD",
        "outputId": "84e8754e-3567-4d7f-f0f8-3157b335715e"
      },
      "source": [
        "x"
      ],
      "execution_count": null,
      "outputs": [
        {
          "output_type": "execute_result",
          "data": {
            "text/plain": [
              "array([[11,  2, 10],\n",
              "       [10,  2,  5],\n",
              "       [ 3,  3,  1],\n",
              "       [ 2,  9,  9],\n",
              "       [ 5,  7, 11]])"
            ]
          },
          "metadata": {
            "tags": []
          },
          "execution_count": 61
        }
      ]
    },
    {
      "cell_type": "code",
      "metadata": {
        "colab": {
          "base_uri": "https://localhost:8080/"
        },
        "id": "L5e0x0_w8PzI",
        "outputId": "d9fa0bc7-4247-424b-cb34-aa2c5d06a996"
      },
      "source": [
        "y = np.sum(x > 8, axis=1)\n",
        "y"
      ],
      "execution_count": null,
      "outputs": [
        {
          "output_type": "execute_result",
          "data": {
            "text/plain": [
              "array([2, 1, 0, 2, 1])"
            ]
          },
          "metadata": {
            "tags": []
          },
          "execution_count": 63
        }
      ]
    },
    {
      "cell_type": "markdown",
      "metadata": {
        "id": "eT5rfugx8Z4F"
      },
      "source": [
        "Le nombre d'élèves ayant au moins 2 notes supérieures à 8 ?\n",
        "\n"
      ]
    },
    {
      "cell_type": "code",
      "metadata": {
        "colab": {
          "base_uri": "https://localhost:8080/"
        },
        "id": "TuMDo5T28UY8",
        "outputId": "5269670b-122b-4c6c-d9b3-d0b02fa40393"
      },
      "source": [
        "y >= 2"
      ],
      "execution_count": null,
      "outputs": [
        {
          "output_type": "execute_result",
          "data": {
            "text/plain": [
              "array([ True, False, False,  True, False])"
            ]
          },
          "metadata": {
            "tags": []
          },
          "execution_count": 65
        }
      ]
    },
    {
      "cell_type": "code",
      "metadata": {
        "colab": {
          "base_uri": "https://localhost:8080/"
        },
        "id": "03uPZ_Sc89T6",
        "outputId": "ce022bfd-8321-4f6e-e8b8-ea74f3a8fde5"
      },
      "source": [
        "np.sum(y >= 2)"
      ],
      "execution_count": null,
      "outputs": [
        {
          "output_type": "execute_result",
          "data": {
            "text/plain": [
              "2"
            ]
          },
          "metadata": {
            "tags": []
          },
          "execution_count": 66
        }
      ]
    },
    {
      "cell_type": "markdown",
      "metadata": {
        "id": "WTtoSVFu9daU"
      },
      "source": [
        "Est-ce que tous les élèves ont une note supérieur à 3 ?"
      ]
    },
    {
      "cell_type": "code",
      "metadata": {
        "colab": {
          "base_uri": "https://localhost:8080/"
        },
        "id": "Ebk4WFv79mbC",
        "outputId": "decdb538-b800-473e-8c15-b41312b565a9"
      },
      "source": [
        "x > 3"
      ],
      "execution_count": null,
      "outputs": [
        {
          "output_type": "execute_result",
          "data": {
            "text/plain": [
              "array([[ True, False,  True],\n",
              "       [ True, False,  True],\n",
              "       [False, False, False],\n",
              "       [False,  True,  True],\n",
              "       [ True,  True,  True]])"
            ]
          },
          "metadata": {
            "tags": []
          },
          "execution_count": 67
        }
      ]
    },
    {
      "cell_type": "code",
      "metadata": {
        "colab": {
          "base_uri": "https://localhost:8080/"
        },
        "id": "e2CDYZcQ9NJd",
        "outputId": "c86a5235-a339-4093-e114-629c42eb6712"
      },
      "source": [
        "np.all( x > 3)"
      ],
      "execution_count": null,
      "outputs": [
        {
          "output_type": "execute_result",
          "data": {
            "text/plain": [
              "False"
            ]
          },
          "metadata": {
            "tags": []
          },
          "execution_count": 68
        }
      ]
    },
    {
      "cell_type": "code",
      "metadata": {
        "colab": {
          "base_uri": "https://localhost:8080/"
        },
        "id": "GHhxNF029qvj",
        "outputId": "956cc753-249a-4160-f979-50e733afd61d"
      },
      "source": [
        "np.all( x > 0)"
      ],
      "execution_count": null,
      "outputs": [
        {
          "output_type": "execute_result",
          "data": {
            "text/plain": [
              "True"
            ]
          },
          "metadata": {
            "tags": []
          },
          "execution_count": 69
        }
      ]
    },
    {
      "cell_type": "markdown",
      "metadata": {
        "id": "WNZV98Jm9yGz"
      },
      "source": [
        "Est-ce qu'il y a un élève dont la note est supérieur à 12"
      ]
    },
    {
      "cell_type": "code",
      "metadata": {
        "colab": {
          "base_uri": "https://localhost:8080/"
        },
        "id": "LmH9fmmv9wQk",
        "outputId": "3ed1834b-4503-4a8d-8fa2-8020cdd4e675"
      },
      "source": [
        " x > 12"
      ],
      "execution_count": null,
      "outputs": [
        {
          "output_type": "execute_result",
          "data": {
            "text/plain": [
              "array([[False, False, False],\n",
              "       [False, False, False],\n",
              "       [False, False, False],\n",
              "       [False, False, False],\n",
              "       [False, False, False]])"
            ]
          },
          "metadata": {
            "tags": []
          },
          "execution_count": 70
        }
      ]
    },
    {
      "cell_type": "code",
      "metadata": {
        "colab": {
          "base_uri": "https://localhost:8080/"
        },
        "id": "uxBJyWN-96hx",
        "outputId": "5bb51222-0ec9-4fdc-d333-cbd9f829e44b"
      },
      "source": [
        "np.any(x > 12)"
      ],
      "execution_count": null,
      "outputs": [
        {
          "output_type": "execute_result",
          "data": {
            "text/plain": [
              "False"
            ]
          },
          "metadata": {
            "tags": []
          },
          "execution_count": 71
        }
      ]
    },
    {
      "cell_type": "code",
      "metadata": {
        "colab": {
          "base_uri": "https://localhost:8080/"
        },
        "id": "iuTWExQO-DRE",
        "outputId": "1c1c1da9-c428-46c1-e6e4-4e3c18ba9757"
      },
      "source": [
        "np.any(x > 10)"
      ],
      "execution_count": null,
      "outputs": [
        {
          "output_type": "execute_result",
          "data": {
            "text/plain": [
              "True"
            ]
          },
          "metadata": {
            "tags": []
          },
          "execution_count": 72
        }
      ]
    },
    {
      "cell_type": "code",
      "metadata": {
        "colab": {
          "base_uri": "https://localhost:8080/"
        },
        "id": "MKoIjzjM-GsM",
        "outputId": "e8acf928-e788-4134-97ed-374078cd6562"
      },
      "source": [
        "x # Math, Physique, SVT"
      ],
      "execution_count": null,
      "outputs": [
        {
          "output_type": "execute_result",
          "data": {
            "text/plain": [
              "array([[11,  2, 10],\n",
              "       [10,  2,  5],\n",
              "       [ 3,  3,  1],\n",
              "       [ 2,  9,  9],\n",
              "       [ 5,  7, 11]])"
            ]
          },
          "metadata": {
            "tags": []
          },
          "execution_count": 73
        }
      ]
    },
    {
      "cell_type": "markdown",
      "metadata": {
        "id": "-nqcX9RM-QLi"
      },
      "source": [
        "Quelle est la moyenne en Math et Physique de la classe si on considère uniquement les  3 élèves dont les notes apparaissent en premier ?"
      ]
    },
    {
      "cell_type": "code",
      "metadata": {
        "colab": {
          "base_uri": "https://localhost:8080/"
        },
        "id": "64n3tmk1_jfF",
        "outputId": "6471def1-c0cb-43d9-ff5a-b43c688d7517"
      },
      "source": [
        "np.mean(x[0:3, 0:2 ], axis=0)"
      ],
      "execution_count": null,
      "outputs": [
        {
          "output_type": "execute_result",
          "data": {
            "text/plain": [
              "array([8.        , 2.33333333])"
            ]
          },
          "metadata": {
            "tags": []
          },
          "execution_count": 74
        }
      ]
    },
    {
      "cell_type": "code",
      "metadata": {
        "colab": {
          "base_uri": "https://localhost:8080/"
        },
        "id": "ZwlY6mRo-OzO",
        "outputId": "4eb81d52-decb-472d-e91e-5db412031d37"
      },
      "source": [
        "x # Math, Physique, SVT"
      ],
      "execution_count": null,
      "outputs": [
        {
          "output_type": "execute_result",
          "data": {
            "text/plain": [
              "array([[11,  2, 10],\n",
              "       [10,  2,  5],\n",
              "       [ 3,  3,  1],\n",
              "       [ 2,  9,  9],\n",
              "       [ 5,  7, 11]])"
            ]
          },
          "metadata": {
            "tags": []
          },
          "execution_count": 75
        }
      ]
    },
    {
      "cell_type": "markdown",
      "metadata": {
        "id": "VRP_6pAj-mL7"
      },
      "source": [
        "Combien d'élèves ont au moins 2 notes supérieurs à la médiane des  moyennes (élèves) de la classe ?"
      ]
    },
    {
      "cell_type": "code",
      "metadata": {
        "colab": {
          "base_uri": "https://localhost:8080/"
        },
        "id": "gkNL1n_GBlRd",
        "outputId": "2a96e536-8135-4d8c-a2e5-4fb79ad902e4"
      },
      "source": [
        "y = np.mean(x, axis=1)\n",
        "y"
      ],
      "execution_count": null,
      "outputs": [
        {
          "output_type": "execute_result",
          "data": {
            "text/plain": [
              "array([7.66666667, 5.66666667, 2.33333333, 6.66666667, 7.66666667])"
            ]
          },
          "metadata": {
            "tags": []
          },
          "execution_count": 77
        }
      ]
    },
    {
      "cell_type": "code",
      "metadata": {
        "colab": {
          "base_uri": "https://localhost:8080/"
        },
        "id": "tmtJctZJ-j4K",
        "outputId": "b1551346-ec3c-45c9-8df2-cc93e3cd4a24"
      },
      "source": [
        "mediane = np.median(y)\n",
        "mediane"
      ],
      "execution_count": null,
      "outputs": [
        {
          "output_type": "execute_result",
          "data": {
            "text/plain": [
              "6.666666666666667"
            ]
          },
          "metadata": {
            "tags": []
          },
          "execution_count": 78
        }
      ]
    },
    {
      "cell_type": "code",
      "metadata": {
        "colab": {
          "base_uri": "https://localhost:8080/"
        },
        "id": "NSoDk5djC3J-",
        "outputId": "028ba677-e62f-4c15-c017-4cfe1fa97375"
      },
      "source": [
        "x > mediane"
      ],
      "execution_count": null,
      "outputs": [
        {
          "output_type": "execute_result",
          "data": {
            "text/plain": [
              "array([[ True, False,  True],\n",
              "       [ True, False, False],\n",
              "       [False, False, False],\n",
              "       [False,  True,  True],\n",
              "       [False,  True,  True]])"
            ]
          },
          "metadata": {
            "tags": []
          },
          "execution_count": 80
        }
      ]
    },
    {
      "cell_type": "code",
      "metadata": {
        "colab": {
          "base_uri": "https://localhost:8080/"
        },
        "id": "w7VMgbCr-kFY",
        "outputId": "0c5a7863-584e-4057-b023-3abffc55b699"
      },
      "source": [
        "n = np.sum(x > mediane, axis = 1)\n",
        "n"
      ],
      "execution_count": null,
      "outputs": [
        {
          "output_type": "execute_result",
          "data": {
            "text/plain": [
              "array([2, 1, 0, 2, 2])"
            ]
          },
          "metadata": {
            "tags": []
          },
          "execution_count": 82
        }
      ]
    },
    {
      "cell_type": "code",
      "metadata": {
        "colab": {
          "base_uri": "https://localhost:8080/"
        },
        "id": "Ok53Y4ULCdYT",
        "outputId": "e7f1f2da-5b8f-436c-9a47-f5a02735c6dd"
      },
      "source": [
        "np.sum(n >= 2)"
      ],
      "execution_count": null,
      "outputs": [
        {
          "output_type": "execute_result",
          "data": {
            "text/plain": [
              "3"
            ]
          },
          "metadata": {
            "tags": []
          },
          "execution_count": 83
        }
      ]
    },
    {
      "cell_type": "markdown",
      "metadata": {
        "id": "DTHjflgyEKbL"
      },
      "source": [
        "* Creer un tableau aléatoire de shape (3, 5)\n",
        "* Modifier le shape à (5, 3)\n",
        "* Est-ce que c'est possible de modifier le shape à (4, 5)\n",
        "Creer un tableau qui contient les valeurs de 1 à 9 avec np.arange et donner lui un shape de (3, 3)\n",
        "* Faites la somme des 2 tableaux\n",
        "* Choisi un sous tableau aléatoire et extrait le\n"
      ]
    },
    {
      "cell_type": "code",
      "metadata": {
        "id": "hlFsuNwuDyyW"
      },
      "source": [
        "# Fancy Indexing"
      ],
      "execution_count": 15,
      "outputs": []
    },
    {
      "cell_type": "code",
      "metadata": {
        "id": "ecjOWFoc4hEJ"
      },
      "source": [
        "import numpy as np"
      ],
      "execution_count": 1,
      "outputs": []
    },
    {
      "cell_type": "code",
      "metadata": {
        "id": "1rUfA_o94hSe",
        "outputId": "525e6dde-d3e2-4f1e-a999-0940b37ee834",
        "colab": {
          "base_uri": "https://localhost:8080/"
        }
      },
      "source": [
        "data = np.random.randint(100, size=(6, 3))\n",
        "data"
      ],
      "execution_count": 3,
      "outputs": [
        {
          "output_type": "execute_result",
          "data": {
            "text/plain": [
              "array([[45, 66, 61],\n",
              "       [13,  1, 57],\n",
              "       [76, 36, 24],\n",
              "       [27, 59, 66],\n",
              "       [34,  0, 59],\n",
              "       [70, 79, 77]])"
            ]
          },
          "metadata": {
            "tags": []
          },
          "execution_count": 3
        }
      ]
    },
    {
      "cell_type": "code",
      "metadata": {
        "id": "baMgRKmX4hVp",
        "outputId": "e32d30be-e6cf-4891-b679-a34433236740",
        "colab": {
          "base_uri": "https://localhost:8080/"
        }
      },
      "source": [
        "x = np.random.randint(100, size=(5))\n",
        "x"
      ],
      "execution_count": 4,
      "outputs": [
        {
          "output_type": "execute_result",
          "data": {
            "text/plain": [
              "array([35, 90, 64,  9, 64])"
            ]
          },
          "metadata": {
            "tags": []
          },
          "execution_count": 4
        }
      ]
    },
    {
      "cell_type": "code",
      "metadata": {
        "id": "cBZOOXGc6L58",
        "outputId": "44799fd2-cb42-4087-fc25-f58639f8db14",
        "colab": {
          "base_uri": "https://localhost:8080/"
        }
      },
      "source": [
        "x[:2], x[2:4]"
      ],
      "execution_count": 6,
      "outputs": [
        {
          "output_type": "execute_result",
          "data": {
            "text/plain": [
              "(array([35, 90]), array([64,  9]))"
            ]
          },
          "metadata": {
            "tags": []
          },
          "execution_count": 6
        }
      ]
    },
    {
      "cell_type": "code",
      "metadata": {
        "id": "G_8uybt56XJj",
        "outputId": "f3448d3d-717c-4c48-e0d1-25b4e4a6587a",
        "colab": {
          "base_uri": "https://localhost:8080/"
        }
      },
      "source": [
        "x[1:4:2]"
      ],
      "execution_count": 7,
      "outputs": [
        {
          "output_type": "execute_result",
          "data": {
            "text/plain": [
              "array([90,  9])"
            ]
          },
          "metadata": {
            "tags": []
          },
          "execution_count": 7
        }
      ]
    },
    {
      "cell_type": "code",
      "metadata": {
        "id": "Xkg0rF396xI7",
        "outputId": "a6f334f9-ff55-4b7c-caf1-09b8a6069aa3",
        "colab": {
          "base_uri": "https://localhost:8080/"
        }
      },
      "source": [
        "x[[0,1,-1] ]"
      ],
      "execution_count": 9,
      "outputs": [
        {
          "output_type": "execute_result",
          "data": {
            "text/plain": [
              "array([35, 90, 64])"
            ]
          },
          "metadata": {
            "tags": []
          },
          "execution_count": 9
        }
      ]
    },
    {
      "cell_type": "code",
      "metadata": {
        "id": "1zt6k8Us7BCh",
        "outputId": "15c81e74-f59e-4845-b083-56e120e4cdca",
        "colab": {
          "base_uri": "https://localhost:8080/"
        }
      },
      "source": [
        "data"
      ],
      "execution_count": 10,
      "outputs": [
        {
          "output_type": "execute_result",
          "data": {
            "text/plain": [
              "array([[45, 66, 61],\n",
              "       [13,  1, 57],\n",
              "       [76, 36, 24],\n",
              "       [27, 59, 66],\n",
              "       [34,  0, 59],\n",
              "       [70, 79, 77]])"
            ]
          },
          "metadata": {
            "tags": []
          },
          "execution_count": 10
        }
      ]
    },
    {
      "cell_type": "code",
      "metadata": {
        "id": "Arzs6Xvs8Nvh"
      },
      "source": [
        "data[:, [0, 2],  ]"
      ],
      "execution_count": null,
      "outputs": []
    },
    {
      "cell_type": "code",
      "metadata": {
        "id": "JeZf3Cib7Idr",
        "outputId": "fc7ff324-25e0-4028-d74a-5fd2ab4a774b",
        "colab": {
          "base_uri": "https://localhost:8080/"
        }
      },
      "source": [
        "data[:, [2,0]]"
      ],
      "execution_count": 13,
      "outputs": [
        {
          "output_type": "execute_result",
          "data": {
            "text/plain": [
              "array([[61, 45],\n",
              "       [57, 13],\n",
              "       [24, 76],\n",
              "       [66, 27],\n",
              "       [59, 34],\n",
              "       [77, 70]])"
            ]
          },
          "metadata": {
            "tags": []
          },
          "execution_count": 13
        }
      ]
    },
    {
      "cell_type": "code",
      "metadata": {
        "id": "s7ZlYR7M7OzO",
        "outputId": "08847d2f-670d-43ac-d999-295e1e927f55",
        "colab": {
          "base_uri": "https://localhost:8080/"
        }
      },
      "source": [
        "data[[2,1, 4] , :]"
      ],
      "execution_count": 14,
      "outputs": [
        {
          "output_type": "execute_result",
          "data": {
            "text/plain": [
              "array([[76, 36, 24],\n",
              "       [13,  1, 57],\n",
              "       [34,  0, 59]])"
            ]
          },
          "metadata": {
            "tags": []
          },
          "execution_count": 14
        }
      ]
    },
    {
      "cell_type": "code",
      "metadata": {
        "id": "ix7xjPdx9Xit"
      },
      "source": [
        ""
      ],
      "execution_count": null,
      "outputs": []
    },
    {
      "cell_type": "code",
      "metadata": {
        "id": "9WCtTCgT-Hjo"
      },
      "source": [
        "date = \"ressasser\""
      ],
      "execution_count": 38,
      "outputs": []
    },
    {
      "cell_type": "code",
      "metadata": {
        "id": "7AI9KHWb-Ljh",
        "outputId": "085ab940-9ed5-4f16-fe54-ccbad21ae4bc",
        "colab": {
          "base_uri": "https://localhost:8080/",
          "height": 35
        }
      },
      "source": [
        "date[ : : -1]\n"
      ],
      "execution_count": 39,
      "outputs": [
        {
          "output_type": "execute_result",
          "data": {
            "application/vnd.google.colaboratory.intrinsic+json": {
              "type": "string"
            },
            "text/plain": [
              "'ressasser'"
            ]
          },
          "metadata": {
            "tags": []
          },
          "execution_count": 39
        }
      ]
    },
    {
      "cell_type": "code",
      "metadata": {
        "id": "p9PJ3PxT-fyN",
        "outputId": "82e8034c-f477-45ed-c37b-408627a90053",
        "colab": {
          "base_uri": "https://localhost:8080/"
        }
      },
      "source": [
        "date == date[::-1]"
      ],
      "execution_count": 40,
      "outputs": [
        {
          "output_type": "execute_result",
          "data": {
            "text/plain": [
              "True"
            ]
          },
          "metadata": {
            "tags": []
          },
          "execution_count": 40
        }
      ]
    },
    {
      "cell_type": "code",
      "metadata": {
        "id": "pPvxebcV_w-W"
      },
      "source": [
        ""
      ],
      "execution_count": null,
      "outputs": []
    }
  ]
}