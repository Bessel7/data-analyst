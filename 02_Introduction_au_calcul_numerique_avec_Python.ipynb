{
  "nbformat": 4,
  "nbformat_minor": 0,
  "metadata": {
    "kernelspec": {
      "display_name": "Python 3",
      "language": "python",
      "name": "python3"
    },
    "language_info": {
      "codemirror_mode": {
        "name": "ipython",
        "version": 3
      },
      "file_extension": ".py",
      "mimetype": "text/x-python",
      "name": "python",
      "nbconvert_exporter": "python",
      "pygments_lexer": "ipython3",
      "version": "3.8.5"
    },
    "toc": {
      "base_numbering": 1,
      "nav_menu": {},
      "number_sections": true,
      "sideBar": true,
      "skip_h1_title": false,
      "title_cell": "Table of Contents",
      "title_sidebar": "Contents",
      "toc_cell": false,
      "toc_position": {},
      "toc_section_display": true,
      "toc_window_display": false
    },
    "varInspector": {
      "cols": {
        "lenName": 16,
        "lenType": 16,
        "lenVar": 40
      },
      "kernels_config": {
        "python": {
          "delete_cmd_postfix": "",
          "delete_cmd_prefix": "del ",
          "library": "var_list.py",
          "varRefreshCmd": "print(var_dic_list())"
        },
        "r": {
          "delete_cmd_postfix": ") ",
          "delete_cmd_prefix": "rm(",
          "library": "var_list.r",
          "varRefreshCmd": "cat(var_dic_list()) "
        }
      },
      "types_to_exclude": [
        "module",
        "function",
        "builtin_function_or_method",
        "instance",
        "_Feature"
      ],
      "window_display": false
    },
    "colab": {
      "name": "Copie de 02_Introduction_au_calcul_numerique_avec_Python.ipynb",
      "provenance": [],
      "toc_visible": true
    }
  },
  "cells": [
    {
      "cell_type": "code",
      "metadata": {
        "id": "TcCEOf39ZQQW"
      },
      "source": [
        "import numpy as np"
      ],
      "execution_count": null,
      "outputs": []
    },
    {
      "cell_type": "markdown",
      "metadata": {
        "id": "oiBpaofSZQQb"
      },
      "source": [
        "# Tableaux Numpy : Les bases"
      ]
    },
    {
      "cell_type": "markdown",
      "metadata": {
        "id": "2dgNhwykZQQc"
      },
      "source": [
        "## Comment créer un Tableau Numpy"
      ]
    },
    {
      "cell_type": "code",
      "metadata": {
        "id": "pv7qxCUMdLwT"
      },
      "source": [
        "[  3 , 2, 5\n",
        "   1 , 7, 9\n",
        "   5 , 9, 6\n",
        " \n",
        "]"
      ],
      "execution_count": null,
      "outputs": []
    },
    {
      "cell_type": "code",
      "metadata": {
        "id": "1vZqVJwOehRY",
        "colab": {
          "base_uri": "https://localhost:8080/"
        },
        "outputId": "1f60c9c3-402a-4555-a912-8fadc74ef63e"
      },
      "source": [
        "np.array([])"
      ],
      "execution_count": null,
      "outputs": [
        {
          "output_type": "execute_result",
          "data": {
            "text/plain": [
              "array([], dtype=float64)"
            ]
          },
          "metadata": {
            "tags": []
          },
          "execution_count": 3
        }
      ]
    },
    {
      "cell_type": "code",
      "metadata": {
        "id": "ehm3FvcDiOHf"
      },
      "source": [
        "data_un = np.array([[8,9,6]])"
      ],
      "execution_count": null,
      "outputs": []
    },
    {
      "cell_type": "code",
      "metadata": {
        "id": "31W5te5KdLpB"
      },
      "source": [
        "data_deux = np.array([\n",
        "          [3 , 2, 5],\n",
        "          [1 , 7, 9],\n",
        "          [5 , 9, 6]\n",
        "          ])"
      ],
      "execution_count": null,
      "outputs": []
    },
    {
      "cell_type": "code",
      "metadata": {
        "id": "wjpUqDM-dLjL",
        "colab": {
          "base_uri": "https://localhost:8080/"
        },
        "outputId": "0c84791b-bfd6-41c3-ef17-c0336b3583ee"
      },
      "source": [
        "data_deux"
      ],
      "execution_count": null,
      "outputs": [
        {
          "output_type": "execute_result",
          "data": {
            "text/plain": [
              "array([[3, 2, 5],\n",
              "       [1, 7, 9],\n",
              "       [5, 9, 6]])"
            ]
          },
          "metadata": {
            "tags": []
          },
          "execution_count": 10
        }
      ]
    },
    {
      "cell_type": "code",
      "metadata": {
        "id": "eDvqVBlgdLfP"
      },
      "source": [
        "data = np.array([[1,4,5]])"
      ],
      "execution_count": null,
      "outputs": []
    },
    {
      "cell_type": "code",
      "metadata": {
        "id": "EKsALK3JdLbe",
        "colab": {
          "base_uri": "https://localhost:8080/"
        },
        "outputId": "d94b90e1-2b51-452e-8793-bfc11cf76b3e"
      },
      "source": [
        "data"
      ],
      "execution_count": null,
      "outputs": [
        {
          "output_type": "execute_result",
          "data": {
            "text/plain": [
              "array([[1, 4, 5]])"
            ]
          },
          "metadata": {
            "tags": []
          },
          "execution_count": 8
        }
      ]
    },
    {
      "cell_type": "markdown",
      "metadata": {
        "id": "tjysvm09ZQQd"
      },
      "source": [
        "## Les attributs d'un tableau numpy"
      ]
    },
    {
      "cell_type": "code",
      "metadata": {
        "id": "Kn8cx0IQdLXx",
        "colab": {
          "base_uri": "https://localhost:8080/"
        },
        "outputId": "1148db8b-fc2d-43de-89a4-3ee3a7af08d2"
      },
      "source": [
        "data.dtype"
      ],
      "execution_count": null,
      "outputs": [
        {
          "output_type": "execute_result",
          "data": {
            "text/plain": [
              "dtype('int64')"
            ]
          },
          "metadata": {
            "tags": []
          },
          "execution_count": 11
        }
      ]
    },
    {
      "cell_type": "code",
      "metadata": {
        "id": "bLml_5hodLUe",
        "colab": {
          "base_uri": "https://localhost:8080/"
        },
        "outputId": "f5f9d23b-8058-40d1-8900-2f85efad6a9f"
      },
      "source": [
        "data_deux.dtype"
      ],
      "execution_count": null,
      "outputs": [
        {
          "output_type": "execute_result",
          "data": {
            "text/plain": [
              "dtype('int64')"
            ]
          },
          "metadata": {
            "tags": []
          },
          "execution_count": 12
        }
      ]
    },
    {
      "cell_type": "code",
      "metadata": {
        "id": "rdiOQfD7dLQm",
        "colab": {
          "base_uri": "https://localhost:8080/"
        },
        "outputId": "12bbea0f-2f93-473e-8625-d1021f5c4858"
      },
      "source": [
        "np.array([['python', 1]])"
      ],
      "execution_count": null,
      "outputs": [
        {
          "output_type": "execute_result",
          "data": {
            "text/plain": [
              "array([['python', '1']], dtype='<U6')"
            ]
          },
          "metadata": {
            "tags": []
          },
          "execution_count": 13
        }
      ]
    },
    {
      "cell_type": "code",
      "metadata": {
        "id": "gz59n3jWdLM9",
        "colab": {
          "base_uri": "https://localhost:8080/"
        },
        "outputId": "a41bf7fe-dad0-4f64-f41c-27610aba0441"
      },
      "source": [
        "np.array([[1, 5.2]])"
      ],
      "execution_count": null,
      "outputs": [
        {
          "output_type": "execute_result",
          "data": {
            "text/plain": [
              "array([[1. , 5.2]])"
            ]
          },
          "metadata": {
            "tags": []
          },
          "execution_count": 14
        }
      ]
    },
    {
      "cell_type": "code",
      "metadata": {
        "id": "HCbpjmUrdLFA",
        "colab": {
          "base_uri": "https://localhost:8080/"
        },
        "outputId": "27a75487-ea79-440c-fde8-28def4374772"
      },
      "source": [
        "np.array([[1, 5.2]]).dtype"
      ],
      "execution_count": null,
      "outputs": [
        {
          "output_type": "execute_result",
          "data": {
            "text/plain": [
              "dtype('float64')"
            ]
          },
          "metadata": {
            "tags": []
          },
          "execution_count": 15
        }
      ]
    },
    {
      "cell_type": "code",
      "metadata": {
        "id": "p0P2XQn1iZNm",
        "colab": {
          "base_uri": "https://localhost:8080/"
        },
        "outputId": "690cffce-367f-4236-8042-bcb114211f54"
      },
      "source": [
        "data_un.ndim"
      ],
      "execution_count": null,
      "outputs": [
        {
          "output_type": "execute_result",
          "data": {
            "text/plain": [
              "2"
            ]
          },
          "metadata": {
            "tags": []
          },
          "execution_count": 24
        }
      ]
    },
    {
      "cell_type": "code",
      "metadata": {
        "id": "bpT79OjpjFYF"
      },
      "source": [
        "data_un.shape"
      ],
      "execution_count": null,
      "outputs": []
    },
    {
      "cell_type": "code",
      "metadata": {
        "id": "rSQXxhkgioSY",
        "colab": {
          "base_uri": "https://localhost:8080/"
        },
        "outputId": "e43f5edc-acde-4db5-cf48-c9442b7c2305"
      },
      "source": [
        "np.array([1, 5, 9]).ndim"
      ],
      "execution_count": null,
      "outputs": [
        {
          "output_type": "execute_result",
          "data": {
            "text/plain": [
              "1"
            ]
          },
          "metadata": {
            "tags": []
          },
          "execution_count": 25
        }
      ]
    },
    {
      "cell_type": "code",
      "metadata": {
        "id": "WJ7MOpqsivhC",
        "colab": {
          "base_uri": "https://localhost:8080/"
        },
        "outputId": "3c5200a2-8abf-4ceb-f855-b4f6511a3d78"
      },
      "source": [
        "np.array([1, 5, 9]).shape"
      ],
      "execution_count": null,
      "outputs": [
        {
          "output_type": "execute_result",
          "data": {
            "text/plain": [
              "(3,)"
            ]
          },
          "metadata": {
            "tags": []
          },
          "execution_count": 26
        }
      ]
    },
    {
      "cell_type": "code",
      "metadata": {
        "id": "2wKtOiMVdK5L",
        "colab": {
          "base_uri": "https://localhost:8080/"
        },
        "outputId": "708aa29b-10db-4514-ced0-b3d93f0a02e8"
      },
      "source": [
        "data_deux.shape"
      ],
      "execution_count": null,
      "outputs": [
        {
          "output_type": "execute_result",
          "data": {
            "text/plain": [
              "(3, 3)"
            ]
          },
          "metadata": {
            "tags": []
          },
          "execution_count": 16
        }
      ]
    },
    {
      "cell_type": "code",
      "metadata": {
        "id": "wzXmMZUGf_yZ",
        "colab": {
          "base_uri": "https://localhost:8080/"
        },
        "outputId": "9fcd0b9d-b21e-4b19-96eb-e6755341b214"
      },
      "source": [
        "data_deux.ndim"
      ],
      "execution_count": null,
      "outputs": [
        {
          "output_type": "execute_result",
          "data": {
            "text/plain": [
              "2"
            ]
          },
          "metadata": {
            "tags": []
          },
          "execution_count": 17
        }
      ]
    },
    {
      "cell_type": "code",
      "metadata": {
        "id": "j2GVSv30gAyk",
        "colab": {
          "base_uri": "https://localhost:8080/"
        },
        "outputId": "ef476376-a526-4797-8b76-05f64accc127"
      },
      "source": [
        "data_deux.size"
      ],
      "execution_count": null,
      "outputs": [
        {
          "output_type": "execute_result",
          "data": {
            "text/plain": [
              "9"
            ]
          },
          "metadata": {
            "tags": []
          },
          "execution_count": 18
        }
      ]
    },
    {
      "cell_type": "code",
      "metadata": {
        "id": "5ZMFtLXvgA9t",
        "colab": {
          "base_uri": "https://localhost:8080/"
        },
        "outputId": "f748189a-2e9f-470d-d80d-b654fd2239f8"
      },
      "source": [
        "data_deux.nbytes"
      ],
      "execution_count": null,
      "outputs": [
        {
          "output_type": "execute_result",
          "data": {
            "text/plain": [
              "72"
            ]
          },
          "metadata": {
            "tags": []
          },
          "execution_count": 20
        }
      ]
    },
    {
      "cell_type": "code",
      "metadata": {
        "id": "1ORmPlAbg-BJ"
      },
      "source": [
        "\n",
        "          [3 , 2, 5],\n",
        "          [1 , 7, 9],\n",
        "          [5 , 9, 6]\n",
        "          "
      ],
      "execution_count": null,
      "outputs": []
    },
    {
      "cell_type": "code",
      "metadata": {
        "id": "ZD2vgUWVg9uO"
      },
      "source": [
        "data_trois = np.array([\n",
        "                        [[3 , 2, 5],\n",
        "                        [1 , 7, 9],\n",
        "                        [5 , 9, 6]],\n",
        "                      \n",
        "                        [[1 , 8, 5],\n",
        "                        [1 , 5, 9],\n",
        "                        [5 , 9, 6]],\n",
        "                      \n",
        "                      [[3 , 2, 4],\n",
        "                      [1 , 7, 6],\n",
        "                      [5 , 9, 6]]\n",
        "\n",
        "          ])"
      ],
      "execution_count": null,
      "outputs": []
    },
    {
      "cell_type": "code",
      "metadata": {
        "id": "8VingDapg3t5",
        "colab": {
          "base_uri": "https://localhost:8080/"
        },
        "outputId": "9480d0cb-f41e-4b8f-d3c5-a23169b5a090"
      },
      "source": [
        "data_trois.ndim"
      ],
      "execution_count": null,
      "outputs": [
        {
          "output_type": "execute_result",
          "data": {
            "text/plain": [
              "3"
            ]
          },
          "metadata": {
            "tags": []
          },
          "execution_count": 22
        }
      ]
    },
    {
      "cell_type": "code",
      "metadata": {
        "id": "Rkw9b2MYg3fa"
      },
      "source": [
        "data_trois.shape"
      ],
      "execution_count": null,
      "outputs": []
    },
    {
      "cell_type": "code",
      "metadata": {
        "id": "axnLcxiNgBnq"
      },
      "source": [
        "# liste d'éléments = vecteur dim 1\n",
        "# liste de vecteurs =  matrices dim 2\n",
        "# liste de matrices = cube, tableau de dim 3"
      ],
      "execution_count": null,
      "outputs": []
    },
    {
      "cell_type": "code",
      "metadata": {
        "id": "5X_WE--Nl7na",
        "colab": {
          "base_uri": "https://localhost:8080/"
        },
        "outputId": "a69ffee2-fbba-4a39-bb0f-b3dc39977bff"
      },
      "source": [
        "np.array([1,5,9])"
      ],
      "execution_count": null,
      "outputs": [
        {
          "output_type": "execute_result",
          "data": {
            "text/plain": [
              "array([1, 5, 9])"
            ]
          },
          "metadata": {
            "tags": []
          },
          "execution_count": 27
        }
      ]
    },
    {
      "cell_type": "code",
      "metadata": {
        "id": "NvITnbvgl8bX",
        "colab": {
          "base_uri": "https://localhost:8080/"
        },
        "outputId": "7e4af9b5-f14c-4d32-cc2d-527aa3c884de"
      },
      "source": [
        "np.array([1,5,9]).size"
      ],
      "execution_count": null,
      "outputs": [
        {
          "output_type": "execute_result",
          "data": {
            "text/plain": [
              "3"
            ]
          },
          "metadata": {
            "tags": []
          },
          "execution_count": 28
        }
      ]
    },
    {
      "cell_type": "code",
      "metadata": {
        "id": "6owcPu0Ml8r6",
        "colab": {
          "base_uri": "https://localhost:8080/"
        },
        "outputId": "e0888ed2-b35c-4085-e94a-d05bc0e7d6bb"
      },
      "source": [
        "np.array([1,5,9]).ndim"
      ],
      "execution_count": null,
      "outputs": [
        {
          "output_type": "execute_result",
          "data": {
            "text/plain": [
              "1"
            ]
          },
          "metadata": {
            "tags": []
          },
          "execution_count": 29
        }
      ]
    },
    {
      "cell_type": "code",
      "metadata": {
        "id": "Ntllgfbdl84m",
        "colab": {
          "base_uri": "https://localhost:8080/"
        },
        "outputId": "75798fdf-aa7d-4293-ec48-2d8b4f87f73a"
      },
      "source": [
        "np.array([1,5,9]).shape"
      ],
      "execution_count": null,
      "outputs": [
        {
          "output_type": "execute_result",
          "data": {
            "text/plain": [
              "(3,)"
            ]
          },
          "metadata": {
            "tags": []
          },
          "execution_count": 30
        }
      ]
    },
    {
      "cell_type": "code",
      "metadata": {
        "id": "V53ZRns5l9Tp",
        "colab": {
          "base_uri": "https://localhost:8080/"
        },
        "outputId": "67cd6a19-d4f8-4b8b-da66-e07ddea1c70a"
      },
      "source": [
        "np.array([\n",
        "    [1, 5, 9],\n",
        "    [8, 9, 7]\n",
        "])"
      ],
      "execution_count": null,
      "outputs": [
        {
          "output_type": "execute_result",
          "data": {
            "text/plain": [
              "array([[1, 5, 9],\n",
              "       [8, 9, 7]])"
            ]
          },
          "metadata": {
            "tags": []
          },
          "execution_count": 31
        }
      ]
    },
    {
      "cell_type": "code",
      "metadata": {
        "id": "NJhEyjqnl9ef",
        "colab": {
          "base_uri": "https://localhost:8080/"
        },
        "outputId": "76a8edbc-dd58-4fba-8789-b64754d26ec6"
      },
      "source": [
        "np.array([\n",
        "    [1, 5, 9],\n",
        "    [8, 9, 7]\n",
        "]).ndim"
      ],
      "execution_count": null,
      "outputs": [
        {
          "output_type": "execute_result",
          "data": {
            "text/plain": [
              "2"
            ]
          },
          "metadata": {
            "tags": []
          },
          "execution_count": 32
        }
      ]
    },
    {
      "cell_type": "code",
      "metadata": {
        "id": "G8GhHtybl9oK",
        "colab": {
          "base_uri": "https://localhost:8080/"
        },
        "outputId": "834958bb-c8da-4586-ee13-8a7293899367"
      },
      "source": [
        "np.array([\n",
        "    [1, 5, 9],\n",
        "    [8, 9, 7]\n",
        "]).size"
      ],
      "execution_count": null,
      "outputs": [
        {
          "output_type": "execute_result",
          "data": {
            "text/plain": [
              "6"
            ]
          },
          "metadata": {
            "tags": []
          },
          "execution_count": 33
        }
      ]
    },
    {
      "cell_type": "code",
      "metadata": {
        "id": "axG4253Zl9y_",
        "colab": {
          "base_uri": "https://localhost:8080/"
        },
        "outputId": "723ab9fd-9b63-40e0-cf7d-66b0e94b78ca"
      },
      "source": [
        "np.array([\n",
        "    [1, 5, 9],\n",
        "    [8, 9, 7]\n",
        "]).shape\n",
        "# (2 , 3)"
      ],
      "execution_count": null,
      "outputs": [
        {
          "output_type": "execute_result",
          "data": {
            "text/plain": [
              "(2, 3)"
            ]
          },
          "metadata": {
            "tags": []
          },
          "execution_count": 34
        }
      ]
    },
    {
      "cell_type": "code",
      "metadata": {
        "id": "EWGeX5PogB1X",
        "colab": {
          "base_uri": "https://localhost:8080/"
        },
        "outputId": "5c27ef8f-0b49-4607-d6c0-1ea6f4d63560"
      },
      "source": [
        "np.array([\n",
        "    [1, 5, 9]\n",
        "]).shape\n",
        "# (1 , 3)"
      ],
      "execution_count": null,
      "outputs": [
        {
          "output_type": "execute_result",
          "data": {
            "text/plain": [
              "(1, 3)"
            ]
          },
          "metadata": {
            "tags": []
          },
          "execution_count": 35
        }
      ]
    },
    {
      "cell_type": "code",
      "metadata": {
        "id": "rKc290K1nUC_",
        "colab": {
          "base_uri": "https://localhost:8080/"
        },
        "outputId": "5c93b548-6ccb-4b91-bb0c-feb793f2e5ac"
      },
      "source": [
        "np.array([\n",
        "    [1, 5, 9]\n",
        "]).ndim"
      ],
      "execution_count": null,
      "outputs": [
        {
          "output_type": "execute_result",
          "data": {
            "text/plain": [
              "2"
            ]
          },
          "metadata": {
            "tags": []
          },
          "execution_count": 36
        }
      ]
    },
    {
      "cell_type": "code",
      "metadata": {
        "id": "ByEQDf0PnUYr"
      },
      "source": [
        "np.array([\n",
        "    [1, 5, 9],\n",
        "    [8, 9, 7]\n",
        "])"
      ],
      "execution_count": null,
      "outputs": []
    },
    {
      "cell_type": "code",
      "metadata": {
        "id": "qLmdA3-CnUvp"
      },
      "source": [
        "np.array([\n",
        "      [ [1, 5, 9],\n",
        "       [8, 9, 7]  ],  \n",
        "\n",
        "       [ [2, 5, 9],\n",
        "       [8, 9, 7]  ],\n",
        "\n",
        "       [ [13, 5, 9],\n",
        "       [8, 9, 7]  ]  \n",
        "])"
      ],
      "execution_count": null,
      "outputs": []
    },
    {
      "cell_type": "code",
      "metadata": {
        "id": "9V9FIZ8xoOLV",
        "colab": {
          "base_uri": "https://localhost:8080/"
        },
        "outputId": "717e0382-363f-4c07-a1a3-f84471706289"
      },
      "source": [
        "np.array([\n",
        "      [ [1, 5, 9],\n",
        "       [8, 9, 7]  ],  \n",
        "\n",
        "       [ [2, 5, 9],\n",
        "       [8, 9, 7]  ],\n",
        "\n",
        "       [ [13, 5, 9],\n",
        "       [8, 9, 7]  ]  \n",
        "]).ndim"
      ],
      "execution_count": null,
      "outputs": [
        {
          "output_type": "execute_result",
          "data": {
            "text/plain": [
              "3"
            ]
          },
          "metadata": {
            "tags": []
          },
          "execution_count": 37
        }
      ]
    },
    {
      "cell_type": "code",
      "metadata": {
        "id": "kGaOn8vgoOBG",
        "colab": {
          "base_uri": "https://localhost:8080/"
        },
        "outputId": "c69961c6-e8e6-41f1-b8a6-0fab877c22c1"
      },
      "source": [
        "np.array([\n",
        "      [ [1, 5, 9],\n",
        "       [8, 9, 7]  ],  \n",
        "\n",
        "       [ [2, 5, 9],\n",
        "       [8, 9, 7]  ],\n",
        "\n",
        "       [ [13, 5, 9],\n",
        "       [8, 9, 7]  ]  \n",
        "]).size"
      ],
      "execution_count": null,
      "outputs": [
        {
          "output_type": "execute_result",
          "data": {
            "text/plain": [
              "18"
            ]
          },
          "metadata": {
            "tags": []
          },
          "execution_count": 38
        }
      ]
    },
    {
      "cell_type": "code",
      "metadata": {
        "id": "NaKOETD9oN2L",
        "colab": {
          "base_uri": "https://localhost:8080/"
        },
        "outputId": "d2a3967a-5a7d-40f0-a587-49a39c692dba"
      },
      "source": [
        "np.array([\n",
        "      [ [1, 5, 9],\n",
        "       [8, 9, 7]  ],  \n",
        "\n",
        "       [ [2, 5, 9],\n",
        "       [8, 9, 7]  ],\n",
        "\n",
        "       [ [13, 5, 9],\n",
        "       [8, 9, 7]  ]  \n",
        "]).shape\n",
        "# (3 , 2, 3)"
      ],
      "execution_count": null,
      "outputs": [
        {
          "output_type": "execute_result",
          "data": {
            "text/plain": [
              "(3, 2, 3)"
            ]
          },
          "metadata": {
            "tags": []
          },
          "execution_count": 40
        }
      ]
    },
    {
      "cell_type": "code",
      "metadata": {
        "id": "YQ-PFQr_oNn1",
        "colab": {
          "base_uri": "https://localhost:8080/"
        },
        "outputId": "36e6c1b1-0b5d-4b7c-e818-0d27da8ef190"
      },
      "source": [
        "r = np.array([\n",
        "      [ [1, 5, 9],\n",
        "       [8, 9, 7]  ],  \n",
        "\n",
        "       [ [2, 5, 9],\n",
        "       [8, 9, 7]  ],\n",
        "\n",
        "       [ [13, 5, 9],\n",
        "       [8, 9, 7]  ]  \n",
        "])\n",
        "r"
      ],
      "execution_count": null,
      "outputs": [
        {
          "output_type": "execute_result",
          "data": {
            "text/plain": [
              "array([[[ 1,  5,  9],\n",
              "        [ 8,  9,  7]],\n",
              "\n",
              "       [[ 2,  5,  9],\n",
              "        [ 8,  9,  7]],\n",
              "\n",
              "       [[13,  5,  9],\n",
              "        [ 8,  9,  7]]])"
            ]
          },
          "metadata": {
            "tags": []
          },
          "execution_count": 41
        }
      ]
    },
    {
      "cell_type": "code",
      "metadata": {
        "id": "xkqK-rOHpEKg",
        "colab": {
          "base_uri": "https://localhost:8080/"
        },
        "outputId": "4019bdab-1189-4661-ea3f-af9ec8ce2620"
      },
      "source": [
        "r.nbytes"
      ],
      "execution_count": null,
      "outputs": [
        {
          "output_type": "execute_result",
          "data": {
            "text/plain": [
              "144"
            ]
          },
          "metadata": {
            "tags": []
          },
          "execution_count": 42
        }
      ]
    },
    {
      "cell_type": "code",
      "metadata": {
        "id": "8u-AItaInVDR",
        "colab": {
          "base_uri": "https://localhost:8080/"
        },
        "outputId": "f3ae3be2-5584-46da-e0c6-abae0939915a"
      },
      "source": [
        "144/1000 #ko ou kiloBytes"
      ],
      "execution_count": null,
      "outputs": [
        {
          "output_type": "execute_result",
          "data": {
            "text/plain": [
              "0.144"
            ]
          },
          "metadata": {
            "tags": []
          },
          "execution_count": 43
        }
      ]
    },
    {
      "cell_type": "code",
      "metadata": {
        "id": "-ti1eo1zqM_V"
      },
      "source": [
        ""
      ],
      "execution_count": null,
      "outputs": []
    },
    {
      "cell_type": "markdown",
      "metadata": {
        "id": "jHnNEfzTZQQd"
      },
      "source": [
        "## Accéder à un élément d'un tableau"
      ]
    },
    {
      "cell_type": "code",
      "metadata": {
        "id": "IkSifHNSqW5I"
      },
      "source": [
        "v = np.array([1,5,9])"
      ],
      "execution_count": null,
      "outputs": []
    },
    {
      "cell_type": "code",
      "metadata": {
        "id": "BmveEhejqWll",
        "colab": {
          "base_uri": "https://localhost:8080/"
        },
        "outputId": "e95d4f12-5292-4046-bc2c-712b1a621985"
      },
      "source": [
        "v[1]"
      ],
      "execution_count": null,
      "outputs": [
        {
          "output_type": "execute_result",
          "data": {
            "text/plain": [
              "5"
            ]
          },
          "metadata": {
            "tags": []
          },
          "execution_count": 45
        }
      ]
    },
    {
      "cell_type": "code",
      "metadata": {
        "id": "U5cunqXgqQw4",
        "colab": {
          "base_uri": "https://localhost:8080/"
        },
        "outputId": "f1a44070-e899-4a14-aabb-bbb564e84fc0"
      },
      "source": [
        "v[1:]"
      ],
      "execution_count": null,
      "outputs": [
        {
          "output_type": "execute_result",
          "data": {
            "text/plain": [
              "array([5, 9])"
            ]
          },
          "metadata": {
            "tags": []
          },
          "execution_count": 46
        }
      ]
    },
    {
      "cell_type": "code",
      "metadata": {
        "id": "LsSgdbz6qQjE",
        "colab": {
          "base_uri": "https://localhost:8080/"
        },
        "outputId": "33bf7940-0ea1-4b94-cc64-e7e74f32389b"
      },
      "source": [
        "v[-1]"
      ],
      "execution_count": null,
      "outputs": [
        {
          "output_type": "execute_result",
          "data": {
            "text/plain": [
              "9"
            ]
          },
          "metadata": {
            "tags": []
          },
          "execution_count": 47
        }
      ]
    },
    {
      "cell_type": "code",
      "metadata": {
        "id": "PU_ozKxGqQX1"
      },
      "source": [
        "matrice = np.array([\n",
        "    [1, 5, 9],\n",
        "    [8, 9, 7]\n",
        "])"
      ],
      "execution_count": null,
      "outputs": []
    },
    {
      "cell_type": "code",
      "metadata": {
        "id": "W7G5GCuorK3A",
        "colab": {
          "base_uri": "https://localhost:8080/"
        },
        "outputId": "c09a35cf-ae29-43ee-f652-eb39344db353"
      },
      "source": [
        "matrice[1, 1]"
      ],
      "execution_count": null,
      "outputs": [
        {
          "output_type": "execute_result",
          "data": {
            "text/plain": [
              "9"
            ]
          },
          "metadata": {
            "tags": []
          },
          "execution_count": 49
        }
      ]
    },
    {
      "cell_type": "code",
      "metadata": {
        "id": "8PXECmMxrLAs",
        "colab": {
          "base_uri": "https://localhost:8080/"
        },
        "outputId": "3a5285a0-8af3-4639-8cf4-f34b446f40b8"
      },
      "source": [
        "matrice[0,2]"
      ],
      "execution_count": null,
      "outputs": [
        {
          "output_type": "execute_result",
          "data": {
            "text/plain": [
              "9"
            ]
          },
          "metadata": {
            "tags": []
          },
          "execution_count": 50
        }
      ]
    },
    {
      "cell_type": "code",
      "metadata": {
        "id": "txKRTzghrLIi",
        "colab": {
          "base_uri": "https://localhost:8080/"
        },
        "outputId": "7a42c2e6-924d-421e-e2e7-a87dbcc1f3e9"
      },
      "source": [
        "matrice[1, 0]"
      ],
      "execution_count": null,
      "outputs": [
        {
          "output_type": "execute_result",
          "data": {
            "text/plain": [
              "8"
            ]
          },
          "metadata": {
            "tags": []
          },
          "execution_count": 51
        }
      ]
    },
    {
      "cell_type": "code",
      "metadata": {
        "id": "O95yWmyYr_Ef"
      },
      "source": [
        "v2 = np.array([\n",
        "    [1, 5, 9]\n",
        "])"
      ],
      "execution_count": null,
      "outputs": []
    },
    {
      "cell_type": "code",
      "metadata": {
        "id": "sCQZzgk1r-7L",
        "colab": {
          "base_uri": "https://localhost:8080/"
        },
        "outputId": "a8bfc225-731c-42b1-da91-f1a960dc0f09"
      },
      "source": [
        "v2[0, 1]"
      ],
      "execution_count": null,
      "outputs": [
        {
          "output_type": "execute_result",
          "data": {
            "text/plain": [
              "5"
            ]
          },
          "metadata": {
            "tags": []
          },
          "execution_count": 53
        }
      ]
    },
    {
      "cell_type": "code",
      "metadata": {
        "id": "49mhNSfwr-xN"
      },
      "source": [
        "cube = np.array([\n",
        "      [ [1, 5, 9],\n",
        "       [8, 9, 7]  ],  \n",
        "\n",
        "       [ [2, 5, 9],\n",
        "       [8, 9, 7]  ],\n",
        "\n",
        "       [ [13, 5, 9],\n",
        "       [8, 9, 7]  ]  \n",
        "])"
      ],
      "execution_count": null,
      "outputs": []
    },
    {
      "cell_type": "code",
      "metadata": {
        "id": "qbxysalBr-i0",
        "colab": {
          "base_uri": "https://localhost:8080/"
        },
        "outputId": "cea738d4-9e5a-4d6a-bf6b-25d73670dde5"
      },
      "source": [
        "cube"
      ],
      "execution_count": null,
      "outputs": [
        {
          "output_type": "execute_result",
          "data": {
            "text/plain": [
              "array([[[ 1,  5,  9],\n",
              "        [ 8,  9,  7]],\n",
              "\n",
              "       [[ 2,  5,  9],\n",
              "        [ 8,  9,  7]],\n",
              "\n",
              "       [[13,  5,  9],\n",
              "        [ 8,  9,  7]]])"
            ]
          },
          "metadata": {
            "tags": []
          },
          "execution_count": 55
        }
      ]
    },
    {
      "cell_type": "code",
      "metadata": {
        "id": "7L03YkCsrLPZ",
        "colab": {
          "base_uri": "https://localhost:8080/"
        },
        "outputId": "6d66083c-b428-4a46-bb8b-c8bed69b5a81"
      },
      "source": [
        "cube[2, 0, 0 ]"
      ],
      "execution_count": null,
      "outputs": [
        {
          "output_type": "execute_result",
          "data": {
            "text/plain": [
              "13"
            ]
          },
          "metadata": {
            "tags": []
          },
          "execution_count": 56
        }
      ]
    },
    {
      "cell_type": "code",
      "metadata": {
        "id": "UjZqq5hfrLSg",
        "colab": {
          "base_uri": "https://localhost:8080/"
        },
        "outputId": "d1d9b1e1-09b8-4aea-9962-11a33c6b3e78"
      },
      "source": [
        "cube[-1, 0, 0]"
      ],
      "execution_count": null,
      "outputs": [
        {
          "output_type": "execute_result",
          "data": {
            "text/plain": [
              "13"
            ]
          },
          "metadata": {
            "tags": []
          },
          "execution_count": 57
        }
      ]
    },
    {
      "cell_type": "code",
      "metadata": {
        "id": "oXM42McbszJK",
        "colab": {
          "base_uri": "https://localhost:8080/"
        },
        "outputId": "87e75c9e-d9e1-4434-c8ae-1884fcc2ade6"
      },
      "source": [
        "matrice"
      ],
      "execution_count": null,
      "outputs": [
        {
          "output_type": "execute_result",
          "data": {
            "text/plain": [
              "array([[1, 5, 9],\n",
              "       [8, 9, 7]])"
            ]
          },
          "metadata": {
            "tags": []
          },
          "execution_count": 58
        }
      ]
    },
    {
      "cell_type": "code",
      "metadata": {
        "id": "M1yb6FKzsy-S",
        "colab": {
          "base_uri": "https://localhost:8080/"
        },
        "outputId": "04e8e820-788b-4c3f-93bc-e6151ebf044b"
      },
      "source": [
        "matrice[0, 1: ]"
      ],
      "execution_count": null,
      "outputs": [
        {
          "output_type": "execute_result",
          "data": {
            "text/plain": [
              "array([5, 9])"
            ]
          },
          "metadata": {
            "tags": []
          },
          "execution_count": 59
        }
      ]
    },
    {
      "cell_type": "code",
      "metadata": {
        "id": "lQarmJxEthBU",
        "colab": {
          "base_uri": "https://localhost:8080/"
        },
        "outputId": "1119f225-1071-4f7a-a2df-8969fd824710"
      },
      "source": [
        "matrice[1, 1: ]"
      ],
      "execution_count": null,
      "outputs": [
        {
          "output_type": "execute_result",
          "data": {
            "text/plain": [
              "array([9, 7])"
            ]
          },
          "metadata": {
            "tags": []
          },
          "execution_count": 60
        }
      ]
    },
    {
      "cell_type": "code",
      "metadata": {
        "id": "aGbbOHN5tlCC",
        "colab": {
          "base_uri": "https://localhost:8080/"
        },
        "outputId": "ace1d6ce-0667-47d2-f0f6-d5b1f111a47b"
      },
      "source": [
        "matrice[0: , 1: ]"
      ],
      "execution_count": null,
      "outputs": [
        {
          "output_type": "execute_result",
          "data": {
            "text/plain": [
              "array([[5, 9],\n",
              "       [9, 7]])"
            ]
          },
          "metadata": {
            "tags": []
          },
          "execution_count": 62
        }
      ]
    },
    {
      "cell_type": "code",
      "metadata": {
        "id": "G3YKoY29tkyZ",
        "colab": {
          "base_uri": "https://localhost:8080/"
        },
        "outputId": "d1d493a6-2bc5-43f0-cb47-22388ab4217e"
      },
      "source": [
        "matrice[: , 1: ]"
      ],
      "execution_count": null,
      "outputs": [
        {
          "output_type": "execute_result",
          "data": {
            "text/plain": [
              "array([[5, 9],\n",
              "       [9, 7]])"
            ]
          },
          "metadata": {
            "tags": []
          },
          "execution_count": 63
        }
      ]
    },
    {
      "cell_type": "code",
      "metadata": {
        "id": "AFJ8Vo0Csyzz"
      },
      "source": [
        "matrice = np.array([\n",
        "      0  1  2  3  4      \n",
        "   0 [1, 5, 9, 4, 6],\n",
        "   1 [8, 9, 7, 5, 0],\n",
        "   2 [3, 2, 0, 6, 2],\n",
        "   3 [8, 6, 7, 8, 9]\n",
        "])"
      ],
      "execution_count": null,
      "outputs": []
    },
    {
      "cell_type": "code",
      "metadata": {
        "id": "LS2bSwsY0Di8",
        "colab": {
          "base_uri": "https://localhost:8080/"
        },
        "outputId": "a4511fea-b35f-450f-dd46-d8a0dc21922a"
      },
      "source": [
        "matrice[2, 3]"
      ],
      "execution_count": null,
      "outputs": [
        {
          "output_type": "execute_result",
          "data": {
            "text/plain": [
              "6"
            ]
          },
          "metadata": {
            "tags": []
          },
          "execution_count": 80
        }
      ]
    },
    {
      "cell_type": "code",
      "metadata": {
        "id": "p31y2qsgxTyu",
        "colab": {
          "base_uri": "https://localhost:8080/"
        },
        "outputId": "9fd28594-396f-4a22-ea6e-481c3e5e6a93"
      },
      "source": [
        "matrice[1:, 2:]"
      ],
      "execution_count": null,
      "outputs": [
        {
          "output_type": "execute_result",
          "data": {
            "text/plain": [
              "array([[7, 5, 0],\n",
              "       [0, 6, 2],\n",
              "       [7, 8, 9]])"
            ]
          },
          "metadata": {
            "tags": []
          },
          "execution_count": 71
        }
      ]
    },
    {
      "cell_type": "code",
      "metadata": {
        "id": "0haBAzsswLHk",
        "colab": {
          "base_uri": "https://localhost:8080/"
        },
        "outputId": "68f0de53-efd0-4251-9cc8-a306199f25c0"
      },
      "source": [
        "matrice[1:3, 2:4]"
      ],
      "execution_count": null,
      "outputs": [
        {
          "output_type": "execute_result",
          "data": {
            "text/plain": [
              "array([[7, 5],\n",
              "       [0, 6]])"
            ]
          },
          "metadata": {
            "tags": []
          },
          "execution_count": 70
        }
      ]
    },
    {
      "cell_type": "code",
      "metadata": {
        "id": "FIwsSPx6uY2C",
        "colab": {
          "base_uri": "https://localhost:8080/"
        },
        "outputId": "ffd0436c-f76a-4c24-f95a-78ebf03604c6"
      },
      "source": [
        "matrice.shape"
      ],
      "execution_count": null,
      "outputs": [
        {
          "output_type": "execute_result",
          "data": {
            "text/plain": [
              "(4, 5)"
            ]
          },
          "metadata": {
            "tags": []
          },
          "execution_count": 68
        }
      ]
    },
    {
      "cell_type": "code",
      "metadata": {
        "id": "kW6VoeNRsyoh",
        "colab": {
          "base_uri": "https://localhost:8080/"
        },
        "outputId": "d669c86d-6da0-4e5d-e9b5-1f64cb5dd107"
      },
      "source": [
        "matrice[1:3 , 1:3]"
      ],
      "execution_count": null,
      "outputs": [
        {
          "output_type": "execute_result",
          "data": {
            "text/plain": [
              "array([[9, 7],\n",
              "       [2, 0]])"
            ]
          },
          "metadata": {
            "tags": []
          },
          "execution_count": 69
        }
      ]
    },
    {
      "cell_type": "code",
      "metadata": {
        "id": "y5uUSrUjqQLO",
        "colab": {
          "base_uri": "https://localhost:8080/"
        },
        "outputId": "ca58d675-7906-400a-8b0e-1253a713bb10"
      },
      "source": [
        "np.array([[9,7],[2,0]])"
      ],
      "execution_count": null,
      "outputs": [
        {
          "output_type": "execute_result",
          "data": {
            "text/plain": [
              "array([[9, 7],\n",
              "       [2, 0]])"
            ]
          },
          "metadata": {
            "tags": []
          },
          "execution_count": 66
        }
      ]
    },
    {
      "cell_type": "code",
      "metadata": {
        "id": "iL04JZk4xid9"
      },
      "source": [
        "cube = np.array([\n",
        "      [ [1, 5, 9],\n",
        "        [8, 9, 7]  ],  \n",
        "\n",
        "       [ [6, 4, 9],\n",
        "         [8, 1, 7]  ],\n",
        "\n",
        "       [ [13, 0, 8],\n",
        "          [8, 9, 7]  ]  \n",
        "])"
      ],
      "execution_count": null,
      "outputs": []
    },
    {
      "cell_type": "code",
      "metadata": {
        "id": "pQErfsx2ytFB",
        "colab": {
          "base_uri": "https://localhost:8080/"
        },
        "outputId": "910ba0b9-71ff-4209-fc21-7fa4ad93eca7"
      },
      "source": [
        "cube[:2, 1:, :2]"
      ],
      "execution_count": null,
      "outputs": [
        {
          "output_type": "execute_result",
          "data": {
            "text/plain": [
              "array([[[8, 9]],\n",
              "\n",
              "       [[8, 1]]])"
            ]
          },
          "metadata": {
            "tags": []
          },
          "execution_count": 75
        }
      ]
    },
    {
      "cell_type": "code",
      "metadata": {
        "id": "o1yMqW3-xi5s",
        "colab": {
          "base_uri": "https://localhost:8080/"
        },
        "outputId": "abc7bdbd-d2a8-47eb-a094-b583ccd9ff8e"
      },
      "source": [
        "cube[:, :, 1:]"
      ],
      "execution_count": null,
      "outputs": [
        {
          "output_type": "execute_result",
          "data": {
            "text/plain": [
              "array([[[5, 9],\n",
              "        [9, 7]],\n",
              "\n",
              "       [[4, 9],\n",
              "        [1, 7]],\n",
              "\n",
              "       [[0, 8],\n",
              "        [9, 7]]])"
            ]
          },
          "metadata": {
            "tags": []
          },
          "execution_count": 74
        }
      ]
    },
    {
      "cell_type": "code",
      "metadata": {
        "id": "Yi-_b4MqxjAg",
        "colab": {
          "base_uri": "https://localhost:8080/"
        },
        "outputId": "432ab4fe-2580-4e9a-c17c-15174506e913"
      },
      "source": [
        "np.array(5).ndim"
      ],
      "execution_count": null,
      "outputs": [
        {
          "output_type": "execute_result",
          "data": {
            "text/plain": [
              "0"
            ]
          },
          "metadata": {
            "tags": []
          },
          "execution_count": 77
        }
      ]
    },
    {
      "cell_type": "code",
      "metadata": {
        "id": "slQjMe1VxjEs",
        "colab": {
          "base_uri": "https://localhost:8080/"
        },
        "outputId": "eb59f0e1-e5c6-44d5-e044-ca924072a582"
      },
      "source": [
        "np.array(5).shape"
      ],
      "execution_count": null,
      "outputs": [
        {
          "output_type": "execute_result",
          "data": {
            "text/plain": [
              "()"
            ]
          },
          "metadata": {
            "tags": []
          },
          "execution_count": 78
        }
      ]
    },
    {
      "cell_type": "code",
      "metadata": {
        "id": "-7_S_k3fxjJE"
      },
      "source": [
        ""
      ],
      "execution_count": null,
      "outputs": []
    },
    {
      "cell_type": "code",
      "metadata": {
        "id": "CkI8XI3axjMo",
        "colab": {
          "base_uri": "https://localhost:8080/"
        },
        "outputId": "7fd09279-cdc1-4a74-bef9-136eebb82f42"
      },
      "source": [
        "matrice = np.array([\n",
        "           \n",
        "   [1, 5, 9, 4, 6],\n",
        "   [8, 9, 7, 0],\n",
        "   [3, 2, 0, 6, 2],\n",
        "   [8, 6, 7, 8, 9]\n",
        "])"
      ],
      "execution_count": null,
      "outputs": [
        {
          "output_type": "stream",
          "text": [
            "/usr/local/lib/python3.6/dist-packages/ipykernel_launcher.py:6: VisibleDeprecationWarning: Creating an ndarray from ragged nested sequences (which is a list-or-tuple of lists-or-tuples-or ndarrays with different lengths or shapes) is deprecated. If you meant to do this, you must specify 'dtype=object' when creating the ndarray\n",
            "  \n"
          ],
          "name": "stderr"
        }
      ]
    },
    {
      "cell_type": "code",
      "metadata": {
        "id": "ohh4BdpFxjRO"
      },
      "source": [
        "matrice = np.array([\n",
        "        0  1  2  3  4      \n",
        "   Paul [1, 5, 9, 4, 6],\n",
        "   Kevin[8, 9, 7, 5, 0],\n",
        "   radji[3, 2, 0, 6, 2],\n",
        "   rock [8, 6, 7, 8, 9]\n",
        "])"
      ],
      "execution_count": null,
      "outputs": []
    },
    {
      "cell_type": "code",
      "metadata": {
        "id": "5D4nBg1LxjVc"
      },
      "source": [
        ""
      ],
      "execution_count": null,
      "outputs": []
    },
    {
      "cell_type": "markdown",
      "metadata": {
        "id": "1jocM6VVZQQd"
      },
      "source": [
        "## Accéder à des sous-tableaux d'un tableau"
      ]
    },
    {
      "cell_type": "markdown",
      "metadata": {
        "id": "oOTfgCv0ZQQe"
      },
      "source": [
        "## Vue et nom copie d'un tableau"
      ]
    },
    {
      "cell_type": "markdown",
      "metadata": {
        "id": "xeWqnye8ZQQe"
      },
      "source": [
        "## Comment copier alors un tableau ?"
      ]
    },
    {
      "cell_type": "markdown",
      "metadata": {
        "id": "aIRn0XoSZQQf"
      },
      "source": [
        "## Modifier la taille d'un tableau"
      ]
    },
    {
      "cell_type": "markdown",
      "metadata": {
        "id": "Xc_avV_HZQQf"
      },
      "source": [
        "## Concatener des Tableaux"
      ]
    },
    {
      "cell_type": "markdown",
      "metadata": {
        "id": "CboVPutwZQQg"
      },
      "source": [
        "# Calcul sur les tableaux avec Numpy "
      ]
    },
    {
      "cell_type": "markdown",
      "metadata": {
        "id": "6IPwr1n3ZQQg"
      },
      "source": [
        "## Tableau mieux que les listes ?"
      ]
    },
    {
      "cell_type": "markdown",
      "metadata": {
        "id": "vj9wz2TyZQQg"
      },
      "source": [
        "## Vectorisation*"
      ]
    },
    {
      "cell_type": "markdown",
      "metadata": {
        "id": "S6_oI6dVZQQh"
      },
      "source": [
        "# Aggregation"
      ]
    },
    {
      "cell_type": "markdown",
      "metadata": {
        "id": "Ql6v2ygMZQQh"
      },
      "source": [
        "# Diffusion (broadcasting) avec Numpy"
      ]
    },
    {
      "cell_type": "code",
      "metadata": {
        "id": "tfQgERdqZQQh"
      },
      "source": [
        ""
      ],
      "execution_count": null,
      "outputs": []
    },
    {
      "cell_type": "code",
      "metadata": {
        "id": "RQ_XqA8iZQQi"
      },
      "source": [
        ""
      ],
      "execution_count": null,
      "outputs": []
    }
  ]
}