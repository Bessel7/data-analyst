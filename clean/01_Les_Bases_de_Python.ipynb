{
 "cells": [
  {
   "cell_type": "markdown",
   "metadata": {
    "id": "TsYlZyrKJsr0"
   },
   "source": [
    "# Les Variables et opérateurs"
   ]
  },
  {
   "cell_type": "markdown",
   "metadata": {
    "id": "MwOQGNSfJsr6"
   },
   "source": [
    "Une variable est comme une case de mémoire dans notre ordinateur, à laquelle on donne un nom et une valeur qui peut changer. Voici comment définir une variable avec sa valeur en Python"
   ]
  },
  {
   "cell_type": "code",
   "execution_count": null,
   "metadata": {
    "id": "mEOPJ5ULJsr7"
   },
   "outputs": [],
   "source": [
    "poids = 89"
   ]
  },
  {
   "cell_type": "markdown",
   "metadata": {
    "id": "JdJGa6zSJsr8"
   },
   "source": [
    "Ici, nous avons donné le nom `poids` à notre variable et elle contient la valeur 89. La valeur d'une variable peut changer."
   ]
  },
  {
   "cell_type": "code",
   "execution_count": null,
   "metadata": {
    "id": "Hf5g6moNJsr8"
   },
   "outputs": [],
   "source": [
    "poids = 82"
   ]
  },
  {
   "cell_type": "markdown",
   "metadata": {
    "id": "YRELxTBSJsr9"
   },
   "source": [
    "Désormais, notre variable `poids` contient la valeur 82. On peut l'afficher pour vérifier avec le fonction `print`"
   ]
  },
  {
   "cell_type": "code",
   "execution_count": null,
   "metadata": {
    "id": "rxppGTcSJsr9",
    "outputId": "67585524-d038-4f15-d402-e65ff60a999b"
   },
   "outputs": [],
   "source": [
    "print(poids)"
   ]
  },
  {
   "cell_type": "markdown",
   "metadata": {
    "id": "tHNl3weNJsr-"
   },
   "source": [
    "Pour donc affichier la valeur d'une variable, il faut écrire `print` suivi de parathèses avec à l'intérieur le nom de notre variable. Puisqu'on est dans un notebook, on peut aussi afficher la valeur d'une variable simplement en tapant le nom comme ceci : "
   ]
  },
  {
   "cell_type": "code",
   "execution_count": null,
   "metadata": {
    "id": "80kS2_d4Jsr-",
    "outputId": "a420e593-7ba8-4c5e-c72e-61ae5664e325"
   },
   "outputs": [],
   "source": [
    "poids"
   ]
  },
  {
   "cell_type": "markdown",
   "metadata": {
    "id": "BQ0vqoM2Jsr_"
   },
   "source": [
    "Que se passe-t-il quand je nomme ma variable `2poids` pour dire que c'est un second poids ? Essayons:"
   ]
  },
  {
   "cell_type": "code",
   "execution_count": null,
   "metadata": {
    "id": "B0vOkYyCJsr_",
    "outputId": "46b4fd25-e2fc-4f2b-c538-515042dc61fc"
   },
   "outputs": [],
   "source": [
    "2poids = 25"
   ]
  },
  {
   "cell_type": "markdown",
   "metadata": {
    "id": "W_Bjzg80JssA"
   },
   "source": [
    "ON obtient une erreur. Cela est dû au fait qu'en Python le nom d'une variable ne peut commencer par un chiffre. Par convention, il est recommandé d'utiliser les lettres miniscules et le tiret du 8 `_` pour nommer une variable. N'oublions pas que le nom ne peut contenir un espace. Une variable pour designer l'âge de Kevin pourrait donc s'appeler `lage_de_kevin`."
   ]
  },
  {
   "cell_type": "code",
   "execution_count": null,
   "metadata": {
    "id": "u0Hy22jWJssA"
   },
   "outputs": [],
   "source": [
    "lage_de_kevin = 20"
   ]
  },
  {
   "cell_type": "markdown",
   "metadata": {
    "id": "rHxLluEzJssA"
   },
   "source": [
    "On peut faire des opérations mathématiques sur les variables : "
   ]
  },
  {
   "cell_type": "markdown",
   "metadata": {
    "id": "wRrg08tUJssB"
   },
   "source": [
    "**addiction**"
   ]
  },
  {
   "cell_type": "code",
   "execution_count": null,
   "metadata": {
    "id": "9pvruivwJssB",
    "outputId": "09b77cc8-85c9-4df3-fa46-9c34a4e951c9"
   },
   "outputs": [],
   "source": [
    "15 + 30"
   ]
  },
  {
   "cell_type": "code",
   "execution_count": null,
   "metadata": {
    "id": "nLKz1oR4JssB",
    "outputId": "d6f8ef11-da09-4429-b16e-25da797a7c59"
   },
   "outputs": [],
   "source": [
    "nombre = 5\n",
    "print(nombre + 4)"
   ]
  },
  {
   "cell_type": "markdown",
   "metadata": {
    "id": "wKoZ09vDJssB"
   },
   "source": [
    "**soustraction**"
   ]
  },
  {
   "cell_type": "code",
   "execution_count": null,
   "metadata": {
    "id": "KQbV_Mh4JssC",
    "outputId": "7275f73a-fe29-4418-c1e5-2d319e8b3ed5"
   },
   "outputs": [],
   "source": [
    "96 - 12"
   ]
  },
  {
   "cell_type": "code",
   "execution_count": null,
   "metadata": {
    "id": "4JEU36_4JssC",
    "outputId": "3dec55d4-06aa-4677-cdb5-0fbb2ce7111e"
   },
   "outputs": [],
   "source": [
    "print(nombre - 2)"
   ]
  },
  {
   "cell_type": "markdown",
   "metadata": {
    "id": "S3v18HL6JssC"
   },
   "source": [
    "**Multiplication**"
   ]
  },
  {
   "cell_type": "code",
   "execution_count": null,
   "metadata": {
    "id": "LK86qZPjJssD",
    "outputId": "0b50cf8a-9136-4fb3-8952-14067864f9c1"
   },
   "outputs": [],
   "source": [
    "5 * 3"
   ]
  },
  {
   "cell_type": "code",
   "execution_count": null,
   "metadata": {
    "id": "zUz_BZNNJssD",
    "outputId": "580aec60-66b7-4e8e-cbde-c717c00f858e"
   },
   "outputs": [],
   "source": [
    "print(nombre * 2)"
   ]
  },
  {
   "cell_type": "markdown",
   "metadata": {
    "id": "afjB3mbPJssD"
   },
   "source": [
    "**Division**"
   ]
  },
  {
   "cell_type": "code",
   "execution_count": null,
   "metadata": {
    "id": "TjbhNu2GJssD",
    "outputId": "302b4b4d-7d14-4f85-c7f2-56a04e663d83"
   },
   "outputs": [],
   "source": [
    "27 / 9"
   ]
  },
  {
   "cell_type": "code",
   "execution_count": null,
   "metadata": {
    "id": "JTzwG3t-JssE",
    "outputId": "014abfac-5a5d-47ac-8fd3-523834d20a3f"
   },
   "outputs": [],
   "source": [
    "25 / 2"
   ]
  },
  {
   "cell_type": "markdown",
   "metadata": {
    "id": "c0T7mtJoJssE"
   },
   "source": [
    "On peut décider d'extraire uniquement le quotient de la division"
   ]
  },
  {
   "cell_type": "code",
   "execution_count": null,
   "metadata": {
    "id": "kqzH0XVlJssE",
    "outputId": "1314340d-a8fe-4bd0-a8b3-484f2b7264c0"
   },
   "outputs": [],
   "source": [
    "25 // 2"
   ]
  },
  {
   "cell_type": "markdown",
   "metadata": {
    "id": "XkCNb1B9JssF"
   },
   "source": [
    "**Exposant**"
   ]
  },
  {
   "cell_type": "code",
   "execution_count": null,
   "metadata": {
    "id": "K-krY4EdJssF",
    "outputId": "131877c8-fa94-44cc-855a-175fd792a688"
   },
   "outputs": [],
   "source": [
    "2 ** 5"
   ]
  },
  {
   "cell_type": "code",
   "execution_count": null,
   "metadata": {
    "id": "pi_SkejXJssF",
    "outputId": "f63aade5-9520-4691-f59f-aff69c744261"
   },
   "outputs": [],
   "source": [
    "15 ** 0"
   ]
  },
  {
   "cell_type": "markdown",
   "metadata": {
    "id": "6otBPhSfJssF"
   },
   "source": [
    "**Modulo (Reste de la division)**"
   ]
  },
  {
   "cell_type": "code",
   "execution_count": null,
   "metadata": {
    "id": "ZP8CXnAlJssG",
    "outputId": "3f5a2707-20f4-4e4f-fd1b-40f397234d16"
   },
   "outputs": [],
   "source": [
    "89 % 2"
   ]
  },
  {
   "cell_type": "markdown",
   "metadata": {
    "id": "4kIMVv0wJssG"
   },
   "source": [
    "On peut donc dire qu'un nombre est pair par exemple si ce nombre modulo 2 est 1 et non 0"
   ]
  },
  {
   "cell_type": "code",
   "execution_count": null,
   "metadata": {
    "id": "7439TaUeJssG"
   },
   "outputs": [],
   "source": [
    "est_pair = 27 % 2"
   ]
  },
  {
   "cell_type": "code",
   "execution_count": null,
   "metadata": {
    "id": "IUa_o8KVJssG",
    "outputId": "7a7e64f4-5af8-41d4-ce49-519a18038361"
   },
   "outputs": [],
   "source": [
    "est_pair"
   ]
  },
  {
   "cell_type": "markdown",
   "metadata": {
    "id": "KjMC5R-cJssH"
   },
   "source": [
    "On peut stocker le resultat de l'opération sur une variable avec le même nom"
   ]
  },
  {
   "cell_type": "code",
   "execution_count": null,
   "metadata": {
    "id": "FBL543CqJssH"
   },
   "outputs": [],
   "source": [
    "nombres_de_voitures = 5"
   ]
  },
  {
   "cell_type": "code",
   "execution_count": null,
   "metadata": {
    "id": "HaY6hFZzJssH"
   },
   "outputs": [],
   "source": [
    "nombres_de_voitures = nombres_de_voitures + 15"
   ]
  },
  {
   "cell_type": "code",
   "execution_count": null,
   "metadata": {
    "id": "dFx9dqUdJssH",
    "outputId": "72cc774d-b351-4a0a-b130-0f360f9025f9"
   },
   "outputs": [],
   "source": [
    "nombres_de_voitures"
   ]
  },
  {
   "cell_type": "markdown",
   "metadata": {
    "id": "YciAx_yCJssI"
   },
   "source": [
    "on peut réecrire l'opération de cette manière"
   ]
  },
  {
   "cell_type": "code",
   "execution_count": null,
   "metadata": {
    "id": "nY0v0Cs0JssI"
   },
   "outputs": [],
   "source": [
    "nombres_de_voitures += 15 "
   ]
  },
  {
   "cell_type": "code",
   "execution_count": null,
   "metadata": {
    "id": "dpHRL_EfJssI",
    "outputId": "bcec7835-cce0-4113-cd92-a3fc581dd6a0"
   },
   "outputs": [],
   "source": [
    "nombres_de_voitures"
   ]
  },
  {
   "cell_type": "code",
   "execution_count": null,
   "metadata": {
    "id": "0Mlsw3DIJssI"
   },
   "outputs": [],
   "source": [
    "nombres_de_voitures -= 3"
   ]
  },
  {
   "cell_type": "code",
   "execution_count": null,
   "metadata": {
    "id": "iVbFgLA9JssJ",
    "outputId": "8b6fad36-2277-4411-ce12-66b3536430af"
   },
   "outputs": [],
   "source": [
    "nombres_de_voitures"
   ]
  },
  {
   "cell_type": "code",
   "execution_count": null,
   "metadata": {
    "id": "4MCijTamJssJ"
   },
   "outputs": [],
   "source": [
    "nombres_de_voitures /= 2"
   ]
  },
  {
   "cell_type": "code",
   "execution_count": null,
   "metadata": {
    "id": "-njxXlRvJssJ",
    "outputId": "89473d52-123f-4eb8-dc84-1673b6b8ec95"
   },
   "outputs": [],
   "source": [
    "nombres_de_voitures"
   ]
  },
  {
   "cell_type": "code",
   "execution_count": null,
   "metadata": {
    "id": "Q_bUb5cIJssJ"
   },
   "outputs": [],
   "source": [
    "nombres_de_voitures *= 3"
   ]
  },
  {
   "cell_type": "code",
   "execution_count": null,
   "metadata": {
    "id": "NoJdGOc_JssK",
    "outputId": "f72d05d3-4329-4a38-d96c-a27527f2bbea"
   },
   "outputs": [],
   "source": [
    "nombres_de_voitures"
   ]
  },
  {
   "cell_type": "markdown",
   "metadata": {
    "id": "HaVBhmDwJssK"
   },
   "source": [
    "**P E M D A S**"
   ]
  },
  {
   "cell_type": "code",
   "execution_count": null,
   "metadata": {
    "id": "AalHiYAlJssK"
   },
   "outputs": [],
   "source": []
  },
  {
   "cell_type": "code",
   "execution_count": null,
   "metadata": {
    "id": "K_QZyzI4JssK"
   },
   "outputs": [],
   "source": []
  },
  {
   "cell_type": "code",
   "execution_count": null,
   "metadata": {
    "id": "NTY-UfIDJssL"
   },
   "outputs": [],
   "source": []
  },
  {
   "cell_type": "code",
   "execution_count": null,
   "metadata": {
    "id": "2Jc8dnz6JssL"
   },
   "outputs": [],
   "source": []
  },
  {
   "cell_type": "code",
   "execution_count": null,
   "metadata": {
    "id": "ljIGjUvrJssL"
   },
   "outputs": [],
   "source": []
  },
  {
   "cell_type": "markdown",
   "metadata": {
    "id": "bAkgM3AWJssL"
   },
   "source": [
    "# Les Types de données en Python"
   ]
  },
  {
   "cell_type": "markdown",
   "metadata": {
    "id": "qM6cMi-6JssL"
   },
   "source": [
    "Il existe plusieurs types de données en Python."
   ]
  },
  {
   "cell_type": "markdown",
   "metadata": {
    "id": "UySdINyHJssL"
   },
   "source": [
    "## Les nombres entiers"
   ]
  },
  {
   "cell_type": "code",
   "execution_count": null,
   "metadata": {
    "id": "MlhqqBm_JssM"
   },
   "outputs": [],
   "source": [
    "age = 15"
   ]
  },
  {
   "cell_type": "markdown",
   "metadata": {
    "id": "iZaX4g0SJssM"
   },
   "source": [
    "15 est un nombre entier. En anglais, on dit que 15 est un `integer` ou encore `int` pour faire court. On peut vérifier le type d'une variable en utilisant la fonction `type` comme ceci : "
   ]
  },
  {
   "cell_type": "code",
   "execution_count": null,
   "metadata": {
    "id": "RXnKgYKQJssM",
    "outputId": "ca8c9940-ec56-4b0e-c81e-bce603a7bbb7"
   },
   "outputs": [],
   "source": [
    "type(age)"
   ]
  },
  {
   "cell_type": "markdown",
   "metadata": {
    "id": "iJtgqmvtJssM"
   },
   "source": [
    "## Les nombres à virgules"
   ]
  },
  {
   "cell_type": "code",
   "execution_count": null,
   "metadata": {
    "id": "2kclaWgnJssM"
   },
   "outputs": [],
   "source": [
    "taille = 1.83"
   ]
  },
  {
   "cell_type": "markdown",
   "metadata": {
    "id": "WxzDb3RaJssN"
   },
   "source": [
    "1.83 est un nombre à virgule. Il faut noter ici que la virgule est représentée par un point. C'est la convention en anglais. `1,83` n'est donc pas un nombre à virgule si vous l'ecrivez comme ca. En anglais, on appelle un nombre à virgule, `float`"
   ]
  },
  {
   "cell_type": "code",
   "execution_count": null,
   "metadata": {
    "id": "Zez5KAsqJssN",
    "outputId": "c6b7b61d-ff50-4e21-8f6b-95305ef3de16"
   },
   "outputs": [],
   "source": [
    "type(taille)"
   ]
  },
  {
   "cell_type": "markdown",
   "metadata": {
    "id": "ef6n_0MYJssN"
   },
   "source": [
    "## Les chaînes de caractères"
   ]
  },
  {
   "cell_type": "markdown",
   "metadata": {
    "id": "Mwgaq7qWJssN"
   },
   "source": [
    "On a vu les nombres. Place aux chaines de caractères. Un mot est une chaine de caractères. Une lettre est une chaine de caractères avec un seul élément. Pour dire à Python qu'une variable est une chaine de caractère ou encore `string`, on la met en des guillemets comme ceci `\"blabla\"` ou `'blabla'`."
   ]
  },
  {
   "cell_type": "code",
   "execution_count": null,
   "metadata": {
    "id": "v4ZtQxd8JssO"
   },
   "outputs": [],
   "source": [
    "nom = \"Kevin\""
   ]
  },
  {
   "cell_type": "code",
   "execution_count": null,
   "metadata": {
    "id": "tAU8syLHJssO",
    "outputId": "1b980969-f80a-4dc7-d2f0-0701cc059246"
   },
   "outputs": [],
   "source": [
    "type(nom)"
   ]
  },
  {
   "cell_type": "markdown",
   "metadata": {
    "id": "DSxdb7fnJssO"
   },
   "source": [
    "Que se passe-t-il si je mets un nombre entre des guillemets. Essayons et vérifions le type."
   ]
  },
  {
   "cell_type": "code",
   "execution_count": null,
   "metadata": {
    "id": "UEVhblqJJssO"
   },
   "outputs": [],
   "source": [
    "nombre = \"15\""
   ]
  },
  {
   "cell_type": "code",
   "execution_count": null,
   "metadata": {
    "id": "jLo2k1mSJssP",
    "outputId": "575c9ee0-725c-4c08-f6ea-2804dcb683cc"
   },
   "outputs": [],
   "source": [
    "type(nombre)"
   ]
  },
  {
   "cell_type": "markdown",
   "metadata": {
    "id": "33gSgXyRJssP"
   },
   "source": [
    "nombre est apparemment un `str (string)`, ce qui veut dire que toute chose qu'on mettra entre des guillemets est une chaine de caractères"
   ]
  },
  {
   "cell_type": "markdown",
   "metadata": {
    "id": "b9fi6_cVJssP"
   },
   "source": [
    "## Changement de Type"
   ]
  },
  {
   "cell_type": "code",
   "execution_count": null,
   "metadata": {
    "id": "w2JiF7g4JssP"
   },
   "outputs": [],
   "source": [
    "numero = \"15\""
   ]
  },
  {
   "cell_type": "code",
   "execution_count": null,
   "metadata": {
    "id": "TwiJsIRVJssP",
    "outputId": "f3c00543-30b3-4e56-d048-28f01d80a946"
   },
   "outputs": [],
   "source": [
    "type(numero)"
   ]
  },
  {
   "cell_type": "code",
   "execution_count": null,
   "metadata": {
    "id": "4UDhltxtJssQ"
   },
   "outputs": [],
   "source": [
    "numero_int =  int(numero)"
   ]
  },
  {
   "cell_type": "code",
   "execution_count": null,
   "metadata": {
    "id": "r7V1HXp9JssQ",
    "outputId": "2853fa73-dd0e-41d2-ebd7-f519223a9ac7"
   },
   "outputs": [],
   "source": [
    "type(numero_int)"
   ]
  },
  {
   "cell_type": "code",
   "execution_count": null,
   "metadata": {
    "id": "9PhsdvEOJssQ"
   },
   "outputs": [],
   "source": [
    "numero = \"1589kil\""
   ]
  },
  {
   "cell_type": "code",
   "execution_count": null,
   "metadata": {
    "id": "fkJv_6HuJssQ",
    "outputId": "34804155-dc07-4bf8-cc51-230f49217be8"
   },
   "outputs": [],
   "source": [
    "int(numero)"
   ]
  },
  {
   "cell_type": "code",
   "execution_count": null,
   "metadata": {
    "id": "uUfN4KmPJssR"
   },
   "outputs": [],
   "source": [
    "age = 15"
   ]
  },
  {
   "cell_type": "code",
   "execution_count": null,
   "metadata": {
    "id": "TigCFxs8JssR",
    "outputId": "72c0ea48-cd41-4c2b-97be-31ff4b17f89d"
   },
   "outputs": [],
   "source": [
    "str(age)"
   ]
  },
  {
   "cell_type": "code",
   "execution_count": null,
   "metadata": {
    "id": "2pANcwI2JssR"
   },
   "outputs": [],
   "source": [
    "poids = \"18.69\""
   ]
  },
  {
   "cell_type": "code",
   "execution_count": null,
   "metadata": {
    "id": "Utn7Qm8UJssR",
    "outputId": "b9fb6d13-9d6f-4f05-b89a-752735a67729"
   },
   "outputs": [],
   "source": [
    "float(poids)"
   ]
  },
  {
   "cell_type": "code",
   "execution_count": null,
   "metadata": {
    "id": "2pxccs7TJssR"
   },
   "outputs": [],
   "source": [
    "poids = float(poids)"
   ]
  },
  {
   "cell_type": "code",
   "execution_count": null,
   "metadata": {
    "id": "0TPIDCJzJssS",
    "outputId": "1444547f-75d5-48e9-f8cd-bc69fb3a0f94"
   },
   "outputs": [],
   "source": [
    "poids"
   ]
  },
  {
   "cell_type": "code",
   "execution_count": null,
   "metadata": {
    "id": "MGSBKcAGJssS"
   },
   "outputs": [],
   "source": []
  },
  {
   "cell_type": "markdown",
   "metadata": {
    "id": "-1TC_73UJssS"
   },
   "source": [
    "## Les listes"
   ]
  },
  {
   "cell_type": "code",
   "execution_count": null,
   "metadata": {
    "id": "KNCsTDs7JssS"
   },
   "outputs": [],
   "source": [
    "notes = [18, 15, 13, 20]"
   ]
  },
  {
   "cell_type": "code",
   "execution_count": null,
   "metadata": {
    "id": "YjG5IGO_JssT"
   },
   "outputs": [],
   "source": [
    "blabla = [\"Kevin\", 15, 25.25, [5], \"1\"]"
   ]
  },
  {
   "cell_type": "code",
   "execution_count": null,
   "metadata": {
    "id": "7RgCvnFEJssT",
    "outputId": "d0d583d0-b41d-4806-f3b9-a050897d5c58"
   },
   "outputs": [],
   "source": [
    "notes[0]"
   ]
  },
  {
   "cell_type": "code",
   "execution_count": null,
   "metadata": {
    "id": "ay242PPuJssT",
    "outputId": "0f81a9c9-8bd0-41e5-fcbf-5401e67542f8"
   },
   "outputs": [],
   "source": [
    "notes[-2]"
   ]
  },
  {
   "cell_type": "code",
   "execution_count": null,
   "metadata": {
    "id": "3tCF0ODUJssT",
    "outputId": "df4a7465-70c6-436d-a376-93429750a9b4"
   },
   "outputs": [],
   "source": [
    "notes[2]"
   ]
  },
  {
   "cell_type": "code",
   "execution_count": null,
   "metadata": {
    "id": "9NSMJz6qJssU",
    "outputId": "b87cd5af-283e-40ab-f63c-3f993e8486e1"
   },
   "outputs": [],
   "source": [
    "blabla[3]"
   ]
  },
  {
   "cell_type": "code",
   "execution_count": null,
   "metadata": {
    "id": "6rvk9eJZJssU",
    "outputId": "421a8f52-66ca-42bf-fcb4-36374356113d"
   },
   "outputs": [],
   "source": [
    "type(blabla[3])"
   ]
  },
  {
   "cell_type": "code",
   "execution_count": null,
   "metadata": {
    "id": "0p53T_yFJssU",
    "outputId": "6b8f9821-8172-48e0-b1b1-89733c81d6f9"
   },
   "outputs": [],
   "source": [
    "type(blabla)"
   ]
  },
  {
   "cell_type": "code",
   "execution_count": null,
   "metadata": {
    "id": "JR-qMiLMJssU"
   },
   "outputs": [],
   "source": [
    "notes = [18, 15, 13, 20]"
   ]
  },
  {
   "cell_type": "code",
   "execution_count": null,
   "metadata": {
    "id": "hx2HpDHzJssU"
   },
   "outputs": [],
   "source": [
    "notes[-2] = 10"
   ]
  },
  {
   "cell_type": "code",
   "execution_count": null,
   "metadata": {
    "id": "zi0vaLWZJssV",
    "outputId": "bcb35019-908d-44bf-e5f6-85f2e3f97205"
   },
   "outputs": [],
   "source": [
    "notes"
   ]
  },
  {
   "cell_type": "code",
   "execution_count": null,
   "metadata": {
    "id": "4bo_JVdPJssV",
    "outputId": "b102a853-f935-4fda-c62c-a967bf938574"
   },
   "outputs": [],
   "source": [
    "notes[1:3]"
   ]
  },
  {
   "cell_type": "code",
   "execution_count": null,
   "metadata": {
    "id": "uJEBQd-1JssV"
   },
   "outputs": [],
   "source": [
    "notes[index_du_premier: index_du_dernier + 1]"
   ]
  },
  {
   "cell_type": "code",
   "execution_count": null,
   "metadata": {
    "id": "7JzOyURSJssV"
   },
   "outputs": [],
   "source": [
    "nombres = [ 14, 58, 45, -9, \"ballon\", \"kevin\", 12]"
   ]
  },
  {
   "cell_type": "code",
   "execution_count": null,
   "metadata": {
    "id": "IvQ_nrFEJssV",
    "outputId": "374644a3-213e-4f48-858c-a39bc2e03c15"
   },
   "outputs": [],
   "source": [
    "nombres[4:6]"
   ]
  },
  {
   "cell_type": "code",
   "execution_count": null,
   "metadata": {
    "id": "_EEFTl_FJssW",
    "outputId": "a6d7f188-39eb-4d3a-c2ae-26fdc8f6b6f5"
   },
   "outputs": [],
   "source": [
    "nombres[-3:-1]"
   ]
  },
  {
   "cell_type": "code",
   "execution_count": null,
   "metadata": {
    "id": "JP8sm2zvJssY"
   },
   "outputs": [],
   "source": [
    "nombres.append(20)"
   ]
  },
  {
   "cell_type": "code",
   "execution_count": null,
   "metadata": {
    "id": "cgrARiwjJssZ",
    "outputId": "94bfb8e7-1bbe-413e-e3c2-c1229dfd9bc9"
   },
   "outputs": [],
   "source": [
    "nombres"
   ]
  },
  {
   "cell_type": "code",
   "execution_count": null,
   "metadata": {
    "id": "t94jAN3uJssZ",
    "outputId": "16fc6247-e4e2-44b8-87c1-58179ec1ab1b"
   },
   "outputs": [],
   "source": [
    "nombres[4:6]"
   ]
  },
  {
   "cell_type": "code",
   "execution_count": null,
   "metadata": {
    "id": "BhqDD1vcJssZ",
    "outputId": "28d4761c-e26d-4628-c043-5a70f7739c14"
   },
   "outputs": [],
   "source": [
    "nombres[-4:-2]"
   ]
  },
  {
   "cell_type": "code",
   "execution_count": null,
   "metadata": {
    "id": "U0IRgs9qJssa"
   },
   "outputs": [],
   "source": [
    "nombres[3] = 9"
   ]
  },
  {
   "cell_type": "code",
   "execution_count": null,
   "metadata": {
    "id": "Bre5E9IsJssa",
    "outputId": "11721072-7ed4-495d-c91c-bb2940e4fa2f"
   },
   "outputs": [],
   "source": [
    "nombres"
   ]
  },
  {
   "cell_type": "code",
   "execution_count": null,
   "metadata": {
    "id": "tWNEWdUCJssa"
   },
   "outputs": [],
   "source": [
    "del nombres[4]"
   ]
  },
  {
   "cell_type": "code",
   "execution_count": null,
   "metadata": {
    "id": "kEdjOvFbJssa",
    "outputId": "41e63e02-3d7c-4483-ca7e-d85e7118924c"
   },
   "outputs": [],
   "source": [
    "nombres"
   ]
  },
  {
   "cell_type": "code",
   "execution_count": null,
   "metadata": {
    "id": "s513BawFJssb"
   },
   "outputs": [],
   "source": [
    "nombres.remove('kevin')"
   ]
  },
  {
   "cell_type": "code",
   "execution_count": null,
   "metadata": {
    "id": "xMT8VL2XJssb",
    "outputId": "53d61943-eed9-45b5-bd52-57cab7e61d77"
   },
   "outputs": [],
   "source": [
    "nombres"
   ]
  },
  {
   "cell_type": "code",
   "execution_count": null,
   "metadata": {
    "id": "PacBbBDOJssb",
    "outputId": "94a910f6-9975-49b3-9a3f-33457bd29349"
   },
   "outputs": [],
   "source": [
    "nombres"
   ]
  },
  {
   "cell_type": "code",
   "execution_count": null,
   "metadata": {
    "id": "GrlCmRDTJssb"
   },
   "outputs": [],
   "source": [
    "nombres.insert(4, 'radji')"
   ]
  },
  {
   "cell_type": "code",
   "execution_count": null,
   "metadata": {
    "id": "EicAzKIEJssc",
    "outputId": "8fb6a137-1e62-4b11-ac68-a8b94a22106a"
   },
   "outputs": [],
   "source": [
    "nombres"
   ]
  },
  {
   "cell_type": "code",
   "execution_count": null,
   "metadata": {
    "id": "IQTsRr0ZJssc",
    "outputId": "c40cda93-84e3-401f-94ac-c5e696b52818"
   },
   "outputs": [],
   "source": [
    "len(nombres)"
   ]
  },
  {
   "cell_type": "code",
   "execution_count": null,
   "metadata": {
    "id": "nq98UtfELgK1"
   },
   "outputs": [],
   "source": [
    "blabla = [4, \"ki\", 5, \"ko\", 9, \"koi\", 15, \"ku\"]"
   ]
  },
  {
   "cell_type": "code",
   "execution_count": null,
   "metadata": {
    "colab": {
     "base_uri": "https://localhost:8080/"
    },
    "id": "P7iB_4u3Lf1p",
    "outputId": "5cbe713a-9daa-4edc-fb37-031540bdfff4"
   },
   "outputs": [],
   "source": [
    "blabla[::2]"
   ]
  },
  {
   "cell_type": "code",
   "execution_count": null,
   "metadata": {
    "id": "oJajdMVPJssc"
   },
   "outputs": [],
   "source": [
    "blabla.clear()"
   ]
  },
  {
   "cell_type": "code",
   "execution_count": null,
   "metadata": {
    "colab": {
     "base_uri": "https://localhost:8080/"
    },
    "id": "VChjNZdXJssc",
    "outputId": "bec10a8e-af5f-4446-8142-8ac16c67cf8d"
   },
   "outputs": [],
   "source": [
    "blabla"
   ]
  },
  {
   "cell_type": "code",
   "execution_count": null,
   "metadata": {
    "id": "ho0Hw5OvN0xu"
   },
   "outputs": [],
   "source": [
    "liste_vide = []"
   ]
  },
  {
   "cell_type": "code",
   "execution_count": null,
   "metadata": {
    "id": "26sISGJZN4FJ"
   },
   "outputs": [],
   "source": [
    "liste_vide.append(25)"
   ]
  },
  {
   "cell_type": "code",
   "execution_count": null,
   "metadata": {
    "colab": {
     "base_uri": "https://localhost:8080/"
    },
    "id": "pLuvzLlVN1T2",
    "outputId": "834f45ce-4e3f-4467-9852-8c6d75d05c16"
   },
   "outputs": [],
   "source": [
    "liste_vide"
   ]
  },
  {
   "cell_type": "code",
   "execution_count": null,
   "metadata": {
    "id": "hzArikacOINp"
   },
   "outputs": [],
   "source": [
    "[2,5,8,9,7,1,5].sort()"
   ]
  },
  {
   "cell_type": "code",
   "execution_count": null,
   "metadata": {
    "id": "VBslIxdIO3Co"
   },
   "outputs": [],
   "source": [
    "nombres = [2,5,8,9,7,1,5]"
   ]
  },
  {
   "cell_type": "code",
   "execution_count": null,
   "metadata": {
    "id": "ywWdFRAjO2et"
   },
   "outputs": [],
   "source": [
    "nombres.sort()"
   ]
  },
  {
   "cell_type": "code",
   "execution_count": null,
   "metadata": {
    "colab": {
     "base_uri": "https://localhost:8080/"
    },
    "id": "T_Kv3_G5OIli",
    "outputId": "9b7ac9bf-7f17-4dd6-d3f6-0ebb2d397eb2"
   },
   "outputs": [],
   "source": [
    "nombres"
   ]
  },
  {
   "cell_type": "code",
   "execution_count": null,
   "metadata": {
    "colab": {
     "base_uri": "https://localhost:8080/"
    },
    "id": "1PLA1JZtPIIK",
    "outputId": "02c9f0ca-947d-4680-b229-d004cbef9698"
   },
   "outputs": [],
   "source": [
    "sorted(nombres)"
   ]
  },
  {
   "cell_type": "code",
   "execution_count": null,
   "metadata": {
    "colab": {
     "base_uri": "https://localhost:8080/"
    },
    "id": "XHFrgeMXPIjV",
    "outputId": "ad48eb66-13f0-4aab-ddaf-3553e91b3ac9"
   },
   "outputs": [],
   "source": [
    "nombres"
   ]
  },
  {
   "cell_type": "markdown",
   "metadata": {
    "id": "2WnEQu-UQhM_"
   },
   "source": [
    "Peut-on ordonner une liste qui contient des nombres et des chaines de caractères ?"
   ]
  },
  {
   "cell_type": "code",
   "execution_count": null,
   "metadata": {
    "id": "tU7sKJdHPU-k"
   },
   "outputs": [],
   "source": []
  },
  {
   "cell_type": "code",
   "execution_count": null,
   "metadata": {
    "id": "rZ5Y1QU5PVXH"
   },
   "outputs": [],
   "source": []
  },
  {
   "cell_type": "code",
   "execution_count": null,
   "metadata": {
    "id": "Gu8eioUWPVuU"
   },
   "outputs": [],
   "source": []
  },
  {
   "cell_type": "markdown",
   "metadata": {
    "id": "Bs5Uf4NEJssc"
   },
   "source": [
    "## Les tuples"
   ]
  },
  {
   "cell_type": "code",
   "execution_count": null,
   "metadata": {
    "id": "9Jl6f0UNQpC_"
   },
   "outputs": [],
   "source": [
    "un_tuple = (2, 5 , 9)"
   ]
  },
  {
   "cell_type": "code",
   "execution_count": null,
   "metadata": {
    "colab": {
     "base_uri": "https://localhost:8080/"
    },
    "id": "a3pfGOx_QotQ",
    "outputId": "e7a283f5-ae67-46f6-e00b-331da63d1204"
   },
   "outputs": [],
   "source": [
    "type(un_tuple)"
   ]
  },
  {
   "cell_type": "code",
   "execution_count": null,
   "metadata": {
    "colab": {
     "base_uri": "https://localhost:8080/"
    },
    "id": "MM-xxwmqQ6c4",
    "outputId": "3f33164f-168e-4fd9-d65e-6437a8f525e4"
   },
   "outputs": [],
   "source": [
    "un_tuple[2]"
   ]
  },
  {
   "cell_type": "code",
   "execution_count": null,
   "metadata": {
    "colab": {
     "base_uri": "https://localhost:8080/",
     "height": 162
    },
    "id": "jUzXlbYLQ6Mi",
    "outputId": "1d4f2472-8bab-4169-fb67-644636b69614"
   },
   "outputs": [],
   "source": [
    "un_tuple(2)"
   ]
  },
  {
   "cell_type": "code",
   "execution_count": null,
   "metadata": {
    "colab": {
     "base_uri": "https://localhost:8080/"
    },
    "id": "nHPjUjuYQoTS",
    "outputId": "0cb03ae7-c173-42b3-c737-d851812e538a"
   },
   "outputs": [],
   "source": [
    "un_tuple[0:2]"
   ]
  },
  {
   "cell_type": "code",
   "execution_count": null,
   "metadata": {
    "colab": {
     "base_uri": "https://localhost:8080/",
     "height": 162
    },
    "id": "WzCoe8-SJssd",
    "outputId": "1b5558a5-469f-4b2c-c89f-74c56baf4b4c"
   },
   "outputs": [],
   "source": [
    "un_tuple[1] = 15000"
   ]
  },
  {
   "cell_type": "code",
   "execution_count": null,
   "metadata": {
    "colab": {
     "base_uri": "https://localhost:8080/",
     "height": 162
    },
    "id": "4cDAOgUGRfl4",
    "outputId": "36723bea-9b74-4ae3-e0f9-b20541e611cc"
   },
   "outputs": [],
   "source": [
    "un_tuple.append(15000)"
   ]
  },
  {
   "cell_type": "code",
   "execution_count": null,
   "metadata": {
    "colab": {
     "base_uri": "https://localhost:8080/",
     "height": 162
    },
    "id": "FFQNelO9RfSy",
    "outputId": "2f3f0f78-a90f-47a5-a0dd-d3e13b174740"
   },
   "outputs": [],
   "source": [
    "del un_tuple[1]"
   ]
  },
  {
   "cell_type": "code",
   "execution_count": null,
   "metadata": {
    "id": "FbCpFFlcJssd"
   },
   "outputs": [],
   "source": [
    "jours = ('lundi')"
   ]
  },
  {
   "cell_type": "code",
   "execution_count": null,
   "metadata": {
    "id": "d9GGmdz_Jssd"
   },
   "outputs": [],
   "source": []
  },
  {
   "cell_type": "markdown",
   "metadata": {
    "id": "l6MGJvGuJssd"
   },
   "source": [
    "## Les dictionnaires"
   ]
  },
  {
   "cell_type": "code",
   "execution_count": null,
   "metadata": {
    "id": "paH_4Z3SSHXi"
   },
   "outputs": [],
   "source": [
    "annuaire = {\"kevin\": \"06545885852\", \"radji\": \"06466548454\"}"
   ]
  },
  {
   "cell_type": "code",
   "execution_count": null,
   "metadata": {
    "colab": {
     "base_uri": "https://localhost:8080/"
    },
    "id": "8geQvkxRSGhB",
    "outputId": "9c044d9b-bc0b-43a1-d257-a49f103987e8"
   },
   "outputs": [],
   "source": [
    "type(annuaire)"
   ]
  },
  {
   "cell_type": "code",
   "execution_count": null,
   "metadata": {
    "colab": {
     "base_uri": "https://localhost:8080/",
     "height": 35
    },
    "id": "coNPmdkqJssd",
    "outputId": "75fc4fac-526d-4d6f-80e1-806d15ada93d"
   },
   "outputs": [],
   "source": [
    "annuaire[\"kevin\"]"
   ]
  },
  {
   "cell_type": "code",
   "execution_count": null,
   "metadata": {
    "id": "vptWtghUJssd"
   },
   "outputs": [],
   "source": [
    "annuaire = {\"kevin\": \"06545885852\", \"radji\": \"06466548454\", \"rock_ray\": [\"066545\", \"06454\"]}"
   ]
  },
  {
   "cell_type": "code",
   "execution_count": null,
   "metadata": {
    "colab": {
     "base_uri": "https://localhost:8080/"
    },
    "id": "Z_n9rfZjJsse",
    "outputId": "679892c8-b2de-46bf-8a25-aff8921c5dd9"
   },
   "outputs": [],
   "source": [
    "annuaire[\"rock_ray\"]"
   ]
  },
  {
   "cell_type": "code",
   "execution_count": null,
   "metadata": {
    "colab": {
     "base_uri": "https://localhost:8080/",
     "height": 35
    },
    "id": "KfHR9HDlTkNz",
    "outputId": "ae35ccfe-44c6-4783-de9d-14a5aa5a8bca"
   },
   "outputs": [],
   "source": [
    "annuaire[\"rock_ray\"][0]"
   ]
  },
  {
   "cell_type": "code",
   "execution_count": null,
   "metadata": {
    "id": "Z3Q77elfTpjq"
   },
   "outputs": [],
   "source": [
    "annuaire[\"rock_ray\"].append(\"06545451\")"
   ]
  },
  {
   "cell_type": "code",
   "execution_count": null,
   "metadata": {
    "colab": {
     "base_uri": "https://localhost:8080/"
    },
    "id": "aQA-NxoITp4V",
    "outputId": "c55a8b96-d8be-47d4-c086-e06551b8c05d"
   },
   "outputs": [],
   "source": [
    "annuaire"
   ]
  },
  {
   "cell_type": "markdown",
   "metadata": {
    "id": "M5g971cPT053"
   },
   "source": [
    "Peut-on créer une liste de dictionnaire ? un dictionnaire de liste de dictionnaires?"
   ]
  },
  {
   "cell_type": "code",
   "execution_count": null,
   "metadata": {
    "id": "2hEErCpATqDv"
   },
   "outputs": [],
   "source": [
    "un_dict = {2: \"deux\", 5:\"cinq\", 3:\"trois\"}"
   ]
  },
  {
   "cell_type": "code",
   "execution_count": null,
   "metadata": {
    "colab": {
     "base_uri": "https://localhost:8080/"
    },
    "id": "YKA071a-WOOM",
    "outputId": "81d4f5b4-cb88-4d15-808c-752e807dc4b4"
   },
   "outputs": [],
   "source": [
    "len(un_dict)"
   ]
  },
  {
   "cell_type": "code",
   "execution_count": null,
   "metadata": {
    "colab": {
     "base_uri": "https://localhost:8080/",
     "height": 35
    },
    "id": "WJWpI4V6TqTI",
    "outputId": "c19b0427-2f06-45bb-89af-b6ce29159edc"
   },
   "outputs": [],
   "source": [
    "un_dict[2]"
   ]
  },
  {
   "cell_type": "code",
   "execution_count": null,
   "metadata": {
    "colab": {
     "base_uri": "https://localhost:8080/",
     "height": 162
    },
    "id": "PaZJTkC1UGlr",
    "outputId": "48774bbf-aceb-4c7e-fc2a-5116f7dafffb"
   },
   "outputs": [],
   "source": [
    "un_dict[1]"
   ]
  },
  {
   "cell_type": "code",
   "execution_count": null,
   "metadata": {
    "colab": {
     "base_uri": "https://localhost:8080/",
     "height": 35
    },
    "id": "Pkb0eTdeUGzt",
    "outputId": "190abea3-94e8-44ae-bd88-f943217e847c"
   },
   "outputs": [],
   "source": [
    "un_dict[5]"
   ]
  },
  {
   "cell_type": "code",
   "execution_count": null,
   "metadata": {
    "id": "oofdUY0FVJwC"
   },
   "outputs": [],
   "source": [
    " d1 = {'a': 1, 'b': 2, 'c': 3, 'd': 4, 'a1': 5, 'b1': 10, 'c1': 8, 'd1': 6}"
   ]
  },
  {
   "cell_type": "code",
   "execution_count": null,
   "metadata": {
    "colab": {
     "base_uri": "https://localhost:8080/"
    },
    "id": "X0H1EBUZVUSS",
    "outputId": "b8d5aecf-4855-4759-963f-c9907fa31d51"
   },
   "outputs": [],
   "source": [
    "d1.items()"
   ]
  },
  {
   "cell_type": "code",
   "execution_count": null,
   "metadata": {
    "colab": {
     "base_uri": "https://localhost:8080/"
    },
    "id": "INPcvJ_qVJip",
    "outputId": "72c84d0b-018c-435e-de60-45ce7afaf3e5"
   },
   "outputs": [],
   "source": [
    "sorted(d1.items(), key=lambda t: t[0])"
   ]
  },
  {
   "cell_type": "code",
   "execution_count": null,
   "metadata": {
    "colab": {
     "base_uri": "https://localhost:8080/"
    },
    "id": "Q4DiLypcVJTu",
    "outputId": "1c8f0345-fc74-47e3-a5d2-a3fdc19fb7bc"
   },
   "outputs": [],
   "source": [
    "sorted(d1.items(), key=lambda t: t[1])"
   ]
  },
  {
   "cell_type": "markdown",
   "metadata": {
    "id": "Ll3lqDsXV82O"
   },
   "source": [
    "## Chaine de caractères: Es-tu une collection comme liste ?"
   ]
  },
  {
   "cell_type": "code",
   "execution_count": null,
   "metadata": {
    "id": "fYwDtuSRVwXj"
   },
   "outputs": [],
   "source": [
    "nom = \"Kevin\""
   ]
  },
  {
   "cell_type": "code",
   "execution_count": null,
   "metadata": {
    "colab": {
     "base_uri": "https://localhost:8080/"
    },
    "id": "KIjuN1LPVwES",
    "outputId": "6ff06a6c-1cad-44be-aab0-a01f382f6221"
   },
   "outputs": [],
   "source": [
    "len(nom)"
   ]
  },
  {
   "cell_type": "code",
   "execution_count": null,
   "metadata": {
    "colab": {
     "base_uri": "https://localhost:8080/",
     "height": 35
    },
    "id": "mMwk8EnTVv2X",
    "outputId": "97602b16-3ec8-4b13-bed9-e5983f719388"
   },
   "outputs": [],
   "source": [
    "nom[0]"
   ]
  },
  {
   "cell_type": "code",
   "execution_count": null,
   "metadata": {
    "colab": {
     "base_uri": "https://localhost:8080/",
     "height": 35
    },
    "id": "b0cpJgsgVvn7",
    "outputId": "0c1f23d5-17ee-4258-e804-0072e4fb4aae"
   },
   "outputs": [],
   "source": [
    "nom[:4]"
   ]
  },
  {
   "cell_type": "code",
   "execution_count": null,
   "metadata": {
    "colab": {
     "base_uri": "https://localhost:8080/",
     "height": 162
    },
    "id": "Jebm1Qm1VvZp",
    "outputId": "6867f959-5c46-48bf-fe27-a26360a2cc32"
   },
   "outputs": [],
   "source": [
    "nom[0] = \"k\""
   ]
  },
  {
   "cell_type": "code",
   "execution_count": null,
   "metadata": {
    "id": "84MrWckVVvFq"
   },
   "outputs": [],
   "source": [
    "nom = 'radji'"
   ]
  },
  {
   "cell_type": "code",
   "execution_count": null,
   "metadata": {
    "colab": {
     "base_uri": "https://localhost:8080/",
     "height": 35
    },
    "id": "fh6kRHUvVu17",
    "outputId": "cd80ad11-0a0a-4614-c751-0a20f56493f2"
   },
   "outputs": [],
   "source": [
    "nom.capitalize()"
   ]
  },
  {
   "cell_type": "code",
   "execution_count": null,
   "metadata": {
    "id": "hm8fkcUQVul4"
   },
   "outputs": [],
   "source": [
    "blabla = \"dnsbgshfhusbdhgkhjbgjfr\""
   ]
  },
  {
   "cell_type": "code",
   "execution_count": null,
   "metadata": {
    "colab": {
     "base_uri": "https://localhost:8080/"
    },
    "id": "mXM7DUTmUHDa",
    "outputId": "e7fcb8e3-3a26-4946-cb96-470d195e95f3"
   },
   "outputs": [],
   "source": [
    "blabla.find(\"h\")"
   ]
  },
  {
   "cell_type": "code",
   "execution_count": null,
   "metadata": {
    "colab": {
     "base_uri": "https://localhost:8080/"
    },
    "id": "Y0Z3BgWJXKoh",
    "outputId": "967b1217-b4a4-4cba-9c36-e4d72cf605fe"
   },
   "outputs": [],
   "source": [
    "blabla.count(\"h\")"
   ]
  },
  {
   "cell_type": "code",
   "execution_count": null,
   "metadata": {
    "colab": {
     "base_uri": "https://localhost:8080/"
    },
    "id": "daSR2JEKXKcj",
    "outputId": "54e92931-3329-4c0e-9bd6-5a5318c869f4"
   },
   "outputs": [],
   "source": [
    "\" \".isspace()"
   ]
  },
  {
   "cell_type": "code",
   "execution_count": null,
   "metadata": {
    "id": "1GMK1oIXXKN4"
   },
   "outputs": [],
   "source": []
  },
  {
   "cell_type": "code",
   "execution_count": null,
   "metadata": {
    "id": "47eeYuLRUHRy"
   },
   "outputs": [],
   "source": []
  },
  {
   "cell_type": "markdown",
   "metadata": {
    "id": "Xzg4vGhxJsse"
   },
   "source": [
    "# Recevoir des données de l'utilisateur"
   ]
  },
  {
   "cell_type": "code",
   "execution_count": null,
   "metadata": {
    "colab": {
     "base_uri": "https://localhost:8080/"
    },
    "id": "qE3EC_ZwXhsE",
    "outputId": "1b7ea0a0-b3cd-4ee9-c9b9-2eb1a25e1ee4"
   },
   "outputs": [],
   "source": [
    "nom = input(\"Quel est ton nom : \")"
   ]
  },
  {
   "cell_type": "code",
   "execution_count": null,
   "metadata": {
    "colab": {
     "base_uri": "https://localhost:8080/",
     "height": 35
    },
    "id": "UEgxxTMtXhfR",
    "outputId": "e053fa7a-a520-49d4-fa45-ecaba9ce4cca"
   },
   "outputs": [],
   "source": [
    "nom"
   ]
  },
  {
   "cell_type": "code",
   "execution_count": null,
   "metadata": {
    "colab": {
     "base_uri": "https://localhost:8080/"
    },
    "id": "-gBY4lw9XtY3",
    "outputId": "f1d1b3e8-cd34-4313-c9d6-ef9a2eb278ae"
   },
   "outputs": [],
   "source": [
    "username = input(\"Quel est ton nom d'utilisateur: \")\n",
    "password = input(\"Quel est ton mot de passe: \")\n",
    "print(\"Bonjour \",username, \" Votre mot de passe n'est pas sécurisé pour le moment. Je peux le lire, c'est : \", password)"
   ]
  },
  {
   "cell_type": "code",
   "execution_count": null,
   "metadata": {
    "colab": {
     "base_uri": "https://localhost:8080/"
    },
    "id": "Znw6THBxXtIg",
    "outputId": "6cdc2084-24ff-4dfb-86c3-3e91489c0d7f"
   },
   "outputs": [],
   "source": [
    "print(\"hhb\", username, \"jhvhd\", 15+12, \"bjgj\")"
   ]
  },
  {
   "cell_type": "code",
   "execution_count": null,
   "metadata": {
    "colab": {
     "base_uri": "https://localhost:8080/"
    },
    "id": "sNuby1vwXhRx",
    "outputId": "696cf975-2563-4e92-e368-67c04bd83671"
   },
   "outputs": [],
   "source": [
    "username = input(\"Quel est ton nom d'utilisateur: \")\n",
    "password = input(\"Quel est ton mot de passe: \")\n",
    "message = f\"Bonjour {username}. Votre mot de passe n'est pas sécurisé pour le moment. Je peux le lire, c'est :  {password}\"\n",
    "print(message)"
   ]
  },
  {
   "cell_type": "code",
   "execution_count": null,
   "metadata": {
    "colab": {
     "base_uri": "https://localhost:8080/"
    },
    "id": "7MVY7xnPXhDV",
    "outputId": "40381dec-8e8a-4693-ff86-930a2c8cb2a7"
   },
   "outputs": [],
   "source": [
    "age = input(\"Quel est ton age: \")"
   ]
  },
  {
   "cell_type": "code",
   "execution_count": null,
   "metadata": {
    "id": "dSoth5YpZrd3"
   },
   "outputs": [],
   "source": [
    "?input"
   ]
  },
  {
   "cell_type": "code",
   "execution_count": null,
   "metadata": {
    "colab": {
     "base_uri": "https://localhost:8080/"
    },
    "id": "fVT-QrktXg0t",
    "outputId": "f1c18b8f-bf9a-4aa9-b42f-6b224ec3eddd"
   },
   "outputs": [],
   "source": [
    "type(age)"
   ]
  },
  {
   "cell_type": "code",
   "execution_count": null,
   "metadata": {
    "colab": {
     "base_uri": "https://localhost:8080/",
     "height": 35
    },
    "id": "GhBwgKkhXglD",
    "outputId": "d150e47b-102d-435f-810e-7a2076f75292"
   },
   "outputs": [],
   "source": [
    "age"
   ]
  },
  {
   "cell_type": "code",
   "execution_count": null,
   "metadata": {
    "id": "cSTNTHJ1ZmHJ"
   },
   "outputs": [],
   "source": [
    "age = int(age)"
   ]
  },
  {
   "cell_type": "code",
   "execution_count": null,
   "metadata": {
    "colab": {
     "base_uri": "https://localhost:8080/"
    },
    "id": "ic4-JiyPZl7B",
    "outputId": "bf757691-2761-44ff-94d7-ef88d2187c0e"
   },
   "outputs": [],
   "source": [
    "age"
   ]
  },
  {
   "cell_type": "code",
   "execution_count": null,
   "metadata": {
    "id": "DPJXpZzwZluE"
   },
   "outputs": [],
   "source": []
  },
  {
   "cell_type": "code",
   "execution_count": null,
   "metadata": {
    "colab": {
     "base_uri": "https://localhost:8080/",
     "height": 178
    },
    "id": "dUg3MmIgZlgN",
    "outputId": "f5610b17-628f-4488-dec7-7e60c7a07584"
   },
   "outputs": [],
   "source": [
    "age = int(input(\"Quel est ton age: \"))"
   ]
  },
  {
   "cell_type": "code",
   "execution_count": null,
   "metadata": {
    "colab": {
     "base_uri": "https://localhost:8080/"
    },
    "id": "GF2PxNKMJsse",
    "outputId": "f006939f-db62-4ecf-cce1-a6145cc9c15f"
   },
   "outputs": [],
   "source": [
    "age = int(input(\"Quel est ton age: \"))"
   ]
  },
  {
   "cell_type": "code",
   "execution_count": null,
   "metadata": {
    "colab": {
     "base_uri": "https://localhost:8080/"
    },
    "id": "23GXk-3zJsse",
    "outputId": "c79919de-4c3f-4f75-ecce-9b760b7b4fc4"
   },
   "outputs": [],
   "source": [
    "age"
   ]
  },
  {
   "cell_type": "code",
   "execution_count": null,
   "metadata": {
    "id": "FiIrNY57aPyr"
   },
   "outputs": [],
   "source": []
  },
  {
   "cell_type": "code",
   "execution_count": null,
   "metadata": {
    "id": "uYp5n2OSaPke"
   },
   "outputs": [],
   "source": [
    "username = input(\"Quel est ton nom d'utilisateur: \")\n",
    "password = input(\"Quel est ton mot de passe: \")\n",
    "second_password = \"\"\n",
    "print(\"Bonjour \",username, \" Votre mot de passe n'est pas sécurisé pour le moment. Je peux le lire, c'est : \", password)"
   ]
  },
  {
   "cell_type": "code",
   "execution_count": null,
   "metadata": {
    "id": "S3hLoSHZa3SC"
   },
   "outputs": [],
   "source": []
  },
  {
   "cell_type": "code",
   "execution_count": null,
   "metadata": {
    "id": "vf3Id-Y_a3CD"
   },
   "outputs": [],
   "source": []
  },
  {
   "cell_type": "code",
   "execution_count": null,
   "metadata": {
    "id": "mmY-a6YXa2vC"
   },
   "outputs": [],
   "source": []
  },
  {
   "cell_type": "code",
   "execution_count": null,
   "metadata": {
    "id": "k6JWyTBKab5M"
   },
   "outputs": [],
   "source": []
  },
  {
   "cell_type": "code",
   "execution_count": null,
   "metadata": {
    "id": "ZoRQUMsWabmv"
   },
   "outputs": [],
   "source": []
  },
  {
   "cell_type": "code",
   "execution_count": null,
   "metadata": {
    "id": "xZYzrcN1Jsse"
   },
   "outputs": [],
   "source": []
  },
  {
   "cell_type": "markdown",
   "metadata": {
    "id": "CdbAQKACJsse"
   },
   "source": [
    "# Mon programme prend des décisions"
   ]
  },
  {
   "cell_type": "markdown",
   "metadata": {
    "id": "UrWUep6IJssf"
   },
   "source": [
    "## Conditions"
   ]
  },
  {
   "cell_type": "code",
   "execution_count": null,
   "metadata": {
    "id": "nuKBnJy0Jssf"
   },
   "outputs": [],
   "source": []
  },
  {
   "cell_type": "markdown",
   "metadata": {
    "id": "rNFgqOt5Jssf"
   },
   "source": [
    "## Si ..."
   ]
  },
  {
   "cell_type": "code",
   "execution_count": null,
   "metadata": {
    "id": "DtGCThCBJssf"
   },
   "outputs": [],
   "source": []
  },
  {
   "cell_type": "code",
   "execution_count": null,
   "metadata": {
    "id": "hO-OM8irJssf"
   },
   "outputs": [],
   "source": []
  },
  {
   "cell_type": "markdown",
   "metadata": {
    "id": "gyxByX0fJssg"
   },
   "source": [
    "## Répeter un comportement"
   ]
  },
  {
   "cell_type": "code",
   "execution_count": null,
   "metadata": {
    "id": "UK0ae8e4Jssg"
   },
   "outputs": [],
   "source": []
  },
  {
   "cell_type": "code",
   "execution_count": null,
   "metadata": {
    "id": "qEIjcEZJJssg"
   },
   "outputs": [],
   "source": []
  },
  {
   "cell_type": "markdown",
   "metadata": {
    "id": "ZDQdM4YaJssg"
   },
   "source": [
    "## Tant que "
   ]
  },
  {
   "cell_type": "code",
   "execution_count": null,
   "metadata": {
    "id": "DDxZs_qSJssg"
   },
   "outputs": [],
   "source": []
  },
  {
   "cell_type": "code",
   "execution_count": null,
   "metadata": {
    "id": "xdZoTJ2dJssg"
   },
   "outputs": [],
   "source": []
  },
  {
   "cell_type": "code",
   "execution_count": null,
   "metadata": {
    "id": "7VxEFiT2Jssh"
   },
   "outputs": [],
   "source": []
  },
  {
   "cell_type": "markdown",
   "metadata": {
    "id": "DVTPmC8pJssh"
   },
   "source": [
    "# Les fonctions et Modules en Python"
   ]
  },
  {
   "cell_type": "code",
   "execution_count": null,
   "metadata": {
    "id": "ZCUHQmUaJssh"
   },
   "outputs": [],
   "source": []
  },
  {
   "cell_type": "code",
   "execution_count": null,
   "metadata": {
    "id": "kksFHXJ5Jssh"
   },
   "outputs": [],
   "source": []
  },
  {
   "cell_type": "code",
   "execution_count": null,
   "metadata": {
    "id": "dgDYUr6fJssh"
   },
   "outputs": [],
   "source": []
  },
  {
   "cell_type": "markdown",
   "metadata": {
    "id": "Uv6ybvB1Jssh"
   },
   "source": [
    "# Manipuler les fichiers en Python"
   ]
  },
  {
   "cell_type": "code",
   "execution_count": null,
   "metadata": {
    "id": "wDAExVePJssi"
   },
   "outputs": [],
   "source": []
  },
  {
   "cell_type": "code",
   "execution_count": null,
   "metadata": {
    "id": "4tBa8vAmJssi"
   },
   "outputs": [],
   "source": []
  },
  {
   "cell_type": "markdown",
   "metadata": {
    "id": "SKzJMhiFJssi"
   },
   "source": [
    "# Ecrire Python avec Classe"
   ]
  },
  {
   "cell_type": "code",
   "execution_count": null,
   "metadata": {
    "id": "gUoBXjFEJssi"
   },
   "outputs": [],
   "source": []
  },
  {
   "cell_type": "code",
   "execution_count": null,
   "metadata": {
    "id": "LLWbHxYfJssi"
   },
   "outputs": [],
   "source": []
  },
  {
   "cell_type": "code",
   "execution_count": null,
   "metadata": {
    "id": "tz1CWNJqJssj"
   },
   "outputs": [],
   "source": []
  },
  {
   "cell_type": "markdown",
   "metadata": {
    "id": "cvq7kd2JJssj"
   },
   "source": [
    "# Exercices"
   ]
  },
  {
   "cell_type": "code",
   "execution_count": null,
   "metadata": {
    "id": "Ps2q_qZIJssj"
   },
   "outputs": [],
   "source": []
  },
  {
   "cell_type": "code",
   "execution_count": null,
   "metadata": {
    "id": "eua1rALNToDA"
   },
   "outputs": [],
   "source": []
  }
 ],
 "metadata": {
  "colab": {
   "name": "01_Les Bases_de_Python.ipynb",
   "provenance": [],
   "toc_visible": true
  },
  "kernelspec": {
   "display_name": "Python 3",
   "language": "python",
   "name": "python3"
  },
  "language_info": {
   "codemirror_mode": {
    "name": "ipython",
    "version": 3
   },
   "file_extension": ".py",
   "mimetype": "text/x-python",
   "name": "python",
   "nbconvert_exporter": "python",
   "pygments_lexer": "ipython3",
   "version": "3.8.5"
  },
  "toc": {
   "base_numbering": 1,
   "nav_menu": {},
   "number_sections": true,
   "sideBar": true,
   "skip_h1_title": false,
   "title_cell": "Table of Contents",
   "title_sidebar": "Contents",
   "toc_cell": false,
   "toc_position": {},
   "toc_section_display": true,
   "toc_window_display": false
  },
  "varInspector": {
   "cols": {
    "lenName": 16,
    "lenType": 16,
    "lenVar": 40
   },
   "kernels_config": {
    "python": {
     "delete_cmd_postfix": "",
     "delete_cmd_prefix": "del ",
     "library": "var_list.py",
     "varRefreshCmd": "print(var_dic_list())"
    },
    "r": {
     "delete_cmd_postfix": ") ",
     "delete_cmd_prefix": "rm(",
     "library": "var_list.r",
     "varRefreshCmd": "cat(var_dic_list()) "
    }
   },
   "types_to_exclude": [
    "module",
    "function",
    "builtin_function_or_method",
    "instance",
    "_Feature"
   ],
   "window_display": false
  }
 },
 "nbformat": 4,
 "nbformat_minor": 1
}
